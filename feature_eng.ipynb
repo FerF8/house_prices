{
 "cells": [
  {
   "cell_type": "code",
   "execution_count": 1,
   "metadata": {},
   "outputs": [],
   "source": [
    "import pandas as pd\n",
    "import numpy as np"
   ]
  },
  {
   "cell_type": "code",
   "execution_count": 149,
   "metadata": {},
   "outputs": [],
   "source": [
    "from sklearn.compose import ColumnTransformer\n",
    "from sklearn.impute import SimpleImputer\n",
    "from sklearn.model_selection import RandomizedSearchCV, train_test_split, GridSearchCV\n",
    "from sklearn.pipeline import Pipeline\n",
    "from sklearn.preprocessing import OneHotEncoder, StandardScaler\n",
    "from sklearn.tree import DecisionTreeClassifier\n",
    "from sklearn.linear_model import LinearRegression\n",
    "from sklearn.metrics import mean_absolute_error, mean_squared_error, accuracy_score\n",
    "import matplotlib.pyplot as plt\n",
    "import numpy as np\n",
    "import pandas as pd\n",
    "import scipy\n",
    "import matplotlib.pyplot as plt\n"
   ]
  },
  {
   "cell_type": "code",
   "execution_count": 172,
   "metadata": {},
   "outputs": [],
   "source": [
    "#this function takes all the numerical features and deals with the high and low outliers\n",
    "def moniakq(df):\n",
    "    num_feat = df.select_dtypes(include='number').columns.tolist()\n",
    "    for feat in num_feat:\n",
    "        q1 = df[feat].quantile(0.25)\n",
    "        q3 = df[feat].quantile(0.75)\n",
    "        iqr = q3-q1\n",
    "        outer_fence = 1.5*iqr\n",
    "        outer_fence_le = q1-outer_fence\n",
    "        outer_fence_ue = q3+outer_fence\n",
    "        df.loc[df[feat]>outer_fence_ue,feat]=outer_fence_ue\n",
    "        df.loc[df[feat]<outer_fence_le,feat]=outer_fence_le\n",
    "    return df\n",
    "\n",
    "    "
   ]
  },
  {
   "cell_type": "code",
   "execution_count": 47,
   "metadata": {},
   "outputs": [],
   "source": [
    "train_df=pd.read_csv('train.csv')\n",
    "test_df=pd.read_csv('test.csv')"
   ]
  },
  {
   "attachments": {},
   "cell_type": "markdown",
   "metadata": {},
   "source": [
    "#### Outliers function testing"
   ]
  },
  {
   "cell_type": "code",
   "execution_count": 167,
   "metadata": {},
   "outputs": [],
   "source": [
    "df1=train_df[['LotFrontage','LotArea','MSZoning']]"
   ]
  },
  {
   "cell_type": "code",
   "execution_count": 168,
   "metadata": {},
   "outputs": [
    {
     "data": {
      "text/html": [
       "<div>\n",
       "<style scoped>\n",
       "    .dataframe tbody tr th:only-of-type {\n",
       "        vertical-align: middle;\n",
       "    }\n",
       "\n",
       "    .dataframe tbody tr th {\n",
       "        vertical-align: top;\n",
       "    }\n",
       "\n",
       "    .dataframe thead th {\n",
       "        text-align: right;\n",
       "    }\n",
       "</style>\n",
       "<table border=\"1\" class=\"dataframe\">\n",
       "  <thead>\n",
       "    <tr style=\"text-align: right;\">\n",
       "      <th></th>\n",
       "      <th>LotFrontage</th>\n",
       "      <th>LotArea</th>\n",
       "      <th>MSZoning</th>\n",
       "    </tr>\n",
       "  </thead>\n",
       "  <tbody>\n",
       "    <tr>\n",
       "      <th>0</th>\n",
       "      <td>65.0</td>\n",
       "      <td>8450</td>\n",
       "      <td>RL</td>\n",
       "    </tr>\n",
       "    <tr>\n",
       "      <th>1</th>\n",
       "      <td>80.0</td>\n",
       "      <td>9600</td>\n",
       "      <td>RL</td>\n",
       "    </tr>\n",
       "    <tr>\n",
       "      <th>2</th>\n",
       "      <td>68.0</td>\n",
       "      <td>11250</td>\n",
       "      <td>RL</td>\n",
       "    </tr>\n",
       "    <tr>\n",
       "      <th>3</th>\n",
       "      <td>60.0</td>\n",
       "      <td>9550</td>\n",
       "      <td>RL</td>\n",
       "    </tr>\n",
       "    <tr>\n",
       "      <th>4</th>\n",
       "      <td>84.0</td>\n",
       "      <td>14260</td>\n",
       "      <td>RL</td>\n",
       "    </tr>\n",
       "  </tbody>\n",
       "</table>\n",
       "</div>"
      ],
      "text/plain": [
       "   LotFrontage  LotArea MSZoning\n",
       "0         65.0     8450       RL\n",
       "1         80.0     9600       RL\n",
       "2         68.0    11250       RL\n",
       "3         60.0     9550       RL\n",
       "4         84.0    14260       RL"
      ]
     },
     "execution_count": 168,
     "metadata": {},
     "output_type": "execute_result"
    }
   ],
   "source": [
    "df1.head()"
   ]
  },
  {
   "cell_type": "code",
   "execution_count": 169,
   "metadata": {},
   "outputs": [],
   "source": [
    "df2=moniakq(df1)"
   ]
  },
  {
   "cell_type": "code",
   "execution_count": 170,
   "metadata": {},
   "outputs": [
    {
     "data": {
      "text/html": [
       "<div>\n",
       "<style scoped>\n",
       "    .dataframe tbody tr th:only-of-type {\n",
       "        vertical-align: middle;\n",
       "    }\n",
       "\n",
       "    .dataframe tbody tr th {\n",
       "        vertical-align: top;\n",
       "    }\n",
       "\n",
       "    .dataframe thead th {\n",
       "        text-align: right;\n",
       "    }\n",
       "</style>\n",
       "<table border=\"1\" class=\"dataframe\">\n",
       "  <thead>\n",
       "    <tr style=\"text-align: right;\">\n",
       "      <th></th>\n",
       "      <th>LotFrontage</th>\n",
       "      <th>LotArea</th>\n",
       "      <th>MSZoning</th>\n",
       "    </tr>\n",
       "  </thead>\n",
       "  <tbody>\n",
       "    <tr>\n",
       "      <th>0</th>\n",
       "      <td>65.0</td>\n",
       "      <td>8450.0</td>\n",
       "      <td>RL</td>\n",
       "    </tr>\n",
       "    <tr>\n",
       "      <th>1</th>\n",
       "      <td>80.0</td>\n",
       "      <td>9600.0</td>\n",
       "      <td>RL</td>\n",
       "    </tr>\n",
       "    <tr>\n",
       "      <th>2</th>\n",
       "      <td>68.0</td>\n",
       "      <td>11250.0</td>\n",
       "      <td>RL</td>\n",
       "    </tr>\n",
       "    <tr>\n",
       "      <th>3</th>\n",
       "      <td>60.0</td>\n",
       "      <td>9550.0</td>\n",
       "      <td>RL</td>\n",
       "    </tr>\n",
       "    <tr>\n",
       "      <th>4</th>\n",
       "      <td>84.0</td>\n",
       "      <td>14260.0</td>\n",
       "      <td>RL</td>\n",
       "    </tr>\n",
       "    <tr>\n",
       "      <th>...</th>\n",
       "      <td>...</td>\n",
       "      <td>...</td>\n",
       "      <td>...</td>\n",
       "    </tr>\n",
       "    <tr>\n",
       "      <th>1455</th>\n",
       "      <td>62.0</td>\n",
       "      <td>7917.0</td>\n",
       "      <td>RL</td>\n",
       "    </tr>\n",
       "    <tr>\n",
       "      <th>1456</th>\n",
       "      <td>85.0</td>\n",
       "      <td>13175.0</td>\n",
       "      <td>RL</td>\n",
       "    </tr>\n",
       "    <tr>\n",
       "      <th>1457</th>\n",
       "      <td>66.0</td>\n",
       "      <td>9042.0</td>\n",
       "      <td>RL</td>\n",
       "    </tr>\n",
       "    <tr>\n",
       "      <th>1458</th>\n",
       "      <td>68.0</td>\n",
       "      <td>9717.0</td>\n",
       "      <td>RL</td>\n",
       "    </tr>\n",
       "    <tr>\n",
       "      <th>1459</th>\n",
       "      <td>75.0</td>\n",
       "      <td>9937.0</td>\n",
       "      <td>RL</td>\n",
       "    </tr>\n",
       "  </tbody>\n",
       "</table>\n",
       "<p>1460 rows × 3 columns</p>\n",
       "</div>"
      ],
      "text/plain": [
       "      LotFrontage  LotArea MSZoning\n",
       "0            65.0   8450.0       RL\n",
       "1            80.0   9600.0       RL\n",
       "2            68.0  11250.0       RL\n",
       "3            60.0   9550.0       RL\n",
       "4            84.0  14260.0       RL\n",
       "...           ...      ...      ...\n",
       "1455         62.0   7917.0       RL\n",
       "1456         85.0  13175.0       RL\n",
       "1457         66.0   9042.0       RL\n",
       "1458         68.0   9717.0       RL\n",
       "1459         75.0   9937.0       RL\n",
       "\n",
       "[1460 rows x 3 columns]"
      ]
     },
     "execution_count": 170,
     "metadata": {},
     "output_type": "execute_result"
    }
   ],
   "source": [
    "df2"
   ]
  },
  {
   "cell_type": "code",
   "execution_count": 224,
   "metadata": {},
   "outputs": [
    {
     "data": {
      "text/plain": [
       "<AxesSubplot: >"
      ]
     },
     "execution_count": 224,
     "metadata": {},
     "output_type": "execute_result"
    },
    {
     "data": {
      "image/png": "[encoded data removed]",
      "text/plain": [
       "<Figure size 640x480 with 1 Axes>"
      ]
     },
     "metadata": {},
     "output_type": "display_data"
    }
   ],
   "source": [
    "train_df.boxplot(column=['LotArea'])"
   ]
  },
  {
   "cell_type": "code",
   "execution_count": 223,
   "metadata": {},
   "outputs": [
    {
     "data": {
      "text/plain": [
       "<AxesSubplot: >"
      ]
     },
     "execution_count": 223,
     "metadata": {},
     "output_type": "execute_result"
    },
    {
     "data": {
      "image/png": "[encoded data removed]",
      "text/plain": [
       "<Figure size 640x480 with 1 Axes>"
      ]
     },
     "metadata": {},
     "output_type": "display_data"
    }
   ],
   "source": [
    "df2.boxplot(column=['LotArea'])"
   ]
  },
  {
   "attachments": {},
   "cell_type": "markdown",
   "metadata": {},
   "source": [
    "#### Feature engineering"
   ]
  },
  {
   "cell_type": "code",
   "execution_count": 49,
   "metadata": {},
   "outputs": [
    {
     "data": {
      "text/plain": [
       "(1460, 81)"
      ]
     },
     "execution_count": 49,
     "metadata": {},
     "output_type": "execute_result"
    }
   ],
   "source": [
    "train_df.shape"
   ]
  },
  {
   "cell_type": "code",
   "execution_count": 175,
   "metadata": {},
   "outputs": [],
   "source": [
    "X=train_df.drop(columns=['SalePrice'])\n",
    "y=train_df['SalePrice']"
   ]
  },
  {
   "cell_type": "code",
   "execution_count": 176,
   "metadata": {},
   "outputs": [
    {
     "data": {
      "text/html": [
       "<div>\n",
       "<style scoped>\n",
       "    .dataframe tbody tr th:only-of-type {\n",
       "        vertical-align: middle;\n",
       "    }\n",
       "\n",
       "    .dataframe tbody tr th {\n",
       "        vertical-align: top;\n",
       "    }\n",
       "\n",
       "    .dataframe thead th {\n",
       "        text-align: right;\n",
       "    }\n",
       "</style>\n",
       "<table border=\"1\" class=\"dataframe\">\n",
       "  <thead>\n",
       "    <tr style=\"text-align: right;\">\n",
       "      <th></th>\n",
       "      <th>Id</th>\n",
       "      <th>MSSubClass</th>\n",
       "      <th>MSZoning</th>\n",
       "      <th>LotFrontage</th>\n",
       "      <th>LotArea</th>\n",
       "      <th>Street</th>\n",
       "      <th>Alley</th>\n",
       "      <th>LotShape</th>\n",
       "      <th>LandContour</th>\n",
       "      <th>Utilities</th>\n",
       "      <th>...</th>\n",
       "      <th>ScreenPorch</th>\n",
       "      <th>PoolArea</th>\n",
       "      <th>PoolQC</th>\n",
       "      <th>Fence</th>\n",
       "      <th>MiscFeature</th>\n",
       "      <th>MiscVal</th>\n",
       "      <th>MoSold</th>\n",
       "      <th>YrSold</th>\n",
       "      <th>SaleType</th>\n",
       "      <th>SaleCondition</th>\n",
       "    </tr>\n",
       "  </thead>\n",
       "  <tbody>\n",
       "    <tr>\n",
       "      <th>0</th>\n",
       "      <td>1</td>\n",
       "      <td>60</td>\n",
       "      <td>RL</td>\n",
       "      <td>65.0</td>\n",
       "      <td>8450</td>\n",
       "      <td>Pave</td>\n",
       "      <td>NaN</td>\n",
       "      <td>Reg</td>\n",
       "      <td>Lvl</td>\n",
       "      <td>AllPub</td>\n",
       "      <td>...</td>\n",
       "      <td>0</td>\n",
       "      <td>0</td>\n",
       "      <td>NaN</td>\n",
       "      <td>NaN</td>\n",
       "      <td>NaN</td>\n",
       "      <td>0</td>\n",
       "      <td>2</td>\n",
       "      <td>2008</td>\n",
       "      <td>WD</td>\n",
       "      <td>Normal</td>\n",
       "    </tr>\n",
       "    <tr>\n",
       "      <th>1</th>\n",
       "      <td>2</td>\n",
       "      <td>20</td>\n",
       "      <td>RL</td>\n",
       "      <td>80.0</td>\n",
       "      <td>9600</td>\n",
       "      <td>Pave</td>\n",
       "      <td>NaN</td>\n",
       "      <td>Reg</td>\n",
       "      <td>Lvl</td>\n",
       "      <td>AllPub</td>\n",
       "      <td>...</td>\n",
       "      <td>0</td>\n",
       "      <td>0</td>\n",
       "      <td>NaN</td>\n",
       "      <td>NaN</td>\n",
       "      <td>NaN</td>\n",
       "      <td>0</td>\n",
       "      <td>5</td>\n",
       "      <td>2007</td>\n",
       "      <td>WD</td>\n",
       "      <td>Normal</td>\n",
       "    </tr>\n",
       "    <tr>\n",
       "      <th>2</th>\n",
       "      <td>3</td>\n",
       "      <td>60</td>\n",
       "      <td>RL</td>\n",
       "      <td>68.0</td>\n",
       "      <td>11250</td>\n",
       "      <td>Pave</td>\n",
       "      <td>NaN</td>\n",
       "      <td>IR1</td>\n",
       "      <td>Lvl</td>\n",
       "      <td>AllPub</td>\n",
       "      <td>...</td>\n",
       "      <td>0</td>\n",
       "      <td>0</td>\n",
       "      <td>NaN</td>\n",
       "      <td>NaN</td>\n",
       "      <td>NaN</td>\n",
       "      <td>0</td>\n",
       "      <td>9</td>\n",
       "      <td>2008</td>\n",
       "      <td>WD</td>\n",
       "      <td>Normal</td>\n",
       "    </tr>\n",
       "    <tr>\n",
       "      <th>3</th>\n",
       "      <td>4</td>\n",
       "      <td>70</td>\n",
       "      <td>RL</td>\n",
       "      <td>60.0</td>\n",
       "      <td>9550</td>\n",
       "      <td>Pave</td>\n",
       "      <td>NaN</td>\n",
       "      <td>IR1</td>\n",
       "      <td>Lvl</td>\n",
       "      <td>AllPub</td>\n",
       "      <td>...</td>\n",
       "      <td>0</td>\n",
       "      <td>0</td>\n",
       "      <td>NaN</td>\n",
       "      <td>NaN</td>\n",
       "      <td>NaN</td>\n",
       "      <td>0</td>\n",
       "      <td>2</td>\n",
       "      <td>2006</td>\n",
       "      <td>WD</td>\n",
       "      <td>Abnorml</td>\n",
       "    </tr>\n",
       "    <tr>\n",
       "      <th>4</th>\n",
       "      <td>5</td>\n",
       "      <td>60</td>\n",
       "      <td>RL</td>\n",
       "      <td>84.0</td>\n",
       "      <td>14260</td>\n",
       "      <td>Pave</td>\n",
       "      <td>NaN</td>\n",
       "      <td>IR1</td>\n",
       "      <td>Lvl</td>\n",
       "      <td>AllPub</td>\n",
       "      <td>...</td>\n",
       "      <td>0</td>\n",
       "      <td>0</td>\n",
       "      <td>NaN</td>\n",
       "      <td>NaN</td>\n",
       "      <td>NaN</td>\n",
       "      <td>0</td>\n",
       "      <td>12</td>\n",
       "      <td>2008</td>\n",
       "      <td>WD</td>\n",
       "      <td>Normal</td>\n",
       "    </tr>\n",
       "  </tbody>\n",
       "</table>\n",
       "<p>5 rows × 80 columns</p>\n",
       "</div>"
      ],
      "text/plain": [
       "   Id  MSSubClass MSZoning  LotFrontage  LotArea Street Alley LotShape  \\\n",
       "0   1          60       RL         65.0     8450   Pave   NaN      Reg   \n",
       "1   2          20       RL         80.0     9600   Pave   NaN      Reg   \n",
       "2   3          60       RL         68.0    11250   Pave   NaN      IR1   \n",
       "3   4          70       RL         60.0     9550   Pave   NaN      IR1   \n",
       "4   5          60       RL         84.0    14260   Pave   NaN      IR1   \n",
       "\n",
       "  LandContour Utilities  ... ScreenPorch PoolArea PoolQC Fence MiscFeature  \\\n",
       "0         Lvl    AllPub  ...           0        0    NaN   NaN         NaN   \n",
       "1         Lvl    AllPub  ...           0        0    NaN   NaN         NaN   \n",
       "2         Lvl    AllPub  ...           0        0    NaN   NaN         NaN   \n",
       "3         Lvl    AllPub  ...           0        0    NaN   NaN         NaN   \n",
       "4         Lvl    AllPub  ...           0        0    NaN   NaN         NaN   \n",
       "\n",
       "  MiscVal MoSold  YrSold  SaleType  SaleCondition  \n",
       "0       0      2    2008        WD         Normal  \n",
       "1       0      5    2007        WD         Normal  \n",
       "2       0      9    2008        WD         Normal  \n",
       "3       0      2    2006        WD        Abnorml  \n",
       "4       0     12    2008        WD         Normal  \n",
       "\n",
       "[5 rows x 80 columns]"
      ]
     },
     "execution_count": 176,
     "metadata": {},
     "output_type": "execute_result"
    }
   ],
   "source": [
    "X.head()"
   ]
  },
  {
   "cell_type": "code",
   "execution_count": 177,
   "metadata": {},
   "outputs": [],
   "source": [
    "X=moniakq(X)"
   ]
  },
  {
   "cell_type": "code",
   "execution_count": 226,
   "metadata": {},
   "outputs": [
    {
     "data": {
      "text/plain": [
       "<AxesSubplot: >"
      ]
     },
     "execution_count": 226,
     "metadata": {},
     "output_type": "execute_result"
    },
    {
     "data": {
      "image/png": "[encoded data removed]",
      "text/plain": [
       "<Figure size 640x480 with 1 Axes>"
      ]
     },
     "metadata": {},
     "output_type": "display_data"
    }
   ],
   "source": [
    "X.boxplot(column=['YrSold'])"
   ]
  },
  {
   "cell_type": "code",
   "execution_count": 178,
   "metadata": {},
   "outputs": [
    {
     "data": {
      "text/html": [
       "<div>\n",
       "<style scoped>\n",
       "    .dataframe tbody tr th:only-of-type {\n",
       "        vertical-align: middle;\n",
       "    }\n",
       "\n",
       "    .dataframe tbody tr th {\n",
       "        vertical-align: top;\n",
       "    }\n",
       "\n",
       "    .dataframe thead th {\n",
       "        text-align: right;\n",
       "    }\n",
       "</style>\n",
       "<table border=\"1\" class=\"dataframe\">\n",
       "  <thead>\n",
       "    <tr style=\"text-align: right;\">\n",
       "      <th></th>\n",
       "      <th>Id</th>\n",
       "      <th>MSSubClass</th>\n",
       "      <th>MSZoning</th>\n",
       "      <th>LotFrontage</th>\n",
       "      <th>LotArea</th>\n",
       "      <th>Street</th>\n",
       "      <th>Alley</th>\n",
       "      <th>LotShape</th>\n",
       "      <th>LandContour</th>\n",
       "      <th>Utilities</th>\n",
       "      <th>...</th>\n",
       "      <th>ScreenPorch</th>\n",
       "      <th>PoolArea</th>\n",
       "      <th>PoolQC</th>\n",
       "      <th>Fence</th>\n",
       "      <th>MiscFeature</th>\n",
       "      <th>MiscVal</th>\n",
       "      <th>MoSold</th>\n",
       "      <th>YrSold</th>\n",
       "      <th>SaleType</th>\n",
       "      <th>SaleCondition</th>\n",
       "    </tr>\n",
       "  </thead>\n",
       "  <tbody>\n",
       "    <tr>\n",
       "      <th>0</th>\n",
       "      <td>1.0</td>\n",
       "      <td>60</td>\n",
       "      <td>RL</td>\n",
       "      <td>65.0</td>\n",
       "      <td>8450.0</td>\n",
       "      <td>Pave</td>\n",
       "      <td>NaN</td>\n",
       "      <td>Reg</td>\n",
       "      <td>Lvl</td>\n",
       "      <td>AllPub</td>\n",
       "      <td>...</td>\n",
       "      <td>0</td>\n",
       "      <td>0</td>\n",
       "      <td>NaN</td>\n",
       "      <td>NaN</td>\n",
       "      <td>NaN</td>\n",
       "      <td>0</td>\n",
       "      <td>2.0</td>\n",
       "      <td>2008</td>\n",
       "      <td>WD</td>\n",
       "      <td>Normal</td>\n",
       "    </tr>\n",
       "    <tr>\n",
       "      <th>1</th>\n",
       "      <td>2.0</td>\n",
       "      <td>20</td>\n",
       "      <td>RL</td>\n",
       "      <td>80.0</td>\n",
       "      <td>9600.0</td>\n",
       "      <td>Pave</td>\n",
       "      <td>NaN</td>\n",
       "      <td>Reg</td>\n",
       "      <td>Lvl</td>\n",
       "      <td>AllPub</td>\n",
       "      <td>...</td>\n",
       "      <td>0</td>\n",
       "      <td>0</td>\n",
       "      <td>NaN</td>\n",
       "      <td>NaN</td>\n",
       "      <td>NaN</td>\n",
       "      <td>0</td>\n",
       "      <td>5.0</td>\n",
       "      <td>2007</td>\n",
       "      <td>WD</td>\n",
       "      <td>Normal</td>\n",
       "    </tr>\n",
       "    <tr>\n",
       "      <th>2</th>\n",
       "      <td>3.0</td>\n",
       "      <td>60</td>\n",
       "      <td>RL</td>\n",
       "      <td>68.0</td>\n",
       "      <td>11250.0</td>\n",
       "      <td>Pave</td>\n",
       "      <td>NaN</td>\n",
       "      <td>IR1</td>\n",
       "      <td>Lvl</td>\n",
       "      <td>AllPub</td>\n",
       "      <td>...</td>\n",
       "      <td>0</td>\n",
       "      <td>0</td>\n",
       "      <td>NaN</td>\n",
       "      <td>NaN</td>\n",
       "      <td>NaN</td>\n",
       "      <td>0</td>\n",
       "      <td>9.0</td>\n",
       "      <td>2008</td>\n",
       "      <td>WD</td>\n",
       "      <td>Normal</td>\n",
       "    </tr>\n",
       "    <tr>\n",
       "      <th>3</th>\n",
       "      <td>4.0</td>\n",
       "      <td>70</td>\n",
       "      <td>RL</td>\n",
       "      <td>60.0</td>\n",
       "      <td>9550.0</td>\n",
       "      <td>Pave</td>\n",
       "      <td>NaN</td>\n",
       "      <td>IR1</td>\n",
       "      <td>Lvl</td>\n",
       "      <td>AllPub</td>\n",
       "      <td>...</td>\n",
       "      <td>0</td>\n",
       "      <td>0</td>\n",
       "      <td>NaN</td>\n",
       "      <td>NaN</td>\n",
       "      <td>NaN</td>\n",
       "      <td>0</td>\n",
       "      <td>2.0</td>\n",
       "      <td>2006</td>\n",
       "      <td>WD</td>\n",
       "      <td>Abnorml</td>\n",
       "    </tr>\n",
       "    <tr>\n",
       "      <th>4</th>\n",
       "      <td>5.0</td>\n",
       "      <td>60</td>\n",
       "      <td>RL</td>\n",
       "      <td>84.0</td>\n",
       "      <td>14260.0</td>\n",
       "      <td>Pave</td>\n",
       "      <td>NaN</td>\n",
       "      <td>IR1</td>\n",
       "      <td>Lvl</td>\n",
       "      <td>AllPub</td>\n",
       "      <td>...</td>\n",
       "      <td>0</td>\n",
       "      <td>0</td>\n",
       "      <td>NaN</td>\n",
       "      <td>NaN</td>\n",
       "      <td>NaN</td>\n",
       "      <td>0</td>\n",
       "      <td>12.0</td>\n",
       "      <td>2008</td>\n",
       "      <td>WD</td>\n",
       "      <td>Normal</td>\n",
       "    </tr>\n",
       "  </tbody>\n",
       "</table>\n",
       "<p>5 rows × 80 columns</p>\n",
       "</div>"
      ],
      "text/plain": [
       "    Id  MSSubClass MSZoning  LotFrontage  LotArea Street Alley LotShape  \\\n",
       "0  1.0          60       RL         65.0   8450.0   Pave   NaN      Reg   \n",
       "1  2.0          20       RL         80.0   9600.0   Pave   NaN      Reg   \n",
       "2  3.0          60       RL         68.0  11250.0   Pave   NaN      IR1   \n",
       "3  4.0          70       RL         60.0   9550.0   Pave   NaN      IR1   \n",
       "4  5.0          60       RL         84.0  14260.0   Pave   NaN      IR1   \n",
       "\n",
       "  LandContour Utilities  ... ScreenPorch PoolArea PoolQC Fence MiscFeature  \\\n",
       "0         Lvl    AllPub  ...           0        0    NaN   NaN         NaN   \n",
       "1         Lvl    AllPub  ...           0        0    NaN   NaN         NaN   \n",
       "2         Lvl    AllPub  ...           0        0    NaN   NaN         NaN   \n",
       "3         Lvl    AllPub  ...           0        0    NaN   NaN         NaN   \n",
       "4         Lvl    AllPub  ...           0        0    NaN   NaN         NaN   \n",
       "\n",
       "  MiscVal MoSold  YrSold  SaleType  SaleCondition  \n",
       "0       0    2.0    2008        WD         Normal  \n",
       "1       0    5.0    2007        WD         Normal  \n",
       "2       0    9.0    2008        WD         Normal  \n",
       "3       0    2.0    2006        WD        Abnorml  \n",
       "4       0   12.0    2008        WD         Normal  \n",
       "\n",
       "[5 rows x 80 columns]"
      ]
     },
     "execution_count": 178,
     "metadata": {},
     "output_type": "execute_result"
    }
   ],
   "source": [
    "X.head()"
   ]
  },
  {
   "cell_type": "code",
   "execution_count": 179,
   "metadata": {},
   "outputs": [
    {
     "data": {
      "text/plain": [
       "0    208500\n",
       "1    181500\n",
       "2    223500\n",
       "3    140000\n",
       "4    250000\n",
       "Name: SalePrice, dtype: int64"
      ]
     },
     "execution_count": 179,
     "metadata": {},
     "output_type": "execute_result"
    }
   ],
   "source": [
    "y.head()"
   ]
  },
  {
   "cell_type": "code",
   "execution_count": 180,
   "metadata": {},
   "outputs": [],
   "source": [
    "#Looking for NaN\n",
    "isna=X.isna().sum()/X.shape[0]*100"
   ]
  },
  {
   "cell_type": "code",
   "execution_count": 181,
   "metadata": {},
   "outputs": [
    {
     "data": {
      "text/plain": [
       "LotFrontage     17.739726\n",
       "Alley           93.767123\n",
       "MasVnrType       0.547945\n",
       "MasVnrArea       0.547945\n",
       "BsmtQual         2.534247\n",
       "BsmtCond         2.534247\n",
       "BsmtExposure     2.602740\n",
       "BsmtFinType1     2.534247\n",
       "BsmtFinType2     2.602740\n",
       "Electrical       0.068493\n",
       "FireplaceQu     47.260274\n",
       "GarageType       5.547945\n",
       "GarageYrBlt      5.547945\n",
       "GarageFinish     5.547945\n",
       "GarageQual       5.547945\n",
       "GarageCond       5.547945\n",
       "PoolQC          99.520548\n",
       "Fence           80.753425\n",
       "MiscFeature     96.301370\n",
       "dtype: float64"
      ]
     },
     "execution_count": 181,
     "metadata": {},
     "output_type": "execute_result"
    }
   ],
   "source": [
    "isna[isna>0]"
   ]
  },
  {
   "attachments": {},
   "cell_type": "markdown",
   "metadata": {},
   "source": [
    "LotFrontage     17.739726   replace with int 0\n",
    "Alley           93.767123   replace with str no\n",
    "MasVnrType       0.547945   replace with str None\n",
    "MasVnrArea       0.547945   replace with int 0\n",
    "BsmtQual         2.534247   replace with str no\n",
    "BsmtCond         2.534247   replace with str no\n",
    "BsmtExposure     2.602740   replace with str no\n",
    "BsmtFinType1     2.534247   replace with str no\n",
    "BsmtFinType2     2.602740   replace with str no\n",
    "Electrical       0.068493   replace with str FuseF\n",
    "FireplaceQu     47.260274   replace with str no   \n",
    "GarageType       5.547945   replace with str no\n",
    "GarageYrBlt      5.547945   replace with 0\n",
    "GarageFinish     5.547945   replace with str no\n",
    "GarageQual       5.547945   replace with str no\n",
    "GarageCond       5.547945   replace with str no\n",
    "PoolQC          99.520548   drop\n",
    "Fence           80.753425   replace with str no\n",
    "MiscFeature     96.301370   drop"
   ]
  },
  {
   "cell_type": "code",
   "execution_count": 185,
   "metadata": {},
   "outputs": [
    {
     "data": {
      "text/plain": [
       "<AxesSubplot: >"
      ]
     },
     "execution_count": 185,
     "metadata": {},
     "output_type": "execute_result"
    },
    {
     "data": {
      "image/png": "[encoded data removed]",
      "text/plain": [
       "<Figure size 2500x1000 with 2 Axes>"
      ]
     },
     "metadata": {},
     "output_type": "display_data"
    }
   ],
   "source": [
    "import missingno as msno\n",
    "%matplotlib inline\n",
    "msno.matrix(X)"
   ]
  },
  {
   "cell_type": "code",
   "execution_count": 183,
   "metadata": {},
   "outputs": [],
   "source": [
    "#Dropping columns with too many NaNs\n",
    "X = X.drop(columns=['PoolQC','MiscFeature','Id'])"
   ]
  },
  {
   "cell_type": "code",
   "execution_count": 184,
   "metadata": {},
   "outputs": [],
   "source": [
    "\n",
    "#Imputing values manually given the nature of the data\n",
    "X['LotFrontage']=X['LotFrontage'].fillna(0)\n",
    "X['Alley']=X['BsmtQual'].fillna('no')\n",
    "X['MasVnrType']=X['MasVnrType'].fillna('None')\n",
    "X['MasVnrArea']=X['MasVnrArea'].fillna(0)\n",
    "X['BsmtQual']=X['BsmtQual'].fillna('no')\n",
    "X['BsmtCond']=X['BsmtCond'].fillna('no')\n",
    "X['BsmtExposure']=X['BsmtExposure'].fillna('no')\n",
    "X['BsmtFinType1']=X['BsmtFinType1'].fillna('no')\n",
    "X['BsmtFinType2']=X['BsmtFinType2'].fillna('no')\n",
    "X['Electrical']=X['Electrical'].fillna('FuseF')\n",
    "X['FireplaceQu']=X['FireplaceQu'].fillna('no')\n",
    "X['GarageType']=X['GarageType'].fillna('no')\n",
    "X['GarageYrBlt']=X['GarageYrBlt'].fillna(0)\n",
    "X['GarageFinish']=X['GarageFinish'].fillna('no')\n",
    "X['GarageQual']=X['GarageQual'].fillna('no')\n",
    "X['GarageCond']=X['GarageCond'].fillna('no')\n",
    "X['Fence']=X['Fence'].fillna('no')\n"
   ]
  },
  {
   "cell_type": "code",
   "execution_count": 58,
   "metadata": {},
   "outputs": [],
   "source": [
    "isna2=X.isna().sum()/X.shape[0]*100"
   ]
  },
  {
   "cell_type": "code",
   "execution_count": 59,
   "metadata": {},
   "outputs": [
    {
     "data": {
      "text/plain": [
       "Series([], dtype: float64)"
      ]
     },
     "execution_count": 59,
     "metadata": {},
     "output_type": "execute_result"
    }
   ],
   "source": [
    "isna2[isna2>0]"
   ]
  },
  {
   "cell_type": "code",
   "execution_count": 186,
   "metadata": {},
   "outputs": [
    {
     "name": "stdout",
     "output_type": "stream",
     "text": [
      "There are 36 numerical features: ['MSSubClass', 'LotFrontage', 'LotArea', 'OverallQual', 'OverallCond', 'YearBuilt', 'YearRemodAdd', 'MasVnrArea', 'BsmtFinSF1', 'BsmtFinSF2', 'BsmtUnfSF', 'TotalBsmtSF', '1stFlrSF', '2ndFlrSF', 'LowQualFinSF', 'GrLivArea', 'BsmtFullBath', 'BsmtHalfBath', 'FullBath', 'HalfBath', 'BedroomAbvGr', 'KitchenAbvGr', 'TotRmsAbvGrd', 'Fireplaces', 'GarageYrBlt', 'GarageCars', 'GarageArea', 'WoodDeckSF', 'OpenPorchSF', 'EnclosedPorch', '3SsnPorch', 'ScreenPorch', 'PoolArea', 'MiscVal', 'MoSold', 'YrSold']\n",
      "\n",
      "There are 41 string features: ['MSZoning', 'Street', 'Alley', 'LotShape', 'LandContour', 'Utilities', 'LotConfig', 'LandSlope', 'Neighborhood', 'Condition1', 'Condition2', 'BldgType', 'HouseStyle', 'RoofStyle', 'RoofMatl', 'Exterior1st', 'Exterior2nd', 'MasVnrType', 'ExterQual', 'ExterCond', 'Foundation', 'BsmtQual', 'BsmtCond', 'BsmtExposure', 'BsmtFinType1', 'BsmtFinType2', 'Heating', 'HeatingQC', 'CentralAir', 'Electrical', 'KitchenQual', 'Functional', 'FireplaceQu', 'GarageType', 'GarageFinish', 'GarageQual', 'GarageCond', 'PavedDrive', 'Fence', 'SaleType', 'SaleCondition']\n",
      "\n"
     ]
    }
   ],
   "source": [
    "numerical_features = X.select_dtypes(include='number').columns.tolist()\n",
    "print(f\"There are {len(numerical_features)} numerical features: {numerical_features}\\n\")\n",
    "\n",
    "string_features = X.select_dtypes(exclude='number').columns.tolist()\n",
    "print(f\"There are {len(string_features)} string features: {string_features}\\n\")"
   ]
  },
  {
   "attachments": {},
   "cell_type": "markdown",
   "metadata": {},
   "source": [
    "#### Aplying PCA to num features"
   ]
  },
  {
   "cell_type": "code",
   "execution_count": 187,
   "metadata": {},
   "outputs": [],
   "source": [
    "from sklearn.decomposition import PCA"
   ]
  },
  {
   "cell_type": "code",
   "execution_count": 188,
   "metadata": {},
   "outputs": [],
   "source": [
    "pca = PCA(n_components=0.999)\n",
    "X_pca = pca.fit_transform(X[numerical_features]) "
   ]
  },
  {
   "cell_type": "code",
   "execution_count": 189,
   "metadata": {},
   "outputs": [
    {
     "data": {
      "text/plain": [
       "array([  39.10624431,  195.18501364,  717.81621495, -235.37799785,\n",
       "         -7.55535907,  -79.8853436 ,  -78.67629664,  -69.08824539,\n",
       "        186.17259928,  -71.363098  ])"
      ]
     },
     "execution_count": 189,
     "metadata": {},
     "output_type": "execute_result"
    }
   ],
   "source": [
    "X_pca[1]"
   ]
  },
  {
   "cell_type": "code",
   "execution_count": 195,
   "metadata": {},
   "outputs": [],
   "source": [
    "X_pca=pd.DataFrame(X_pca,columns=['a','b','c','d','e','f','g','h','i','j'])"
   ]
  },
  {
   "cell_type": "code",
   "execution_count": 196,
   "metadata": {},
   "outputs": [
    {
     "data": {
      "text/html": [
       "<div>\n",
       "<style scoped>\n",
       "    .dataframe tbody tr th:only-of-type {\n",
       "        vertical-align: middle;\n",
       "    }\n",
       "\n",
       "    .dataframe tbody tr th {\n",
       "        vertical-align: top;\n",
       "    }\n",
       "\n",
       "    .dataframe thead th {\n",
       "        text-align: right;\n",
       "    }\n",
       "</style>\n",
       "<table border=\"1\" class=\"dataframe\">\n",
       "  <thead>\n",
       "    <tr style=\"text-align: right;\">\n",
       "      <th></th>\n",
       "      <th>a</th>\n",
       "      <th>b</th>\n",
       "      <th>c</th>\n",
       "      <th>d</th>\n",
       "      <th>e</th>\n",
       "      <th>f</th>\n",
       "      <th>g</th>\n",
       "      <th>h</th>\n",
       "      <th>i</th>\n",
       "      <th>j</th>\n",
       "    </tr>\n",
       "  </thead>\n",
       "  <tbody>\n",
       "    <tr>\n",
       "      <th>0</th>\n",
       "      <td>1187.209888</td>\n",
       "      <td>-128.742162</td>\n",
       "      <td>-257.068186</td>\n",
       "      <td>-782.589475</td>\n",
       "      <td>-43.312734</td>\n",
       "      <td>-143.185755</td>\n",
       "      <td>73.374403</td>\n",
       "      <td>47.227103</td>\n",
       "      <td>-111.252725</td>\n",
       "      <td>27.044289</td>\n",
       "    </tr>\n",
       "    <tr>\n",
       "      <th>1</th>\n",
       "      <td>39.106244</td>\n",
       "      <td>195.185014</td>\n",
       "      <td>717.816215</td>\n",
       "      <td>-235.377998</td>\n",
       "      <td>-7.555359</td>\n",
       "      <td>-79.885344</td>\n",
       "      <td>-78.676297</td>\n",
       "      <td>-69.088245</td>\n",
       "      <td>186.172599</td>\n",
       "      <td>-71.363098</td>\n",
       "    </tr>\n",
       "    <tr>\n",
       "      <th>2</th>\n",
       "      <td>-1608.177199</td>\n",
       "      <td>-85.027661</td>\n",
       "      <td>-466.206621</td>\n",
       "      <td>-434.486802</td>\n",
       "      <td>-105.078000</td>\n",
       "      <td>-162.283032</td>\n",
       "      <td>95.653144</td>\n",
       "      <td>6.426838</td>\n",
       "      <td>-113.612671</td>\n",
       "      <td>22.836666</td>\n",
       "    </tr>\n",
       "    <tr>\n",
       "      <th>3</th>\n",
       "      <td>100.855812</td>\n",
       "      <td>-127.292575</td>\n",
       "      <td>-556.500150</td>\n",
       "      <td>-218.066293</td>\n",
       "      <td>-189.640653</td>\n",
       "      <td>35.645935</td>\n",
       "      <td>94.066474</td>\n",
       "      <td>-144.346392</td>\n",
       "      <td>-99.867173</td>\n",
       "      <td>-10.721709</td>\n",
       "    </tr>\n",
       "    <tr>\n",
       "      <th>4</th>\n",
       "      <td>-4663.337378</td>\n",
       "      <td>-386.628006</td>\n",
       "      <td>-466.220183</td>\n",
       "      <td>-560.250728</td>\n",
       "      <td>40.013215</td>\n",
       "      <td>-175.800704</td>\n",
       "      <td>287.849858</td>\n",
       "      <td>70.989246</td>\n",
       "      <td>24.430002</td>\n",
       "      <td>8.688235</td>\n",
       "    </tr>\n",
       "    <tr>\n",
       "      <th>...</th>\n",
       "      <td>...</td>\n",
       "      <td>...</td>\n",
       "      <td>...</td>\n",
       "      <td>...</td>\n",
       "      <td>...</td>\n",
       "      <td>...</td>\n",
       "      <td>...</td>\n",
       "      <td>...</td>\n",
       "      <td>...</td>\n",
       "      <td>...</td>\n",
       "    </tr>\n",
       "    <tr>\n",
       "      <th>1455</th>\n",
       "      <td>1728.344573</td>\n",
       "      <td>-396.968161</td>\n",
       "      <td>-559.840890</td>\n",
       "      <td>220.987915</td>\n",
       "      <td>-185.605243</td>\n",
       "      <td>-95.937296</td>\n",
       "      <td>-66.027734</td>\n",
       "      <td>-70.374548</td>\n",
       "      <td>-68.348283</td>\n",
       "      <td>5.581670</td>\n",
       "    </tr>\n",
       "    <tr>\n",
       "      <th>1456</th>\n",
       "      <td>-3617.134387</td>\n",
       "      <td>-489.407054</td>\n",
       "      <td>698.628512</td>\n",
       "      <td>66.680033</td>\n",
       "      <td>255.513355</td>\n",
       "      <td>475.153793</td>\n",
       "      <td>-138.124551</td>\n",
       "      <td>33.590524</td>\n",
       "      <td>209.839997</td>\n",
       "      <td>-46.233955</td>\n",
       "    </tr>\n",
       "    <tr>\n",
       "      <th>1457</th>\n",
       "      <td>540.171215</td>\n",
       "      <td>-942.847315</td>\n",
       "      <td>-709.530519</td>\n",
       "      <td>-216.903843</td>\n",
       "      <td>209.066009</td>\n",
       "      <td>-41.179714</td>\n",
       "      <td>-370.082260</td>\n",
       "      <td>-2.689490</td>\n",
       "      <td>-88.225122</td>\n",
       "      <td>4.266651</td>\n",
       "    </tr>\n",
       "    <tr>\n",
       "      <th>1458</th>\n",
       "      <td>-17.810300</td>\n",
       "      <td>635.898749</td>\n",
       "      <td>130.140809</td>\n",
       "      <td>51.464368</td>\n",
       "      <td>-237.764897</td>\n",
       "      <td>234.590132</td>\n",
       "      <td>-148.868618</td>\n",
       "      <td>28.683945</td>\n",
       "      <td>410.043256</td>\n",
       "      <td>448.922249</td>\n",
       "    </tr>\n",
       "    <tr>\n",
       "      <th>1459</th>\n",
       "      <td>-286.861806</td>\n",
       "      <td>325.484763</td>\n",
       "      <td>629.171570</td>\n",
       "      <td>-246.085128</td>\n",
       "      <td>-1.978135</td>\n",
       "      <td>10.753595</td>\n",
       "      <td>-209.057082</td>\n",
       "      <td>9.998237</td>\n",
       "      <td>349.886089</td>\n",
       "      <td>52.927495</td>\n",
       "    </tr>\n",
       "  </tbody>\n",
       "</table>\n",
       "<p>1460 rows × 10 columns</p>\n",
       "</div>"
      ],
      "text/plain": [
       "                a           b           c           d           e           f  \\\n",
       "0     1187.209888 -128.742162 -257.068186 -782.589475  -43.312734 -143.185755   \n",
       "1       39.106244  195.185014  717.816215 -235.377998   -7.555359  -79.885344   \n",
       "2    -1608.177199  -85.027661 -466.206621 -434.486802 -105.078000 -162.283032   \n",
       "3      100.855812 -127.292575 -556.500150 -218.066293 -189.640653   35.645935   \n",
       "4    -4663.337378 -386.628006 -466.220183 -560.250728   40.013215 -175.800704   \n",
       "...           ...         ...         ...         ...         ...         ...   \n",
       "1455  1728.344573 -396.968161 -559.840890  220.987915 -185.605243  -95.937296   \n",
       "1456 -3617.134387 -489.407054  698.628512   66.680033  255.513355  475.153793   \n",
       "1457   540.171215 -942.847315 -709.530519 -216.903843  209.066009  -41.179714   \n",
       "1458   -17.810300  635.898749  130.140809   51.464368 -237.764897  234.590132   \n",
       "1459  -286.861806  325.484763  629.171570 -246.085128   -1.978135   10.753595   \n",
       "\n",
       "               g           h           i           j  \n",
       "0      73.374403   47.227103 -111.252725   27.044289  \n",
       "1     -78.676297  -69.088245  186.172599  -71.363098  \n",
       "2      95.653144    6.426838 -113.612671   22.836666  \n",
       "3      94.066474 -144.346392  -99.867173  -10.721709  \n",
       "4     287.849858   70.989246   24.430002    8.688235  \n",
       "...          ...         ...         ...         ...  \n",
       "1455  -66.027734  -70.374548  -68.348283    5.581670  \n",
       "1456 -138.124551   33.590524  209.839997  -46.233955  \n",
       "1457 -370.082260   -2.689490  -88.225122    4.266651  \n",
       "1458 -148.868618   28.683945  410.043256  448.922249  \n",
       "1459 -209.057082    9.998237  349.886089   52.927495  \n",
       "\n",
       "[1460 rows x 10 columns]"
      ]
     },
     "execution_count": 196,
     "metadata": {},
     "output_type": "execute_result"
    }
   ],
   "source": [
    "X_pca"
   ]
  },
  {
   "cell_type": "code",
   "execution_count": 197,
   "metadata": {},
   "outputs": [],
   "source": [
    "X_str=X[string_features]"
   ]
  },
  {
   "cell_type": "code",
   "execution_count": 198,
   "metadata": {},
   "outputs": [],
   "source": [
    "X_pca=X_pca.join(X_str)"
   ]
  },
  {
   "cell_type": "code",
   "execution_count": 194,
   "metadata": {},
   "outputs": [
    {
     "data": {
      "text/plain": [
       "array([[ 1187.20988812,  -128.74216191,  -257.06818576, ...,\n",
       "           47.22710301,  -111.25272483,    27.04428933],\n",
       "       [   39.10624431,   195.18501364,   717.81621495, ...,\n",
       "          -69.08824539,   186.17259928,   -71.363098  ],\n",
       "       [-1608.17719863,   -85.02766139,  -466.20662148, ...,\n",
       "            6.42683792,  -113.61267129,    22.83666601],\n",
       "       ...,\n",
       "       [  540.1712147 ,  -942.84731462,  -709.53051893, ...,\n",
       "           -2.68948987,   -88.22512239,     4.2666511 ],\n",
       "       [  -17.81029986,   635.89874921,   130.14080895, ...,\n",
       "           28.68394503,   410.04325635,   448.92224936],\n",
       "       [ -286.86180619,   325.48476316,   629.17156983, ...,\n",
       "            9.99823712,   349.88608884,    52.92749459]])"
      ]
     },
     "execution_count": 194,
     "metadata": {},
     "output_type": "execute_result"
    }
   ],
   "source": [
    "X_pca"
   ]
  },
  {
   "attachments": {},
   "cell_type": "markdown",
   "metadata": {},
   "source": [
    "#### Train / Test Split"
   ]
  },
  {
   "cell_type": "code",
   "execution_count": 201,
   "metadata": {},
   "outputs": [
    {
     "name": "stdout",
     "output_type": "stream",
     "text": [
      "(1168, 77) (292, 77) (1168,) (292,)\n"
     ]
    }
   ],
   "source": [
    "X_train, X_test, y_train, y_test = train_test_split(X, y, test_size=0.2, random_state=2022)\n",
    "\n",
    "print(X_train.shape, X_test.shape, y_train.shape, y_test.shape)"
   ]
  },
  {
   "cell_type": "code",
   "execution_count": 202,
   "metadata": {},
   "outputs": [
    {
     "name": "stdout",
     "output_type": "stream",
     "text": [
      "(1168, 51) (292, 51) (1168,) (292,)\n"
     ]
    }
   ],
   "source": [
    "X_train_p, X_test_p, y_train, y_test = train_test_split(X_pca, y, test_size=0.2, random_state=2022)\n",
    "\n",
    "print(X_train_p.shape, X_test_p.shape, y_train.shape, y_test.shape)"
   ]
  },
  {
   "cell_type": "code",
   "execution_count": 203,
   "metadata": {},
   "outputs": [
    {
     "name": "stdout",
     "output_type": "stream",
     "text": [
      "There are 36 numerical features: ['MSSubClass', 'LotFrontage', 'LotArea', 'OverallQual', 'OverallCond', 'YearBuilt', 'YearRemodAdd', 'MasVnrArea', 'BsmtFinSF1', 'BsmtFinSF2', 'BsmtUnfSF', 'TotalBsmtSF', '1stFlrSF', '2ndFlrSF', 'LowQualFinSF', 'GrLivArea', 'BsmtFullBath', 'BsmtHalfBath', 'FullBath', 'HalfBath', 'BedroomAbvGr', 'KitchenAbvGr', 'TotRmsAbvGrd', 'Fireplaces', 'GarageYrBlt', 'GarageCars', 'GarageArea', 'WoodDeckSF', 'OpenPorchSF', 'EnclosedPorch', '3SsnPorch', 'ScreenPorch', 'PoolArea', 'MiscVal', 'MoSold', 'YrSold']\n",
      "\n",
      "There are 10 numerical features: ['MSSubClass', 'LotFrontage', 'LotArea', 'OverallQual', 'OverallCond', 'YearBuilt', 'YearRemodAdd', 'MasVnrArea', 'BsmtFinSF1', 'BsmtFinSF2', 'BsmtUnfSF', 'TotalBsmtSF', '1stFlrSF', '2ndFlrSF', 'LowQualFinSF', 'GrLivArea', 'BsmtFullBath', 'BsmtHalfBath', 'FullBath', 'HalfBath', 'BedroomAbvGr', 'KitchenAbvGr', 'TotRmsAbvGrd', 'Fireplaces', 'GarageYrBlt', 'GarageCars', 'GarageArea', 'WoodDeckSF', 'OpenPorchSF', 'EnclosedPorch', '3SsnPorch', 'ScreenPorch', 'PoolArea', 'MiscVal', 'MoSold', 'YrSold']\n",
      "\n",
      "There are 41 string features: ['MSZoning', 'Street', 'Alley', 'LotShape', 'LandContour', 'Utilities', 'LotConfig', 'LandSlope', 'Neighborhood', 'Condition1', 'Condition2', 'BldgType', 'HouseStyle', 'RoofStyle', 'RoofMatl', 'Exterior1st', 'Exterior2nd', 'MasVnrType', 'ExterQual', 'ExterCond', 'Foundation', 'BsmtQual', 'BsmtCond', 'BsmtExposure', 'BsmtFinType1', 'BsmtFinType2', 'Heating', 'HeatingQC', 'CentralAir', 'Electrical', 'KitchenQual', 'Functional', 'FireplaceQu', 'GarageType', 'GarageFinish', 'GarageQual', 'GarageCond', 'PavedDrive', 'Fence', 'SaleType', 'SaleCondition']\n",
      "\n"
     ]
    }
   ],
   "source": [
    "numerical_features = X_train.select_dtypes(include='number').columns.tolist()\n",
    "print(f\"There are {len(numerical_features)} numerical features: {numerical_features}\\n\")\n",
    "\n",
    "numerical_features_p = X_train_p.select_dtypes(include='number').columns.tolist()\n",
    "print(f\"There are {len(numerical_features_p)} numerical features: {numerical_features}\\n\")\n",
    "\n",
    "string_features = X_train.select_dtypes(exclude='number').columns.tolist()\n",
    "print(f\"There are {len(string_features)} string features: {string_features}\\n\")"
   ]
  },
  {
   "attachments": {},
   "cell_type": "markdown",
   "metadata": {},
   "source": [
    "#### Applying transformations"
   ]
  },
  {
   "cell_type": "code",
   "execution_count": 204,
   "metadata": {},
   "outputs": [],
   "source": [
    "# Pipeline for numeric features\n",
    "numeric_pipeline = Pipeline(steps=[\n",
    "    ('impute', SimpleImputer(strategy='mean')),\n",
    "    ('scale', StandardScaler())\n",
    "  ]\n",
    ")\n",
    "\n",
    "# Pipeline for string features\n",
    "string_pipeline = Pipeline(steps=[\n",
    "    ('impute', SimpleImputer(strategy='most_frequent')),\n",
    "    ('encode', OneHotEncoder(handle_unknown='ignore', sparse=False)),\n",
    "    ('scale', StandardScaler())\n",
    "  ]\n",
    ")\n",
    "\n",
    "# Now let's merge both pipeline into one single pre-processing object\n",
    "# We can use ColumnTransformer for this\n",
    "full_processor = ColumnTransformer(transformers=[\n",
    "    ('number', numeric_pipeline, numerical_features),\n",
    "    ('string', string_pipeline, string_features)\n",
    "  ]\n",
    ")\n",
    "\n",
    "full_processor_p = ColumnTransformer(transformers=[\n",
    "    ('number', numeric_pipeline, numerical_features_p),\n",
    "    ('string', string_pipeline, string_features)\n",
    "  ]\n",
    ")"
   ]
  },
  {
   "cell_type": "code",
   "execution_count": 205,
   "metadata": {},
   "outputs": [
    {
     "name": "stdout",
     "output_type": "stream",
     "text": [
      "(1168, 290) (292, 290)\n"
     ]
    },
    {
     "name": "stderr",
     "output_type": "stream",
     "text": [
      "/home/manuelquiros/Documents/VENVS/KaggleTitanic/lib/python3.10/site-packages/sklearn/preprocessing/_encoders.py:828: FutureWarning: `sparse` was renamed to `sparse_output` in version 1.2 and will be removed in 1.4. `sparse_output` is ignored unless you leave `sparse` to its default value.\n",
      "  warnings.warn(\n"
     ]
    }
   ],
   "source": [
    "X_train = full_processor.fit_transform(X_train)\n",
    "X_test  = full_processor.transform(X_test)\n",
    "\n",
    "print(X_train.shape, X_test.shape)"
   ]
  },
  {
   "cell_type": "code",
   "execution_count": 206,
   "metadata": {},
   "outputs": [],
   "source": [
    "enc_cat_features = full_processor.named_transformers_['string']['encode'].get_feature_names_out()"
   ]
  },
  {
   "cell_type": "code",
   "execution_count": 207,
   "metadata": {},
   "outputs": [
    {
     "data": {
      "text/plain": [
       "array(['x0_C (all)', 'x0_FV', 'x0_RH', 'x0_RL', 'x0_RM', 'x1_Grvl',\n",
       "       'x1_Pave', 'x2_Ex', 'x2_Fa', 'x2_Gd', 'x2_TA', 'x2_no', 'x3_IR1',\n",
       "       'x3_IR2', 'x3_IR3', 'x3_Reg', 'x4_Bnk', 'x4_HLS', 'x4_Low',\n",
       "       'x4_Lvl', 'x5_AllPub', 'x5_NoSeWa', 'x6_Corner', 'x6_CulDSac',\n",
       "       'x6_FR2', 'x6_FR3', 'x6_Inside', 'x7_Gtl', 'x7_Mod', 'x7_Sev',\n",
       "       'x8_Blmngtn', 'x8_Blueste', 'x8_BrDale', 'x8_BrkSide',\n",
       "       'x8_ClearCr', 'x8_CollgCr', 'x8_Crawfor', 'x8_Edwards',\n",
       "       'x8_Gilbert', 'x8_IDOTRR', 'x8_MeadowV', 'x8_Mitchel', 'x8_NAmes',\n",
       "       'x8_NPkVill', 'x8_NWAmes', 'x8_NoRidge', 'x8_NridgHt',\n",
       "       'x8_OldTown', 'x8_SWISU', 'x8_Sawyer', 'x8_SawyerW', 'x8_Somerst',\n",
       "       'x8_StoneBr', 'x8_Timber', 'x8_Veenker', 'x9_Artery', 'x9_Feedr',\n",
       "       'x9_Norm', 'x9_PosA', 'x9_PosN', 'x9_RRAe', 'x9_RRAn', 'x9_RRNe',\n",
       "       'x9_RRNn', 'x10_Artery', 'x10_Feedr', 'x10_Norm', 'x10_PosN',\n",
       "       'x10_RRAe', 'x10_RRAn', 'x10_RRNn', 'x11_1Fam', 'x11_2fmCon',\n",
       "       'x11_Duplex', 'x11_Twnhs', 'x11_TwnhsE', 'x12_1.5Fin',\n",
       "       'x12_1.5Unf', 'x12_1Story', 'x12_2.5Fin', 'x12_2.5Unf',\n",
       "       'x12_2Story', 'x12_SFoyer', 'x12_SLvl', 'x13_Flat', 'x13_Gable',\n",
       "       'x13_Gambrel', 'x13_Hip', 'x13_Mansard', 'x13_Shed', 'x14_ClyTile',\n",
       "       'x14_CompShg', 'x14_Membran', 'x14_Metal', 'x14_Tar&Grv',\n",
       "       'x14_WdShake', 'x14_WdShngl', 'x15_AsbShng', 'x15_AsphShn',\n",
       "       'x15_BrkComm', 'x15_BrkFace', 'x15_CBlock', 'x15_CemntBd',\n",
       "       'x15_HdBoard', 'x15_ImStucc', 'x15_MetalSd', 'x15_Plywood',\n",
       "       'x15_Stone', 'x15_Stucco', 'x15_VinylSd', 'x15_Wd Sdng',\n",
       "       'x15_WdShing', 'x16_AsbShng', 'x16_AsphShn', 'x16_Brk Cmn',\n",
       "       'x16_BrkFace', 'x16_CBlock', 'x16_CmentBd', 'x16_HdBoard',\n",
       "       'x16_ImStucc', 'x16_MetalSd', 'x16_Plywood', 'x16_Stone',\n",
       "       'x16_Stucco', 'x16_VinylSd', 'x16_Wd Sdng', 'x16_Wd Shng',\n",
       "       'x17_BrkCmn', 'x17_BrkFace', 'x17_None', 'x17_Stone', 'x18_Ex',\n",
       "       'x18_Fa', 'x18_Gd', 'x18_TA', 'x19_Ex', 'x19_Fa', 'x19_Gd',\n",
       "       'x19_Po', 'x19_TA', 'x20_BrkTil', 'x20_CBlock', 'x20_PConc',\n",
       "       'x20_Slab', 'x20_Stone', 'x20_Wood', 'x21_Ex', 'x21_Fa', 'x21_Gd',\n",
       "       'x21_TA', 'x21_no', 'x22_Fa', 'x22_Gd', 'x22_Po', 'x22_TA',\n",
       "       'x22_no', 'x23_Av', 'x23_Gd', 'x23_Mn', 'x23_No', 'x23_no',\n",
       "       'x24_ALQ', 'x24_BLQ', 'x24_GLQ', 'x24_LwQ', 'x24_Rec', 'x24_Unf',\n",
       "       'x24_no', 'x25_ALQ', 'x25_BLQ', 'x25_GLQ', 'x25_LwQ', 'x25_Rec',\n",
       "       'x25_Unf', 'x25_no', 'x26_Floor', 'x26_GasA', 'x26_GasW',\n",
       "       'x26_Grav', 'x26_OthW', 'x26_Wall', 'x27_Ex', 'x27_Fa', 'x27_Gd',\n",
       "       'x27_TA', 'x28_N', 'x28_Y', 'x29_FuseA', 'x29_FuseF', 'x29_FuseP',\n",
       "       'x29_Mix', 'x29_SBrkr', 'x30_Ex', 'x30_Fa', 'x30_Gd', 'x30_TA',\n",
       "       'x31_Maj1', 'x31_Maj2', 'x31_Min1', 'x31_Min2', 'x31_Mod',\n",
       "       'x31_Typ', 'x32_Ex', 'x32_Fa', 'x32_Gd', 'x32_Po', 'x32_TA',\n",
       "       'x32_no', 'x33_2Types', 'x33_Attchd', 'x33_Basment', 'x33_BuiltIn',\n",
       "       'x33_CarPort', 'x33_Detchd', 'x33_no', 'x34_Fin', 'x34_RFn',\n",
       "       'x34_Unf', 'x34_no', 'x35_Ex', 'x35_Fa', 'x35_Gd', 'x35_Po',\n",
       "       'x35_TA', 'x35_no', 'x36_Ex', 'x36_Fa', 'x36_Gd', 'x36_Po',\n",
       "       'x36_TA', 'x36_no', 'x37_N', 'x37_P', 'x37_Y', 'x38_GdPrv',\n",
       "       'x38_GdWo', 'x38_MnPrv', 'x38_MnWw', 'x38_no', 'x39_COD',\n",
       "       'x39_CWD', 'x39_Con', 'x39_ConLD', 'x39_ConLI', 'x39_ConLw',\n",
       "       'x39_New', 'x39_Oth', 'x39_WD', 'x40_Abnorml', 'x40_AdjLand',\n",
       "       'x40_Alloca', 'x40_Family', 'x40_Normal', 'x40_Partial'],\n",
       "      dtype=object)"
      ]
     },
     "execution_count": 207,
     "metadata": {},
     "output_type": "execute_result"
    }
   ],
   "source": [
    "enc_cat_features"
   ]
  },
  {
   "cell_type": "code",
   "execution_count": 208,
   "metadata": {},
   "outputs": [
    {
     "name": "stdout",
     "output_type": "stream",
     "text": [
      "(1168, 264) (292, 264)\n"
     ]
    },
    {
     "name": "stderr",
     "output_type": "stream",
     "text": [
      "/home/manuelquiros/Documents/VENVS/KaggleTitanic/lib/python3.10/site-packages/sklearn/preprocessing/_encoders.py:828: FutureWarning: `sparse` was renamed to `sparse_output` in version 1.2 and will be removed in 1.4. `sparse_output` is ignored unless you leave `sparse` to its default value.\n",
      "  warnings.warn(\n"
     ]
    }
   ],
   "source": [
    "X_train_p = full_processor_p.fit_transform(X_train_p)\n",
    "X_test_p = full_processor_p.transform(X_test_p)\n",
    "\n",
    "print(X_train_p.shape, X_test_p.shape)"
   ]
  },
  {
   "attachments": {},
   "cell_type": "markdown",
   "metadata": {},
   "source": [
    "### Models"
   ]
  },
  {
   "attachments": {},
   "cell_type": "markdown",
   "metadata": {},
   "source": [
    "#### Baseline"
   ]
  },
  {
   "cell_type": "code",
   "execution_count": 209,
   "metadata": {},
   "outputs": [],
   "source": [
    "LR = LinearRegression()"
   ]
  },
  {
   "cell_type": "code",
   "execution_count": 215,
   "metadata": {},
   "outputs": [
    {
     "data": {
      "text/html": [
       "<style>#sk-container-id-16 {color: black;background-color: white;}#sk-container-id-16 pre{padding: 0;}#sk-container-id-16 div.sk-toggleable {background-color: white;}#sk-container-id-16 label.sk-toggleable__label {cursor: pointer;display: block;width: 100%;margin-bottom: 0;padding: 0.3em;box-sizing: border-box;text-align: center;}#sk-container-id-16 label.sk-toggleable__label-arrow:before {content: \"▸\";float: left;margin-right: 0.25em;color: #696969;}#sk-container-id-16 label.sk-toggleable__label-arrow:hover:before {color: black;}#sk-container-id-16 div.sk-estimator:hover label.sk-toggleable__label-arrow:before {color: black;}#sk-container-id-16 div.sk-toggleable__content {max-height: 0;max-width: 0;overflow: hidden;text-align: left;background-color: #f0f8ff;}#sk-container-id-16 div.sk-toggleable__content pre {margin: 0.2em;color: black;border-radius: 0.25em;background-color: #f0f8ff;}#sk-container-id-16 input.sk-toggleable__control:checked~div.sk-toggleable__content {max-height: 200px;max-width: 100%;overflow: auto;}#sk-container-id-16 input.sk-toggleable__control:checked~label.sk-toggleable__label-arrow:before {content: \"▾\";}#sk-container-id-16 div.sk-estimator input.sk-toggleable__control:checked~label.sk-toggleable__label {background-color: #d4ebff;}#sk-container-id-16 div.sk-label input.sk-toggleable__control:checked~label.sk-toggleable__label {background-color: #d4ebff;}#sk-container-id-16 input.sk-hidden--visually {border: 0;clip: rect(1px 1px 1px 1px);clip: rect(1px, 1px, 1px, 1px);height: 1px;margin: -1px;overflow: hidden;padding: 0;position: absolute;width: 1px;}#sk-container-id-16 div.sk-estimator {font-family: monospace;background-color: #f0f8ff;border: 1px dotted black;border-radius: 0.25em;box-sizing: border-box;margin-bottom: 0.5em;}#sk-container-id-16 div.sk-estimator:hover {background-color: #d4ebff;}#sk-container-id-16 div.sk-parallel-item::after {content: \"\";width: 100%;border-bottom: 1px solid gray;flex-grow: 1;}#sk-container-id-16 div.sk-label:hover label.sk-toggleable__label {background-color: #d4ebff;}#sk-container-id-16 div.sk-serial::before {content: \"\";position: absolute;border-left: 1px solid gray;box-sizing: border-box;top: 0;bottom: 0;left: 50%;z-index: 0;}#sk-container-id-16 div.sk-serial {display: flex;flex-direction: column;align-items: center;background-color: white;padding-right: 0.2em;padding-left: 0.2em;position: relative;}#sk-container-id-16 div.sk-item {position: relative;z-index: 1;}#sk-container-id-16 div.sk-parallel {display: flex;align-items: stretch;justify-content: center;background-color: white;position: relative;}#sk-container-id-16 div.sk-item::before, #sk-container-id-16 div.sk-parallel-item::before {content: \"\";position: absolute;border-left: 1px solid gray;box-sizing: border-box;top: 0;bottom: 0;left: 50%;z-index: -1;}#sk-container-id-16 div.sk-parallel-item {display: flex;flex-direction: column;z-index: 1;position: relative;background-color: white;}#sk-container-id-16 div.sk-parallel-item:first-child::after {align-self: flex-end;width: 50%;}#sk-container-id-16 div.sk-parallel-item:last-child::after {align-self: flex-start;width: 50%;}#sk-container-id-16 div.sk-parallel-item:only-child::after {width: 0;}#sk-container-id-16 div.sk-dashed-wrapped {border: 1px dashed gray;margin: 0 0.4em 0.5em 0.4em;box-sizing: border-box;padding-bottom: 0.4em;background-color: white;}#sk-container-id-16 div.sk-label label {font-family: monospace;font-weight: bold;display: inline-block;line-height: 1.2em;}#sk-container-id-16 div.sk-label-container {text-align: center;}#sk-container-id-16 div.sk-container {/* jupyter's `normalize.less` sets `[hidden] { display: none; }` but bootstrap.min.css set `[hidden] { display: none !important; }` so we also need the `!important` here to be able to override the default hidden behavior on the sphinx rendered scikit-learn.org. See: https://github.com/scikit-learn/scikit-learn/issues/21755 */display: inline-block !important;position: relative;}#sk-container-id-16 div.sk-text-repr-fallback {display: none;}</style><div id=\"sk-container-id-16\" class=\"sk-top-container\"><div class=\"sk-text-repr-fallback\"><pre>LinearRegression()</pre><b>In a Jupyter environment, please rerun this cell to show the HTML representation or trust the notebook. <br />On GitHub, the HTML representation is unable to render, please try loading this page with nbviewer.org.</b></div><div class=\"sk-container\" hidden><div class=\"sk-item\"><div class=\"sk-estimator sk-toggleable\"><input class=\"sk-toggleable__control sk-hidden--visually\" id=\"sk-estimator-id-28\" type=\"checkbox\" checked><label for=\"sk-estimator-id-28\" class=\"sk-toggleable__label sk-toggleable__label-arrow\">LinearRegression</label><div class=\"sk-toggleable__content\"><pre>LinearRegression()</pre></div></div></div></div></div>"
      ],
      "text/plain": [
       "LinearRegression()"
      ]
     },
     "execution_count": 215,
     "metadata": {},
     "output_type": "execute_result"
    }
   ],
   "source": [
    "LR.fit(X_train,y_train)"
   ]
  },
  {
   "cell_type": "code",
   "execution_count": 213,
   "metadata": {},
   "outputs": [],
   "source": [
    "LR_train_p_pred=LR.predict(X_train_p)"
   ]
  },
  {
   "cell_type": "code",
   "execution_count": 216,
   "metadata": {},
   "outputs": [],
   "source": [
    "LR_train_pred=LR.predict(X_train)"
   ]
  },
  {
   "cell_type": "code",
   "execution_count": 214,
   "metadata": {},
   "outputs": [
    {
     "name": "stdout",
     "output_type": "stream",
     "text": [
      "MSE con PCA= 21990.22347872583\n"
     ]
    }
   ],
   "source": [
    "print('MSE con PCA=' , mean_squared_error(y_train,LR_train_p_pred, squared=False))"
   ]
  },
  {
   "cell_type": "code",
   "execution_count": 218,
   "metadata": {},
   "outputs": [
    {
     "name": "stdout",
     "output_type": "stream",
     "text": [
      "MSE sin PCA= 19811.15297082242\n"
     ]
    }
   ],
   "source": [
    "print('MSE sin PCA=' , mean_squared_error(y_train,LR_train_pred, squared=False))"
   ]
  },
  {
   "cell_type": "code",
   "execution_count": 219,
   "metadata": {},
   "outputs": [],
   "source": [
    "LR_test_pred=LR.predict(X_test)"
   ]
  },
  {
   "cell_type": "code",
   "execution_count": 220,
   "metadata": {},
   "outputs": [
    {
     "name": "stdout",
     "output_type": "stream",
     "text": [
      "MSE sin PCA= 4.200137423866048e+16\n"
     ]
    }
   ],
   "source": [
    "print('MSE sin PCA=' , mean_squared_error(y_test,LR_test_pred, squared=False))"
   ]
  },
  {
   "attachments": {},
   "cell_type": "markdown",
   "metadata": {},
   "source": [
    "#### Random Forest Regressor"
   ]
  },
  {
   "cell_type": "code",
   "execution_count": 98,
   "metadata": {},
   "outputs": [],
   "source": [
    "from sklearn.ensemble import RandomForestRegressor"
   ]
  },
  {
   "cell_type": "code",
   "execution_count": 297,
   "metadata": {},
   "outputs": [],
   "source": [
    "param_grid = {\n",
    "\n",
    "    'max_depth': [100],\n",
    "    'max_features': [0.7,0.8,0.9],\n",
    "    'min_samples_leaf': [3,  5],\n",
    "    'min_samples_split': [8,12],\n",
    "    'n_estimators': [100]\n",
    "}\n",
    "rf = RandomForestRegressor(criterion='squared_error')\n",
    "grid_search_rf = GridSearchCV(rf, param_grid = param_grid, cv = 5, n_jobs = -1, verbose = 2)"
   ]
  },
  {
   "cell_type": "code",
   "execution_count": 298,
   "metadata": {},
   "outputs": [
    {
     "name": "stdout",
     "output_type": "stream",
     "text": [
      "Fitting 5 folds for each of 12 candidates, totalling 60 fits\n",
      "[CV] END max_depth=100, max_features=0.7, min_samples_leaf=3, min_samples_split=12, n_estimators=100; total time=   0.6s\n",
      "[CV] END max_depth=100, max_features=0.7, min_samples_leaf=3, min_samples_split=12, n_estimators=100; total time=   0.6s\n",
      "[CV] END max_depth=100, max_features=0.7, min_samples_leaf=3, min_samples_split=8, n_estimators=100; total time=   0.6s\n",
      "[CV] END max_depth=100, max_features=0.7, min_samples_leaf=3, min_samples_split=12, n_estimators=100; total time=   0.6s\n",
      "[CV] END max_depth=100, max_features=0.7, min_samples_leaf=5, min_samples_split=12, n_estimators=100; total time=   0.6s\n",
      "[CV] END max_depth=100, max_features=0.7, min_samples_leaf=3, min_samples_split=8, n_estimators=100; total time=   0.7s\n",
      "[CV] END max_depth=100, max_features=0.7, min_samples_leaf=3, min_samples_split=8, n_estimators=100; total time=   0.7s\n",
      "[CV] END max_depth=100, max_features=0.7, min_samples_leaf=5, min_samples_split=8, n_estimators=100; total time=   0.7s\n",
      "[CV] END max_depth=100, max_features=0.7, min_samples_leaf=3, min_samples_split=12, n_estimators=100; total time=   0.7s\n",
      "[CV] END max_depth=100, max_features=0.7, min_samples_leaf=3, min_samples_split=12, n_estimators=100; total time=   0.8s\n",
      "[CV] END max_depth=100, max_features=0.7, min_samples_leaf=3, min_samples_split=8, n_estimators=100; total time=   0.8s\n",
      "[CV] END max_depth=100, max_features=0.7, min_samples_leaf=5, min_samples_split=8, n_estimators=100; total time=   0.8s\n",
      "[CV] END max_depth=100, max_features=0.7, min_samples_leaf=3, min_samples_split=8, n_estimators=100; total time=   0.9s\n",
      "[CV] END max_depth=100, max_features=0.7, min_samples_leaf=5, min_samples_split=8, n_estimators=100; total time=   0.8s\n",
      "[CV] END max_depth=100, max_features=0.7, min_samples_leaf=5, min_samples_split=8, n_estimators=100; total time=   0.9s\n",
      "[CV] END max_depth=100, max_features=0.7, min_samples_leaf=5, min_samples_split=8, n_estimators=100; total time=   0.9s\n",
      "[CV] END max_depth=100, max_features=0.7, min_samples_leaf=5, min_samples_split=12, n_estimators=100; total time=   0.6s\n",
      "[CV] END max_depth=100, max_features=0.7, min_samples_leaf=5, min_samples_split=12, n_estimators=100; total time=   0.6s\n",
      "[CV] END max_depth=100, max_features=0.7, min_samples_leaf=5, min_samples_split=12, n_estimators=100; total time=   0.7s\n",
      "[CV] END max_depth=100, max_features=0.8, min_samples_leaf=3, min_samples_split=8, n_estimators=100; total time=   0.6s\n",
      "[CV] END max_depth=100, max_features=0.8, min_samples_leaf=3, min_samples_split=8, n_estimators=100; total time=   0.7s\n",
      "[CV] END max_depth=100, max_features=0.8, min_samples_leaf=3, min_samples_split=12, n_estimators=100; total time=   0.6s\n",
      "[CV] END max_depth=100, max_features=0.8, min_samples_leaf=3, min_samples_split=8, n_estimators=100; total time=   0.8s\n",
      "[CV] END max_depth=100, max_features=0.7, min_samples_leaf=5, min_samples_split=12, n_estimators=100; total time=   0.9s\n",
      "[CV] END max_depth=100, max_features=0.8, min_samples_leaf=3, min_samples_split=12, n_estimators=100; total time=   0.7s\n",
      "[CV] END max_depth=100, max_features=0.8, min_samples_leaf=3, min_samples_split=12, n_estimators=100; total time=   0.8s\n",
      "[CV] END max_depth=100, max_features=0.8, min_samples_leaf=5, min_samples_split=8, n_estimators=100; total time=   0.7s\n",
      "[CV] END max_depth=100, max_features=0.8, min_samples_leaf=3, min_samples_split=12, n_estimators=100; total time=   0.7s\n",
      "[CV] END max_depth=100, max_features=0.8, min_samples_leaf=3, min_samples_split=12, n_estimators=100; total time=   0.8s\n",
      "[CV] END max_depth=100, max_features=0.8, min_samples_leaf=3, min_samples_split=8, n_estimators=100; total time=   1.0s\n",
      "[CV] END max_depth=100, max_features=0.8, min_samples_leaf=3, min_samples_split=8, n_estimators=100; total time=   0.9s\n",
      "[CV] END max_depth=100, max_features=0.8, min_samples_leaf=5, min_samples_split=8, n_estimators=100; total time=   0.8s\n",
      "[CV] END max_depth=100, max_features=0.8, min_samples_leaf=5, min_samples_split=8, n_estimators=100; total time=   0.6s\n",
      "[CV] END max_depth=100, max_features=0.8, min_samples_leaf=5, min_samples_split=8, n_estimators=100; total time=   0.6s\n",
      "[CV] END max_depth=100, max_features=0.8, min_samples_leaf=5, min_samples_split=12, n_estimators=100; total time=   0.6s\n",
      "[CV] END max_depth=100, max_features=0.8, min_samples_leaf=5, min_samples_split=8, n_estimators=100; total time=   0.7s\n",
      "[CV] END max_depth=100, max_features=0.8, min_samples_leaf=5, min_samples_split=12, n_estimators=100; total time=   0.7s\n",
      "[CV] END max_depth=100, max_features=0.8, min_samples_leaf=5, min_samples_split=12, n_estimators=100; total time=   0.7s\n",
      "[CV] END max_depth=100, max_features=0.8, min_samples_leaf=5, min_samples_split=12, n_estimators=100; total time=   0.7s\n",
      "[CV] END max_depth=100, max_features=0.8, min_samples_leaf=5, min_samples_split=12, n_estimators=100; total time=   0.7s\n",
      "[CV] END max_depth=100, max_features=0.9, min_samples_leaf=3, min_samples_split=8, n_estimators=100; total time=   0.7s\n",
      "[CV] END max_depth=100, max_features=0.9, min_samples_leaf=3, min_samples_split=8, n_estimators=100; total time=   0.7s\n",
      "[CV] END max_depth=100, max_features=0.9, min_samples_leaf=3, min_samples_split=8, n_estimators=100; total time=   0.8s\n",
      "[CV] END max_depth=100, max_features=0.9, min_samples_leaf=3, min_samples_split=8, n_estimators=100; total time=   0.8s\n",
      "[CV] END max_depth=100, max_features=0.9, min_samples_leaf=3, min_samples_split=8, n_estimators=100; total time=   0.8s\n",
      "[CV] END max_depth=100, max_features=0.9, min_samples_leaf=3, min_samples_split=12, n_estimators=100; total time=   0.7s\n",
      "[CV] END max_depth=100, max_features=0.9, min_samples_leaf=3, min_samples_split=12, n_estimators=100; total time=   0.8s\n",
      "[CV] END max_depth=100, max_features=0.9, min_samples_leaf=5, min_samples_split=8, n_estimators=100; total time=   0.6s\n",
      "[CV] END max_depth=100, max_features=0.9, min_samples_leaf=3, min_samples_split=12, n_estimators=100; total time=   0.9s\n",
      "[CV] END max_depth=100, max_features=0.9, min_samples_leaf=3, min_samples_split=12, n_estimators=100; total time=   0.8s\n",
      "[CV] END max_depth=100, max_features=0.9, min_samples_leaf=3, min_samples_split=12, n_estimators=100; total time=   0.8s\n",
      "[CV] END max_depth=100, max_features=0.9, min_samples_leaf=5, min_samples_split=8, n_estimators=100; total time=   0.7s\n",
      "[CV] END max_depth=100, max_features=0.9, min_samples_leaf=5, min_samples_split=12, n_estimators=100; total time=   0.5s\n",
      "[CV] END max_depth=100, max_features=0.9, min_samples_leaf=5, min_samples_split=8, n_estimators=100; total time=   0.7s\n",
      "[CV] END max_depth=100, max_features=0.9, min_samples_leaf=5, min_samples_split=8, n_estimators=100; total time=   0.6s\n",
      "[CV] END max_depth=100, max_features=0.9, min_samples_leaf=5, min_samples_split=8, n_estimators=100; total time=   0.6s\n",
      "[CV] END max_depth=100, max_features=0.9, min_samples_leaf=5, min_samples_split=12, n_estimators=100; total time=   0.5s\n",
      "[CV] END max_depth=100, max_features=0.9, min_samples_leaf=5, min_samples_split=12, n_estimators=100; total time=   0.5s\n",
      "[CV] END max_depth=100, max_features=0.9, min_samples_leaf=5, min_samples_split=12, n_estimators=100; total time=   0.6s\n",
      "[CV] END max_depth=100, max_features=0.9, min_samples_leaf=5, min_samples_split=12, n_estimators=100; total time=   0.6s\n"
     ]
    },
    {
     "data": {
      "text/html": [
       "<style>#sk-container-id-36 {color: black;background-color: white;}#sk-container-id-36 pre{padding: 0;}#sk-container-id-36 div.sk-toggleable {background-color: white;}#sk-container-id-36 label.sk-toggleable__label {cursor: pointer;display: block;width: 100%;margin-bottom: 0;padding: 0.3em;box-sizing: border-box;text-align: center;}#sk-container-id-36 label.sk-toggleable__label-arrow:before {content: \"▸\";float: left;margin-right: 0.25em;color: #696969;}#sk-container-id-36 label.sk-toggleable__label-arrow:hover:before {color: black;}#sk-container-id-36 div.sk-estimator:hover label.sk-toggleable__label-arrow:before {color: black;}#sk-container-id-36 div.sk-toggleable__content {max-height: 0;max-width: 0;overflow: hidden;text-align: left;background-color: #f0f8ff;}#sk-container-id-36 div.sk-toggleable__content pre {margin: 0.2em;color: black;border-radius: 0.25em;background-color: #f0f8ff;}#sk-container-id-36 input.sk-toggleable__control:checked~div.sk-toggleable__content {max-height: 200px;max-width: 100%;overflow: auto;}#sk-container-id-36 input.sk-toggleable__control:checked~label.sk-toggleable__label-arrow:before {content: \"▾\";}#sk-container-id-36 div.sk-estimator input.sk-toggleable__control:checked~label.sk-toggleable__label {background-color: #d4ebff;}#sk-container-id-36 div.sk-label input.sk-toggleable__control:checked~label.sk-toggleable__label {background-color: #d4ebff;}#sk-container-id-36 input.sk-hidden--visually {border: 0;clip: rect(1px 1px 1px 1px);clip: rect(1px, 1px, 1px, 1px);height: 1px;margin: -1px;overflow: hidden;padding: 0;position: absolute;width: 1px;}#sk-container-id-36 div.sk-estimator {font-family: monospace;background-color: #f0f8ff;border: 1px dotted black;border-radius: 0.25em;box-sizing: border-box;margin-bottom: 0.5em;}#sk-container-id-36 div.sk-estimator:hover {background-color: #d4ebff;}#sk-container-id-36 div.sk-parallel-item::after {content: \"\";width: 100%;border-bottom: 1px solid gray;flex-grow: 1;}#sk-container-id-36 div.sk-label:hover label.sk-toggleable__label {background-color: #d4ebff;}#sk-container-id-36 div.sk-serial::before {content: \"\";position: absolute;border-left: 1px solid gray;box-sizing: border-box;top: 0;bottom: 0;left: 50%;z-index: 0;}#sk-container-id-36 div.sk-serial {display: flex;flex-direction: column;align-items: center;background-color: white;padding-right: 0.2em;padding-left: 0.2em;position: relative;}#sk-container-id-36 div.sk-item {position: relative;z-index: 1;}#sk-container-id-36 div.sk-parallel {display: flex;align-items: stretch;justify-content: center;background-color: white;position: relative;}#sk-container-id-36 div.sk-item::before, #sk-container-id-36 div.sk-parallel-item::before {content: \"\";position: absolute;border-left: 1px solid gray;box-sizing: border-box;top: 0;bottom: 0;left: 50%;z-index: -1;}#sk-container-id-36 div.sk-parallel-item {display: flex;flex-direction: column;z-index: 1;position: relative;background-color: white;}#sk-container-id-36 div.sk-parallel-item:first-child::after {align-self: flex-end;width: 50%;}#sk-container-id-36 div.sk-parallel-item:last-child::after {align-self: flex-start;width: 50%;}#sk-container-id-36 div.sk-parallel-item:only-child::after {width: 0;}#sk-container-id-36 div.sk-dashed-wrapped {border: 1px dashed gray;margin: 0 0.4em 0.5em 0.4em;box-sizing: border-box;padding-bottom: 0.4em;background-color: white;}#sk-container-id-36 div.sk-label label {font-family: monospace;font-weight: bold;display: inline-block;line-height: 1.2em;}#sk-container-id-36 div.sk-label-container {text-align: center;}#sk-container-id-36 div.sk-container {/* jupyter's `normalize.less` sets `[hidden] { display: none; }` but bootstrap.min.css set `[hidden] { display: none !important; }` so we also need the `!important` here to be able to override the default hidden behavior on the sphinx rendered scikit-learn.org. See: https://github.com/scikit-learn/scikit-learn/issues/21755 */display: inline-block !important;position: relative;}#sk-container-id-36 div.sk-text-repr-fallback {display: none;}</style><div id=\"sk-container-id-36\" class=\"sk-top-container\"><div class=\"sk-text-repr-fallback\"><pre>GridSearchCV(cv=5, estimator=RandomForestRegressor(), n_jobs=-1,\n",
       "             param_grid={&#x27;max_depth&#x27;: [100], &#x27;max_features&#x27;: [0.7, 0.8, 0.9],\n",
       "                         &#x27;min_samples_leaf&#x27;: [3, 5],\n",
       "                         &#x27;min_samples_split&#x27;: [8, 12], &#x27;n_estimators&#x27;: [100]},\n",
       "             verbose=2)</pre><b>In a Jupyter environment, please rerun this cell to show the HTML representation or trust the notebook. <br />On GitHub, the HTML representation is unable to render, please try loading this page with nbviewer.org.</b></div><div class=\"sk-container\" hidden><div class=\"sk-item sk-dashed-wrapped\"><div class=\"sk-label-container\"><div class=\"sk-label sk-toggleable\"><input class=\"sk-toggleable__control sk-hidden--visually\" id=\"sk-estimator-id-66\" type=\"checkbox\" ><label for=\"sk-estimator-id-66\" class=\"sk-toggleable__label sk-toggleable__label-arrow\">GridSearchCV</label><div class=\"sk-toggleable__content\"><pre>GridSearchCV(cv=5, estimator=RandomForestRegressor(), n_jobs=-1,\n",
       "             param_grid={&#x27;max_depth&#x27;: [100], &#x27;max_features&#x27;: [0.7, 0.8, 0.9],\n",
       "                         &#x27;min_samples_leaf&#x27;: [3, 5],\n",
       "                         &#x27;min_samples_split&#x27;: [8, 12], &#x27;n_estimators&#x27;: [100]},\n",
       "             verbose=2)</pre></div></div></div><div class=\"sk-parallel\"><div class=\"sk-parallel-item\"><div class=\"sk-item\"><div class=\"sk-label-container\"><div class=\"sk-label sk-toggleable\"><input class=\"sk-toggleable__control sk-hidden--visually\" id=\"sk-estimator-id-67\" type=\"checkbox\" ><label for=\"sk-estimator-id-67\" class=\"sk-toggleable__label sk-toggleable__label-arrow\">estimator: RandomForestRegressor</label><div class=\"sk-toggleable__content\"><pre>RandomForestRegressor()</pre></div></div></div><div class=\"sk-serial\"><div class=\"sk-item\"><div class=\"sk-estimator sk-toggleable\"><input class=\"sk-toggleable__control sk-hidden--visually\" id=\"sk-estimator-id-68\" type=\"checkbox\" ><label for=\"sk-estimator-id-68\" class=\"sk-toggleable__label sk-toggleable__label-arrow\">RandomForestRegressor</label><div class=\"sk-toggleable__content\"><pre>RandomForestRegressor()</pre></div></div></div></div></div></div></div></div></div></div>"
      ],
      "text/plain": [
       "GridSearchCV(cv=5, estimator=RandomForestRegressor(), n_jobs=-1,\n",
       "             param_grid={'max_depth': [100], 'max_features': [0.7, 0.8, 0.9],\n",
       "                         'min_samples_leaf': [3, 5],\n",
       "                         'min_samples_split': [8, 12], 'n_estimators': [100]},\n",
       "             verbose=2)"
      ]
     },
     "execution_count": 298,
     "metadata": {},
     "output_type": "execute_result"
    }
   ],
   "source": [
    "grid_search_rf.fit(X_train[:,RF.feature_importances_>0.001],y_train)"
   ]
  },
  {
   "cell_type": "code",
   "execution_count": 260,
   "metadata": {},
   "outputs": [],
   "source": [
    "RF = RandomForestRegressor(max_depth=100, max_features=0.6, min_samples_leaf=3,min_samples_split=8)"
   ]
  },
  {
   "cell_type": "code",
   "execution_count": 299,
   "metadata": {},
   "outputs": [
    {
     "data": {
      "text/html": [
       "<style>#sk-container-id-37 {color: black;background-color: white;}#sk-container-id-37 pre{padding: 0;}#sk-container-id-37 div.sk-toggleable {background-color: white;}#sk-container-id-37 label.sk-toggleable__label {cursor: pointer;display: block;width: 100%;margin-bottom: 0;padding: 0.3em;box-sizing: border-box;text-align: center;}#sk-container-id-37 label.sk-toggleable__label-arrow:before {content: \"▸\";float: left;margin-right: 0.25em;color: #696969;}#sk-container-id-37 label.sk-toggleable__label-arrow:hover:before {color: black;}#sk-container-id-37 div.sk-estimator:hover label.sk-toggleable__label-arrow:before {color: black;}#sk-container-id-37 div.sk-toggleable__content {max-height: 0;max-width: 0;overflow: hidden;text-align: left;background-color: #f0f8ff;}#sk-container-id-37 div.sk-toggleable__content pre {margin: 0.2em;color: black;border-radius: 0.25em;background-color: #f0f8ff;}#sk-container-id-37 input.sk-toggleable__control:checked~div.sk-toggleable__content {max-height: 200px;max-width: 100%;overflow: auto;}#sk-container-id-37 input.sk-toggleable__control:checked~label.sk-toggleable__label-arrow:before {content: \"▾\";}#sk-container-id-37 div.sk-estimator input.sk-toggleable__control:checked~label.sk-toggleable__label {background-color: #d4ebff;}#sk-container-id-37 div.sk-label input.sk-toggleable__control:checked~label.sk-toggleable__label {background-color: #d4ebff;}#sk-container-id-37 input.sk-hidden--visually {border: 0;clip: rect(1px 1px 1px 1px);clip: rect(1px, 1px, 1px, 1px);height: 1px;margin: -1px;overflow: hidden;padding: 0;position: absolute;width: 1px;}#sk-container-id-37 div.sk-estimator {font-family: monospace;background-color: #f0f8ff;border: 1px dotted black;border-radius: 0.25em;box-sizing: border-box;margin-bottom: 0.5em;}#sk-container-id-37 div.sk-estimator:hover {background-color: #d4ebff;}#sk-container-id-37 div.sk-parallel-item::after {content: \"\";width: 100%;border-bottom: 1px solid gray;flex-grow: 1;}#sk-container-id-37 div.sk-label:hover label.sk-toggleable__label {background-color: #d4ebff;}#sk-container-id-37 div.sk-serial::before {content: \"\";position: absolute;border-left: 1px solid gray;box-sizing: border-box;top: 0;bottom: 0;left: 50%;z-index: 0;}#sk-container-id-37 div.sk-serial {display: flex;flex-direction: column;align-items: center;background-color: white;padding-right: 0.2em;padding-left: 0.2em;position: relative;}#sk-container-id-37 div.sk-item {position: relative;z-index: 1;}#sk-container-id-37 div.sk-parallel {display: flex;align-items: stretch;justify-content: center;background-color: white;position: relative;}#sk-container-id-37 div.sk-item::before, #sk-container-id-37 div.sk-parallel-item::before {content: \"\";position: absolute;border-left: 1px solid gray;box-sizing: border-box;top: 0;bottom: 0;left: 50%;z-index: -1;}#sk-container-id-37 div.sk-parallel-item {display: flex;flex-direction: column;z-index: 1;position: relative;background-color: white;}#sk-container-id-37 div.sk-parallel-item:first-child::after {align-self: flex-end;width: 50%;}#sk-container-id-37 div.sk-parallel-item:last-child::after {align-self: flex-start;width: 50%;}#sk-container-id-37 div.sk-parallel-item:only-child::after {width: 0;}#sk-container-id-37 div.sk-dashed-wrapped {border: 1px dashed gray;margin: 0 0.4em 0.5em 0.4em;box-sizing: border-box;padding-bottom: 0.4em;background-color: white;}#sk-container-id-37 div.sk-label label {font-family: monospace;font-weight: bold;display: inline-block;line-height: 1.2em;}#sk-container-id-37 div.sk-label-container {text-align: center;}#sk-container-id-37 div.sk-container {/* jupyter's `normalize.less` sets `[hidden] { display: none; }` but bootstrap.min.css set `[hidden] { display: none !important; }` so we also need the `!important` here to be able to override the default hidden behavior on the sphinx rendered scikit-learn.org. See: https://github.com/scikit-learn/scikit-learn/issues/21755 */display: inline-block !important;position: relative;}#sk-container-id-37 div.sk-text-repr-fallback {display: none;}</style><div id=\"sk-container-id-37\" class=\"sk-top-container\"><div class=\"sk-text-repr-fallback\"><pre>RandomForestRegressor(max_depth=100, max_features=0.7, min_samples_leaf=3,\n",
       "                      min_samples_split=8)</pre><b>In a Jupyter environment, please rerun this cell to show the HTML representation or trust the notebook. <br />On GitHub, the HTML representation is unable to render, please try loading this page with nbviewer.org.</b></div><div class=\"sk-container\" hidden><div class=\"sk-item\"><div class=\"sk-estimator sk-toggleable\"><input class=\"sk-toggleable__control sk-hidden--visually\" id=\"sk-estimator-id-69\" type=\"checkbox\" checked><label for=\"sk-estimator-id-69\" class=\"sk-toggleable__label sk-toggleable__label-arrow\">RandomForestRegressor</label><div class=\"sk-toggleable__content\"><pre>RandomForestRegressor(max_depth=100, max_features=0.7, min_samples_leaf=3,\n",
       "                      min_samples_split=8)</pre></div></div></div></div></div>"
      ],
      "text/plain": [
       "RandomForestRegressor(max_depth=100, max_features=0.7, min_samples_leaf=3,\n",
       "                      min_samples_split=8)"
      ]
     },
     "execution_count": 299,
     "metadata": {},
     "output_type": "execute_result"
    }
   ],
   "source": [
    "grid_search_rf.best_estimator_"
   ]
  },
  {
   "cell_type": "code",
   "execution_count": 294,
   "metadata": {},
   "outputs": [
    {
     "data": {
      "text/html": [
       "<style>#sk-container-id-35 {color: black;background-color: white;}#sk-container-id-35 pre{padding: 0;}#sk-container-id-35 div.sk-toggleable {background-color: white;}#sk-container-id-35 label.sk-toggleable__label {cursor: pointer;display: block;width: 100%;margin-bottom: 0;padding: 0.3em;box-sizing: border-box;text-align: center;}#sk-container-id-35 label.sk-toggleable__label-arrow:before {content: \"▸\";float: left;margin-right: 0.25em;color: #696969;}#sk-container-id-35 label.sk-toggleable__label-arrow:hover:before {color: black;}#sk-container-id-35 div.sk-estimator:hover label.sk-toggleable__label-arrow:before {color: black;}#sk-container-id-35 div.sk-toggleable__content {max-height: 0;max-width: 0;overflow: hidden;text-align: left;background-color: #f0f8ff;}#sk-container-id-35 div.sk-toggleable__content pre {margin: 0.2em;color: black;border-radius: 0.25em;background-color: #f0f8ff;}#sk-container-id-35 input.sk-toggleable__control:checked~div.sk-toggleable__content {max-height: 200px;max-width: 100%;overflow: auto;}#sk-container-id-35 input.sk-toggleable__control:checked~label.sk-toggleable__label-arrow:before {content: \"▾\";}#sk-container-id-35 div.sk-estimator input.sk-toggleable__control:checked~label.sk-toggleable__label {background-color: #d4ebff;}#sk-container-id-35 div.sk-label input.sk-toggleable__control:checked~label.sk-toggleable__label {background-color: #d4ebff;}#sk-container-id-35 input.sk-hidden--visually {border: 0;clip: rect(1px 1px 1px 1px);clip: rect(1px, 1px, 1px, 1px);height: 1px;margin: -1px;overflow: hidden;padding: 0;position: absolute;width: 1px;}#sk-container-id-35 div.sk-estimator {font-family: monospace;background-color: #f0f8ff;border: 1px dotted black;border-radius: 0.25em;box-sizing: border-box;margin-bottom: 0.5em;}#sk-container-id-35 div.sk-estimator:hover {background-color: #d4ebff;}#sk-container-id-35 div.sk-parallel-item::after {content: \"\";width: 100%;border-bottom: 1px solid gray;flex-grow: 1;}#sk-container-id-35 div.sk-label:hover label.sk-toggleable__label {background-color: #d4ebff;}#sk-container-id-35 div.sk-serial::before {content: \"\";position: absolute;border-left: 1px solid gray;box-sizing: border-box;top: 0;bottom: 0;left: 50%;z-index: 0;}#sk-container-id-35 div.sk-serial {display: flex;flex-direction: column;align-items: center;background-color: white;padding-right: 0.2em;padding-left: 0.2em;position: relative;}#sk-container-id-35 div.sk-item {position: relative;z-index: 1;}#sk-container-id-35 div.sk-parallel {display: flex;align-items: stretch;justify-content: center;background-color: white;position: relative;}#sk-container-id-35 div.sk-item::before, #sk-container-id-35 div.sk-parallel-item::before {content: \"\";position: absolute;border-left: 1px solid gray;box-sizing: border-box;top: 0;bottom: 0;left: 50%;z-index: -1;}#sk-container-id-35 div.sk-parallel-item {display: flex;flex-direction: column;z-index: 1;position: relative;background-color: white;}#sk-container-id-35 div.sk-parallel-item:first-child::after {align-self: flex-end;width: 50%;}#sk-container-id-35 div.sk-parallel-item:last-child::after {align-self: flex-start;width: 50%;}#sk-container-id-35 div.sk-parallel-item:only-child::after {width: 0;}#sk-container-id-35 div.sk-dashed-wrapped {border: 1px dashed gray;margin: 0 0.4em 0.5em 0.4em;box-sizing: border-box;padding-bottom: 0.4em;background-color: white;}#sk-container-id-35 div.sk-label label {font-family: monospace;font-weight: bold;display: inline-block;line-height: 1.2em;}#sk-container-id-35 div.sk-label-container {text-align: center;}#sk-container-id-35 div.sk-container {/* jupyter's `normalize.less` sets `[hidden] { display: none; }` but bootstrap.min.css set `[hidden] { display: none !important; }` so we also need the `!important` here to be able to override the default hidden behavior on the sphinx rendered scikit-learn.org. See: https://github.com/scikit-learn/scikit-learn/issues/21755 */display: inline-block !important;position: relative;}#sk-container-id-35 div.sk-text-repr-fallback {display: none;}</style><div id=\"sk-container-id-35\" class=\"sk-top-container\"><div class=\"sk-text-repr-fallback\"><pre>RandomForestRegressor(max_depth=100, max_features=0.6, min_samples_leaf=3,\n",
       "                      min_samples_split=8)</pre><b>In a Jupyter environment, please rerun this cell to show the HTML representation or trust the notebook. <br />On GitHub, the HTML representation is unable to render, please try loading this page with nbviewer.org.</b></div><div class=\"sk-container\" hidden><div class=\"sk-item\"><div class=\"sk-estimator sk-toggleable\"><input class=\"sk-toggleable__control sk-hidden--visually\" id=\"sk-estimator-id-65\" type=\"checkbox\" checked><label for=\"sk-estimator-id-65\" class=\"sk-toggleable__label sk-toggleable__label-arrow\">RandomForestRegressor</label><div class=\"sk-toggleable__content\"><pre>RandomForestRegressor(max_depth=100, max_features=0.6, min_samples_leaf=3,\n",
       "                      min_samples_split=8)</pre></div></div></div></div></div>"
      ],
      "text/plain": [
       "RandomForestRegressor(max_depth=100, max_features=0.6, min_samples_leaf=3,\n",
       "                      min_samples_split=8)"
      ]
     },
     "execution_count": 294,
     "metadata": {},
     "output_type": "execute_result"
    }
   ],
   "source": [
    "RF.fit(X_train,y_train)"
   ]
  },
  {
   "cell_type": "code",
   "execution_count": 300,
   "metadata": {},
   "outputs": [],
   "source": [
    "y_train_pred_rf=grid_search_rf.predict(X_train[:,RF.feature_importances_>0.001])"
   ]
  },
  {
   "cell_type": "code",
   "execution_count": 301,
   "metadata": {},
   "outputs": [
    {
     "name": "stdout",
     "output_type": "stream",
     "text": [
      "MSE train RandomForest= 17980.582193898626\n"
     ]
    }
   ],
   "source": [
    "print('MSE train RandomForest=' , mean_squared_error(y_train,y_train_pred_rf, squared=False))"
   ]
  },
  {
   "cell_type": "code",
   "execution_count": 302,
   "metadata": {},
   "outputs": [],
   "source": [
    "y_test_pred_rf=grid_search_rf.predict(X_test[:,RF.feature_importances_>0.001])"
   ]
  },
  {
   "cell_type": "code",
   "execution_count": 303,
   "metadata": {},
   "outputs": [
    {
     "name": "stdout",
     "output_type": "stream",
     "text": [
      "MSE test RandomForest= 27854.9334178705\n"
     ]
    }
   ],
   "source": [
    "print('MSE test RandomForest=' , mean_squared_error(y_test,y_test_pred_rf, squared=False))"
   ]
  },
  {
   "cell_type": "code",
   "execution_count": null,
   "metadata": {},
   "outputs": [],
   "source": [
    "enc_cat_features = full_processor.named_transformers_['string']['encode'].get_feature_names_out()"
   ]
  },
  {
   "cell_type": "code",
   "execution_count": 263,
   "metadata": {},
   "outputs": [
    {
     "data": {
      "text/plain": [
       "array([1.91879100e-03, 4.48059011e-03, 1.38011041e-02, 3.89693254e-01,\n",
       "       3.02515104e-03, 2.91240226e-02, 9.47581288e-03, 4.32415933e-03,\n",
       "       2.25564849e-02, 0.00000000e+00, 3.83562705e-03, 3.35844516e-02,\n",
       "       3.15148626e-02, 1.45902787e-02, 0.00000000e+00, 1.24957792e-01,\n",
       "       1.12600216e-03, 0.00000000e+00, 1.20894740e-02, 5.71928739e-04,\n",
       "       2.43974059e-03, 0.00000000e+00, 5.86286865e-03, 5.23469599e-03,\n",
       "       4.40670535e-03, 1.44158893e-01, 1.84591361e-02, 4.54459504e-03,\n",
       "       3.90609045e-03, 0.00000000e+00, 0.00000000e+00, 0.00000000e+00,\n",
       "       0.00000000e+00, 0.00000000e+00, 3.03006408e-03, 1.42156707e-03,\n",
       "       1.19562204e-04, 1.73718178e-05, 2.72404570e-06, 1.02598393e-03,\n",
       "       1.15274981e-03, 0.00000000e+00, 0.00000000e+00, 9.30537337e-03,\n",
       "       2.43977015e-05, 1.34204369e-03, 1.19586444e-03, 2.01105605e-05,\n",
       "       5.34228235e-04, 3.91002367e-04, 0.00000000e+00, 6.23705377e-04,\n",
       "       2.06393617e-04, 2.64243193e-04, 1.86191392e-04, 1.32003081e-03,\n",
       "       0.00000000e+00, 0.00000000e+00, 1.85282403e-04, 3.86477302e-04,\n",
       "       6.89736143e-06, 0.00000000e+00, 5.01451079e-04, 6.16228158e-04,\n",
       "       4.43490357e-06, 1.05256081e-05, 2.15832100e-06, 0.00000000e+00,\n",
       "       3.11046108e-05, 1.49441885e-05, 1.85797995e-04, 1.06468047e-04,\n",
       "       6.61737549e-04, 9.65041214e-04, 5.61193891e-05, 6.52975749e-05,\n",
       "       4.53208383e-05, 9.86698162e-06, 8.28058523e-05, 1.02671508e-05,\n",
       "       7.38342675e-05, 9.64781694e-04, 2.28034684e-04, 2.29865839e-04,\n",
       "       7.75941067e-06, 4.17175124e-05, 1.25465687e-05, 7.56861429e-05,\n",
       "       1.05961946e-04, 0.00000000e+00, 0.00000000e+00, 2.68584259e-05,\n",
       "       1.05772626e-05, 5.92567424e-04, 0.00000000e+00, 0.00000000e+00,\n",
       "       2.68338594e-07, 0.00000000e+00, 0.00000000e+00, 0.00000000e+00,\n",
       "       0.00000000e+00, 0.00000000e+00, 0.00000000e+00, 0.00000000e+00,\n",
       "       0.00000000e+00, 0.00000000e+00, 0.00000000e+00, 4.20023248e-04,\n",
       "       0.00000000e+00, 8.54005144e-05, 3.33098464e-05, 5.14274594e-05,\n",
       "       1.42516501e-04, 4.65516107e-07, 1.36685672e-04, 0.00000000e+00,\n",
       "       0.00000000e+00, 3.75345241e-04, 4.45694146e-06, 5.73789186e-05,\n",
       "       1.22449064e-04, 4.58025023e-04, 0.00000000e+00, 3.32792156e-04,\n",
       "       0.00000000e+00, 0.00000000e+00, 0.00000000e+00, 9.65499293e-05,\n",
       "       0.00000000e+00, 0.00000000e+00, 0.00000000e+00, 0.00000000e+00,\n",
       "       0.00000000e+00, 2.70997324e-06, 0.00000000e+00, 0.00000000e+00,\n",
       "       6.80006444e-04, 0.00000000e+00, 2.88084409e-06, 6.22331674e-05,\n",
       "       0.00000000e+00, 9.98509168e-05, 1.88883588e-04, 0.00000000e+00,\n",
       "       2.42614632e-05, 4.35493807e-04, 5.63003474e-05, 5.91868173e-07,\n",
       "       9.70896960e-07, 0.00000000e+00, 0.00000000e+00, 0.00000000e+00,\n",
       "       0.00000000e+00, 1.45495027e-04, 9.23322050e-05, 0.00000000e+00,\n",
       "       1.79364089e-04, 8.10052745e-05, 0.00000000e+00, 5.67578168e-06,\n",
       "       3.91220640e-04, 1.10160906e-04, 1.17547877e-05, 0.00000000e+00,\n",
       "       5.77763651e-04, 6.67068788e-04, 1.52637237e-04, 4.54676528e-03,\n",
       "       6.19057128e-05, 2.33590695e-03, 2.89834317e-02, 0.00000000e+00,\n",
       "       6.20307954e-05, 8.23771989e-05, 0.00000000e+00, 1.64625653e-04,\n",
       "       6.21415943e-05, 1.28964855e-04, 1.89717098e-04, 8.49231059e-07,\n",
       "       0.00000000e+00, 0.00000000e+00, 5.23587242e-03, 1.25659423e-05,\n",
       "       1.56553494e-03, 6.99510927e-04, 3.78843399e-05, 1.39312200e-05,\n",
       "       2.40039200e-06, 0.00000000e+00, 9.79502765e-05, 2.59948057e-06,\n",
       "       2.00856580e-04, 1.45992683e-03, 8.17491755e-05, 6.72951944e-04,\n",
       "       4.69741042e-06, 1.20236186e-04, 1.27040484e-04, 5.69305379e-04,\n",
       "       2.78437995e-05, 9.25373352e-05, 2.27333738e-04, 2.04140285e-05,\n",
       "       2.42722226e-06, 8.27623732e-06, 0.00000000e+00, 4.52120857e-06,\n",
       "       2.69120238e-05, 1.04347405e-04, 8.50053439e-06, 0.00000000e+00,\n",
       "       1.02175694e-04, 0.00000000e+00, 0.00000000e+00, 0.00000000e+00,\n",
       "       0.00000000e+00, 3.60248601e-04, 1.09473481e-04, 1.43674779e-04,\n",
       "       3.54031478e-04, 9.08095617e-04, 1.13242085e-03, 2.15082522e-05,\n",
       "       2.22363639e-06, 0.00000000e+00, 0.00000000e+00, 2.99253114e-05,\n",
       "       2.13465785e-03, 2.46330504e-05, 3.75973733e-03, 2.39806039e-03,\n",
       "       1.07523835e-05, 0.00000000e+00, 4.99334376e-06, 6.05598038e-06,\n",
       "       0.00000000e+00, 1.40025134e-04, 5.34273217e-05, 0.00000000e+00,\n",
       "       3.64337455e-04, 2.02910232e-05, 1.29157353e-04, 4.34656607e-03,\n",
       "       0.00000000e+00, 2.61771813e-03, 0.00000000e+00, 1.55469135e-04,\n",
       "       2.99797185e-05, 2.82174651e-03, 1.39582875e-05, 5.50323802e-04,\n",
       "       5.79021081e-04, 5.80518788e-04, 2.98886965e-05, 0.00000000e+00,\n",
       "       1.17966067e-05, 0.00000000e+00, 0.00000000e+00, 9.00507013e-04,\n",
       "       5.07650766e-07, 0.00000000e+00, 9.59472107e-06, 0.00000000e+00,\n",
       "       0.00000000e+00, 2.72024989e-04, 1.27091303e-05, 1.26124590e-04,\n",
       "       1.34309374e-05, 1.90929037e-04, 1.00060670e-05, 3.94086408e-05,\n",
       "       7.23671567e-05, 0.00000000e+00, 1.05793551e-04, 2.78699819e-05,\n",
       "       0.00000000e+00, 0.00000000e+00, 0.00000000e+00, 0.00000000e+00,\n",
       "       0.00000000e+00, 3.02743953e-04, 0.00000000e+00, 6.57774822e-04,\n",
       "       1.14325322e-04, 0.00000000e+00, 0.00000000e+00, 1.36515434e-04,\n",
       "       3.03569670e-04, 2.39766614e-04])"
      ]
     },
     "execution_count": 263,
     "metadata": {},
     "output_type": "execute_result"
    }
   ],
   "source": [
    "RF.feature_importances_"
   ]
  },
  {
   "cell_type": "code",
   "execution_count": 265,
   "metadata": {},
   "outputs": [
    {
     "data": {
      "image/png": "[encoded data removed]",
      "text/plain": [
       "<Figure size 1300x800 with 1 Axes>"
      ]
     },
     "metadata": {},
     "output_type": "display_data"
    }
   ],
   "source": [
    "plt.figure(figsize=(13, 8))\n",
    "caract = X_train.shape[1]\n",
    "plt.barh(range(caract), RF.feature_importances_)\n",
    "plt.yticks(np.arange(caract)) #,X_train.columns)\n",
    "plt.xlabel('Features Importance')\n",
    "plt.ylabel('Features')\n",
    "plt.title('Features Importance', fontsize=20)\n",
    "plt.show()"
   ]
  },
  {
   "cell_type": "code",
   "execution_count": 279,
   "metadata": {},
   "outputs": [
    {
     "data": {
      "text/plain": [
       "array([0.00191879, 0.00448059, 0.0138011 , 0.38969325, 0.00302515,\n",
       "       0.02912402, 0.00947581, 0.00432416, 0.02255648, 0.00383563,\n",
       "       0.03358445, 0.03151486, 0.01459028, 0.12495779, 0.001126  ,\n",
       "       0.01208947, 0.00243974, 0.00586287, 0.0052347 , 0.00440671,\n",
       "       0.14415889, 0.01845914, 0.0045446 , 0.00390609, 0.00303006,\n",
       "       0.00142157, 0.00102598, 0.00115275, 0.00930537, 0.00134204,\n",
       "       0.00119586, 0.00132003, 0.00454677, 0.00233591, 0.02898343,\n",
       "       0.00523587, 0.00156553, 0.00145993, 0.00113242, 0.00213466,\n",
       "       0.00375974, 0.00239806, 0.00434657, 0.00261772, 0.00282175])"
      ]
     },
     "execution_count": 279,
     "metadata": {},
     "output_type": "execute_result"
    }
   ],
   "source": [
    "RF.feature_importances_[RF.feature_importances_>0.001]"
   ]
  },
  {
   "cell_type": "code",
   "execution_count": 284,
   "metadata": {},
   "outputs": [
    {
     "data": {
      "text/plain": [
       "array([[ 0.14769578,  0.40865777,  0.42881282, ..., -0.12153092,\n",
       "         0.46138534, -0.30263639],\n",
       "       [ 0.14769578,  0.40865777,  0.43526651, ..., -0.12153092,\n",
       "         0.46138534, -0.30263639],\n",
       "       [ 1.7674955 , -1.77619489, -1.46492336, ..., -0.12153092,\n",
       "         0.46138534, -0.30263639],\n",
       "       ...,\n",
       "       [-0.9321707 ,  0.72077958,  0.15186548, ..., -0.12153092,\n",
       "         0.46138534, -0.30263639],\n",
       "       [ 0.4176624 , -1.77619489,  0.49924218, ..., -0.12153092,\n",
       "         0.46138534, -0.30263639],\n",
       "       [-0.9321707 , -1.77619489,  1.01806248, ..., -0.12153092,\n",
       "         0.46138534, -0.30263639]])"
      ]
     },
     "execution_count": 284,
     "metadata": {},
     "output_type": "execute_result"
    }
   ],
   "source": [
    "X_train"
   ]
  },
  {
   "cell_type": "code",
   "execution_count": 286,
   "metadata": {},
   "outputs": [
    {
     "data": {
      "text/plain": [
       "(1168, 45)"
      ]
     },
     "execution_count": 286,
     "metadata": {},
     "output_type": "execute_result"
    }
   ],
   "source": [
    "X_train[:,RF.feature_importances_>0.001].shape"
   ]
  },
  {
   "attachments": {},
   "cell_type": "markdown",
   "metadata": {},
   "source": [
    "#### XGboost"
   ]
  },
  {
   "cell_type": "code",
   "execution_count": null,
   "metadata": {},
   "outputs": [],
   "source": []
  },
  {
   "cell_type": "code",
   "execution_count": 135,
   "metadata": {},
   "outputs": [],
   "source": [
    "from xgboost import XGBRegressor\n",
    "from sklearn.metrics import make_scorer"
   ]
  },
  {
   "cell_type": "code",
   "execution_count": 254,
   "metadata": {},
   "outputs": [],
   "source": [
    "param_dist = {\n",
    "    'n_estimators':[5,6,7,8],\n",
    "    'max_depth':[20,30,35], \n",
    "    'learning_rate':[0.3,0.4,0.5],\n",
    "    }\n",
    "#Create the lgbm moodel object\n",
    "bst = XGBRegressor(reg_lambda=2,reg_alpha=1)\n",
    "#Create the GridSearch object\n",
    "bst_grid = GridSearchCV(bst, param_dist,cv = 5, n_jobs = -1, verbose = 2)"
   ]
  },
  {
   "cell_type": "code",
   "execution_count": 287,
   "metadata": {},
   "outputs": [
    {
     "name": "stdout",
     "output_type": "stream",
     "text": [
      "Fitting 5 folds for each of 36 candidates, totalling 180 fits\n",
      "[CV] END ....learning_rate=0.3, max_depth=20, n_estimators=5; total time=   0.0s\n",
      "[CV] END ....learning_rate=0.3, max_depth=20, n_estimators=5; total time=   0.0s\n",
      "[CV] END ....learning_rate=0.3, max_depth=20, n_estimators=6; total time=   0.0s\n",
      "[CV] END ....learning_rate=0.3, max_depth=20, n_estimators=6; total time=   0.0s\n",
      "[CV] END ....learning_rate=0.3, max_depth=20, n_estimators=8; total time=   0.1s\n",
      "[CV] END ....learning_rate=0.3, max_depth=20, n_estimators=5; total time=   0.0s\n",
      "[CV] END ....learning_rate=0.3, max_depth=20, n_estimators=8; total time=   0.1s\n",
      "[CV] END ....learning_rate=0.3, max_depth=20, n_estimators=8; total time=   0.1s\n",
      "[CV] END ....learning_rate=0.3, max_depth=30, n_estimators=5; total time=   0.0s\n",
      "[CV] END ....learning_rate=0.3, max_depth=20, n_estimators=8; total time=   0.1s\n",
      "[CV] END ....learning_rate=0.3, max_depth=20, n_estimators=7; total time=   0.1s\n",
      "[CV] END ....learning_rate=0.3, max_depth=30, n_estimators=5; total time=   0.0s\n",
      "[CV] END ....learning_rate=0.3, max_depth=30, n_estimators=5; total time=   0.0s\n",
      "[CV] END ....learning_rate=0.3, max_depth=30, n_estimators=5; total time=   0.0s\n",
      "[CV] END ....learning_rate=0.3, max_depth=20, n_estimators=5; total time=   0.0s\n",
      "[CV] END ....learning_rate=0.3, max_depth=20, n_estimators=6; total time=   0.0s\n",
      "[CV] END ....learning_rate=0.3, max_depth=20, n_estimators=7; total time=   0.1s\n",
      "[CV] END ....learning_rate=0.3, max_depth=20, n_estimators=5; total time=   0.0s\n",
      "[CV] END ....learning_rate=0.3, max_depth=30, n_estimators=5; total time=   0.0s\n",
      "[CV] END ....learning_rate=0.3, max_depth=30, n_estimators=6; total time=   0.0s\n",
      "[CV] END ....learning_rate=0.3, max_depth=30, n_estimators=6; total time=   0.0s\n",
      "[CV] END ....learning_rate=0.3, max_depth=30, n_estimators=6; total time=   0.0s\n",
      "[CV] END ....learning_rate=0.3, max_depth=30, n_estimators=6; total time=   0.0s\n",
      "[CV] END ....learning_rate=0.3, max_depth=30, n_estimators=6; total time=   0.1s\n",
      "[CV] END ....learning_rate=0.3, max_depth=30, n_estimators=7; total time=   0.0s\n",
      "[CV] END ....learning_rate=0.3, max_depth=20, n_estimators=6; total time=   0.1s\n",
      "[CV] END ....learning_rate=0.3, max_depth=30, n_estimators=7; total time=   0.0s\n",
      "[CV] END ....learning_rate=0.3, max_depth=30, n_estimators=7; total time=   0.0s\n",
      "[CV] END ....learning_rate=0.3, max_depth=30, n_estimators=7; total time=   0.0s\n",
      "[CV] END ....learning_rate=0.3, max_depth=35, n_estimators=5; total time=   0.0s\n",
      "[CV] END ....learning_rate=0.3, max_depth=30, n_estimators=8; total time=   0.1s\n",
      "[CV] END ....learning_rate=0.3, max_depth=35, n_estimators=5; total time=   0.0s\n",
      "[CV] END ....learning_rate=0.3, max_depth=30, n_estimators=8; total time=   0.1s\n",
      "[CV] END ....learning_rate=0.3, max_depth=30, n_estimators=8; total time=   0.1s\n",
      "[CV] END ....learning_rate=0.3, max_depth=35, n_estimators=5; total time=   0.0s\n",
      "[CV] END ....learning_rate=0.3, max_depth=30, n_estimators=8; total time=   0.1s\n",
      "[CV] END ....learning_rate=0.3, max_depth=30, n_estimators=7; total time=   0.1s\n",
      "[CV] END ....learning_rate=0.3, max_depth=20, n_estimators=6; total time=   0.1s\n",
      "[CV] END ....learning_rate=0.3, max_depth=35, n_estimators=5; total time=   0.0s\n",
      "[CV] END ....learning_rate=0.3, max_depth=20, n_estimators=7; total time=   0.1s\n",
      "[CV] END ....learning_rate=0.3, max_depth=30, n_estimators=8; total time=   0.1s\n",
      "[CV] END ....learning_rate=0.3, max_depth=35, n_estimators=5; total time=   0.0s\n",
      "[CV] END ....learning_rate=0.3, max_depth=35, n_estimators=6; total time=   0.0s[CV] END ....learning_rate=0.3, max_depth=35, n_estimators=6; total time=   0.0s\n",
      "\n",
      "[CV] END ....learning_rate=0.3, max_depth=35, n_estimators=6; total time=   0.0s\n",
      "[CV] END ....learning_rate=0.3, max_depth=35, n_estimators=6; total time=   0.0s\n",
      "[CV] END ....learning_rate=0.3, max_depth=35, n_estimators=7; total time=   0.0s\n",
      "[CV] END ....learning_rate=0.3, max_depth=35, n_estimators=7; total time=   0.0s\n",
      "[CV] END ....learning_rate=0.3, max_depth=35, n_estimators=6; total time=   0.1s\n",
      "[CV] END ....learning_rate=0.3, max_depth=35, n_estimators=7; total time=   0.0s\n",
      "[CV] END ....learning_rate=0.3, max_depth=35, n_estimators=7; total time=   0.1s\n",
      "[CV] END ....learning_rate=0.3, max_depth=20, n_estimators=7; total time=   0.1s\n",
      "[CV] END ....learning_rate=0.3, max_depth=35, n_estimators=8; total time=   0.1s\n",
      "[CV] END ....learning_rate=0.3, max_depth=35, n_estimators=7; total time=   0.1s\n",
      "[CV] END ....learning_rate=0.4, max_depth=20, n_estimators=5; total time=   0.0s\n",
      "[CV] END ....learning_rate=0.3, max_depth=35, n_estimators=8; total time=   0.1s\n",
      "[CV] END ....learning_rate=0.4, max_depth=20, n_estimators=5; total time=   0.0s\n",
      "[CV] END ....learning_rate=0.4, max_depth=20, n_estimators=5; total time=   0.0s\n",
      "[CV] END ....learning_rate=0.3, max_depth=35, n_estimators=8; total time=   0.1s\n",
      "[CV] END ....learning_rate=0.3, max_depth=35, n_estimators=8; total time=   0.1s\n",
      "[CV] END ....learning_rate=0.4, max_depth=20, n_estimators=5; total time=   0.0s\n",
      "[CV] END ....learning_rate=0.3, max_depth=35, n_estimators=8; total time=   0.1s\n",
      "[CV] END ....learning_rate=0.4, max_depth=20, n_estimators=6; total time=   0.1s\n",
      "[CV] END ....learning_rate=0.4, max_depth=20, n_estimators=6; total time=   0.1s\n",
      "[CV] END ....learning_rate=0.4, max_depth=20, n_estimators=5; total time=   0.1s\n",
      "[CV] END ....learning_rate=0.4, max_depth=20, n_estimators=6; total time=   0.1s\n",
      "[CV] END ....learning_rate=0.4, max_depth=20, n_estimators=6; total time=   0.1s\n",
      "[CV] END ....learning_rate=0.4, max_depth=20, n_estimators=6; total time=   0.1s\n",
      "[CV] END ....learning_rate=0.4, max_depth=20, n_estimators=7; total time=   0.1s\n",
      "[CV] END ....learning_rate=0.4, max_depth=20, n_estimators=7; total time=   0.1s\n",
      "[CV] END ....learning_rate=0.4, max_depth=20, n_estimators=7; total time=   0.1s\n",
      "[CV] END ....learning_rate=0.4, max_depth=20, n_estimators=7; total time=   0.1s\n",
      "[CV] END ....learning_rate=0.4, max_depth=20, n_estimators=7; total time=   0.1s\n",
      "[CV] END ....learning_rate=0.4, max_depth=20, n_estimators=8; total time=   0.1s\n",
      "[CV] END ....learning_rate=0.4, max_depth=30, n_estimators=5; total time=   0.0s\n",
      "[CV] END ....learning_rate=0.4, max_depth=30, n_estimators=5; total time=   0.1s\n",
      "[CV] END ....learning_rate=0.4, max_depth=30, n_estimators=5; total time=   0.1s\n",
      "[CV] END ....learning_rate=0.4, max_depth=30, n_estimators=5; total time=   0.0s\n",
      "[CV] END ....learning_rate=0.4, max_depth=20, n_estimators=8; total time=   0.1s\n",
      "[CV] END ....learning_rate=0.4, max_depth=20, n_estimators=8; total time=   0.1s\n",
      "[CV] END ....learning_rate=0.3, max_depth=20, n_estimators=7; total time=   0.1s\n",
      "[CV] END ....learning_rate=0.4, max_depth=30, n_estimators=5; total time=   0.0s\n",
      "[CV] END ....learning_rate=0.4, max_depth=20, n_estimators=8; total time=   0.1s\n",
      "[CV] END ....learning_rate=0.4, max_depth=20, n_estimators=8; total time=   0.1s\n",
      "[CV] END ....learning_rate=0.4, max_depth=30, n_estimators=6; total time=   0.1s\n",
      "[CV] END ....learning_rate=0.4, max_depth=30, n_estimators=6; total time=   0.1s\n",
      "[CV] END ....learning_rate=0.4, max_depth=30, n_estimators=6; total time=   0.1s\n",
      "[CV] END ....learning_rate=0.4, max_depth=30, n_estimators=6; total time=   0.1s\n",
      "[CV] END ....learning_rate=0.3, max_depth=20, n_estimators=8; total time=   0.1s\n",
      "[CV] END ....learning_rate=0.4, max_depth=30, n_estimators=6; total time=   0.1s\n",
      "[CV] END ....learning_rate=0.4, max_depth=30, n_estimators=7; total time=   0.1s\n",
      "[CV] END ....learning_rate=0.4, max_depth=30, n_estimators=7; total time=   0.1s\n",
      "[CV] END ....learning_rate=0.4, max_depth=35, n_estimators=5; total time=   0.0s\n",
      "[CV] END ....learning_rate=0.4, max_depth=30, n_estimators=7; total time=   0.1s\n",
      "[CV] END ....learning_rate=0.4, max_depth=35, n_estimators=5; total time=   0.1s\n",
      "[CV] END ....learning_rate=0.4, max_depth=30, n_estimators=7; total time=   0.1s\n",
      "[CV] END ....learning_rate=0.4, max_depth=35, n_estimators=6; total time=   0.0s\n",
      "[CV] END ....learning_rate=0.4, max_depth=35, n_estimators=6; total time=   0.1s[CV] END ....learning_rate=0.4, max_depth=35, n_estimators=5; total time=   0.1s\n",
      "\n",
      "[CV] END ....learning_rate=0.4, max_depth=30, n_estimators=8; total time=   0.1s\n",
      "[CV] END ....learning_rate=0.4, max_depth=30, n_estimators=8; total time=   0.1s\n",
      "[CV] END ....learning_rate=0.4, max_depth=30, n_estimators=7; total time=   0.1s\n",
      "[CV] END ....learning_rate=0.4, max_depth=30, n_estimators=8; total time=   0.1s\n",
      "[CV] END ....learning_rate=0.4, max_depth=35, n_estimators=7; total time=   0.1s\n",
      "[CV] END ....learning_rate=0.4, max_depth=35, n_estimators=7; total time=   0.1s\n",
      "[CV] END ....learning_rate=0.4, max_depth=35, n_estimators=5; total time=   0.1s\n",
      "[CV] END ....learning_rate=0.4, max_depth=35, n_estimators=6; total time=   0.1s[CV] END ....learning_rate=0.4, max_depth=35, n_estimators=6; total time=   0.0s\n",
      "[CV] END ....learning_rate=0.5, max_depth=20, n_estimators=5; total time=   0.1s\n",
      "[CV] END ....learning_rate=0.4, max_depth=35, n_estimators=6; total time=   0.1s\n",
      "[CV] END ....learning_rate=0.5, max_depth=20, n_estimators=5; total time=   0.0s\n",
      "[CV] END ....learning_rate=0.4, max_depth=35, n_estimators=5; total time=   0.1s\n",
      "[CV] END ....learning_rate=0.4, max_depth=35, n_estimators=8; total time=   0.1s\n",
      "[CV] END ....learning_rate=0.4, max_depth=35, n_estimators=7; total time=   0.1s\n",
      "\n",
      "[CV] END ....learning_rate=0.4, max_depth=30, n_estimators=8; total time=   0.1s\n",
      "[CV] END ....learning_rate=0.4, max_depth=35, n_estimators=8; total time=   0.1s\n",
      "[CV] END ....learning_rate=0.5, max_depth=20, n_estimators=5; total time=   0.1s[CV] END ....learning_rate=0.5, max_depth=20, n_estimators=6; total time=   0.1s\n",
      "\n",
      "[CV] END ....learning_rate=0.4, max_depth=35, n_estimators=7; total time=   0.1s\n",
      "[CV] END ....learning_rate=0.4, max_depth=35, n_estimators=8; total time=   0.1s\n",
      "[CV] END ....learning_rate=0.5, max_depth=20, n_estimators=6; total time=   0.1s\n",
      "[CV] END ....learning_rate=0.5, max_depth=20, n_estimators=6; total time=   0.1s[CV] END ....learning_rate=0.5, max_depth=20, n_estimators=5; total time=   0.1s\n",
      "\n",
      "[CV] END ....learning_rate=0.4, max_depth=35, n_estimators=8; total time=   0.1s\n",
      "[CV] END ....learning_rate=0.5, max_depth=30, n_estimators=5; total time=   0.0s\n",
      "[CV] END ....learning_rate=0.5, max_depth=20, n_estimators=7; total time=   0.1s\n",
      "[CV] END ....learning_rate=0.4, max_depth=35, n_estimators=8; total time=   0.1s\n",
      "[CV] END ....learning_rate=0.4, max_depth=35, n_estimators=7; total time=   0.1s\n",
      "[CV] END ....learning_rate=0.5, max_depth=20, n_estimators=5; total time=   0.1s\n",
      "[CV] END ....learning_rate=0.4, max_depth=30, n_estimators=8; total time=   0.1s\n",
      "[CV] END ....learning_rate=0.5, max_depth=20, n_estimators=6; total time=   0.1s\n",
      "[CV] END ....learning_rate=0.5, max_depth=30, n_estimators=5; total time=   0.1s\n",
      "[CV] END ....learning_rate=0.5, max_depth=20, n_estimators=8; total time=   0.1s\n",
      "[CV] END ....learning_rate=0.5, max_depth=20, n_estimators=6; total time=   0.1s\n",
      "[CV] END ....learning_rate=0.5, max_depth=20, n_estimators=7; total time=   0.1s\n",
      "[CV] END ....learning_rate=0.5, max_depth=30, n_estimators=5; total time=   0.0s\n",
      "[CV] END ....learning_rate=0.5, max_depth=20, n_estimators=7; total time=   0.1s\n",
      "[CV] END ....learning_rate=0.5, max_depth=30, n_estimators=5; total time=   0.1s\n",
      "[CV] END ....learning_rate=0.5, max_depth=20, n_estimators=8; total time=   0.1s\n",
      "[CV] END ....learning_rate=0.5, max_depth=30, n_estimators=6; total time=   0.1s\n",
      "[CV] END ....learning_rate=0.5, max_depth=30, n_estimators=6; total time=   0.1s\n",
      "[CV] END ....learning_rate=0.5, max_depth=30, n_estimators=5; total time=   0.0s\n",
      "[CV] END ....learning_rate=0.5, max_depth=20, n_estimators=7; total time=   0.1s\n",
      "[CV] END ....learning_rate=0.5, max_depth=35, n_estimators=5; total time=   0.0s\n",
      "[CV] END ....learning_rate=0.5, max_depth=30, n_estimators=6; total time=   0.1s\n",
      "[CV] END ....learning_rate=0.5, max_depth=30, n_estimators=7; total time=   0.1s\n",
      "[CV] END ....learning_rate=0.5, max_depth=35, n_estimators=5; total time=   0.1s\n",
      "[CV] END ....learning_rate=0.5, max_depth=30, n_estimators=7; total time=   0.1s\n",
      "[CV] END ....learning_rate=0.5, max_depth=20, n_estimators=8; total time=   0.1s\n",
      "[CV] END ....learning_rate=0.5, max_depth=30, n_estimators=8; total time=   0.1s\n",
      "[CV] END ....learning_rate=0.5, max_depth=35, n_estimators=5; total time=   0.0s\n",
      "[CV] END ....learning_rate=0.5, max_depth=30, n_estimators=6; total time=   0.1s\n",
      "[CV] END ....learning_rate=0.5, max_depth=30, n_estimators=7; total time=   0.1s\n",
      "[CV] END ....learning_rate=0.5, max_depth=30, n_estimators=6; total time=   0.1s\n",
      "[CV] END ....learning_rate=0.5, max_depth=35, n_estimators=5; total time=   0.0s\n",
      "[CV] END ....learning_rate=0.5, max_depth=35, n_estimators=5; total time=   0.0s\n",
      "[CV] END ....learning_rate=0.5, max_depth=20, n_estimators=7; total time=   0.1s\n",
      "[CV] END ....learning_rate=0.5, max_depth=30, n_estimators=8; total time=   0.1s\n",
      "[CV] END ....learning_rate=0.5, max_depth=20, n_estimators=8; total time=   0.1s\n",
      "[CV] END ....learning_rate=0.5, max_depth=20, n_estimators=8; total time=   0.1s\n",
      "[CV] END ....learning_rate=0.5, max_depth=35, n_estimators=6; total time=   0.1s\n",
      "[CV] END ....learning_rate=0.5, max_depth=35, n_estimators=6; total time=   0.1s\n",
      "[CV] END ....learning_rate=0.5, max_depth=30, n_estimators=7; total time=   0.1s\n",
      "[CV] END ....learning_rate=0.5, max_depth=35, n_estimators=6; total time=   0.1s\n",
      "[CV] END ....learning_rate=0.5, max_depth=35, n_estimators=6; total time=   0.1s\n",
      "[CV] END ....learning_rate=0.5, max_depth=35, n_estimators=6; total time=   0.1s\n",
      "[CV] END ....learning_rate=0.5, max_depth=30, n_estimators=7; total time=   0.1s\n",
      "[CV] END ....learning_rate=0.5, max_depth=30, n_estimators=8; total time=   0.1s\n",
      "[CV] END ....learning_rate=0.5, max_depth=35, n_estimators=7; total time=   0.1s\n",
      "[CV] END ....learning_rate=0.5, max_depth=30, n_estimators=8; total time=   0.1s\n",
      "[CV] END ....learning_rate=0.5, max_depth=35, n_estimators=7; total time=   0.1s\n",
      "[CV] END ....learning_rate=0.5, max_depth=35, n_estimators=7; total time=   0.1s\n",
      "[CV] END ....learning_rate=0.5, max_depth=35, n_estimators=8; total time=   0.1s\n",
      "[CV] END ....learning_rate=0.5, max_depth=35, n_estimators=7; total time=   0.1s\n",
      "[CV] END ....learning_rate=0.5, max_depth=35, n_estimators=7; total time=   0.1s\n",
      "[CV] END ....learning_rate=0.5, max_depth=30, n_estimators=8; total time=   0.1s\n",
      "[CV] END ....learning_rate=0.5, max_depth=35, n_estimators=8; total time=   0.1s\n",
      "[CV] END ....learning_rate=0.5, max_depth=35, n_estimators=8; total time=   0.1s\n",
      "[CV] END ....learning_rate=0.5, max_depth=35, n_estimators=8; total time=   0.1s\n",
      "[CV] END ....learning_rate=0.5, max_depth=35, n_estimators=8; total time=   0.1s\n"
     ]
    },
    {
     "data": {
      "text/html": [
       "<style>#sk-container-id-31 {color: black;background-color: white;}#sk-container-id-31 pre{padding: 0;}#sk-container-id-31 div.sk-toggleable {background-color: white;}#sk-container-id-31 label.sk-toggleable__label {cursor: pointer;display: block;width: 100%;margin-bottom: 0;padding: 0.3em;box-sizing: border-box;text-align: center;}#sk-container-id-31 label.sk-toggleable__label-arrow:before {content: \"▸\";float: left;margin-right: 0.25em;color: #696969;}#sk-container-id-31 label.sk-toggleable__label-arrow:hover:before {color: black;}#sk-container-id-31 div.sk-estimator:hover label.sk-toggleable__label-arrow:before {color: black;}#sk-container-id-31 div.sk-toggleable__content {max-height: 0;max-width: 0;overflow: hidden;text-align: left;background-color: #f0f8ff;}#sk-container-id-31 div.sk-toggleable__content pre {margin: 0.2em;color: black;border-radius: 0.25em;background-color: #f0f8ff;}#sk-container-id-31 input.sk-toggleable__control:checked~div.sk-toggleable__content {max-height: 200px;max-width: 100%;overflow: auto;}#sk-container-id-31 input.sk-toggleable__control:checked~label.sk-toggleable__label-arrow:before {content: \"▾\";}#sk-container-id-31 div.sk-estimator input.sk-toggleable__control:checked~label.sk-toggleable__label {background-color: #d4ebff;}#sk-container-id-31 div.sk-label input.sk-toggleable__control:checked~label.sk-toggleable__label {background-color: #d4ebff;}#sk-container-id-31 input.sk-hidden--visually {border: 0;clip: rect(1px 1px 1px 1px);clip: rect(1px, 1px, 1px, 1px);height: 1px;margin: -1px;overflow: hidden;padding: 0;position: absolute;width: 1px;}#sk-container-id-31 div.sk-estimator {font-family: monospace;background-color: #f0f8ff;border: 1px dotted black;border-radius: 0.25em;box-sizing: border-box;margin-bottom: 0.5em;}#sk-container-id-31 div.sk-estimator:hover {background-color: #d4ebff;}#sk-container-id-31 div.sk-parallel-item::after {content: \"\";width: 100%;border-bottom: 1px solid gray;flex-grow: 1;}#sk-container-id-31 div.sk-label:hover label.sk-toggleable__label {background-color: #d4ebff;}#sk-container-id-31 div.sk-serial::before {content: \"\";position: absolute;border-left: 1px solid gray;box-sizing: border-box;top: 0;bottom: 0;left: 50%;z-index: 0;}#sk-container-id-31 div.sk-serial {display: flex;flex-direction: column;align-items: center;background-color: white;padding-right: 0.2em;padding-left: 0.2em;position: relative;}#sk-container-id-31 div.sk-item {position: relative;z-index: 1;}#sk-container-id-31 div.sk-parallel {display: flex;align-items: stretch;justify-content: center;background-color: white;position: relative;}#sk-container-id-31 div.sk-item::before, #sk-container-id-31 div.sk-parallel-item::before {content: \"\";position: absolute;border-left: 1px solid gray;box-sizing: border-box;top: 0;bottom: 0;left: 50%;z-index: -1;}#sk-container-id-31 div.sk-parallel-item {display: flex;flex-direction: column;z-index: 1;position: relative;background-color: white;}#sk-container-id-31 div.sk-parallel-item:first-child::after {align-self: flex-end;width: 50%;}#sk-container-id-31 div.sk-parallel-item:last-child::after {align-self: flex-start;width: 50%;}#sk-container-id-31 div.sk-parallel-item:only-child::after {width: 0;}#sk-container-id-31 div.sk-dashed-wrapped {border: 1px dashed gray;margin: 0 0.4em 0.5em 0.4em;box-sizing: border-box;padding-bottom: 0.4em;background-color: white;}#sk-container-id-31 div.sk-label label {font-family: monospace;font-weight: bold;display: inline-block;line-height: 1.2em;}#sk-container-id-31 div.sk-label-container {text-align: center;}#sk-container-id-31 div.sk-container {/* jupyter's `normalize.less` sets `[hidden] { display: none; }` but bootstrap.min.css set `[hidden] { display: none !important; }` so we also need the `!important` here to be able to override the default hidden behavior on the sphinx rendered scikit-learn.org. See: https://github.com/scikit-learn/scikit-learn/issues/21755 */display: inline-block !important;position: relative;}#sk-container-id-31 div.sk-text-repr-fallback {display: none;}</style><div id=\"sk-container-id-31\" class=\"sk-top-container\"><div class=\"sk-text-repr-fallback\"><pre>GridSearchCV(cv=5,\n",
       "             estimator=XGBRegressor(base_score=None, booster=None,\n",
       "                                    callbacks=None, colsample_bylevel=None,\n",
       "                                    colsample_bynode=None,\n",
       "                                    colsample_bytree=None,\n",
       "                                    early_stopping_rounds=None,\n",
       "                                    enable_categorical=False, eval_metric=None,\n",
       "                                    feature_types=None, gamma=None, gpu_id=None,\n",
       "                                    grow_policy=None, importance_type=None,\n",
       "                                    interaction_constraints=None,\n",
       "                                    learning_rate=None, m...\n",
       "                                    max_cat_threshold=None,\n",
       "                                    max_cat_to_onehot=None, max_delta_step=None,\n",
       "                                    max_depth=None, max_leaves=None,\n",
       "                                    min_child_weight=None, missing=nan,\n",
       "                                    monotone_constraints=None, n_estimators=100,\n",
       "                                    n_jobs=None, num_parallel_tree=None,\n",
       "                                    predictor=None, random_state=None, ...),\n",
       "             n_jobs=-1,\n",
       "             param_grid={&#x27;learning_rate&#x27;: [0.3, 0.4, 0.5],\n",
       "                         &#x27;max_depth&#x27;: [20, 30, 35],\n",
       "                         &#x27;n_estimators&#x27;: [5, 6, 7, 8]},\n",
       "             verbose=2)</pre><b>In a Jupyter environment, please rerun this cell to show the HTML representation or trust the notebook. <br />On GitHub, the HTML representation is unable to render, please try loading this page with nbviewer.org.</b></div><div class=\"sk-container\" hidden><div class=\"sk-item sk-dashed-wrapped\"><div class=\"sk-label-container\"><div class=\"sk-label sk-toggleable\"><input class=\"sk-toggleable__control sk-hidden--visually\" id=\"sk-estimator-id-57\" type=\"checkbox\" ><label for=\"sk-estimator-id-57\" class=\"sk-toggleable__label sk-toggleable__label-arrow\">GridSearchCV</label><div class=\"sk-toggleable__content\"><pre>GridSearchCV(cv=5,\n",
       "             estimator=XGBRegressor(base_score=None, booster=None,\n",
       "                                    callbacks=None, colsample_bylevel=None,\n",
       "                                    colsample_bynode=None,\n",
       "                                    colsample_bytree=None,\n",
       "                                    early_stopping_rounds=None,\n",
       "                                    enable_categorical=False, eval_metric=None,\n",
       "                                    feature_types=None, gamma=None, gpu_id=None,\n",
       "                                    grow_policy=None, importance_type=None,\n",
       "                                    interaction_constraints=None,\n",
       "                                    learning_rate=None, m...\n",
       "                                    max_cat_threshold=None,\n",
       "                                    max_cat_to_onehot=None, max_delta_step=None,\n",
       "                                    max_depth=None, max_leaves=None,\n",
       "                                    min_child_weight=None, missing=nan,\n",
       "                                    monotone_constraints=None, n_estimators=100,\n",
       "                                    n_jobs=None, num_parallel_tree=None,\n",
       "                                    predictor=None, random_state=None, ...),\n",
       "             n_jobs=-1,\n",
       "             param_grid={&#x27;learning_rate&#x27;: [0.3, 0.4, 0.5],\n",
       "                         &#x27;max_depth&#x27;: [20, 30, 35],\n",
       "                         &#x27;n_estimators&#x27;: [5, 6, 7, 8]},\n",
       "             verbose=2)</pre></div></div></div><div class=\"sk-parallel\"><div class=\"sk-parallel-item\"><div class=\"sk-item\"><div class=\"sk-label-container\"><div class=\"sk-label sk-toggleable\"><input class=\"sk-toggleable__control sk-hidden--visually\" id=\"sk-estimator-id-58\" type=\"checkbox\" ><label for=\"sk-estimator-id-58\" class=\"sk-toggleable__label sk-toggleable__label-arrow\">estimator: XGBRegressor</label><div class=\"sk-toggleable__content\"><pre>XGBRegressor(base_score=None, booster=None, callbacks=None,\n",
       "             colsample_bylevel=None, colsample_bynode=None,\n",
       "             colsample_bytree=None, early_stopping_rounds=None,\n",
       "             enable_categorical=False, eval_metric=None, feature_types=None,\n",
       "             gamma=None, gpu_id=None, grow_policy=None, importance_type=None,\n",
       "             interaction_constraints=None, learning_rate=None, max_bin=None,\n",
       "             max_cat_threshold=None, max_cat_to_onehot=None,\n",
       "             max_delta_step=None, max_depth=None, max_leaves=None,\n",
       "             min_child_weight=None, missing=nan, monotone_constraints=None,\n",
       "             n_estimators=100, n_jobs=None, num_parallel_tree=None,\n",
       "             predictor=None, random_state=None, ...)</pre></div></div></div><div class=\"sk-serial\"><div class=\"sk-item\"><div class=\"sk-estimator sk-toggleable\"><input class=\"sk-toggleable__control sk-hidden--visually\" id=\"sk-estimator-id-59\" type=\"checkbox\" ><label for=\"sk-estimator-id-59\" class=\"sk-toggleable__label sk-toggleable__label-arrow\">XGBRegressor</label><div class=\"sk-toggleable__content\"><pre>XGBRegressor(base_score=None, booster=None, callbacks=None,\n",
       "             colsample_bylevel=None, colsample_bynode=None,\n",
       "             colsample_bytree=None, early_stopping_rounds=None,\n",
       "             enable_categorical=False, eval_metric=None, feature_types=None,\n",
       "             gamma=None, gpu_id=None, grow_policy=None, importance_type=None,\n",
       "             interaction_constraints=None, learning_rate=None, max_bin=None,\n",
       "             max_cat_threshold=None, max_cat_to_onehot=None,\n",
       "             max_delta_step=None, max_depth=None, max_leaves=None,\n",
       "             min_child_weight=None, missing=nan, monotone_constraints=None,\n",
       "             n_estimators=100, n_jobs=None, num_parallel_tree=None,\n",
       "             predictor=None, random_state=None, ...)</pre></div></div></div></div></div></div></div></div></div></div>"
      ],
      "text/plain": [
       "GridSearchCV(cv=5,\n",
       "             estimator=XGBRegressor(base_score=None, booster=None,\n",
       "                                    callbacks=None, colsample_bylevel=None,\n",
       "                                    colsample_bynode=None,\n",
       "                                    colsample_bytree=None,\n",
       "                                    early_stopping_rounds=None,\n",
       "                                    enable_categorical=False, eval_metric=None,\n",
       "                                    feature_types=None, gamma=None, gpu_id=None,\n",
       "                                    grow_policy=None, importance_type=None,\n",
       "                                    interaction_constraints=None,\n",
       "                                    learning_rate=None, m...\n",
       "                                    max_cat_threshold=None,\n",
       "                                    max_cat_to_onehot=None, max_delta_step=None,\n",
       "                                    max_depth=None, max_leaves=None,\n",
       "                                    min_child_weight=None, missing=nan,\n",
       "                                    monotone_constraints=None, n_estimators=100,\n",
       "                                    n_jobs=None, num_parallel_tree=None,\n",
       "                                    predictor=None, random_state=None, ...),\n",
       "             n_jobs=-1,\n",
       "             param_grid={'learning_rate': [0.3, 0.4, 0.5],\n",
       "                         'max_depth': [20, 30, 35],\n",
       "                         'n_estimators': [5, 6, 7, 8]},\n",
       "             verbose=2)"
      ]
     },
     "execution_count": 287,
     "metadata": {},
     "output_type": "execute_result"
    }
   ],
   "source": [
    "bst_grid.fit(X_train[:,RF.feature_importances_>0.001],y_train)"
   ]
  },
  {
   "cell_type": "code",
   "execution_count": 256,
   "metadata": {},
   "outputs": [
    {
     "data": {
      "text/html": [
       "<style>#sk-container-id-29 {color: black;background-color: white;}#sk-container-id-29 pre{padding: 0;}#sk-container-id-29 div.sk-toggleable {background-color: white;}#sk-container-id-29 label.sk-toggleable__label {cursor: pointer;display: block;width: 100%;margin-bottom: 0;padding: 0.3em;box-sizing: border-box;text-align: center;}#sk-container-id-29 label.sk-toggleable__label-arrow:before {content: \"▸\";float: left;margin-right: 0.25em;color: #696969;}#sk-container-id-29 label.sk-toggleable__label-arrow:hover:before {color: black;}#sk-container-id-29 div.sk-estimator:hover label.sk-toggleable__label-arrow:before {color: black;}#sk-container-id-29 div.sk-toggleable__content {max-height: 0;max-width: 0;overflow: hidden;text-align: left;background-color: #f0f8ff;}#sk-container-id-29 div.sk-toggleable__content pre {margin: 0.2em;color: black;border-radius: 0.25em;background-color: #f0f8ff;}#sk-container-id-29 input.sk-toggleable__control:checked~div.sk-toggleable__content {max-height: 200px;max-width: 100%;overflow: auto;}#sk-container-id-29 input.sk-toggleable__control:checked~label.sk-toggleable__label-arrow:before {content: \"▾\";}#sk-container-id-29 div.sk-estimator input.sk-toggleable__control:checked~label.sk-toggleable__label {background-color: #d4ebff;}#sk-container-id-29 div.sk-label input.sk-toggleable__control:checked~label.sk-toggleable__label {background-color: #d4ebff;}#sk-container-id-29 input.sk-hidden--visually {border: 0;clip: rect(1px 1px 1px 1px);clip: rect(1px, 1px, 1px, 1px);height: 1px;margin: -1px;overflow: hidden;padding: 0;position: absolute;width: 1px;}#sk-container-id-29 div.sk-estimator {font-family: monospace;background-color: #f0f8ff;border: 1px dotted black;border-radius: 0.25em;box-sizing: border-box;margin-bottom: 0.5em;}#sk-container-id-29 div.sk-estimator:hover {background-color: #d4ebff;}#sk-container-id-29 div.sk-parallel-item::after {content: \"\";width: 100%;border-bottom: 1px solid gray;flex-grow: 1;}#sk-container-id-29 div.sk-label:hover label.sk-toggleable__label {background-color: #d4ebff;}#sk-container-id-29 div.sk-serial::before {content: \"\";position: absolute;border-left: 1px solid gray;box-sizing: border-box;top: 0;bottom: 0;left: 50%;z-index: 0;}#sk-container-id-29 div.sk-serial {display: flex;flex-direction: column;align-items: center;background-color: white;padding-right: 0.2em;padding-left: 0.2em;position: relative;}#sk-container-id-29 div.sk-item {position: relative;z-index: 1;}#sk-container-id-29 div.sk-parallel {display: flex;align-items: stretch;justify-content: center;background-color: white;position: relative;}#sk-container-id-29 div.sk-item::before, #sk-container-id-29 div.sk-parallel-item::before {content: \"\";position: absolute;border-left: 1px solid gray;box-sizing: border-box;top: 0;bottom: 0;left: 50%;z-index: -1;}#sk-container-id-29 div.sk-parallel-item {display: flex;flex-direction: column;z-index: 1;position: relative;background-color: white;}#sk-container-id-29 div.sk-parallel-item:first-child::after {align-self: flex-end;width: 50%;}#sk-container-id-29 div.sk-parallel-item:last-child::after {align-self: flex-start;width: 50%;}#sk-container-id-29 div.sk-parallel-item:only-child::after {width: 0;}#sk-container-id-29 div.sk-dashed-wrapped {border: 1px dashed gray;margin: 0 0.4em 0.5em 0.4em;box-sizing: border-box;padding-bottom: 0.4em;background-color: white;}#sk-container-id-29 div.sk-label label {font-family: monospace;font-weight: bold;display: inline-block;line-height: 1.2em;}#sk-container-id-29 div.sk-label-container {text-align: center;}#sk-container-id-29 div.sk-container {/* jupyter's `normalize.less` sets `[hidden] { display: none; }` but bootstrap.min.css set `[hidden] { display: none !important; }` so we also need the `!important` here to be able to override the default hidden behavior on the sphinx rendered scikit-learn.org. See: https://github.com/scikit-learn/scikit-learn/issues/21755 */display: inline-block !important;position: relative;}#sk-container-id-29 div.sk-text-repr-fallback {display: none;}</style><div id=\"sk-container-id-29\" class=\"sk-top-container\"><div class=\"sk-text-repr-fallback\"><pre>XGBRegressor(base_score=None, booster=None, callbacks=None,\n",
       "             colsample_bylevel=None, colsample_bynode=None,\n",
       "             colsample_bytree=None, early_stopping_rounds=None,\n",
       "             enable_categorical=False, eval_metric=None, feature_types=None,\n",
       "             gamma=None, gpu_id=None, grow_policy=None, importance_type=None,\n",
       "             interaction_constraints=None, learning_rate=0.5, max_bin=None,\n",
       "             max_cat_threshold=None, max_cat_to_onehot=None,\n",
       "             max_delta_step=None, max_depth=35, max_leaves=None,\n",
       "             min_child_weight=None, missing=nan, monotone_constraints=None,\n",
       "             n_estimators=8, n_jobs=None, num_parallel_tree=None,\n",
       "             predictor=None, random_state=None, ...)</pre><b>In a Jupyter environment, please rerun this cell to show the HTML representation or trust the notebook. <br />On GitHub, the HTML representation is unable to render, please try loading this page with nbviewer.org.</b></div><div class=\"sk-container\" hidden><div class=\"sk-item\"><div class=\"sk-estimator sk-toggleable\"><input class=\"sk-toggleable__control sk-hidden--visually\" id=\"sk-estimator-id-55\" type=\"checkbox\" checked><label for=\"sk-estimator-id-55\" class=\"sk-toggleable__label sk-toggleable__label-arrow\">XGBRegressor</label><div class=\"sk-toggleable__content\"><pre>XGBRegressor(base_score=None, booster=None, callbacks=None,\n",
       "             colsample_bylevel=None, colsample_bynode=None,\n",
       "             colsample_bytree=None, early_stopping_rounds=None,\n",
       "             enable_categorical=False, eval_metric=None, feature_types=None,\n",
       "             gamma=None, gpu_id=None, grow_policy=None, importance_type=None,\n",
       "             interaction_constraints=None, learning_rate=0.5, max_bin=None,\n",
       "             max_cat_threshold=None, max_cat_to_onehot=None,\n",
       "             max_delta_step=None, max_depth=35, max_leaves=None,\n",
       "             min_child_weight=None, missing=nan, monotone_constraints=None,\n",
       "             n_estimators=8, n_jobs=None, num_parallel_tree=None,\n",
       "             predictor=None, random_state=None, ...)</pre></div></div></div></div></div>"
      ],
      "text/plain": [
       "XGBRegressor(base_score=None, booster=None, callbacks=None,\n",
       "             colsample_bylevel=None, colsample_bynode=None,\n",
       "             colsample_bytree=None, early_stopping_rounds=None,\n",
       "             enable_categorical=False, eval_metric=None, feature_types=None,\n",
       "             gamma=None, gpu_id=None, grow_policy=None, importance_type=None,\n",
       "             interaction_constraints=None, learning_rate=0.5, max_bin=None,\n",
       "             max_cat_threshold=None, max_cat_to_onehot=None,\n",
       "             max_delta_step=None, max_depth=35, max_leaves=None,\n",
       "             min_child_weight=None, missing=nan, monotone_constraints=None,\n",
       "             n_estimators=8, n_jobs=None, num_parallel_tree=None,\n",
       "             predictor=None, random_state=None, ...)"
      ]
     },
     "execution_count": 256,
     "metadata": {},
     "output_type": "execute_result"
    }
   ],
   "source": [
    "bst_grid.best_estimator_"
   ]
  },
  {
   "cell_type": "code",
   "execution_count": 288,
   "metadata": {},
   "outputs": [
    {
     "data": {
      "text/html": [
       "<style>#sk-container-id-32 {color: black;background-color: white;}#sk-container-id-32 pre{padding: 0;}#sk-container-id-32 div.sk-toggleable {background-color: white;}#sk-container-id-32 label.sk-toggleable__label {cursor: pointer;display: block;width: 100%;margin-bottom: 0;padding: 0.3em;box-sizing: border-box;text-align: center;}#sk-container-id-32 label.sk-toggleable__label-arrow:before {content: \"▸\";float: left;margin-right: 0.25em;color: #696969;}#sk-container-id-32 label.sk-toggleable__label-arrow:hover:before {color: black;}#sk-container-id-32 div.sk-estimator:hover label.sk-toggleable__label-arrow:before {color: black;}#sk-container-id-32 div.sk-toggleable__content {max-height: 0;max-width: 0;overflow: hidden;text-align: left;background-color: #f0f8ff;}#sk-container-id-32 div.sk-toggleable__content pre {margin: 0.2em;color: black;border-radius: 0.25em;background-color: #f0f8ff;}#sk-container-id-32 input.sk-toggleable__control:checked~div.sk-toggleable__content {max-height: 200px;max-width: 100%;overflow: auto;}#sk-container-id-32 input.sk-toggleable__control:checked~label.sk-toggleable__label-arrow:before {content: \"▾\";}#sk-container-id-32 div.sk-estimator input.sk-toggleable__control:checked~label.sk-toggleable__label {background-color: #d4ebff;}#sk-container-id-32 div.sk-label input.sk-toggleable__control:checked~label.sk-toggleable__label {background-color: #d4ebff;}#sk-container-id-32 input.sk-hidden--visually {border: 0;clip: rect(1px 1px 1px 1px);clip: rect(1px, 1px, 1px, 1px);height: 1px;margin: -1px;overflow: hidden;padding: 0;position: absolute;width: 1px;}#sk-container-id-32 div.sk-estimator {font-family: monospace;background-color: #f0f8ff;border: 1px dotted black;border-radius: 0.25em;box-sizing: border-box;margin-bottom: 0.5em;}#sk-container-id-32 div.sk-estimator:hover {background-color: #d4ebff;}#sk-container-id-32 div.sk-parallel-item::after {content: \"\";width: 100%;border-bottom: 1px solid gray;flex-grow: 1;}#sk-container-id-32 div.sk-label:hover label.sk-toggleable__label {background-color: #d4ebff;}#sk-container-id-32 div.sk-serial::before {content: \"\";position: absolute;border-left: 1px solid gray;box-sizing: border-box;top: 0;bottom: 0;left: 50%;z-index: 0;}#sk-container-id-32 div.sk-serial {display: flex;flex-direction: column;align-items: center;background-color: white;padding-right: 0.2em;padding-left: 0.2em;position: relative;}#sk-container-id-32 div.sk-item {position: relative;z-index: 1;}#sk-container-id-32 div.sk-parallel {display: flex;align-items: stretch;justify-content: center;background-color: white;position: relative;}#sk-container-id-32 div.sk-item::before, #sk-container-id-32 div.sk-parallel-item::before {content: \"\";position: absolute;border-left: 1px solid gray;box-sizing: border-box;top: 0;bottom: 0;left: 50%;z-index: -1;}#sk-container-id-32 div.sk-parallel-item {display: flex;flex-direction: column;z-index: 1;position: relative;background-color: white;}#sk-container-id-32 div.sk-parallel-item:first-child::after {align-self: flex-end;width: 50%;}#sk-container-id-32 div.sk-parallel-item:last-child::after {align-self: flex-start;width: 50%;}#sk-container-id-32 div.sk-parallel-item:only-child::after {width: 0;}#sk-container-id-32 div.sk-dashed-wrapped {border: 1px dashed gray;margin: 0 0.4em 0.5em 0.4em;box-sizing: border-box;padding-bottom: 0.4em;background-color: white;}#sk-container-id-32 div.sk-label label {font-family: monospace;font-weight: bold;display: inline-block;line-height: 1.2em;}#sk-container-id-32 div.sk-label-container {text-align: center;}#sk-container-id-32 div.sk-container {/* jupyter's `normalize.less` sets `[hidden] { display: none; }` but bootstrap.min.css set `[hidden] { display: none !important; }` so we also need the `!important` here to be able to override the default hidden behavior on the sphinx rendered scikit-learn.org. See: https://github.com/scikit-learn/scikit-learn/issues/21755 */display: inline-block !important;position: relative;}#sk-container-id-32 div.sk-text-repr-fallback {display: none;}</style><div id=\"sk-container-id-32\" class=\"sk-top-container\"><div class=\"sk-text-repr-fallback\"><pre>XGBRegressor(base_score=None, booster=None, callbacks=None,\n",
       "             colsample_bylevel=None, colsample_bynode=None,\n",
       "             colsample_bytree=None, early_stopping_rounds=None,\n",
       "             enable_categorical=False, eval_metric=None, feature_types=None,\n",
       "             gamma=None, gpu_id=None, grow_policy=None, importance_type=None,\n",
       "             interaction_constraints=None, learning_rate=0.5, max_bin=None,\n",
       "             max_cat_threshold=None, max_cat_to_onehot=None,\n",
       "             max_delta_step=None, max_depth=20, max_leaves=None,\n",
       "             min_child_weight=None, missing=nan, monotone_constraints=None,\n",
       "             n_estimators=8, n_jobs=None, num_parallel_tree=None,\n",
       "             predictor=None, random_state=None, ...)</pre><b>In a Jupyter environment, please rerun this cell to show the HTML representation or trust the notebook. <br />On GitHub, the HTML representation is unable to render, please try loading this page with nbviewer.org.</b></div><div class=\"sk-container\" hidden><div class=\"sk-item\"><div class=\"sk-estimator sk-toggleable\"><input class=\"sk-toggleable__control sk-hidden--visually\" id=\"sk-estimator-id-60\" type=\"checkbox\" checked><label for=\"sk-estimator-id-60\" class=\"sk-toggleable__label sk-toggleable__label-arrow\">XGBRegressor</label><div class=\"sk-toggleable__content\"><pre>XGBRegressor(base_score=None, booster=None, callbacks=None,\n",
       "             colsample_bylevel=None, colsample_bynode=None,\n",
       "             colsample_bytree=None, early_stopping_rounds=None,\n",
       "             enable_categorical=False, eval_metric=None, feature_types=None,\n",
       "             gamma=None, gpu_id=None, grow_policy=None, importance_type=None,\n",
       "             interaction_constraints=None, learning_rate=0.5, max_bin=None,\n",
       "             max_cat_threshold=None, max_cat_to_onehot=None,\n",
       "             max_delta_step=None, max_depth=20, max_leaves=None,\n",
       "             min_child_weight=None, missing=nan, monotone_constraints=None,\n",
       "             n_estimators=8, n_jobs=None, num_parallel_tree=None,\n",
       "             predictor=None, random_state=None, ...)</pre></div></div></div></div></div>"
      ],
      "text/plain": [
       "XGBRegressor(base_score=None, booster=None, callbacks=None,\n",
       "             colsample_bylevel=None, colsample_bynode=None,\n",
       "             colsample_bytree=None, early_stopping_rounds=None,\n",
       "             enable_categorical=False, eval_metric=None, feature_types=None,\n",
       "             gamma=None, gpu_id=None, grow_policy=None, importance_type=None,\n",
       "             interaction_constraints=None, learning_rate=0.5, max_bin=None,\n",
       "             max_cat_threshold=None, max_cat_to_onehot=None,\n",
       "             max_delta_step=None, max_depth=20, max_leaves=None,\n",
       "             min_child_weight=None, missing=nan, monotone_constraints=None,\n",
       "             n_estimators=8, n_jobs=None, num_parallel_tree=None,\n",
       "             predictor=None, random_state=None, ...)"
      ]
     },
     "execution_count": 288,
     "metadata": {},
     "output_type": "execute_result"
    }
   ],
   "source": [
    "bst_grid.best_estimator_"
   ]
  },
  {
   "cell_type": "code",
   "execution_count": 289,
   "metadata": {},
   "outputs": [],
   "source": [
    "bst_train_pred=bst_grid.predict(X_train[:,RF.feature_importances_>0.001])\n",
    "bst_test_pred=bst_grid.predict(X_test[:,RF.feature_importances_>0.001])"
   ]
  },
  {
   "cell_type": "code",
   "execution_count": 258,
   "metadata": {},
   "outputs": [
    {
     "name": "stdout",
     "output_type": "stream",
     "text": [
      "MSE train XGBoost= 5705.392548953097\n",
      "MSE test XGBoost= 32273.302977241212\n"
     ]
    }
   ],
   "source": [
    "print('MSE train XGBoost=' , mean_squared_error(y_train,bst_train_pred, squared=False))\n",
    "print('MSE test XGBoost=' , mean_squared_error(y_test,bst_test_pred, squared=False))"
   ]
  },
  {
   "cell_type": "code",
   "execution_count": 241,
   "metadata": {},
   "outputs": [
    {
     "name": "stdout",
     "output_type": "stream",
     "text": [
      "MSE2 train XGBoost= 8011.072273200967\n",
      "MSE2 test XGBoost= 31303.222218650364\n"
     ]
    }
   ],
   "source": [
    "bst_train_pred2=bst_grid2.predict(X_train)\n",
    "bst_test_pred2=bst_grid2.predict(X_test)\n",
    "print('MSE2 train XGBoost=' , mean_squared_error(y_train,bst_train_pred2, squared=False))\n",
    "print('MSE2 test XGBoost=' , mean_squared_error(y_test,bst_test_pred2, squared=False))"
   ]
  },
  {
   "cell_type": "code",
   "execution_count": 290,
   "metadata": {},
   "outputs": [
    {
     "name": "stdout",
     "output_type": "stream",
     "text": [
      "MSE train XGBoost con 45 features de acuerdo a la improtancia en randomforest= 6573.956565841297\n",
      "MSE test XGBoost con 45 features de acuerdo a la improtancia en randomforest= 30867.136278351787\n"
     ]
    }
   ],
   "source": [
    "print('MSE train XGBoost con 45 features de acuerdo a la improtancia en randomforest=' , mean_squared_error(y_train,bst_train_pred, squared=False))\n",
    "print('MSE test XGBoost con 45 features de acuerdo a la improtancia en randomforest=' , mean_squared_error(y_test,bst_test_pred, squared=False))"
   ]
  },
  {
   "attachments": {},
   "cell_type": "markdown",
   "metadata": {},
   "source": [
    "#### MLP"
   ]
  },
  {
   "cell_type": "code",
   "execution_count": 304,
   "metadata": {},
   "outputs": [
    {
     "name": "stderr",
     "output_type": "stream",
     "text": [
      "2023-03-27 16:37:55.431677: I tensorflow/tsl/cuda/cudart_stub.cc:28] Could not find cuda drivers on your machine, GPU will not be used.\n",
      "2023-03-27 16:37:55.458063: I tensorflow/tsl/cuda/cudart_stub.cc:28] Could not find cuda drivers on your machine, GPU will not be used.\n",
      "2023-03-27 16:37:55.459005: I tensorflow/core/platform/cpu_feature_guard.cc:182] This TensorFlow binary is optimized to use available CPU instructions in performance-critical operations.\n",
      "To enable the following instructions: AVX2 FMA, in other operations, rebuild TensorFlow with the appropriate compiler flags.\n",
      "2023-03-27 16:37:56.141971: W tensorflow/compiler/tf2tensorrt/utils/py_utils.cc:38] TF-TRT Warning: Could not find TensorRT\n"
     ]
    }
   ],
   "source": [
    "from tensorflow import keras\n",
    "from tensorflow.keras import layers"
   ]
  },
  {
   "cell_type": "code",
   "execution_count": 305,
   "metadata": {},
   "outputs": [
    {
     "data": {
      "text/plain": [
       "(1168, 290)"
      ]
     },
     "execution_count": 305,
     "metadata": {},
     "output_type": "execute_result"
    }
   ],
   "source": [
    "X_train.shape"
   ]
  },
  {
   "cell_type": "code",
   "execution_count": 310,
   "metadata": {},
   "outputs": [
    {
     "name": "stdout",
     "output_type": "stream",
     "text": [
      "Model: \"sequential_2\"\n",
      "_________________________________________________________________\n",
      " Layer (type)                Output Shape              Param #   \n",
      "=================================================================\n",
      " dense_8 (Dense)             (None, 500)               145500    \n",
      "                                                                 \n",
      " dense_9 (Dense)             (None, 300)               150300    \n",
      "                                                                 \n",
      " dense_10 (Dense)            (None, 100)               30100     \n",
      "                                                                 \n",
      " dense_11 (Dense)            (None, 1)                 101       \n",
      "                                                                 \n",
      "=================================================================\n",
      "Total params: 326,001\n",
      "Trainable params: 326,001\n",
      "Non-trainable params: 0\n",
      "_________________________________________________________________\n"
     ]
    }
   ],
   "source": [
    "model = keras.Sequential()\n",
    "model.add(layers.Input(shape=290))\n",
    "#model.add(layers.Dense(8, input_dim=6, activation='relu'))\n",
    "model.add(layers.Dense(500, activation='relu'))\n",
    "model.add(layers.Dense(300, activation='relu'))\n",
    "model.add(layers.Dense(100, activation='relu'))\n",
    "#model.add(layers.Dropout(0.1))\n",
    "model.add(layers.Dense(1))\n",
    "model.summary()"
   ]
  },
  {
   "cell_type": "code",
   "execution_count": null,
   "metadata": {},
   "outputs": [],
   "source": [
    "opt = keras.optimizers.Adam(learning_rate=0.01)"
   ]
  },
  {
   "cell_type": "code",
   "execution_count": null,
   "metadata": {},
   "outputs": [],
   "source": [
    "model.compile(\n",
    "  loss='sparse_categorical_crossentropy', \n",
    "  optimizer=opt,\n",
    "  metrics=['accuracy'],\n",
    ")"
   ]
  },
  {
   "cell_type": "code",
   "execution_count": null,
   "metadata": {},
   "outputs": [],
   "source": [
    "cp2 = keras.callbacks.ModelCheckpoint('/home/manuelquiros/Documents/Kaggle/House Prices/MLP1/', save_best_only=True)\n",
    "log_dir2 = \"MLP4/logs/fit/\"\n",
    "tb2 = keras.callbacks.TensorBoard(log_dir=log_dir2, histogram_freq=1)\n",
    "es2 = keras.callbacks.EarlyStopping(monitor='val_accuracy', patience=30)\n",
    "lr = keras.callbacks.ReduceLROnPlateau(monitor='val_accuracy', factor=0.2,patience=15, min_lr=0.0000001)"
   ]
  },
  {
   "cell_type": "code",
   "execution_count": null,
   "metadata": {},
   "outputs": [],
   "source": [
    "history = model.fit(\n",
    "  X_train, \n",
    "  y_train['Survived'], \n",
    "  epochs=200, \n",
    "  batch_size=8, \n",
    "  validation_split=0.2,\n",
    "  callbacks=[cp2,lr]\n",
    ")"
   ]
  }
 ],
 "metadata": {
  "kernelspec": {
   "display_name": "KaggleTitanic",
   "language": "python",
   "name": "python3"
  },
  "language_info": {
   "codemirror_mode": {
    "name": "ipython",
    "version": 3
   },
   "file_extension": ".py",
   "mimetype": "text/x-python",
   "name": "python",
   "nbconvert_exporter": "python",
   "pygments_lexer": "ipython3",
   "version": "3.10.6"
  },
  "orig_nbformat": 4,
  "vscode": {
   "interpreter": {
    "hash": "83474ebaa8787261e8f0a20780c8c281efc65626e2789404694a95483fbffde8"
   }
  }
 },
 "nbformat": 4,
 "nbformat_minor": 2
}
