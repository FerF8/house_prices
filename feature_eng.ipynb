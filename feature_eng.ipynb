{
 "cells": [
  {
   "cell_type": "code",
   "execution_count": 1,
   "metadata": {},
   "outputs": [],
   "source": [
    "import pandas as pd\n",
    "import numpy as np"
   ]
  },
  {
   "cell_type": "code",
   "execution_count": 134,
   "metadata": {},
   "outputs": [],
   "source": [
    "from sklearn.compose import ColumnTransformer\n",
    "from sklearn.impute import SimpleImputer\n",
    "from sklearn.model_selection import RandomizedSearchCV, train_test_split, GridSearchCV\n",
    "from sklearn.pipeline import Pipeline\n",
    "from sklearn.preprocessing import OneHotEncoder, StandardScaler\n",
    "from sklearn.tree import DecisionTreeClassifier\n",
    "from sklearn.linear_model import LinearRegression\n",
    "from sklearn.metrics import mean_absolute_error, mean_squared_error, accuracy_score\n",
    "import matplotlib.pyplot as plt\n",
    "import numpy as np\n",
    "import pandas as pd\n",
    "import scipy\n"
   ]
  },
  {
   "cell_type": "code",
   "execution_count": 47,
   "metadata": {},
   "outputs": [],
   "source": [
    "train_df=pd.read_csv('train.csv')\n",
    "test_df=pd.read_csv('test.csv')"
   ]
  },
  {
   "cell_type": "code",
   "execution_count": null,
   "metadata": {},
   "outputs": [],
   "source": [
    "def "
   ]
  },
  {
   "cell_type": "code",
   "execution_count": 48,
   "metadata": {},
   "outputs": [
    {
     "data": {
      "text/html": [
       "<div>\n",
       "<style scoped>\n",
       "    .dataframe tbody tr th:only-of-type {\n",
       "        vertical-align: middle;\n",
       "    }\n",
       "\n",
       "    .dataframe tbody tr th {\n",
       "        vertical-align: top;\n",
       "    }\n",
       "\n",
       "    .dataframe thead th {\n",
       "        text-align: right;\n",
       "    }\n",
       "</style>\n",
       "<table border=\"1\" class=\"dataframe\">\n",
       "  <thead>\n",
       "    <tr style=\"text-align: right;\">\n",
       "      <th></th>\n",
       "      <th>Id</th>\n",
       "      <th>MSSubClass</th>\n",
       "      <th>MSZoning</th>\n",
       "      <th>LotFrontage</th>\n",
       "      <th>LotArea</th>\n",
       "      <th>Street</th>\n",
       "      <th>Alley</th>\n",
       "      <th>LotShape</th>\n",
       "      <th>LandContour</th>\n",
       "      <th>Utilities</th>\n",
       "      <th>...</th>\n",
       "      <th>PoolArea</th>\n",
       "      <th>PoolQC</th>\n",
       "      <th>Fence</th>\n",
       "      <th>MiscFeature</th>\n",
       "      <th>MiscVal</th>\n",
       "      <th>MoSold</th>\n",
       "      <th>YrSold</th>\n",
       "      <th>SaleType</th>\n",
       "      <th>SaleCondition</th>\n",
       "      <th>SalePrice</th>\n",
       "    </tr>\n",
       "  </thead>\n",
       "  <tbody>\n",
       "    <tr>\n",
       "      <th>0</th>\n",
       "      <td>1</td>\n",
       "      <td>60</td>\n",
       "      <td>RL</td>\n",
       "      <td>65.0</td>\n",
       "      <td>8450</td>\n",
       "      <td>Pave</td>\n",
       "      <td>NaN</td>\n",
       "      <td>Reg</td>\n",
       "      <td>Lvl</td>\n",
       "      <td>AllPub</td>\n",
       "      <td>...</td>\n",
       "      <td>0</td>\n",
       "      <td>NaN</td>\n",
       "      <td>NaN</td>\n",
       "      <td>NaN</td>\n",
       "      <td>0</td>\n",
       "      <td>2</td>\n",
       "      <td>2008</td>\n",
       "      <td>WD</td>\n",
       "      <td>Normal</td>\n",
       "      <td>208500</td>\n",
       "    </tr>\n",
       "    <tr>\n",
       "      <th>1</th>\n",
       "      <td>2</td>\n",
       "      <td>20</td>\n",
       "      <td>RL</td>\n",
       "      <td>80.0</td>\n",
       "      <td>9600</td>\n",
       "      <td>Pave</td>\n",
       "      <td>NaN</td>\n",
       "      <td>Reg</td>\n",
       "      <td>Lvl</td>\n",
       "      <td>AllPub</td>\n",
       "      <td>...</td>\n",
       "      <td>0</td>\n",
       "      <td>NaN</td>\n",
       "      <td>NaN</td>\n",
       "      <td>NaN</td>\n",
       "      <td>0</td>\n",
       "      <td>5</td>\n",
       "      <td>2007</td>\n",
       "      <td>WD</td>\n",
       "      <td>Normal</td>\n",
       "      <td>181500</td>\n",
       "    </tr>\n",
       "    <tr>\n",
       "      <th>2</th>\n",
       "      <td>3</td>\n",
       "      <td>60</td>\n",
       "      <td>RL</td>\n",
       "      <td>68.0</td>\n",
       "      <td>11250</td>\n",
       "      <td>Pave</td>\n",
       "      <td>NaN</td>\n",
       "      <td>IR1</td>\n",
       "      <td>Lvl</td>\n",
       "      <td>AllPub</td>\n",
       "      <td>...</td>\n",
       "      <td>0</td>\n",
       "      <td>NaN</td>\n",
       "      <td>NaN</td>\n",
       "      <td>NaN</td>\n",
       "      <td>0</td>\n",
       "      <td>9</td>\n",
       "      <td>2008</td>\n",
       "      <td>WD</td>\n",
       "      <td>Normal</td>\n",
       "      <td>223500</td>\n",
       "    </tr>\n",
       "    <tr>\n",
       "      <th>3</th>\n",
       "      <td>4</td>\n",
       "      <td>70</td>\n",
       "      <td>RL</td>\n",
       "      <td>60.0</td>\n",
       "      <td>9550</td>\n",
       "      <td>Pave</td>\n",
       "      <td>NaN</td>\n",
       "      <td>IR1</td>\n",
       "      <td>Lvl</td>\n",
       "      <td>AllPub</td>\n",
       "      <td>...</td>\n",
       "      <td>0</td>\n",
       "      <td>NaN</td>\n",
       "      <td>NaN</td>\n",
       "      <td>NaN</td>\n",
       "      <td>0</td>\n",
       "      <td>2</td>\n",
       "      <td>2006</td>\n",
       "      <td>WD</td>\n",
       "      <td>Abnorml</td>\n",
       "      <td>140000</td>\n",
       "    </tr>\n",
       "    <tr>\n",
       "      <th>4</th>\n",
       "      <td>5</td>\n",
       "      <td>60</td>\n",
       "      <td>RL</td>\n",
       "      <td>84.0</td>\n",
       "      <td>14260</td>\n",
       "      <td>Pave</td>\n",
       "      <td>NaN</td>\n",
       "      <td>IR1</td>\n",
       "      <td>Lvl</td>\n",
       "      <td>AllPub</td>\n",
       "      <td>...</td>\n",
       "      <td>0</td>\n",
       "      <td>NaN</td>\n",
       "      <td>NaN</td>\n",
       "      <td>NaN</td>\n",
       "      <td>0</td>\n",
       "      <td>12</td>\n",
       "      <td>2008</td>\n",
       "      <td>WD</td>\n",
       "      <td>Normal</td>\n",
       "      <td>250000</td>\n",
       "    </tr>\n",
       "  </tbody>\n",
       "</table>\n",
       "<p>5 rows × 81 columns</p>\n",
       "</div>"
      ],
      "text/plain": [
       "   Id  MSSubClass MSZoning  LotFrontage  LotArea Street Alley LotShape  \\\n",
       "0   1          60       RL         65.0     8450   Pave   NaN      Reg   \n",
       "1   2          20       RL         80.0     9600   Pave   NaN      Reg   \n",
       "2   3          60       RL         68.0    11250   Pave   NaN      IR1   \n",
       "3   4          70       RL         60.0     9550   Pave   NaN      IR1   \n",
       "4   5          60       RL         84.0    14260   Pave   NaN      IR1   \n",
       "\n",
       "  LandContour Utilities  ... PoolArea PoolQC Fence MiscFeature MiscVal MoSold  \\\n",
       "0         Lvl    AllPub  ...        0    NaN   NaN         NaN       0      2   \n",
       "1         Lvl    AllPub  ...        0    NaN   NaN         NaN       0      5   \n",
       "2         Lvl    AllPub  ...        0    NaN   NaN         NaN       0      9   \n",
       "3         Lvl    AllPub  ...        0    NaN   NaN         NaN       0      2   \n",
       "4         Lvl    AllPub  ...        0    NaN   NaN         NaN       0     12   \n",
       "\n",
       "  YrSold  SaleType  SaleCondition  SalePrice  \n",
       "0   2008        WD         Normal     208500  \n",
       "1   2007        WD         Normal     181500  \n",
       "2   2008        WD         Normal     223500  \n",
       "3   2006        WD        Abnorml     140000  \n",
       "4   2008        WD         Normal     250000  \n",
       "\n",
       "[5 rows x 81 columns]"
      ]
     },
     "execution_count": 48,
     "metadata": {},
     "output_type": "execute_result"
    }
   ],
   "source": [
    "train_df.head()"
   ]
  },
  {
   "cell_type": "code",
   "execution_count": 49,
   "metadata": {},
   "outputs": [
    {
     "data": {
      "text/plain": [
       "(1460, 81)"
      ]
     },
     "execution_count": 49,
     "metadata": {},
     "output_type": "execute_result"
    }
   ],
   "source": [
    "train_df.shape"
   ]
  },
  {
   "cell_type": "code",
   "execution_count": 50,
   "metadata": {},
   "outputs": [],
   "source": [
    "X=train_df.drop(columns=['SalePrice'])\n",
    "y=train_df['SalePrice']"
   ]
  },
  {
   "cell_type": "code",
   "execution_count": 51,
   "metadata": {},
   "outputs": [
    {
     "data": {
      "text/html": [
       "<div>\n",
       "<style scoped>\n",
       "    .dataframe tbody tr th:only-of-type {\n",
       "        vertical-align: middle;\n",
       "    }\n",
       "\n",
       "    .dataframe tbody tr th {\n",
       "        vertical-align: top;\n",
       "    }\n",
       "\n",
       "    .dataframe thead th {\n",
       "        text-align: right;\n",
       "    }\n",
       "</style>\n",
       "<table border=\"1\" class=\"dataframe\">\n",
       "  <thead>\n",
       "    <tr style=\"text-align: right;\">\n",
       "      <th></th>\n",
       "      <th>Id</th>\n",
       "      <th>MSSubClass</th>\n",
       "      <th>MSZoning</th>\n",
       "      <th>LotFrontage</th>\n",
       "      <th>LotArea</th>\n",
       "      <th>Street</th>\n",
       "      <th>Alley</th>\n",
       "      <th>LotShape</th>\n",
       "      <th>LandContour</th>\n",
       "      <th>Utilities</th>\n",
       "      <th>...</th>\n",
       "      <th>ScreenPorch</th>\n",
       "      <th>PoolArea</th>\n",
       "      <th>PoolQC</th>\n",
       "      <th>Fence</th>\n",
       "      <th>MiscFeature</th>\n",
       "      <th>MiscVal</th>\n",
       "      <th>MoSold</th>\n",
       "      <th>YrSold</th>\n",
       "      <th>SaleType</th>\n",
       "      <th>SaleCondition</th>\n",
       "    </tr>\n",
       "  </thead>\n",
       "  <tbody>\n",
       "    <tr>\n",
       "      <th>0</th>\n",
       "      <td>1</td>\n",
       "      <td>60</td>\n",
       "      <td>RL</td>\n",
       "      <td>65.0</td>\n",
       "      <td>8450</td>\n",
       "      <td>Pave</td>\n",
       "      <td>NaN</td>\n",
       "      <td>Reg</td>\n",
       "      <td>Lvl</td>\n",
       "      <td>AllPub</td>\n",
       "      <td>...</td>\n",
       "      <td>0</td>\n",
       "      <td>0</td>\n",
       "      <td>NaN</td>\n",
       "      <td>NaN</td>\n",
       "      <td>NaN</td>\n",
       "      <td>0</td>\n",
       "      <td>2</td>\n",
       "      <td>2008</td>\n",
       "      <td>WD</td>\n",
       "      <td>Normal</td>\n",
       "    </tr>\n",
       "    <tr>\n",
       "      <th>1</th>\n",
       "      <td>2</td>\n",
       "      <td>20</td>\n",
       "      <td>RL</td>\n",
       "      <td>80.0</td>\n",
       "      <td>9600</td>\n",
       "      <td>Pave</td>\n",
       "      <td>NaN</td>\n",
       "      <td>Reg</td>\n",
       "      <td>Lvl</td>\n",
       "      <td>AllPub</td>\n",
       "      <td>...</td>\n",
       "      <td>0</td>\n",
       "      <td>0</td>\n",
       "      <td>NaN</td>\n",
       "      <td>NaN</td>\n",
       "      <td>NaN</td>\n",
       "      <td>0</td>\n",
       "      <td>5</td>\n",
       "      <td>2007</td>\n",
       "      <td>WD</td>\n",
       "      <td>Normal</td>\n",
       "    </tr>\n",
       "    <tr>\n",
       "      <th>2</th>\n",
       "      <td>3</td>\n",
       "      <td>60</td>\n",
       "      <td>RL</td>\n",
       "      <td>68.0</td>\n",
       "      <td>11250</td>\n",
       "      <td>Pave</td>\n",
       "      <td>NaN</td>\n",
       "      <td>IR1</td>\n",
       "      <td>Lvl</td>\n",
       "      <td>AllPub</td>\n",
       "      <td>...</td>\n",
       "      <td>0</td>\n",
       "      <td>0</td>\n",
       "      <td>NaN</td>\n",
       "      <td>NaN</td>\n",
       "      <td>NaN</td>\n",
       "      <td>0</td>\n",
       "      <td>9</td>\n",
       "      <td>2008</td>\n",
       "      <td>WD</td>\n",
       "      <td>Normal</td>\n",
       "    </tr>\n",
       "    <tr>\n",
       "      <th>3</th>\n",
       "      <td>4</td>\n",
       "      <td>70</td>\n",
       "      <td>RL</td>\n",
       "      <td>60.0</td>\n",
       "      <td>9550</td>\n",
       "      <td>Pave</td>\n",
       "      <td>NaN</td>\n",
       "      <td>IR1</td>\n",
       "      <td>Lvl</td>\n",
       "      <td>AllPub</td>\n",
       "      <td>...</td>\n",
       "      <td>0</td>\n",
       "      <td>0</td>\n",
       "      <td>NaN</td>\n",
       "      <td>NaN</td>\n",
       "      <td>NaN</td>\n",
       "      <td>0</td>\n",
       "      <td>2</td>\n",
       "      <td>2006</td>\n",
       "      <td>WD</td>\n",
       "      <td>Abnorml</td>\n",
       "    </tr>\n",
       "    <tr>\n",
       "      <th>4</th>\n",
       "      <td>5</td>\n",
       "      <td>60</td>\n",
       "      <td>RL</td>\n",
       "      <td>84.0</td>\n",
       "      <td>14260</td>\n",
       "      <td>Pave</td>\n",
       "      <td>NaN</td>\n",
       "      <td>IR1</td>\n",
       "      <td>Lvl</td>\n",
       "      <td>AllPub</td>\n",
       "      <td>...</td>\n",
       "      <td>0</td>\n",
       "      <td>0</td>\n",
       "      <td>NaN</td>\n",
       "      <td>NaN</td>\n",
       "      <td>NaN</td>\n",
       "      <td>0</td>\n",
       "      <td>12</td>\n",
       "      <td>2008</td>\n",
       "      <td>WD</td>\n",
       "      <td>Normal</td>\n",
       "    </tr>\n",
       "  </tbody>\n",
       "</table>\n",
       "<p>5 rows × 80 columns</p>\n",
       "</div>"
      ],
      "text/plain": [
       "   Id  MSSubClass MSZoning  LotFrontage  LotArea Street Alley LotShape  \\\n",
       "0   1          60       RL         65.0     8450   Pave   NaN      Reg   \n",
       "1   2          20       RL         80.0     9600   Pave   NaN      Reg   \n",
       "2   3          60       RL         68.0    11250   Pave   NaN      IR1   \n",
       "3   4          70       RL         60.0     9550   Pave   NaN      IR1   \n",
       "4   5          60       RL         84.0    14260   Pave   NaN      IR1   \n",
       "\n",
       "  LandContour Utilities  ... ScreenPorch PoolArea PoolQC Fence MiscFeature  \\\n",
       "0         Lvl    AllPub  ...           0        0    NaN   NaN         NaN   \n",
       "1         Lvl    AllPub  ...           0        0    NaN   NaN         NaN   \n",
       "2         Lvl    AllPub  ...           0        0    NaN   NaN         NaN   \n",
       "3         Lvl    AllPub  ...           0        0    NaN   NaN         NaN   \n",
       "4         Lvl    AllPub  ...           0        0    NaN   NaN         NaN   \n",
       "\n",
       "  MiscVal MoSold  YrSold  SaleType  SaleCondition  \n",
       "0       0      2    2008        WD         Normal  \n",
       "1       0      5    2007        WD         Normal  \n",
       "2       0      9    2008        WD         Normal  \n",
       "3       0      2    2006        WD        Abnorml  \n",
       "4       0     12    2008        WD         Normal  \n",
       "\n",
       "[5 rows x 80 columns]"
      ]
     },
     "execution_count": 51,
     "metadata": {},
     "output_type": "execute_result"
    }
   ],
   "source": [
    "X.head()"
   ]
  },
  {
   "cell_type": "code",
   "execution_count": 52,
   "metadata": {},
   "outputs": [
    {
     "data": {
      "text/plain": [
       "0    208500\n",
       "1    181500\n",
       "2    223500\n",
       "3    140000\n",
       "4    250000\n",
       "Name: SalePrice, dtype: int64"
      ]
     },
     "execution_count": 52,
     "metadata": {},
     "output_type": "execute_result"
    }
   ],
   "source": [
    "y.head()"
   ]
  },
  {
   "cell_type": "code",
   "execution_count": 53,
   "metadata": {},
   "outputs": [],
   "source": [
    "isna=X.isna().sum()/X.shape[0]*100"
   ]
  },
  {
   "cell_type": "code",
   "execution_count": 54,
   "metadata": {},
   "outputs": [
    {
     "data": {
      "text/plain": [
       "LotFrontage     17.739726\n",
       "Alley           93.767123\n",
       "MasVnrType       0.547945\n",
       "MasVnrArea       0.547945\n",
       "BsmtQual         2.534247\n",
       "BsmtCond         2.534247\n",
       "BsmtExposure     2.602740\n",
       "BsmtFinType1     2.534247\n",
       "BsmtFinType2     2.602740\n",
       "Electrical       0.068493\n",
       "FireplaceQu     47.260274\n",
       "GarageType       5.547945\n",
       "GarageYrBlt      5.547945\n",
       "GarageFinish     5.547945\n",
       "GarageQual       5.547945\n",
       "GarageCond       5.547945\n",
       "PoolQC          99.520548\n",
       "Fence           80.753425\n",
       "MiscFeature     96.301370\n",
       "dtype: float64"
      ]
     },
     "execution_count": 54,
     "metadata": {},
     "output_type": "execute_result"
    }
   ],
   "source": [
    "isna[isna>0]"
   ]
  },
  {
   "attachments": {},
   "cell_type": "markdown",
   "metadata": {},
   "source": [
    "LotFrontage     17.739726   replace with int 0\n",
    "Alley           93.767123   replace with str no\n",
    "MasVnrType       0.547945   replace with str None\n",
    "MasVnrArea       0.547945   replace with int 0\n",
    "BsmtQual         2.534247   replace with str no\n",
    "BsmtCond         2.534247   replace with str no\n",
    "BsmtExposure     2.602740   replace with str no\n",
    "BsmtFinType1     2.534247   replace with str no\n",
    "BsmtFinType2     2.602740   replace with str no\n",
    "Electrical       0.068493   replace with str FuseF\n",
    "FireplaceQu     47.260274   replace with str no   \n",
    "GarageType       5.547945   replace with str no\n",
    "GarageYrBlt      5.547945   replace with 0\n",
    "GarageFinish     5.547945   replace with str no\n",
    "GarageQual       5.547945   replace with str no\n",
    "GarageCond       5.547945   replace with str no\n",
    "PoolQC          99.520548   drop\n",
    "Fence           80.753425   replace with str no\n",
    "MiscFeature     96.301370   drop"
   ]
  },
  {
   "cell_type": "code",
   "execution_count": 55,
   "metadata": {},
   "outputs": [
    {
     "data": {
      "text/plain": [
       "<AxesSubplot: >"
      ]
     },
     "execution_count": 55,
     "metadata": {},
     "output_type": "execute_result"
    },
    {
     "data": {
      "image/png": "[encoded data removed]",
      "text/plain": [
       "<Figure size 2500x1000 with 2 Axes>"
      ]
     },
     "metadata": {},
     "output_type": "display_data"
    }
   ],
   "source": [
    "import missingno as msno\n",
    "%matplotlib inline\n",
    "msno.matrix(X)"
   ]
  },
  {
   "cell_type": "code",
   "execution_count": 56,
   "metadata": {},
   "outputs": [],
   "source": [
    "X = X.drop(columns=['PoolQC','MiscFeature','Id'])"
   ]
  },
  {
   "cell_type": "code",
   "execution_count": 57,
   "metadata": {},
   "outputs": [],
   "source": [
    "X['LotFrontage']=X['LotFrontage'].fillna(0)\n",
    "X['Alley']=X['BsmtQual'].fillna('no')\n",
    "X['MasVnrType']=X['MasVnrType'].fillna('None')\n",
    "X['MasVnrArea']=X['MasVnrArea'].fillna(0)\n",
    "X['BsmtQual']=X['BsmtQual'].fillna('no')\n",
    "X['BsmtCond']=X['BsmtCond'].fillna('no')\n",
    "X['BsmtExposure']=X['BsmtExposure'].fillna('no')\n",
    "X['BsmtFinType1']=X['BsmtFinType1'].fillna('no')\n",
    "X['BsmtFinType2']=X['BsmtFinType2'].fillna('no')\n",
    "X['Electrical']=X['Electrical'].fillna('FuseF')\n",
    "X['FireplaceQu']=X['FireplaceQu'].fillna('no')\n",
    "X['GarageType']=X['GarageType'].fillna('no')\n",
    "X['GarageYrBlt']=X['GarageYrBlt'].fillna(0)\n",
    "X['GarageFinish']=X['GarageFinish'].fillna('no')\n",
    "X['GarageQual']=X['GarageQual'].fillna('no')\n",
    "X['GarageCond']=X['GarageCond'].fillna('no')\n",
    "X['Fence']=X['Fence'].fillna('no')\n"
   ]
  },
  {
   "cell_type": "code",
   "execution_count": 58,
   "metadata": {},
   "outputs": [],
   "source": [
    "isna2=X.isna().sum()/X.shape[0]*100"
   ]
  },
  {
   "cell_type": "code",
   "execution_count": 59,
   "metadata": {},
   "outputs": [
    {
     "data": {
      "text/plain": [
       "Series([], dtype: float64)"
      ]
     },
     "execution_count": 59,
     "metadata": {},
     "output_type": "execute_result"
    }
   ],
   "source": [
    "isna2[isna2>0]"
   ]
  },
  {
   "cell_type": "code",
   "execution_count": 60,
   "metadata": {},
   "outputs": [
    {
     "name": "stdout",
     "output_type": "stream",
     "text": [
      "There are 36 numerical features: ['MSSubClass', 'LotFrontage', 'LotArea', 'OverallQual', 'OverallCond', 'YearBuilt', 'YearRemodAdd', 'MasVnrArea', 'BsmtFinSF1', 'BsmtFinSF2', 'BsmtUnfSF', 'TotalBsmtSF', '1stFlrSF', '2ndFlrSF', 'LowQualFinSF', 'GrLivArea', 'BsmtFullBath', 'BsmtHalfBath', 'FullBath', 'HalfBath', 'BedroomAbvGr', 'KitchenAbvGr', 'TotRmsAbvGrd', 'Fireplaces', 'GarageYrBlt', 'GarageCars', 'GarageArea', 'WoodDeckSF', 'OpenPorchSF', 'EnclosedPorch', '3SsnPorch', 'ScreenPorch', 'PoolArea', 'MiscVal', 'MoSold', 'YrSold']\n",
      "\n",
      "There are 41 string features: ['MSZoning', 'Street', 'Alley', 'LotShape', 'LandContour', 'Utilities', 'LotConfig', 'LandSlope', 'Neighborhood', 'Condition1', 'Condition2', 'BldgType', 'HouseStyle', 'RoofStyle', 'RoofMatl', 'Exterior1st', 'Exterior2nd', 'MasVnrType', 'ExterQual', 'ExterCond', 'Foundation', 'BsmtQual', 'BsmtCond', 'BsmtExposure', 'BsmtFinType1', 'BsmtFinType2', 'Heating', 'HeatingQC', 'CentralAir', 'Electrical', 'KitchenQual', 'Functional', 'FireplaceQu', 'GarageType', 'GarageFinish', 'GarageQual', 'GarageCond', 'PavedDrive', 'Fence', 'SaleType', 'SaleCondition']\n",
      "\n"
     ]
    }
   ],
   "source": [
    "numerical_features = X.select_dtypes(include='number').columns.tolist()\n",
    "print(f\"There are {len(numerical_features)} numerical features: {numerical_features}\\n\")\n",
    "\n",
    "string_features = X.select_dtypes(exclude='number').columns.tolist()\n",
    "print(f\"There are {len(string_features)} string features: {string_features}\\n\")"
   ]
  },
  {
   "cell_type": "code",
   "execution_count": 17,
   "metadata": {},
   "outputs": [],
   "source": [
    "from sklearn.decomposition import PCA"
   ]
  },
  {
   "cell_type": "code",
   "execution_count": 61,
   "metadata": {},
   "outputs": [],
   "source": [
    "pca = PCA(n_components=0.999)\n",
    "X_pca = pca.fit_transform(X[numerical_features]) "
   ]
  },
  {
   "cell_type": "code",
   "execution_count": 62,
   "metadata": {},
   "outputs": [
    {
     "data": {
      "text/plain": [
       "array([-911.67637207,   21.78941855,  749.25393712,  225.94008421,\n",
       "        -46.7787475 ,  -42.91144689,  -78.51104664,   12.78456766])"
      ]
     },
     "execution_count": 62,
     "metadata": {},
     "output_type": "execute_result"
    }
   ],
   "source": [
    "X_pca[1]"
   ]
  },
  {
   "cell_type": "code",
   "execution_count": 63,
   "metadata": {},
   "outputs": [],
   "source": [
    "X_pca=pd.DataFrame(X_pca,columns=['a','b','c','d','e','f','g','h'])"
   ]
  },
  {
   "cell_type": "code",
   "execution_count": 64,
   "metadata": {},
   "outputs": [
    {
     "data": {
      "text/html": [
       "<div>\n",
       "<style scoped>\n",
       "    .dataframe tbody tr th:only-of-type {\n",
       "        vertical-align: middle;\n",
       "    }\n",
       "\n",
       "    .dataframe tbody tr th {\n",
       "        vertical-align: top;\n",
       "    }\n",
       "\n",
       "    .dataframe thead th {\n",
       "        text-align: right;\n",
       "    }\n",
       "</style>\n",
       "<table border=\"1\" class=\"dataframe\">\n",
       "  <thead>\n",
       "    <tr style=\"text-align: right;\">\n",
       "      <th></th>\n",
       "      <th>a</th>\n",
       "      <th>b</th>\n",
       "      <th>c</th>\n",
       "      <th>d</th>\n",
       "      <th>e</th>\n",
       "      <th>f</th>\n",
       "      <th>g</th>\n",
       "      <th>h</th>\n",
       "    </tr>\n",
       "  </thead>\n",
       "  <tbody>\n",
       "    <tr>\n",
       "      <th>0</th>\n",
       "      <td>-2065.077255</td>\n",
       "      <td>52.165492</td>\n",
       "      <td>-273.718781</td>\n",
       "      <td>748.783435</td>\n",
       "      <td>-166.431029</td>\n",
       "      <td>-98.524219</td>\n",
       "      <td>-181.927727</td>\n",
       "      <td>-4.957850</td>\n",
       "    </tr>\n",
       "    <tr>\n",
       "      <th>1</th>\n",
       "      <td>-911.676372</td>\n",
       "      <td>21.789419</td>\n",
       "      <td>749.253937</td>\n",
       "      <td>225.940084</td>\n",
       "      <td>-46.778747</td>\n",
       "      <td>-42.911447</td>\n",
       "      <td>-78.511047</td>\n",
       "      <td>12.784568</td>\n",
       "    </tr>\n",
       "    <tr>\n",
       "      <th>2</th>\n",
       "      <td>734.603982</td>\n",
       "      <td>113.438751</td>\n",
       "      <td>-464.058827</td>\n",
       "      <td>426.285256</td>\n",
       "      <td>-127.441554</td>\n",
       "      <td>-121.443679</td>\n",
       "      <td>-169.071133</td>\n",
       "      <td>-3.980658</td>\n",
       "    </tr>\n",
       "    <tr>\n",
       "      <th>3</th>\n",
       "      <td>-970.394967</td>\n",
       "      <td>-25.756271</td>\n",
       "      <td>-571.167973</td>\n",
       "      <td>200.401463</td>\n",
       "      <td>-99.214233</td>\n",
       "      <td>-187.054479</td>\n",
       "      <td>18.523437</td>\n",
       "      <td>-44.496041</td>\n",
       "    </tr>\n",
       "    <tr>\n",
       "      <th>4</th>\n",
       "      <td>3758.394528</td>\n",
       "      <td>652.613055</td>\n",
       "      <td>-539.613554</td>\n",
       "      <td>540.932019</td>\n",
       "      <td>-135.019793</td>\n",
       "      <td>-20.923267</td>\n",
       "      <td>-174.632281</td>\n",
       "      <td>-63.223660</td>\n",
       "    </tr>\n",
       "    <tr>\n",
       "      <th>...</th>\n",
       "      <td>...</td>\n",
       "      <td>...</td>\n",
       "      <td>...</td>\n",
       "      <td>...</td>\n",
       "      <td>...</td>\n",
       "      <td>...</td>\n",
       "      <td>...</td>\n",
       "      <td>...</td>\n",
       "    </tr>\n",
       "    <tr>\n",
       "      <th>1455</th>\n",
       "      <td>-2604.660441</td>\n",
       "      <td>64.604137</td>\n",
       "      <td>-642.684687</td>\n",
       "      <td>-266.234380</td>\n",
       "      <td>-21.615672</td>\n",
       "      <td>-179.848232</td>\n",
       "      <td>-112.166382</td>\n",
       "      <td>61.283377</td>\n",
       "    </tr>\n",
       "    <tr>\n",
       "      <th>1456</th>\n",
       "      <td>2685.113001</td>\n",
       "      <td>941.816974</td>\n",
       "      <td>552.920524</td>\n",
       "      <td>-99.222336</td>\n",
       "      <td>24.446995</td>\n",
       "      <td>167.116991</td>\n",
       "      <td>514.244874</td>\n",
       "      <td>-51.297431</td>\n",
       "    </tr>\n",
       "    <tr>\n",
       "      <th>1457</th>\n",
       "      <td>-1457.850462</td>\n",
       "      <td>632.847764</td>\n",
       "      <td>-1016.211383</td>\n",
       "      <td>522.525321</td>\n",
       "      <td>2401.938447</td>\n",
       "      <td>91.485169</td>\n",
       "      <td>-50.152575</td>\n",
       "      <td>123.518323</td>\n",
       "    </tr>\n",
       "    <tr>\n",
       "      <th>1458</th>\n",
       "      <td>-809.597577</td>\n",
       "      <td>-598.553680</td>\n",
       "      <td>320.253301</td>\n",
       "      <td>11.509882</td>\n",
       "      <td>-57.119486</td>\n",
       "      <td>-182.198082</td>\n",
       "      <td>647.801284</td>\n",
       "      <td>902.419217</td>\n",
       "    </tr>\n",
       "    <tr>\n",
       "      <th>1459</th>\n",
       "      <td>-575.687997</td>\n",
       "      <td>-84.148770</td>\n",
       "      <td>709.205443</td>\n",
       "      <td>267.258450</td>\n",
       "      <td>-59.599802</td>\n",
       "      <td>-23.039957</td>\n",
       "      <td>136.553639</td>\n",
       "      <td>304.542914</td>\n",
       "    </tr>\n",
       "  </tbody>\n",
       "</table>\n",
       "<p>1460 rows × 8 columns</p>\n",
       "</div>"
      ],
      "text/plain": [
       "                a           b            c           d            e  \\\n",
       "0    -2065.077255   52.165492  -273.718781  748.783435  -166.431029   \n",
       "1     -911.676372   21.789419   749.253937  225.940084   -46.778747   \n",
       "2      734.603982  113.438751  -464.058827  426.285256  -127.441554   \n",
       "3     -970.394967  -25.756271  -571.167973  200.401463   -99.214233   \n",
       "4     3758.394528  652.613055  -539.613554  540.932019  -135.019793   \n",
       "...           ...         ...          ...         ...          ...   \n",
       "1455 -2604.660441   64.604137  -642.684687 -266.234380   -21.615672   \n",
       "1456  2685.113001  941.816974   552.920524  -99.222336    24.446995   \n",
       "1457 -1457.850462  632.847764 -1016.211383  522.525321  2401.938447   \n",
       "1458  -809.597577 -598.553680   320.253301   11.509882   -57.119486   \n",
       "1459  -575.687997  -84.148770   709.205443  267.258450   -59.599802   \n",
       "\n",
       "               f           g           h  \n",
       "0     -98.524219 -181.927727   -4.957850  \n",
       "1     -42.911447  -78.511047   12.784568  \n",
       "2    -121.443679 -169.071133   -3.980658  \n",
       "3    -187.054479   18.523437  -44.496041  \n",
       "4     -20.923267 -174.632281  -63.223660  \n",
       "...          ...         ...         ...  \n",
       "1455 -179.848232 -112.166382   61.283377  \n",
       "1456  167.116991  514.244874  -51.297431  \n",
       "1457   91.485169  -50.152575  123.518323  \n",
       "1458 -182.198082  647.801284  902.419217  \n",
       "1459  -23.039957  136.553639  304.542914  \n",
       "\n",
       "[1460 rows x 8 columns]"
      ]
     },
     "execution_count": 64,
     "metadata": {},
     "output_type": "execute_result"
    }
   ],
   "source": [
    "X_pca"
   ]
  },
  {
   "cell_type": "code",
   "execution_count": 65,
   "metadata": {},
   "outputs": [],
   "source": [
    "X_str=X[string_features]"
   ]
  },
  {
   "cell_type": "code",
   "execution_count": 66,
   "metadata": {},
   "outputs": [],
   "source": [
    "X_pca=X_pca.join(X_str)"
   ]
  },
  {
   "cell_type": "code",
   "execution_count": 67,
   "metadata": {},
   "outputs": [
    {
     "data": {
      "text/html": [
       "<div>\n",
       "<style scoped>\n",
       "    .dataframe tbody tr th:only-of-type {\n",
       "        vertical-align: middle;\n",
       "    }\n",
       "\n",
       "    .dataframe tbody tr th {\n",
       "        vertical-align: top;\n",
       "    }\n",
       "\n",
       "    .dataframe thead th {\n",
       "        text-align: right;\n",
       "    }\n",
       "</style>\n",
       "<table border=\"1\" class=\"dataframe\">\n",
       "  <thead>\n",
       "    <tr style=\"text-align: right;\">\n",
       "      <th></th>\n",
       "      <th>a</th>\n",
       "      <th>b</th>\n",
       "      <th>c</th>\n",
       "      <th>d</th>\n",
       "      <th>e</th>\n",
       "      <th>f</th>\n",
       "      <th>g</th>\n",
       "      <th>h</th>\n",
       "      <th>MSZoning</th>\n",
       "      <th>Street</th>\n",
       "      <th>...</th>\n",
       "      <th>Functional</th>\n",
       "      <th>FireplaceQu</th>\n",
       "      <th>GarageType</th>\n",
       "      <th>GarageFinish</th>\n",
       "      <th>GarageQual</th>\n",
       "      <th>GarageCond</th>\n",
       "      <th>PavedDrive</th>\n",
       "      <th>Fence</th>\n",
       "      <th>SaleType</th>\n",
       "      <th>SaleCondition</th>\n",
       "    </tr>\n",
       "  </thead>\n",
       "  <tbody>\n",
       "    <tr>\n",
       "      <th>0</th>\n",
       "      <td>-2065.077255</td>\n",
       "      <td>52.165492</td>\n",
       "      <td>-273.718781</td>\n",
       "      <td>748.783435</td>\n",
       "      <td>-166.431029</td>\n",
       "      <td>-98.524219</td>\n",
       "      <td>-181.927727</td>\n",
       "      <td>-4.957850</td>\n",
       "      <td>RL</td>\n",
       "      <td>Pave</td>\n",
       "      <td>...</td>\n",
       "      <td>Typ</td>\n",
       "      <td>no</td>\n",
       "      <td>Attchd</td>\n",
       "      <td>RFn</td>\n",
       "      <td>TA</td>\n",
       "      <td>TA</td>\n",
       "      <td>Y</td>\n",
       "      <td>no</td>\n",
       "      <td>WD</td>\n",
       "      <td>Normal</td>\n",
       "    </tr>\n",
       "    <tr>\n",
       "      <th>1</th>\n",
       "      <td>-911.676372</td>\n",
       "      <td>21.789419</td>\n",
       "      <td>749.253937</td>\n",
       "      <td>225.940084</td>\n",
       "      <td>-46.778747</td>\n",
       "      <td>-42.911447</td>\n",
       "      <td>-78.511047</td>\n",
       "      <td>12.784568</td>\n",
       "      <td>RL</td>\n",
       "      <td>Pave</td>\n",
       "      <td>...</td>\n",
       "      <td>Typ</td>\n",
       "      <td>TA</td>\n",
       "      <td>Attchd</td>\n",
       "      <td>RFn</td>\n",
       "      <td>TA</td>\n",
       "      <td>TA</td>\n",
       "      <td>Y</td>\n",
       "      <td>no</td>\n",
       "      <td>WD</td>\n",
       "      <td>Normal</td>\n",
       "    </tr>\n",
       "    <tr>\n",
       "      <th>2</th>\n",
       "      <td>734.603982</td>\n",
       "      <td>113.438751</td>\n",
       "      <td>-464.058827</td>\n",
       "      <td>426.285256</td>\n",
       "      <td>-127.441554</td>\n",
       "      <td>-121.443679</td>\n",
       "      <td>-169.071133</td>\n",
       "      <td>-3.980658</td>\n",
       "      <td>RL</td>\n",
       "      <td>Pave</td>\n",
       "      <td>...</td>\n",
       "      <td>Typ</td>\n",
       "      <td>TA</td>\n",
       "      <td>Attchd</td>\n",
       "      <td>RFn</td>\n",
       "      <td>TA</td>\n",
       "      <td>TA</td>\n",
       "      <td>Y</td>\n",
       "      <td>no</td>\n",
       "      <td>WD</td>\n",
       "      <td>Normal</td>\n",
       "    </tr>\n",
       "    <tr>\n",
       "      <th>3</th>\n",
       "      <td>-970.394967</td>\n",
       "      <td>-25.756271</td>\n",
       "      <td>-571.167973</td>\n",
       "      <td>200.401463</td>\n",
       "      <td>-99.214233</td>\n",
       "      <td>-187.054479</td>\n",
       "      <td>18.523437</td>\n",
       "      <td>-44.496041</td>\n",
       "      <td>RL</td>\n",
       "      <td>Pave</td>\n",
       "      <td>...</td>\n",
       "      <td>Typ</td>\n",
       "      <td>Gd</td>\n",
       "      <td>Detchd</td>\n",
       "      <td>Unf</td>\n",
       "      <td>TA</td>\n",
       "      <td>TA</td>\n",
       "      <td>Y</td>\n",
       "      <td>no</td>\n",
       "      <td>WD</td>\n",
       "      <td>Abnorml</td>\n",
       "    </tr>\n",
       "    <tr>\n",
       "      <th>4</th>\n",
       "      <td>3758.394528</td>\n",
       "      <td>652.613055</td>\n",
       "      <td>-539.613554</td>\n",
       "      <td>540.932019</td>\n",
       "      <td>-135.019793</td>\n",
       "      <td>-20.923267</td>\n",
       "      <td>-174.632281</td>\n",
       "      <td>-63.223660</td>\n",
       "      <td>RL</td>\n",
       "      <td>Pave</td>\n",
       "      <td>...</td>\n",
       "      <td>Typ</td>\n",
       "      <td>TA</td>\n",
       "      <td>Attchd</td>\n",
       "      <td>RFn</td>\n",
       "      <td>TA</td>\n",
       "      <td>TA</td>\n",
       "      <td>Y</td>\n",
       "      <td>no</td>\n",
       "      <td>WD</td>\n",
       "      <td>Normal</td>\n",
       "    </tr>\n",
       "    <tr>\n",
       "      <th>...</th>\n",
       "      <td>...</td>\n",
       "      <td>...</td>\n",
       "      <td>...</td>\n",
       "      <td>...</td>\n",
       "      <td>...</td>\n",
       "      <td>...</td>\n",
       "      <td>...</td>\n",
       "      <td>...</td>\n",
       "      <td>...</td>\n",
       "      <td>...</td>\n",
       "      <td>...</td>\n",
       "      <td>...</td>\n",
       "      <td>...</td>\n",
       "      <td>...</td>\n",
       "      <td>...</td>\n",
       "      <td>...</td>\n",
       "      <td>...</td>\n",
       "      <td>...</td>\n",
       "      <td>...</td>\n",
       "      <td>...</td>\n",
       "      <td>...</td>\n",
       "    </tr>\n",
       "    <tr>\n",
       "      <th>1455</th>\n",
       "      <td>-2604.660441</td>\n",
       "      <td>64.604137</td>\n",
       "      <td>-642.684687</td>\n",
       "      <td>-266.234380</td>\n",
       "      <td>-21.615672</td>\n",
       "      <td>-179.848232</td>\n",
       "      <td>-112.166382</td>\n",
       "      <td>61.283377</td>\n",
       "      <td>RL</td>\n",
       "      <td>Pave</td>\n",
       "      <td>...</td>\n",
       "      <td>Typ</td>\n",
       "      <td>TA</td>\n",
       "      <td>Attchd</td>\n",
       "      <td>RFn</td>\n",
       "      <td>TA</td>\n",
       "      <td>TA</td>\n",
       "      <td>Y</td>\n",
       "      <td>no</td>\n",
       "      <td>WD</td>\n",
       "      <td>Normal</td>\n",
       "    </tr>\n",
       "    <tr>\n",
       "      <th>1456</th>\n",
       "      <td>2685.113001</td>\n",
       "      <td>941.816974</td>\n",
       "      <td>552.920524</td>\n",
       "      <td>-99.222336</td>\n",
       "      <td>24.446995</td>\n",
       "      <td>167.116991</td>\n",
       "      <td>514.244874</td>\n",
       "      <td>-51.297431</td>\n",
       "      <td>RL</td>\n",
       "      <td>Pave</td>\n",
       "      <td>...</td>\n",
       "      <td>Min1</td>\n",
       "      <td>TA</td>\n",
       "      <td>Attchd</td>\n",
       "      <td>Unf</td>\n",
       "      <td>TA</td>\n",
       "      <td>TA</td>\n",
       "      <td>Y</td>\n",
       "      <td>MnPrv</td>\n",
       "      <td>WD</td>\n",
       "      <td>Normal</td>\n",
       "    </tr>\n",
       "    <tr>\n",
       "      <th>1457</th>\n",
       "      <td>-1457.850462</td>\n",
       "      <td>632.847764</td>\n",
       "      <td>-1016.211383</td>\n",
       "      <td>522.525321</td>\n",
       "      <td>2401.938447</td>\n",
       "      <td>91.485169</td>\n",
       "      <td>-50.152575</td>\n",
       "      <td>123.518323</td>\n",
       "      <td>RL</td>\n",
       "      <td>Pave</td>\n",
       "      <td>...</td>\n",
       "      <td>Typ</td>\n",
       "      <td>Gd</td>\n",
       "      <td>Attchd</td>\n",
       "      <td>RFn</td>\n",
       "      <td>TA</td>\n",
       "      <td>TA</td>\n",
       "      <td>Y</td>\n",
       "      <td>GdPrv</td>\n",
       "      <td>WD</td>\n",
       "      <td>Normal</td>\n",
       "    </tr>\n",
       "    <tr>\n",
       "      <th>1458</th>\n",
       "      <td>-809.597577</td>\n",
       "      <td>-598.553680</td>\n",
       "      <td>320.253301</td>\n",
       "      <td>11.509882</td>\n",
       "      <td>-57.119486</td>\n",
       "      <td>-182.198082</td>\n",
       "      <td>647.801284</td>\n",
       "      <td>902.419217</td>\n",
       "      <td>RL</td>\n",
       "      <td>Pave</td>\n",
       "      <td>...</td>\n",
       "      <td>Typ</td>\n",
       "      <td>no</td>\n",
       "      <td>Attchd</td>\n",
       "      <td>Unf</td>\n",
       "      <td>TA</td>\n",
       "      <td>TA</td>\n",
       "      <td>Y</td>\n",
       "      <td>no</td>\n",
       "      <td>WD</td>\n",
       "      <td>Normal</td>\n",
       "    </tr>\n",
       "    <tr>\n",
       "      <th>1459</th>\n",
       "      <td>-575.687997</td>\n",
       "      <td>-84.148770</td>\n",
       "      <td>709.205443</td>\n",
       "      <td>267.258450</td>\n",
       "      <td>-59.599802</td>\n",
       "      <td>-23.039957</td>\n",
       "      <td>136.553639</td>\n",
       "      <td>304.542914</td>\n",
       "      <td>RL</td>\n",
       "      <td>Pave</td>\n",
       "      <td>...</td>\n",
       "      <td>Typ</td>\n",
       "      <td>no</td>\n",
       "      <td>Attchd</td>\n",
       "      <td>Fin</td>\n",
       "      <td>TA</td>\n",
       "      <td>TA</td>\n",
       "      <td>Y</td>\n",
       "      <td>no</td>\n",
       "      <td>WD</td>\n",
       "      <td>Normal</td>\n",
       "    </tr>\n",
       "  </tbody>\n",
       "</table>\n",
       "<p>1460 rows × 49 columns</p>\n",
       "</div>"
      ],
      "text/plain": [
       "                a           b            c           d            e  \\\n",
       "0    -2065.077255   52.165492  -273.718781  748.783435  -166.431029   \n",
       "1     -911.676372   21.789419   749.253937  225.940084   -46.778747   \n",
       "2      734.603982  113.438751  -464.058827  426.285256  -127.441554   \n",
       "3     -970.394967  -25.756271  -571.167973  200.401463   -99.214233   \n",
       "4     3758.394528  652.613055  -539.613554  540.932019  -135.019793   \n",
       "...           ...         ...          ...         ...          ...   \n",
       "1455 -2604.660441   64.604137  -642.684687 -266.234380   -21.615672   \n",
       "1456  2685.113001  941.816974   552.920524  -99.222336    24.446995   \n",
       "1457 -1457.850462  632.847764 -1016.211383  522.525321  2401.938447   \n",
       "1458  -809.597577 -598.553680   320.253301   11.509882   -57.119486   \n",
       "1459  -575.687997  -84.148770   709.205443  267.258450   -59.599802   \n",
       "\n",
       "               f           g           h MSZoning Street  ... Functional  \\\n",
       "0     -98.524219 -181.927727   -4.957850       RL   Pave  ...        Typ   \n",
       "1     -42.911447  -78.511047   12.784568       RL   Pave  ...        Typ   \n",
       "2    -121.443679 -169.071133   -3.980658       RL   Pave  ...        Typ   \n",
       "3    -187.054479   18.523437  -44.496041       RL   Pave  ...        Typ   \n",
       "4     -20.923267 -174.632281  -63.223660       RL   Pave  ...        Typ   \n",
       "...          ...         ...         ...      ...    ...  ...        ...   \n",
       "1455 -179.848232 -112.166382   61.283377       RL   Pave  ...        Typ   \n",
       "1456  167.116991  514.244874  -51.297431       RL   Pave  ...       Min1   \n",
       "1457   91.485169  -50.152575  123.518323       RL   Pave  ...        Typ   \n",
       "1458 -182.198082  647.801284  902.419217       RL   Pave  ...        Typ   \n",
       "1459  -23.039957  136.553639  304.542914       RL   Pave  ...        Typ   \n",
       "\n",
       "     FireplaceQu GarageType GarageFinish GarageQual GarageCond PavedDrive  \\\n",
       "0             no     Attchd          RFn         TA         TA          Y   \n",
       "1             TA     Attchd          RFn         TA         TA          Y   \n",
       "2             TA     Attchd          RFn         TA         TA          Y   \n",
       "3             Gd     Detchd          Unf         TA         TA          Y   \n",
       "4             TA     Attchd          RFn         TA         TA          Y   \n",
       "...          ...        ...          ...        ...        ...        ...   \n",
       "1455          TA     Attchd          RFn         TA         TA          Y   \n",
       "1456          TA     Attchd          Unf         TA         TA          Y   \n",
       "1457          Gd     Attchd          RFn         TA         TA          Y   \n",
       "1458          no     Attchd          Unf         TA         TA          Y   \n",
       "1459          no     Attchd          Fin         TA         TA          Y   \n",
       "\n",
       "      Fence SaleType SaleCondition  \n",
       "0        no       WD        Normal  \n",
       "1        no       WD        Normal  \n",
       "2        no       WD        Normal  \n",
       "3        no       WD       Abnorml  \n",
       "4        no       WD        Normal  \n",
       "...     ...      ...           ...  \n",
       "1455     no       WD        Normal  \n",
       "1456  MnPrv       WD        Normal  \n",
       "1457  GdPrv       WD        Normal  \n",
       "1458     no       WD        Normal  \n",
       "1459     no       WD        Normal  \n",
       "\n",
       "[1460 rows x 49 columns]"
      ]
     },
     "execution_count": 67,
     "metadata": {},
     "output_type": "execute_result"
    }
   ],
   "source": [
    "X_pca"
   ]
  },
  {
   "cell_type": "code",
   "execution_count": 68,
   "metadata": {},
   "outputs": [
    {
     "name": "stdout",
     "output_type": "stream",
     "text": [
      "(1168, 77) (292, 77) (1168,) (292,)\n"
     ]
    }
   ],
   "source": [
    "X_train, X_test, y_train, y_test = train_test_split(X, y, test_size=0.2, random_state=2022)\n",
    "\n",
    "print(X_train.shape, X_test.shape, y_train.shape, y_test.shape)"
   ]
  },
  {
   "cell_type": "code",
   "execution_count": 69,
   "metadata": {},
   "outputs": [
    {
     "name": "stdout",
     "output_type": "stream",
     "text": [
      "(1168, 49) (292, 49) (1168,) (292,)\n"
     ]
    }
   ],
   "source": [
    "X_train_p, X_test_p, y_train, y_test = train_test_split(X_pca, y, test_size=0.2, random_state=2022)\n",
    "\n",
    "print(X_train_p.shape, X_test_p.shape, y_train.shape, y_test.shape)"
   ]
  },
  {
   "cell_type": "code",
   "execution_count": 71,
   "metadata": {},
   "outputs": [
    {
     "name": "stdout",
     "output_type": "stream",
     "text": [
      "There are 36 numerical features: ['MSSubClass', 'LotFrontage', 'LotArea', 'OverallQual', 'OverallCond', 'YearBuilt', 'YearRemodAdd', 'MasVnrArea', 'BsmtFinSF1', 'BsmtFinSF2', 'BsmtUnfSF', 'TotalBsmtSF', '1stFlrSF', '2ndFlrSF', 'LowQualFinSF', 'GrLivArea', 'BsmtFullBath', 'BsmtHalfBath', 'FullBath', 'HalfBath', 'BedroomAbvGr', 'KitchenAbvGr', 'TotRmsAbvGrd', 'Fireplaces', 'GarageYrBlt', 'GarageCars', 'GarageArea', 'WoodDeckSF', 'OpenPorchSF', 'EnclosedPorch', '3SsnPorch', 'ScreenPorch', 'PoolArea', 'MiscVal', 'MoSold', 'YrSold']\n",
      "\n",
      "There are 8 numerical features: ['MSSubClass', 'LotFrontage', 'LotArea', 'OverallQual', 'OverallCond', 'YearBuilt', 'YearRemodAdd', 'MasVnrArea', 'BsmtFinSF1', 'BsmtFinSF2', 'BsmtUnfSF', 'TotalBsmtSF', '1stFlrSF', '2ndFlrSF', 'LowQualFinSF', 'GrLivArea', 'BsmtFullBath', 'BsmtHalfBath', 'FullBath', 'HalfBath', 'BedroomAbvGr', 'KitchenAbvGr', 'TotRmsAbvGrd', 'Fireplaces', 'GarageYrBlt', 'GarageCars', 'GarageArea', 'WoodDeckSF', 'OpenPorchSF', 'EnclosedPorch', '3SsnPorch', 'ScreenPorch', 'PoolArea', 'MiscVal', 'MoSold', 'YrSold']\n",
      "\n",
      "There are 41 string features: ['MSZoning', 'Street', 'Alley', 'LotShape', 'LandContour', 'Utilities', 'LotConfig', 'LandSlope', 'Neighborhood', 'Condition1', 'Condition2', 'BldgType', 'HouseStyle', 'RoofStyle', 'RoofMatl', 'Exterior1st', 'Exterior2nd', 'MasVnrType', 'ExterQual', 'ExterCond', 'Foundation', 'BsmtQual', 'BsmtCond', 'BsmtExposure', 'BsmtFinType1', 'BsmtFinType2', 'Heating', 'HeatingQC', 'CentralAir', 'Electrical', 'KitchenQual', 'Functional', 'FireplaceQu', 'GarageType', 'GarageFinish', 'GarageQual', 'GarageCond', 'PavedDrive', 'Fence', 'SaleType', 'SaleCondition']\n",
      "\n"
     ]
    }
   ],
   "source": [
    "numerical_features = X_train.select_dtypes(include='number').columns.tolist()\n",
    "print(f\"There are {len(numerical_features)} numerical features: {numerical_features}\\n\")\n",
    "\n",
    "numerical_features_p = X_train_p.select_dtypes(include='number').columns.tolist()\n",
    "print(f\"There are {len(numerical_features_p)} numerical features: {numerical_features}\\n\")\n",
    "\n",
    "string_features = X_train.select_dtypes(exclude='number').columns.tolist()\n",
    "print(f\"There are {len(string_features)} string features: {string_features}\\n\")"
   ]
  },
  {
   "cell_type": "code",
   "execution_count": 73,
   "metadata": {},
   "outputs": [],
   "source": [
    "# Pipeline for numeric features\n",
    "numeric_pipeline = Pipeline(steps=[\n",
    "    ('impute', SimpleImputer(strategy='mean')),\n",
    "    ('scale', StandardScaler())\n",
    "  ]\n",
    ")\n",
    "\n",
    "# Pipeline for string features\n",
    "string_pipeline = Pipeline(steps=[\n",
    "    ('impute', SimpleImputer(strategy='most_frequent')),\n",
    "    ('encode', OneHotEncoder(handle_unknown='ignore', sparse=False)),\n",
    "    ('scale', StandardScaler())\n",
    "  ]\n",
    ")\n",
    "\n",
    "# Now let's merge both pipeline into one single pre-processing object\n",
    "# We can use ColumnTransformer for this\n",
    "full_processor = ColumnTransformer(transformers=[\n",
    "    ('number', numeric_pipeline, numerical_features),\n",
    "    ('string', string_pipeline, string_features)\n",
    "  ]\n",
    ")\n",
    "\n",
    "full_processor_p = ColumnTransformer(transformers=[\n",
    "    ('number', numeric_pipeline, numerical_features_p),\n",
    "    ('string', string_pipeline, string_features)\n",
    "  ]\n",
    ")"
   ]
  },
  {
   "cell_type": "code",
   "execution_count": 74,
   "metadata": {},
   "outputs": [
    {
     "name": "stdout",
     "output_type": "stream",
     "text": [
      "(1168, 290) (292, 290)\n"
     ]
    },
    {
     "name": "stderr",
     "output_type": "stream",
     "text": [
      "/home/manuelquiros/Documents/VENVS/KaggleTitanic/lib/python3.10/site-packages/sklearn/preprocessing/_encoders.py:828: FutureWarning: `sparse` was renamed to `sparse_output` in version 1.2 and will be removed in 1.4. `sparse_output` is ignored unless you leave `sparse` to its default value.\n",
      "  warnings.warn(\n"
     ]
    }
   ],
   "source": [
    "X_train = full_processor.fit_transform(X_train)\n",
    "X_test  = full_processor.transform(X_test)\n",
    "\n",
    "print(X_train.shape, X_test.shape)"
   ]
  },
  {
   "cell_type": "code",
   "execution_count": 88,
   "metadata": {},
   "outputs": [],
   "source": [
    "enc_cat_features = full_processor.named_transformers_['string']['encode'].get_feature_names_out()"
   ]
  },
  {
   "cell_type": "code",
   "execution_count": 89,
   "metadata": {},
   "outputs": [
    {
     "data": {
      "text/plain": [
       "array(['x0_C (all)', 'x0_FV', 'x0_RH', 'x0_RL', 'x0_RM', 'x1_Grvl',\n",
       "       'x1_Pave', 'x2_Ex', 'x2_Fa', 'x2_Gd', 'x2_TA', 'x2_no', 'x3_IR1',\n",
       "       'x3_IR2', 'x3_IR3', 'x3_Reg', 'x4_Bnk', 'x4_HLS', 'x4_Low',\n",
       "       'x4_Lvl', 'x5_AllPub', 'x5_NoSeWa', 'x6_Corner', 'x6_CulDSac',\n",
       "       'x6_FR2', 'x6_FR3', 'x6_Inside', 'x7_Gtl', 'x7_Mod', 'x7_Sev',\n",
       "       'x8_Blmngtn', 'x8_Blueste', 'x8_BrDale', 'x8_BrkSide',\n",
       "       'x8_ClearCr', 'x8_CollgCr', 'x8_Crawfor', 'x8_Edwards',\n",
       "       'x8_Gilbert', 'x8_IDOTRR', 'x8_MeadowV', 'x8_Mitchel', 'x8_NAmes',\n",
       "       'x8_NPkVill', 'x8_NWAmes', 'x8_NoRidge', 'x8_NridgHt',\n",
       "       'x8_OldTown', 'x8_SWISU', 'x8_Sawyer', 'x8_SawyerW', 'x8_Somerst',\n",
       "       'x8_StoneBr', 'x8_Timber', 'x8_Veenker', 'x9_Artery', 'x9_Feedr',\n",
       "       'x9_Norm', 'x9_PosA', 'x9_PosN', 'x9_RRAe', 'x9_RRAn', 'x9_RRNe',\n",
       "       'x9_RRNn', 'x10_Artery', 'x10_Feedr', 'x10_Norm', 'x10_PosN',\n",
       "       'x10_RRAe', 'x10_RRAn', 'x10_RRNn', 'x11_1Fam', 'x11_2fmCon',\n",
       "       'x11_Duplex', 'x11_Twnhs', 'x11_TwnhsE', 'x12_1.5Fin',\n",
       "       'x12_1.5Unf', 'x12_1Story', 'x12_2.5Fin', 'x12_2.5Unf',\n",
       "       'x12_2Story', 'x12_SFoyer', 'x12_SLvl', 'x13_Flat', 'x13_Gable',\n",
       "       'x13_Gambrel', 'x13_Hip', 'x13_Mansard', 'x13_Shed', 'x14_ClyTile',\n",
       "       'x14_CompShg', 'x14_Membran', 'x14_Metal', 'x14_Tar&Grv',\n",
       "       'x14_WdShake', 'x14_WdShngl', 'x15_AsbShng', 'x15_AsphShn',\n",
       "       'x15_BrkComm', 'x15_BrkFace', 'x15_CBlock', 'x15_CemntBd',\n",
       "       'x15_HdBoard', 'x15_ImStucc', 'x15_MetalSd', 'x15_Plywood',\n",
       "       'x15_Stone', 'x15_Stucco', 'x15_VinylSd', 'x15_Wd Sdng',\n",
       "       'x15_WdShing', 'x16_AsbShng', 'x16_AsphShn', 'x16_Brk Cmn',\n",
       "       'x16_BrkFace', 'x16_CBlock', 'x16_CmentBd', 'x16_HdBoard',\n",
       "       'x16_ImStucc', 'x16_MetalSd', 'x16_Plywood', 'x16_Stone',\n",
       "       'x16_Stucco', 'x16_VinylSd', 'x16_Wd Sdng', 'x16_Wd Shng',\n",
       "       'x17_BrkCmn', 'x17_BrkFace', 'x17_None', 'x17_Stone', 'x18_Ex',\n",
       "       'x18_Fa', 'x18_Gd', 'x18_TA', 'x19_Ex', 'x19_Fa', 'x19_Gd',\n",
       "       'x19_Po', 'x19_TA', 'x20_BrkTil', 'x20_CBlock', 'x20_PConc',\n",
       "       'x20_Slab', 'x20_Stone', 'x20_Wood', 'x21_Ex', 'x21_Fa', 'x21_Gd',\n",
       "       'x21_TA', 'x21_no', 'x22_Fa', 'x22_Gd', 'x22_Po', 'x22_TA',\n",
       "       'x22_no', 'x23_Av', 'x23_Gd', 'x23_Mn', 'x23_No', 'x23_no',\n",
       "       'x24_ALQ', 'x24_BLQ', 'x24_GLQ', 'x24_LwQ', 'x24_Rec', 'x24_Unf',\n",
       "       'x24_no', 'x25_ALQ', 'x25_BLQ', 'x25_GLQ', 'x25_LwQ', 'x25_Rec',\n",
       "       'x25_Unf', 'x25_no', 'x26_Floor', 'x26_GasA', 'x26_GasW',\n",
       "       'x26_Grav', 'x26_OthW', 'x26_Wall', 'x27_Ex', 'x27_Fa', 'x27_Gd',\n",
       "       'x27_TA', 'x28_N', 'x28_Y', 'x29_FuseA', 'x29_FuseF', 'x29_FuseP',\n",
       "       'x29_Mix', 'x29_SBrkr', 'x30_Ex', 'x30_Fa', 'x30_Gd', 'x30_TA',\n",
       "       'x31_Maj1', 'x31_Maj2', 'x31_Min1', 'x31_Min2', 'x31_Mod',\n",
       "       'x31_Typ', 'x32_Ex', 'x32_Fa', 'x32_Gd', 'x32_Po', 'x32_TA',\n",
       "       'x32_no', 'x33_2Types', 'x33_Attchd', 'x33_Basment', 'x33_BuiltIn',\n",
       "       'x33_CarPort', 'x33_Detchd', 'x33_no', 'x34_Fin', 'x34_RFn',\n",
       "       'x34_Unf', 'x34_no', 'x35_Ex', 'x35_Fa', 'x35_Gd', 'x35_Po',\n",
       "       'x35_TA', 'x35_no', 'x36_Ex', 'x36_Fa', 'x36_Gd', 'x36_Po',\n",
       "       'x36_TA', 'x36_no', 'x37_N', 'x37_P', 'x37_Y', 'x38_GdPrv',\n",
       "       'x38_GdWo', 'x38_MnPrv', 'x38_MnWw', 'x38_no', 'x39_COD',\n",
       "       'x39_CWD', 'x39_Con', 'x39_ConLD', 'x39_ConLI', 'x39_ConLw',\n",
       "       'x39_New', 'x39_Oth', 'x39_WD', 'x40_Abnorml', 'x40_AdjLand',\n",
       "       'x40_Alloca', 'x40_Family', 'x40_Normal', 'x40_Partial'],\n",
       "      dtype=object)"
      ]
     },
     "execution_count": 89,
     "metadata": {},
     "output_type": "execute_result"
    }
   ],
   "source": [
    "enc_cat_features"
   ]
  },
  {
   "cell_type": "code",
   "execution_count": 75,
   "metadata": {},
   "outputs": [
    {
     "name": "stdout",
     "output_type": "stream",
     "text": [
      "(1168, 262) (292, 262)\n"
     ]
    },
    {
     "name": "stderr",
     "output_type": "stream",
     "text": [
      "/home/manuelquiros/Documents/VENVS/KaggleTitanic/lib/python3.10/site-packages/sklearn/preprocessing/_encoders.py:828: FutureWarning: `sparse` was renamed to `sparse_output` in version 1.2 and will be removed in 1.4. `sparse_output` is ignored unless you leave `sparse` to its default value.\n",
      "  warnings.warn(\n"
     ]
    }
   ],
   "source": [
    "X_train_p = full_processor_p.fit_transform(X_train_p)\n",
    "X_test_p = full_processor_p.transform(X_test_p)\n",
    "\n",
    "print(X_train_p.shape, X_test_p.shape)"
   ]
  },
  {
   "attachments": {},
   "cell_type": "markdown",
   "metadata": {},
   "source": [
    "### Models"
   ]
  },
  {
   "attachments": {},
   "cell_type": "markdown",
   "metadata": {},
   "source": [
    "#### Baseline"
   ]
  },
  {
   "cell_type": "code",
   "execution_count": 91,
   "metadata": {},
   "outputs": [],
   "source": [
    "LR = LinearRegression()"
   ]
  },
  {
   "cell_type": "code",
   "execution_count": 102,
   "metadata": {},
   "outputs": [
    {
     "data": {
      "text/html": [
       "<style>#sk-container-id-2 {color: black;background-color: white;}#sk-container-id-2 pre{padding: 0;}#sk-container-id-2 div.sk-toggleable {background-color: white;}#sk-container-id-2 label.sk-toggleable__label {cursor: pointer;display: block;width: 100%;margin-bottom: 0;padding: 0.3em;box-sizing: border-box;text-align: center;}#sk-container-id-2 label.sk-toggleable__label-arrow:before {content: \"▸\";float: left;margin-right: 0.25em;color: #696969;}#sk-container-id-2 label.sk-toggleable__label-arrow:hover:before {color: black;}#sk-container-id-2 div.sk-estimator:hover label.sk-toggleable__label-arrow:before {color: black;}#sk-container-id-2 div.sk-toggleable__content {max-height: 0;max-width: 0;overflow: hidden;text-align: left;background-color: #f0f8ff;}#sk-container-id-2 div.sk-toggleable__content pre {margin: 0.2em;color: black;border-radius: 0.25em;background-color: #f0f8ff;}#sk-container-id-2 input.sk-toggleable__control:checked~div.sk-toggleable__content {max-height: 200px;max-width: 100%;overflow: auto;}#sk-container-id-2 input.sk-toggleable__control:checked~label.sk-toggleable__label-arrow:before {content: \"▾\";}#sk-container-id-2 div.sk-estimator input.sk-toggleable__control:checked~label.sk-toggleable__label {background-color: #d4ebff;}#sk-container-id-2 div.sk-label input.sk-toggleable__control:checked~label.sk-toggleable__label {background-color: #d4ebff;}#sk-container-id-2 input.sk-hidden--visually {border: 0;clip: rect(1px 1px 1px 1px);clip: rect(1px, 1px, 1px, 1px);height: 1px;margin: -1px;overflow: hidden;padding: 0;position: absolute;width: 1px;}#sk-container-id-2 div.sk-estimator {font-family: monospace;background-color: #f0f8ff;border: 1px dotted black;border-radius: 0.25em;box-sizing: border-box;margin-bottom: 0.5em;}#sk-container-id-2 div.sk-estimator:hover {background-color: #d4ebff;}#sk-container-id-2 div.sk-parallel-item::after {content: \"\";width: 100%;border-bottom: 1px solid gray;flex-grow: 1;}#sk-container-id-2 div.sk-label:hover label.sk-toggleable__label {background-color: #d4ebff;}#sk-container-id-2 div.sk-serial::before {content: \"\";position: absolute;border-left: 1px solid gray;box-sizing: border-box;top: 0;bottom: 0;left: 50%;z-index: 0;}#sk-container-id-2 div.sk-serial {display: flex;flex-direction: column;align-items: center;background-color: white;padding-right: 0.2em;padding-left: 0.2em;position: relative;}#sk-container-id-2 div.sk-item {position: relative;z-index: 1;}#sk-container-id-2 div.sk-parallel {display: flex;align-items: stretch;justify-content: center;background-color: white;position: relative;}#sk-container-id-2 div.sk-item::before, #sk-container-id-2 div.sk-parallel-item::before {content: \"\";position: absolute;border-left: 1px solid gray;box-sizing: border-box;top: 0;bottom: 0;left: 50%;z-index: -1;}#sk-container-id-2 div.sk-parallel-item {display: flex;flex-direction: column;z-index: 1;position: relative;background-color: white;}#sk-container-id-2 div.sk-parallel-item:first-child::after {align-self: flex-end;width: 50%;}#sk-container-id-2 div.sk-parallel-item:last-child::after {align-self: flex-start;width: 50%;}#sk-container-id-2 div.sk-parallel-item:only-child::after {width: 0;}#sk-container-id-2 div.sk-dashed-wrapped {border: 1px dashed gray;margin: 0 0.4em 0.5em 0.4em;box-sizing: border-box;padding-bottom: 0.4em;background-color: white;}#sk-container-id-2 div.sk-label label {font-family: monospace;font-weight: bold;display: inline-block;line-height: 1.2em;}#sk-container-id-2 div.sk-label-container {text-align: center;}#sk-container-id-2 div.sk-container {/* jupyter's `normalize.less` sets `[hidden] { display: none; }` but bootstrap.min.css set `[hidden] { display: none !important; }` so we also need the `!important` here to be able to override the default hidden behavior on the sphinx rendered scikit-learn.org. See: https://github.com/scikit-learn/scikit-learn/issues/21755 */display: inline-block !important;position: relative;}#sk-container-id-2 div.sk-text-repr-fallback {display: none;}</style><div id=\"sk-container-id-2\" class=\"sk-top-container\"><div class=\"sk-text-repr-fallback\"><pre>LinearRegression()</pre><b>In a Jupyter environment, please rerun this cell to show the HTML representation or trust the notebook. <br />On GitHub, the HTML representation is unable to render, please try loading this page with nbviewer.org.</b></div><div class=\"sk-container\" hidden><div class=\"sk-item\"><div class=\"sk-estimator sk-toggleable\"><input class=\"sk-toggleable__control sk-hidden--visually\" id=\"sk-estimator-id-2\" type=\"checkbox\" checked><label for=\"sk-estimator-id-2\" class=\"sk-toggleable__label sk-toggleable__label-arrow\">LinearRegression</label><div class=\"sk-toggleable__content\"><pre>LinearRegression()</pre></div></div></div></div></div>"
      ],
      "text/plain": [
       "LinearRegression()"
      ]
     },
     "execution_count": 102,
     "metadata": {},
     "output_type": "execute_result"
    }
   ],
   "source": [
    "LR.fit(X_train,y_train)"
   ]
  },
  {
   "cell_type": "code",
   "execution_count": 103,
   "metadata": {},
   "outputs": [],
   "source": [
    "LR_train_p_pred=LR.predict(X_train)"
   ]
  },
  {
   "cell_type": "code",
   "execution_count": 101,
   "metadata": {},
   "outputs": [
    {
     "name": "stdout",
     "output_type": "stream",
     "text": [
      "MSE con PCA= 20475.126657820823\n"
     ]
    }
   ],
   "source": [
    "print('MSE con PCA=' , mean_squared_error(y_train,LR_train_p_pred, squared=False))"
   ]
  },
  {
   "cell_type": "code",
   "execution_count": 122,
   "metadata": {},
   "outputs": [
    {
     "name": "stdout",
     "output_type": "stream",
     "text": [
      "MSE sin PCA= 18743.443667420743\n"
     ]
    }
   ],
   "source": [
    "print('MSE sin PCA=' , mean_squared_error(y_train,LR_train_p_pred, squared=False))"
   ]
  },
  {
   "cell_type": "code",
   "execution_count": 120,
   "metadata": {},
   "outputs": [],
   "source": [
    "LR_test_p_pred=LR.predict(X_test)"
   ]
  },
  {
   "cell_type": "code",
   "execution_count": 121,
   "metadata": {},
   "outputs": [
    {
     "name": "stdout",
     "output_type": "stream",
     "text": [
      "MSE sin PCA= 1072209783769973.4\n"
     ]
    }
   ],
   "source": [
    "print('MSE sin PCA=' , mean_squared_error(y_test,LR_test_p_pred, squared=False))"
   ]
  },
  {
   "attachments": {},
   "cell_type": "markdown",
   "metadata": {},
   "source": [
    "#### Random Forest Regressor"
   ]
  },
  {
   "cell_type": "code",
   "execution_count": 98,
   "metadata": {},
   "outputs": [],
   "source": [
    "from sklearn.ensemble import RandomForestRegressor"
   ]
  },
  {
   "cell_type": "code",
   "execution_count": 123,
   "metadata": {},
   "outputs": [],
   "source": [
    "param_grid = {\n",
    "\n",
    "    'max_depth': [100],\n",
    "    'max_features': [0.6,0.7,0.8],\n",
    "    'min_samples_leaf': [3,  5],\n",
    "    'min_samples_split': [8,12],\n",
    "    'n_estimators': [100]\n",
    "}\n",
    "rf = RandomForestRegressor(criterion='squared_error')\n",
    "grid_search_rf = GridSearchCV(rf, param_grid = param_grid, cv = 5, n_jobs = -1, verbose = 2)"
   ]
  },
  {
   "cell_type": "code",
   "execution_count": 124,
   "metadata": {},
   "outputs": [
    {
     "name": "stdout",
     "output_type": "stream",
     "text": [
      "Fitting 5 folds for each of 12 candidates, totalling 60 fits\n",
      "[CV] END max_depth=100, max_features=0.6, min_samples_leaf=3, min_samples_split=12, n_estimators=100; total time=   0.9s\n",
      "[CV] END max_depth=100, max_features=0.6, min_samples_leaf=3, min_samples_split=8, n_estimators=100; total time=   1.0s\n",
      "[CV] END max_depth=100, max_features=0.6, min_samples_leaf=5, min_samples_split=8, n_estimators=100; total time=   0.9s\n",
      "[CV] END max_depth=100, max_features=0.6, min_samples_leaf=5, min_samples_split=8, n_estimators=100; total time=   0.9s\n",
      "[CV] END max_depth=100, max_features=0.6, min_samples_leaf=3, min_samples_split=12, n_estimators=100; total time=   1.0s\n",
      "[CV] END max_depth=100, max_features=0.6, min_samples_leaf=3, min_samples_split=8, n_estimators=100; total time=   1.0s\n",
      "[CV] END max_depth=100, max_features=0.6, min_samples_leaf=3, min_samples_split=8, n_estimators=100; total time=   1.2s\n",
      "[CV] END max_depth=100, max_features=0.6, min_samples_leaf=5, min_samples_split=8, n_estimators=100; total time=   0.9s\n",
      "[CV] END max_depth=100, max_features=0.6, min_samples_leaf=3, min_samples_split=8, n_estimators=100; total time=   1.1s\n",
      "[CV] END max_depth=100, max_features=0.6, min_samples_leaf=3, min_samples_split=12, n_estimators=100; total time=   1.2s\n",
      "[CV] END max_depth=100, max_features=0.6, min_samples_leaf=5, min_samples_split=8, n_estimators=100; total time=   1.0s\n",
      "[CV] END max_depth=100, max_features=0.6, min_samples_leaf=3, min_samples_split=8, n_estimators=100; total time=   1.4s\n",
      "[CV] END max_depth=100, max_features=0.6, min_samples_leaf=5, min_samples_split=8, n_estimators=100; total time=   1.3s\n",
      "[CV] END max_depth=100, max_features=0.6, min_samples_leaf=5, min_samples_split=12, n_estimators=100; total time=   1.0s\n",
      "[CV] END max_depth=100, max_features=0.6, min_samples_leaf=3, min_samples_split=12, n_estimators=100; total time=   1.4s\n",
      "[CV] END max_depth=100, max_features=0.6, min_samples_leaf=5, min_samples_split=12, n_estimators=100; total time=   1.0s\n",
      "[CV] END max_depth=100, max_features=0.6, min_samples_leaf=5, min_samples_split=12, n_estimators=100; total time=   0.9s\n",
      "[CV] END max_depth=100, max_features=0.6, min_samples_leaf=5, min_samples_split=12, n_estimators=100; total time=   0.9s\n",
      "[CV] END max_depth=100, max_features=0.6, min_samples_leaf=3, min_samples_split=12, n_estimators=100; total time=   1.3s\n",
      "[CV] END max_depth=100, max_features=0.6, min_samples_leaf=5, min_samples_split=12, n_estimators=100; total time=   0.9s\n",
      "[CV] END max_depth=100, max_features=0.7, min_samples_leaf=3, min_samples_split=8, n_estimators=100; total time=   1.2s\n",
      "[CV] END max_depth=100, max_features=0.7, min_samples_leaf=3, min_samples_split=8, n_estimators=100; total time=   1.2s\n",
      "[CV] END max_depth=100, max_features=0.7, min_samples_leaf=3, min_samples_split=8, n_estimators=100; total time=   1.2s\n",
      "[CV] END max_depth=100, max_features=0.7, min_samples_leaf=3, min_samples_split=12, n_estimators=100; total time=   1.2s\n",
      "[CV] END max_depth=100, max_features=0.7, min_samples_leaf=3, min_samples_split=8, n_estimators=100; total time=   1.4s\n",
      "[CV] END max_depth=100, max_features=0.7, min_samples_leaf=3, min_samples_split=8, n_estimators=100; total time=   1.6s\n",
      "[CV] END max_depth=100, max_features=0.7, min_samples_leaf=3, min_samples_split=12, n_estimators=100; total time=   1.4s\n",
      "[CV] END max_depth=100, max_features=0.7, min_samples_leaf=3, min_samples_split=12, n_estimators=100; total time=   1.1s\n",
      "[CV] END max_depth=100, max_features=0.7, min_samples_leaf=5, min_samples_split=8, n_estimators=100; total time=   1.0s\n",
      "[CV] END max_depth=100, max_features=0.7, min_samples_leaf=5, min_samples_split=8, n_estimators=100; total time=   1.0s\n",
      "[CV] END max_depth=100, max_features=0.7, min_samples_leaf=3, min_samples_split=12, n_estimators=100; total time=   1.1s\n",
      "[CV] END max_depth=100, max_features=0.7, min_samples_leaf=5, min_samples_split=8, n_estimators=100; total time=   1.1s\n",
      "[CV] END max_depth=100, max_features=0.7, min_samples_leaf=5, min_samples_split=8, n_estimators=100; total time=   1.0s\n",
      "[CV] END max_depth=100, max_features=0.7, min_samples_leaf=3, min_samples_split=12, n_estimators=100; total time=   1.5s\n",
      "[CV] END max_depth=100, max_features=0.7, min_samples_leaf=5, min_samples_split=12, n_estimators=100; total time=   1.2s\n",
      "[CV] END max_depth=100, max_features=0.7, min_samples_leaf=5, min_samples_split=8, n_estimators=100; total time=   1.5s\n",
      "[CV] END max_depth=100, max_features=0.7, min_samples_leaf=5, min_samples_split=12, n_estimators=100; total time=   1.1s\n",
      "[CV] END max_depth=100, max_features=0.7, min_samples_leaf=5, min_samples_split=12, n_estimators=100; total time=   1.0s\n",
      "[CV] END max_depth=100, max_features=0.7, min_samples_leaf=5, min_samples_split=12, n_estimators=100; total time=   1.2s\n",
      "[CV] END max_depth=100, max_features=0.7, min_samples_leaf=5, min_samples_split=12, n_estimators=100; total time=   1.4s\n",
      "[CV] END max_depth=100, max_features=0.8, min_samples_leaf=3, min_samples_split=8, n_estimators=100; total time=   1.3s\n",
      "[CV] END max_depth=100, max_features=0.8, min_samples_leaf=3, min_samples_split=8, n_estimators=100; total time=   1.2s\n",
      "[CV] END max_depth=100, max_features=0.8, min_samples_leaf=3, min_samples_split=12, n_estimators=100; total time=   1.1s\n",
      "[CV] END max_depth=100, max_features=0.8, min_samples_leaf=3, min_samples_split=8, n_estimators=100; total time=   1.3s\n",
      "[CV] END max_depth=100, max_features=0.8, min_samples_leaf=3, min_samples_split=12, n_estimators=100; total time=   1.3s\n",
      "[CV] END max_depth=100, max_features=0.8, min_samples_leaf=3, min_samples_split=8, n_estimators=100; total time=   1.5s\n",
      "[CV] END max_depth=100, max_features=0.8, min_samples_leaf=3, min_samples_split=12, n_estimators=100; total time=   1.4s\n",
      "[CV] END max_depth=100, max_features=0.8, min_samples_leaf=3, min_samples_split=12, n_estimators=100; total time=   1.5s\n",
      "[CV] END max_depth=100, max_features=0.8, min_samples_leaf=3, min_samples_split=8, n_estimators=100; total time=   1.7s\n",
      "[CV] END max_depth=100, max_features=0.8, min_samples_leaf=3, min_samples_split=12, n_estimators=100; total time=   1.4s\n",
      "[CV] END max_depth=100, max_features=0.8, min_samples_leaf=5, min_samples_split=8, n_estimators=100; total time=   1.4s\n",
      "[CV] END max_depth=100, max_features=0.8, min_samples_leaf=5, min_samples_split=8, n_estimators=100; total time=   1.2s\n",
      "[CV] END max_depth=100, max_features=0.8, min_samples_leaf=5, min_samples_split=8, n_estimators=100; total time=   1.2s\n",
      "[CV] END max_depth=100, max_features=0.8, min_samples_leaf=5, min_samples_split=8, n_estimators=100; total time=   1.1s\n",
      "[CV] END max_depth=100, max_features=0.8, min_samples_leaf=5, min_samples_split=8, n_estimators=100; total time=   1.1s\n",
      "[CV] END max_depth=100, max_features=0.8, min_samples_leaf=5, min_samples_split=12, n_estimators=100; total time=   1.0s\n",
      "[CV] END max_depth=100, max_features=0.8, min_samples_leaf=5, min_samples_split=12, n_estimators=100; total time=   1.0s\n",
      "[CV] END max_depth=100, max_features=0.8, min_samples_leaf=5, min_samples_split=12, n_estimators=100; total time=   0.9s\n",
      "[CV] END max_depth=100, max_features=0.8, min_samples_leaf=5, min_samples_split=12, n_estimators=100; total time=   0.9s\n",
      "[CV] END max_depth=100, max_features=0.8, min_samples_leaf=5, min_samples_split=12, n_estimators=100; total time=   0.9s\n"
     ]
    },
    {
     "data": {
      "text/html": [
       "<style>#sk-container-id-7 {color: black;background-color: white;}#sk-container-id-7 pre{padding: 0;}#sk-container-id-7 div.sk-toggleable {background-color: white;}#sk-container-id-7 label.sk-toggleable__label {cursor: pointer;display: block;width: 100%;margin-bottom: 0;padding: 0.3em;box-sizing: border-box;text-align: center;}#sk-container-id-7 label.sk-toggleable__label-arrow:before {content: \"▸\";float: left;margin-right: 0.25em;color: #696969;}#sk-container-id-7 label.sk-toggleable__label-arrow:hover:before {color: black;}#sk-container-id-7 div.sk-estimator:hover label.sk-toggleable__label-arrow:before {color: black;}#sk-container-id-7 div.sk-toggleable__content {max-height: 0;max-width: 0;overflow: hidden;text-align: left;background-color: #f0f8ff;}#sk-container-id-7 div.sk-toggleable__content pre {margin: 0.2em;color: black;border-radius: 0.25em;background-color: #f0f8ff;}#sk-container-id-7 input.sk-toggleable__control:checked~div.sk-toggleable__content {max-height: 200px;max-width: 100%;overflow: auto;}#sk-container-id-7 input.sk-toggleable__control:checked~label.sk-toggleable__label-arrow:before {content: \"▾\";}#sk-container-id-7 div.sk-estimator input.sk-toggleable__control:checked~label.sk-toggleable__label {background-color: #d4ebff;}#sk-container-id-7 div.sk-label input.sk-toggleable__control:checked~label.sk-toggleable__label {background-color: #d4ebff;}#sk-container-id-7 input.sk-hidden--visually {border: 0;clip: rect(1px 1px 1px 1px);clip: rect(1px, 1px, 1px, 1px);height: 1px;margin: -1px;overflow: hidden;padding: 0;position: absolute;width: 1px;}#sk-container-id-7 div.sk-estimator {font-family: monospace;background-color: #f0f8ff;border: 1px dotted black;border-radius: 0.25em;box-sizing: border-box;margin-bottom: 0.5em;}#sk-container-id-7 div.sk-estimator:hover {background-color: #d4ebff;}#sk-container-id-7 div.sk-parallel-item::after {content: \"\";width: 100%;border-bottom: 1px solid gray;flex-grow: 1;}#sk-container-id-7 div.sk-label:hover label.sk-toggleable__label {background-color: #d4ebff;}#sk-container-id-7 div.sk-serial::before {content: \"\";position: absolute;border-left: 1px solid gray;box-sizing: border-box;top: 0;bottom: 0;left: 50%;z-index: 0;}#sk-container-id-7 div.sk-serial {display: flex;flex-direction: column;align-items: center;background-color: white;padding-right: 0.2em;padding-left: 0.2em;position: relative;}#sk-container-id-7 div.sk-item {position: relative;z-index: 1;}#sk-container-id-7 div.sk-parallel {display: flex;align-items: stretch;justify-content: center;background-color: white;position: relative;}#sk-container-id-7 div.sk-item::before, #sk-container-id-7 div.sk-parallel-item::before {content: \"\";position: absolute;border-left: 1px solid gray;box-sizing: border-box;top: 0;bottom: 0;left: 50%;z-index: -1;}#sk-container-id-7 div.sk-parallel-item {display: flex;flex-direction: column;z-index: 1;position: relative;background-color: white;}#sk-container-id-7 div.sk-parallel-item:first-child::after {align-self: flex-end;width: 50%;}#sk-container-id-7 div.sk-parallel-item:last-child::after {align-self: flex-start;width: 50%;}#sk-container-id-7 div.sk-parallel-item:only-child::after {width: 0;}#sk-container-id-7 div.sk-dashed-wrapped {border: 1px dashed gray;margin: 0 0.4em 0.5em 0.4em;box-sizing: border-box;padding-bottom: 0.4em;background-color: white;}#sk-container-id-7 div.sk-label label {font-family: monospace;font-weight: bold;display: inline-block;line-height: 1.2em;}#sk-container-id-7 div.sk-label-container {text-align: center;}#sk-container-id-7 div.sk-container {/* jupyter's `normalize.less` sets `[hidden] { display: none; }` but bootstrap.min.css set `[hidden] { display: none !important; }` so we also need the `!important` here to be able to override the default hidden behavior on the sphinx rendered scikit-learn.org. See: https://github.com/scikit-learn/scikit-learn/issues/21755 */display: inline-block !important;position: relative;}#sk-container-id-7 div.sk-text-repr-fallback {display: none;}</style><div id=\"sk-container-id-7\" class=\"sk-top-container\"><div class=\"sk-text-repr-fallback\"><pre>GridSearchCV(cv=5, estimator=RandomForestRegressor(), n_jobs=-1,\n",
       "             param_grid={&#x27;max_depth&#x27;: [100], &#x27;max_features&#x27;: [0.6, 0.7, 0.8],\n",
       "                         &#x27;min_samples_leaf&#x27;: [3, 5],\n",
       "                         &#x27;min_samples_split&#x27;: [8, 12], &#x27;n_estimators&#x27;: [100]},\n",
       "             verbose=2)</pre><b>In a Jupyter environment, please rerun this cell to show the HTML representation or trust the notebook. <br />On GitHub, the HTML representation is unable to render, please try loading this page with nbviewer.org.</b></div><div class=\"sk-container\" hidden><div class=\"sk-item sk-dashed-wrapped\"><div class=\"sk-label-container\"><div class=\"sk-label sk-toggleable\"><input class=\"sk-toggleable__control sk-hidden--visually\" id=\"sk-estimator-id-11\" type=\"checkbox\" ><label for=\"sk-estimator-id-11\" class=\"sk-toggleable__label sk-toggleable__label-arrow\">GridSearchCV</label><div class=\"sk-toggleable__content\"><pre>GridSearchCV(cv=5, estimator=RandomForestRegressor(), n_jobs=-1,\n",
       "             param_grid={&#x27;max_depth&#x27;: [100], &#x27;max_features&#x27;: [0.6, 0.7, 0.8],\n",
       "                         &#x27;min_samples_leaf&#x27;: [3, 5],\n",
       "                         &#x27;min_samples_split&#x27;: [8, 12], &#x27;n_estimators&#x27;: [100]},\n",
       "             verbose=2)</pre></div></div></div><div class=\"sk-parallel\"><div class=\"sk-parallel-item\"><div class=\"sk-item\"><div class=\"sk-label-container\"><div class=\"sk-label sk-toggleable\"><input class=\"sk-toggleable__control sk-hidden--visually\" id=\"sk-estimator-id-12\" type=\"checkbox\" ><label for=\"sk-estimator-id-12\" class=\"sk-toggleable__label sk-toggleable__label-arrow\">estimator: RandomForestRegressor</label><div class=\"sk-toggleable__content\"><pre>RandomForestRegressor()</pre></div></div></div><div class=\"sk-serial\"><div class=\"sk-item\"><div class=\"sk-estimator sk-toggleable\"><input class=\"sk-toggleable__control sk-hidden--visually\" id=\"sk-estimator-id-13\" type=\"checkbox\" ><label for=\"sk-estimator-id-13\" class=\"sk-toggleable__label sk-toggleable__label-arrow\">RandomForestRegressor</label><div class=\"sk-toggleable__content\"><pre>RandomForestRegressor()</pre></div></div></div></div></div></div></div></div></div></div>"
      ],
      "text/plain": [
       "GridSearchCV(cv=5, estimator=RandomForestRegressor(), n_jobs=-1,\n",
       "             param_grid={'max_depth': [100], 'max_features': [0.6, 0.7, 0.8],\n",
       "                         'min_samples_leaf': [3, 5],\n",
       "                         'min_samples_split': [8, 12], 'n_estimators': [100]},\n",
       "             verbose=2)"
      ]
     },
     "execution_count": 124,
     "metadata": {},
     "output_type": "execute_result"
    }
   ],
   "source": [
    "grid_search_rf.fit(X_train,y_train)"
   ]
  },
  {
   "cell_type": "code",
   "execution_count": 125,
   "metadata": {},
   "outputs": [
    {
     "data": {
      "text/html": [
       "<style>#sk-container-id-8 {color: black;background-color: white;}#sk-container-id-8 pre{padding: 0;}#sk-container-id-8 div.sk-toggleable {background-color: white;}#sk-container-id-8 label.sk-toggleable__label {cursor: pointer;display: block;width: 100%;margin-bottom: 0;padding: 0.3em;box-sizing: border-box;text-align: center;}#sk-container-id-8 label.sk-toggleable__label-arrow:before {content: \"▸\";float: left;margin-right: 0.25em;color: #696969;}#sk-container-id-8 label.sk-toggleable__label-arrow:hover:before {color: black;}#sk-container-id-8 div.sk-estimator:hover label.sk-toggleable__label-arrow:before {color: black;}#sk-container-id-8 div.sk-toggleable__content {max-height: 0;max-width: 0;overflow: hidden;text-align: left;background-color: #f0f8ff;}#sk-container-id-8 div.sk-toggleable__content pre {margin: 0.2em;color: black;border-radius: 0.25em;background-color: #f0f8ff;}#sk-container-id-8 input.sk-toggleable__control:checked~div.sk-toggleable__content {max-height: 200px;max-width: 100%;overflow: auto;}#sk-container-id-8 input.sk-toggleable__control:checked~label.sk-toggleable__label-arrow:before {content: \"▾\";}#sk-container-id-8 div.sk-estimator input.sk-toggleable__control:checked~label.sk-toggleable__label {background-color: #d4ebff;}#sk-container-id-8 div.sk-label input.sk-toggleable__control:checked~label.sk-toggleable__label {background-color: #d4ebff;}#sk-container-id-8 input.sk-hidden--visually {border: 0;clip: rect(1px 1px 1px 1px);clip: rect(1px, 1px, 1px, 1px);height: 1px;margin: -1px;overflow: hidden;padding: 0;position: absolute;width: 1px;}#sk-container-id-8 div.sk-estimator {font-family: monospace;background-color: #f0f8ff;border: 1px dotted black;border-radius: 0.25em;box-sizing: border-box;margin-bottom: 0.5em;}#sk-container-id-8 div.sk-estimator:hover {background-color: #d4ebff;}#sk-container-id-8 div.sk-parallel-item::after {content: \"\";width: 100%;border-bottom: 1px solid gray;flex-grow: 1;}#sk-container-id-8 div.sk-label:hover label.sk-toggleable__label {background-color: #d4ebff;}#sk-container-id-8 div.sk-serial::before {content: \"\";position: absolute;border-left: 1px solid gray;box-sizing: border-box;top: 0;bottom: 0;left: 50%;z-index: 0;}#sk-container-id-8 div.sk-serial {display: flex;flex-direction: column;align-items: center;background-color: white;padding-right: 0.2em;padding-left: 0.2em;position: relative;}#sk-container-id-8 div.sk-item {position: relative;z-index: 1;}#sk-container-id-8 div.sk-parallel {display: flex;align-items: stretch;justify-content: center;background-color: white;position: relative;}#sk-container-id-8 div.sk-item::before, #sk-container-id-8 div.sk-parallel-item::before {content: \"\";position: absolute;border-left: 1px solid gray;box-sizing: border-box;top: 0;bottom: 0;left: 50%;z-index: -1;}#sk-container-id-8 div.sk-parallel-item {display: flex;flex-direction: column;z-index: 1;position: relative;background-color: white;}#sk-container-id-8 div.sk-parallel-item:first-child::after {align-self: flex-end;width: 50%;}#sk-container-id-8 div.sk-parallel-item:last-child::after {align-self: flex-start;width: 50%;}#sk-container-id-8 div.sk-parallel-item:only-child::after {width: 0;}#sk-container-id-8 div.sk-dashed-wrapped {border: 1px dashed gray;margin: 0 0.4em 0.5em 0.4em;box-sizing: border-box;padding-bottom: 0.4em;background-color: white;}#sk-container-id-8 div.sk-label label {font-family: monospace;font-weight: bold;display: inline-block;line-height: 1.2em;}#sk-container-id-8 div.sk-label-container {text-align: center;}#sk-container-id-8 div.sk-container {/* jupyter's `normalize.less` sets `[hidden] { display: none; }` but bootstrap.min.css set `[hidden] { display: none !important; }` so we also need the `!important` here to be able to override the default hidden behavior on the sphinx rendered scikit-learn.org. See: https://github.com/scikit-learn/scikit-learn/issues/21755 */display: inline-block !important;position: relative;}#sk-container-id-8 div.sk-text-repr-fallback {display: none;}</style><div id=\"sk-container-id-8\" class=\"sk-top-container\"><div class=\"sk-text-repr-fallback\"><pre>RandomForestRegressor(max_depth=100, max_features=0.6, min_samples_leaf=3,\n",
       "                      min_samples_split=8)</pre><b>In a Jupyter environment, please rerun this cell to show the HTML representation or trust the notebook. <br />On GitHub, the HTML representation is unable to render, please try loading this page with nbviewer.org.</b></div><div class=\"sk-container\" hidden><div class=\"sk-item\"><div class=\"sk-estimator sk-toggleable\"><input class=\"sk-toggleable__control sk-hidden--visually\" id=\"sk-estimator-id-14\" type=\"checkbox\" checked><label for=\"sk-estimator-id-14\" class=\"sk-toggleable__label sk-toggleable__label-arrow\">RandomForestRegressor</label><div class=\"sk-toggleable__content\"><pre>RandomForestRegressor(max_depth=100, max_features=0.6, min_samples_leaf=3,\n",
       "                      min_samples_split=8)</pre></div></div></div></div></div>"
      ],
      "text/plain": [
       "RandomForestRegressor(max_depth=100, max_features=0.6, min_samples_leaf=3,\n",
       "                      min_samples_split=8)"
      ]
     },
     "execution_count": 125,
     "metadata": {},
     "output_type": "execute_result"
    }
   ],
   "source": [
    "grid_search_rf.best_estimator_"
   ]
  },
  {
   "cell_type": "code",
   "execution_count": 126,
   "metadata": {},
   "outputs": [],
   "source": [
    "y_train_pred_rf=grid_search_rf.predict(X_train)"
   ]
  },
  {
   "cell_type": "code",
   "execution_count": 127,
   "metadata": {},
   "outputs": [
    {
     "name": "stdout",
     "output_type": "stream",
     "text": [
      "MSE train RandomForest= 17598.376384661064\n"
     ]
    }
   ],
   "source": [
    "print('MSE train RandomForest=' , mean_squared_error(y_train,y_train_pred_rf, squared=False))"
   ]
  },
  {
   "cell_type": "code",
   "execution_count": 128,
   "metadata": {},
   "outputs": [],
   "source": [
    "y_test_pred_rf=grid_search_rf.predict(X_test)"
   ]
  },
  {
   "cell_type": "code",
   "execution_count": 129,
   "metadata": {},
   "outputs": [
    {
     "name": "stdout",
     "output_type": "stream",
     "text": [
      "MSE test RandomForest= 28406.775503612316\n"
     ]
    }
   ],
   "source": [
    "print('MSE test RandomForest=' , mean_squared_error(y_test,y_test_pred_rf, squared=False))"
   ]
  },
  {
   "attachments": {},
   "cell_type": "markdown",
   "metadata": {},
   "source": [
    "#### XGboost"
   ]
  },
  {
   "cell_type": "code",
   "execution_count": 135,
   "metadata": {},
   "outputs": [],
   "source": [
    "from xgboost import XGBRegressor\n",
    "from sklearn.metrics import make_scorer"
   ]
  },
  {
   "cell_type": "code",
   "execution_count": 138,
   "metadata": {},
   "outputs": [],
   "source": [
    "both_scoring = {'AUC': 'roc_auc', 'Accuracy': make_scorer(accuracy_score), 'Loss':'neg_log_loss'}\n",
    "params = {\n",
    "        'n_estimators': [10,20,50,75,100],\n",
    "        'learning_rate': [0.05, 0.1, 0.2],\n",
    "        'max_depth':[3, 4, 5,10,15]\n",
    "        }\n",
    "bst = XGBRegressor()\n",
    "bst_grid = GridSearchCV(bst, params, cv=5, scoring=both_scoring, refit='AUC', return_train_score=True)"
   ]
  },
  {
   "cell_type": "code",
   "execution_count": 143,
   "metadata": {},
   "outputs": [],
   "source": [
    "param_dist = {\n",
    "    'n_estimators':[5,6,7,8],\n",
    "    'max_depth':[30,40,50], \n",
    "    'learning_rate':[0.2,0.25,0.3],\n",
    "    }\n",
    "#Create the lgbm moodel object\n",
    "bst = XGBRegressor()\n",
    "#Create the GridSearch object\n",
    "bst_grid2 = GridSearchCV(bst, param_dist,cv = 5, n_jobs = -1, verbose = 2)"
   ]
  },
  {
   "cell_type": "code",
   "execution_count": 144,
   "metadata": {},
   "outputs": [
    {
     "name": "stdout",
     "output_type": "stream",
     "text": [
      "Fitting 5 folds for each of 36 candidates, totalling 180 fits\n",
      "[CV] END ....learning_rate=0.2, max_depth=30, n_estimators=6; total time=   0.1s\n",
      "[CV] END ....learning_rate=0.2, max_depth=30, n_estimators=5; total time=   0.1s\n",
      "[CV] END ....learning_rate=0.2, max_depth=30, n_estimators=6; total time=   0.1s\n",
      "[CV] END ....learning_rate=0.2, max_depth=30, n_estimators=6; total time=   0.1s\n",
      "[CV] END ....learning_rate=0.2, max_depth=30, n_estimators=5; total time=   0.1s\n",
      "[CV] END ....learning_rate=0.2, max_depth=30, n_estimators=5; total time=   0.1s\n",
      "[CV] END ....learning_rate=0.2, max_depth=30, n_estimators=5; total time=   0.2s\n",
      "[CV] END ....learning_rate=0.2, max_depth=30, n_estimators=8; total time=   0.2s\n",
      "[CV] END ....learning_rate=0.2, max_depth=30, n_estimators=7; total time=   0.2s\n",
      "[CV] END ....learning_rate=0.2, max_depth=30, n_estimators=8; total time=   0.2s\n",
      "[CV] END ....learning_rate=0.2, max_depth=40, n_estimators=5; total time=   0.1s\n",
      "[CV] END ....learning_rate=0.2, max_depth=40, n_estimators=5; total time=   0.1s\n",
      "[CV] END ....learning_rate=0.2, max_depth=30, n_estimators=7; total time=   0.2s\n",
      "[CV] END ....learning_rate=0.2, max_depth=40, n_estimators=5; total time=   0.2s\n",
      "[CV] END ....learning_rate=0.2, max_depth=30, n_estimators=8; total time=   0.2s\n",
      "[CV] END ....learning_rate=0.2, max_depth=30, n_estimators=6; total time=   0.1s\n",
      "[CV] END ....learning_rate=0.2, max_depth=30, n_estimators=6; total time=   0.2s\n",
      "[CV] END ....learning_rate=0.2, max_depth=40, n_estimators=5; total time=   0.2s\n",
      "[CV] END ....learning_rate=0.2, max_depth=30, n_estimators=7; total time=   0.2s\n",
      "[CV] END ....learning_rate=0.2, max_depth=40, n_estimators=5; total time=   0.1s\n",
      "[CV] END ....learning_rate=0.2, max_depth=30, n_estimators=8; total time=   0.3s\n",
      "[CV] END ....learning_rate=0.2, max_depth=30, n_estimators=5; total time=   0.2s\n",
      "[CV] END ....learning_rate=0.2, max_depth=40, n_estimators=6; total time=   0.1s\n",
      "[CV] END ....learning_rate=0.2, max_depth=30, n_estimators=7; total time=   0.2s\n",
      "[CV] END ....learning_rate=0.2, max_depth=40, n_estimators=6; total time=   0.1s\n",
      "[CV] END ....learning_rate=0.2, max_depth=40, n_estimators=6; total time=   0.1s\n",
      "[CV] END ....learning_rate=0.2, max_depth=40, n_estimators=6; total time=   0.2s\n",
      "[CV] END ....learning_rate=0.2, max_depth=40, n_estimators=6; total time=   0.2s\n",
      "[CV] END ....learning_rate=0.2, max_depth=40, n_estimators=7; total time=   0.2s\n",
      "[CV] END ....learning_rate=0.2, max_depth=40, n_estimators=7; total time=   0.2s\n",
      "[CV] END ....learning_rate=0.2, max_depth=40, n_estimators=7; total time=   0.2s\n",
      "[CV] END ....learning_rate=0.2, max_depth=50, n_estimators=5; total time=   0.1s\n",
      "[CV] END ....learning_rate=0.2, max_depth=50, n_estimators=5; total time=   0.1s\n",
      "[CV] END ....learning_rate=0.2, max_depth=30, n_estimators=8; total time=   0.2s\n",
      "[CV] END ....learning_rate=0.2, max_depth=40, n_estimators=7; total time=   0.2s\n",
      "[CV] END ....learning_rate=0.2, max_depth=40, n_estimators=8; total time=   0.2s\n",
      "[CV] END ....learning_rate=0.2, max_depth=30, n_estimators=7; total time=   0.3s\n",
      "[CV] END ....learning_rate=0.2, max_depth=40, n_estimators=7; total time=   0.2s\n",
      "[CV] END ....learning_rate=0.2, max_depth=40, n_estimators=8; total time=   0.2s\n",
      "[CV] END ....learning_rate=0.2, max_depth=50, n_estimators=5; total time=   0.2s\n",
      "[CV] END ....learning_rate=0.2, max_depth=50, n_estimators=5; total time=   0.1s\n",
      "[CV] END ....learning_rate=0.2, max_depth=40, n_estimators=8; total time=   0.2s\n",
      "[CV] END ....learning_rate=0.2, max_depth=50, n_estimators=5; total time=   0.2s\n",
      "[CV] END ....learning_rate=0.2, max_depth=40, n_estimators=8; total time=   0.3s\n",
      "[CV] END ....learning_rate=0.2, max_depth=50, n_estimators=6; total time=   0.1s\n",
      "[CV] END ....learning_rate=0.2, max_depth=50, n_estimators=6; total time=   0.2s\n",
      "[CV] END ....learning_rate=0.2, max_depth=50, n_estimators=6; total time=   0.2s\n",
      "[CV] END ....learning_rate=0.2, max_depth=40, n_estimators=8; total time=   0.3s\n",
      "[CV] END ....learning_rate=0.2, max_depth=50, n_estimators=6; total time=   0.2s\n",
      "[CV] END ....learning_rate=0.2, max_depth=50, n_estimators=7; total time=   0.2s\n",
      "[CV] END ....learning_rate=0.2, max_depth=50, n_estimators=7; total time=   0.2s\n",
      "[CV] END ....learning_rate=0.2, max_depth=50, n_estimators=6; total time=   0.2s\n",
      "[CV] END ....learning_rate=0.2, max_depth=50, n_estimators=7; total time=   0.2s\n",
      "[CV] END ....learning_rate=0.2, max_depth=50, n_estimators=7; total time=   0.2s\n",
      "[CV] END ....learning_rate=0.2, max_depth=50, n_estimators=8; total time=   0.2s\n",
      "[CV] END ...learning_rate=0.25, max_depth=30, n_estimators=5; total time=   0.1s\n",
      "[CV] END ...learning_rate=0.25, max_depth=30, n_estimators=5; total time=   0.1s\n",
      "[CV] END ...learning_rate=0.25, max_depth=30, n_estimators=5; total time=   0.1s\n",
      "[CV] END ...learning_rate=0.25, max_depth=30, n_estimators=5; total time=   0.2s\n",
      "[CV] END ....learning_rate=0.2, max_depth=50, n_estimators=8; total time=   0.2s\n",
      "[CV] END ....learning_rate=0.2, max_depth=50, n_estimators=8; total time=   0.2s\n",
      "[CV] END ...learning_rate=0.25, max_depth=30, n_estimators=5; total time=   0.1s\n",
      "[CV] END ....learning_rate=0.2, max_depth=50, n_estimators=8; total time=   0.3s\n",
      "[CV] END ....learning_rate=0.2, max_depth=50, n_estimators=7; total time=   0.3s\n",
      "[CV] END ....learning_rate=0.2, max_depth=50, n_estimators=8; total time=   0.3s\n",
      "[CV] END ...learning_rate=0.25, max_depth=30, n_estimators=6; total time=   0.2s\n",
      "[CV] END ...learning_rate=0.25, max_depth=30, n_estimators=6; total time=   0.2s\n",
      "[CV] END ...learning_rate=0.25, max_depth=30, n_estimators=6; total time=   0.2s\n",
      "[CV] END ...learning_rate=0.25, max_depth=30, n_estimators=6; total time=   0.2s\n",
      "[CV] END ...learning_rate=0.25, max_depth=30, n_estimators=7; total time=   0.2s\n",
      "[CV] END ...learning_rate=0.25, max_depth=30, n_estimators=7; total time=   0.2s\n",
      "[CV] END ...learning_rate=0.25, max_depth=30, n_estimators=7; total time=   0.2s\n",
      "[CV] END ...learning_rate=0.25, max_depth=30, n_estimators=7; total time=   0.2s\n",
      "[CV] END ...learning_rate=0.25, max_depth=30, n_estimators=6; total time=   0.3s[CV] END ...learning_rate=0.25, max_depth=40, n_estimators=5; total time=   0.1s\n",
      "[CV] END ...learning_rate=0.25, max_depth=40, n_estimators=5; total time=   0.1s\n",
      "\n",
      "[CV] END ...learning_rate=0.25, max_depth=30, n_estimators=7; total time=   0.2s\n",
      "[CV] END ...learning_rate=0.25, max_depth=30, n_estimators=8; total time=   0.2s\n",
      "[CV] END ...learning_rate=0.25, max_depth=30, n_estimators=8; total time=   0.2s\n",
      "[CV] END ...learning_rate=0.25, max_depth=30, n_estimators=8; total time=   0.2s\n",
      "[CV] END ...learning_rate=0.25, max_depth=40, n_estimators=5; total time=   0.1s\n",
      "[CV] END ...learning_rate=0.25, max_depth=40, n_estimators=5; total time=   0.1s\n",
      "[CV] END ...learning_rate=0.25, max_depth=40, n_estimators=5; total time=   0.2s\n",
      "[CV] END ...learning_rate=0.25, max_depth=40, n_estimators=6; total time=   0.2s\n",
      "[CV] END ...learning_rate=0.25, max_depth=40, n_estimators=6; total time=   0.2s\n",
      "[CV] END ...learning_rate=0.25, max_depth=40, n_estimators=6; total time=   0.2s\n",
      "[CV] END ...learning_rate=0.25, max_depth=40, n_estimators=6; total time=   0.2s\n",
      "[CV] END ...learning_rate=0.25, max_depth=30, n_estimators=8; total time=   0.3s\n",
      "[CV] END ...learning_rate=0.25, max_depth=40, n_estimators=6; total time=   0.2s\n",
      "[CV] END ...learning_rate=0.25, max_depth=40, n_estimators=7; total time=   0.2s\n",
      "[CV] END ...learning_rate=0.25, max_depth=40, n_estimators=7; total time=   0.2s\n",
      "[CV] END ...learning_rate=0.25, max_depth=40, n_estimators=7; total time=   0.2s\n",
      "[CV] END ...learning_rate=0.25, max_depth=40, n_estimators=7; total time=   0.2s\n",
      "[CV] END ...learning_rate=0.25, max_depth=50, n_estimators=5; total time=   0.1s\n",
      "[CV] END ...learning_rate=0.25, max_depth=30, n_estimators=8; total time=   0.4s\n",
      "[CV] END ...learning_rate=0.25, max_depth=50, n_estimators=5; total time=   0.1s\n",
      "[CV] END ...learning_rate=0.25, max_depth=40, n_estimators=8; total time=   0.2s\n",
      "[CV] END ...learning_rate=0.25, max_depth=40, n_estimators=8; total time=   0.2s\n",
      "[CV] END ...learning_rate=0.25, max_depth=50, n_estimators=5; total time=   0.1s\n",
      "[CV] END ...learning_rate=0.25, max_depth=50, n_estimators=5; total time=   0.2s\n",
      "[CV] END ...learning_rate=0.25, max_depth=40, n_estimators=8; total time=   0.3s\n",
      "[CV] END ...learning_rate=0.25, max_depth=40, n_estimators=7; total time=   0.3s\n",
      "[CV] END ...learning_rate=0.25, max_depth=40, n_estimators=8; total time=   0.2s\n",
      "[CV] END ...learning_rate=0.25, max_depth=50, n_estimators=5; total time=   0.2s\n",
      "[CV] END ...learning_rate=0.25, max_depth=40, n_estimators=8; total time=   0.3s\n",
      "[CV] END ...learning_rate=0.25, max_depth=50, n_estimators=6; total time=   0.2s\n",
      "[CV] END ...learning_rate=0.25, max_depth=50, n_estimators=6; total time=   0.2s[CV] END ...learning_rate=0.25, max_depth=50, n_estimators=6; total time=   0.2s\n",
      "\n",
      "[CV] END ...learning_rate=0.25, max_depth=50, n_estimators=6; total time=   0.2s\n",
      "[CV] END ...learning_rate=0.25, max_depth=50, n_estimators=6; total time=   0.2s\n",
      "[CV] END ...learning_rate=0.25, max_depth=50, n_estimators=7; total time=   0.2s\n",
      "[CV] END ...learning_rate=0.25, max_depth=50, n_estimators=7; total time=   0.2s\n",
      "[CV] END ....learning_rate=0.3, max_depth=30, n_estimators=5; total time=   0.1s\n",
      "[CV] END ....learning_rate=0.3, max_depth=30, n_estimators=5; total time=   0.2s\n",
      "[CV] END ....learning_rate=0.3, max_depth=30, n_estimators=5; total time=   0.1s\n",
      "[CV] END ...learning_rate=0.25, max_depth=50, n_estimators=7; total time=   0.2s\n",
      "[CV] END ....learning_rate=0.3, max_depth=30, n_estimators=5; total time=   0.1s\n",
      "[CV] END ...learning_rate=0.25, max_depth=50, n_estimators=8; total time=   0.2s\n",
      "[CV] END ...learning_rate=0.25, max_depth=50, n_estimators=7; total time=   0.3s\n",
      "[CV] END ...learning_rate=0.25, max_depth=50, n_estimators=8; total time=   0.2s\n",
      "[CV] END ...learning_rate=0.25, max_depth=50, n_estimators=8; total time=   0.2s\n",
      "[CV] END ....learning_rate=0.3, max_depth=30, n_estimators=5; total time=   0.2s\n",
      "[CV] END ...learning_rate=0.25, max_depth=50, n_estimators=8; total time=   0.3s\n",
      "[CV] END ...learning_rate=0.25, max_depth=50, n_estimators=8; total time=   0.3s\n",
      "[CV] END ....learning_rate=0.3, max_depth=30, n_estimators=6; total time=   0.2s\n",
      "[CV] END ....learning_rate=0.3, max_depth=30, n_estimators=6; total time=   0.2s\n",
      "[CV] END ....learning_rate=0.3, max_depth=30, n_estimators=6; total time=   0.2s\n",
      "[CV] END ...learning_rate=0.25, max_depth=50, n_estimators=7; total time=   0.4s\n",
      "[CV] END ....learning_rate=0.3, max_depth=30, n_estimators=6; total time=   0.2s\n",
      "[CV] END ....learning_rate=0.3, max_depth=40, n_estimators=5; total time=   0.1s\n",
      "[CV] END ....learning_rate=0.3, max_depth=30, n_estimators=6; total time=   0.2s\n",
      "[CV] END ....learning_rate=0.3, max_depth=30, n_estimators=7; total time=   0.3s\n",
      "[CV] END ....learning_rate=0.3, max_depth=30, n_estimators=7; total time=   0.2s\n",
      "[CV] END ....learning_rate=0.3, max_depth=30, n_estimators=7; total time=   0.3s\n",
      "[CV] END ....learning_rate=0.3, max_depth=40, n_estimators=5; total time=   0.1s\n",
      "[CV] END ....learning_rate=0.3, max_depth=30, n_estimators=8; total time=   0.2s\n",
      "[CV] END ....learning_rate=0.3, max_depth=40, n_estimators=5; total time=   0.1s\n",
      "[CV] END ....learning_rate=0.3, max_depth=30, n_estimators=7; total time=   0.3s\n",
      "[CV] END ....learning_rate=0.3, max_depth=30, n_estimators=7; total time=   0.3s\n",
      "[CV] END ....learning_rate=0.3, max_depth=30, n_estimators=8; total time=   0.3s\n",
      "[CV] END ....learning_rate=0.3, max_depth=40, n_estimators=5; total time=   0.2s\n",
      "[CV] END ....learning_rate=0.3, max_depth=30, n_estimators=8; total time=   0.3s\n",
      "[CV] END ....learning_rate=0.3, max_depth=30, n_estimators=8; total time=   0.3s\n",
      "[CV] END ....learning_rate=0.3, max_depth=40, n_estimators=5; total time=   0.2s\n",
      "[CV] END ....learning_rate=0.3, max_depth=40, n_estimators=6; total time=   0.2s\n",
      "[CV] END ....learning_rate=0.3, max_depth=40, n_estimators=6; total time=   0.2s\n",
      "[CV] END ....learning_rate=0.3, max_depth=30, n_estimators=8; total time=   0.4s\n",
      "[CV] END ....learning_rate=0.3, max_depth=40, n_estimators=6; total time=   0.2s\n",
      "[CV] END ....learning_rate=0.3, max_depth=40, n_estimators=6; total time=   0.2s\n",
      "[CV] END ....learning_rate=0.3, max_depth=40, n_estimators=6; total time=   0.3s\n",
      "[CV] END ....learning_rate=0.3, max_depth=40, n_estimators=7; total time=   0.2s\n",
      "[CV] END ....learning_rate=0.3, max_depth=40, n_estimators=7; total time=   0.2s\n",
      "[CV] END ....learning_rate=0.3, max_depth=40, n_estimators=7; total time=   0.2s\n",
      "[CV] END ....learning_rate=0.3, max_depth=50, n_estimators=5; total time=   0.1s\n",
      "[CV] END ....learning_rate=0.3, max_depth=40, n_estimators=8; total time=   0.2s\n",
      "[CV] END ....learning_rate=0.3, max_depth=50, n_estimators=5; total time=   0.2s\n",
      "[CV] END ....learning_rate=0.3, max_depth=50, n_estimators=5; total time=   0.1s\n",
      "[CV] END ....learning_rate=0.3, max_depth=40, n_estimators=7; total time=   0.3s\n",
      "[CV] END ....learning_rate=0.3, max_depth=40, n_estimators=8; total time=   0.3s\n",
      "[CV] END ....learning_rate=0.3, max_depth=50, n_estimators=5; total time=   0.2s\n",
      "[CV] END ....learning_rate=0.3, max_depth=50, n_estimators=5; total time=   0.2s\n",
      "[CV] END ....learning_rate=0.3, max_depth=40, n_estimators=8; total time=   0.3s\n",
      "[CV] END ....learning_rate=0.3, max_depth=50, n_estimators=6; total time=   0.2s[CV] END ....learning_rate=0.3, max_depth=40, n_estimators=8; total time=   0.3s\n",
      "\n",
      "[CV] END ....learning_rate=0.3, max_depth=50, n_estimators=6; total time=   0.2s\n",
      "[CV] END ....learning_rate=0.3, max_depth=50, n_estimators=6; total time=   0.2s\n",
      "[CV] END ....learning_rate=0.3, max_depth=50, n_estimators=6; total time=   0.2s\n",
      "[CV] END ....learning_rate=0.3, max_depth=40, n_estimators=7; total time=   0.4s\n",
      "[CV] END ....learning_rate=0.3, max_depth=50, n_estimators=6; total time=   0.2s\n",
      "[CV] END ....learning_rate=0.3, max_depth=40, n_estimators=8; total time=   0.4s\n",
      "[CV] END ....learning_rate=0.3, max_depth=50, n_estimators=7; total time=   0.2s\n",
      "[CV] END ....learning_rate=0.3, max_depth=50, n_estimators=7; total time=   0.2s\n",
      "[CV] END ....learning_rate=0.3, max_depth=50, n_estimators=7; total time=   0.2s\n",
      "[CV] END ....learning_rate=0.3, max_depth=50, n_estimators=7; total time=   0.2s\n",
      "[CV] END ....learning_rate=0.3, max_depth=50, n_estimators=7; total time=   0.2s\n",
      "[CV] END ....learning_rate=0.3, max_depth=50, n_estimators=8; total time=   0.2s\n",
      "[CV] END ....learning_rate=0.3, max_depth=50, n_estimators=8; total time=   0.2s\n",
      "[CV] END ....learning_rate=0.3, max_depth=50, n_estimators=8; total time=   0.2s\n",
      "[CV] END ....learning_rate=0.3, max_depth=50, n_estimators=8; total time=   0.2s\n",
      "[CV] END ....learning_rate=0.3, max_depth=50, n_estimators=8; total time=   0.2s\n"
     ]
    },
    {
     "data": {
      "text/html": [
       "<style>#sk-container-id-12 {color: black;background-color: white;}#sk-container-id-12 pre{padding: 0;}#sk-container-id-12 div.sk-toggleable {background-color: white;}#sk-container-id-12 label.sk-toggleable__label {cursor: pointer;display: block;width: 100%;margin-bottom: 0;padding: 0.3em;box-sizing: border-box;text-align: center;}#sk-container-id-12 label.sk-toggleable__label-arrow:before {content: \"▸\";float: left;margin-right: 0.25em;color: #696969;}#sk-container-id-12 label.sk-toggleable__label-arrow:hover:before {color: black;}#sk-container-id-12 div.sk-estimator:hover label.sk-toggleable__label-arrow:before {color: black;}#sk-container-id-12 div.sk-toggleable__content {max-height: 0;max-width: 0;overflow: hidden;text-align: left;background-color: #f0f8ff;}#sk-container-id-12 div.sk-toggleable__content pre {margin: 0.2em;color: black;border-radius: 0.25em;background-color: #f0f8ff;}#sk-container-id-12 input.sk-toggleable__control:checked~div.sk-toggleable__content {max-height: 200px;max-width: 100%;overflow: auto;}#sk-container-id-12 input.sk-toggleable__control:checked~label.sk-toggleable__label-arrow:before {content: \"▾\";}#sk-container-id-12 div.sk-estimator input.sk-toggleable__control:checked~label.sk-toggleable__label {background-color: #d4ebff;}#sk-container-id-12 div.sk-label input.sk-toggleable__control:checked~label.sk-toggleable__label {background-color: #d4ebff;}#sk-container-id-12 input.sk-hidden--visually {border: 0;clip: rect(1px 1px 1px 1px);clip: rect(1px, 1px, 1px, 1px);height: 1px;margin: -1px;overflow: hidden;padding: 0;position: absolute;width: 1px;}#sk-container-id-12 div.sk-estimator {font-family: monospace;background-color: #f0f8ff;border: 1px dotted black;border-radius: 0.25em;box-sizing: border-box;margin-bottom: 0.5em;}#sk-container-id-12 div.sk-estimator:hover {background-color: #d4ebff;}#sk-container-id-12 div.sk-parallel-item::after {content: \"\";width: 100%;border-bottom: 1px solid gray;flex-grow: 1;}#sk-container-id-12 div.sk-label:hover label.sk-toggleable__label {background-color: #d4ebff;}#sk-container-id-12 div.sk-serial::before {content: \"\";position: absolute;border-left: 1px solid gray;box-sizing: border-box;top: 0;bottom: 0;left: 50%;z-index: 0;}#sk-container-id-12 div.sk-serial {display: flex;flex-direction: column;align-items: center;background-color: white;padding-right: 0.2em;padding-left: 0.2em;position: relative;}#sk-container-id-12 div.sk-item {position: relative;z-index: 1;}#sk-container-id-12 div.sk-parallel {display: flex;align-items: stretch;justify-content: center;background-color: white;position: relative;}#sk-container-id-12 div.sk-item::before, #sk-container-id-12 div.sk-parallel-item::before {content: \"\";position: absolute;border-left: 1px solid gray;box-sizing: border-box;top: 0;bottom: 0;left: 50%;z-index: -1;}#sk-container-id-12 div.sk-parallel-item {display: flex;flex-direction: column;z-index: 1;position: relative;background-color: white;}#sk-container-id-12 div.sk-parallel-item:first-child::after {align-self: flex-end;width: 50%;}#sk-container-id-12 div.sk-parallel-item:last-child::after {align-self: flex-start;width: 50%;}#sk-container-id-12 div.sk-parallel-item:only-child::after {width: 0;}#sk-container-id-12 div.sk-dashed-wrapped {border: 1px dashed gray;margin: 0 0.4em 0.5em 0.4em;box-sizing: border-box;padding-bottom: 0.4em;background-color: white;}#sk-container-id-12 div.sk-label label {font-family: monospace;font-weight: bold;display: inline-block;line-height: 1.2em;}#sk-container-id-12 div.sk-label-container {text-align: center;}#sk-container-id-12 div.sk-container {/* jupyter's `normalize.less` sets `[hidden] { display: none; }` but bootstrap.min.css set `[hidden] { display: none !important; }` so we also need the `!important` here to be able to override the default hidden behavior on the sphinx rendered scikit-learn.org. See: https://github.com/scikit-learn/scikit-learn/issues/21755 */display: inline-block !important;position: relative;}#sk-container-id-12 div.sk-text-repr-fallback {display: none;}</style><div id=\"sk-container-id-12\" class=\"sk-top-container\"><div class=\"sk-text-repr-fallback\"><pre>GridSearchCV(cv=5,\n",
       "             estimator=XGBRegressor(base_score=None, booster=None,\n",
       "                                    callbacks=None, colsample_bylevel=None,\n",
       "                                    colsample_bynode=None,\n",
       "                                    colsample_bytree=None,\n",
       "                                    early_stopping_rounds=None,\n",
       "                                    enable_categorical=False, eval_metric=None,\n",
       "                                    feature_types=None, gamma=None, gpu_id=None,\n",
       "                                    grow_policy=None, importance_type=None,\n",
       "                                    interaction_constraints=None,\n",
       "                                    learning_rate=None, m...\n",
       "                                    max_cat_threshold=None,\n",
       "                                    max_cat_to_onehot=None, max_delta_step=None,\n",
       "                                    max_depth=None, max_leaves=None,\n",
       "                                    min_child_weight=None, missing=nan,\n",
       "                                    monotone_constraints=None, n_estimators=100,\n",
       "                                    n_jobs=None, num_parallel_tree=None,\n",
       "                                    predictor=None, random_state=None, ...),\n",
       "             n_jobs=-1,\n",
       "             param_grid={&#x27;learning_rate&#x27;: [0.2, 0.25, 0.3],\n",
       "                         &#x27;max_depth&#x27;: [30, 40, 50],\n",
       "                         &#x27;n_estimators&#x27;: [5, 6, 7, 8]},\n",
       "             verbose=2)</pre><b>In a Jupyter environment, please rerun this cell to show the HTML representation or trust the notebook. <br />On GitHub, the HTML representation is unable to render, please try loading this page with nbviewer.org.</b></div><div class=\"sk-container\" hidden><div class=\"sk-item sk-dashed-wrapped\"><div class=\"sk-label-container\"><div class=\"sk-label sk-toggleable\"><input class=\"sk-toggleable__control sk-hidden--visually\" id=\"sk-estimator-id-22\" type=\"checkbox\" ><label for=\"sk-estimator-id-22\" class=\"sk-toggleable__label sk-toggleable__label-arrow\">GridSearchCV</label><div class=\"sk-toggleable__content\"><pre>GridSearchCV(cv=5,\n",
       "             estimator=XGBRegressor(base_score=None, booster=None,\n",
       "                                    callbacks=None, colsample_bylevel=None,\n",
       "                                    colsample_bynode=None,\n",
       "                                    colsample_bytree=None,\n",
       "                                    early_stopping_rounds=None,\n",
       "                                    enable_categorical=False, eval_metric=None,\n",
       "                                    feature_types=None, gamma=None, gpu_id=None,\n",
       "                                    grow_policy=None, importance_type=None,\n",
       "                                    interaction_constraints=None,\n",
       "                                    learning_rate=None, m...\n",
       "                                    max_cat_threshold=None,\n",
       "                                    max_cat_to_onehot=None, max_delta_step=None,\n",
       "                                    max_depth=None, max_leaves=None,\n",
       "                                    min_child_weight=None, missing=nan,\n",
       "                                    monotone_constraints=None, n_estimators=100,\n",
       "                                    n_jobs=None, num_parallel_tree=None,\n",
       "                                    predictor=None, random_state=None, ...),\n",
       "             n_jobs=-1,\n",
       "             param_grid={&#x27;learning_rate&#x27;: [0.2, 0.25, 0.3],\n",
       "                         &#x27;max_depth&#x27;: [30, 40, 50],\n",
       "                         &#x27;n_estimators&#x27;: [5, 6, 7, 8]},\n",
       "             verbose=2)</pre></div></div></div><div class=\"sk-parallel\"><div class=\"sk-parallel-item\"><div class=\"sk-item\"><div class=\"sk-label-container\"><div class=\"sk-label sk-toggleable\"><input class=\"sk-toggleable__control sk-hidden--visually\" id=\"sk-estimator-id-23\" type=\"checkbox\" ><label for=\"sk-estimator-id-23\" class=\"sk-toggleable__label sk-toggleable__label-arrow\">estimator: XGBRegressor</label><div class=\"sk-toggleable__content\"><pre>XGBRegressor(base_score=None, booster=None, callbacks=None,\n",
       "             colsample_bylevel=None, colsample_bynode=None,\n",
       "             colsample_bytree=None, early_stopping_rounds=None,\n",
       "             enable_categorical=False, eval_metric=None, feature_types=None,\n",
       "             gamma=None, gpu_id=None, grow_policy=None, importance_type=None,\n",
       "             interaction_constraints=None, learning_rate=None, max_bin=None,\n",
       "             max_cat_threshold=None, max_cat_to_onehot=None,\n",
       "             max_delta_step=None, max_depth=None, max_leaves=None,\n",
       "             min_child_weight=None, missing=nan, monotone_constraints=None,\n",
       "             n_estimators=100, n_jobs=None, num_parallel_tree=None,\n",
       "             predictor=None, random_state=None, ...)</pre></div></div></div><div class=\"sk-serial\"><div class=\"sk-item\"><div class=\"sk-estimator sk-toggleable\"><input class=\"sk-toggleable__control sk-hidden--visually\" id=\"sk-estimator-id-24\" type=\"checkbox\" ><label for=\"sk-estimator-id-24\" class=\"sk-toggleable__label sk-toggleable__label-arrow\">XGBRegressor</label><div class=\"sk-toggleable__content\"><pre>XGBRegressor(base_score=None, booster=None, callbacks=None,\n",
       "             colsample_bylevel=None, colsample_bynode=None,\n",
       "             colsample_bytree=None, early_stopping_rounds=None,\n",
       "             enable_categorical=False, eval_metric=None, feature_types=None,\n",
       "             gamma=None, gpu_id=None, grow_policy=None, importance_type=None,\n",
       "             interaction_constraints=None, learning_rate=None, max_bin=None,\n",
       "             max_cat_threshold=None, max_cat_to_onehot=None,\n",
       "             max_delta_step=None, max_depth=None, max_leaves=None,\n",
       "             min_child_weight=None, missing=nan, monotone_constraints=None,\n",
       "             n_estimators=100, n_jobs=None, num_parallel_tree=None,\n",
       "             predictor=None, random_state=None, ...)</pre></div></div></div></div></div></div></div></div></div></div>"
      ],
      "text/plain": [
       "GridSearchCV(cv=5,\n",
       "             estimator=XGBRegressor(base_score=None, booster=None,\n",
       "                                    callbacks=None, colsample_bylevel=None,\n",
       "                                    colsample_bynode=None,\n",
       "                                    colsample_bytree=None,\n",
       "                                    early_stopping_rounds=None,\n",
       "                                    enable_categorical=False, eval_metric=None,\n",
       "                                    feature_types=None, gamma=None, gpu_id=None,\n",
       "                                    grow_policy=None, importance_type=None,\n",
       "                                    interaction_constraints=None,\n",
       "                                    learning_rate=None, m...\n",
       "                                    max_cat_threshold=None,\n",
       "                                    max_cat_to_onehot=None, max_delta_step=None,\n",
       "                                    max_depth=None, max_leaves=None,\n",
       "                                    min_child_weight=None, missing=nan,\n",
       "                                    monotone_constraints=None, n_estimators=100,\n",
       "                                    n_jobs=None, num_parallel_tree=None,\n",
       "                                    predictor=None, random_state=None, ...),\n",
       "             n_jobs=-1,\n",
       "             param_grid={'learning_rate': [0.2, 0.25, 0.3],\n",
       "                         'max_depth': [30, 40, 50],\n",
       "                         'n_estimators': [5, 6, 7, 8]},\n",
       "             verbose=2)"
      ]
     },
     "execution_count": 144,
     "metadata": {},
     "output_type": "execute_result"
    }
   ],
   "source": [
    "bst_grid2.fit(X_train,y_train)"
   ]
  },
  {
   "cell_type": "code",
   "execution_count": 140,
   "metadata": {},
   "outputs": [
    {
     "data": {
      "text/html": [
       "<style>#sk-container-id-11 {color: black;background-color: white;}#sk-container-id-11 pre{padding: 0;}#sk-container-id-11 div.sk-toggleable {background-color: white;}#sk-container-id-11 label.sk-toggleable__label {cursor: pointer;display: block;width: 100%;margin-bottom: 0;padding: 0.3em;box-sizing: border-box;text-align: center;}#sk-container-id-11 label.sk-toggleable__label-arrow:before {content: \"▸\";float: left;margin-right: 0.25em;color: #696969;}#sk-container-id-11 label.sk-toggleable__label-arrow:hover:before {color: black;}#sk-container-id-11 div.sk-estimator:hover label.sk-toggleable__label-arrow:before {color: black;}#sk-container-id-11 div.sk-toggleable__content {max-height: 0;max-width: 0;overflow: hidden;text-align: left;background-color: #f0f8ff;}#sk-container-id-11 div.sk-toggleable__content pre {margin: 0.2em;color: black;border-radius: 0.25em;background-color: #f0f8ff;}#sk-container-id-11 input.sk-toggleable__control:checked~div.sk-toggleable__content {max-height: 200px;max-width: 100%;overflow: auto;}#sk-container-id-11 input.sk-toggleable__control:checked~label.sk-toggleable__label-arrow:before {content: \"▾\";}#sk-container-id-11 div.sk-estimator input.sk-toggleable__control:checked~label.sk-toggleable__label {background-color: #d4ebff;}#sk-container-id-11 div.sk-label input.sk-toggleable__control:checked~label.sk-toggleable__label {background-color: #d4ebff;}#sk-container-id-11 input.sk-hidden--visually {border: 0;clip: rect(1px 1px 1px 1px);clip: rect(1px, 1px, 1px, 1px);height: 1px;margin: -1px;overflow: hidden;padding: 0;position: absolute;width: 1px;}#sk-container-id-11 div.sk-estimator {font-family: monospace;background-color: #f0f8ff;border: 1px dotted black;border-radius: 0.25em;box-sizing: border-box;margin-bottom: 0.5em;}#sk-container-id-11 div.sk-estimator:hover {background-color: #d4ebff;}#sk-container-id-11 div.sk-parallel-item::after {content: \"\";width: 100%;border-bottom: 1px solid gray;flex-grow: 1;}#sk-container-id-11 div.sk-label:hover label.sk-toggleable__label {background-color: #d4ebff;}#sk-container-id-11 div.sk-serial::before {content: \"\";position: absolute;border-left: 1px solid gray;box-sizing: border-box;top: 0;bottom: 0;left: 50%;z-index: 0;}#sk-container-id-11 div.sk-serial {display: flex;flex-direction: column;align-items: center;background-color: white;padding-right: 0.2em;padding-left: 0.2em;position: relative;}#sk-container-id-11 div.sk-item {position: relative;z-index: 1;}#sk-container-id-11 div.sk-parallel {display: flex;align-items: stretch;justify-content: center;background-color: white;position: relative;}#sk-container-id-11 div.sk-item::before, #sk-container-id-11 div.sk-parallel-item::before {content: \"\";position: absolute;border-left: 1px solid gray;box-sizing: border-box;top: 0;bottom: 0;left: 50%;z-index: -1;}#sk-container-id-11 div.sk-parallel-item {display: flex;flex-direction: column;z-index: 1;position: relative;background-color: white;}#sk-container-id-11 div.sk-parallel-item:first-child::after {align-self: flex-end;width: 50%;}#sk-container-id-11 div.sk-parallel-item:last-child::after {align-self: flex-start;width: 50%;}#sk-container-id-11 div.sk-parallel-item:only-child::after {width: 0;}#sk-container-id-11 div.sk-dashed-wrapped {border: 1px dashed gray;margin: 0 0.4em 0.5em 0.4em;box-sizing: border-box;padding-bottom: 0.4em;background-color: white;}#sk-container-id-11 div.sk-label label {font-family: monospace;font-weight: bold;display: inline-block;line-height: 1.2em;}#sk-container-id-11 div.sk-label-container {text-align: center;}#sk-container-id-11 div.sk-container {/* jupyter's `normalize.less` sets `[hidden] { display: none; }` but bootstrap.min.css set `[hidden] { display: none !important; }` so we also need the `!important` here to be able to override the default hidden behavior on the sphinx rendered scikit-learn.org. See: https://github.com/scikit-learn/scikit-learn/issues/21755 */display: inline-block !important;position: relative;}#sk-container-id-11 div.sk-text-repr-fallback {display: none;}</style><div id=\"sk-container-id-11\" class=\"sk-top-container\"><div class=\"sk-text-repr-fallback\"><pre>XGBRegressor(base_score=None, booster=None, callbacks=None,\n",
       "             colsample_bylevel=None, colsample_bynode=None,\n",
       "             colsample_bytree=None, early_stopping_rounds=None,\n",
       "             enable_categorical=False, eval_metric=None, feature_types=None,\n",
       "             gamma=None, gpu_id=None, grow_policy=None, importance_type=None,\n",
       "             interaction_constraints=None, learning_rate=0.05, max_bin=None,\n",
       "             max_cat_threshold=None, max_cat_to_onehot=None,\n",
       "             max_delta_step=None, max_depth=3, max_leaves=None,\n",
       "             min_child_weight=None, missing=nan, monotone_constraints=None,\n",
       "             n_estimators=10, n_jobs=None, num_parallel_tree=None,\n",
       "             predictor=None, random_state=None, ...)</pre><b>In a Jupyter environment, please rerun this cell to show the HTML representation or trust the notebook. <br />On GitHub, the HTML representation is unable to render, please try loading this page with nbviewer.org.</b></div><div class=\"sk-container\" hidden><div class=\"sk-item\"><div class=\"sk-estimator sk-toggleable\"><input class=\"sk-toggleable__control sk-hidden--visually\" id=\"sk-estimator-id-21\" type=\"checkbox\" checked><label for=\"sk-estimator-id-21\" class=\"sk-toggleable__label sk-toggleable__label-arrow\">XGBRegressor</label><div class=\"sk-toggleable__content\"><pre>XGBRegressor(base_score=None, booster=None, callbacks=None,\n",
       "             colsample_bylevel=None, colsample_bynode=None,\n",
       "             colsample_bytree=None, early_stopping_rounds=None,\n",
       "             enable_categorical=False, eval_metric=None, feature_types=None,\n",
       "             gamma=None, gpu_id=None, grow_policy=None, importance_type=None,\n",
       "             interaction_constraints=None, learning_rate=0.05, max_bin=None,\n",
       "             max_cat_threshold=None, max_cat_to_onehot=None,\n",
       "             max_delta_step=None, max_depth=3, max_leaves=None,\n",
       "             min_child_weight=None, missing=nan, monotone_constraints=None,\n",
       "             n_estimators=10, n_jobs=None, num_parallel_tree=None,\n",
       "             predictor=None, random_state=None, ...)</pre></div></div></div></div></div>"
      ],
      "text/plain": [
       "XGBRegressor(base_score=None, booster=None, callbacks=None,\n",
       "             colsample_bylevel=None, colsample_bynode=None,\n",
       "             colsample_bytree=None, early_stopping_rounds=None,\n",
       "             enable_categorical=False, eval_metric=None, feature_types=None,\n",
       "             gamma=None, gpu_id=None, grow_policy=None, importance_type=None,\n",
       "             interaction_constraints=None, learning_rate=0.05, max_bin=None,\n",
       "             max_cat_threshold=None, max_cat_to_onehot=None,\n",
       "             max_delta_step=None, max_depth=3, max_leaves=None,\n",
       "             min_child_weight=None, missing=nan, monotone_constraints=None,\n",
       "             n_estimators=10, n_jobs=None, num_parallel_tree=None,\n",
       "             predictor=None, random_state=None, ...)"
      ]
     },
     "execution_count": 140,
     "metadata": {},
     "output_type": "execute_result"
    }
   ],
   "source": [
    "bst_grid.best_estimator_"
   ]
  },
  {
   "cell_type": "code",
   "execution_count": 145,
   "metadata": {},
   "outputs": [
    {
     "data": {
      "text/html": [
       "<style>#sk-container-id-13 {color: black;background-color: white;}#sk-container-id-13 pre{padding: 0;}#sk-container-id-13 div.sk-toggleable {background-color: white;}#sk-container-id-13 label.sk-toggleable__label {cursor: pointer;display: block;width: 100%;margin-bottom: 0;padding: 0.3em;box-sizing: border-box;text-align: center;}#sk-container-id-13 label.sk-toggleable__label-arrow:before {content: \"▸\";float: left;margin-right: 0.25em;color: #696969;}#sk-container-id-13 label.sk-toggleable__label-arrow:hover:before {color: black;}#sk-container-id-13 div.sk-estimator:hover label.sk-toggleable__label-arrow:before {color: black;}#sk-container-id-13 div.sk-toggleable__content {max-height: 0;max-width: 0;overflow: hidden;text-align: left;background-color: #f0f8ff;}#sk-container-id-13 div.sk-toggleable__content pre {margin: 0.2em;color: black;border-radius: 0.25em;background-color: #f0f8ff;}#sk-container-id-13 input.sk-toggleable__control:checked~div.sk-toggleable__content {max-height: 200px;max-width: 100%;overflow: auto;}#sk-container-id-13 input.sk-toggleable__control:checked~label.sk-toggleable__label-arrow:before {content: \"▾\";}#sk-container-id-13 div.sk-estimator input.sk-toggleable__control:checked~label.sk-toggleable__label {background-color: #d4ebff;}#sk-container-id-13 div.sk-label input.sk-toggleable__control:checked~label.sk-toggleable__label {background-color: #d4ebff;}#sk-container-id-13 input.sk-hidden--visually {border: 0;clip: rect(1px 1px 1px 1px);clip: rect(1px, 1px, 1px, 1px);height: 1px;margin: -1px;overflow: hidden;padding: 0;position: absolute;width: 1px;}#sk-container-id-13 div.sk-estimator {font-family: monospace;background-color: #f0f8ff;border: 1px dotted black;border-radius: 0.25em;box-sizing: border-box;margin-bottom: 0.5em;}#sk-container-id-13 div.sk-estimator:hover {background-color: #d4ebff;}#sk-container-id-13 div.sk-parallel-item::after {content: \"\";width: 100%;border-bottom: 1px solid gray;flex-grow: 1;}#sk-container-id-13 div.sk-label:hover label.sk-toggleable__label {background-color: #d4ebff;}#sk-container-id-13 div.sk-serial::before {content: \"\";position: absolute;border-left: 1px solid gray;box-sizing: border-box;top: 0;bottom: 0;left: 50%;z-index: 0;}#sk-container-id-13 div.sk-serial {display: flex;flex-direction: column;align-items: center;background-color: white;padding-right: 0.2em;padding-left: 0.2em;position: relative;}#sk-container-id-13 div.sk-item {position: relative;z-index: 1;}#sk-container-id-13 div.sk-parallel {display: flex;align-items: stretch;justify-content: center;background-color: white;position: relative;}#sk-container-id-13 div.sk-item::before, #sk-container-id-13 div.sk-parallel-item::before {content: \"\";position: absolute;border-left: 1px solid gray;box-sizing: border-box;top: 0;bottom: 0;left: 50%;z-index: -1;}#sk-container-id-13 div.sk-parallel-item {display: flex;flex-direction: column;z-index: 1;position: relative;background-color: white;}#sk-container-id-13 div.sk-parallel-item:first-child::after {align-self: flex-end;width: 50%;}#sk-container-id-13 div.sk-parallel-item:last-child::after {align-self: flex-start;width: 50%;}#sk-container-id-13 div.sk-parallel-item:only-child::after {width: 0;}#sk-container-id-13 div.sk-dashed-wrapped {border: 1px dashed gray;margin: 0 0.4em 0.5em 0.4em;box-sizing: border-box;padding-bottom: 0.4em;background-color: white;}#sk-container-id-13 div.sk-label label {font-family: monospace;font-weight: bold;display: inline-block;line-height: 1.2em;}#sk-container-id-13 div.sk-label-container {text-align: center;}#sk-container-id-13 div.sk-container {/* jupyter's `normalize.less` sets `[hidden] { display: none; }` but bootstrap.min.css set `[hidden] { display: none !important; }` so we also need the `!important` here to be able to override the default hidden behavior on the sphinx rendered scikit-learn.org. See: https://github.com/scikit-learn/scikit-learn/issues/21755 */display: inline-block !important;position: relative;}#sk-container-id-13 div.sk-text-repr-fallback {display: none;}</style><div id=\"sk-container-id-13\" class=\"sk-top-container\"><div class=\"sk-text-repr-fallback\"><pre>XGBRegressor(base_score=None, booster=None, callbacks=None,\n",
       "             colsample_bylevel=None, colsample_bynode=None,\n",
       "             colsample_bytree=None, early_stopping_rounds=None,\n",
       "             enable_categorical=False, eval_metric=None, feature_types=None,\n",
       "             gamma=None, gpu_id=None, grow_policy=None, importance_type=None,\n",
       "             interaction_constraints=None, learning_rate=0.3, max_bin=None,\n",
       "             max_cat_threshold=None, max_cat_to_onehot=None,\n",
       "             max_delta_step=None, max_depth=30, max_leaves=None,\n",
       "             min_child_weight=None, missing=nan, monotone_constraints=None,\n",
       "             n_estimators=8, n_jobs=None, num_parallel_tree=None,\n",
       "             predictor=None, random_state=None, ...)</pre><b>In a Jupyter environment, please rerun this cell to show the HTML representation or trust the notebook. <br />On GitHub, the HTML representation is unable to render, please try loading this page with nbviewer.org.</b></div><div class=\"sk-container\" hidden><div class=\"sk-item\"><div class=\"sk-estimator sk-toggleable\"><input class=\"sk-toggleable__control sk-hidden--visually\" id=\"sk-estimator-id-25\" type=\"checkbox\" checked><label for=\"sk-estimator-id-25\" class=\"sk-toggleable__label sk-toggleable__label-arrow\">XGBRegressor</label><div class=\"sk-toggleable__content\"><pre>XGBRegressor(base_score=None, booster=None, callbacks=None,\n",
       "             colsample_bylevel=None, colsample_bynode=None,\n",
       "             colsample_bytree=None, early_stopping_rounds=None,\n",
       "             enable_categorical=False, eval_metric=None, feature_types=None,\n",
       "             gamma=None, gpu_id=None, grow_policy=None, importance_type=None,\n",
       "             interaction_constraints=None, learning_rate=0.3, max_bin=None,\n",
       "             max_cat_threshold=None, max_cat_to_onehot=None,\n",
       "             max_delta_step=None, max_depth=30, max_leaves=None,\n",
       "             min_child_weight=None, missing=nan, monotone_constraints=None,\n",
       "             n_estimators=8, n_jobs=None, num_parallel_tree=None,\n",
       "             predictor=None, random_state=None, ...)</pre></div></div></div></div></div>"
      ],
      "text/plain": [
       "XGBRegressor(base_score=None, booster=None, callbacks=None,\n",
       "             colsample_bylevel=None, colsample_bynode=None,\n",
       "             colsample_bytree=None, early_stopping_rounds=None,\n",
       "             enable_categorical=False, eval_metric=None, feature_types=None,\n",
       "             gamma=None, gpu_id=None, grow_policy=None, importance_type=None,\n",
       "             interaction_constraints=None, learning_rate=0.3, max_bin=None,\n",
       "             max_cat_threshold=None, max_cat_to_onehot=None,\n",
       "             max_delta_step=None, max_depth=30, max_leaves=None,\n",
       "             min_child_weight=None, missing=nan, monotone_constraints=None,\n",
       "             n_estimators=8, n_jobs=None, num_parallel_tree=None,\n",
       "             predictor=None, random_state=None, ...)"
      ]
     },
     "execution_count": 145,
     "metadata": {},
     "output_type": "execute_result"
    }
   ],
   "source": [
    "bst_grid2.best_estimator_"
   ]
  },
  {
   "cell_type": "code",
   "execution_count": 141,
   "metadata": {},
   "outputs": [],
   "source": [
    "bst_train_pred=bst_grid.predict(X_train)\n",
    "bst_test_pred=bst_grid.predict(X_test)"
   ]
  },
  {
   "cell_type": "code",
   "execution_count": 142,
   "metadata": {},
   "outputs": [
    {
     "name": "stdout",
     "output_type": "stream",
     "text": [
      "MSE train XGBoost= 123299.58836865942\n",
      "MSE test XGBoost= 122283.60879682213\n"
     ]
    }
   ],
   "source": [
    "print('MSE train XGBoost=' , mean_squared_error(y_train,bst_train_pred, squared=False))\n",
    "print('MSE test XGBoost=' , mean_squared_error(y_test,bst_test_pred, squared=False))"
   ]
  },
  {
   "cell_type": "code",
   "execution_count": 146,
   "metadata": {},
   "outputs": [
    {
     "name": "stdout",
     "output_type": "stream",
     "text": [
      "MSE2 train XGBoost= 17626.759418326026\n",
      "MSE2 test XGBoost= 39641.94525186995\n"
     ]
    }
   ],
   "source": [
    "bst_train_pred2=bst_grid2.predict(X_train)\n",
    "bst_test_pred2=bst_grid2.predict(X_test)\n",
    "print('MSE2 train XGBoost=' , mean_squared_error(y_train,bst_train_pred2, squared=False))\n",
    "print('MSE2 test XGBoost=' , mean_squared_error(y_test,bst_test_pred2, squared=False))"
   ]
  },
  {
   "cell_type": "code",
   "execution_count": null,
   "metadata": {},
   "outputs": [],
   "source": []
  }
 ],
 "metadata": {
  "kernelspec": {
   "display_name": "KaggleTitanic",
   "language": "python",
   "name": "python3"
  },
  "language_info": {
   "codemirror_mode": {
    "name": "ipython",
    "version": 3
   },
   "file_extension": ".py",
   "mimetype": "text/x-python",
   "name": "python",
   "nbconvert_exporter": "python",
   "pygments_lexer": "ipython3",
   "version": "3.10.6"
  },
  "orig_nbformat": 4,
  "vscode": {
   "interpreter": {
    "hash": "83474ebaa8787261e8f0a20780c8c281efc65626e2789404694a95483fbffde8"
   }
  }
 },
 "nbformat": 4,
 "nbformat_minor": 2
}
