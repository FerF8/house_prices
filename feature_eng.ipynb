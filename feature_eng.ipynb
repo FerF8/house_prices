{
 "cells": [
  {
   "cell_type": "code",
   "execution_count": 5,
   "metadata": {},
   "outputs": [],
   "source": [
    "import pandas as pd\n",
    "import numpy as np"
   ]
  },
  {
   "cell_type": "code",
   "execution_count": 6,
   "metadata": {},
   "outputs": [],
   "source": [
    "from sklearn.compose import ColumnTransformer\n",
    "from sklearn.impute import SimpleImputer\n",
    "from sklearn.model_selection import RandomizedSearchCV, train_test_split, GridSearchCV\n",
    "from sklearn.pipeline import Pipeline\n",
    "from sklearn.preprocessing import OneHotEncoder, StandardScaler\n",
    "from sklearn.tree import DecisionTreeClassifier\n",
    "from sklearn.linear_model import LinearRegression\n",
    "from sklearn.metrics import mean_absolute_error, mean_squared_error, accuracy_score\n",
    "import matplotlib.pyplot as plt\n",
    "import numpy as np\n",
    "import pandas as pd\n",
    "import scipy\n",
    "import matplotlib.pyplot as plt\n"
   ]
  },
  {
   "cell_type": "code",
   "execution_count": 7,
   "metadata": {},
   "outputs": [],
   "source": [
    "#this function takes all the numerical features and deals with the high and low outliers\n",
    "def moniakq(df):\n",
    "    num_feat = df.select_dtypes(include='number').columns.tolist()\n",
    "    for feat in num_feat:\n",
    "        q1 = df[feat].quantile(0.25)\n",
    "        q3 = df[feat].quantile(0.75)\n",
    "        iqr = q3-q1\n",
    "        outer_fence = 1.5*iqr\n",
    "        outer_fence_le = q1-outer_fence\n",
    "        outer_fence_ue = q3+outer_fence\n",
    "        df.loc[df[feat]>outer_fence_ue,feat]=outer_fence_ue\n",
    "        df.loc[df[feat]<outer_fence_le,feat]=outer_fence_le\n",
    "    return df\n",
    "\n",
    "    "
   ]
  },
  {
   "cell_type": "code",
   "execution_count": 8,
   "metadata": {},
   "outputs": [],
   "source": [
    "train_df=pd.read_csv('train.csv')\n",
    "test_df=pd.read_csv('test.csv')"
   ]
  },
  {
   "attachments": {},
   "cell_type": "markdown",
   "metadata": {},
   "source": [
    "#### Outliers function testing"
   ]
  },
  {
   "cell_type": "code",
   "execution_count": 9,
   "metadata": {},
   "outputs": [],
   "source": [
    "df1=train_df[['LotFrontage','LotArea','MSZoning']]"
   ]
  },
  {
   "cell_type": "code",
   "execution_count": 10,
   "metadata": {},
   "outputs": [
    {
     "data": {
      "text/html": [
       "<div>\n",
       "<style scoped>\n",
       "    .dataframe tbody tr th:only-of-type {\n",
       "        vertical-align: middle;\n",
       "    }\n",
       "\n",
       "    .dataframe tbody tr th {\n",
       "        vertical-align: top;\n",
       "    }\n",
       "\n",
       "    .dataframe thead th {\n",
       "        text-align: right;\n",
       "    }\n",
       "</style>\n",
       "<table border=\"1\" class=\"dataframe\">\n",
       "  <thead>\n",
       "    <tr style=\"text-align: right;\">\n",
       "      <th></th>\n",
       "      <th>LotFrontage</th>\n",
       "      <th>LotArea</th>\n",
       "      <th>MSZoning</th>\n",
       "    </tr>\n",
       "  </thead>\n",
       "  <tbody>\n",
       "    <tr>\n",
       "      <th>0</th>\n",
       "      <td>65.0</td>\n",
       "      <td>8450</td>\n",
       "      <td>RL</td>\n",
       "    </tr>\n",
       "    <tr>\n",
       "      <th>1</th>\n",
       "      <td>80.0</td>\n",
       "      <td>9600</td>\n",
       "      <td>RL</td>\n",
       "    </tr>\n",
       "    <tr>\n",
       "      <th>2</th>\n",
       "      <td>68.0</td>\n",
       "      <td>11250</td>\n",
       "      <td>RL</td>\n",
       "    </tr>\n",
       "    <tr>\n",
       "      <th>3</th>\n",
       "      <td>60.0</td>\n",
       "      <td>9550</td>\n",
       "      <td>RL</td>\n",
       "    </tr>\n",
       "    <tr>\n",
       "      <th>4</th>\n",
       "      <td>84.0</td>\n",
       "      <td>14260</td>\n",
       "      <td>RL</td>\n",
       "    </tr>\n",
       "  </tbody>\n",
       "</table>\n",
       "</div>"
      ],
      "text/plain": [
       "   LotFrontage  LotArea MSZoning\n",
       "0         65.0     8450       RL\n",
       "1         80.0     9600       RL\n",
       "2         68.0    11250       RL\n",
       "3         60.0     9550       RL\n",
       "4         84.0    14260       RL"
      ]
     },
     "execution_count": 10,
     "metadata": {},
     "output_type": "execute_result"
    }
   ],
   "source": [
    "df1.head()"
   ]
  },
  {
   "cell_type": "code",
   "execution_count": 11,
   "metadata": {},
   "outputs": [],
   "source": [
    "df2=moniakq(df1)"
   ]
  },
  {
   "cell_type": "code",
   "execution_count": 12,
   "metadata": {},
   "outputs": [
    {
     "data": {
      "text/html": [
       "<div>\n",
       "<style scoped>\n",
       "    .dataframe tbody tr th:only-of-type {\n",
       "        vertical-align: middle;\n",
       "    }\n",
       "\n",
       "    .dataframe tbody tr th {\n",
       "        vertical-align: top;\n",
       "    }\n",
       "\n",
       "    .dataframe thead th {\n",
       "        text-align: right;\n",
       "    }\n",
       "</style>\n",
       "<table border=\"1\" class=\"dataframe\">\n",
       "  <thead>\n",
       "    <tr style=\"text-align: right;\">\n",
       "      <th></th>\n",
       "      <th>LotFrontage</th>\n",
       "      <th>LotArea</th>\n",
       "      <th>MSZoning</th>\n",
       "    </tr>\n",
       "  </thead>\n",
       "  <tbody>\n",
       "    <tr>\n",
       "      <th>0</th>\n",
       "      <td>65.0</td>\n",
       "      <td>8450.0</td>\n",
       "      <td>RL</td>\n",
       "    </tr>\n",
       "    <tr>\n",
       "      <th>1</th>\n",
       "      <td>80.0</td>\n",
       "      <td>9600.0</td>\n",
       "      <td>RL</td>\n",
       "    </tr>\n",
       "    <tr>\n",
       "      <th>2</th>\n",
       "      <td>68.0</td>\n",
       "      <td>11250.0</td>\n",
       "      <td>RL</td>\n",
       "    </tr>\n",
       "    <tr>\n",
       "      <th>3</th>\n",
       "      <td>60.0</td>\n",
       "      <td>9550.0</td>\n",
       "      <td>RL</td>\n",
       "    </tr>\n",
       "    <tr>\n",
       "      <th>4</th>\n",
       "      <td>84.0</td>\n",
       "      <td>14260.0</td>\n",
       "      <td>RL</td>\n",
       "    </tr>\n",
       "    <tr>\n",
       "      <th>...</th>\n",
       "      <td>...</td>\n",
       "      <td>...</td>\n",
       "      <td>...</td>\n",
       "    </tr>\n",
       "    <tr>\n",
       "      <th>1455</th>\n",
       "      <td>62.0</td>\n",
       "      <td>7917.0</td>\n",
       "      <td>RL</td>\n",
       "    </tr>\n",
       "    <tr>\n",
       "      <th>1456</th>\n",
       "      <td>85.0</td>\n",
       "      <td>13175.0</td>\n",
       "      <td>RL</td>\n",
       "    </tr>\n",
       "    <tr>\n",
       "      <th>1457</th>\n",
       "      <td>66.0</td>\n",
       "      <td>9042.0</td>\n",
       "      <td>RL</td>\n",
       "    </tr>\n",
       "    <tr>\n",
       "      <th>1458</th>\n",
       "      <td>68.0</td>\n",
       "      <td>9717.0</td>\n",
       "      <td>RL</td>\n",
       "    </tr>\n",
       "    <tr>\n",
       "      <th>1459</th>\n",
       "      <td>75.0</td>\n",
       "      <td>9937.0</td>\n",
       "      <td>RL</td>\n",
       "    </tr>\n",
       "  </tbody>\n",
       "</table>\n",
       "<p>1460 rows × 3 columns</p>\n",
       "</div>"
      ],
      "text/plain": [
       "      LotFrontage  LotArea MSZoning\n",
       "0            65.0   8450.0       RL\n",
       "1            80.0   9600.0       RL\n",
       "2            68.0  11250.0       RL\n",
       "3            60.0   9550.0       RL\n",
       "4            84.0  14260.0       RL\n",
       "...           ...      ...      ...\n",
       "1455         62.0   7917.0       RL\n",
       "1456         85.0  13175.0       RL\n",
       "1457         66.0   9042.0       RL\n",
       "1458         68.0   9717.0       RL\n",
       "1459         75.0   9937.0       RL\n",
       "\n",
       "[1460 rows x 3 columns]"
      ]
     },
     "execution_count": 12,
     "metadata": {},
     "output_type": "execute_result"
    }
   ],
   "source": [
    "df2"
   ]
  },
  {
   "cell_type": "code",
   "execution_count": 13,
   "metadata": {},
   "outputs": [
    {
     "data": {
      "text/plain": [
       "<AxesSubplot: >"
      ]
     },
     "execution_count": 13,
     "metadata": {},
     "output_type": "execute_result"
    },
    {
     "data": {
      "image/png": "[encoded data removed]",
      "text/plain": [
       "<Figure size 640x480 with 1 Axes>"
      ]
     },
     "metadata": {},
     "output_type": "display_data"
    }
   ],
   "source": [
    "train_df.boxplot(column=['LotArea'])"
   ]
  },
  {
   "cell_type": "code",
   "execution_count": 14,
   "metadata": {},
   "outputs": [
    {
     "data": {
      "text/plain": [
       "<AxesSubplot: >"
      ]
     },
     "execution_count": 14,
     "metadata": {},
     "output_type": "execute_result"
    }
   ],
   "source": [
    "df2.boxplot(column=['LotArea'])"
   ]
  },
  {
   "attachments": {},
   "cell_type": "markdown",
   "metadata": {},
   "source": [
    "#### Feature engineering"
   ]
  },
  {
   "cell_type": "code",
   "execution_count": 15,
   "metadata": {},
   "outputs": [
    {
     "data": {
      "text/plain": [
       "(1460, 81)"
      ]
     },
     "execution_count": 15,
     "metadata": {},
     "output_type": "execute_result"
    }
   ],
   "source": [
    "train_df.shape"
   ]
  },
  {
   "cell_type": "code",
   "execution_count": 16,
   "metadata": {},
   "outputs": [],
   "source": [
    "X=train_df.drop(columns=['SalePrice'])\n",
    "y=train_df['SalePrice']"
   ]
  },
  {
   "cell_type": "code",
   "execution_count": 17,
   "metadata": {},
   "outputs": [
    {
     "data": {
      "text/html": [
       "<div>\n",
       "<style scoped>\n",
       "    .dataframe tbody tr th:only-of-type {\n",
       "        vertical-align: middle;\n",
       "    }\n",
       "\n",
       "    .dataframe tbody tr th {\n",
       "        vertical-align: top;\n",
       "    }\n",
       "\n",
       "    .dataframe thead th {\n",
       "        text-align: right;\n",
       "    }\n",
       "</style>\n",
       "<table border=\"1\" class=\"dataframe\">\n",
       "  <thead>\n",
       "    <tr style=\"text-align: right;\">\n",
       "      <th></th>\n",
       "      <th>Id</th>\n",
       "      <th>MSSubClass</th>\n",
       "      <th>MSZoning</th>\n",
       "      <th>LotFrontage</th>\n",
       "      <th>LotArea</th>\n",
       "      <th>Street</th>\n",
       "      <th>Alley</th>\n",
       "      <th>LotShape</th>\n",
       "      <th>LandContour</th>\n",
       "      <th>Utilities</th>\n",
       "      <th>...</th>\n",
       "      <th>ScreenPorch</th>\n",
       "      <th>PoolArea</th>\n",
       "      <th>PoolQC</th>\n",
       "      <th>Fence</th>\n",
       "      <th>MiscFeature</th>\n",
       "      <th>MiscVal</th>\n",
       "      <th>MoSold</th>\n",
       "      <th>YrSold</th>\n",
       "      <th>SaleType</th>\n",
       "      <th>SaleCondition</th>\n",
       "    </tr>\n",
       "  </thead>\n",
       "  <tbody>\n",
       "    <tr>\n",
       "      <th>0</th>\n",
       "      <td>1</td>\n",
       "      <td>60</td>\n",
       "      <td>RL</td>\n",
       "      <td>65.0</td>\n",
       "      <td>8450</td>\n",
       "      <td>Pave</td>\n",
       "      <td>NaN</td>\n",
       "      <td>Reg</td>\n",
       "      <td>Lvl</td>\n",
       "      <td>AllPub</td>\n",
       "      <td>...</td>\n",
       "      <td>0</td>\n",
       "      <td>0</td>\n",
       "      <td>NaN</td>\n",
       "      <td>NaN</td>\n",
       "      <td>NaN</td>\n",
       "      <td>0</td>\n",
       "      <td>2</td>\n",
       "      <td>2008</td>\n",
       "      <td>WD</td>\n",
       "      <td>Normal</td>\n",
       "    </tr>\n",
       "    <tr>\n",
       "      <th>1</th>\n",
       "      <td>2</td>\n",
       "      <td>20</td>\n",
       "      <td>RL</td>\n",
       "      <td>80.0</td>\n",
       "      <td>9600</td>\n",
       "      <td>Pave</td>\n",
       "      <td>NaN</td>\n",
       "      <td>Reg</td>\n",
       "      <td>Lvl</td>\n",
       "      <td>AllPub</td>\n",
       "      <td>...</td>\n",
       "      <td>0</td>\n",
       "      <td>0</td>\n",
       "      <td>NaN</td>\n",
       "      <td>NaN</td>\n",
       "      <td>NaN</td>\n",
       "      <td>0</td>\n",
       "      <td>5</td>\n",
       "      <td>2007</td>\n",
       "      <td>WD</td>\n",
       "      <td>Normal</td>\n",
       "    </tr>\n",
       "    <tr>\n",
       "      <th>2</th>\n",
       "      <td>3</td>\n",
       "      <td>60</td>\n",
       "      <td>RL</td>\n",
       "      <td>68.0</td>\n",
       "      <td>11250</td>\n",
       "      <td>Pave</td>\n",
       "      <td>NaN</td>\n",
       "      <td>IR1</td>\n",
       "      <td>Lvl</td>\n",
       "      <td>AllPub</td>\n",
       "      <td>...</td>\n",
       "      <td>0</td>\n",
       "      <td>0</td>\n",
       "      <td>NaN</td>\n",
       "      <td>NaN</td>\n",
       "      <td>NaN</td>\n",
       "      <td>0</td>\n",
       "      <td>9</td>\n",
       "      <td>2008</td>\n",
       "      <td>WD</td>\n",
       "      <td>Normal</td>\n",
       "    </tr>\n",
       "    <tr>\n",
       "      <th>3</th>\n",
       "      <td>4</td>\n",
       "      <td>70</td>\n",
       "      <td>RL</td>\n",
       "      <td>60.0</td>\n",
       "      <td>9550</td>\n",
       "      <td>Pave</td>\n",
       "      <td>NaN</td>\n",
       "      <td>IR1</td>\n",
       "      <td>Lvl</td>\n",
       "      <td>AllPub</td>\n",
       "      <td>...</td>\n",
       "      <td>0</td>\n",
       "      <td>0</td>\n",
       "      <td>NaN</td>\n",
       "      <td>NaN</td>\n",
       "      <td>NaN</td>\n",
       "      <td>0</td>\n",
       "      <td>2</td>\n",
       "      <td>2006</td>\n",
       "      <td>WD</td>\n",
       "      <td>Abnorml</td>\n",
       "    </tr>\n",
       "    <tr>\n",
       "      <th>4</th>\n",
       "      <td>5</td>\n",
       "      <td>60</td>\n",
       "      <td>RL</td>\n",
       "      <td>84.0</td>\n",
       "      <td>14260</td>\n",
       "      <td>Pave</td>\n",
       "      <td>NaN</td>\n",
       "      <td>IR1</td>\n",
       "      <td>Lvl</td>\n",
       "      <td>AllPub</td>\n",
       "      <td>...</td>\n",
       "      <td>0</td>\n",
       "      <td>0</td>\n",
       "      <td>NaN</td>\n",
       "      <td>NaN</td>\n",
       "      <td>NaN</td>\n",
       "      <td>0</td>\n",
       "      <td>12</td>\n",
       "      <td>2008</td>\n",
       "      <td>WD</td>\n",
       "      <td>Normal</td>\n",
       "    </tr>\n",
       "  </tbody>\n",
       "</table>\n",
       "<p>5 rows × 80 columns</p>\n",
       "</div>"
      ],
      "text/plain": [
       "   Id  MSSubClass MSZoning  LotFrontage  LotArea Street Alley LotShape  \\\n",
       "0   1          60       RL         65.0     8450   Pave   NaN      Reg   \n",
       "1   2          20       RL         80.0     9600   Pave   NaN      Reg   \n",
       "2   3          60       RL         68.0    11250   Pave   NaN      IR1   \n",
       "3   4          70       RL         60.0     9550   Pave   NaN      IR1   \n",
       "4   5          60       RL         84.0    14260   Pave   NaN      IR1   \n",
       "\n",
       "  LandContour Utilities  ... ScreenPorch PoolArea PoolQC Fence MiscFeature  \\\n",
       "0         Lvl    AllPub  ...           0        0    NaN   NaN         NaN   \n",
       "1         Lvl    AllPub  ...           0        0    NaN   NaN         NaN   \n",
       "2         Lvl    AllPub  ...           0        0    NaN   NaN         NaN   \n",
       "3         Lvl    AllPub  ...           0        0    NaN   NaN         NaN   \n",
       "4         Lvl    AllPub  ...           0        0    NaN   NaN         NaN   \n",
       "\n",
       "  MiscVal MoSold  YrSold  SaleType  SaleCondition  \n",
       "0       0      2    2008        WD         Normal  \n",
       "1       0      5    2007        WD         Normal  \n",
       "2       0      9    2008        WD         Normal  \n",
       "3       0      2    2006        WD        Abnorml  \n",
       "4       0     12    2008        WD         Normal  \n",
       "\n",
       "[5 rows x 80 columns]"
      ]
     },
     "execution_count": 17,
     "metadata": {},
     "output_type": "execute_result"
    }
   ],
   "source": [
    "X.head()"
   ]
  },
  {
   "cell_type": "code",
   "execution_count": 18,
   "metadata": {},
   "outputs": [],
   "source": [
    "X=moniakq(X)"
   ]
  },
  {
   "cell_type": "code",
   "execution_count": 19,
   "metadata": {},
   "outputs": [
    {
     "data": {
      "text/plain": [
       "<AxesSubplot: >"
      ]
     },
     "execution_count": 19,
     "metadata": {},
     "output_type": "execute_result"
    }
   ],
   "source": [
    "X.boxplot(column=['YrSold'])"
   ]
  },
  {
   "cell_type": "code",
   "execution_count": 20,
   "metadata": {},
   "outputs": [
    {
     "data": {
      "text/html": [
       "<div>\n",
       "<style scoped>\n",
       "    .dataframe tbody tr th:only-of-type {\n",
       "        vertical-align: middle;\n",
       "    }\n",
       "\n",
       "    .dataframe tbody tr th {\n",
       "        vertical-align: top;\n",
       "    }\n",
       "\n",
       "    .dataframe thead th {\n",
       "        text-align: right;\n",
       "    }\n",
       "</style>\n",
       "<table border=\"1\" class=\"dataframe\">\n",
       "  <thead>\n",
       "    <tr style=\"text-align: right;\">\n",
       "      <th></th>\n",
       "      <th>Id</th>\n",
       "      <th>MSSubClass</th>\n",
       "      <th>MSZoning</th>\n",
       "      <th>LotFrontage</th>\n",
       "      <th>LotArea</th>\n",
       "      <th>Street</th>\n",
       "      <th>Alley</th>\n",
       "      <th>LotShape</th>\n",
       "      <th>LandContour</th>\n",
       "      <th>Utilities</th>\n",
       "      <th>...</th>\n",
       "      <th>ScreenPorch</th>\n",
       "      <th>PoolArea</th>\n",
       "      <th>PoolQC</th>\n",
       "      <th>Fence</th>\n",
       "      <th>MiscFeature</th>\n",
       "      <th>MiscVal</th>\n",
       "      <th>MoSold</th>\n",
       "      <th>YrSold</th>\n",
       "      <th>SaleType</th>\n",
       "      <th>SaleCondition</th>\n",
       "    </tr>\n",
       "  </thead>\n",
       "  <tbody>\n",
       "    <tr>\n",
       "      <th>0</th>\n",
       "      <td>1.0</td>\n",
       "      <td>60</td>\n",
       "      <td>RL</td>\n",
       "      <td>65.0</td>\n",
       "      <td>8450.0</td>\n",
       "      <td>Pave</td>\n",
       "      <td>NaN</td>\n",
       "      <td>Reg</td>\n",
       "      <td>Lvl</td>\n",
       "      <td>AllPub</td>\n",
       "      <td>...</td>\n",
       "      <td>0</td>\n",
       "      <td>0</td>\n",
       "      <td>NaN</td>\n",
       "      <td>NaN</td>\n",
       "      <td>NaN</td>\n",
       "      <td>0</td>\n",
       "      <td>2.0</td>\n",
       "      <td>2008</td>\n",
       "      <td>WD</td>\n",
       "      <td>Normal</td>\n",
       "    </tr>\n",
       "    <tr>\n",
       "      <th>1</th>\n",
       "      <td>2.0</td>\n",
       "      <td>20</td>\n",
       "      <td>RL</td>\n",
       "      <td>80.0</td>\n",
       "      <td>9600.0</td>\n",
       "      <td>Pave</td>\n",
       "      <td>NaN</td>\n",
       "      <td>Reg</td>\n",
       "      <td>Lvl</td>\n",
       "      <td>AllPub</td>\n",
       "      <td>...</td>\n",
       "      <td>0</td>\n",
       "      <td>0</td>\n",
       "      <td>NaN</td>\n",
       "      <td>NaN</td>\n",
       "      <td>NaN</td>\n",
       "      <td>0</td>\n",
       "      <td>5.0</td>\n",
       "      <td>2007</td>\n",
       "      <td>WD</td>\n",
       "      <td>Normal</td>\n",
       "    </tr>\n",
       "    <tr>\n",
       "      <th>2</th>\n",
       "      <td>3.0</td>\n",
       "      <td>60</td>\n",
       "      <td>RL</td>\n",
       "      <td>68.0</td>\n",
       "      <td>11250.0</td>\n",
       "      <td>Pave</td>\n",
       "      <td>NaN</td>\n",
       "      <td>IR1</td>\n",
       "      <td>Lvl</td>\n",
       "      <td>AllPub</td>\n",
       "      <td>...</td>\n",
       "      <td>0</td>\n",
       "      <td>0</td>\n",
       "      <td>NaN</td>\n",
       "      <td>NaN</td>\n",
       "      <td>NaN</td>\n",
       "      <td>0</td>\n",
       "      <td>9.0</td>\n",
       "      <td>2008</td>\n",
       "      <td>WD</td>\n",
       "      <td>Normal</td>\n",
       "    </tr>\n",
       "    <tr>\n",
       "      <th>3</th>\n",
       "      <td>4.0</td>\n",
       "      <td>70</td>\n",
       "      <td>RL</td>\n",
       "      <td>60.0</td>\n",
       "      <td>9550.0</td>\n",
       "      <td>Pave</td>\n",
       "      <td>NaN</td>\n",
       "      <td>IR1</td>\n",
       "      <td>Lvl</td>\n",
       "      <td>AllPub</td>\n",
       "      <td>...</td>\n",
       "      <td>0</td>\n",
       "      <td>0</td>\n",
       "      <td>NaN</td>\n",
       "      <td>NaN</td>\n",
       "      <td>NaN</td>\n",
       "      <td>0</td>\n",
       "      <td>2.0</td>\n",
       "      <td>2006</td>\n",
       "      <td>WD</td>\n",
       "      <td>Abnorml</td>\n",
       "    </tr>\n",
       "    <tr>\n",
       "      <th>4</th>\n",
       "      <td>5.0</td>\n",
       "      <td>60</td>\n",
       "      <td>RL</td>\n",
       "      <td>84.0</td>\n",
       "      <td>14260.0</td>\n",
       "      <td>Pave</td>\n",
       "      <td>NaN</td>\n",
       "      <td>IR1</td>\n",
       "      <td>Lvl</td>\n",
       "      <td>AllPub</td>\n",
       "      <td>...</td>\n",
       "      <td>0</td>\n",
       "      <td>0</td>\n",
       "      <td>NaN</td>\n",
       "      <td>NaN</td>\n",
       "      <td>NaN</td>\n",
       "      <td>0</td>\n",
       "      <td>12.0</td>\n",
       "      <td>2008</td>\n",
       "      <td>WD</td>\n",
       "      <td>Normal</td>\n",
       "    </tr>\n",
       "  </tbody>\n",
       "</table>\n",
       "<p>5 rows × 80 columns</p>\n",
       "</div>"
      ],
      "text/plain": [
       "    Id  MSSubClass MSZoning  LotFrontage  LotArea Street Alley LotShape  \\\n",
       "0  1.0          60       RL         65.0   8450.0   Pave   NaN      Reg   \n",
       "1  2.0          20       RL         80.0   9600.0   Pave   NaN      Reg   \n",
       "2  3.0          60       RL         68.0  11250.0   Pave   NaN      IR1   \n",
       "3  4.0          70       RL         60.0   9550.0   Pave   NaN      IR1   \n",
       "4  5.0          60       RL         84.0  14260.0   Pave   NaN      IR1   \n",
       "\n",
       "  LandContour Utilities  ... ScreenPorch PoolArea PoolQC Fence MiscFeature  \\\n",
       "0         Lvl    AllPub  ...           0        0    NaN   NaN         NaN   \n",
       "1         Lvl    AllPub  ...           0        0    NaN   NaN         NaN   \n",
       "2         Lvl    AllPub  ...           0        0    NaN   NaN         NaN   \n",
       "3         Lvl    AllPub  ...           0        0    NaN   NaN         NaN   \n",
       "4         Lvl    AllPub  ...           0        0    NaN   NaN         NaN   \n",
       "\n",
       "  MiscVal MoSold  YrSold  SaleType  SaleCondition  \n",
       "0       0    2.0    2008        WD         Normal  \n",
       "1       0    5.0    2007        WD         Normal  \n",
       "2       0    9.0    2008        WD         Normal  \n",
       "3       0    2.0    2006        WD        Abnorml  \n",
       "4       0   12.0    2008        WD         Normal  \n",
       "\n",
       "[5 rows x 80 columns]"
      ]
     },
     "execution_count": 20,
     "metadata": {},
     "output_type": "execute_result"
    }
   ],
   "source": [
    "X.head()"
   ]
  },
  {
   "cell_type": "code",
   "execution_count": 21,
   "metadata": {},
   "outputs": [
    {
     "data": {
      "text/plain": [
       "0    208500\n",
       "1    181500\n",
       "2    223500\n",
       "3    140000\n",
       "4    250000\n",
       "Name: SalePrice, dtype: int64"
      ]
     },
     "execution_count": 21,
     "metadata": {},
     "output_type": "execute_result"
    }
   ],
   "source": [
    "y.head()"
   ]
  },
  {
   "cell_type": "code",
   "execution_count": 22,
   "metadata": {},
   "outputs": [],
   "source": [
    "#Looking for NaN\n",
    "isna=X.isna().sum()/X.shape[0]*100"
   ]
  },
  {
   "cell_type": "code",
   "execution_count": 23,
   "metadata": {},
   "outputs": [
    {
     "data": {
      "text/plain": [
       "LotFrontage     17.739726\n",
       "Alley           93.767123\n",
       "MasVnrType       0.547945\n",
       "MasVnrArea       0.547945\n",
       "BsmtQual         2.534247\n",
       "BsmtCond         2.534247\n",
       "BsmtExposure     2.602740\n",
       "BsmtFinType1     2.534247\n",
       "BsmtFinType2     2.602740\n",
       "Electrical       0.068493\n",
       "FireplaceQu     47.260274\n",
       "GarageType       5.547945\n",
       "GarageYrBlt      5.547945\n",
       "GarageFinish     5.547945\n",
       "GarageQual       5.547945\n",
       "GarageCond       5.547945\n",
       "PoolQC          99.520548\n",
       "Fence           80.753425\n",
       "MiscFeature     96.301370\n",
       "dtype: float64"
      ]
     },
     "execution_count": 23,
     "metadata": {},
     "output_type": "execute_result"
    }
   ],
   "source": [
    "isna[isna>0]"
   ]
  },
  {
   "attachments": {},
   "cell_type": "markdown",
   "metadata": {},
   "source": [
    "LotFrontage     17.739726   replace with int 0\n",
    "Alley           93.767123   replace with str no\n",
    "MasVnrType       0.547945   replace with str None\n",
    "MasVnrArea       0.547945   replace with int 0\n",
    "BsmtQual         2.534247   replace with str no\n",
    "BsmtCond         2.534247   replace with str no\n",
    "BsmtExposure     2.602740   replace with str no\n",
    "BsmtFinType1     2.534247   replace with str no\n",
    "BsmtFinType2     2.602740   replace with str no\n",
    "Electrical       0.068493   replace with str FuseF\n",
    "FireplaceQu     47.260274   replace with str no   \n",
    "GarageType       5.547945   replace with str no\n",
    "GarageYrBlt      5.547945   replace with 0\n",
    "GarageFinish     5.547945   replace with str no\n",
    "GarageQual       5.547945   replace with str no\n",
    "GarageCond       5.547945   replace with str no\n",
    "PoolQC          99.520548   drop\n",
    "Fence           80.753425   replace with str no\n",
    "MiscFeature     96.301370   drop"
   ]
  },
  {
   "cell_type": "code",
   "execution_count": 24,
   "metadata": {},
   "outputs": [
    {
     "data": {
      "text/plain": [
       "<AxesSubplot: >"
      ]
     },
     "execution_count": 24,
     "metadata": {},
     "output_type": "execute_result"
    },
    {
     "data": {
      "image/png": "[encoded data removed]",
      "text/plain": [
       "<Figure size 2500x1000 with 2 Axes>"
      ]
     },
     "metadata": {},
     "output_type": "display_data"
    }
   ],
   "source": [
    "import missingno as msno\n",
    "%matplotlib inline\n",
    "msno.matrix(X)"
   ]
  },
  {
   "cell_type": "code",
   "execution_count": 25,
   "metadata": {},
   "outputs": [],
   "source": [
    "#Dropping columns with too many NaNs\n",
    "X = X.drop(columns=['PoolQC','MiscFeature','Id'])"
   ]
  },
  {
   "cell_type": "code",
   "execution_count": 26,
   "metadata": {},
   "outputs": [],
   "source": [
    "\n",
    "#Imputing values manually given the nature of the data\n",
    "X['LotFrontage']=X['LotFrontage'].fillna(0)\n",
    "X['Alley']=X['BsmtQual'].fillna('no')\n",
    "X['MasVnrType']=X['MasVnrType'].fillna('None')\n",
    "X['MasVnrArea']=X['MasVnrArea'].fillna(0)\n",
    "X['BsmtQual']=X['BsmtQual'].fillna('no')\n",
    "X['BsmtCond']=X['BsmtCond'].fillna('no')\n",
    "X['BsmtExposure']=X['BsmtExposure'].fillna('no')\n",
    "X['BsmtFinType1']=X['BsmtFinType1'].fillna('no')\n",
    "X['BsmtFinType2']=X['BsmtFinType2'].fillna('no')\n",
    "X['Electrical']=X['Electrical'].fillna('FuseF')\n",
    "X['FireplaceQu']=X['FireplaceQu'].fillna('no')\n",
    "X['GarageType']=X['GarageType'].fillna('no')\n",
    "X['GarageYrBlt']=X['GarageYrBlt'].fillna(0)\n",
    "X['GarageFinish']=X['GarageFinish'].fillna('no')\n",
    "X['GarageQual']=X['GarageQual'].fillna('no')\n",
    "X['GarageCond']=X['GarageCond'].fillna('no')\n",
    "X['Fence']=X['Fence'].fillna('no')\n"
   ]
  },
  {
   "cell_type": "code",
   "execution_count": 27,
   "metadata": {},
   "outputs": [],
   "source": [
    "isna2=X.isna().sum()/X.shape[0]*100"
   ]
  },
  {
   "cell_type": "code",
   "execution_count": 28,
   "metadata": {},
   "outputs": [
    {
     "data": {
      "text/plain": [
       "Series([], dtype: float64)"
      ]
     },
     "execution_count": 28,
     "metadata": {},
     "output_type": "execute_result"
    }
   ],
   "source": [
    "isna2[isna2>0]"
   ]
  },
  {
   "cell_type": "code",
   "execution_count": 29,
   "metadata": {},
   "outputs": [
    {
     "name": "stdout",
     "output_type": "stream",
     "text": [
      "There are 36 numerical features: ['MSSubClass', 'LotFrontage', 'LotArea', 'OverallQual', 'OverallCond', 'YearBuilt', 'YearRemodAdd', 'MasVnrArea', 'BsmtFinSF1', 'BsmtFinSF2', 'BsmtUnfSF', 'TotalBsmtSF', '1stFlrSF', '2ndFlrSF', 'LowQualFinSF', 'GrLivArea', 'BsmtFullBath', 'BsmtHalfBath', 'FullBath', 'HalfBath', 'BedroomAbvGr', 'KitchenAbvGr', 'TotRmsAbvGrd', 'Fireplaces', 'GarageYrBlt', 'GarageCars', 'GarageArea', 'WoodDeckSF', 'OpenPorchSF', 'EnclosedPorch', '3SsnPorch', 'ScreenPorch', 'PoolArea', 'MiscVal', 'MoSold', 'YrSold']\n",
      "\n",
      "There are 41 string features: ['MSZoning', 'Street', 'Alley', 'LotShape', 'LandContour', 'Utilities', 'LotConfig', 'LandSlope', 'Neighborhood', 'Condition1', 'Condition2', 'BldgType', 'HouseStyle', 'RoofStyle', 'RoofMatl', 'Exterior1st', 'Exterior2nd', 'MasVnrType', 'ExterQual', 'ExterCond', 'Foundation', 'BsmtQual', 'BsmtCond', 'BsmtExposure', 'BsmtFinType1', 'BsmtFinType2', 'Heating', 'HeatingQC', 'CentralAir', 'Electrical', 'KitchenQual', 'Functional', 'FireplaceQu', 'GarageType', 'GarageFinish', 'GarageQual', 'GarageCond', 'PavedDrive', 'Fence', 'SaleType', 'SaleCondition']\n",
      "\n"
     ]
    }
   ],
   "source": [
    "numerical_features = X.select_dtypes(include='number').columns.tolist()\n",
    "print(f\"There are {len(numerical_features)} numerical features: {numerical_features}\\n\")\n",
    "\n",
    "string_features = X.select_dtypes(exclude='number').columns.tolist()\n",
    "print(f\"There are {len(string_features)} string features: {string_features}\\n\")"
   ]
  },
  {
   "attachments": {},
   "cell_type": "markdown",
   "metadata": {},
   "source": [
    "#### Aplying PCA to num features"
   ]
  },
  {
   "cell_type": "code",
   "execution_count": 30,
   "metadata": {},
   "outputs": [],
   "source": [
    "from sklearn.decomposition import PCA"
   ]
  },
  {
   "cell_type": "code",
   "execution_count": 31,
   "metadata": {},
   "outputs": [],
   "source": [
    "pca = PCA(n_components=0.999)\n",
    "X_pca = pca.fit_transform(X[numerical_features]) "
   ]
  },
  {
   "cell_type": "code",
   "execution_count": 32,
   "metadata": {},
   "outputs": [
    {
     "data": {
      "text/plain": [
       "array([  39.10624431,  195.18501364,  717.81621495, -235.37799785,\n",
       "         -7.55535907,  -79.8853436 ,  -78.67629664,  -69.08824539,\n",
       "        186.17259928,  -71.363098  ])"
      ]
     },
     "execution_count": 32,
     "metadata": {},
     "output_type": "execute_result"
    }
   ],
   "source": [
    "X_pca[1]"
   ]
  },
  {
   "cell_type": "code",
   "execution_count": 33,
   "metadata": {},
   "outputs": [],
   "source": [
    "X_pca=pd.DataFrame(X_pca,columns=['a','b','c','d','e','f','g','h','i','j'])"
   ]
  },
  {
   "cell_type": "code",
   "execution_count": 34,
   "metadata": {},
   "outputs": [
    {
     "data": {
      "text/html": [
       "<div>\n",
       "<style scoped>\n",
       "    .dataframe tbody tr th:only-of-type {\n",
       "        vertical-align: middle;\n",
       "    }\n",
       "\n",
       "    .dataframe tbody tr th {\n",
       "        vertical-align: top;\n",
       "    }\n",
       "\n",
       "    .dataframe thead th {\n",
       "        text-align: right;\n",
       "    }\n",
       "</style>\n",
       "<table border=\"1\" class=\"dataframe\">\n",
       "  <thead>\n",
       "    <tr style=\"text-align: right;\">\n",
       "      <th></th>\n",
       "      <th>a</th>\n",
       "      <th>b</th>\n",
       "      <th>c</th>\n",
       "      <th>d</th>\n",
       "      <th>e</th>\n",
       "      <th>f</th>\n",
       "      <th>g</th>\n",
       "      <th>h</th>\n",
       "      <th>i</th>\n",
       "      <th>j</th>\n",
       "    </tr>\n",
       "  </thead>\n",
       "  <tbody>\n",
       "    <tr>\n",
       "      <th>0</th>\n",
       "      <td>1187.209888</td>\n",
       "      <td>-128.742162</td>\n",
       "      <td>-257.068186</td>\n",
       "      <td>-782.589475</td>\n",
       "      <td>-43.312734</td>\n",
       "      <td>-143.185755</td>\n",
       "      <td>73.374403</td>\n",
       "      <td>47.227103</td>\n",
       "      <td>-111.252725</td>\n",
       "      <td>27.044289</td>\n",
       "    </tr>\n",
       "    <tr>\n",
       "      <th>1</th>\n",
       "      <td>39.106244</td>\n",
       "      <td>195.185014</td>\n",
       "      <td>717.816215</td>\n",
       "      <td>-235.377998</td>\n",
       "      <td>-7.555359</td>\n",
       "      <td>-79.885344</td>\n",
       "      <td>-78.676297</td>\n",
       "      <td>-69.088245</td>\n",
       "      <td>186.172599</td>\n",
       "      <td>-71.363098</td>\n",
       "    </tr>\n",
       "    <tr>\n",
       "      <th>2</th>\n",
       "      <td>-1608.177199</td>\n",
       "      <td>-85.027661</td>\n",
       "      <td>-466.206621</td>\n",
       "      <td>-434.486802</td>\n",
       "      <td>-105.078000</td>\n",
       "      <td>-162.283032</td>\n",
       "      <td>95.653144</td>\n",
       "      <td>6.426838</td>\n",
       "      <td>-113.612671</td>\n",
       "      <td>22.836666</td>\n",
       "    </tr>\n",
       "    <tr>\n",
       "      <th>3</th>\n",
       "      <td>100.855812</td>\n",
       "      <td>-127.292575</td>\n",
       "      <td>-556.500150</td>\n",
       "      <td>-218.066293</td>\n",
       "      <td>-189.640653</td>\n",
       "      <td>35.645935</td>\n",
       "      <td>94.066474</td>\n",
       "      <td>-144.346392</td>\n",
       "      <td>-99.867173</td>\n",
       "      <td>-10.721709</td>\n",
       "    </tr>\n",
       "    <tr>\n",
       "      <th>4</th>\n",
       "      <td>-4663.337378</td>\n",
       "      <td>-386.628006</td>\n",
       "      <td>-466.220183</td>\n",
       "      <td>-560.250728</td>\n",
       "      <td>40.013215</td>\n",
       "      <td>-175.800704</td>\n",
       "      <td>287.849858</td>\n",
       "      <td>70.989246</td>\n",
       "      <td>24.430002</td>\n",
       "      <td>8.688235</td>\n",
       "    </tr>\n",
       "    <tr>\n",
       "      <th>...</th>\n",
       "      <td>...</td>\n",
       "      <td>...</td>\n",
       "      <td>...</td>\n",
       "      <td>...</td>\n",
       "      <td>...</td>\n",
       "      <td>...</td>\n",
       "      <td>...</td>\n",
       "      <td>...</td>\n",
       "      <td>...</td>\n",
       "      <td>...</td>\n",
       "    </tr>\n",
       "    <tr>\n",
       "      <th>1455</th>\n",
       "      <td>1728.344573</td>\n",
       "      <td>-396.968161</td>\n",
       "      <td>-559.840890</td>\n",
       "      <td>220.987915</td>\n",
       "      <td>-185.605243</td>\n",
       "      <td>-95.937296</td>\n",
       "      <td>-66.027734</td>\n",
       "      <td>-70.374548</td>\n",
       "      <td>-68.348283</td>\n",
       "      <td>5.581670</td>\n",
       "    </tr>\n",
       "    <tr>\n",
       "      <th>1456</th>\n",
       "      <td>-3617.134387</td>\n",
       "      <td>-489.407054</td>\n",
       "      <td>698.628512</td>\n",
       "      <td>66.680033</td>\n",
       "      <td>255.513355</td>\n",
       "      <td>475.153793</td>\n",
       "      <td>-138.124551</td>\n",
       "      <td>33.590524</td>\n",
       "      <td>209.839997</td>\n",
       "      <td>-46.233955</td>\n",
       "    </tr>\n",
       "    <tr>\n",
       "      <th>1457</th>\n",
       "      <td>540.171215</td>\n",
       "      <td>-942.847315</td>\n",
       "      <td>-709.530519</td>\n",
       "      <td>-216.903843</td>\n",
       "      <td>209.066009</td>\n",
       "      <td>-41.179714</td>\n",
       "      <td>-370.082260</td>\n",
       "      <td>-2.689490</td>\n",
       "      <td>-88.225122</td>\n",
       "      <td>4.266651</td>\n",
       "    </tr>\n",
       "    <tr>\n",
       "      <th>1458</th>\n",
       "      <td>-17.810300</td>\n",
       "      <td>635.898749</td>\n",
       "      <td>130.140809</td>\n",
       "      <td>51.464368</td>\n",
       "      <td>-237.764897</td>\n",
       "      <td>234.590132</td>\n",
       "      <td>-148.868618</td>\n",
       "      <td>28.683945</td>\n",
       "      <td>410.043256</td>\n",
       "      <td>448.922249</td>\n",
       "    </tr>\n",
       "    <tr>\n",
       "      <th>1459</th>\n",
       "      <td>-286.861806</td>\n",
       "      <td>325.484763</td>\n",
       "      <td>629.171570</td>\n",
       "      <td>-246.085128</td>\n",
       "      <td>-1.978135</td>\n",
       "      <td>10.753595</td>\n",
       "      <td>-209.057082</td>\n",
       "      <td>9.998237</td>\n",
       "      <td>349.886089</td>\n",
       "      <td>52.927495</td>\n",
       "    </tr>\n",
       "  </tbody>\n",
       "</table>\n",
       "<p>1460 rows × 10 columns</p>\n",
       "</div>"
      ],
      "text/plain": [
       "                a           b           c           d           e           f  \\\n",
       "0     1187.209888 -128.742162 -257.068186 -782.589475  -43.312734 -143.185755   \n",
       "1       39.106244  195.185014  717.816215 -235.377998   -7.555359  -79.885344   \n",
       "2    -1608.177199  -85.027661 -466.206621 -434.486802 -105.078000 -162.283032   \n",
       "3      100.855812 -127.292575 -556.500150 -218.066293 -189.640653   35.645935   \n",
       "4    -4663.337378 -386.628006 -466.220183 -560.250728   40.013215 -175.800704   \n",
       "...           ...         ...         ...         ...         ...         ...   \n",
       "1455  1728.344573 -396.968161 -559.840890  220.987915 -185.605243  -95.937296   \n",
       "1456 -3617.134387 -489.407054  698.628512   66.680033  255.513355  475.153793   \n",
       "1457   540.171215 -942.847315 -709.530519 -216.903843  209.066009  -41.179714   \n",
       "1458   -17.810300  635.898749  130.140809   51.464368 -237.764897  234.590132   \n",
       "1459  -286.861806  325.484763  629.171570 -246.085128   -1.978135   10.753595   \n",
       "\n",
       "               g           h           i           j  \n",
       "0      73.374403   47.227103 -111.252725   27.044289  \n",
       "1     -78.676297  -69.088245  186.172599  -71.363098  \n",
       "2      95.653144    6.426838 -113.612671   22.836666  \n",
       "3      94.066474 -144.346392  -99.867173  -10.721709  \n",
       "4     287.849858   70.989246   24.430002    8.688235  \n",
       "...          ...         ...         ...         ...  \n",
       "1455  -66.027734  -70.374548  -68.348283    5.581670  \n",
       "1456 -138.124551   33.590524  209.839997  -46.233955  \n",
       "1457 -370.082260   -2.689490  -88.225122    4.266651  \n",
       "1458 -148.868618   28.683945  410.043256  448.922249  \n",
       "1459 -209.057082    9.998237  349.886089   52.927495  \n",
       "\n",
       "[1460 rows x 10 columns]"
      ]
     },
     "execution_count": 34,
     "metadata": {},
     "output_type": "execute_result"
    }
   ],
   "source": [
    "X_pca"
   ]
  },
  {
   "cell_type": "code",
   "execution_count": 35,
   "metadata": {},
   "outputs": [],
   "source": [
    "X_str=X[string_features]"
   ]
  },
  {
   "cell_type": "code",
   "execution_count": 36,
   "metadata": {},
   "outputs": [],
   "source": [
    "X_pca=X_pca.join(X_str)"
   ]
  },
  {
   "cell_type": "code",
   "execution_count": 37,
   "metadata": {},
   "outputs": [
    {
     "data": {
      "text/html": [
       "<div>\n",
       "<style scoped>\n",
       "    .dataframe tbody tr th:only-of-type {\n",
       "        vertical-align: middle;\n",
       "    }\n",
       "\n",
       "    .dataframe tbody tr th {\n",
       "        vertical-align: top;\n",
       "    }\n",
       "\n",
       "    .dataframe thead th {\n",
       "        text-align: right;\n",
       "    }\n",
       "</style>\n",
       "<table border=\"1\" class=\"dataframe\">\n",
       "  <thead>\n",
       "    <tr style=\"text-align: right;\">\n",
       "      <th></th>\n",
       "      <th>a</th>\n",
       "      <th>b</th>\n",
       "      <th>c</th>\n",
       "      <th>d</th>\n",
       "      <th>e</th>\n",
       "      <th>f</th>\n",
       "      <th>g</th>\n",
       "      <th>h</th>\n",
       "      <th>i</th>\n",
       "      <th>j</th>\n",
       "      <th>...</th>\n",
       "      <th>Functional</th>\n",
       "      <th>FireplaceQu</th>\n",
       "      <th>GarageType</th>\n",
       "      <th>GarageFinish</th>\n",
       "      <th>GarageQual</th>\n",
       "      <th>GarageCond</th>\n",
       "      <th>PavedDrive</th>\n",
       "      <th>Fence</th>\n",
       "      <th>SaleType</th>\n",
       "      <th>SaleCondition</th>\n",
       "    </tr>\n",
       "  </thead>\n",
       "  <tbody>\n",
       "    <tr>\n",
       "      <th>0</th>\n",
       "      <td>1187.209888</td>\n",
       "      <td>-128.742162</td>\n",
       "      <td>-257.068186</td>\n",
       "      <td>-782.589475</td>\n",
       "      <td>-43.312734</td>\n",
       "      <td>-143.185755</td>\n",
       "      <td>73.374403</td>\n",
       "      <td>47.227103</td>\n",
       "      <td>-111.252725</td>\n",
       "      <td>27.044289</td>\n",
       "      <td>...</td>\n",
       "      <td>Typ</td>\n",
       "      <td>no</td>\n",
       "      <td>Attchd</td>\n",
       "      <td>RFn</td>\n",
       "      <td>TA</td>\n",
       "      <td>TA</td>\n",
       "      <td>Y</td>\n",
       "      <td>no</td>\n",
       "      <td>WD</td>\n",
       "      <td>Normal</td>\n",
       "    </tr>\n",
       "    <tr>\n",
       "      <th>1</th>\n",
       "      <td>39.106244</td>\n",
       "      <td>195.185014</td>\n",
       "      <td>717.816215</td>\n",
       "      <td>-235.377998</td>\n",
       "      <td>-7.555359</td>\n",
       "      <td>-79.885344</td>\n",
       "      <td>-78.676297</td>\n",
       "      <td>-69.088245</td>\n",
       "      <td>186.172599</td>\n",
       "      <td>-71.363098</td>\n",
       "      <td>...</td>\n",
       "      <td>Typ</td>\n",
       "      <td>TA</td>\n",
       "      <td>Attchd</td>\n",
       "      <td>RFn</td>\n",
       "      <td>TA</td>\n",
       "      <td>TA</td>\n",
       "      <td>Y</td>\n",
       "      <td>no</td>\n",
       "      <td>WD</td>\n",
       "      <td>Normal</td>\n",
       "    </tr>\n",
       "    <tr>\n",
       "      <th>2</th>\n",
       "      <td>-1608.177199</td>\n",
       "      <td>-85.027661</td>\n",
       "      <td>-466.206621</td>\n",
       "      <td>-434.486802</td>\n",
       "      <td>-105.078000</td>\n",
       "      <td>-162.283032</td>\n",
       "      <td>95.653144</td>\n",
       "      <td>6.426838</td>\n",
       "      <td>-113.612671</td>\n",
       "      <td>22.836666</td>\n",
       "      <td>...</td>\n",
       "      <td>Typ</td>\n",
       "      <td>TA</td>\n",
       "      <td>Attchd</td>\n",
       "      <td>RFn</td>\n",
       "      <td>TA</td>\n",
       "      <td>TA</td>\n",
       "      <td>Y</td>\n",
       "      <td>no</td>\n",
       "      <td>WD</td>\n",
       "      <td>Normal</td>\n",
       "    </tr>\n",
       "    <tr>\n",
       "      <th>3</th>\n",
       "      <td>100.855812</td>\n",
       "      <td>-127.292575</td>\n",
       "      <td>-556.500150</td>\n",
       "      <td>-218.066293</td>\n",
       "      <td>-189.640653</td>\n",
       "      <td>35.645935</td>\n",
       "      <td>94.066474</td>\n",
       "      <td>-144.346392</td>\n",
       "      <td>-99.867173</td>\n",
       "      <td>-10.721709</td>\n",
       "      <td>...</td>\n",
       "      <td>Typ</td>\n",
       "      <td>Gd</td>\n",
       "      <td>Detchd</td>\n",
       "      <td>Unf</td>\n",
       "      <td>TA</td>\n",
       "      <td>TA</td>\n",
       "      <td>Y</td>\n",
       "      <td>no</td>\n",
       "      <td>WD</td>\n",
       "      <td>Abnorml</td>\n",
       "    </tr>\n",
       "    <tr>\n",
       "      <th>4</th>\n",
       "      <td>-4663.337378</td>\n",
       "      <td>-386.628006</td>\n",
       "      <td>-466.220183</td>\n",
       "      <td>-560.250728</td>\n",
       "      <td>40.013215</td>\n",
       "      <td>-175.800704</td>\n",
       "      <td>287.849858</td>\n",
       "      <td>70.989246</td>\n",
       "      <td>24.430002</td>\n",
       "      <td>8.688235</td>\n",
       "      <td>...</td>\n",
       "      <td>Typ</td>\n",
       "      <td>TA</td>\n",
       "      <td>Attchd</td>\n",
       "      <td>RFn</td>\n",
       "      <td>TA</td>\n",
       "      <td>TA</td>\n",
       "      <td>Y</td>\n",
       "      <td>no</td>\n",
       "      <td>WD</td>\n",
       "      <td>Normal</td>\n",
       "    </tr>\n",
       "    <tr>\n",
       "      <th>...</th>\n",
       "      <td>...</td>\n",
       "      <td>...</td>\n",
       "      <td>...</td>\n",
       "      <td>...</td>\n",
       "      <td>...</td>\n",
       "      <td>...</td>\n",
       "      <td>...</td>\n",
       "      <td>...</td>\n",
       "      <td>...</td>\n",
       "      <td>...</td>\n",
       "      <td>...</td>\n",
       "      <td>...</td>\n",
       "      <td>...</td>\n",
       "      <td>...</td>\n",
       "      <td>...</td>\n",
       "      <td>...</td>\n",
       "      <td>...</td>\n",
       "      <td>...</td>\n",
       "      <td>...</td>\n",
       "      <td>...</td>\n",
       "      <td>...</td>\n",
       "    </tr>\n",
       "    <tr>\n",
       "      <th>1455</th>\n",
       "      <td>1728.344573</td>\n",
       "      <td>-396.968161</td>\n",
       "      <td>-559.840890</td>\n",
       "      <td>220.987915</td>\n",
       "      <td>-185.605243</td>\n",
       "      <td>-95.937296</td>\n",
       "      <td>-66.027734</td>\n",
       "      <td>-70.374548</td>\n",
       "      <td>-68.348283</td>\n",
       "      <td>5.581670</td>\n",
       "      <td>...</td>\n",
       "      <td>Typ</td>\n",
       "      <td>TA</td>\n",
       "      <td>Attchd</td>\n",
       "      <td>RFn</td>\n",
       "      <td>TA</td>\n",
       "      <td>TA</td>\n",
       "      <td>Y</td>\n",
       "      <td>no</td>\n",
       "      <td>WD</td>\n",
       "      <td>Normal</td>\n",
       "    </tr>\n",
       "    <tr>\n",
       "      <th>1456</th>\n",
       "      <td>-3617.134387</td>\n",
       "      <td>-489.407054</td>\n",
       "      <td>698.628512</td>\n",
       "      <td>66.680033</td>\n",
       "      <td>255.513355</td>\n",
       "      <td>475.153793</td>\n",
       "      <td>-138.124551</td>\n",
       "      <td>33.590524</td>\n",
       "      <td>209.839997</td>\n",
       "      <td>-46.233955</td>\n",
       "      <td>...</td>\n",
       "      <td>Min1</td>\n",
       "      <td>TA</td>\n",
       "      <td>Attchd</td>\n",
       "      <td>Unf</td>\n",
       "      <td>TA</td>\n",
       "      <td>TA</td>\n",
       "      <td>Y</td>\n",
       "      <td>MnPrv</td>\n",
       "      <td>WD</td>\n",
       "      <td>Normal</td>\n",
       "    </tr>\n",
       "    <tr>\n",
       "      <th>1457</th>\n",
       "      <td>540.171215</td>\n",
       "      <td>-942.847315</td>\n",
       "      <td>-709.530519</td>\n",
       "      <td>-216.903843</td>\n",
       "      <td>209.066009</td>\n",
       "      <td>-41.179714</td>\n",
       "      <td>-370.082260</td>\n",
       "      <td>-2.689490</td>\n",
       "      <td>-88.225122</td>\n",
       "      <td>4.266651</td>\n",
       "      <td>...</td>\n",
       "      <td>Typ</td>\n",
       "      <td>Gd</td>\n",
       "      <td>Attchd</td>\n",
       "      <td>RFn</td>\n",
       "      <td>TA</td>\n",
       "      <td>TA</td>\n",
       "      <td>Y</td>\n",
       "      <td>GdPrv</td>\n",
       "      <td>WD</td>\n",
       "      <td>Normal</td>\n",
       "    </tr>\n",
       "    <tr>\n",
       "      <th>1458</th>\n",
       "      <td>-17.810300</td>\n",
       "      <td>635.898749</td>\n",
       "      <td>130.140809</td>\n",
       "      <td>51.464368</td>\n",
       "      <td>-237.764897</td>\n",
       "      <td>234.590132</td>\n",
       "      <td>-148.868618</td>\n",
       "      <td>28.683945</td>\n",
       "      <td>410.043256</td>\n",
       "      <td>448.922249</td>\n",
       "      <td>...</td>\n",
       "      <td>Typ</td>\n",
       "      <td>no</td>\n",
       "      <td>Attchd</td>\n",
       "      <td>Unf</td>\n",
       "      <td>TA</td>\n",
       "      <td>TA</td>\n",
       "      <td>Y</td>\n",
       "      <td>no</td>\n",
       "      <td>WD</td>\n",
       "      <td>Normal</td>\n",
       "    </tr>\n",
       "    <tr>\n",
       "      <th>1459</th>\n",
       "      <td>-286.861806</td>\n",
       "      <td>325.484763</td>\n",
       "      <td>629.171570</td>\n",
       "      <td>-246.085128</td>\n",
       "      <td>-1.978135</td>\n",
       "      <td>10.753595</td>\n",
       "      <td>-209.057082</td>\n",
       "      <td>9.998237</td>\n",
       "      <td>349.886089</td>\n",
       "      <td>52.927495</td>\n",
       "      <td>...</td>\n",
       "      <td>Typ</td>\n",
       "      <td>no</td>\n",
       "      <td>Attchd</td>\n",
       "      <td>Fin</td>\n",
       "      <td>TA</td>\n",
       "      <td>TA</td>\n",
       "      <td>Y</td>\n",
       "      <td>no</td>\n",
       "      <td>WD</td>\n",
       "      <td>Normal</td>\n",
       "    </tr>\n",
       "  </tbody>\n",
       "</table>\n",
       "<p>1460 rows × 51 columns</p>\n",
       "</div>"
      ],
      "text/plain": [
       "                a           b           c           d           e           f  \\\n",
       "0     1187.209888 -128.742162 -257.068186 -782.589475  -43.312734 -143.185755   \n",
       "1       39.106244  195.185014  717.816215 -235.377998   -7.555359  -79.885344   \n",
       "2    -1608.177199  -85.027661 -466.206621 -434.486802 -105.078000 -162.283032   \n",
       "3      100.855812 -127.292575 -556.500150 -218.066293 -189.640653   35.645935   \n",
       "4    -4663.337378 -386.628006 -466.220183 -560.250728   40.013215 -175.800704   \n",
       "...           ...         ...         ...         ...         ...         ...   \n",
       "1455  1728.344573 -396.968161 -559.840890  220.987915 -185.605243  -95.937296   \n",
       "1456 -3617.134387 -489.407054  698.628512   66.680033  255.513355  475.153793   \n",
       "1457   540.171215 -942.847315 -709.530519 -216.903843  209.066009  -41.179714   \n",
       "1458   -17.810300  635.898749  130.140809   51.464368 -237.764897  234.590132   \n",
       "1459  -286.861806  325.484763  629.171570 -246.085128   -1.978135   10.753595   \n",
       "\n",
       "               g           h           i           j  ... Functional  \\\n",
       "0      73.374403   47.227103 -111.252725   27.044289  ...        Typ   \n",
       "1     -78.676297  -69.088245  186.172599  -71.363098  ...        Typ   \n",
       "2      95.653144    6.426838 -113.612671   22.836666  ...        Typ   \n",
       "3      94.066474 -144.346392  -99.867173  -10.721709  ...        Typ   \n",
       "4     287.849858   70.989246   24.430002    8.688235  ...        Typ   \n",
       "...          ...         ...         ...         ...  ...        ...   \n",
       "1455  -66.027734  -70.374548  -68.348283    5.581670  ...        Typ   \n",
       "1456 -138.124551   33.590524  209.839997  -46.233955  ...       Min1   \n",
       "1457 -370.082260   -2.689490  -88.225122    4.266651  ...        Typ   \n",
       "1458 -148.868618   28.683945  410.043256  448.922249  ...        Typ   \n",
       "1459 -209.057082    9.998237  349.886089   52.927495  ...        Typ   \n",
       "\n",
       "     FireplaceQu GarageType GarageFinish GarageQual GarageCond PavedDrive  \\\n",
       "0             no     Attchd          RFn         TA         TA          Y   \n",
       "1             TA     Attchd          RFn         TA         TA          Y   \n",
       "2             TA     Attchd          RFn         TA         TA          Y   \n",
       "3             Gd     Detchd          Unf         TA         TA          Y   \n",
       "4             TA     Attchd          RFn         TA         TA          Y   \n",
       "...          ...        ...          ...        ...        ...        ...   \n",
       "1455          TA     Attchd          RFn         TA         TA          Y   \n",
       "1456          TA     Attchd          Unf         TA         TA          Y   \n",
       "1457          Gd     Attchd          RFn         TA         TA          Y   \n",
       "1458          no     Attchd          Unf         TA         TA          Y   \n",
       "1459          no     Attchd          Fin         TA         TA          Y   \n",
       "\n",
       "      Fence SaleType SaleCondition  \n",
       "0        no       WD        Normal  \n",
       "1        no       WD        Normal  \n",
       "2        no       WD        Normal  \n",
       "3        no       WD       Abnorml  \n",
       "4        no       WD        Normal  \n",
       "...     ...      ...           ...  \n",
       "1455     no       WD        Normal  \n",
       "1456  MnPrv       WD        Normal  \n",
       "1457  GdPrv       WD        Normal  \n",
       "1458     no       WD        Normal  \n",
       "1459     no       WD        Normal  \n",
       "\n",
       "[1460 rows x 51 columns]"
      ]
     },
     "execution_count": 37,
     "metadata": {},
     "output_type": "execute_result"
    }
   ],
   "source": [
    "X_pca"
   ]
  },
  {
   "attachments": {},
   "cell_type": "markdown",
   "metadata": {},
   "source": [
    "#### Train / Test Split"
   ]
  },
  {
   "cell_type": "code",
   "execution_count": 38,
   "metadata": {},
   "outputs": [
    {
     "name": "stdout",
     "output_type": "stream",
     "text": [
      "(1168, 77) (292, 77) (1168,) (292,)\n"
     ]
    }
   ],
   "source": [
    "X_train, X_test, y_train, y_test = train_test_split(X, y, test_size=0.2, random_state=2022)\n",
    "\n",
    "print(X_train.shape, X_test.shape, y_train.shape, y_test.shape)"
   ]
  },
  {
   "cell_type": "code",
   "execution_count": 39,
   "metadata": {},
   "outputs": [
    {
     "name": "stdout",
     "output_type": "stream",
     "text": [
      "(1168, 51) (292, 51) (1168,) (292,)\n"
     ]
    }
   ],
   "source": [
    "X_train_p, X_test_p, y_train, y_test = train_test_split(X_pca, y, test_size=0.2, random_state=2022)\n",
    "\n",
    "print(X_train_p.shape, X_test_p.shape, y_train.shape, y_test.shape)"
   ]
  },
  {
   "cell_type": "code",
   "execution_count": 40,
   "metadata": {},
   "outputs": [
    {
     "name": "stdout",
     "output_type": "stream",
     "text": [
      "There are 36 numerical features: ['MSSubClass', 'LotFrontage', 'LotArea', 'OverallQual', 'OverallCond', 'YearBuilt', 'YearRemodAdd', 'MasVnrArea', 'BsmtFinSF1', 'BsmtFinSF2', 'BsmtUnfSF', 'TotalBsmtSF', '1stFlrSF', '2ndFlrSF', 'LowQualFinSF', 'GrLivArea', 'BsmtFullBath', 'BsmtHalfBath', 'FullBath', 'HalfBath', 'BedroomAbvGr', 'KitchenAbvGr', 'TotRmsAbvGrd', 'Fireplaces', 'GarageYrBlt', 'GarageCars', 'GarageArea', 'WoodDeckSF', 'OpenPorchSF', 'EnclosedPorch', '3SsnPorch', 'ScreenPorch', 'PoolArea', 'MiscVal', 'MoSold', 'YrSold']\n",
      "\n",
      "There are 10 numerical features: ['MSSubClass', 'LotFrontage', 'LotArea', 'OverallQual', 'OverallCond', 'YearBuilt', 'YearRemodAdd', 'MasVnrArea', 'BsmtFinSF1', 'BsmtFinSF2', 'BsmtUnfSF', 'TotalBsmtSF', '1stFlrSF', '2ndFlrSF', 'LowQualFinSF', 'GrLivArea', 'BsmtFullBath', 'BsmtHalfBath', 'FullBath', 'HalfBath', 'BedroomAbvGr', 'KitchenAbvGr', 'TotRmsAbvGrd', 'Fireplaces', 'GarageYrBlt', 'GarageCars', 'GarageArea', 'WoodDeckSF', 'OpenPorchSF', 'EnclosedPorch', '3SsnPorch', 'ScreenPorch', 'PoolArea', 'MiscVal', 'MoSold', 'YrSold']\n",
      "\n",
      "There are 41 string features: ['MSZoning', 'Street', 'Alley', 'LotShape', 'LandContour', 'Utilities', 'LotConfig', 'LandSlope', 'Neighborhood', 'Condition1', 'Condition2', 'BldgType', 'HouseStyle', 'RoofStyle', 'RoofMatl', 'Exterior1st', 'Exterior2nd', 'MasVnrType', 'ExterQual', 'ExterCond', 'Foundation', 'BsmtQual', 'BsmtCond', 'BsmtExposure', 'BsmtFinType1', 'BsmtFinType2', 'Heating', 'HeatingQC', 'CentralAir', 'Electrical', 'KitchenQual', 'Functional', 'FireplaceQu', 'GarageType', 'GarageFinish', 'GarageQual', 'GarageCond', 'PavedDrive', 'Fence', 'SaleType', 'SaleCondition']\n",
      "\n"
     ]
    }
   ],
   "source": [
    "numerical_features = X_train.select_dtypes(include='number').columns.tolist()\n",
    "print(f\"There are {len(numerical_features)} numerical features: {numerical_features}\\n\")\n",
    "\n",
    "numerical_features_p = X_train_p.select_dtypes(include='number').columns.tolist()\n",
    "print(f\"There are {len(numerical_features_p)} numerical features: {numerical_features}\\n\")\n",
    "\n",
    "string_features = X_train.select_dtypes(exclude='number').columns.tolist()\n",
    "print(f\"There are {len(string_features)} string features: {string_features}\\n\")"
   ]
  },
  {
   "attachments": {},
   "cell_type": "markdown",
   "metadata": {},
   "source": [
    "#### Applying transformations"
   ]
  },
  {
   "cell_type": "code",
   "execution_count": 41,
   "metadata": {},
   "outputs": [],
   "source": [
    "# Pipeline for numeric features\n",
    "numeric_pipeline = Pipeline(steps=[\n",
    "    ('impute', SimpleImputer(strategy='mean')),\n",
    "    ('scale', StandardScaler())\n",
    "  ]\n",
    ")\n",
    "\n",
    "# Pipeline for string features\n",
    "string_pipeline = Pipeline(steps=[\n",
    "    ('impute', SimpleImputer(strategy='most_frequent')),\n",
    "    ('encode', OneHotEncoder(handle_unknown='ignore', sparse=False,drop='first')),\n",
    "    ('scale', StandardScaler())\n",
    "  ]\n",
    ")\n",
    "\n",
    "# Now let's merge both pipeline into one single pre-processing object\n",
    "# We can use ColumnTransformer for this\n",
    "full_processor = ColumnTransformer(transformers=[\n",
    "    ('number', numeric_pipeline, numerical_features),\n",
    "    ('string', string_pipeline, string_features)\n",
    "  ]\n",
    ")\n",
    "\n",
    "full_processor_p = ColumnTransformer(transformers=[\n",
    "    ('number', numeric_pipeline, numerical_features_p),\n",
    "    ('string', string_pipeline, string_features)\n",
    "  ]\n",
    ")"
   ]
  },
  {
   "cell_type": "code",
   "execution_count": 42,
   "metadata": {},
   "outputs": [
    {
     "name": "stdout",
     "output_type": "stream",
     "text": [
      "(1168, 249) (292, 249)\n"
     ]
    },
    {
     "name": "stderr",
     "output_type": "stream",
     "text": [
      "/home/manuelquiros/Documents/VENVS/KaggleTitanic/lib/python3.10/site-packages/sklearn/preprocessing/_encoders.py:828: FutureWarning: `sparse` was renamed to `sparse_output` in version 1.2 and will be removed in 1.4. `sparse_output` is ignored unless you leave `sparse` to its default value.\n",
      "  warnings.warn(\n",
      "/home/manuelquiros/Documents/VENVS/KaggleTitanic/lib/python3.10/site-packages/sklearn/preprocessing/_encoders.py:202: UserWarning: Found unknown categories in columns [10, 14, 16, 27, 31] during transform. These unknown categories will be encoded as all zeros\n",
      "  warnings.warn(\n"
     ]
    }
   ],
   "source": [
    "X_train = full_processor.fit_transform(X_train)\n",
    "X_test  = full_processor.transform(X_test)\n",
    "\n",
    "print(X_train.shape, X_test.shape)"
   ]
  },
  {
   "cell_type": "code",
   "execution_count": 43,
   "metadata": {},
   "outputs": [],
   "source": [
    "enc_cat_features = full_processor.named_transformers_['string']['encode'].get_feature_names_out()"
   ]
  },
  {
   "cell_type": "code",
   "execution_count": 44,
   "metadata": {},
   "outputs": [
    {
     "data": {
      "text/plain": [
       "array(['x0_FV', 'x0_RH', 'x0_RL', 'x0_RM', 'x1_Pave', 'x2_Fa', 'x2_Gd',\n",
       "       'x2_TA', 'x2_no', 'x3_IR2', 'x3_IR3', 'x3_Reg', 'x4_HLS', 'x4_Low',\n",
       "       'x4_Lvl', 'x5_NoSeWa', 'x6_CulDSac', 'x6_FR2', 'x6_FR3',\n",
       "       'x6_Inside', 'x7_Mod', 'x7_Sev', 'x8_Blueste', 'x8_BrDale',\n",
       "       'x8_BrkSide', 'x8_ClearCr', 'x8_CollgCr', 'x8_Crawfor',\n",
       "       'x8_Edwards', 'x8_Gilbert', 'x8_IDOTRR', 'x8_MeadowV',\n",
       "       'x8_Mitchel', 'x8_NAmes', 'x8_NPkVill', 'x8_NWAmes', 'x8_NoRidge',\n",
       "       'x8_NridgHt', 'x8_OldTown', 'x8_SWISU', 'x8_Sawyer', 'x8_SawyerW',\n",
       "       'x8_Somerst', 'x8_StoneBr', 'x8_Timber', 'x8_Veenker', 'x9_Feedr',\n",
       "       'x9_Norm', 'x9_PosA', 'x9_PosN', 'x9_RRAe', 'x9_RRAn', 'x9_RRNe',\n",
       "       'x9_RRNn', 'x10_Feedr', 'x10_Norm', 'x10_PosN', 'x10_RRAe',\n",
       "       'x10_RRAn', 'x10_RRNn', 'x11_2fmCon', 'x11_Duplex', 'x11_Twnhs',\n",
       "       'x11_TwnhsE', 'x12_1.5Unf', 'x12_1Story', 'x12_2.5Fin',\n",
       "       'x12_2.5Unf', 'x12_2Story', 'x12_SFoyer', 'x12_SLvl', 'x13_Gable',\n",
       "       'x13_Gambrel', 'x13_Hip', 'x13_Mansard', 'x13_Shed', 'x14_CompShg',\n",
       "       'x14_Membran', 'x14_Metal', 'x14_Tar&Grv', 'x14_WdShake',\n",
       "       'x14_WdShngl', 'x15_AsphShn', 'x15_BrkComm', 'x15_BrkFace',\n",
       "       'x15_CBlock', 'x15_CemntBd', 'x15_HdBoard', 'x15_ImStucc',\n",
       "       'x15_MetalSd', 'x15_Plywood', 'x15_Stone', 'x15_Stucco',\n",
       "       'x15_VinylSd', 'x15_Wd Sdng', 'x15_WdShing', 'x16_AsphShn',\n",
       "       'x16_Brk Cmn', 'x16_BrkFace', 'x16_CBlock', 'x16_CmentBd',\n",
       "       'x16_HdBoard', 'x16_ImStucc', 'x16_MetalSd', 'x16_Plywood',\n",
       "       'x16_Stone', 'x16_Stucco', 'x16_VinylSd', 'x16_Wd Sdng',\n",
       "       'x16_Wd Shng', 'x17_BrkFace', 'x17_None', 'x17_Stone', 'x18_Fa',\n",
       "       'x18_Gd', 'x18_TA', 'x19_Fa', 'x19_Gd', 'x19_Po', 'x19_TA',\n",
       "       'x20_CBlock', 'x20_PConc', 'x20_Slab', 'x20_Stone', 'x20_Wood',\n",
       "       'x21_Fa', 'x21_Gd', 'x21_TA', 'x21_no', 'x22_Gd', 'x22_Po',\n",
       "       'x22_TA', 'x22_no', 'x23_Gd', 'x23_Mn', 'x23_No', 'x23_no',\n",
       "       'x24_BLQ', 'x24_GLQ', 'x24_LwQ', 'x24_Rec', 'x24_Unf', 'x24_no',\n",
       "       'x25_BLQ', 'x25_GLQ', 'x25_LwQ', 'x25_Rec', 'x25_Unf', 'x25_no',\n",
       "       'x26_GasA', 'x26_GasW', 'x26_Grav', 'x26_OthW', 'x26_Wall',\n",
       "       'x27_Fa', 'x27_Gd', 'x27_TA', 'x28_Y', 'x29_FuseF', 'x29_FuseP',\n",
       "       'x29_Mix', 'x29_SBrkr', 'x30_Fa', 'x30_Gd', 'x30_TA', 'x31_Maj2',\n",
       "       'x31_Min1', 'x31_Min2', 'x31_Mod', 'x31_Typ', 'x32_Fa', 'x32_Gd',\n",
       "       'x32_Po', 'x32_TA', 'x32_no', 'x33_Attchd', 'x33_Basment',\n",
       "       'x33_BuiltIn', 'x33_CarPort', 'x33_Detchd', 'x33_no', 'x34_RFn',\n",
       "       'x34_Unf', 'x34_no', 'x35_Fa', 'x35_Gd', 'x35_Po', 'x35_TA',\n",
       "       'x35_no', 'x36_Fa', 'x36_Gd', 'x36_Po', 'x36_TA', 'x36_no',\n",
       "       'x37_P', 'x37_Y', 'x38_GdWo', 'x38_MnPrv', 'x38_MnWw', 'x38_no',\n",
       "       'x39_CWD', 'x39_Con', 'x39_ConLD', 'x39_ConLI', 'x39_ConLw',\n",
       "       'x39_New', 'x39_Oth', 'x39_WD', 'x40_AdjLand', 'x40_Alloca',\n",
       "       'x40_Family', 'x40_Normal', 'x40_Partial'], dtype=object)"
      ]
     },
     "execution_count": 44,
     "metadata": {},
     "output_type": "execute_result"
    }
   ],
   "source": [
    "enc_cat_features"
   ]
  },
  {
   "cell_type": "code",
   "execution_count": 45,
   "metadata": {},
   "outputs": [
    {
     "name": "stdout",
     "output_type": "stream",
     "text": [
      "(1168, 223) (292, 223)\n"
     ]
    },
    {
     "name": "stderr",
     "output_type": "stream",
     "text": [
      "/home/manuelquiros/Documents/VENVS/KaggleTitanic/lib/python3.10/site-packages/sklearn/preprocessing/_encoders.py:828: FutureWarning: `sparse` was renamed to `sparse_output` in version 1.2 and will be removed in 1.4. `sparse_output` is ignored unless you leave `sparse` to its default value.\n",
      "  warnings.warn(\n",
      "/home/manuelquiros/Documents/VENVS/KaggleTitanic/lib/python3.10/site-packages/sklearn/preprocessing/_encoders.py:202: UserWarning: Found unknown categories in columns [10, 14, 16, 27, 31] during transform. These unknown categories will be encoded as all zeros\n",
      "  warnings.warn(\n"
     ]
    }
   ],
   "source": [
    "X_train_p = full_processor_p.fit_transform(X_train_p)\n",
    "X_test_p = full_processor_p.transform(X_test_p)\n",
    "\n",
    "print(X_train_p.shape, X_test_p.shape)"
   ]
  },
  {
   "attachments": {},
   "cell_type": "markdown",
   "metadata": {},
   "source": [
    "### Models"
   ]
  },
  {
   "attachments": {},
   "cell_type": "markdown",
   "metadata": {},
   "source": [
    "#### Baseline"
   ]
  },
  {
   "cell_type": "code",
   "execution_count": 209,
   "metadata": {},
   "outputs": [],
   "source": [
    "LR = LinearRegression()"
   ]
  },
  {
   "cell_type": "code",
   "execution_count": 215,
   "metadata": {},
   "outputs": [
    {
     "data": {
      "text/html": [
       "<style>#sk-container-id-16 {color: black;background-color: white;}#sk-container-id-16 pre{padding: 0;}#sk-container-id-16 div.sk-toggleable {background-color: white;}#sk-container-id-16 label.sk-toggleable__label {cursor: pointer;display: block;width: 100%;margin-bottom: 0;padding: 0.3em;box-sizing: border-box;text-align: center;}#sk-container-id-16 label.sk-toggleable__label-arrow:before {content: \"▸\";float: left;margin-right: 0.25em;color: #696969;}#sk-container-id-16 label.sk-toggleable__label-arrow:hover:before {color: black;}#sk-container-id-16 div.sk-estimator:hover label.sk-toggleable__label-arrow:before {color: black;}#sk-container-id-16 div.sk-toggleable__content {max-height: 0;max-width: 0;overflow: hidden;text-align: left;background-color: #f0f8ff;}#sk-container-id-16 div.sk-toggleable__content pre {margin: 0.2em;color: black;border-radius: 0.25em;background-color: #f0f8ff;}#sk-container-id-16 input.sk-toggleable__control:checked~div.sk-toggleable__content {max-height: 200px;max-width: 100%;overflow: auto;}#sk-container-id-16 input.sk-toggleable__control:checked~label.sk-toggleable__label-arrow:before {content: \"▾\";}#sk-container-id-16 div.sk-estimator input.sk-toggleable__control:checked~label.sk-toggleable__label {background-color: #d4ebff;}#sk-container-id-16 div.sk-label input.sk-toggleable__control:checked~label.sk-toggleable__label {background-color: #d4ebff;}#sk-container-id-16 input.sk-hidden--visually {border: 0;clip: rect(1px 1px 1px 1px);clip: rect(1px, 1px, 1px, 1px);height: 1px;margin: -1px;overflow: hidden;padding: 0;position: absolute;width: 1px;}#sk-container-id-16 div.sk-estimator {font-family: monospace;background-color: #f0f8ff;border: 1px dotted black;border-radius: 0.25em;box-sizing: border-box;margin-bottom: 0.5em;}#sk-container-id-16 div.sk-estimator:hover {background-color: #d4ebff;}#sk-container-id-16 div.sk-parallel-item::after {content: \"\";width: 100%;border-bottom: 1px solid gray;flex-grow: 1;}#sk-container-id-16 div.sk-label:hover label.sk-toggleable__label {background-color: #d4ebff;}#sk-container-id-16 div.sk-serial::before {content: \"\";position: absolute;border-left: 1px solid gray;box-sizing: border-box;top: 0;bottom: 0;left: 50%;z-index: 0;}#sk-container-id-16 div.sk-serial {display: flex;flex-direction: column;align-items: center;background-color: white;padding-right: 0.2em;padding-left: 0.2em;position: relative;}#sk-container-id-16 div.sk-item {position: relative;z-index: 1;}#sk-container-id-16 div.sk-parallel {display: flex;align-items: stretch;justify-content: center;background-color: white;position: relative;}#sk-container-id-16 div.sk-item::before, #sk-container-id-16 div.sk-parallel-item::before {content: \"\";position: absolute;border-left: 1px solid gray;box-sizing: border-box;top: 0;bottom: 0;left: 50%;z-index: -1;}#sk-container-id-16 div.sk-parallel-item {display: flex;flex-direction: column;z-index: 1;position: relative;background-color: white;}#sk-container-id-16 div.sk-parallel-item:first-child::after {align-self: flex-end;width: 50%;}#sk-container-id-16 div.sk-parallel-item:last-child::after {align-self: flex-start;width: 50%;}#sk-container-id-16 div.sk-parallel-item:only-child::after {width: 0;}#sk-container-id-16 div.sk-dashed-wrapped {border: 1px dashed gray;margin: 0 0.4em 0.5em 0.4em;box-sizing: border-box;padding-bottom: 0.4em;background-color: white;}#sk-container-id-16 div.sk-label label {font-family: monospace;font-weight: bold;display: inline-block;line-height: 1.2em;}#sk-container-id-16 div.sk-label-container {text-align: center;}#sk-container-id-16 div.sk-container {/* jupyter's `normalize.less` sets `[hidden] { display: none; }` but bootstrap.min.css set `[hidden] { display: none !important; }` so we also need the `!important` here to be able to override the default hidden behavior on the sphinx rendered scikit-learn.org. See: https://github.com/scikit-learn/scikit-learn/issues/21755 */display: inline-block !important;position: relative;}#sk-container-id-16 div.sk-text-repr-fallback {display: none;}</style><div id=\"sk-container-id-16\" class=\"sk-top-container\"><div class=\"sk-text-repr-fallback\"><pre>LinearRegression()</pre><b>In a Jupyter environment, please rerun this cell to show the HTML representation or trust the notebook. <br />On GitHub, the HTML representation is unable to render, please try loading this page with nbviewer.org.</b></div><div class=\"sk-container\" hidden><div class=\"sk-item\"><div class=\"sk-estimator sk-toggleable\"><input class=\"sk-toggleable__control sk-hidden--visually\" id=\"sk-estimator-id-28\" type=\"checkbox\" checked><label for=\"sk-estimator-id-28\" class=\"sk-toggleable__label sk-toggleable__label-arrow\">LinearRegression</label><div class=\"sk-toggleable__content\"><pre>LinearRegression()</pre></div></div></div></div></div>"
      ],
      "text/plain": [
       "LinearRegression()"
      ]
     },
     "execution_count": 215,
     "metadata": {},
     "output_type": "execute_result"
    }
   ],
   "source": [
    "LR.fit(X_train,y_train)"
   ]
  },
  {
   "cell_type": "code",
   "execution_count": 213,
   "metadata": {},
   "outputs": [],
   "source": [
    "LR_train_p_pred=LR.predict(X_train_p)"
   ]
  },
  {
   "cell_type": "code",
   "execution_count": 216,
   "metadata": {},
   "outputs": [],
   "source": [
    "LR_train_pred=LR.predict(X_train)"
   ]
  },
  {
   "cell_type": "code",
   "execution_count": 214,
   "metadata": {},
   "outputs": [
    {
     "name": "stdout",
     "output_type": "stream",
     "text": [
      "MSE con PCA= 21990.22347872583\n"
     ]
    }
   ],
   "source": [
    "print('MSE con PCA=' , mean_squared_error(y_train,LR_train_p_pred, squared=False))"
   ]
  },
  {
   "cell_type": "code",
   "execution_count": 218,
   "metadata": {},
   "outputs": [
    {
     "name": "stdout",
     "output_type": "stream",
     "text": [
      "MSE sin PCA= 19811.15297082242\n"
     ]
    }
   ],
   "source": [
    "print('MSE sin PCA=' , mean_squared_error(y_train,LR_train_pred, squared=False))"
   ]
  },
  {
   "cell_type": "code",
   "execution_count": 219,
   "metadata": {},
   "outputs": [],
   "source": [
    "LR_test_pred=LR.predict(X_test)"
   ]
  },
  {
   "cell_type": "code",
   "execution_count": 220,
   "metadata": {},
   "outputs": [
    {
     "name": "stdout",
     "output_type": "stream",
     "text": [
      "MSE sin PCA= 4.200137423866048e+16\n"
     ]
    }
   ],
   "source": [
    "print('MSE sin PCA=' , mean_squared_error(y_test,LR_test_pred, squared=False))"
   ]
  },
  {
   "attachments": {},
   "cell_type": "markdown",
   "metadata": {},
   "source": [
    "#### Random Forest Regressor"
   ]
  },
  {
   "cell_type": "code",
   "execution_count": 46,
   "metadata": {},
   "outputs": [],
   "source": [
    "from sklearn.ensemble import RandomForestRegressor"
   ]
  },
  {
   "cell_type": "code",
   "execution_count": 47,
   "metadata": {},
   "outputs": [],
   "source": [
    "param_grid = {\n",
    "\n",
    "    'max_depth': [100],\n",
    "    'max_features': [0.7,0.8,0.9],\n",
    "    'min_samples_leaf': [3,  5],\n",
    "    'min_samples_split': [8,12],\n",
    "    'n_estimators': [100]\n",
    "}\n",
    "rf = RandomForestRegressor(criterion='squared_error')\n",
    "grid_search_rf = GridSearchCV(rf, param_grid = param_grid, cv = 5, n_jobs = -1, verbose = 2)"
   ]
  },
  {
   "cell_type": "code",
   "execution_count": 78,
   "metadata": {},
   "outputs": [
    {
     "name": "stdout",
     "output_type": "stream",
     "text": [
      "Fitting 5 folds for each of 12 candidates, totalling 60 fits\n",
      "[CV] END max_depth=100, max_features=0.7, min_samples_leaf=3, min_samples_split=8, n_estimators=100; total time=   0.6s\n",
      "[CV] END max_depth=100, max_features=0.7, min_samples_leaf=3, min_samples_split=8, n_estimators=100; total time=   0.6s\n",
      "[CV] END max_depth=100, max_features=0.7, min_samples_leaf=3, min_samples_split=8, n_estimators=100; total time=   0.6s\n",
      "[CV] END max_depth=100, max_features=0.7, min_samples_leaf=3, min_samples_split=12, n_estimators=100; total time=   0.6s\n",
      "[CV] END max_depth=100, max_features=0.7, min_samples_leaf=3, min_samples_split=12, n_estimators=100; total time=   0.6s\n",
      "[CV] END max_depth=100, max_features=0.7, min_samples_leaf=3, min_samples_split=8, n_estimators=100; total time=   0.6s\n",
      "[CV] END max_depth=100, max_features=0.7, min_samples_leaf=3, min_samples_split=12, n_estimators=100; total time=   0.6s\n",
      "[CV] END max_depth=100, max_features=0.7, min_samples_leaf=5, min_samples_split=8, n_estimators=100; total time=   0.6s\n",
      "[CV] END max_depth=100, max_features=0.7, min_samples_leaf=5, min_samples_split=8, n_estimators=100; total time=   0.6s\n",
      "[CV] END max_depth=100, max_features=0.7, min_samples_leaf=3, min_samples_split=12, n_estimators=100; total time=   0.5s\n",
      "[CV] END max_depth=100, max_features=0.7, min_samples_leaf=3, min_samples_split=8, n_estimators=100; total time=   0.7s\n",
      "[CV] END max_depth=100, max_features=0.7, min_samples_leaf=5, min_samples_split=8, n_estimators=100; total time=   0.6s\n",
      "[CV] END max_depth=100, max_features=0.7, min_samples_leaf=5, min_samples_split=8, n_estimators=100; total time=   0.5s\n",
      "[CV] END max_depth=100, max_features=0.7, min_samples_leaf=3, min_samples_split=12, n_estimators=100; total time=   0.8s\n",
      "[CV] END max_depth=100, max_features=0.7, min_samples_leaf=5, min_samples_split=12, n_estimators=100; total time=   0.5s\n",
      "[CV] END max_depth=100, max_features=0.7, min_samples_leaf=5, min_samples_split=12, n_estimators=100; total time=   0.5s\n",
      "[CV] END max_depth=100, max_features=0.7, min_samples_leaf=5, min_samples_split=12, n_estimators=100; total time=   0.5s\n",
      "[CV] END max_depth=100, max_features=0.7, min_samples_leaf=5, min_samples_split=12, n_estimators=100; total time=   0.7s\n",
      "[CV] END max_depth=100, max_features=0.7, min_samples_leaf=5, min_samples_split=12, n_estimators=100; total time=   0.5s\n",
      "[CV] END max_depth=100, max_features=0.7, min_samples_leaf=5, min_samples_split=8, n_estimators=100; total time=   0.7s\n",
      "[CV] END max_depth=100, max_features=0.8, min_samples_leaf=3, min_samples_split=8, n_estimators=100; total time=   0.7s\n",
      "[CV] END max_depth=100, max_features=0.8, min_samples_leaf=3, min_samples_split=12, n_estimators=100; total time=   0.6s\n",
      "[CV] END max_depth=100, max_features=0.8, min_samples_leaf=3, min_samples_split=8, n_estimators=100; total time=   0.7s\n",
      "[CV] END max_depth=100, max_features=0.8, min_samples_leaf=3, min_samples_split=8, n_estimators=100; total time=   0.8s\n",
      "[CV] END max_depth=100, max_features=0.8, min_samples_leaf=3, min_samples_split=8, n_estimators=100; total time=   0.7s\n",
      "[CV] END max_depth=100, max_features=0.8, min_samples_leaf=3, min_samples_split=12, n_estimators=100; total time=   0.6s\n",
      "[CV] END max_depth=100, max_features=0.8, min_samples_leaf=3, min_samples_split=12, n_estimators=100; total time=   0.7s\n",
      "[CV] END max_depth=100, max_features=0.8, min_samples_leaf=3, min_samples_split=12, n_estimators=100; total time=   0.7s\n",
      "[CV] END max_depth=100, max_features=0.8, min_samples_leaf=3, min_samples_split=8, n_estimators=100; total time=   0.8s\n",
      "[CV] END max_depth=100, max_features=0.8, min_samples_leaf=5, min_samples_split=8, n_estimators=100; total time=   0.6s\n",
      "[CV] END max_depth=100, max_features=0.8, min_samples_leaf=3, min_samples_split=12, n_estimators=100; total time=   0.7s\n",
      "[CV] END max_depth=100, max_features=0.8, min_samples_leaf=5, min_samples_split=8, n_estimators=100; total time=   0.6s\n",
      "[CV] END max_depth=100, max_features=0.8, min_samples_leaf=5, min_samples_split=8, n_estimators=100; total time=   0.6s\n",
      "[CV] END max_depth=100, max_features=0.8, min_samples_leaf=5, min_samples_split=8, n_estimators=100; total time=   0.6s\n",
      "[CV] END max_depth=100, max_features=0.8, min_samples_leaf=5, min_samples_split=8, n_estimators=100; total time=   0.6s\n",
      "[CV] END max_depth=100, max_features=0.8, min_samples_leaf=5, min_samples_split=12, n_estimators=100; total time=   0.6s\n",
      "[CV] END max_depth=100, max_features=0.8, min_samples_leaf=5, min_samples_split=12, n_estimators=100; total time=   0.6s\n",
      "[CV] END max_depth=100, max_features=0.8, min_samples_leaf=5, min_samples_split=12, n_estimators=100; total time=   0.8s\n",
      "[CV] END max_depth=100, max_features=0.8, min_samples_leaf=5, min_samples_split=12, n_estimators=100; total time=   0.6s\n",
      "[CV] END max_depth=100, max_features=0.8, min_samples_leaf=5, min_samples_split=12, n_estimators=100; total time=   0.7s\n",
      "[CV] END max_depth=100, max_features=0.9, min_samples_leaf=3, min_samples_split=8, n_estimators=100; total time=   0.7s\n",
      "[CV] END max_depth=100, max_features=0.9, min_samples_leaf=3, min_samples_split=8, n_estimators=100; total time=   0.7s\n",
      "[CV] END max_depth=100, max_features=0.9, min_samples_leaf=3, min_samples_split=12, n_estimators=100; total time=   0.6s\n",
      "[CV] END max_depth=100, max_features=0.9, min_samples_leaf=3, min_samples_split=12, n_estimators=100; total time=   0.7s\n",
      "[CV] END max_depth=100, max_features=0.9, min_samples_leaf=3, min_samples_split=8, n_estimators=100; total time=   0.8s\n",
      "[CV] END max_depth=100, max_features=0.9, min_samples_leaf=3, min_samples_split=12, n_estimators=100; total time=   0.7s\n",
      "[CV] END max_depth=100, max_features=0.9, min_samples_leaf=3, min_samples_split=12, n_estimators=100; total time=   0.7s\n",
      "[CV] END max_depth=100, max_features=0.9, min_samples_leaf=3, min_samples_split=12, n_estimators=100; total time=   0.7s\n",
      "[CV] END max_depth=100, max_features=0.9, min_samples_leaf=3, min_samples_split=8, n_estimators=100; total time=   0.9s\n",
      "[CV] END max_depth=100, max_features=0.9, min_samples_leaf=3, min_samples_split=8, n_estimators=100; total time=   0.8s\n",
      "[CV] END max_depth=100, max_features=0.9, min_samples_leaf=5, min_samples_split=8, n_estimators=100; total time=   0.7s\n",
      "[CV] END max_depth=100, max_features=0.9, min_samples_leaf=5, min_samples_split=8, n_estimators=100; total time=   0.6s\n",
      "[CV] END max_depth=100, max_features=0.9, min_samples_leaf=5, min_samples_split=8, n_estimators=100; total time=   0.6s\n",
      "[CV] END max_depth=100, max_features=0.9, min_samples_leaf=5, min_samples_split=8, n_estimators=100; total time=   0.7s\n",
      "[CV] END max_depth=100, max_features=0.9, min_samples_leaf=5, min_samples_split=8, n_estimators=100; total time=   0.6s\n",
      "[CV] END max_depth=100, max_features=0.9, min_samples_leaf=5, min_samples_split=12, n_estimators=100; total time=   0.5s\n",
      "[CV] END max_depth=100, max_features=0.9, min_samples_leaf=5, min_samples_split=12, n_estimators=100; total time=   0.6s\n",
      "[CV] END max_depth=100, max_features=0.9, min_samples_leaf=5, min_samples_split=12, n_estimators=100; total time=   0.6s\n",
      "[CV] END max_depth=100, max_features=0.9, min_samples_leaf=5, min_samples_split=12, n_estimators=100; total time=   0.6s\n",
      "[CV] END max_depth=100, max_features=0.9, min_samples_leaf=5, min_samples_split=12, n_estimators=100; total time=   0.5s\n"
     ]
    },
    {
     "data": {
      "text/html": [
       "<style>#sk-container-id-8 {color: black;background-color: white;}#sk-container-id-8 pre{padding: 0;}#sk-container-id-8 div.sk-toggleable {background-color: white;}#sk-container-id-8 label.sk-toggleable__label {cursor: pointer;display: block;width: 100%;margin-bottom: 0;padding: 0.3em;box-sizing: border-box;text-align: center;}#sk-container-id-8 label.sk-toggleable__label-arrow:before {content: \"▸\";float: left;margin-right: 0.25em;color: #696969;}#sk-container-id-8 label.sk-toggleable__label-arrow:hover:before {color: black;}#sk-container-id-8 div.sk-estimator:hover label.sk-toggleable__label-arrow:before {color: black;}#sk-container-id-8 div.sk-toggleable__content {max-height: 0;max-width: 0;overflow: hidden;text-align: left;background-color: #f0f8ff;}#sk-container-id-8 div.sk-toggleable__content pre {margin: 0.2em;color: black;border-radius: 0.25em;background-color: #f0f8ff;}#sk-container-id-8 input.sk-toggleable__control:checked~div.sk-toggleable__content {max-height: 200px;max-width: 100%;overflow: auto;}#sk-container-id-8 input.sk-toggleable__control:checked~label.sk-toggleable__label-arrow:before {content: \"▾\";}#sk-container-id-8 div.sk-estimator input.sk-toggleable__control:checked~label.sk-toggleable__label {background-color: #d4ebff;}#sk-container-id-8 div.sk-label input.sk-toggleable__control:checked~label.sk-toggleable__label {background-color: #d4ebff;}#sk-container-id-8 input.sk-hidden--visually {border: 0;clip: rect(1px 1px 1px 1px);clip: rect(1px, 1px, 1px, 1px);height: 1px;margin: -1px;overflow: hidden;padding: 0;position: absolute;width: 1px;}#sk-container-id-8 div.sk-estimator {font-family: monospace;background-color: #f0f8ff;border: 1px dotted black;border-radius: 0.25em;box-sizing: border-box;margin-bottom: 0.5em;}#sk-container-id-8 div.sk-estimator:hover {background-color: #d4ebff;}#sk-container-id-8 div.sk-parallel-item::after {content: \"\";width: 100%;border-bottom: 1px solid gray;flex-grow: 1;}#sk-container-id-8 div.sk-label:hover label.sk-toggleable__label {background-color: #d4ebff;}#sk-container-id-8 div.sk-serial::before {content: \"\";position: absolute;border-left: 1px solid gray;box-sizing: border-box;top: 0;bottom: 0;left: 50%;z-index: 0;}#sk-container-id-8 div.sk-serial {display: flex;flex-direction: column;align-items: center;background-color: white;padding-right: 0.2em;padding-left: 0.2em;position: relative;}#sk-container-id-8 div.sk-item {position: relative;z-index: 1;}#sk-container-id-8 div.sk-parallel {display: flex;align-items: stretch;justify-content: center;background-color: white;position: relative;}#sk-container-id-8 div.sk-item::before, #sk-container-id-8 div.sk-parallel-item::before {content: \"\";position: absolute;border-left: 1px solid gray;box-sizing: border-box;top: 0;bottom: 0;left: 50%;z-index: -1;}#sk-container-id-8 div.sk-parallel-item {display: flex;flex-direction: column;z-index: 1;position: relative;background-color: white;}#sk-container-id-8 div.sk-parallel-item:first-child::after {align-self: flex-end;width: 50%;}#sk-container-id-8 div.sk-parallel-item:last-child::after {align-self: flex-start;width: 50%;}#sk-container-id-8 div.sk-parallel-item:only-child::after {width: 0;}#sk-container-id-8 div.sk-dashed-wrapped {border: 1px dashed gray;margin: 0 0.4em 0.5em 0.4em;box-sizing: border-box;padding-bottom: 0.4em;background-color: white;}#sk-container-id-8 div.sk-label label {font-family: monospace;font-weight: bold;display: inline-block;line-height: 1.2em;}#sk-container-id-8 div.sk-label-container {text-align: center;}#sk-container-id-8 div.sk-container {/* jupyter's `normalize.less` sets `[hidden] { display: none; }` but bootstrap.min.css set `[hidden] { display: none !important; }` so we also need the `!important` here to be able to override the default hidden behavior on the sphinx rendered scikit-learn.org. See: https://github.com/scikit-learn/scikit-learn/issues/21755 */display: inline-block !important;position: relative;}#sk-container-id-8 div.sk-text-repr-fallback {display: none;}</style><div id=\"sk-container-id-8\" class=\"sk-top-container\"><div class=\"sk-text-repr-fallback\"><pre>GridSearchCV(cv=5, estimator=RandomForestRegressor(), n_jobs=-1,\n",
       "             param_grid={&#x27;max_depth&#x27;: [100], &#x27;max_features&#x27;: [0.7, 0.8, 0.9],\n",
       "                         &#x27;min_samples_leaf&#x27;: [3, 5],\n",
       "                         &#x27;min_samples_split&#x27;: [8, 12], &#x27;n_estimators&#x27;: [100]},\n",
       "             verbose=2)</pre><b>In a Jupyter environment, please rerun this cell to show the HTML representation or trust the notebook. <br />On GitHub, the HTML representation is unable to render, please try loading this page with nbviewer.org.</b></div><div class=\"sk-container\" hidden><div class=\"sk-item sk-dashed-wrapped\"><div class=\"sk-label-container\"><div class=\"sk-label sk-toggleable\"><input class=\"sk-toggleable__control sk-hidden--visually\" id=\"sk-estimator-id-14\" type=\"checkbox\" ><label for=\"sk-estimator-id-14\" class=\"sk-toggleable__label sk-toggleable__label-arrow\">GridSearchCV</label><div class=\"sk-toggleable__content\"><pre>GridSearchCV(cv=5, estimator=RandomForestRegressor(), n_jobs=-1,\n",
       "             param_grid={&#x27;max_depth&#x27;: [100], &#x27;max_features&#x27;: [0.7, 0.8, 0.9],\n",
       "                         &#x27;min_samples_leaf&#x27;: [3, 5],\n",
       "                         &#x27;min_samples_split&#x27;: [8, 12], &#x27;n_estimators&#x27;: [100]},\n",
       "             verbose=2)</pre></div></div></div><div class=\"sk-parallel\"><div class=\"sk-parallel-item\"><div class=\"sk-item\"><div class=\"sk-label-container\"><div class=\"sk-label sk-toggleable\"><input class=\"sk-toggleable__control sk-hidden--visually\" id=\"sk-estimator-id-15\" type=\"checkbox\" ><label for=\"sk-estimator-id-15\" class=\"sk-toggleable__label sk-toggleable__label-arrow\">estimator: RandomForestRegressor</label><div class=\"sk-toggleable__content\"><pre>RandomForestRegressor()</pre></div></div></div><div class=\"sk-serial\"><div class=\"sk-item\"><div class=\"sk-estimator sk-toggleable\"><input class=\"sk-toggleable__control sk-hidden--visually\" id=\"sk-estimator-id-16\" type=\"checkbox\" ><label for=\"sk-estimator-id-16\" class=\"sk-toggleable__label sk-toggleable__label-arrow\">RandomForestRegressor</label><div class=\"sk-toggleable__content\"><pre>RandomForestRegressor()</pre></div></div></div></div></div></div></div></div></div></div>"
      ],
      "text/plain": [
       "GridSearchCV(cv=5, estimator=RandomForestRegressor(), n_jobs=-1,\n",
       "             param_grid={'max_depth': [100], 'max_features': [0.7, 0.8, 0.9],\n",
       "                         'min_samples_leaf': [3, 5],\n",
       "                         'min_samples_split': [8, 12], 'n_estimators': [100]},\n",
       "             verbose=2)"
      ]
     },
     "execution_count": 78,
     "metadata": {},
     "output_type": "execute_result"
    }
   ],
   "source": [
    "grid_search_rf.fit(X_train[:,feat_mask],y_train)"
   ]
  },
  {
   "cell_type": "code",
   "execution_count": 80,
   "metadata": {},
   "outputs": [
    {
     "data": {
      "text/html": [
       "<style>#sk-container-id-9 {color: black;background-color: white;}#sk-container-id-9 pre{padding: 0;}#sk-container-id-9 div.sk-toggleable {background-color: white;}#sk-container-id-9 label.sk-toggleable__label {cursor: pointer;display: block;width: 100%;margin-bottom: 0;padding: 0.3em;box-sizing: border-box;text-align: center;}#sk-container-id-9 label.sk-toggleable__label-arrow:before {content: \"▸\";float: left;margin-right: 0.25em;color: #696969;}#sk-container-id-9 label.sk-toggleable__label-arrow:hover:before {color: black;}#sk-container-id-9 div.sk-estimator:hover label.sk-toggleable__label-arrow:before {color: black;}#sk-container-id-9 div.sk-toggleable__content {max-height: 0;max-width: 0;overflow: hidden;text-align: left;background-color: #f0f8ff;}#sk-container-id-9 div.sk-toggleable__content pre {margin: 0.2em;color: black;border-radius: 0.25em;background-color: #f0f8ff;}#sk-container-id-9 input.sk-toggleable__control:checked~div.sk-toggleable__content {max-height: 200px;max-width: 100%;overflow: auto;}#sk-container-id-9 input.sk-toggleable__control:checked~label.sk-toggleable__label-arrow:before {content: \"▾\";}#sk-container-id-9 div.sk-estimator input.sk-toggleable__control:checked~label.sk-toggleable__label {background-color: #d4ebff;}#sk-container-id-9 div.sk-label input.sk-toggleable__control:checked~label.sk-toggleable__label {background-color: #d4ebff;}#sk-container-id-9 input.sk-hidden--visually {border: 0;clip: rect(1px 1px 1px 1px);clip: rect(1px, 1px, 1px, 1px);height: 1px;margin: -1px;overflow: hidden;padding: 0;position: absolute;width: 1px;}#sk-container-id-9 div.sk-estimator {font-family: monospace;background-color: #f0f8ff;border: 1px dotted black;border-radius: 0.25em;box-sizing: border-box;margin-bottom: 0.5em;}#sk-container-id-9 div.sk-estimator:hover {background-color: #d4ebff;}#sk-container-id-9 div.sk-parallel-item::after {content: \"\";width: 100%;border-bottom: 1px solid gray;flex-grow: 1;}#sk-container-id-9 div.sk-label:hover label.sk-toggleable__label {background-color: #d4ebff;}#sk-container-id-9 div.sk-serial::before {content: \"\";position: absolute;border-left: 1px solid gray;box-sizing: border-box;top: 0;bottom: 0;left: 50%;z-index: 0;}#sk-container-id-9 div.sk-serial {display: flex;flex-direction: column;align-items: center;background-color: white;padding-right: 0.2em;padding-left: 0.2em;position: relative;}#sk-container-id-9 div.sk-item {position: relative;z-index: 1;}#sk-container-id-9 div.sk-parallel {display: flex;align-items: stretch;justify-content: center;background-color: white;position: relative;}#sk-container-id-9 div.sk-item::before, #sk-container-id-9 div.sk-parallel-item::before {content: \"\";position: absolute;border-left: 1px solid gray;box-sizing: border-box;top: 0;bottom: 0;left: 50%;z-index: -1;}#sk-container-id-9 div.sk-parallel-item {display: flex;flex-direction: column;z-index: 1;position: relative;background-color: white;}#sk-container-id-9 div.sk-parallel-item:first-child::after {align-self: flex-end;width: 50%;}#sk-container-id-9 div.sk-parallel-item:last-child::after {align-self: flex-start;width: 50%;}#sk-container-id-9 div.sk-parallel-item:only-child::after {width: 0;}#sk-container-id-9 div.sk-dashed-wrapped {border: 1px dashed gray;margin: 0 0.4em 0.5em 0.4em;box-sizing: border-box;padding-bottom: 0.4em;background-color: white;}#sk-container-id-9 div.sk-label label {font-family: monospace;font-weight: bold;display: inline-block;line-height: 1.2em;}#sk-container-id-9 div.sk-label-container {text-align: center;}#sk-container-id-9 div.sk-container {/* jupyter's `normalize.less` sets `[hidden] { display: none; }` but bootstrap.min.css set `[hidden] { display: none !important; }` so we also need the `!important` here to be able to override the default hidden behavior on the sphinx rendered scikit-learn.org. See: https://github.com/scikit-learn/scikit-learn/issues/21755 */display: inline-block !important;position: relative;}#sk-container-id-9 div.sk-text-repr-fallback {display: none;}</style><div id=\"sk-container-id-9\" class=\"sk-top-container\"><div class=\"sk-text-repr-fallback\"><pre>RandomForestRegressor(max_depth=100, max_features=0.8, min_samples_leaf=3,\n",
       "                      min_samples_split=8)</pre><b>In a Jupyter environment, please rerun this cell to show the HTML representation or trust the notebook. <br />On GitHub, the HTML representation is unable to render, please try loading this page with nbviewer.org.</b></div><div class=\"sk-container\" hidden><div class=\"sk-item\"><div class=\"sk-estimator sk-toggleable\"><input class=\"sk-toggleable__control sk-hidden--visually\" id=\"sk-estimator-id-17\" type=\"checkbox\" checked><label for=\"sk-estimator-id-17\" class=\"sk-toggleable__label sk-toggleable__label-arrow\">RandomForestRegressor</label><div class=\"sk-toggleable__content\"><pre>RandomForestRegressor(max_depth=100, max_features=0.8, min_samples_leaf=3,\n",
       "                      min_samples_split=8)</pre></div></div></div></div></div>"
      ],
      "text/plain": [
       "RandomForestRegressor(max_depth=100, max_features=0.8, min_samples_leaf=3,\n",
       "                      min_samples_split=8)"
      ]
     },
     "execution_count": 80,
     "metadata": {},
     "output_type": "execute_result"
    }
   ],
   "source": [
    "grid_search_rf.best_estimator_"
   ]
  },
  {
   "cell_type": "code",
   "execution_count": 68,
   "metadata": {},
   "outputs": [],
   "source": [
    "#Good model\n",
    "RF = RandomForestRegressor(max_depth=100, max_features=0.7, min_samples_leaf=3,min_samples_split=8)"
   ]
  },
  {
   "cell_type": "code",
   "execution_count": 69,
   "metadata": {},
   "outputs": [
    {
     "data": {
      "text/html": [
       "<style>#sk-container-id-7 {color: black;background-color: white;}#sk-container-id-7 pre{padding: 0;}#sk-container-id-7 div.sk-toggleable {background-color: white;}#sk-container-id-7 label.sk-toggleable__label {cursor: pointer;display: block;width: 100%;margin-bottom: 0;padding: 0.3em;box-sizing: border-box;text-align: center;}#sk-container-id-7 label.sk-toggleable__label-arrow:before {content: \"▸\";float: left;margin-right: 0.25em;color: #696969;}#sk-container-id-7 label.sk-toggleable__label-arrow:hover:before {color: black;}#sk-container-id-7 div.sk-estimator:hover label.sk-toggleable__label-arrow:before {color: black;}#sk-container-id-7 div.sk-toggleable__content {max-height: 0;max-width: 0;overflow: hidden;text-align: left;background-color: #f0f8ff;}#sk-container-id-7 div.sk-toggleable__content pre {margin: 0.2em;color: black;border-radius: 0.25em;background-color: #f0f8ff;}#sk-container-id-7 input.sk-toggleable__control:checked~div.sk-toggleable__content {max-height: 200px;max-width: 100%;overflow: auto;}#sk-container-id-7 input.sk-toggleable__control:checked~label.sk-toggleable__label-arrow:before {content: \"▾\";}#sk-container-id-7 div.sk-estimator input.sk-toggleable__control:checked~label.sk-toggleable__label {background-color: #d4ebff;}#sk-container-id-7 div.sk-label input.sk-toggleable__control:checked~label.sk-toggleable__label {background-color: #d4ebff;}#sk-container-id-7 input.sk-hidden--visually {border: 0;clip: rect(1px 1px 1px 1px);clip: rect(1px, 1px, 1px, 1px);height: 1px;margin: -1px;overflow: hidden;padding: 0;position: absolute;width: 1px;}#sk-container-id-7 div.sk-estimator {font-family: monospace;background-color: #f0f8ff;border: 1px dotted black;border-radius: 0.25em;box-sizing: border-box;margin-bottom: 0.5em;}#sk-container-id-7 div.sk-estimator:hover {background-color: #d4ebff;}#sk-container-id-7 div.sk-parallel-item::after {content: \"\";width: 100%;border-bottom: 1px solid gray;flex-grow: 1;}#sk-container-id-7 div.sk-label:hover label.sk-toggleable__label {background-color: #d4ebff;}#sk-container-id-7 div.sk-serial::before {content: \"\";position: absolute;border-left: 1px solid gray;box-sizing: border-box;top: 0;bottom: 0;left: 50%;z-index: 0;}#sk-container-id-7 div.sk-serial {display: flex;flex-direction: column;align-items: center;background-color: white;padding-right: 0.2em;padding-left: 0.2em;position: relative;}#sk-container-id-7 div.sk-item {position: relative;z-index: 1;}#sk-container-id-7 div.sk-parallel {display: flex;align-items: stretch;justify-content: center;background-color: white;position: relative;}#sk-container-id-7 div.sk-item::before, #sk-container-id-7 div.sk-parallel-item::before {content: \"\";position: absolute;border-left: 1px solid gray;box-sizing: border-box;top: 0;bottom: 0;left: 50%;z-index: -1;}#sk-container-id-7 div.sk-parallel-item {display: flex;flex-direction: column;z-index: 1;position: relative;background-color: white;}#sk-container-id-7 div.sk-parallel-item:first-child::after {align-self: flex-end;width: 50%;}#sk-container-id-7 div.sk-parallel-item:last-child::after {align-self: flex-start;width: 50%;}#sk-container-id-7 div.sk-parallel-item:only-child::after {width: 0;}#sk-container-id-7 div.sk-dashed-wrapped {border: 1px dashed gray;margin: 0 0.4em 0.5em 0.4em;box-sizing: border-box;padding-bottom: 0.4em;background-color: white;}#sk-container-id-7 div.sk-label label {font-family: monospace;font-weight: bold;display: inline-block;line-height: 1.2em;}#sk-container-id-7 div.sk-label-container {text-align: center;}#sk-container-id-7 div.sk-container {/* jupyter's `normalize.less` sets `[hidden] { display: none; }` but bootstrap.min.css set `[hidden] { display: none !important; }` so we also need the `!important` here to be able to override the default hidden behavior on the sphinx rendered scikit-learn.org. See: https://github.com/scikit-learn/scikit-learn/issues/21755 */display: inline-block !important;position: relative;}#sk-container-id-7 div.sk-text-repr-fallback {display: none;}</style><div id=\"sk-container-id-7\" class=\"sk-top-container\"><div class=\"sk-text-repr-fallback\"><pre>RandomForestRegressor(max_depth=100, max_features=0.7, min_samples_leaf=3,\n",
       "                      min_samples_split=8)</pre><b>In a Jupyter environment, please rerun this cell to show the HTML representation or trust the notebook. <br />On GitHub, the HTML representation is unable to render, please try loading this page with nbviewer.org.</b></div><div class=\"sk-container\" hidden><div class=\"sk-item\"><div class=\"sk-estimator sk-toggleable\"><input class=\"sk-toggleable__control sk-hidden--visually\" id=\"sk-estimator-id-13\" type=\"checkbox\" checked><label for=\"sk-estimator-id-13\" class=\"sk-toggleable__label sk-toggleable__label-arrow\">RandomForestRegressor</label><div class=\"sk-toggleable__content\"><pre>RandomForestRegressor(max_depth=100, max_features=0.7, min_samples_leaf=3,\n",
       "                      min_samples_split=8)</pre></div></div></div></div></div>"
      ],
      "text/plain": [
       "RandomForestRegressor(max_depth=100, max_features=0.7, min_samples_leaf=3,\n",
       "                      min_samples_split=8)"
      ]
     },
     "execution_count": 69,
     "metadata": {},
     "output_type": "execute_result"
    }
   ],
   "source": [
    "RF.fit(X_train,y_train)"
   ]
  },
  {
   "cell_type": "code",
   "execution_count": 81,
   "metadata": {},
   "outputs": [],
   "source": [
    "y_train_pred_rf=grid_search_rf.predict(X_train[:,feat_mask])"
   ]
  },
  {
   "cell_type": "code",
   "execution_count": 82,
   "metadata": {},
   "outputs": [
    {
     "name": "stdout",
     "output_type": "stream",
     "text": [
      "MSE train RandomForest= 17753.462957505293\n"
     ]
    }
   ],
   "source": [
    "print('MSE train RandomForest=' , mean_squared_error(y_train,y_train_pred_rf, squared=False))"
   ]
  },
  {
   "cell_type": "code",
   "execution_count": 83,
   "metadata": {},
   "outputs": [],
   "source": [
    "y_test_pred_rf=grid_search_rf.predict(X_test[:,feat_mask])"
   ]
  },
  {
   "cell_type": "code",
   "execution_count": 84,
   "metadata": {},
   "outputs": [
    {
     "name": "stdout",
     "output_type": "stream",
     "text": [
      "MSE test RandomForest= 27427.19481045709\n"
     ]
    }
   ],
   "source": [
    "print('MSE test RandomForest=' , mean_squared_error(y_test,y_test_pred_rf, squared=False))"
   ]
  },
  {
   "cell_type": "code",
   "execution_count": null,
   "metadata": {},
   "outputs": [],
   "source": [
    "enc_cat_features = full_processor.named_transformers_['string']['encode'].get_feature_names_out()"
   ]
  },
  {
   "cell_type": "code",
   "execution_count": 70,
   "metadata": {},
   "outputs": [
    {
     "data": {
      "text/plain": [
       "array([2.07182931e-03, 4.91281030e-03, 1.09953799e-02, 4.77545427e-01,\n",
       "       3.63929008e-03, 1.43780531e-02, 1.00304026e-02, 5.17630526e-03,\n",
       "       2.48273510e-02, 0.00000000e+00, 4.87528752e-03, 4.67961953e-02,\n",
       "       3.31250601e-02, 1.49482810e-02, 0.00000000e+00, 1.20790397e-01,\n",
       "       8.26394828e-04, 0.00000000e+00, 1.52197641e-02, 1.10710772e-03,\n",
       "       2.39163721e-03, 0.00000000e+00, 6.17953231e-03, 3.97185889e-03,\n",
       "       4.99487915e-03, 1.01686255e-01, 1.76351930e-02, 4.64822079e-03,\n",
       "       4.15014984e-03, 0.00000000e+00, 0.00000000e+00, 0.00000000e+00,\n",
       "       0.00000000e+00, 0.00000000e+00, 2.96549521e-03, 1.28681411e-03,\n",
       "       4.85766887e-05, 0.00000000e+00, 4.06214020e-04, 1.13216118e-03,\n",
       "       0.00000000e+00, 9.67418813e-07, 1.14572269e-03, 6.14684106e-04,\n",
       "       0.00000000e+00, 7.25169136e-05, 0.00000000e+00, 7.05712200e-04,\n",
       "       2.82162552e-04, 2.39768391e-04, 6.02423502e-04, 0.00000000e+00,\n",
       "       1.22878032e-04, 4.94773023e-07, 0.00000000e+00, 4.53406624e-04,\n",
       "       1.36299284e-04, 0.00000000e+00, 0.00000000e+00, 5.65499107e-05,\n",
       "       3.31832597e-05, 2.91246355e-04, 1.68619802e-04, 7.25234393e-04,\n",
       "       1.95164972e-04, 7.49506007e-05, 1.09103965e-04, 1.24572659e-05,\n",
       "       9.12175988e-06, 1.02896935e-04, 0.00000000e+00, 7.62960751e-05,\n",
       "       3.96643079e-04, 3.11613908e-04, 9.56352243e-05, 2.69637549e-06,\n",
       "       6.44376497e-05, 3.19087091e-07, 1.20735452e-04, 8.29201414e-05,\n",
       "       0.00000000e+00, 0.00000000e+00, 5.17286624e-05, 1.38264659e-03,\n",
       "       0.00000000e+00, 0.00000000e+00, 1.66212475e-06, 0.00000000e+00,\n",
       "       0.00000000e+00, 0.00000000e+00, 0.00000000e+00, 0.00000000e+00,\n",
       "       0.00000000e+00, 0.00000000e+00, 0.00000000e+00, 0.00000000e+00,\n",
       "       0.00000000e+00, 3.32217473e-05, 3.95601563e-05, 1.41564131e-05,\n",
       "       0.00000000e+00, 1.32623188e-04, 0.00000000e+00, 0.00000000e+00,\n",
       "       4.74491457e-04, 1.13795969e-06, 8.52222622e-05, 3.20626515e-04,\n",
       "       0.00000000e+00, 2.62568829e-04, 0.00000000e+00, 0.00000000e+00,\n",
       "       4.37181083e-05, 0.00000000e+00, 0.00000000e+00, 0.00000000e+00,\n",
       "       0.00000000e+00, 0.00000000e+00, 0.00000000e+00, 0.00000000e+00,\n",
       "       6.60847291e-05, 0.00000000e+00, 7.82778252e-05, 2.80573863e-05,\n",
       "       0.00000000e+00, 1.28335531e-04, 1.59074919e-04, 0.00000000e+00,\n",
       "       0.00000000e+00, 3.44086492e-04, 1.87383887e-04, 0.00000000e+00,\n",
       "       0.00000000e+00, 0.00000000e+00, 0.00000000e+00, 0.00000000e+00,\n",
       "       2.14509706e-05, 5.12385733e-05, 0.00000000e+00, 7.96174185e-05,\n",
       "       7.35612163e-05, 0.00000000e+00, 0.00000000e+00, 4.40115948e-04,\n",
       "       4.20866961e-05, 2.29039578e-05, 2.56882218e-04, 6.11466148e-04,\n",
       "       7.02156709e-04, 0.00000000e+00, 8.09268376e-04, 1.31398950e-02,\n",
       "       8.81275348e-05, 1.09584488e-04, 0.00000000e+00, 1.40762746e-04,\n",
       "       2.05420325e-04, 3.80324439e-04, 1.28011796e-05, 0.00000000e+00,\n",
       "       0.00000000e+00, 2.79767234e-06, 1.96748980e-03, 8.09513125e-04,\n",
       "       0.00000000e+00, 8.82313374e-07, 0.00000000e+00, 1.31320173e-04,\n",
       "       1.02197973e-05, 1.09362851e-03, 6.01195359e-05, 9.41670263e-04,\n",
       "       1.52675121e-05, 9.52108966e-05, 1.06322230e-03, 5.08107828e-07,\n",
       "       4.81159316e-05, 1.97730173e-04, 2.45492575e-05, 1.25075220e-05,\n",
       "       0.00000000e+00, 1.67108609e-05, 0.00000000e+00, 5.32776304e-05,\n",
       "       3.32273273e-05, 7.20171717e-05, 1.62621370e-05, 0.00000000e+00,\n",
       "       0.00000000e+00, 0.00000000e+00, 1.11924613e-04, 1.23947996e-04,\n",
       "       3.54703554e-04, 2.41618531e-03, 2.48876108e-06, 0.00000000e+00,\n",
       "       0.00000000e+00, 1.08190948e-04, 4.10671287e-06, 2.09833199e-03,\n",
       "       1.04873410e-03, 0.00000000e+00, 0.00000000e+00, 9.81238632e-06,\n",
       "       0.00000000e+00, 7.55680188e-05, 5.10309662e-06, 7.60827809e-04,\n",
       "       4.16265695e-05, 1.94887813e-04, 3.95765714e-03, 2.50815786e-03,\n",
       "       0.00000000e+00, 1.16564844e-04, 4.25554540e-06, 3.17842988e-03,\n",
       "       2.17687964e-05, 6.84872525e-04, 8.88170617e-04, 1.18417669e-05,\n",
       "       3.38212855e-05, 0.00000000e+00, 0.00000000e+00, 6.62722482e-04,\n",
       "       2.07373723e-05, 3.60150192e-05, 0.00000000e+00, 0.00000000e+00,\n",
       "       4.31915332e-04, 1.00228787e-05, 2.63769357e-06, 1.12515698e-04,\n",
       "       2.44076450e-05, 3.12101060e-05, 0.00000000e+00, 1.11636456e-04,\n",
       "       0.00000000e+00, 0.00000000e+00, 0.00000000e+00, 0.00000000e+00,\n",
       "       0.00000000e+00, 8.26874838e-04, 0.00000000e+00, 2.13861431e-04,\n",
       "       0.00000000e+00, 6.53411492e-06, 7.38317397e-05, 4.80109959e-04,\n",
       "       4.35223658e-04])"
      ]
     },
     "execution_count": 70,
     "metadata": {},
     "output_type": "execute_result"
    }
   ],
   "source": [
    "RF.feature_importances_"
   ]
  },
  {
   "cell_type": "code",
   "execution_count": 62,
   "metadata": {},
   "outputs": [
    {
     "data": {
      "image/png": "[encoded data removed]",
      "text/plain": [
       "<Figure size 1300x800 with 1 Axes>"
      ]
     },
     "metadata": {},
     "output_type": "display_data"
    }
   ],
   "source": [
    "plt.figure(figsize=(13, 8))\n",
    "caract = X_train.shape[1]\n",
    "plt.barh(range(caract), RF.feature_importances_)\n",
    "plt.yticks(np.arange(caract)) #,X_train.columns)\n",
    "plt.xlabel('Features Importance')\n",
    "plt.ylabel('Features')\n",
    "plt.title('Features Importance', fontsize=20)\n",
    "plt.show()"
   ]
  },
  {
   "cell_type": "code",
   "execution_count": 71,
   "metadata": {},
   "outputs": [
    {
     "data": {
      "text/plain": [
       "array([0.00207183, 0.00491281, 0.01099538, 0.47754543, 0.00363929,\n",
       "       0.01437805, 0.0100304 , 0.00517631, 0.02482735, 0.00487529,\n",
       "       0.0467962 , 0.03312506, 0.01494828, 0.1207904 , 0.01521976,\n",
       "       0.00110711, 0.00239164, 0.00617953, 0.00397186, 0.00499488,\n",
       "       0.10168626, 0.01763519, 0.00464822, 0.00415015, 0.0029655 ,\n",
       "       0.00128681, 0.00113216, 0.00114572, 0.00138265, 0.0131399 ,\n",
       "       0.00196749, 0.00109363, 0.00106322, 0.00241619, 0.00209833,\n",
       "       0.00104873, 0.00395766, 0.00250816, 0.00317843])"
      ]
     },
     "execution_count": 71,
     "metadata": {},
     "output_type": "execute_result"
    }
   ],
   "source": [
    "RF.feature_importances_[RF.feature_importances_>0.001]"
   ]
  },
  {
   "cell_type": "code",
   "execution_count": 76,
   "metadata": {},
   "outputs": [],
   "source": [
    "feat_mask = RF.feature_importances_>0.001"
   ]
  },
  {
   "cell_type": "code",
   "execution_count": 77,
   "metadata": {},
   "outputs": [
    {
     "data": {
      "text/plain": [
       "array([[ 0.14769578,  0.40865777,  0.42881282, ..., -0.96632025,\n",
       "         0.82350526, -0.60768814],\n",
       "       [ 0.14769578,  0.40865777,  0.43526651, ..., -0.96632025,\n",
       "         0.82350526, -0.60768814],\n",
       "       [ 1.7674955 , -1.77619489, -1.46492336, ...,  1.03485361,\n",
       "         0.82350526, -0.60768814],\n",
       "       ...,\n",
       "       [-0.9321707 ,  0.72077958,  0.15186548, ..., -0.96632025,\n",
       "         0.82350526, -0.60768814],\n",
       "       [ 0.4176624 , -1.77619489,  0.49924218, ..., -0.96632025,\n",
       "        -1.21432132,  1.6455809 ],\n",
       "       [-0.9321707 , -1.77619489,  1.01806248, ..., -0.96632025,\n",
       "         0.82350526, -0.60768814]])"
      ]
     },
     "execution_count": 77,
     "metadata": {},
     "output_type": "execute_result"
    }
   ],
   "source": [
    "X_train[:,feat_mask]"
   ]
  },
  {
   "cell_type": "code",
   "execution_count": 286,
   "metadata": {},
   "outputs": [
    {
     "data": {
      "text/plain": [
       "(1168, 45)"
      ]
     },
     "execution_count": 286,
     "metadata": {},
     "output_type": "execute_result"
    }
   ],
   "source": [
    "X_train[:,RF.feature_importances_>0.001].shape"
   ]
  },
  {
   "attachments": {},
   "cell_type": "markdown",
   "metadata": {},
   "source": [
    "#### XGboost"
   ]
  },
  {
   "cell_type": "code",
   "execution_count": 86,
   "metadata": {},
   "outputs": [],
   "source": [
    "from xgboost import XGBRegressor\n",
    "from sklearn.metrics import make_scorer"
   ]
  },
  {
   "cell_type": "code",
   "execution_count": 87,
   "metadata": {},
   "outputs": [],
   "source": [
    "param_dist = {\n",
    "    'n_estimators':[5,6,7,8],\n",
    "    'max_depth':[20,30,35], \n",
    "    'learning_rate':[0.3,0.4,0.5],\n",
    "    }\n",
    "#Create the lgbm moodel object\n",
    "bst = XGBRegressor(reg_lambda=2,reg_alpha=1)\n",
    "#Create the GridSearch object\n",
    "bst_grid = GridSearchCV(bst, param_dist,cv = 5, n_jobs = -1, verbose = 2)"
   ]
  },
  {
   "cell_type": "code",
   "execution_count": 88,
   "metadata": {},
   "outputs": [
    {
     "name": "stdout",
     "output_type": "stream",
     "text": [
      "Fitting 5 folds for each of 36 candidates, totalling 180 fits\n",
      "[CV] END ....learning_rate=0.3, max_depth=20, n_estimators=5; total time=   0.0s\n",
      "[CV] END ....learning_rate=0.3, max_depth=20, n_estimators=5; total time=   0.0s\n",
      "[CV] END ....learning_rate=0.3, max_depth=20, n_estimators=5; total time=   0.0s\n",
      "[CV] END ....learning_rate=0.3, max_depth=20, n_estimators=5; total time=   0.0s\n",
      "[CV] END ....learning_rate=0.3, max_depth=20, n_estimators=5; total time=   0.0s\n",
      "[CV] END ....learning_rate=0.3, max_depth=20, n_estimators=6; total time=   0.0s\n",
      "[CV] END ....learning_rate=0.3, max_depth=20, n_estimators=6; total time=   0.0s\n",
      "[CV] END ....learning_rate=0.3, max_depth=20, n_estimators=6; total time=   0.0s\n",
      "[CV] END ....learning_rate=0.3, max_depth=20, n_estimators=6; total time=   0.0s\n",
      "[CV] END ....learning_rate=0.3, max_depth=20, n_estimators=7; total time=   0.1s[CV] END ....learning_rate=0.3, max_depth=20, n_estimators=6; total time=   0.1s[CV] END ....learning_rate=0.3, max_depth=20, n_estimators=7; total time=   0.1s\n",
      "\n",
      "\n",
      "[CV] END ....learning_rate=0.3, max_depth=20, n_estimators=7; total time=   0.1s\n",
      "[CV] END ....learning_rate=0.3, max_depth=30, n_estimators=5; total time=   0.0s\n",
      "[CV] END ....learning_rate=0.3, max_depth=30, n_estimators=5; total time=   0.0s\n",
      "[CV] END ....learning_rate=0.3, max_depth=30, n_estimators=5; total time=   0.0s\n",
      "[CV] END ....learning_rate=0.3, max_depth=20, n_estimators=7; total time=   0.1s\n",
      "[CV] END ....learning_rate=0.3, max_depth=30, n_estimators=5; total time=   0.0s\n",
      "[CV] END ....learning_rate=0.3, max_depth=20, n_estimators=8; total time=   0.1s\n",
      "[CV] END ....learning_rate=0.3, max_depth=20, n_estimators=7; total time=   0.1s\n",
      "[CV] END ....learning_rate=0.3, max_depth=20, n_estimators=8; total time=   0.1s\n",
      "[CV] END ....learning_rate=0.3, max_depth=30, n_estimators=6; total time=   0.0s\n",
      "[CV] END ....learning_rate=0.3, max_depth=20, n_estimators=8; total time=   0.1s\n",
      "[CV] END ....learning_rate=0.3, max_depth=20, n_estimators=8; total time=   0.1s\n",
      "[CV] END ....learning_rate=0.3, max_depth=30, n_estimators=5; total time=   0.0s\n",
      "[CV] END ....learning_rate=0.3, max_depth=30, n_estimators=6; total time=   0.0s\n",
      "[CV] END ....learning_rate=0.3, max_depth=30, n_estimators=6; total time=   0.0s\n",
      "[CV] END ....learning_rate=0.3, max_depth=30, n_estimators=6; total time=   0.1s\n",
      "[CV] END ....learning_rate=0.3, max_depth=30, n_estimators=6; total time=   0.1s\n",
      "[CV] END ....learning_rate=0.3, max_depth=20, n_estimators=8; total time=   0.1s\n",
      "[CV] END ....learning_rate=0.3, max_depth=30, n_estimators=7; total time=   0.0s\n",
      "[CV] END ....learning_rate=0.3, max_depth=30, n_estimators=7; total time=   0.0s\n",
      "[CV] END ....learning_rate=0.3, max_depth=35, n_estimators=5; total time=   0.0s\n",
      "[CV] END ....learning_rate=0.3, max_depth=35, n_estimators=5; total time=   0.0s\n",
      "[CV] END ....learning_rate=0.3, max_depth=35, n_estimators=5; total time=   0.0s\n",
      "[CV] END ....learning_rate=0.3, max_depth=30, n_estimators=7; total time=   0.0s\n",
      "[CV] END ....learning_rate=0.3, max_depth=35, n_estimators=6; total time=   0.0s\n",
      "[CV] END ....learning_rate=0.3, max_depth=35, n_estimators=6; total time=   0.0s\n",
      "[CV] END ....learning_rate=0.3, max_depth=30, n_estimators=7; total time=   0.0s\n",
      "[CV] END ....learning_rate=0.3, max_depth=35, n_estimators=7; total time=   0.0s\n",
      "[CV] END ....learning_rate=0.3, max_depth=35, n_estimators=7; total time=   0.0s\n",
      "[CV] END ....learning_rate=0.3, max_depth=30, n_estimators=8; total time=   0.1s\n",
      "[CV] END ....learning_rate=0.4, max_depth=20, n_estimators=5; total time=   0.0s\n",
      "[CV] END ....learning_rate=0.3, max_depth=30, n_estimators=8; total time=   0.1s\n",
      "[CV] END ....learning_rate=0.4, max_depth=20, n_estimators=5; total time=   0.0s\n",
      "[CV] END ....learning_rate=0.3, max_depth=35, n_estimators=5; total time=   0.0s\n",
      "[CV] END ....learning_rate=0.3, max_depth=35, n_estimators=5; total time=   0.0s\n",
      "[CV] END ....learning_rate=0.3, max_depth=35, n_estimators=6; total time=   0.0s\n",
      "[CV] END ....learning_rate=0.3, max_depth=35, n_estimators=6; total time=   0.0s\n",
      "[CV] END ....learning_rate=0.3, max_depth=35, n_estimators=7; total time=   0.1s\n",
      "[CV] END ....learning_rate=0.3, max_depth=35, n_estimators=8; total time=   0.1s\n",
      "[CV] END ....learning_rate=0.3, max_depth=35, n_estimators=8; total time=   0.1s[CV] END ....learning_rate=0.3, max_depth=30, n_estimators=7; total time=   0.0s\n",
      "\n",
      "[CV] END ....learning_rate=0.3, max_depth=35, n_estimators=6; total time=   0.0s\n",
      "[CV] END ....learning_rate=0.4, max_depth=20, n_estimators=5; total time=   0.0s\n",
      "[CV] END ....learning_rate=0.4, max_depth=20, n_estimators=5; total time=   0.0s\n",
      "[CV] END ....learning_rate=0.3, max_depth=30, n_estimators=8; total time=   0.1s\n",
      "[CV] END ....learning_rate=0.3, max_depth=35, n_estimators=8; total time=   0.1s\n",
      "[CV] END ....learning_rate=0.3, max_depth=30, n_estimators=8; total time=   0.1s\n",
      "[CV] END ....learning_rate=0.3, max_depth=35, n_estimators=7; total time=   0.1s\n",
      "[CV] END ....learning_rate=0.4, max_depth=20, n_estimators=5; total time=   0.1s\n",
      "[CV] END ....learning_rate=0.3, max_depth=30, n_estimators=8; total time=   0.1s\n",
      "[CV] END ....learning_rate=0.4, max_depth=20, n_estimators=6; total time=   0.0s\n",
      "[CV] END ....learning_rate=0.3, max_depth=35, n_estimators=7; total time=   0.1s\n",
      "[CV] END ....learning_rate=0.3, max_depth=35, n_estimators=8; total time=   0.1s\n",
      "[CV] END ....learning_rate=0.4, max_depth=20, n_estimators=6; total time=   0.1s\n",
      "[CV] END ....learning_rate=0.3, max_depth=35, n_estimators=8; total time=   0.1s\n",
      "[CV] END ....learning_rate=0.4, max_depth=30, n_estimators=5; total time=   0.0s\n",
      "[CV] END ....learning_rate=0.4, max_depth=20, n_estimators=7; total time=   0.1s\n",
      "[CV] END ....learning_rate=0.4, max_depth=30, n_estimators=5; total time=   0.0s\n",
      "[CV] END ....learning_rate=0.4, max_depth=30, n_estimators=5; total time=   0.1s\n",
      "[CV] END ....learning_rate=0.4, max_depth=20, n_estimators=7; total time=   0.1s\n",
      "[CV] END ....learning_rate=0.4, max_depth=20, n_estimators=8; total time=   0.1s\n",
      "[CV] END ....learning_rate=0.4, max_depth=30, n_estimators=6; total time=   0.1s\n",
      "[CV] END ....learning_rate=0.4, max_depth=20, n_estimators=7; total time=   0.1s\n",
      "[CV] END ....learning_rate=0.4, max_depth=20, n_estimators=6; total time=   0.0s\n",
      "[CV] END ....learning_rate=0.4, max_depth=20, n_estimators=6; total time=   0.1s\n",
      "[CV] END ....learning_rate=0.4, max_depth=30, n_estimators=5; total time=   0.0s\n",
      "[CV] END ....learning_rate=0.4, max_depth=20, n_estimators=6; total time=   0.0s\n",
      "[CV] END ....learning_rate=0.4, max_depth=20, n_estimators=8; total time=   0.1s\n",
      "[CV] END ....learning_rate=0.4, max_depth=30, n_estimators=5; total time=   0.0s\n",
      "[CV] END ....learning_rate=0.4, max_depth=30, n_estimators=7; total time=   0.1s\n",
      "[CV] END ....learning_rate=0.4, max_depth=30, n_estimators=7; total time=   0.1s\n",
      "[CV] END ....learning_rate=0.4, max_depth=30, n_estimators=6; total time=   0.1s\n",
      "[CV] END ....learning_rate=0.4, max_depth=30, n_estimators=6; total time=   0.0s\n",
      "[CV] END ....learning_rate=0.4, max_depth=30, n_estimators=7; total time=   0.1s\n",
      "[CV] END ....learning_rate=0.4, max_depth=20, n_estimators=8; total time=   0.1s\n",
      "[CV] END ....learning_rate=0.4, max_depth=30, n_estimators=6; total time=   0.1s\n",
      "[CV] END ....learning_rate=0.4, max_depth=35, n_estimators=5; total time=   0.0s\n",
      "[CV] END ....learning_rate=0.4, max_depth=35, n_estimators=5; total time=   0.1s\n",
      "[CV] END ....learning_rate=0.4, max_depth=20, n_estimators=7; total time=   0.1s\n",
      "[CV] END ....learning_rate=0.4, max_depth=20, n_estimators=7; total time=   0.1s\n",
      "[CV] END ....learning_rate=0.4, max_depth=35, n_estimators=6; total time=   0.0s\n",
      "[CV] END ....learning_rate=0.4, max_depth=20, n_estimators=8; total time=   0.1s\n",
      "[CV] END ....learning_rate=0.4, max_depth=30, n_estimators=8; total time=   0.1s\n",
      "[CV] END ....learning_rate=0.4, max_depth=35, n_estimators=7; total time=   0.1s\n",
      "[CV] END ....learning_rate=0.4, max_depth=30, n_estimators=7; total time=   0.1s[CV] END ....learning_rate=0.4, max_depth=20, n_estimators=8; total time=   0.1s\n",
      "\n",
      "[CV] END ....learning_rate=0.4, max_depth=30, n_estimators=7; total time=   0.1s\n",
      "[CV] END ....learning_rate=0.4, max_depth=30, n_estimators=6; total time=   0.1s\n",
      "[CV] END ....learning_rate=0.4, max_depth=35, n_estimators=6; total time=   0.0s\n",
      "[CV] END ....learning_rate=0.4, max_depth=35, n_estimators=5; total time=   0.0s\n",
      "[CV] END ....learning_rate=0.5, max_depth=20, n_estimators=5; total time=   0.0s\n",
      "[CV] END ....learning_rate=0.5, max_depth=20, n_estimators=5; total time=   0.1s\n",
      "[CV] END ....learning_rate=0.4, max_depth=35, n_estimators=6; total time=   0.0s\n",
      "[CV] END ....learning_rate=0.4, max_depth=30, n_estimators=8; total time=   0.1s\n",
      "[CV] END ....learning_rate=0.4, max_depth=35, n_estimators=8; total time=   0.1s\n",
      "[CV] END ....learning_rate=0.5, max_depth=20, n_estimators=6; total time=   0.1s\n",
      "[CV] END ....learning_rate=0.4, max_depth=35, n_estimators=5; total time=   0.0s\n",
      "[CV] END ....learning_rate=0.4, max_depth=35, n_estimators=7; total time=   0.1s\n",
      "[CV] END ....learning_rate=0.4, max_depth=35, n_estimators=6; total time=   0.0s\n",
      "[CV] END ....learning_rate=0.4, max_depth=30, n_estimators=8; total time=   0.1s\n",
      "[CV] END ....learning_rate=0.5, max_depth=20, n_estimators=7; total time=   0.1s\n",
      "[CV] END ....learning_rate=0.5, max_depth=30, n_estimators=6; total time=   0.1s\n",
      "[CV] END ....learning_rate=0.5, max_depth=30, n_estimators=5; total time=   0.1s\n",
      "[CV] END ....learning_rate=0.5, max_depth=30, n_estimators=7; total time=   0.1s\n",
      "[CV] END ....learning_rate=0.5, max_depth=30, n_estimators=5; total time=   0.1s\n",
      "[CV] END ....learning_rate=0.4, max_depth=35, n_estimators=7; total time=   0.1s[CV] END ....learning_rate=0.4, max_depth=35, n_estimators=5; total time=   0.0s\n",
      "\n",
      "[CV] END ....learning_rate=0.5, max_depth=20, n_estimators=8; total time=   0.1s\n",
      "[CV] END ....learning_rate=0.5, max_depth=20, n_estimators=6; total time=   0.1s\n",
      "[CV] END ....learning_rate=0.5, max_depth=20, n_estimators=6; total time=   0.1s\n",
      "[CV] END ....learning_rate=0.5, max_depth=20, n_estimators=5; total time=   0.1s\n",
      "[CV] END ....learning_rate=0.4, max_depth=35, n_estimators=8; total time=   0.1s\n",
      "[CV] END ....learning_rate=0.4, max_depth=35, n_estimators=6; total time=   0.0s\n",
      "[CV] END ....learning_rate=0.4, max_depth=35, n_estimators=7; total time=   0.1s\n",
      "[CV] END ....learning_rate=0.5, max_depth=30, n_estimators=8; total time=   0.1s\n",
      "[CV] END ....learning_rate=0.5, max_depth=30, n_estimators=6; total time=   0.1s\n",
      "[CV] END ....learning_rate=0.5, max_depth=35, n_estimators=5; total time=   0.0s\n",
      "[CV] END ....learning_rate=0.5, max_depth=30, n_estimators=7; total time=   0.1s\n",
      "[CV] END ....learning_rate=0.5, max_depth=20, n_estimators=5; total time=   0.0s\n",
      "[CV] END ....learning_rate=0.5, max_depth=20, n_estimators=7; total time=   0.1s\n",
      "[CV] END ....learning_rate=0.5, max_depth=30, n_estimators=6; total time=   0.1s[CV] END ....learning_rate=0.4, max_depth=35, n_estimators=7; total time=   0.1s\n",
      "\n",
      "[CV] END ....learning_rate=0.5, max_depth=35, n_estimators=5; total time=   0.0s\n",
      "[CV] END ....learning_rate=0.5, max_depth=30, n_estimators=5; total time=   0.1s\n",
      "[CV] END ....learning_rate=0.5, max_depth=20, n_estimators=7; total time=   0.1s\n",
      "[CV] END ....learning_rate=0.5, max_depth=20, n_estimators=6; total time=   0.1s\n",
      "[CV] END ....learning_rate=0.4, max_depth=35, n_estimators=8; total time=   0.1s[CV] END ....learning_rate=0.4, max_depth=30, n_estimators=8; total time=   0.1s\n",
      "\n",
      "[CV] END ....learning_rate=0.5, max_depth=35, n_estimators=5; total time=   0.0s\n",
      "[CV] END ....learning_rate=0.5, max_depth=20, n_estimators=8; total time=   0.1s\n",
      "[CV] END ....learning_rate=0.5, max_depth=20, n_estimators=5; total time=   0.0s\n",
      "[CV] END ....learning_rate=0.4, max_depth=35, n_estimators=8; total time=   0.1s\n",
      "[CV] END ....learning_rate=0.5, max_depth=35, n_estimators=5; total time=   0.0s\n",
      "[CV] END ....learning_rate=0.5, max_depth=35, n_estimators=5; total time=   0.0s\n",
      "[CV] END ....learning_rate=0.5, max_depth=30, n_estimators=7; total time=   0.1s\n",
      "[CV] END ....learning_rate=0.5, max_depth=30, n_estimators=8; total time=   0.1s\n",
      "[CV] END ....learning_rate=0.5, max_depth=30, n_estimators=7; total time=   0.1s\n",
      "[CV] END ....learning_rate=0.5, max_depth=30, n_estimators=6; total time=   0.1s\n",
      "[CV] END ....learning_rate=0.5, max_depth=20, n_estimators=7; total time=   0.1s\n",
      "[CV] END ....learning_rate=0.5, max_depth=20, n_estimators=7; total time=   0.1s\n",
      "[CV] END ....learning_rate=0.5, max_depth=20, n_estimators=6; total time=   0.1s\n",
      "[CV] END ....learning_rate=0.5, max_depth=35, n_estimators=6; total time=   0.1s\n",
      "[CV] END ....learning_rate=0.5, max_depth=30, n_estimators=5; total time=   0.1s\n",
      "[CV] END ....learning_rate=0.4, max_depth=35, n_estimators=8; total time=   0.1s\n",
      "[CV] END ....learning_rate=0.5, max_depth=35, n_estimators=6; total time=   0.1s\n",
      "[CV] END ....learning_rate=0.5, max_depth=35, n_estimators=6; total time=   0.1s\n",
      "[CV] END ....learning_rate=0.5, max_depth=35, n_estimators=6; total time=   0.1s\n",
      "[CV] END ....learning_rate=0.4, max_depth=30, n_estimators=8; total time=   0.1s\n",
      "[CV] END ....learning_rate=0.5, max_depth=30, n_estimators=7; total time=   0.1s\n",
      "[CV] END ....learning_rate=0.5, max_depth=20, n_estimators=8; total time=   0.1s\n",
      "[CV] END ....learning_rate=0.5, max_depth=30, n_estimators=8; total time=   0.1s\n",
      "[CV] END ....learning_rate=0.5, max_depth=30, n_estimators=8; total time=   0.1s\n",
      "[CV] END ....learning_rate=0.5, max_depth=35, n_estimators=7; total time=   0.1s\n",
      "[CV] END ....learning_rate=0.5, max_depth=35, n_estimators=6; total time=   0.1s\n",
      "[CV] END ....learning_rate=0.5, max_depth=30, n_estimators=6; total time=   0.1s\n",
      "[CV] END ....learning_rate=0.5, max_depth=30, n_estimators=5; total time=   0.1s\n",
      "[CV] END ....learning_rate=0.5, max_depth=35, n_estimators=7; total time=   0.1s\n",
      "[CV] END ....learning_rate=0.5, max_depth=35, n_estimators=7; total time=   0.1s\n",
      "[CV] END ....learning_rate=0.5, max_depth=35, n_estimators=7; total time=   0.1s\n",
      "[CV] END ....learning_rate=0.5, max_depth=20, n_estimators=8; total time=   0.1s\n",
      "[CV] END ....learning_rate=0.5, max_depth=35, n_estimators=7; total time=   0.1s\n",
      "[CV] END ....learning_rate=0.5, max_depth=35, n_estimators=8; total time=   0.1s\n",
      "[CV] END ....learning_rate=0.5, max_depth=35, n_estimators=8; total time=   0.1s\n",
      "[CV] END ....learning_rate=0.5, max_depth=35, n_estimators=8; total time=   0.1s\n",
      "[CV] END ....learning_rate=0.5, max_depth=20, n_estimators=8; total time=   0.1s\n",
      "[CV] END ....learning_rate=0.5, max_depth=35, n_estimators=8; total time=   0.1s\n",
      "[CV] END ....learning_rate=0.5, max_depth=30, n_estimators=8; total time=   0.1s\n",
      "[CV] END ....learning_rate=0.5, max_depth=35, n_estimators=8; total time=   0.1s\n"
     ]
    },
    {
     "data": {
      "text/html": [
       "<style>#sk-container-id-10 {color: black;background-color: white;}#sk-container-id-10 pre{padding: 0;}#sk-container-id-10 div.sk-toggleable {background-color: white;}#sk-container-id-10 label.sk-toggleable__label {cursor: pointer;display: block;width: 100%;margin-bottom: 0;padding: 0.3em;box-sizing: border-box;text-align: center;}#sk-container-id-10 label.sk-toggleable__label-arrow:before {content: \"▸\";float: left;margin-right: 0.25em;color: #696969;}#sk-container-id-10 label.sk-toggleable__label-arrow:hover:before {color: black;}#sk-container-id-10 div.sk-estimator:hover label.sk-toggleable__label-arrow:before {color: black;}#sk-container-id-10 div.sk-toggleable__content {max-height: 0;max-width: 0;overflow: hidden;text-align: left;background-color: #f0f8ff;}#sk-container-id-10 div.sk-toggleable__content pre {margin: 0.2em;color: black;border-radius: 0.25em;background-color: #f0f8ff;}#sk-container-id-10 input.sk-toggleable__control:checked~div.sk-toggleable__content {max-height: 200px;max-width: 100%;overflow: auto;}#sk-container-id-10 input.sk-toggleable__control:checked~label.sk-toggleable__label-arrow:before {content: \"▾\";}#sk-container-id-10 div.sk-estimator input.sk-toggleable__control:checked~label.sk-toggleable__label {background-color: #d4ebff;}#sk-container-id-10 div.sk-label input.sk-toggleable__control:checked~label.sk-toggleable__label {background-color: #d4ebff;}#sk-container-id-10 input.sk-hidden--visually {border: 0;clip: rect(1px 1px 1px 1px);clip: rect(1px, 1px, 1px, 1px);height: 1px;margin: -1px;overflow: hidden;padding: 0;position: absolute;width: 1px;}#sk-container-id-10 div.sk-estimator {font-family: monospace;background-color: #f0f8ff;border: 1px dotted black;border-radius: 0.25em;box-sizing: border-box;margin-bottom: 0.5em;}#sk-container-id-10 div.sk-estimator:hover {background-color: #d4ebff;}#sk-container-id-10 div.sk-parallel-item::after {content: \"\";width: 100%;border-bottom: 1px solid gray;flex-grow: 1;}#sk-container-id-10 div.sk-label:hover label.sk-toggleable__label {background-color: #d4ebff;}#sk-container-id-10 div.sk-serial::before {content: \"\";position: absolute;border-left: 1px solid gray;box-sizing: border-box;top: 0;bottom: 0;left: 50%;z-index: 0;}#sk-container-id-10 div.sk-serial {display: flex;flex-direction: column;align-items: center;background-color: white;padding-right: 0.2em;padding-left: 0.2em;position: relative;}#sk-container-id-10 div.sk-item {position: relative;z-index: 1;}#sk-container-id-10 div.sk-parallel {display: flex;align-items: stretch;justify-content: center;background-color: white;position: relative;}#sk-container-id-10 div.sk-item::before, #sk-container-id-10 div.sk-parallel-item::before {content: \"\";position: absolute;border-left: 1px solid gray;box-sizing: border-box;top: 0;bottom: 0;left: 50%;z-index: -1;}#sk-container-id-10 div.sk-parallel-item {display: flex;flex-direction: column;z-index: 1;position: relative;background-color: white;}#sk-container-id-10 div.sk-parallel-item:first-child::after {align-self: flex-end;width: 50%;}#sk-container-id-10 div.sk-parallel-item:last-child::after {align-self: flex-start;width: 50%;}#sk-container-id-10 div.sk-parallel-item:only-child::after {width: 0;}#sk-container-id-10 div.sk-dashed-wrapped {border: 1px dashed gray;margin: 0 0.4em 0.5em 0.4em;box-sizing: border-box;padding-bottom: 0.4em;background-color: white;}#sk-container-id-10 div.sk-label label {font-family: monospace;font-weight: bold;display: inline-block;line-height: 1.2em;}#sk-container-id-10 div.sk-label-container {text-align: center;}#sk-container-id-10 div.sk-container {/* jupyter's `normalize.less` sets `[hidden] { display: none; }` but bootstrap.min.css set `[hidden] { display: none !important; }` so we also need the `!important` here to be able to override the default hidden behavior on the sphinx rendered scikit-learn.org. See: https://github.com/scikit-learn/scikit-learn/issues/21755 */display: inline-block !important;position: relative;}#sk-container-id-10 div.sk-text-repr-fallback {display: none;}</style><div id=\"sk-container-id-10\" class=\"sk-top-container\"><div class=\"sk-text-repr-fallback\"><pre>GridSearchCV(cv=5,\n",
       "             estimator=XGBRegressor(base_score=None, booster=None,\n",
       "                                    callbacks=None, colsample_bylevel=None,\n",
       "                                    colsample_bynode=None,\n",
       "                                    colsample_bytree=None,\n",
       "                                    early_stopping_rounds=None,\n",
       "                                    enable_categorical=False, eval_metric=None,\n",
       "                                    feature_types=None, gamma=None, gpu_id=None,\n",
       "                                    grow_policy=None, importance_type=None,\n",
       "                                    interaction_constraints=None,\n",
       "                                    learning_rate=None, m...\n",
       "                                    max_cat_threshold=None,\n",
       "                                    max_cat_to_onehot=None, max_delta_step=None,\n",
       "                                    max_depth=None, max_leaves=None,\n",
       "                                    min_child_weight=None, missing=nan,\n",
       "                                    monotone_constraints=None, n_estimators=100,\n",
       "                                    n_jobs=None, num_parallel_tree=None,\n",
       "                                    predictor=None, random_state=None, ...),\n",
       "             n_jobs=-1,\n",
       "             param_grid={&#x27;learning_rate&#x27;: [0.3, 0.4, 0.5],\n",
       "                         &#x27;max_depth&#x27;: [20, 30, 35],\n",
       "                         &#x27;n_estimators&#x27;: [5, 6, 7, 8]},\n",
       "             verbose=2)</pre><b>In a Jupyter environment, please rerun this cell to show the HTML representation or trust the notebook. <br />On GitHub, the HTML representation is unable to render, please try loading this page with nbviewer.org.</b></div><div class=\"sk-container\" hidden><div class=\"sk-item sk-dashed-wrapped\"><div class=\"sk-label-container\"><div class=\"sk-label sk-toggleable\"><input class=\"sk-toggleable__control sk-hidden--visually\" id=\"sk-estimator-id-18\" type=\"checkbox\" ><label for=\"sk-estimator-id-18\" class=\"sk-toggleable__label sk-toggleable__label-arrow\">GridSearchCV</label><div class=\"sk-toggleable__content\"><pre>GridSearchCV(cv=5,\n",
       "             estimator=XGBRegressor(base_score=None, booster=None,\n",
       "                                    callbacks=None, colsample_bylevel=None,\n",
       "                                    colsample_bynode=None,\n",
       "                                    colsample_bytree=None,\n",
       "                                    early_stopping_rounds=None,\n",
       "                                    enable_categorical=False, eval_metric=None,\n",
       "                                    feature_types=None, gamma=None, gpu_id=None,\n",
       "                                    grow_policy=None, importance_type=None,\n",
       "                                    interaction_constraints=None,\n",
       "                                    learning_rate=None, m...\n",
       "                                    max_cat_threshold=None,\n",
       "                                    max_cat_to_onehot=None, max_delta_step=None,\n",
       "                                    max_depth=None, max_leaves=None,\n",
       "                                    min_child_weight=None, missing=nan,\n",
       "                                    monotone_constraints=None, n_estimators=100,\n",
       "                                    n_jobs=None, num_parallel_tree=None,\n",
       "                                    predictor=None, random_state=None, ...),\n",
       "             n_jobs=-1,\n",
       "             param_grid={&#x27;learning_rate&#x27;: [0.3, 0.4, 0.5],\n",
       "                         &#x27;max_depth&#x27;: [20, 30, 35],\n",
       "                         &#x27;n_estimators&#x27;: [5, 6, 7, 8]},\n",
       "             verbose=2)</pre></div></div></div><div class=\"sk-parallel\"><div class=\"sk-parallel-item\"><div class=\"sk-item\"><div class=\"sk-label-container\"><div class=\"sk-label sk-toggleable\"><input class=\"sk-toggleable__control sk-hidden--visually\" id=\"sk-estimator-id-19\" type=\"checkbox\" ><label for=\"sk-estimator-id-19\" class=\"sk-toggleable__label sk-toggleable__label-arrow\">estimator: XGBRegressor</label><div class=\"sk-toggleable__content\"><pre>XGBRegressor(base_score=None, booster=None, callbacks=None,\n",
       "             colsample_bylevel=None, colsample_bynode=None,\n",
       "             colsample_bytree=None, early_stopping_rounds=None,\n",
       "             enable_categorical=False, eval_metric=None, feature_types=None,\n",
       "             gamma=None, gpu_id=None, grow_policy=None, importance_type=None,\n",
       "             interaction_constraints=None, learning_rate=None, max_bin=None,\n",
       "             max_cat_threshold=None, max_cat_to_onehot=None,\n",
       "             max_delta_step=None, max_depth=None, max_leaves=None,\n",
       "             min_child_weight=None, missing=nan, monotone_constraints=None,\n",
       "             n_estimators=100, n_jobs=None, num_parallel_tree=None,\n",
       "             predictor=None, random_state=None, ...)</pre></div></div></div><div class=\"sk-serial\"><div class=\"sk-item\"><div class=\"sk-estimator sk-toggleable\"><input class=\"sk-toggleable__control sk-hidden--visually\" id=\"sk-estimator-id-20\" type=\"checkbox\" ><label for=\"sk-estimator-id-20\" class=\"sk-toggleable__label sk-toggleable__label-arrow\">XGBRegressor</label><div class=\"sk-toggleable__content\"><pre>XGBRegressor(base_score=None, booster=None, callbacks=None,\n",
       "             colsample_bylevel=None, colsample_bynode=None,\n",
       "             colsample_bytree=None, early_stopping_rounds=None,\n",
       "             enable_categorical=False, eval_metric=None, feature_types=None,\n",
       "             gamma=None, gpu_id=None, grow_policy=None, importance_type=None,\n",
       "             interaction_constraints=None, learning_rate=None, max_bin=None,\n",
       "             max_cat_threshold=None, max_cat_to_onehot=None,\n",
       "             max_delta_step=None, max_depth=None, max_leaves=None,\n",
       "             min_child_weight=None, missing=nan, monotone_constraints=None,\n",
       "             n_estimators=100, n_jobs=None, num_parallel_tree=None,\n",
       "             predictor=None, random_state=None, ...)</pre></div></div></div></div></div></div></div></div></div></div>"
      ],
      "text/plain": [
       "GridSearchCV(cv=5,\n",
       "             estimator=XGBRegressor(base_score=None, booster=None,\n",
       "                                    callbacks=None, colsample_bylevel=None,\n",
       "                                    colsample_bynode=None,\n",
       "                                    colsample_bytree=None,\n",
       "                                    early_stopping_rounds=None,\n",
       "                                    enable_categorical=False, eval_metric=None,\n",
       "                                    feature_types=None, gamma=None, gpu_id=None,\n",
       "                                    grow_policy=None, importance_type=None,\n",
       "                                    interaction_constraints=None,\n",
       "                                    learning_rate=None, m...\n",
       "                                    max_cat_threshold=None,\n",
       "                                    max_cat_to_onehot=None, max_delta_step=None,\n",
       "                                    max_depth=None, max_leaves=None,\n",
       "                                    min_child_weight=None, missing=nan,\n",
       "                                    monotone_constraints=None, n_estimators=100,\n",
       "                                    n_jobs=None, num_parallel_tree=None,\n",
       "                                    predictor=None, random_state=None, ...),\n",
       "             n_jobs=-1,\n",
       "             param_grid={'learning_rate': [0.3, 0.4, 0.5],\n",
       "                         'max_depth': [20, 30, 35],\n",
       "                         'n_estimators': [5, 6, 7, 8]},\n",
       "             verbose=2)"
      ]
     },
     "execution_count": 88,
     "metadata": {},
     "output_type": "execute_result"
    }
   ],
   "source": [
    "bst_grid.fit(X_train[:,feat_mask],y_train)"
   ]
  },
  {
   "cell_type": "code",
   "execution_count": 256,
   "metadata": {},
   "outputs": [
    {
     "data": {
      "text/html": [
       "<style>#sk-container-id-29 {color: black;background-color: white;}#sk-container-id-29 pre{padding: 0;}#sk-container-id-29 div.sk-toggleable {background-color: white;}#sk-container-id-29 label.sk-toggleable__label {cursor: pointer;display: block;width: 100%;margin-bottom: 0;padding: 0.3em;box-sizing: border-box;text-align: center;}#sk-container-id-29 label.sk-toggleable__label-arrow:before {content: \"▸\";float: left;margin-right: 0.25em;color: #696969;}#sk-container-id-29 label.sk-toggleable__label-arrow:hover:before {color: black;}#sk-container-id-29 div.sk-estimator:hover label.sk-toggleable__label-arrow:before {color: black;}#sk-container-id-29 div.sk-toggleable__content {max-height: 0;max-width: 0;overflow: hidden;text-align: left;background-color: #f0f8ff;}#sk-container-id-29 div.sk-toggleable__content pre {margin: 0.2em;color: black;border-radius: 0.25em;background-color: #f0f8ff;}#sk-container-id-29 input.sk-toggleable__control:checked~div.sk-toggleable__content {max-height: 200px;max-width: 100%;overflow: auto;}#sk-container-id-29 input.sk-toggleable__control:checked~label.sk-toggleable__label-arrow:before {content: \"▾\";}#sk-container-id-29 div.sk-estimator input.sk-toggleable__control:checked~label.sk-toggleable__label {background-color: #d4ebff;}#sk-container-id-29 div.sk-label input.sk-toggleable__control:checked~label.sk-toggleable__label {background-color: #d4ebff;}#sk-container-id-29 input.sk-hidden--visually {border: 0;clip: rect(1px 1px 1px 1px);clip: rect(1px, 1px, 1px, 1px);height: 1px;margin: -1px;overflow: hidden;padding: 0;position: absolute;width: 1px;}#sk-container-id-29 div.sk-estimator {font-family: monospace;background-color: #f0f8ff;border: 1px dotted black;border-radius: 0.25em;box-sizing: border-box;margin-bottom: 0.5em;}#sk-container-id-29 div.sk-estimator:hover {background-color: #d4ebff;}#sk-container-id-29 div.sk-parallel-item::after {content: \"\";width: 100%;border-bottom: 1px solid gray;flex-grow: 1;}#sk-container-id-29 div.sk-label:hover label.sk-toggleable__label {background-color: #d4ebff;}#sk-container-id-29 div.sk-serial::before {content: \"\";position: absolute;border-left: 1px solid gray;box-sizing: border-box;top: 0;bottom: 0;left: 50%;z-index: 0;}#sk-container-id-29 div.sk-serial {display: flex;flex-direction: column;align-items: center;background-color: white;padding-right: 0.2em;padding-left: 0.2em;position: relative;}#sk-container-id-29 div.sk-item {position: relative;z-index: 1;}#sk-container-id-29 div.sk-parallel {display: flex;align-items: stretch;justify-content: center;background-color: white;position: relative;}#sk-container-id-29 div.sk-item::before, #sk-container-id-29 div.sk-parallel-item::before {content: \"\";position: absolute;border-left: 1px solid gray;box-sizing: border-box;top: 0;bottom: 0;left: 50%;z-index: -1;}#sk-container-id-29 div.sk-parallel-item {display: flex;flex-direction: column;z-index: 1;position: relative;background-color: white;}#sk-container-id-29 div.sk-parallel-item:first-child::after {align-self: flex-end;width: 50%;}#sk-container-id-29 div.sk-parallel-item:last-child::after {align-self: flex-start;width: 50%;}#sk-container-id-29 div.sk-parallel-item:only-child::after {width: 0;}#sk-container-id-29 div.sk-dashed-wrapped {border: 1px dashed gray;margin: 0 0.4em 0.5em 0.4em;box-sizing: border-box;padding-bottom: 0.4em;background-color: white;}#sk-container-id-29 div.sk-label label {font-family: monospace;font-weight: bold;display: inline-block;line-height: 1.2em;}#sk-container-id-29 div.sk-label-container {text-align: center;}#sk-container-id-29 div.sk-container {/* jupyter's `normalize.less` sets `[hidden] { display: none; }` but bootstrap.min.css set `[hidden] { display: none !important; }` so we also need the `!important` here to be able to override the default hidden behavior on the sphinx rendered scikit-learn.org. See: https://github.com/scikit-learn/scikit-learn/issues/21755 */display: inline-block !important;position: relative;}#sk-container-id-29 div.sk-text-repr-fallback {display: none;}</style><div id=\"sk-container-id-29\" class=\"sk-top-container\"><div class=\"sk-text-repr-fallback\"><pre>XGBRegressor(base_score=None, booster=None, callbacks=None,\n",
       "             colsample_bylevel=None, colsample_bynode=None,\n",
       "             colsample_bytree=None, early_stopping_rounds=None,\n",
       "             enable_categorical=False, eval_metric=None, feature_types=None,\n",
       "             gamma=None, gpu_id=None, grow_policy=None, importance_type=None,\n",
       "             interaction_constraints=None, learning_rate=0.5, max_bin=None,\n",
       "             max_cat_threshold=None, max_cat_to_onehot=None,\n",
       "             max_delta_step=None, max_depth=35, max_leaves=None,\n",
       "             min_child_weight=None, missing=nan, monotone_constraints=None,\n",
       "             n_estimators=8, n_jobs=None, num_parallel_tree=None,\n",
       "             predictor=None, random_state=None, ...)</pre><b>In a Jupyter environment, please rerun this cell to show the HTML representation or trust the notebook. <br />On GitHub, the HTML representation is unable to render, please try loading this page with nbviewer.org.</b></div><div class=\"sk-container\" hidden><div class=\"sk-item\"><div class=\"sk-estimator sk-toggleable\"><input class=\"sk-toggleable__control sk-hidden--visually\" id=\"sk-estimator-id-55\" type=\"checkbox\" checked><label for=\"sk-estimator-id-55\" class=\"sk-toggleable__label sk-toggleable__label-arrow\">XGBRegressor</label><div class=\"sk-toggleable__content\"><pre>XGBRegressor(base_score=None, booster=None, callbacks=None,\n",
       "             colsample_bylevel=None, colsample_bynode=None,\n",
       "             colsample_bytree=None, early_stopping_rounds=None,\n",
       "             enable_categorical=False, eval_metric=None, feature_types=None,\n",
       "             gamma=None, gpu_id=None, grow_policy=None, importance_type=None,\n",
       "             interaction_constraints=None, learning_rate=0.5, max_bin=None,\n",
       "             max_cat_threshold=None, max_cat_to_onehot=None,\n",
       "             max_delta_step=None, max_depth=35, max_leaves=None,\n",
       "             min_child_weight=None, missing=nan, monotone_constraints=None,\n",
       "             n_estimators=8, n_jobs=None, num_parallel_tree=None,\n",
       "             predictor=None, random_state=None, ...)</pre></div></div></div></div></div>"
      ],
      "text/plain": [
       "XGBRegressor(base_score=None, booster=None, callbacks=None,\n",
       "             colsample_bylevel=None, colsample_bynode=None,\n",
       "             colsample_bytree=None, early_stopping_rounds=None,\n",
       "             enable_categorical=False, eval_metric=None, feature_types=None,\n",
       "             gamma=None, gpu_id=None, grow_policy=None, importance_type=None,\n",
       "             interaction_constraints=None, learning_rate=0.5, max_bin=None,\n",
       "             max_cat_threshold=None, max_cat_to_onehot=None,\n",
       "             max_delta_step=None, max_depth=35, max_leaves=None,\n",
       "             min_child_weight=None, missing=nan, monotone_constraints=None,\n",
       "             n_estimators=8, n_jobs=None, num_parallel_tree=None,\n",
       "             predictor=None, random_state=None, ...)"
      ]
     },
     "execution_count": 256,
     "metadata": {},
     "output_type": "execute_result"
    }
   ],
   "source": [
    "bst_grid.best_estimator_"
   ]
  },
  {
   "cell_type": "code",
   "execution_count": 288,
   "metadata": {},
   "outputs": [
    {
     "data": {
      "text/html": [
       "<style>#sk-container-id-32 {color: black;background-color: white;}#sk-container-id-32 pre{padding: 0;}#sk-container-id-32 div.sk-toggleable {background-color: white;}#sk-container-id-32 label.sk-toggleable__label {cursor: pointer;display: block;width: 100%;margin-bottom: 0;padding: 0.3em;box-sizing: border-box;text-align: center;}#sk-container-id-32 label.sk-toggleable__label-arrow:before {content: \"▸\";float: left;margin-right: 0.25em;color: #696969;}#sk-container-id-32 label.sk-toggleable__label-arrow:hover:before {color: black;}#sk-container-id-32 div.sk-estimator:hover label.sk-toggleable__label-arrow:before {color: black;}#sk-container-id-32 div.sk-toggleable__content {max-height: 0;max-width: 0;overflow: hidden;text-align: left;background-color: #f0f8ff;}#sk-container-id-32 div.sk-toggleable__content pre {margin: 0.2em;color: black;border-radius: 0.25em;background-color: #f0f8ff;}#sk-container-id-32 input.sk-toggleable__control:checked~div.sk-toggleable__content {max-height: 200px;max-width: 100%;overflow: auto;}#sk-container-id-32 input.sk-toggleable__control:checked~label.sk-toggleable__label-arrow:before {content: \"▾\";}#sk-container-id-32 div.sk-estimator input.sk-toggleable__control:checked~label.sk-toggleable__label {background-color: #d4ebff;}#sk-container-id-32 div.sk-label input.sk-toggleable__control:checked~label.sk-toggleable__label {background-color: #d4ebff;}#sk-container-id-32 input.sk-hidden--visually {border: 0;clip: rect(1px 1px 1px 1px);clip: rect(1px, 1px, 1px, 1px);height: 1px;margin: -1px;overflow: hidden;padding: 0;position: absolute;width: 1px;}#sk-container-id-32 div.sk-estimator {font-family: monospace;background-color: #f0f8ff;border: 1px dotted black;border-radius: 0.25em;box-sizing: border-box;margin-bottom: 0.5em;}#sk-container-id-32 div.sk-estimator:hover {background-color: #d4ebff;}#sk-container-id-32 div.sk-parallel-item::after {content: \"\";width: 100%;border-bottom: 1px solid gray;flex-grow: 1;}#sk-container-id-32 div.sk-label:hover label.sk-toggleable__label {background-color: #d4ebff;}#sk-container-id-32 div.sk-serial::before {content: \"\";position: absolute;border-left: 1px solid gray;box-sizing: border-box;top: 0;bottom: 0;left: 50%;z-index: 0;}#sk-container-id-32 div.sk-serial {display: flex;flex-direction: column;align-items: center;background-color: white;padding-right: 0.2em;padding-left: 0.2em;position: relative;}#sk-container-id-32 div.sk-item {position: relative;z-index: 1;}#sk-container-id-32 div.sk-parallel {display: flex;align-items: stretch;justify-content: center;background-color: white;position: relative;}#sk-container-id-32 div.sk-item::before, #sk-container-id-32 div.sk-parallel-item::before {content: \"\";position: absolute;border-left: 1px solid gray;box-sizing: border-box;top: 0;bottom: 0;left: 50%;z-index: -1;}#sk-container-id-32 div.sk-parallel-item {display: flex;flex-direction: column;z-index: 1;position: relative;background-color: white;}#sk-container-id-32 div.sk-parallel-item:first-child::after {align-self: flex-end;width: 50%;}#sk-container-id-32 div.sk-parallel-item:last-child::after {align-self: flex-start;width: 50%;}#sk-container-id-32 div.sk-parallel-item:only-child::after {width: 0;}#sk-container-id-32 div.sk-dashed-wrapped {border: 1px dashed gray;margin: 0 0.4em 0.5em 0.4em;box-sizing: border-box;padding-bottom: 0.4em;background-color: white;}#sk-container-id-32 div.sk-label label {font-family: monospace;font-weight: bold;display: inline-block;line-height: 1.2em;}#sk-container-id-32 div.sk-label-container {text-align: center;}#sk-container-id-32 div.sk-container {/* jupyter's `normalize.less` sets `[hidden] { display: none; }` but bootstrap.min.css set `[hidden] { display: none !important; }` so we also need the `!important` here to be able to override the default hidden behavior on the sphinx rendered scikit-learn.org. See: https://github.com/scikit-learn/scikit-learn/issues/21755 */display: inline-block !important;position: relative;}#sk-container-id-32 div.sk-text-repr-fallback {display: none;}</style><div id=\"sk-container-id-32\" class=\"sk-top-container\"><div class=\"sk-text-repr-fallback\"><pre>XGBRegressor(base_score=None, booster=None, callbacks=None,\n",
       "             colsample_bylevel=None, colsample_bynode=None,\n",
       "             colsample_bytree=None, early_stopping_rounds=None,\n",
       "             enable_categorical=False, eval_metric=None, feature_types=None,\n",
       "             gamma=None, gpu_id=None, grow_policy=None, importance_type=None,\n",
       "             interaction_constraints=None, learning_rate=0.5, max_bin=None,\n",
       "             max_cat_threshold=None, max_cat_to_onehot=None,\n",
       "             max_delta_step=None, max_depth=20, max_leaves=None,\n",
       "             min_child_weight=None, missing=nan, monotone_constraints=None,\n",
       "             n_estimators=8, n_jobs=None, num_parallel_tree=None,\n",
       "             predictor=None, random_state=None, ...)</pre><b>In a Jupyter environment, please rerun this cell to show the HTML representation or trust the notebook. <br />On GitHub, the HTML representation is unable to render, please try loading this page with nbviewer.org.</b></div><div class=\"sk-container\" hidden><div class=\"sk-item\"><div class=\"sk-estimator sk-toggleable\"><input class=\"sk-toggleable__control sk-hidden--visually\" id=\"sk-estimator-id-60\" type=\"checkbox\" checked><label for=\"sk-estimator-id-60\" class=\"sk-toggleable__label sk-toggleable__label-arrow\">XGBRegressor</label><div class=\"sk-toggleable__content\"><pre>XGBRegressor(base_score=None, booster=None, callbacks=None,\n",
       "             colsample_bylevel=None, colsample_bynode=None,\n",
       "             colsample_bytree=None, early_stopping_rounds=None,\n",
       "             enable_categorical=False, eval_metric=None, feature_types=None,\n",
       "             gamma=None, gpu_id=None, grow_policy=None, importance_type=None,\n",
       "             interaction_constraints=None, learning_rate=0.5, max_bin=None,\n",
       "             max_cat_threshold=None, max_cat_to_onehot=None,\n",
       "             max_delta_step=None, max_depth=20, max_leaves=None,\n",
       "             min_child_weight=None, missing=nan, monotone_constraints=None,\n",
       "             n_estimators=8, n_jobs=None, num_parallel_tree=None,\n",
       "             predictor=None, random_state=None, ...)</pre></div></div></div></div></div>"
      ],
      "text/plain": [
       "XGBRegressor(base_score=None, booster=None, callbacks=None,\n",
       "             colsample_bylevel=None, colsample_bynode=None,\n",
       "             colsample_bytree=None, early_stopping_rounds=None,\n",
       "             enable_categorical=False, eval_metric=None, feature_types=None,\n",
       "             gamma=None, gpu_id=None, grow_policy=None, importance_type=None,\n",
       "             interaction_constraints=None, learning_rate=0.5, max_bin=None,\n",
       "             max_cat_threshold=None, max_cat_to_onehot=None,\n",
       "             max_delta_step=None, max_depth=20, max_leaves=None,\n",
       "             min_child_weight=None, missing=nan, monotone_constraints=None,\n",
       "             n_estimators=8, n_jobs=None, num_parallel_tree=None,\n",
       "             predictor=None, random_state=None, ...)"
      ]
     },
     "execution_count": 288,
     "metadata": {},
     "output_type": "execute_result"
    }
   ],
   "source": [
    "bst_grid.best_estimator_"
   ]
  },
  {
   "cell_type": "code",
   "execution_count": 89,
   "metadata": {},
   "outputs": [],
   "source": [
    "bst_train_pred=bst_grid.predict(X_train[:,feat_mask])\n",
    "bst_test_pred=bst_grid.predict(X_test[:,feat_mask])"
   ]
  },
  {
   "cell_type": "code",
   "execution_count": 90,
   "metadata": {},
   "outputs": [
    {
     "name": "stdout",
     "output_type": "stream",
     "text": [
      "MSE train XGBoost= 6333.4755598527145\n",
      "MSE test XGBoost= 29131.49604538569\n"
     ]
    }
   ],
   "source": [
    "print('MSE train XGBoost=' , mean_squared_error(y_train,bst_train_pred, squared=False))\n",
    "print('MSE test XGBoost=' , mean_squared_error(y_test,bst_test_pred, squared=False))"
   ]
  },
  {
   "cell_type": "code",
   "execution_count": 241,
   "metadata": {},
   "outputs": [
    {
     "name": "stdout",
     "output_type": "stream",
     "text": [
      "MSE2 train XGBoost= 8011.072273200967\n",
      "MSE2 test XGBoost= 31303.222218650364\n"
     ]
    }
   ],
   "source": [
    "bst_train_pred2=bst_grid2.predict(X_train)\n",
    "bst_test_pred2=bst_grid2.predict(X_test)\n",
    "print('MSE2 train XGBoost=' , mean_squared_error(y_train,bst_train_pred2, squared=False))\n",
    "print('MSE2 test XGBoost=' , mean_squared_error(y_test,bst_test_pred2, squared=False))"
   ]
  },
  {
   "cell_type": "code",
   "execution_count": 91,
   "metadata": {},
   "outputs": [
    {
     "name": "stdout",
     "output_type": "stream",
     "text": [
      "MSE train XGBoost con 45 features de acuerdo a la improtancia en randomforest= 6333.4755598527145\n",
      "MSE test XGBoost con 45 features de acuerdo a la improtancia en randomforest= 29131.49604538569\n"
     ]
    }
   ],
   "source": [
    "print('MSE train XGBoost con 45 features de acuerdo a la improtancia en randomforest=' , mean_squared_error(y_train,bst_train_pred, squared=False))\n",
    "print('MSE test XGBoost con 45 features de acuerdo a la improtancia en randomforest=' , mean_squared_error(y_test,bst_test_pred, squared=False))"
   ]
  },
  {
   "attachments": {},
   "cell_type": "markdown",
   "metadata": {},
   "source": [
    "#### MLP"
   ]
  },
  {
   "cell_type": "code",
   "execution_count": 2,
   "metadata": {},
   "outputs": [
    {
     "name": "stderr",
     "output_type": "stream",
     "text": [
      "2023-03-27 16:43:35.524525: I tensorflow/tsl/cuda/cudart_stub.cc:28] Could not find cuda drivers on your machine, GPU will not be used.\n",
      "2023-03-27 16:43:35.549613: I tensorflow/tsl/cuda/cudart_stub.cc:28] Could not find cuda drivers on your machine, GPU will not be used.\n",
      "2023-03-27 16:43:35.550332: I tensorflow/core/platform/cpu_feature_guard.cc:182] This TensorFlow binary is optimized to use available CPU instructions in performance-critical operations.\n",
      "To enable the following instructions: AVX2 FMA, in other operations, rebuild TensorFlow with the appropriate compiler flags.\n",
      "2023-03-27 16:43:36.145388: W tensorflow/compiler/tf2tensorrt/utils/py_utils.cc:38] TF-TRT Warning: Could not find TensorRT\n"
     ]
    }
   ],
   "source": [
    "from tensorflow import keras\n",
    "from tensorflow.keras import layers"
   ]
  },
  {
   "cell_type": "code",
   "execution_count": 92,
   "metadata": {},
   "outputs": [
    {
     "data": {
      "text/plain": [
       "(1168, 249)"
      ]
     },
     "execution_count": 92,
     "metadata": {},
     "output_type": "execute_result"
    }
   ],
   "source": [
    "X_train.shape"
   ]
  },
  {
   "cell_type": "code",
   "execution_count": 129,
   "metadata": {},
   "outputs": [
    {
     "data": {
      "text/plain": [
       "(1168, 39)"
      ]
     },
     "execution_count": 129,
     "metadata": {},
     "output_type": "execute_result"
    }
   ],
   "source": [
    "X_train[:,feat_mask].shape"
   ]
  },
  {
   "cell_type": "code",
   "execution_count": 130,
   "metadata": {},
   "outputs": [
    {
     "name": "stdout",
     "output_type": "stream",
     "text": [
      "Model: \"sequential_3\"\n",
      "_________________________________________________________________\n",
      " Layer (type)                Output Shape              Param #   \n",
      "=================================================================\n",
      " dense_12 (Dense)            (None, 500)               20000     \n",
      "                                                                 \n",
      " dropout_4 (Dropout)         (None, 500)               0         \n",
      "                                                                 \n",
      " dense_13 (Dense)            (None, 300)               150300    \n",
      "                                                                 \n",
      " dropout_5 (Dropout)         (None, 300)               0         \n",
      "                                                                 \n",
      " dense_14 (Dense)            (None, 100)               30100     \n",
      "                                                                 \n",
      " dropout_6 (Dropout)         (None, 100)               0         \n",
      "                                                                 \n",
      " dense_15 (Dense)            (None, 1)                 101       \n",
      "                                                                 \n",
      "=================================================================\n",
      "Total params: 200,501\n",
      "Trainable params: 200,501\n",
      "Non-trainable params: 0\n",
      "_________________________________________________________________\n"
     ]
    }
   ],
   "source": [
    "model = keras.Sequential()\n",
    "model.add(layers.Input(shape=39))\n",
    "#model.add(layers.Dense(8, input_dim=6, activation='relu'))\n",
    "model.add(layers.Dense(500, activation='relu'))\n",
    "model.add(layers.Dropout(0.1))\n",
    "model.add(layers.Dense(300, activation='relu'))\n",
    "model.add(layers.Dropout(0.1))\n",
    "model.add(layers.Dense(100, activation='relu'))\n",
    "model.add(layers.Dropout(0.1))\n",
    "model.add(layers.Dense(1))\n",
    "model.summary()"
   ]
  },
  {
   "cell_type": "code",
   "execution_count": 135,
   "metadata": {},
   "outputs": [],
   "source": [
    "opt = keras.optimizers.Adam(learning_rate=0.001)"
   ]
  },
  {
   "cell_type": "code",
   "execution_count": 136,
   "metadata": {},
   "outputs": [],
   "source": [
    "model.compile(\n",
    "  loss='mse', \n",
    "  optimizer=opt,\n",
    "  metrics=[keras.metrics.RootMeanSquaredError()],\n",
    ")"
   ]
  },
  {
   "cell_type": "code",
   "execution_count": 137,
   "metadata": {},
   "outputs": [],
   "source": [
    "cp2 = keras.callbacks.ModelCheckpoint('/home/manuelquiros/Documents/Kaggle/House_Prices/MLP1', save_best_only=True)\n",
    "log_dir2 = \"MLP1/logs/fit/\"\n",
    "tb2 = keras.callbacks.TensorBoard(log_dir=log_dir2, histogram_freq=1)\n",
    "es2 = keras.callbacks.EarlyStopping(monitor='root_mean_squared_error', patience=30)\n",
    "lr = keras.callbacks.ReduceLROnPlateau(monitor='root_mean_squared_error', factor=0.2,patience=15, min_lr=0.00000001)"
   ]
  },
  {
   "cell_type": "code",
   "execution_count": 138,
   "metadata": {},
   "outputs": [
    {
     "name": "stdout",
     "output_type": "stream",
     "text": [
      "Epoch 1/200\n",
      " 97/117 [=======================>......] - ETA: 0s - loss: 251723776.0000 - root_mean_squared_error: 15865.8057"
     ]
    },
    {
     "name": "stderr",
     "output_type": "stream",
     "text": [
      "2023-03-27 17:40:19.296457: I tensorflow/core/common_runtime/executor.cc:1197] [/device:CPU:0] (DEBUG INFO) Executor start aborting (this does not indicate an error and you can ignore this message): INVALID_ARGUMENT: You must feed a value for placeholder tensor 'inputs' with dtype float and shape [?,500]\n",
      "\t [[{{node inputs}}]]\n",
      "2023-03-27 17:40:19.306106: I tensorflow/core/common_runtime/executor.cc:1197] [/device:CPU:0] (DEBUG INFO) Executor start aborting (this does not indicate an error and you can ignore this message): INVALID_ARGUMENT: You must feed a value for placeholder tensor 'inputs' with dtype float and shape [?,300]\n",
      "\t [[{{node inputs}}]]\n",
      "2023-03-27 17:40:19.316184: I tensorflow/core/common_runtime/executor.cc:1197] [/device:CPU:0] (DEBUG INFO) Executor start aborting (this does not indicate an error and you can ignore this message): INVALID_ARGUMENT: You must feed a value for placeholder tensor 'inputs' with dtype float and shape [?,100]\n",
      "\t [[{{node inputs}}]]\n",
      "2023-03-27 17:40:19.429424: I tensorflow/core/common_runtime/executor.cc:1197] [/device:CPU:0] (DEBUG INFO) Executor start aborting (this does not indicate an error and you can ignore this message): INVALID_ARGUMENT: You must feed a value for placeholder tensor 'inputs' with dtype float and shape [?,500]\n",
      "\t [[{{node inputs}}]]\n",
      "2023-03-27 17:40:19.451367: I tensorflow/core/common_runtime/executor.cc:1197] [/device:CPU:0] (DEBUG INFO) Executor start aborting (this does not indicate an error and you can ignore this message): INVALID_ARGUMENT: You must feed a value for placeholder tensor 'inputs' with dtype float and shape [?,300]\n",
      "\t [[{{node inputs}}]]\n",
      "2023-03-27 17:40:19.476637: I tensorflow/core/common_runtime/executor.cc:1197] [/device:CPU:0] (DEBUG INFO) Executor start aborting (this does not indicate an error and you can ignore this message): INVALID_ARGUMENT: You must feed a value for placeholder tensor 'inputs' with dtype float and shape [?,100]\n",
      "\t [[{{node inputs}}]]\n",
      "WARNING:absl:Found untraced functions such as _update_step_xla while saving (showing 1 of 1). These functions will not be directly callable after loading.\n"
     ]
    },
    {
     "name": "stdout",
     "output_type": "stream",
     "text": [
      "INFO:tensorflow:Assets written to: /home/manuelquiros/Documents/Kaggle/House_Prices/MLP1/assets\n"
     ]
    },
    {
     "name": "stderr",
     "output_type": "stream",
     "text": [
      "INFO:tensorflow:Assets written to: /home/manuelquiros/Documents/Kaggle/House_Prices/MLP1/assets\n"
     ]
    },
    {
     "name": "stdout",
     "output_type": "stream",
     "text": [
      "117/117 [==============================] - 1s 8ms/step - loss: 243244640.0000 - root_mean_squared_error: 15596.3018 - val_loss: 767051136.0000 - val_root_mean_squared_error: 27695.6875 - lr: 0.0010\n",
      "Epoch 2/200\n",
      "117/117 [==============================] - 0s 2ms/step - loss: 206556912.0000 - root_mean_squared_error: 14372.0879 - val_loss: 778789440.0000 - val_root_mean_squared_error: 27906.7988 - lr: 0.0010\n",
      "Epoch 3/200\n",
      "117/117 [==============================] - 0s 2ms/step - loss: 205994800.0000 - root_mean_squared_error: 14352.5186 - val_loss: 767430912.0000 - val_root_mean_squared_error: 27702.5430 - lr: 0.0010\n",
      "Epoch 4/200\n",
      "117/117 [==============================] - 0s 2ms/step - loss: 225481696.0000 - root_mean_squared_error: 15016.0479 - val_loss: 804852352.0000 - val_root_mean_squared_error: 28369.9199 - lr: 0.0010\n",
      "Epoch 5/200\n",
      "117/117 [==============================] - 0s 2ms/step - loss: 216342592.0000 - root_mean_squared_error: 14708.5889 - val_loss: 803036288.0000 - val_root_mean_squared_error: 28337.8945 - lr: 0.0010\n",
      "Epoch 6/200\n",
      " 96/117 [=======================>......] - ETA: 0s - loss: 200393936.0000 - root_mean_squared_error: 14156.0566"
     ]
    },
    {
     "name": "stderr",
     "output_type": "stream",
     "text": [
      "2023-03-27 17:40:21.448701: I tensorflow/core/common_runtime/executor.cc:1197] [/device:CPU:0] (DEBUG INFO) Executor start aborting (this does not indicate an error and you can ignore this message): INVALID_ARGUMENT: You must feed a value for placeholder tensor 'inputs' with dtype float and shape [?,500]\n",
      "\t [[{{node inputs}}]]\n",
      "2023-03-27 17:40:21.458377: I tensorflow/core/common_runtime/executor.cc:1197] [/device:CPU:0] (DEBUG INFO) Executor start aborting (this does not indicate an error and you can ignore this message): INVALID_ARGUMENT: You must feed a value for placeholder tensor 'inputs' with dtype float and shape [?,300]\n",
      "\t [[{{node inputs}}]]\n",
      "2023-03-27 17:40:21.466498: I tensorflow/core/common_runtime/executor.cc:1197] [/device:CPU:0] (DEBUG INFO) Executor start aborting (this does not indicate an error and you can ignore this message): INVALID_ARGUMENT: You must feed a value for placeholder tensor 'inputs' with dtype float and shape [?,100]\n",
      "\t [[{{node inputs}}]]\n",
      "2023-03-27 17:40:21.566241: I tensorflow/core/common_runtime/executor.cc:1197] [/device:CPU:0] (DEBUG INFO) Executor start aborting (this does not indicate an error and you can ignore this message): INVALID_ARGUMENT: You must feed a value for placeholder tensor 'inputs' with dtype float and shape [?,500]\n",
      "\t [[{{node inputs}}]]\n",
      "2023-03-27 17:40:21.587611: I tensorflow/core/common_runtime/executor.cc:1197] [/device:CPU:0] (DEBUG INFO) Executor start aborting (this does not indicate an error and you can ignore this message): INVALID_ARGUMENT: You must feed a value for placeholder tensor 'inputs' with dtype float and shape [?,300]\n",
      "\t [[{{node inputs}}]]\n",
      "2023-03-27 17:40:21.606294: I tensorflow/core/common_runtime/executor.cc:1197] [/device:CPU:0] (DEBUG INFO) Executor start aborting (this does not indicate an error and you can ignore this message): INVALID_ARGUMENT: You must feed a value for placeholder tensor 'inputs' with dtype float and shape [?,100]\n",
      "\t [[{{node inputs}}]]\n",
      "WARNING:absl:Found untraced functions such as _update_step_xla while saving (showing 1 of 1). These functions will not be directly callable after loading.\n"
     ]
    },
    {
     "name": "stdout",
     "output_type": "stream",
     "text": [
      "INFO:tensorflow:Assets written to: /home/manuelquiros/Documents/Kaggle/House_Prices/MLP1/assets\n"
     ]
    },
    {
     "name": "stderr",
     "output_type": "stream",
     "text": [
      "INFO:tensorflow:Assets written to: /home/manuelquiros/Documents/Kaggle/House_Prices/MLP1/assets\n"
     ]
    },
    {
     "name": "stdout",
     "output_type": "stream",
     "text": [
      "117/117 [==============================] - 1s 9ms/step - loss: 208436048.0000 - root_mean_squared_error: 14437.3145 - val_loss: 766084864.0000 - val_root_mean_squared_error: 27678.2383 - lr: 0.0010\n",
      "Epoch 7/200\n",
      "117/117 [==============================] - 0s 2ms/step - loss: 219413280.0000 - root_mean_squared_error: 14812.6055 - val_loss: 780368448.0000 - val_root_mean_squared_error: 27935.0762 - lr: 0.0010\n",
      "Epoch 8/200\n",
      " 97/117 [=======================>......] - ETA: 0s - loss: 239452240.0000 - root_mean_squared_error: 15474.2441"
     ]
    },
    {
     "name": "stderr",
     "output_type": "stream",
     "text": [
      "2023-03-27 17:40:22.422518: I tensorflow/core/common_runtime/executor.cc:1197] [/device:CPU:0] (DEBUG INFO) Executor start aborting (this does not indicate an error and you can ignore this message): INVALID_ARGUMENT: You must feed a value for placeholder tensor 'inputs' with dtype float and shape [?,500]\n",
      "\t [[{{node inputs}}]]\n",
      "2023-03-27 17:40:22.436988: I tensorflow/core/common_runtime/executor.cc:1197] [/device:CPU:0] (DEBUG INFO) Executor start aborting (this does not indicate an error and you can ignore this message): INVALID_ARGUMENT: You must feed a value for placeholder tensor 'inputs' with dtype float and shape [?,300]\n",
      "\t [[{{node inputs}}]]\n",
      "2023-03-27 17:40:22.454236: I tensorflow/core/common_runtime/executor.cc:1197] [/device:CPU:0] (DEBUG INFO) Executor start aborting (this does not indicate an error and you can ignore this message): INVALID_ARGUMENT: You must feed a value for placeholder tensor 'inputs' with dtype float and shape [?,100]\n",
      "\t [[{{node inputs}}]]\n",
      "2023-03-27 17:40:22.557158: I tensorflow/core/common_runtime/executor.cc:1197] [/device:CPU:0] (DEBUG INFO) Executor start aborting (this does not indicate an error and you can ignore this message): INVALID_ARGUMENT: You must feed a value for placeholder tensor 'inputs' with dtype float and shape [?,500]\n",
      "\t [[{{node inputs}}]]\n",
      "2023-03-27 17:40:22.576851: I tensorflow/core/common_runtime/executor.cc:1197] [/device:CPU:0] (DEBUG INFO) Executor start aborting (this does not indicate an error and you can ignore this message): INVALID_ARGUMENT: You must feed a value for placeholder tensor 'inputs' with dtype float and shape [?,300]\n",
      "\t [[{{node inputs}}]]\n",
      "2023-03-27 17:40:22.595696: I tensorflow/core/common_runtime/executor.cc:1197] [/device:CPU:0] (DEBUG INFO) Executor start aborting (this does not indicate an error and you can ignore this message): INVALID_ARGUMENT: You must feed a value for placeholder tensor 'inputs' with dtype float and shape [?,100]\n",
      "\t [[{{node inputs}}]]\n",
      "WARNING:absl:Found untraced functions such as _update_step_xla while saving (showing 1 of 1). These functions will not be directly callable after loading.\n"
     ]
    },
    {
     "name": "stdout",
     "output_type": "stream",
     "text": [
      "INFO:tensorflow:Assets written to: /home/manuelquiros/Documents/Kaggle/House_Prices/MLP1/assets\n"
     ]
    },
    {
     "name": "stderr",
     "output_type": "stream",
     "text": [
      "INFO:tensorflow:Assets written to: /home/manuelquiros/Documents/Kaggle/House_Prices/MLP1/assets\n"
     ]
    },
    {
     "name": "stdout",
     "output_type": "stream",
     "text": [
      "117/117 [==============================] - 1s 6ms/step - loss: 231985584.0000 - root_mean_squared_error: 15231.0732 - val_loss: 760171840.0000 - val_root_mean_squared_error: 27571.2148 - lr: 0.0010\n",
      "Epoch 9/200\n",
      "117/117 [==============================] - 0s 2ms/step - loss: 210027184.0000 - root_mean_squared_error: 14492.3145 - val_loss: 777404096.0000 - val_root_mean_squared_error: 27881.9668 - lr: 0.0010\n",
      "Epoch 10/200\n",
      " 97/117 [=======================>......] - ETA: 0s - loss: 204867376.0000 - root_mean_squared_error: 14313.1885"
     ]
    },
    {
     "name": "stderr",
     "output_type": "stream",
     "text": [
      "2023-03-27 17:40:23.419667: I tensorflow/core/common_runtime/executor.cc:1197] [/device:CPU:0] (DEBUG INFO) Executor start aborting (this does not indicate an error and you can ignore this message): INVALID_ARGUMENT: You must feed a value for placeholder tensor 'inputs' with dtype float and shape [?,500]\n",
      "\t [[{{node inputs}}]]\n",
      "2023-03-27 17:40:23.428769: I tensorflow/core/common_runtime/executor.cc:1197] [/device:CPU:0] (DEBUG INFO) Executor start aborting (this does not indicate an error and you can ignore this message): INVALID_ARGUMENT: You must feed a value for placeholder tensor 'inputs' with dtype float and shape [?,300]\n",
      "\t [[{{node inputs}}]]\n",
      "2023-03-27 17:40:23.438498: I tensorflow/core/common_runtime/executor.cc:1197] [/device:CPU:0] (DEBUG INFO) Executor start aborting (this does not indicate an error and you can ignore this message): INVALID_ARGUMENT: You must feed a value for placeholder tensor 'inputs' with dtype float and shape [?,100]\n",
      "\t [[{{node inputs}}]]\n",
      "2023-03-27 17:40:23.546689: I tensorflow/core/common_runtime/executor.cc:1197] [/device:CPU:0] (DEBUG INFO) Executor start aborting (this does not indicate an error and you can ignore this message): INVALID_ARGUMENT: You must feed a value for placeholder tensor 'inputs' with dtype float and shape [?,500]\n",
      "\t [[{{node inputs}}]]\n",
      "2023-03-27 17:40:23.567140: I tensorflow/core/common_runtime/executor.cc:1197] [/device:CPU:0] (DEBUG INFO) Executor start aborting (this does not indicate an error and you can ignore this message): INVALID_ARGUMENT: You must feed a value for placeholder tensor 'inputs' with dtype float and shape [?,300]\n",
      "\t [[{{node inputs}}]]\n",
      "2023-03-27 17:40:23.585574: I tensorflow/core/common_runtime/executor.cc:1197] [/device:CPU:0] (DEBUG INFO) Executor start aborting (this does not indicate an error and you can ignore this message): INVALID_ARGUMENT: You must feed a value for placeholder tensor 'inputs' with dtype float and shape [?,100]\n",
      "\t [[{{node inputs}}]]\n",
      "WARNING:absl:Found untraced functions such as _update_step_xla while saving (showing 1 of 1). These functions will not be directly callable after loading.\n"
     ]
    },
    {
     "name": "stdout",
     "output_type": "stream",
     "text": [
      "INFO:tensorflow:Assets written to: /home/manuelquiros/Documents/Kaggle/House_Prices/MLP1/assets\n"
     ]
    },
    {
     "name": "stderr",
     "output_type": "stream",
     "text": [
      "INFO:tensorflow:Assets written to: /home/manuelquiros/Documents/Kaggle/House_Prices/MLP1/assets\n"
     ]
    },
    {
     "name": "stdout",
     "output_type": "stream",
     "text": [
      "117/117 [==============================] - 1s 6ms/step - loss: 202251232.0000 - root_mean_squared_error: 14221.5059 - val_loss: 746955904.0000 - val_root_mean_squared_error: 27330.4941 - lr: 0.0010\n",
      "Epoch 11/200\n",
      "117/117 [==============================] - 0s 2ms/step - loss: 200577792.0000 - root_mean_squared_error: 14162.5488 - val_loss: 769774400.0000 - val_root_mean_squared_error: 27744.8086 - lr: 0.0010\n",
      "Epoch 12/200\n",
      "117/117 [==============================] - 0s 2ms/step - loss: 249607440.0000 - root_mean_squared_error: 15798.9697 - val_loss: 759714816.0000 - val_root_mean_squared_error: 27562.9238 - lr: 0.0010\n",
      "Epoch 13/200\n",
      "117/117 [==============================] - 0s 3ms/step - loss: 226914688.0000 - root_mean_squared_error: 15063.6875 - val_loss: 792679360.0000 - val_root_mean_squared_error: 28154.5625 - lr: 0.0010\n",
      "Epoch 14/200\n",
      "117/117 [==============================] - 0s 2ms/step - loss: 218895456.0000 - root_mean_squared_error: 14795.1162 - val_loss: 795819520.0000 - val_root_mean_squared_error: 28210.2734 - lr: 0.0010\n",
      "Epoch 15/200\n",
      "117/117 [==============================] - 0s 2ms/step - loss: 194268704.0000 - root_mean_squared_error: 13938.0312 - val_loss: 790095616.0000 - val_root_mean_squared_error: 28108.6387 - lr: 0.0010\n",
      "Epoch 16/200\n",
      "117/117 [==============================] - 0s 2ms/step - loss: 207986704.0000 - root_mean_squared_error: 14421.7441 - val_loss: 778081920.0000 - val_root_mean_squared_error: 27894.1191 - lr: 0.0010\n",
      "Epoch 17/200\n",
      "117/117 [==============================] - 0s 2ms/step - loss: 213374688.0000 - root_mean_squared_error: 14607.3506 - val_loss: 816005120.0000 - val_root_mean_squared_error: 28565.8027 - lr: 0.0010\n",
      "Epoch 18/200\n",
      "117/117 [==============================] - 0s 2ms/step - loss: 236214112.0000 - root_mean_squared_error: 15369.2588 - val_loss: 798610752.0000 - val_root_mean_squared_error: 28259.7012 - lr: 0.0010\n",
      "Epoch 19/200\n",
      "117/117 [==============================] - 0s 2ms/step - loss: 217083328.0000 - root_mean_squared_error: 14733.7480 - val_loss: 811239104.0000 - val_root_mean_squared_error: 28482.2598 - lr: 0.0010\n",
      "Epoch 20/200\n",
      "117/117 [==============================] - 0s 2ms/step - loss: 220909760.0000 - root_mean_squared_error: 14863.0332 - val_loss: 764897344.0000 - val_root_mean_squared_error: 27656.7773 - lr: 0.0010\n",
      "Epoch 21/200\n",
      "117/117 [==============================] - 0s 2ms/step - loss: 184258512.0000 - root_mean_squared_error: 13574.1855 - val_loss: 756076096.0000 - val_root_mean_squared_error: 27496.8379 - lr: 0.0010\n",
      "Epoch 22/200\n",
      "117/117 [==============================] - 0s 2ms/step - loss: 217383696.0000 - root_mean_squared_error: 14743.9375 - val_loss: 768265920.0000 - val_root_mean_squared_error: 27717.6094 - lr: 0.0010\n",
      "Epoch 23/200\n",
      "117/117 [==============================] - 0s 2ms/step - loss: 210649504.0000 - root_mean_squared_error: 14513.7695 - val_loss: 780377792.0000 - val_root_mean_squared_error: 27935.2422 - lr: 0.0010\n",
      "Epoch 24/200\n",
      "117/117 [==============================] - 0s 2ms/step - loss: 185457376.0000 - root_mean_squared_error: 13618.2734 - val_loss: 770494976.0000 - val_root_mean_squared_error: 27757.7910 - lr: 0.0010\n",
      "Epoch 25/200\n",
      "117/117 [==============================] - 0s 2ms/step - loss: 193122112.0000 - root_mean_squared_error: 13896.8379 - val_loss: 788400064.0000 - val_root_mean_squared_error: 28078.4629 - lr: 0.0010\n",
      "Epoch 26/200\n",
      "117/117 [==============================] - 0s 2ms/step - loss: 218796048.0000 - root_mean_squared_error: 14791.7559 - val_loss: 777445568.0000 - val_root_mean_squared_error: 27882.7109 - lr: 0.0010\n",
      "Epoch 27/200\n",
      "117/117 [==============================] - 0s 2ms/step - loss: 207087440.0000 - root_mean_squared_error: 14390.5332 - val_loss: 758749248.0000 - val_root_mean_squared_error: 27545.4043 - lr: 0.0010\n",
      "Epoch 28/200\n",
      " 90/117 [======================>.......] - ETA: 0s - loss: 205505312.0000 - root_mean_squared_error: 14335.4561"
     ]
    },
    {
     "name": "stderr",
     "output_type": "stream",
     "text": [
      "2023-03-27 17:40:28.666559: I tensorflow/core/common_runtime/executor.cc:1197] [/device:CPU:0] (DEBUG INFO) Executor start aborting (this does not indicate an error and you can ignore this message): INVALID_ARGUMENT: You must feed a value for placeholder tensor 'inputs' with dtype float and shape [?,500]\n",
      "\t [[{{node inputs}}]]\n",
      "2023-03-27 17:40:28.675083: I tensorflow/core/common_runtime/executor.cc:1197] [/device:CPU:0] (DEBUG INFO) Executor start aborting (this does not indicate an error and you can ignore this message): INVALID_ARGUMENT: You must feed a value for placeholder tensor 'inputs' with dtype float and shape [?,300]\n",
      "\t [[{{node inputs}}]]\n",
      "2023-03-27 17:40:28.683058: I tensorflow/core/common_runtime/executor.cc:1197] [/device:CPU:0] (DEBUG INFO) Executor start aborting (this does not indicate an error and you can ignore this message): INVALID_ARGUMENT: You must feed a value for placeholder tensor 'inputs' with dtype float and shape [?,100]\n",
      "\t [[{{node inputs}}]]\n",
      "2023-03-27 17:40:28.779708: I tensorflow/core/common_runtime/executor.cc:1197] [/device:CPU:0] (DEBUG INFO) Executor start aborting (this does not indicate an error and you can ignore this message): INVALID_ARGUMENT: You must feed a value for placeholder tensor 'inputs' with dtype float and shape [?,500]\n",
      "\t [[{{node inputs}}]]\n",
      "2023-03-27 17:40:28.801400: I tensorflow/core/common_runtime/executor.cc:1197] [/device:CPU:0] (DEBUG INFO) Executor start aborting (this does not indicate an error and you can ignore this message): INVALID_ARGUMENT: You must feed a value for placeholder tensor 'inputs' with dtype float and shape [?,300]\n",
      "\t [[{{node inputs}}]]\n",
      "2023-03-27 17:40:28.820101: I tensorflow/core/common_runtime/executor.cc:1197] [/device:CPU:0] (DEBUG INFO) Executor start aborting (this does not indicate an error and you can ignore this message): INVALID_ARGUMENT: You must feed a value for placeholder tensor 'inputs' with dtype float and shape [?,100]\n",
      "\t [[{{node inputs}}]]\n",
      "WARNING:absl:Found untraced functions such as _update_step_xla while saving (showing 1 of 1). These functions will not be directly callable after loading.\n"
     ]
    },
    {
     "name": "stdout",
     "output_type": "stream",
     "text": [
      "INFO:tensorflow:Assets written to: /home/manuelquiros/Documents/Kaggle/House_Prices/MLP1/assets\n"
     ]
    },
    {
     "name": "stderr",
     "output_type": "stream",
     "text": [
      "INFO:tensorflow:Assets written to: /home/manuelquiros/Documents/Kaggle/House_Prices/MLP1/assets\n"
     ]
    },
    {
     "name": "stdout",
     "output_type": "stream",
     "text": [
      "117/117 [==============================] - 1s 6ms/step - loss: 209227120.0000 - root_mean_squared_error: 14464.6855 - val_loss: 742808256.0000 - val_root_mean_squared_error: 27254.5098 - lr: 0.0010\n",
      "Epoch 29/200\n",
      "117/117 [==============================] - 0s 2ms/step - loss: 194955968.0000 - root_mean_squared_error: 13962.6631 - val_loss: 771176064.0000 - val_root_mean_squared_error: 27770.0566 - lr: 0.0010\n",
      "Epoch 30/200\n",
      "117/117 [==============================] - 0s 2ms/step - loss: 226832000.0000 - root_mean_squared_error: 15060.9424 - val_loss: 772264512.0000 - val_root_mean_squared_error: 27789.6484 - lr: 0.0010\n",
      "Epoch 31/200\n",
      "117/117 [==============================] - 0s 2ms/step - loss: 205769024.0000 - root_mean_squared_error: 14344.6514 - val_loss: 814056896.0000 - val_root_mean_squared_error: 28531.6816 - lr: 0.0010\n",
      "Epoch 32/200\n",
      "117/117 [==============================] - 0s 2ms/step - loss: 185516288.0000 - root_mean_squared_error: 13620.4365 - val_loss: 784960448.0000 - val_root_mean_squared_error: 28017.1465 - lr: 0.0010\n",
      "Epoch 33/200\n",
      "117/117 [==============================] - 0s 2ms/step - loss: 229254400.0000 - root_mean_squared_error: 15141.1494 - val_loss: 803387840.0000 - val_root_mean_squared_error: 28344.0977 - lr: 0.0010\n",
      "Epoch 34/200\n",
      "117/117 [==============================] - 0s 2ms/step - loss: 220287776.0000 - root_mean_squared_error: 14842.0947 - val_loss: 805202624.0000 - val_root_mean_squared_error: 28376.0918 - lr: 0.0010\n",
      "Epoch 35/200\n",
      "117/117 [==============================] - 0s 2ms/step - loss: 184555856.0000 - root_mean_squared_error: 13585.1338 - val_loss: 792135104.0000 - val_root_mean_squared_error: 28144.8945 - lr: 0.0010\n",
      "Epoch 36/200\n",
      "117/117 [==============================] - 0s 2ms/step - loss: 204852032.0000 - root_mean_squared_error: 14312.6533 - val_loss: 770362048.0000 - val_root_mean_squared_error: 27755.3965 - lr: 0.0010\n",
      "Epoch 37/200\n",
      "117/117 [==============================] - 0s 2ms/step - loss: 187650864.0000 - root_mean_squared_error: 13698.5713 - val_loss: 771345920.0000 - val_root_mean_squared_error: 27773.1152 - lr: 2.0000e-04\n",
      "Epoch 38/200\n",
      "117/117 [==============================] - 0s 2ms/step - loss: 185611392.0000 - root_mean_squared_error: 13623.9268 - val_loss: 761431488.0000 - val_root_mean_squared_error: 27594.0488 - lr: 2.0000e-04\n",
      "Epoch 39/200\n",
      "117/117 [==============================] - 0s 2ms/step - loss: 217411168.0000 - root_mean_squared_error: 14744.8691 - val_loss: 768822656.0000 - val_root_mean_squared_error: 27727.6523 - lr: 2.0000e-04\n",
      "Epoch 40/200\n",
      "117/117 [==============================] - 0s 2ms/step - loss: 194823728.0000 - root_mean_squared_error: 13957.9268 - val_loss: 783679424.0000 - val_root_mean_squared_error: 27994.2754 - lr: 2.0000e-04\n",
      "Epoch 41/200\n",
      "117/117 [==============================] - 0s 2ms/step - loss: 187171296.0000 - root_mean_squared_error: 13681.0557 - val_loss: 764930560.0000 - val_root_mean_squared_error: 27657.3789 - lr: 2.0000e-04\n",
      "Epoch 42/200\n",
      "117/117 [==============================] - 0s 2ms/step - loss: 213779456.0000 - root_mean_squared_error: 14621.1992 - val_loss: 776639616.0000 - val_root_mean_squared_error: 27868.2539 - lr: 2.0000e-04\n",
      "Epoch 43/200\n",
      "117/117 [==============================] - 0s 2ms/step - loss: 188432064.0000 - root_mean_squared_error: 13727.0557 - val_loss: 778179968.0000 - val_root_mean_squared_error: 27895.8770 - lr: 2.0000e-04\n",
      "Epoch 44/200\n",
      "117/117 [==============================] - 0s 2ms/step - loss: 172771872.0000 - root_mean_squared_error: 13144.2715 - val_loss: 773666688.0000 - val_root_mean_squared_error: 27814.8652 - lr: 2.0000e-04\n",
      "Epoch 45/200\n",
      "117/117 [==============================] - 0s 2ms/step - loss: 205755376.0000 - root_mean_squared_error: 14344.1758 - val_loss: 776848320.0000 - val_root_mean_squared_error: 27871.9980 - lr: 2.0000e-04\n",
      "Epoch 46/200\n",
      "117/117 [==============================] - 0s 2ms/step - loss: 188903088.0000 - root_mean_squared_error: 13744.2021 - val_loss: 788478848.0000 - val_root_mean_squared_error: 28079.8652 - lr: 2.0000e-04\n",
      "Epoch 47/200\n",
      "117/117 [==============================] - 0s 2ms/step - loss: 184519664.0000 - root_mean_squared_error: 13583.8018 - val_loss: 768836928.0000 - val_root_mean_squared_error: 27727.9082 - lr: 2.0000e-04\n",
      "Epoch 48/200\n",
      "117/117 [==============================] - 0s 2ms/step - loss: 208320544.0000 - root_mean_squared_error: 14433.3135 - val_loss: 770828928.0000 - val_root_mean_squared_error: 27763.8066 - lr: 2.0000e-04\n",
      "Epoch 49/200\n",
      "117/117 [==============================] - 0s 2ms/step - loss: 205748480.0000 - root_mean_squared_error: 14343.9355 - val_loss: 790752128.0000 - val_root_mean_squared_error: 28120.3145 - lr: 2.0000e-04\n",
      "Epoch 50/200\n",
      "117/117 [==============================] - 0s 2ms/step - loss: 185534032.0000 - root_mean_squared_error: 13621.0879 - val_loss: 789849664.0000 - val_root_mean_squared_error: 28104.2637 - lr: 2.0000e-04\n",
      "Epoch 51/200\n",
      "117/117 [==============================] - 0s 2ms/step - loss: 193012400.0000 - root_mean_squared_error: 13892.8906 - val_loss: 781297984.0000 - val_root_mean_squared_error: 27951.7090 - lr: 2.0000e-04\n",
      "Epoch 52/200\n",
      "117/117 [==============================] - 0s 2ms/step - loss: 196849552.0000 - root_mean_squared_error: 14030.3086 - val_loss: 782039744.0000 - val_root_mean_squared_error: 27964.9727 - lr: 2.0000e-04\n",
      "Epoch 53/200\n",
      "117/117 [==============================] - 0s 2ms/step - loss: 174112336.0000 - root_mean_squared_error: 13195.1631 - val_loss: 775240576.0000 - val_root_mean_squared_error: 27843.1426 - lr: 2.0000e-04\n",
      "Epoch 54/200\n",
      "117/117 [==============================] - 0s 2ms/step - loss: 180955344.0000 - root_mean_squared_error: 13451.9639 - val_loss: 781583360.0000 - val_root_mean_squared_error: 27956.8125 - lr: 2.0000e-04\n",
      "Epoch 55/200\n",
      "117/117 [==============================] - 0s 2ms/step - loss: 203488352.0000 - root_mean_squared_error: 14264.9346 - val_loss: 777754304.0000 - val_root_mean_squared_error: 27888.2461 - lr: 2.0000e-04\n",
      "Epoch 56/200\n",
      "117/117 [==============================] - 0s 2ms/step - loss: 193101632.0000 - root_mean_squared_error: 13896.1016 - val_loss: 796125056.0000 - val_root_mean_squared_error: 28215.6875 - lr: 2.0000e-04\n",
      "Epoch 57/200\n",
      "117/117 [==============================] - 0s 2ms/step - loss: 187830560.0000 - root_mean_squared_error: 13705.1289 - val_loss: 780532416.0000 - val_root_mean_squared_error: 27938.0098 - lr: 2.0000e-04\n",
      "Epoch 58/200\n",
      "117/117 [==============================] - 0s 2ms/step - loss: 200357168.0000 - root_mean_squared_error: 14154.7578 - val_loss: 807127168.0000 - val_root_mean_squared_error: 28409.9844 - lr: 2.0000e-04\n",
      "Epoch 59/200\n",
      "117/117 [==============================] - 0s 2ms/step - loss: 199640064.0000 - root_mean_squared_error: 14129.4043 - val_loss: 785461568.0000 - val_root_mean_squared_error: 28026.0879 - lr: 2.0000e-04\n",
      "Epoch 60/200\n",
      "117/117 [==============================] - 0s 2ms/step - loss: 188375840.0000 - root_mean_squared_error: 13725.0078 - val_loss: 778840768.0000 - val_root_mean_squared_error: 27907.7188 - lr: 4.0000e-05\n",
      "Epoch 61/200\n",
      "117/117 [==============================] - 0s 2ms/step - loss: 178767200.0000 - root_mean_squared_error: 13370.3848 - val_loss: 777941440.0000 - val_root_mean_squared_error: 27891.6016 - lr: 4.0000e-05\n",
      "Epoch 62/200\n",
      "117/117 [==============================] - 0s 2ms/step - loss: 173102784.0000 - root_mean_squared_error: 13156.8535 - val_loss: 778099456.0000 - val_root_mean_squared_error: 27894.4336 - lr: 4.0000e-05\n",
      "Epoch 63/200\n",
      "117/117 [==============================] - 0s 2ms/step - loss: 193641968.0000 - root_mean_squared_error: 13915.5293 - val_loss: 778055040.0000 - val_root_mean_squared_error: 27893.6387 - lr: 4.0000e-05\n",
      "Epoch 64/200\n",
      "117/117 [==============================] - 0s 2ms/step - loss: 199076592.0000 - root_mean_squared_error: 14109.4502 - val_loss: 774641792.0000 - val_root_mean_squared_error: 27832.3867 - lr: 4.0000e-05\n",
      "Epoch 65/200\n",
      "117/117 [==============================] - 0s 2ms/step - loss: 195952256.0000 - root_mean_squared_error: 13998.2949 - val_loss: 775665280.0000 - val_root_mean_squared_error: 27850.7676 - lr: 4.0000e-05\n",
      "Epoch 66/200\n",
      "117/117 [==============================] - 0s 2ms/step - loss: 173268800.0000 - root_mean_squared_error: 13163.1611 - val_loss: 777299712.0000 - val_root_mean_squared_error: 27880.0957 - lr: 4.0000e-05\n",
      "Epoch 67/200\n",
      "117/117 [==============================] - 0s 2ms/step - loss: 203242688.0000 - root_mean_squared_error: 14256.3213 - val_loss: 777598592.0000 - val_root_mean_squared_error: 27885.4551 - lr: 4.0000e-05\n",
      "Epoch 68/200\n",
      "117/117 [==============================] - 0s 3ms/step - loss: 206027456.0000 - root_mean_squared_error: 14353.6562 - val_loss: 778904128.0000 - val_root_mean_squared_error: 27908.8535 - lr: 4.0000e-05\n",
      "Epoch 69/200\n",
      "117/117 [==============================] - 0s 2ms/step - loss: 181634352.0000 - root_mean_squared_error: 13477.1787 - val_loss: 782883584.0000 - val_root_mean_squared_error: 27980.0566 - lr: 4.0000e-05\n",
      "Epoch 70/200\n",
      "117/117 [==============================] - 0s 2ms/step - loss: 186004352.0000 - root_mean_squared_error: 13638.3408 - val_loss: 780685184.0000 - val_root_mean_squared_error: 27940.7441 - lr: 4.0000e-05\n",
      "Epoch 71/200\n",
      "117/117 [==============================] - 0s 2ms/step - loss: 193352176.0000 - root_mean_squared_error: 13905.1133 - val_loss: 785882240.0000 - val_root_mean_squared_error: 28033.5918 - lr: 4.0000e-05\n",
      "Epoch 72/200\n",
      "117/117 [==============================] - 0s 2ms/step - loss: 188096160.0000 - root_mean_squared_error: 13714.8154 - val_loss: 782583296.0000 - val_root_mean_squared_error: 27974.6895 - lr: 4.0000e-05\n",
      "Epoch 73/200\n",
      "117/117 [==============================] - 0s 2ms/step - loss: 194582288.0000 - root_mean_squared_error: 13949.2754 - val_loss: 782115392.0000 - val_root_mean_squared_error: 27966.3262 - lr: 4.0000e-05\n",
      "Epoch 74/200\n",
      "117/117 [==============================] - 0s 2ms/step - loss: 202382736.0000 - root_mean_squared_error: 14226.1289 - val_loss: 780023360.0000 - val_root_mean_squared_error: 27928.8984 - lr: 4.0000e-05\n",
      "Epoch 75/200\n",
      "117/117 [==============================] - 0s 2ms/step - loss: 188038992.0000 - root_mean_squared_error: 13712.7314 - val_loss: 779856192.0000 - val_root_mean_squared_error: 27925.9062 - lr: 8.0000e-06\n",
      "Epoch 76/200\n",
      "117/117 [==============================] - 0s 2ms/step - loss: 190847264.0000 - root_mean_squared_error: 13814.7480 - val_loss: 779763712.0000 - val_root_mean_squared_error: 27924.2500 - lr: 8.0000e-06\n",
      "Epoch 77/200\n",
      "117/117 [==============================] - 0s 2ms/step - loss: 197288160.0000 - root_mean_squared_error: 14045.9307 - val_loss: 779413248.0000 - val_root_mean_squared_error: 27917.9727 - lr: 8.0000e-06\n",
      "Epoch 78/200\n",
      "117/117 [==============================] - 0s 2ms/step - loss: 173092896.0000 - root_mean_squared_error: 13156.4775 - val_loss: 778927680.0000 - val_root_mean_squared_error: 27909.2754 - lr: 8.0000e-06\n",
      "Epoch 79/200\n",
      "117/117 [==============================] - 0s 2ms/step - loss: 192449856.0000 - root_mean_squared_error: 13872.6299 - val_loss: 779426688.0000 - val_root_mean_squared_error: 27918.2148 - lr: 8.0000e-06\n",
      "Epoch 80/200\n",
      "117/117 [==============================] - 0s 2ms/step - loss: 207048688.0000 - root_mean_squared_error: 14389.1865 - val_loss: 779463040.0000 - val_root_mean_squared_error: 27918.8652 - lr: 8.0000e-06\n",
      "Epoch 81/200\n",
      "117/117 [==============================] - 0s 2ms/step - loss: 175988688.0000 - root_mean_squared_error: 13266.0732 - val_loss: 779405824.0000 - val_root_mean_squared_error: 27917.8398 - lr: 8.0000e-06\n",
      "Epoch 82/200\n",
      "117/117 [==============================] - 0s 2ms/step - loss: 194420192.0000 - root_mean_squared_error: 13943.4639 - val_loss: 779541760.0000 - val_root_mean_squared_error: 27920.2754 - lr: 8.0000e-06\n",
      "Epoch 83/200\n",
      "117/117 [==============================] - 0s 2ms/step - loss: 169447920.0000 - root_mean_squared_error: 13017.2158 - val_loss: 779369024.0000 - val_root_mean_squared_error: 27917.1816 - lr: 8.0000e-06\n",
      "Epoch 84/200\n",
      "117/117 [==============================] - 0s 2ms/step - loss: 183468768.0000 - root_mean_squared_error: 13545.0645 - val_loss: 779157056.0000 - val_root_mean_squared_error: 27913.3848 - lr: 8.0000e-06\n",
      "Epoch 85/200\n",
      "117/117 [==============================] - 0s 2ms/step - loss: 201433248.0000 - root_mean_squared_error: 14192.7178 - val_loss: 778006272.0000 - val_root_mean_squared_error: 27892.7637 - lr: 8.0000e-06\n",
      "Epoch 86/200\n",
      "117/117 [==============================] - 0s 2ms/step - loss: 180220016.0000 - root_mean_squared_error: 13424.6045 - val_loss: 778203072.0000 - val_root_mean_squared_error: 27896.2910 - lr: 8.0000e-06\n",
      "Epoch 87/200\n",
      "117/117 [==============================] - 0s 2ms/step - loss: 201797120.0000 - root_mean_squared_error: 14205.5312 - val_loss: 778598080.0000 - val_root_mean_squared_error: 27903.3711 - lr: 8.0000e-06\n",
      "Epoch 88/200\n",
      "117/117 [==============================] - 0s 2ms/step - loss: 201977648.0000 - root_mean_squared_error: 14211.8838 - val_loss: 778526912.0000 - val_root_mean_squared_error: 27902.0957 - lr: 8.0000e-06\n",
      "Epoch 89/200\n",
      "117/117 [==============================] - 0s 2ms/step - loss: 195577744.0000 - root_mean_squared_error: 13984.9111 - val_loss: 779036224.0000 - val_root_mean_squared_error: 27911.2207 - lr: 8.0000e-06\n",
      "Epoch 90/200\n",
      "117/117 [==============================] - 0s 2ms/step - loss: 198899136.0000 - root_mean_squared_error: 14103.1602 - val_loss: 778851584.0000 - val_root_mean_squared_error: 27907.9121 - lr: 8.0000e-06\n",
      "Epoch 91/200\n",
      "117/117 [==============================] - 0s 2ms/step - loss: 188694720.0000 - root_mean_squared_error: 13736.6201 - val_loss: 777977600.0000 - val_root_mean_squared_error: 27892.2500 - lr: 8.0000e-06\n",
      "Epoch 92/200\n",
      "117/117 [==============================] - 0s 2ms/step - loss: 186461984.0000 - root_mean_squared_error: 13655.1084 - val_loss: 777350912.0000 - val_root_mean_squared_error: 27881.0137 - lr: 8.0000e-06\n",
      "Epoch 93/200\n",
      "117/117 [==============================] - 0s 2ms/step - loss: 201930912.0000 - root_mean_squared_error: 14210.2393 - val_loss: 778141376.0000 - val_root_mean_squared_error: 27895.1855 - lr: 8.0000e-06\n",
      "Epoch 94/200\n",
      "117/117 [==============================] - 0s 2ms/step - loss: 203919776.0000 - root_mean_squared_error: 14280.0479 - val_loss: 779024704.0000 - val_root_mean_squared_error: 27911.0137 - lr: 8.0000e-06\n",
      "Epoch 95/200\n",
      "117/117 [==============================] - 0s 2ms/step - loss: 210352944.0000 - root_mean_squared_error: 14503.5498 - val_loss: 779400000.0000 - val_root_mean_squared_error: 27917.7363 - lr: 8.0000e-06\n",
      "Epoch 96/200\n",
      "117/117 [==============================] - 0s 2ms/step - loss: 206363984.0000 - root_mean_squared_error: 14365.3740 - val_loss: 779293824.0000 - val_root_mean_squared_error: 27915.8340 - lr: 8.0000e-06\n",
      "Epoch 97/200\n",
      "117/117 [==============================] - 0s 3ms/step - loss: 197612544.0000 - root_mean_squared_error: 14057.4727 - val_loss: 779285696.0000 - val_root_mean_squared_error: 27915.6895 - lr: 8.0000e-06\n",
      "Epoch 98/200\n",
      "117/117 [==============================] - 0s 2ms/step - loss: 201161296.0000 - root_mean_squared_error: 14183.1338 - val_loss: 779897152.0000 - val_root_mean_squared_error: 27926.6387 - lr: 8.0000e-06\n",
      "Epoch 99/200\n",
      "117/117 [==============================] - 0s 2ms/step - loss: 185468880.0000 - root_mean_squared_error: 13618.6963 - val_loss: 779923840.0000 - val_root_mean_squared_error: 27927.1172 - lr: 1.6000e-06\n",
      "Epoch 100/200\n",
      "117/117 [==============================] - 0s 2ms/step - loss: 205367408.0000 - root_mean_squared_error: 14330.6455 - val_loss: 779669696.0000 - val_root_mean_squared_error: 27922.5664 - lr: 1.6000e-06\n",
      "Epoch 101/200\n",
      "117/117 [==============================] - 0s 2ms/step - loss: 212294160.0000 - root_mean_squared_error: 14570.3174 - val_loss: 779582848.0000 - val_root_mean_squared_error: 27921.0117 - lr: 1.6000e-06\n",
      "Epoch 102/200\n",
      "117/117 [==============================] - 0s 2ms/step - loss: 164526272.0000 - root_mean_squared_error: 12826.7793 - val_loss: 779706816.0000 - val_root_mean_squared_error: 27923.2305 - lr: 1.6000e-06\n",
      "Epoch 103/200\n",
      "117/117 [==============================] - 0s 2ms/step - loss: 214446176.0000 - root_mean_squared_error: 14643.9805 - val_loss: 779697984.0000 - val_root_mean_squared_error: 27923.0723 - lr: 1.6000e-06\n",
      "Epoch 104/200\n",
      "117/117 [==============================] - 0s 2ms/step - loss: 213715856.0000 - root_mean_squared_error: 14619.0234 - val_loss: 779471296.0000 - val_root_mean_squared_error: 27919.0137 - lr: 1.6000e-06\n",
      "Epoch 105/200\n",
      "117/117 [==============================] - 0s 2ms/step - loss: 172672784.0000 - root_mean_squared_error: 13140.5020 - val_loss: 779573312.0000 - val_root_mean_squared_error: 27920.8398 - lr: 1.6000e-06\n",
      "Epoch 106/200\n",
      "117/117 [==============================] - 0s 2ms/step - loss: 199499904.0000 - root_mean_squared_error: 14124.4434 - val_loss: 779424448.0000 - val_root_mean_squared_error: 27918.1738 - lr: 1.6000e-06\n",
      "Epoch 107/200\n",
      "117/117 [==============================] - 0s 2ms/step - loss: 167695840.0000 - root_mean_squared_error: 12949.7432 - val_loss: 779714432.0000 - val_root_mean_squared_error: 27923.3672 - lr: 1.6000e-06\n",
      "Epoch 108/200\n",
      "117/117 [==============================] - 0s 2ms/step - loss: 193117712.0000 - root_mean_squared_error: 13896.6797 - val_loss: 779843840.0000 - val_root_mean_squared_error: 27925.6836 - lr: 1.6000e-06\n",
      "Epoch 109/200\n",
      "117/117 [==============================] - 0s 2ms/step - loss: 195332960.0000 - root_mean_squared_error: 13976.1572 - val_loss: 779601664.0000 - val_root_mean_squared_error: 27921.3477 - lr: 1.6000e-06\n",
      "Epoch 110/200\n",
      "117/117 [==============================] - 0s 2ms/step - loss: 174461808.0000 - root_mean_squared_error: 13208.3994 - val_loss: 779731456.0000 - val_root_mean_squared_error: 27923.6719 - lr: 1.6000e-06\n",
      "Epoch 111/200\n",
      "117/117 [==============================] - 0s 2ms/step - loss: 188455040.0000 - root_mean_squared_error: 13727.8926 - val_loss: 779889344.0000 - val_root_mean_squared_error: 27926.4980 - lr: 1.6000e-06\n",
      "Epoch 112/200\n",
      "117/117 [==============================] - 0s 2ms/step - loss: 189658256.0000 - root_mean_squared_error: 13771.6465 - val_loss: 779657472.0000 - val_root_mean_squared_error: 27922.3477 - lr: 1.6000e-06\n",
      "Epoch 113/200\n",
      "117/117 [==============================] - 0s 2ms/step - loss: 191246624.0000 - root_mean_squared_error: 13829.1943 - val_loss: 779366272.0000 - val_root_mean_squared_error: 27917.1328 - lr: 1.6000e-06\n",
      "Epoch 114/200\n",
      "117/117 [==============================] - 0s 2ms/step - loss: 156706416.0000 - root_mean_squared_error: 12518.2432 - val_loss: 779624768.0000 - val_root_mean_squared_error: 27921.7617 - lr: 1.6000e-06\n",
      "Epoch 115/200\n",
      "117/117 [==============================] - 0s 2ms/step - loss: 223754240.0000 - root_mean_squared_error: 14958.4170 - val_loss: 779757760.0000 - val_root_mean_squared_error: 27924.1426 - lr: 1.6000e-06\n",
      "Epoch 116/200\n",
      "117/117 [==============================] - 0s 2ms/step - loss: 171598864.0000 - root_mean_squared_error: 13099.5752 - val_loss: 779603392.0000 - val_root_mean_squared_error: 27921.3789 - lr: 1.6000e-06\n",
      "Epoch 117/200\n",
      "117/117 [==============================] - 0s 2ms/step - loss: 193419328.0000 - root_mean_squared_error: 13907.5273 - val_loss: 779613696.0000 - val_root_mean_squared_error: 27921.5625 - lr: 1.6000e-06\n",
      "Epoch 118/200\n",
      "117/117 [==============================] - 0s 2ms/step - loss: 197814576.0000 - root_mean_squared_error: 14064.6572 - val_loss: 779696832.0000 - val_root_mean_squared_error: 27923.0527 - lr: 1.6000e-06\n",
      "Epoch 119/200\n",
      "117/117 [==============================] - 0s 2ms/step - loss: 176772608.0000 - root_mean_squared_error: 13295.5859 - val_loss: 779615488.0000 - val_root_mean_squared_error: 27921.5957 - lr: 1.6000e-06\n",
      "Epoch 120/200\n",
      "117/117 [==============================] - 0s 2ms/step - loss: 202249888.0000 - root_mean_squared_error: 14221.4590 - val_loss: 779505088.0000 - val_root_mean_squared_error: 27919.6191 - lr: 1.6000e-06\n",
      "Epoch 121/200\n",
      "117/117 [==============================] - 0s 3ms/step - loss: 183858176.0000 - root_mean_squared_error: 13559.4316 - val_loss: 779794176.0000 - val_root_mean_squared_error: 27924.7949 - lr: 1.6000e-06\n",
      "Epoch 122/200\n",
      "117/117 [==============================] - 0s 2ms/step - loss: 180133280.0000 - root_mean_squared_error: 13421.3740 - val_loss: 779792256.0000 - val_root_mean_squared_error: 27924.7598 - lr: 1.6000e-06\n",
      "Epoch 123/200\n",
      "117/117 [==============================] - 0s 2ms/step - loss: 158310368.0000 - root_mean_squared_error: 12582.1445 - val_loss: 779926976.0000 - val_root_mean_squared_error: 27927.1719 - lr: 1.6000e-06\n",
      "Epoch 124/200\n",
      "117/117 [==============================] - 0s 2ms/step - loss: 189234160.0000 - root_mean_squared_error: 13756.2412 - val_loss: 780106368.0000 - val_root_mean_squared_error: 27930.3848 - lr: 1.6000e-06\n",
      "Epoch 125/200\n",
      "117/117 [==============================] - 0s 2ms/step - loss: 186040144.0000 - root_mean_squared_error: 13639.6533 - val_loss: 779723776.0000 - val_root_mean_squared_error: 27923.5352 - lr: 1.6000e-06\n",
      "Epoch 126/200\n",
      "117/117 [==============================] - 0s 2ms/step - loss: 194451120.0000 - root_mean_squared_error: 13944.5732 - val_loss: 779426176.0000 - val_root_mean_squared_error: 27918.2051 - lr: 1.6000e-06\n",
      "Epoch 127/200\n",
      "117/117 [==============================] - 0s 2ms/step - loss: 216804864.0000 - root_mean_squared_error: 14724.2949 - val_loss: 779705792.0000 - val_root_mean_squared_error: 27923.2129 - lr: 1.6000e-06\n",
      "Epoch 128/200\n",
      "117/117 [==============================] - 0s 2ms/step - loss: 211531904.0000 - root_mean_squared_error: 14544.1367 - val_loss: 779603136.0000 - val_root_mean_squared_error: 27921.3750 - lr: 1.6000e-06\n",
      "Epoch 129/200\n",
      "117/117 [==============================] - 0s 2ms/step - loss: 201669520.0000 - root_mean_squared_error: 14201.0391 - val_loss: 779729152.0000 - val_root_mean_squared_error: 27923.6309 - lr: 1.6000e-06\n",
      "Epoch 130/200\n",
      "117/117 [==============================] - 0s 2ms/step - loss: 199447888.0000 - root_mean_squared_error: 14122.6016 - val_loss: 779727872.0000 - val_root_mean_squared_error: 27923.6074 - lr: 3.2000e-07\n",
      "Epoch 131/200\n",
      "117/117 [==============================] - 0s 2ms/step - loss: 212231712.0000 - root_mean_squared_error: 14568.1748 - val_loss: 779706496.0000 - val_root_mean_squared_error: 27923.2246 - lr: 3.2000e-07\n",
      "Epoch 132/200\n",
      "117/117 [==============================] - 0s 2ms/step - loss: 219324992.0000 - root_mean_squared_error: 14809.6250 - val_loss: 779743168.0000 - val_root_mean_squared_error: 27923.8809 - lr: 3.2000e-07\n",
      "Epoch 133/200\n",
      "117/117 [==============================] - 0s 2ms/step - loss: 203662608.0000 - root_mean_squared_error: 14271.0410 - val_loss: 779757824.0000 - val_root_mean_squared_error: 27924.1445 - lr: 3.2000e-07\n",
      "Epoch 134/200\n",
      "117/117 [==============================] - 0s 2ms/step - loss: 218206288.0000 - root_mean_squared_error: 14771.8076 - val_loss: 779814784.0000 - val_root_mean_squared_error: 27925.1641 - lr: 3.2000e-07\n",
      "Epoch 135/200\n",
      "117/117 [==============================] - 0s 2ms/step - loss: 196542416.0000 - root_mean_squared_error: 14019.3584 - val_loss: 779777600.0000 - val_root_mean_squared_error: 27924.4980 - lr: 3.2000e-07\n",
      "Epoch 136/200\n",
      "117/117 [==============================] - 0s 2ms/step - loss: 171165312.0000 - root_mean_squared_error: 13083.0166 - val_loss: 779795776.0000 - val_root_mean_squared_error: 27924.8242 - lr: 3.2000e-07\n",
      "Epoch 137/200\n",
      "117/117 [==============================] - 0s 2ms/step - loss: 197557712.0000 - root_mean_squared_error: 14055.5225 - val_loss: 779813632.0000 - val_root_mean_squared_error: 27925.1426 - lr: 3.2000e-07\n",
      "Epoch 138/200\n",
      "117/117 [==============================] - 0s 3ms/step - loss: 188551936.0000 - root_mean_squared_error: 13731.4219 - val_loss: 779816896.0000 - val_root_mean_squared_error: 27925.2012 - lr: 3.2000e-07\n",
      "Epoch 139/200\n",
      "117/117 [==============================] - 0s 2ms/step - loss: 186975360.0000 - root_mean_squared_error: 13673.8936 - val_loss: 779778624.0000 - val_root_mean_squared_error: 27924.5156 - lr: 3.2000e-07\n",
      "Epoch 140/200\n",
      "117/117 [==============================] - 0s 2ms/step - loss: 185031136.0000 - root_mean_squared_error: 13602.6152 - val_loss: 779740736.0000 - val_root_mean_squared_error: 27923.8379 - lr: 3.2000e-07\n",
      "Epoch 141/200\n",
      "117/117 [==============================] - 0s 2ms/step - loss: 196242320.0000 - root_mean_squared_error: 14008.6514 - val_loss: 779765056.0000 - val_root_mean_squared_error: 27924.2734 - lr: 3.2000e-07\n",
      "Epoch 142/200\n",
      "117/117 [==============================] - 0s 3ms/step - loss: 185995392.0000 - root_mean_squared_error: 13638.0127 - val_loss: 779783680.0000 - val_root_mean_squared_error: 27924.6074 - lr: 3.2000e-07\n",
      "Epoch 143/200\n",
      "117/117 [==============================] - 0s 2ms/step - loss: 202350768.0000 - root_mean_squared_error: 14225.0049 - val_loss: 779823616.0000 - val_root_mean_squared_error: 27925.3223 - lr: 3.2000e-07\n",
      "Epoch 144/200\n",
      "117/117 [==============================] - 0s 2ms/step - loss: 183781712.0000 - root_mean_squared_error: 13556.6113 - val_loss: 779762240.0000 - val_root_mean_squared_error: 27924.2227 - lr: 3.2000e-07\n",
      "Epoch 145/200\n",
      "117/117 [==============================] - 0s 2ms/step - loss: 190523152.0000 - root_mean_squared_error: 13803.0127 - val_loss: 779757760.0000 - val_root_mean_squared_error: 27924.1426 - lr: 6.4000e-08\n",
      "Epoch 146/200\n",
      "117/117 [==============================] - 0s 2ms/step - loss: 179506624.0000 - root_mean_squared_error: 13398.0078 - val_loss: 779766656.0000 - val_root_mean_squared_error: 27924.3027 - lr: 6.4000e-08\n",
      "Epoch 147/200\n",
      "117/117 [==============================] - 0s 2ms/step - loss: 205100160.0000 - root_mean_squared_error: 14321.3184 - val_loss: 779763712.0000 - val_root_mean_squared_error: 27924.2500 - lr: 6.4000e-08\n",
      "Epoch 148/200\n",
      "117/117 [==============================] - 0s 2ms/step - loss: 189090160.0000 - root_mean_squared_error: 13751.0059 - val_loss: 779763712.0000 - val_root_mean_squared_error: 27924.2500 - lr: 6.4000e-08\n",
      "Epoch 149/200\n",
      "117/117 [==============================] - 0s 2ms/step - loss: 184844880.0000 - root_mean_squared_error: 13595.7666 - val_loss: 779769216.0000 - val_root_mean_squared_error: 27924.3477 - lr: 6.4000e-08\n",
      "Epoch 150/200\n",
      "117/117 [==============================] - 0s 2ms/step - loss: 191473872.0000 - root_mean_squared_error: 13837.4082 - val_loss: 779767424.0000 - val_root_mean_squared_error: 27924.3164 - lr: 6.4000e-08\n",
      "Epoch 151/200\n",
      "117/117 [==============================] - 0s 2ms/step - loss: 193032208.0000 - root_mean_squared_error: 13893.6035 - val_loss: 779767168.0000 - val_root_mean_squared_error: 27924.3105 - lr: 6.4000e-08\n",
      "Epoch 152/200\n",
      "117/117 [==============================] - 0s 2ms/step - loss: 188122672.0000 - root_mean_squared_error: 13715.7822 - val_loss: 779767552.0000 - val_root_mean_squared_error: 27924.3184 - lr: 6.4000e-08\n",
      "Epoch 153/200\n",
      "117/117 [==============================] - 0s 2ms/step - loss: 193004816.0000 - root_mean_squared_error: 13892.6172 - val_loss: 779759808.0000 - val_root_mean_squared_error: 27924.1797 - lr: 6.4000e-08\n",
      "Epoch 154/200\n",
      "117/117 [==============================] - 0s 2ms/step - loss: 190827408.0000 - root_mean_squared_error: 13814.0293 - val_loss: 779755968.0000 - val_root_mean_squared_error: 27924.1113 - lr: 6.4000e-08\n",
      "Epoch 155/200\n",
      "117/117 [==============================] - 0s 2ms/step - loss: 176619376.0000 - root_mean_squared_error: 13289.8223 - val_loss: 779756800.0000 - val_root_mean_squared_error: 27924.1250 - lr: 6.4000e-08\n",
      "Epoch 156/200\n",
      "117/117 [==============================] - 0s 2ms/step - loss: 174148672.0000 - root_mean_squared_error: 13196.5400 - val_loss: 779754304.0000 - val_root_mean_squared_error: 27924.0820 - lr: 6.4000e-08\n",
      "Epoch 157/200\n",
      "117/117 [==============================] - 0s 2ms/step - loss: 186552400.0000 - root_mean_squared_error: 13658.4189 - val_loss: 779747968.0000 - val_root_mean_squared_error: 27923.9668 - lr: 6.4000e-08\n",
      "Epoch 158/200\n",
      "117/117 [==============================] - 0s 2ms/step - loss: 175509792.0000 - root_mean_squared_error: 13248.0107 - val_loss: 779747392.0000 - val_root_mean_squared_error: 27923.9570 - lr: 6.4000e-08\n",
      "Epoch 159/200\n",
      "117/117 [==============================] - 0s 2ms/step - loss: 224529184.0000 - root_mean_squared_error: 14984.2979 - val_loss: 779755968.0000 - val_root_mean_squared_error: 27924.1113 - lr: 6.4000e-08\n",
      "Epoch 160/200\n",
      "117/117 [==============================] - 0s 2ms/step - loss: 200448480.0000 - root_mean_squared_error: 14157.9824 - val_loss: 779755840.0000 - val_root_mean_squared_error: 27924.1094 - lr: 1.2800e-08\n",
      "Epoch 161/200\n",
      "117/117 [==============================] - 0s 3ms/step - loss: 200087232.0000 - root_mean_squared_error: 14145.2197 - val_loss: 779755712.0000 - val_root_mean_squared_error: 27924.1055 - lr: 1.2800e-08\n",
      "Epoch 162/200\n",
      "117/117 [==============================] - 0s 2ms/step - loss: 206422448.0000 - root_mean_squared_error: 14367.4092 - val_loss: 779755520.0000 - val_root_mean_squared_error: 27924.1035 - lr: 1.2800e-08\n",
      "Epoch 163/200\n",
      "117/117 [==============================] - 0s 2ms/step - loss: 182573152.0000 - root_mean_squared_error: 13511.9629 - val_loss: 779755520.0000 - val_root_mean_squared_error: 27924.1035 - lr: 1.2800e-08\n",
      "Epoch 164/200\n",
      "117/117 [==============================] - 0s 2ms/step - loss: 188666704.0000 - root_mean_squared_error: 13735.5996 - val_loss: 779755456.0000 - val_root_mean_squared_error: 27924.1016 - lr: 1.2800e-08\n",
      "Epoch 165/200\n",
      "117/117 [==============================] - 0s 2ms/step - loss: 177267216.0000 - root_mean_squared_error: 13314.1738 - val_loss: 779755456.0000 - val_root_mean_squared_error: 27924.1016 - lr: 1.2800e-08\n",
      "Epoch 166/200\n",
      "117/117 [==============================] - 0s 2ms/step - loss: 185434448.0000 - root_mean_squared_error: 13617.4316 - val_loss: 779755392.0000 - val_root_mean_squared_error: 27924.0996 - lr: 1.2800e-08\n",
      "Epoch 167/200\n",
      "117/117 [==============================] - 0s 2ms/step - loss: 213116832.0000 - root_mean_squared_error: 14598.5215 - val_loss: 779755392.0000 - val_root_mean_squared_error: 27924.0996 - lr: 1.2800e-08\n",
      "Epoch 168/200\n",
      "117/117 [==============================] - 0s 2ms/step - loss: 206201168.0000 - root_mean_squared_error: 14359.7061 - val_loss: 779755392.0000 - val_root_mean_squared_error: 27924.0996 - lr: 1.2800e-08\n",
      "Epoch 169/200\n",
      "117/117 [==============================] - 0s 2ms/step - loss: 177761840.0000 - root_mean_squared_error: 13332.7354 - val_loss: 779755072.0000 - val_root_mean_squared_error: 27924.0957 - lr: 1.2800e-08\n",
      "Epoch 170/200\n",
      "117/117 [==============================] - 0s 2ms/step - loss: 183978416.0000 - root_mean_squared_error: 13563.8643 - val_loss: 779754944.0000 - val_root_mean_squared_error: 27924.0918 - lr: 1.2800e-08\n",
      "Epoch 171/200\n",
      "117/117 [==============================] - 0s 2ms/step - loss: 197673440.0000 - root_mean_squared_error: 14059.6387 - val_loss: 779754944.0000 - val_root_mean_squared_error: 27924.0918 - lr: 1.2800e-08\n",
      "Epoch 172/200\n",
      "117/117 [==============================] - 0s 2ms/step - loss: 193338240.0000 - root_mean_squared_error: 13904.6123 - val_loss: 779755072.0000 - val_root_mean_squared_error: 27924.0957 - lr: 1.2800e-08\n",
      "Epoch 173/200\n",
      "117/117 [==============================] - 0s 2ms/step - loss: 177059632.0000 - root_mean_squared_error: 13306.3760 - val_loss: 779754944.0000 - val_root_mean_squared_error: 27924.0918 - lr: 1.2800e-08\n",
      "Epoch 174/200\n",
      "117/117 [==============================] - 0s 2ms/step - loss: 185408288.0000 - root_mean_squared_error: 13616.4717 - val_loss: 779754944.0000 - val_root_mean_squared_error: 27924.0918 - lr: 1.2800e-08\n",
      "Epoch 175/200\n",
      "117/117 [==============================] - 0s 2ms/step - loss: 182202128.0000 - root_mean_squared_error: 13498.2266 - val_loss: 779754944.0000 - val_root_mean_squared_error: 27924.0918 - lr: 1.0000e-08\n",
      "Epoch 176/200\n",
      "117/117 [==============================] - 0s 2ms/step - loss: 180724304.0000 - root_mean_squared_error: 13443.3740 - val_loss: 779754816.0000 - val_root_mean_squared_error: 27924.0898 - lr: 1.0000e-08\n",
      "Epoch 177/200\n",
      "117/117 [==============================] - 0s 2ms/step - loss: 186025952.0000 - root_mean_squared_error: 13639.1328 - val_loss: 779754752.0000 - val_root_mean_squared_error: 27924.0898 - lr: 1.0000e-08\n",
      "Epoch 178/200\n",
      "117/117 [==============================] - 0s 2ms/step - loss: 189783392.0000 - root_mean_squared_error: 13776.1895 - val_loss: 779754816.0000 - val_root_mean_squared_error: 27924.0898 - lr: 1.0000e-08\n",
      "Epoch 179/200\n",
      "117/117 [==============================] - 0s 3ms/step - loss: 184501168.0000 - root_mean_squared_error: 13583.1211 - val_loss: 779754816.0000 - val_root_mean_squared_error: 27924.0898 - lr: 1.0000e-08\n",
      "Epoch 180/200\n",
      "117/117 [==============================] - 0s 2ms/step - loss: 176373328.0000 - root_mean_squared_error: 13280.5625 - val_loss: 779754816.0000 - val_root_mean_squared_error: 27924.0898 - lr: 1.0000e-08\n",
      "Epoch 181/200\n",
      "117/117 [==============================] - 0s 2ms/step - loss: 194327968.0000 - root_mean_squared_error: 13940.1562 - val_loss: 779754816.0000 - val_root_mean_squared_error: 27924.0898 - lr: 1.0000e-08\n",
      "Epoch 182/200\n",
      "117/117 [==============================] - 0s 2ms/step - loss: 185006832.0000 - root_mean_squared_error: 13601.7217 - val_loss: 779755072.0000 - val_root_mean_squared_error: 27924.0957 - lr: 1.0000e-08\n",
      "Epoch 183/200\n",
      "117/117 [==============================] - 0s 2ms/step - loss: 201156592.0000 - root_mean_squared_error: 14182.9688 - val_loss: 779754816.0000 - val_root_mean_squared_error: 27924.0898 - lr: 1.0000e-08\n",
      "Epoch 184/200\n",
      "117/117 [==============================] - 0s 2ms/step - loss: 194711280.0000 - root_mean_squared_error: 13953.8984 - val_loss: 779754880.0000 - val_root_mean_squared_error: 27924.0918 - lr: 1.0000e-08\n",
      "Epoch 185/200\n",
      "117/117 [==============================] - 0s 2ms/step - loss: 193640480.0000 - root_mean_squared_error: 13915.4766 - val_loss: 779754816.0000 - val_root_mean_squared_error: 27924.0898 - lr: 1.0000e-08\n",
      "Epoch 186/200\n",
      "117/117 [==============================] - 0s 2ms/step - loss: 183522288.0000 - root_mean_squared_error: 13547.0400 - val_loss: 779754944.0000 - val_root_mean_squared_error: 27924.0918 - lr: 1.0000e-08\n",
      "Epoch 187/200\n",
      "117/117 [==============================] - 0s 2ms/step - loss: 192054496.0000 - root_mean_squared_error: 13858.3730 - val_loss: 779754816.0000 - val_root_mean_squared_error: 27924.0898 - lr: 1.0000e-08\n",
      "Epoch 188/200\n",
      "117/117 [==============================] - 0s 2ms/step - loss: 189304816.0000 - root_mean_squared_error: 13758.8086 - val_loss: 779754816.0000 - val_root_mean_squared_error: 27924.0898 - lr: 1.0000e-08\n",
      "Epoch 189/200\n",
      "117/117 [==============================] - 0s 2ms/step - loss: 196575088.0000 - root_mean_squared_error: 14020.5234 - val_loss: 779754816.0000 - val_root_mean_squared_error: 27924.0898 - lr: 1.0000e-08\n",
      "Epoch 190/200\n",
      "117/117 [==============================] - 0s 2ms/step - loss: 191818944.0000 - root_mean_squared_error: 13849.8721 - val_loss: 779754816.0000 - val_root_mean_squared_error: 27924.0898 - lr: 1.0000e-08\n",
      "Epoch 191/200\n",
      "117/117 [==============================] - 0s 2ms/step - loss: 176674176.0000 - root_mean_squared_error: 13291.8838 - val_loss: 779754816.0000 - val_root_mean_squared_error: 27924.0898 - lr: 1.0000e-08\n",
      "Epoch 192/200\n",
      "117/117 [==============================] - 0s 2ms/step - loss: 230261152.0000 - root_mean_squared_error: 15174.3584 - val_loss: 779754560.0000 - val_root_mean_squared_error: 27924.0859 - lr: 1.0000e-08\n",
      "Epoch 193/200\n",
      "117/117 [==============================] - 0s 2ms/step - loss: 192132848.0000 - root_mean_squared_error: 13861.1992 - val_loss: 779754816.0000 - val_root_mean_squared_error: 27924.0898 - lr: 1.0000e-08\n",
      "Epoch 194/200\n",
      "117/117 [==============================] - 0s 2ms/step - loss: 176431504.0000 - root_mean_squared_error: 13282.7520 - val_loss: 779754816.0000 - val_root_mean_squared_error: 27924.0898 - lr: 1.0000e-08\n",
      "Epoch 195/200\n",
      "117/117 [==============================] - 0s 3ms/step - loss: 193007888.0000 - root_mean_squared_error: 13892.7275 - val_loss: 779754560.0000 - val_root_mean_squared_error: 27924.0859 - lr: 1.0000e-08\n",
      "Epoch 196/200\n",
      "117/117 [==============================] - 0s 2ms/step - loss: 193120944.0000 - root_mean_squared_error: 13896.7959 - val_loss: 779754496.0000 - val_root_mean_squared_error: 27924.0840 - lr: 1.0000e-08\n",
      "Epoch 197/200\n",
      "117/117 [==============================] - 0s 2ms/step - loss: 178003264.0000 - root_mean_squared_error: 13341.7861 - val_loss: 779754496.0000 - val_root_mean_squared_error: 27924.0840 - lr: 1.0000e-08\n",
      "Epoch 198/200\n",
      "117/117 [==============================] - 0s 2ms/step - loss: 182819984.0000 - root_mean_squared_error: 13521.0938 - val_loss: 779754688.0000 - val_root_mean_squared_error: 27924.0879 - lr: 1.0000e-08\n",
      "Epoch 199/200\n",
      "117/117 [==============================] - 0s 2ms/step - loss: 183702880.0000 - root_mean_squared_error: 13553.7031 - val_loss: 779754752.0000 - val_root_mean_squared_error: 27924.0898 - lr: 1.0000e-08\n",
      "Epoch 200/200\n",
      "117/117 [==============================] - 0s 2ms/step - loss: 186728112.0000 - root_mean_squared_error: 13664.8496 - val_loss: 779754816.0000 - val_root_mean_squared_error: 27924.0898 - lr: 1.0000e-08\n"
     ]
    }
   ],
   "source": [
    "history = model.fit(\n",
    "  X_train[:,feat_mask], \n",
    "  y_train, \n",
    "  epochs=200, \n",
    "  batch_size=8, \n",
    "  validation_split=0.2,\n",
    "  callbacks=[cp2,lr,tb2]\n",
    ")"
   ]
  },
  {
   "cell_type": "code",
   "execution_count": 114,
   "metadata": {},
   "outputs": [],
   "source": [
    "model = keras.models.load_model('MLP1/')"
   ]
  },
  {
   "cell_type": "code",
   "execution_count": 115,
   "metadata": {},
   "outputs": [
    {
     "name": "stdout",
     "output_type": "stream",
     "text": [
      "Model: \"sequential\"\n",
      "_________________________________________________________________\n",
      " Layer (type)                Output Shape              Param #   \n",
      "=================================================================\n",
      " dense (Dense)               (None, 500)               125000    \n",
      "                                                                 \n",
      " dense_1 (Dense)             (None, 300)               150300    \n",
      "                                                                 \n",
      " dense_2 (Dense)             (None, 100)               30100     \n",
      "                                                                 \n",
      " dense_3 (Dense)             (None, 1)                 101       \n",
      "                                                                 \n",
      "=================================================================\n",
      "Total params: 305,501\n",
      "Trainable params: 305,501\n",
      "Non-trainable params: 0\n",
      "_________________________________________________________________\n"
     ]
    }
   ],
   "source": [
    "model.summary()"
   ]
  },
  {
   "cell_type": "code",
   "execution_count": null,
   "metadata": {},
   "outputs": [],
   "source": []
  }
 ],
 "metadata": {
  "kernelspec": {
   "display_name": "KaggleTitanic",
   "language": "python",
   "name": "python3"
  },
  "language_info": {
   "codemirror_mode": {
    "name": "ipython",
    "version": 3
   },
   "file_extension": ".py",
   "mimetype": "text/x-python",
   "name": "python",
   "nbconvert_exporter": "python",
   "pygments_lexer": "ipython3",
   "version": "3.10.6"
  },
  "orig_nbformat": 4,
  "vscode": {
   "interpreter": {
    "hash": "83474ebaa8787261e8f0a20780c8c281efc65626e2789404694a95483fbffde8"
   }
  }
 },
 "nbformat": 4,
 "nbformat_minor": 2
}
