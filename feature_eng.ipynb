{
 "cells": [
  {
   "cell_type": "code",
   "execution_count": 1,
   "metadata": {},
   "outputs": [],
   "source": [
    "import pandas as pd\n",
    "import numpy as np"
   ]
  },
  {
   "cell_type": "code",
   "execution_count": 2,
   "metadata": {},
   "outputs": [],
   "source": [
    "from sklearn.compose import ColumnTransformer\n",
    "from sklearn.impute import SimpleImputer\n",
    "from sklearn.model_selection import RandomizedSearchCV, train_test_split, GridSearchCV\n",
    "from sklearn.pipeline import Pipeline\n",
    "from sklearn.preprocessing import OneHotEncoder, StandardScaler\n",
    "from sklearn.tree import DecisionTreeClassifier\n",
    "from sklearn.linear_model import LinearRegression\n",
    "from sklearn.metrics import mean_absolute_error, mean_squared_error, accuracy_score\n",
    "import matplotlib.pyplot as plt\n",
    "import numpy as np\n",
    "import pandas as pd\n",
    "import scipy\n",
    "import matplotlib.pyplot as plt\n"
   ]
  },
  {
   "cell_type": "code",
   "execution_count": 14,
   "metadata": {},
   "outputs": [],
   "source": [
    "def outliers_normalization(df):\n",
    "    '''\n",
    "    this function takes all the numerical features and deals with the high and low outliers\n",
    "    '''\n",
    "    num_feat = df.select_dtypes(include='number').columns.tolist()\n",
    "    for feat in num_feat:\n",
    "        q1 = df[feat].quantile(0.25)\n",
    "        q3 = df[feat].quantile(0.75)\n",
    "        iqr = q3-q1\n",
    "        outer_fence = 1.5*iqr\n",
    "        outer_fence_le = q1-outer_fence\n",
    "        outer_fence_ue = q3+outer_fence\n",
    "        df.loc[df[feat]>outer_fence_ue,feat]=outer_fence_ue\n",
    "        df.loc[df[feat]<outer_fence_le,feat]=outer_fence_le\n",
    "    return df\n",
    "\n",
    "    "
   ]
  },
  {
   "cell_type": "code",
   "execution_count": 38,
   "metadata": {},
   "outputs": [],
   "source": [
    "train_df=pd.read_csv('train.csv')\n",
    "test_df=pd.read_csv('test.csv')"
   ]
  },
  {
   "cell_type": "code",
   "execution_count": 6,
   "metadata": {},
   "outputs": [
    {
     "name": "stdout",
     "output_type": "stream",
     "text": [
      "(1460, 81)\n",
      "(1459, 80)\n"
     ]
    }
   ],
   "source": [
    "print(train_df.shape)\n",
    "print(test_df.shape)"
   ]
  },
  {
   "attachments": {},
   "cell_type": "markdown",
   "metadata": {},
   "source": [
    "#### Feature engineering"
   ]
  },
  {
   "cell_type": "code",
   "execution_count": 7,
   "metadata": {},
   "outputs": [
    {
     "data": {
      "text/html": [
       "<div>\n",
       "<style scoped>\n",
       "    .dataframe tbody tr th:only-of-type {\n",
       "        vertical-align: middle;\n",
       "    }\n",
       "\n",
       "    .dataframe tbody tr th {\n",
       "        vertical-align: top;\n",
       "    }\n",
       "\n",
       "    .dataframe thead th {\n",
       "        text-align: right;\n",
       "    }\n",
       "</style>\n",
       "<table border=\"1\" class=\"dataframe\">\n",
       "  <thead>\n",
       "    <tr style=\"text-align: right;\">\n",
       "      <th></th>\n",
       "      <th>Id</th>\n",
       "      <th>MSSubClass</th>\n",
       "      <th>MSZoning</th>\n",
       "      <th>LotFrontage</th>\n",
       "      <th>LotArea</th>\n",
       "      <th>Street</th>\n",
       "      <th>Alley</th>\n",
       "      <th>LotShape</th>\n",
       "      <th>LandContour</th>\n",
       "      <th>Utilities</th>\n",
       "      <th>...</th>\n",
       "      <th>PoolArea</th>\n",
       "      <th>PoolQC</th>\n",
       "      <th>Fence</th>\n",
       "      <th>MiscFeature</th>\n",
       "      <th>MiscVal</th>\n",
       "      <th>MoSold</th>\n",
       "      <th>YrSold</th>\n",
       "      <th>SaleType</th>\n",
       "      <th>SaleCondition</th>\n",
       "      <th>SalePrice</th>\n",
       "    </tr>\n",
       "  </thead>\n",
       "  <tbody>\n",
       "    <tr>\n",
       "      <th>0</th>\n",
       "      <td>1</td>\n",
       "      <td>60</td>\n",
       "      <td>RL</td>\n",
       "      <td>65.0</td>\n",
       "      <td>8450</td>\n",
       "      <td>Pave</td>\n",
       "      <td>NaN</td>\n",
       "      <td>Reg</td>\n",
       "      <td>Lvl</td>\n",
       "      <td>AllPub</td>\n",
       "      <td>...</td>\n",
       "      <td>0</td>\n",
       "      <td>NaN</td>\n",
       "      <td>NaN</td>\n",
       "      <td>NaN</td>\n",
       "      <td>0</td>\n",
       "      <td>2</td>\n",
       "      <td>2008</td>\n",
       "      <td>WD</td>\n",
       "      <td>Normal</td>\n",
       "      <td>208500</td>\n",
       "    </tr>\n",
       "    <tr>\n",
       "      <th>1</th>\n",
       "      <td>2</td>\n",
       "      <td>20</td>\n",
       "      <td>RL</td>\n",
       "      <td>80.0</td>\n",
       "      <td>9600</td>\n",
       "      <td>Pave</td>\n",
       "      <td>NaN</td>\n",
       "      <td>Reg</td>\n",
       "      <td>Lvl</td>\n",
       "      <td>AllPub</td>\n",
       "      <td>...</td>\n",
       "      <td>0</td>\n",
       "      <td>NaN</td>\n",
       "      <td>NaN</td>\n",
       "      <td>NaN</td>\n",
       "      <td>0</td>\n",
       "      <td>5</td>\n",
       "      <td>2007</td>\n",
       "      <td>WD</td>\n",
       "      <td>Normal</td>\n",
       "      <td>181500</td>\n",
       "    </tr>\n",
       "    <tr>\n",
       "      <th>2</th>\n",
       "      <td>3</td>\n",
       "      <td>60</td>\n",
       "      <td>RL</td>\n",
       "      <td>68.0</td>\n",
       "      <td>11250</td>\n",
       "      <td>Pave</td>\n",
       "      <td>NaN</td>\n",
       "      <td>IR1</td>\n",
       "      <td>Lvl</td>\n",
       "      <td>AllPub</td>\n",
       "      <td>...</td>\n",
       "      <td>0</td>\n",
       "      <td>NaN</td>\n",
       "      <td>NaN</td>\n",
       "      <td>NaN</td>\n",
       "      <td>0</td>\n",
       "      <td>9</td>\n",
       "      <td>2008</td>\n",
       "      <td>WD</td>\n",
       "      <td>Normal</td>\n",
       "      <td>223500</td>\n",
       "    </tr>\n",
       "    <tr>\n",
       "      <th>3</th>\n",
       "      <td>4</td>\n",
       "      <td>70</td>\n",
       "      <td>RL</td>\n",
       "      <td>60.0</td>\n",
       "      <td>9550</td>\n",
       "      <td>Pave</td>\n",
       "      <td>NaN</td>\n",
       "      <td>IR1</td>\n",
       "      <td>Lvl</td>\n",
       "      <td>AllPub</td>\n",
       "      <td>...</td>\n",
       "      <td>0</td>\n",
       "      <td>NaN</td>\n",
       "      <td>NaN</td>\n",
       "      <td>NaN</td>\n",
       "      <td>0</td>\n",
       "      <td>2</td>\n",
       "      <td>2006</td>\n",
       "      <td>WD</td>\n",
       "      <td>Abnorml</td>\n",
       "      <td>140000</td>\n",
       "    </tr>\n",
       "    <tr>\n",
       "      <th>4</th>\n",
       "      <td>5</td>\n",
       "      <td>60</td>\n",
       "      <td>RL</td>\n",
       "      <td>84.0</td>\n",
       "      <td>14260</td>\n",
       "      <td>Pave</td>\n",
       "      <td>NaN</td>\n",
       "      <td>IR1</td>\n",
       "      <td>Lvl</td>\n",
       "      <td>AllPub</td>\n",
       "      <td>...</td>\n",
       "      <td>0</td>\n",
       "      <td>NaN</td>\n",
       "      <td>NaN</td>\n",
       "      <td>NaN</td>\n",
       "      <td>0</td>\n",
       "      <td>12</td>\n",
       "      <td>2008</td>\n",
       "      <td>WD</td>\n",
       "      <td>Normal</td>\n",
       "      <td>250000</td>\n",
       "    </tr>\n",
       "  </tbody>\n",
       "</table>\n",
       "<p>5 rows × 81 columns</p>\n",
       "</div>"
      ],
      "text/plain": [
       "   Id  MSSubClass MSZoning  LotFrontage  LotArea Street Alley LotShape  \\\n",
       "0   1          60       RL         65.0     8450   Pave   NaN      Reg   \n",
       "1   2          20       RL         80.0     9600   Pave   NaN      Reg   \n",
       "2   3          60       RL         68.0    11250   Pave   NaN      IR1   \n",
       "3   4          70       RL         60.0     9550   Pave   NaN      IR1   \n",
       "4   5          60       RL         84.0    14260   Pave   NaN      IR1   \n",
       "\n",
       "  LandContour Utilities  ... PoolArea PoolQC Fence MiscFeature MiscVal MoSold  \\\n",
       "0         Lvl    AllPub  ...        0    NaN   NaN         NaN       0      2   \n",
       "1         Lvl    AllPub  ...        0    NaN   NaN         NaN       0      5   \n",
       "2         Lvl    AllPub  ...        0    NaN   NaN         NaN       0      9   \n",
       "3         Lvl    AllPub  ...        0    NaN   NaN         NaN       0      2   \n",
       "4         Lvl    AllPub  ...        0    NaN   NaN         NaN       0     12   \n",
       "\n",
       "  YrSold  SaleType  SaleCondition  SalePrice  \n",
       "0   2008        WD         Normal     208500  \n",
       "1   2007        WD         Normal     181500  \n",
       "2   2008        WD         Normal     223500  \n",
       "3   2006        WD        Abnorml     140000  \n",
       "4   2008        WD         Normal     250000  \n",
       "\n",
       "[5 rows x 81 columns]"
      ]
     },
     "execution_count": 7,
     "metadata": {},
     "output_type": "execute_result"
    }
   ],
   "source": [
    "train_df.head()"
   ]
  },
  {
   "cell_type": "code",
   "execution_count": 8,
   "metadata": {},
   "outputs": [
    {
     "data": {
      "text/html": [
       "<div>\n",
       "<style scoped>\n",
       "    .dataframe tbody tr th:only-of-type {\n",
       "        vertical-align: middle;\n",
       "    }\n",
       "\n",
       "    .dataframe tbody tr th {\n",
       "        vertical-align: top;\n",
       "    }\n",
       "\n",
       "    .dataframe thead th {\n",
       "        text-align: right;\n",
       "    }\n",
       "</style>\n",
       "<table border=\"1\" class=\"dataframe\">\n",
       "  <thead>\n",
       "    <tr style=\"text-align: right;\">\n",
       "      <th></th>\n",
       "      <th>Id</th>\n",
       "      <th>MSSubClass</th>\n",
       "      <th>MSZoning</th>\n",
       "      <th>LotFrontage</th>\n",
       "      <th>LotArea</th>\n",
       "      <th>Street</th>\n",
       "      <th>Alley</th>\n",
       "      <th>LotShape</th>\n",
       "      <th>LandContour</th>\n",
       "      <th>Utilities</th>\n",
       "      <th>...</th>\n",
       "      <th>ScreenPorch</th>\n",
       "      <th>PoolArea</th>\n",
       "      <th>PoolQC</th>\n",
       "      <th>Fence</th>\n",
       "      <th>MiscFeature</th>\n",
       "      <th>MiscVal</th>\n",
       "      <th>MoSold</th>\n",
       "      <th>YrSold</th>\n",
       "      <th>SaleType</th>\n",
       "      <th>SaleCondition</th>\n",
       "    </tr>\n",
       "  </thead>\n",
       "  <tbody>\n",
       "    <tr>\n",
       "      <th>0</th>\n",
       "      <td>1461</td>\n",
       "      <td>20</td>\n",
       "      <td>RH</td>\n",
       "      <td>80.0</td>\n",
       "      <td>11622</td>\n",
       "      <td>Pave</td>\n",
       "      <td>NaN</td>\n",
       "      <td>Reg</td>\n",
       "      <td>Lvl</td>\n",
       "      <td>AllPub</td>\n",
       "      <td>...</td>\n",
       "      <td>120</td>\n",
       "      <td>0</td>\n",
       "      <td>NaN</td>\n",
       "      <td>MnPrv</td>\n",
       "      <td>NaN</td>\n",
       "      <td>0</td>\n",
       "      <td>6</td>\n",
       "      <td>2010</td>\n",
       "      <td>WD</td>\n",
       "      <td>Normal</td>\n",
       "    </tr>\n",
       "    <tr>\n",
       "      <th>1</th>\n",
       "      <td>1462</td>\n",
       "      <td>20</td>\n",
       "      <td>RL</td>\n",
       "      <td>81.0</td>\n",
       "      <td>14267</td>\n",
       "      <td>Pave</td>\n",
       "      <td>NaN</td>\n",
       "      <td>IR1</td>\n",
       "      <td>Lvl</td>\n",
       "      <td>AllPub</td>\n",
       "      <td>...</td>\n",
       "      <td>0</td>\n",
       "      <td>0</td>\n",
       "      <td>NaN</td>\n",
       "      <td>NaN</td>\n",
       "      <td>Gar2</td>\n",
       "      <td>12500</td>\n",
       "      <td>6</td>\n",
       "      <td>2010</td>\n",
       "      <td>WD</td>\n",
       "      <td>Normal</td>\n",
       "    </tr>\n",
       "    <tr>\n",
       "      <th>2</th>\n",
       "      <td>1463</td>\n",
       "      <td>60</td>\n",
       "      <td>RL</td>\n",
       "      <td>74.0</td>\n",
       "      <td>13830</td>\n",
       "      <td>Pave</td>\n",
       "      <td>NaN</td>\n",
       "      <td>IR1</td>\n",
       "      <td>Lvl</td>\n",
       "      <td>AllPub</td>\n",
       "      <td>...</td>\n",
       "      <td>0</td>\n",
       "      <td>0</td>\n",
       "      <td>NaN</td>\n",
       "      <td>MnPrv</td>\n",
       "      <td>NaN</td>\n",
       "      <td>0</td>\n",
       "      <td>3</td>\n",
       "      <td>2010</td>\n",
       "      <td>WD</td>\n",
       "      <td>Normal</td>\n",
       "    </tr>\n",
       "    <tr>\n",
       "      <th>3</th>\n",
       "      <td>1464</td>\n",
       "      <td>60</td>\n",
       "      <td>RL</td>\n",
       "      <td>78.0</td>\n",
       "      <td>9978</td>\n",
       "      <td>Pave</td>\n",
       "      <td>NaN</td>\n",
       "      <td>IR1</td>\n",
       "      <td>Lvl</td>\n",
       "      <td>AllPub</td>\n",
       "      <td>...</td>\n",
       "      <td>0</td>\n",
       "      <td>0</td>\n",
       "      <td>NaN</td>\n",
       "      <td>NaN</td>\n",
       "      <td>NaN</td>\n",
       "      <td>0</td>\n",
       "      <td>6</td>\n",
       "      <td>2010</td>\n",
       "      <td>WD</td>\n",
       "      <td>Normal</td>\n",
       "    </tr>\n",
       "    <tr>\n",
       "      <th>4</th>\n",
       "      <td>1465</td>\n",
       "      <td>120</td>\n",
       "      <td>RL</td>\n",
       "      <td>43.0</td>\n",
       "      <td>5005</td>\n",
       "      <td>Pave</td>\n",
       "      <td>NaN</td>\n",
       "      <td>IR1</td>\n",
       "      <td>HLS</td>\n",
       "      <td>AllPub</td>\n",
       "      <td>...</td>\n",
       "      <td>144</td>\n",
       "      <td>0</td>\n",
       "      <td>NaN</td>\n",
       "      <td>NaN</td>\n",
       "      <td>NaN</td>\n",
       "      <td>0</td>\n",
       "      <td>1</td>\n",
       "      <td>2010</td>\n",
       "      <td>WD</td>\n",
       "      <td>Normal</td>\n",
       "    </tr>\n",
       "  </tbody>\n",
       "</table>\n",
       "<p>5 rows × 80 columns</p>\n",
       "</div>"
      ],
      "text/plain": [
       "     Id  MSSubClass MSZoning  LotFrontage  LotArea Street Alley LotShape  \\\n",
       "0  1461          20       RH         80.0    11622   Pave   NaN      Reg   \n",
       "1  1462          20       RL         81.0    14267   Pave   NaN      IR1   \n",
       "2  1463          60       RL         74.0    13830   Pave   NaN      IR1   \n",
       "3  1464          60       RL         78.0     9978   Pave   NaN      IR1   \n",
       "4  1465         120       RL         43.0     5005   Pave   NaN      IR1   \n",
       "\n",
       "  LandContour Utilities  ... ScreenPorch PoolArea PoolQC  Fence MiscFeature  \\\n",
       "0         Lvl    AllPub  ...         120        0    NaN  MnPrv         NaN   \n",
       "1         Lvl    AllPub  ...           0        0    NaN    NaN        Gar2   \n",
       "2         Lvl    AllPub  ...           0        0    NaN  MnPrv         NaN   \n",
       "3         Lvl    AllPub  ...           0        0    NaN    NaN         NaN   \n",
       "4         HLS    AllPub  ...         144        0    NaN    NaN         NaN   \n",
       "\n",
       "  MiscVal MoSold  YrSold  SaleType  SaleCondition  \n",
       "0       0      6    2010        WD         Normal  \n",
       "1   12500      6    2010        WD         Normal  \n",
       "2       0      3    2010        WD         Normal  \n",
       "3       0      6    2010        WD         Normal  \n",
       "4       0      1    2010        WD         Normal  \n",
       "\n",
       "[5 rows x 80 columns]"
      ]
     },
     "execution_count": 8,
     "metadata": {},
     "output_type": "execute_result"
    }
   ],
   "source": [
    "test_df.head()"
   ]
  },
  {
   "cell_type": "code",
   "execution_count": 10,
   "metadata": {},
   "outputs": [],
   "source": [
    "X=train_df.drop(columns=['SalePrice'])\n",
    "y=train_df['SalePrice']"
   ]
  },
  {
   "cell_type": "code",
   "execution_count": 17,
   "metadata": {},
   "outputs": [
    {
     "data": {
      "text/html": [
       "<div>\n",
       "<style scoped>\n",
       "    .dataframe tbody tr th:only-of-type {\n",
       "        vertical-align: middle;\n",
       "    }\n",
       "\n",
       "    .dataframe tbody tr th {\n",
       "        vertical-align: top;\n",
       "    }\n",
       "\n",
       "    .dataframe thead th {\n",
       "        text-align: right;\n",
       "    }\n",
       "</style>\n",
       "<table border=\"1\" class=\"dataframe\">\n",
       "  <thead>\n",
       "    <tr style=\"text-align: right;\">\n",
       "      <th></th>\n",
       "      <th>Id</th>\n",
       "      <th>MSSubClass</th>\n",
       "      <th>MSZoning</th>\n",
       "      <th>LotFrontage</th>\n",
       "      <th>LotArea</th>\n",
       "      <th>Street</th>\n",
       "      <th>Alley</th>\n",
       "      <th>LotShape</th>\n",
       "      <th>LandContour</th>\n",
       "      <th>Utilities</th>\n",
       "      <th>...</th>\n",
       "      <th>ScreenPorch</th>\n",
       "      <th>PoolArea</th>\n",
       "      <th>PoolQC</th>\n",
       "      <th>Fence</th>\n",
       "      <th>MiscFeature</th>\n",
       "      <th>MiscVal</th>\n",
       "      <th>MoSold</th>\n",
       "      <th>YrSold</th>\n",
       "      <th>SaleType</th>\n",
       "      <th>SaleCondition</th>\n",
       "    </tr>\n",
       "  </thead>\n",
       "  <tbody>\n",
       "    <tr>\n",
       "      <th>0</th>\n",
       "      <td>1</td>\n",
       "      <td>60</td>\n",
       "      <td>RL</td>\n",
       "      <td>65.0</td>\n",
       "      <td>8450</td>\n",
       "      <td>Pave</td>\n",
       "      <td>NaN</td>\n",
       "      <td>Reg</td>\n",
       "      <td>Lvl</td>\n",
       "      <td>AllPub</td>\n",
       "      <td>...</td>\n",
       "      <td>0</td>\n",
       "      <td>0</td>\n",
       "      <td>NaN</td>\n",
       "      <td>NaN</td>\n",
       "      <td>NaN</td>\n",
       "      <td>0</td>\n",
       "      <td>2</td>\n",
       "      <td>2008</td>\n",
       "      <td>WD</td>\n",
       "      <td>Normal</td>\n",
       "    </tr>\n",
       "    <tr>\n",
       "      <th>1</th>\n",
       "      <td>2</td>\n",
       "      <td>20</td>\n",
       "      <td>RL</td>\n",
       "      <td>80.0</td>\n",
       "      <td>9600</td>\n",
       "      <td>Pave</td>\n",
       "      <td>NaN</td>\n",
       "      <td>Reg</td>\n",
       "      <td>Lvl</td>\n",
       "      <td>AllPub</td>\n",
       "      <td>...</td>\n",
       "      <td>0</td>\n",
       "      <td>0</td>\n",
       "      <td>NaN</td>\n",
       "      <td>NaN</td>\n",
       "      <td>NaN</td>\n",
       "      <td>0</td>\n",
       "      <td>5</td>\n",
       "      <td>2007</td>\n",
       "      <td>WD</td>\n",
       "      <td>Normal</td>\n",
       "    </tr>\n",
       "    <tr>\n",
       "      <th>2</th>\n",
       "      <td>3</td>\n",
       "      <td>60</td>\n",
       "      <td>RL</td>\n",
       "      <td>68.0</td>\n",
       "      <td>11250</td>\n",
       "      <td>Pave</td>\n",
       "      <td>NaN</td>\n",
       "      <td>IR1</td>\n",
       "      <td>Lvl</td>\n",
       "      <td>AllPub</td>\n",
       "      <td>...</td>\n",
       "      <td>0</td>\n",
       "      <td>0</td>\n",
       "      <td>NaN</td>\n",
       "      <td>NaN</td>\n",
       "      <td>NaN</td>\n",
       "      <td>0</td>\n",
       "      <td>9</td>\n",
       "      <td>2008</td>\n",
       "      <td>WD</td>\n",
       "      <td>Normal</td>\n",
       "    </tr>\n",
       "    <tr>\n",
       "      <th>3</th>\n",
       "      <td>4</td>\n",
       "      <td>70</td>\n",
       "      <td>RL</td>\n",
       "      <td>60.0</td>\n",
       "      <td>9550</td>\n",
       "      <td>Pave</td>\n",
       "      <td>NaN</td>\n",
       "      <td>IR1</td>\n",
       "      <td>Lvl</td>\n",
       "      <td>AllPub</td>\n",
       "      <td>...</td>\n",
       "      <td>0</td>\n",
       "      <td>0</td>\n",
       "      <td>NaN</td>\n",
       "      <td>NaN</td>\n",
       "      <td>NaN</td>\n",
       "      <td>0</td>\n",
       "      <td>2</td>\n",
       "      <td>2006</td>\n",
       "      <td>WD</td>\n",
       "      <td>Abnorml</td>\n",
       "    </tr>\n",
       "    <tr>\n",
       "      <th>4</th>\n",
       "      <td>5</td>\n",
       "      <td>60</td>\n",
       "      <td>RL</td>\n",
       "      <td>84.0</td>\n",
       "      <td>14260</td>\n",
       "      <td>Pave</td>\n",
       "      <td>NaN</td>\n",
       "      <td>IR1</td>\n",
       "      <td>Lvl</td>\n",
       "      <td>AllPub</td>\n",
       "      <td>...</td>\n",
       "      <td>0</td>\n",
       "      <td>0</td>\n",
       "      <td>NaN</td>\n",
       "      <td>NaN</td>\n",
       "      <td>NaN</td>\n",
       "      <td>0</td>\n",
       "      <td>12</td>\n",
       "      <td>2008</td>\n",
       "      <td>WD</td>\n",
       "      <td>Normal</td>\n",
       "    </tr>\n",
       "  </tbody>\n",
       "</table>\n",
       "<p>5 rows × 80 columns</p>\n",
       "</div>"
      ],
      "text/plain": [
       "   Id  MSSubClass MSZoning  LotFrontage  LotArea Street Alley LotShape  \\\n",
       "0   1          60       RL         65.0     8450   Pave   NaN      Reg   \n",
       "1   2          20       RL         80.0     9600   Pave   NaN      Reg   \n",
       "2   3          60       RL         68.0    11250   Pave   NaN      IR1   \n",
       "3   4          70       RL         60.0     9550   Pave   NaN      IR1   \n",
       "4   5          60       RL         84.0    14260   Pave   NaN      IR1   \n",
       "\n",
       "  LandContour Utilities  ... ScreenPorch PoolArea PoolQC Fence MiscFeature  \\\n",
       "0         Lvl    AllPub  ...           0        0    NaN   NaN         NaN   \n",
       "1         Lvl    AllPub  ...           0        0    NaN   NaN         NaN   \n",
       "2         Lvl    AllPub  ...           0        0    NaN   NaN         NaN   \n",
       "3         Lvl    AllPub  ...           0        0    NaN   NaN         NaN   \n",
       "4         Lvl    AllPub  ...           0        0    NaN   NaN         NaN   \n",
       "\n",
       "  MiscVal MoSold  YrSold  SaleType  SaleCondition  \n",
       "0       0      2    2008        WD         Normal  \n",
       "1       0      5    2007        WD         Normal  \n",
       "2       0      9    2008        WD         Normal  \n",
       "3       0      2    2006        WD        Abnorml  \n",
       "4       0     12    2008        WD         Normal  \n",
       "\n",
       "[5 rows x 80 columns]"
      ]
     },
     "execution_count": 17,
     "metadata": {},
     "output_type": "execute_result"
    }
   ],
   "source": [
    "X.head()"
   ]
  },
  {
   "cell_type": "code",
   "execution_count": 21,
   "metadata": {},
   "outputs": [
    {
     "data": {
      "text/plain": [
       "0    208500\n",
       "1    181500\n",
       "2    223500\n",
       "3    140000\n",
       "4    250000\n",
       "Name: SalePrice, dtype: int64"
      ]
     },
     "execution_count": 21,
     "metadata": {},
     "output_type": "execute_result"
    }
   ],
   "source": [
    "y.head()"
   ]
  },
  {
   "cell_type": "code",
   "execution_count": 13,
   "metadata": {},
   "outputs": [],
   "source": [
    "X=outliers_normalization(X)"
   ]
  },
  {
   "cell_type": "code",
   "execution_count": 15,
   "metadata": {},
   "outputs": [
    {
     "data": {
      "text/plain": [
       "<AxesSubplot: >"
      ]
     },
     "execution_count": 15,
     "metadata": {},
     "output_type": "execute_result"
    },
    {
     "data": {
      "image/png": "[encoded data removed]",
      "text/plain": [
       "<Figure size 2500x1000 with 2 Axes>"
      ]
     },
     "metadata": {},
     "output_type": "display_data"
    }
   ],
   "source": [
    "import missingno as msno\n",
    "%matplotlib inline\n",
    "msno.matrix(X)"
   ]
  },
  {
   "cell_type": "code",
   "execution_count": 16,
   "metadata": {},
   "outputs": [],
   "source": [
    "#Looking for NaNs\n",
    "isna=X.isna().sum()/X.shape[0]*100"
   ]
  },
  {
   "cell_type": "code",
   "execution_count": 17,
   "metadata": {},
   "outputs": [
    {
     "data": {
      "text/plain": [
       "LotFrontage     17.739726\n",
       "Alley           93.767123\n",
       "MasVnrType       0.547945\n",
       "MasVnrArea       0.547945\n",
       "BsmtQual         2.534247\n",
       "BsmtCond         2.534247\n",
       "BsmtExposure     2.602740\n",
       "BsmtFinType1     2.534247\n",
       "BsmtFinType2     2.602740\n",
       "Electrical       0.068493\n",
       "FireplaceQu     47.260274\n",
       "GarageType       5.547945\n",
       "GarageYrBlt      5.547945\n",
       "GarageFinish     5.547945\n",
       "GarageQual       5.547945\n",
       "GarageCond       5.547945\n",
       "PoolQC          99.520548\n",
       "Fence           80.753425\n",
       "MiscFeature     96.301370\n",
       "dtype: float64"
      ]
     },
     "execution_count": 17,
     "metadata": {},
     "output_type": "execute_result"
    }
   ],
   "source": [
    "isna[isna>0]"
   ]
  },
  {
   "attachments": {},
   "cell_type": "markdown",
   "metadata": {},
   "source": [
    "LotFrontage     17.739726   replace with int 0  \n",
    "Alley           93.767123   replace with str no  \n",
    "MasVnrType       0.547945   replace with str None  \n",
    "MasVnrArea       0.547945   replace with int 0  \n",
    "BsmtQual         2.534247   replace with str no  \n",
    "BsmtCond         2.534247   replace with str no  \n",
    "BsmtExposure     2.602740   replace with str no  \n",
    "BsmtFinType1     2.534247   replace with str no  \n",
    "BsmtFinType2     2.602740   replace with str no  \n",
    "Electrical       0.068493   replace with str FuseF  \n",
    "FireplaceQu     47.260274   replace with str no  \n",
    "GarageType       5.547945   replace with str no  \n",
    "GarageYrBlt      5.547945   replace with 0  \n",
    "GarageFinish     5.547945   replace with str no  \n",
    "GarageQual       5.547945   replace with str no  \n",
    "GarageCond       5.547945   replace with str no  \n",
    "PoolQC          99.520548   drop  \n",
    "Fence           80.753425   replace with str no  \n",
    "MiscFeature     96.301370   drop"
   ]
  },
  {
   "cell_type": "code",
   "execution_count": 18,
   "metadata": {},
   "outputs": [],
   "source": [
    "#Dropping columns with too many NaNs\n",
    "X = X.drop(columns=['PoolQC','MiscFeature','Id'])\n"
   ]
  },
  {
   "cell_type": "code",
   "execution_count": 39,
   "metadata": {},
   "outputs": [],
   "source": [
    "test_df = test_df.drop(columns=['PoolQC','MiscFeature','Id'])"
   ]
  },
  {
   "cell_type": "code",
   "execution_count": 19,
   "metadata": {},
   "outputs": [],
   "source": [
    "\n",
    "#Imputing values manually given the nature of the data for trining\n",
    "X['LotFrontage']=X['LotFrontage'].fillna(0)\n",
    "X['Alley']=X['BsmtQual'].fillna('no')\n",
    "X['MasVnrType']=X['MasVnrType'].fillna('None')\n",
    "X['MasVnrArea']=X['MasVnrArea'].fillna(0)\n",
    "X['BsmtQual']=X['BsmtQual'].fillna('no')\n",
    "X['BsmtCond']=X['BsmtCond'].fillna('no')\n",
    "X['BsmtExposure']=X['BsmtExposure'].fillna('no')\n",
    "X['BsmtFinType1']=X['BsmtFinType1'].fillna('no')\n",
    "X['BsmtFinType2']=X['BsmtFinType2'].fillna('no')\n",
    "X['Electrical']=X['Electrical'].fillna('FuseF')\n",
    "X['FireplaceQu']=X['FireplaceQu'].fillna('no')\n",
    "X['GarageType']=X['GarageType'].fillna('no')\n",
    "X['GarageYrBlt']=X['GarageYrBlt'].fillna(0)\n",
    "X['GarageFinish']=X['GarageFinish'].fillna('no')\n",
    "X['GarageQual']=X['GarageQual'].fillna('no')\n",
    "X['GarageCond']=X['GarageCond'].fillna('no')\n",
    "X['Fence']=X['Fence'].fillna('no')\n"
   ]
  },
  {
   "cell_type": "code",
   "execution_count": 40,
   "metadata": {},
   "outputs": [],
   "source": [
    "#Imputing values manually given the nature of the data for testing\n",
    "test_df['LotFrontage']=test_df['LotFrontage'].fillna(0)\n",
    "test_df['Alley']=test_df['BsmtQual'].fillna('no')\n",
    "test_df['MasVnrType']=test_df['MasVnrType'].fillna('None')\n",
    "test_df['MasVnrArea']=test_df['MasVnrArea'].fillna(0)\n",
    "test_df['BsmtQual']=test_df['BsmtQual'].fillna('no')\n",
    "test_df['BsmtCond']=test_df['BsmtCond'].fillna('no')\n",
    "test_df['BsmtExposure']=test_df['BsmtExposure'].fillna('no')\n",
    "test_df['BsmtFinType1']=test_df['BsmtFinType1'].fillna('no')\n",
    "test_df['BsmtFinType2']=test_df['BsmtFinType2'].fillna('no')\n",
    "test_df['Electrical']=test_df['Electrical'].fillna('FuseF')\n",
    "test_df['FireplaceQu']=test_df['FireplaceQu'].fillna('no')\n",
    "test_df['GarageType']=test_df['GarageType'].fillna('no')\n",
    "test_df['GarageYrBlt']=test_df['GarageYrBlt'].fillna(0)\n",
    "test_df['GarageFinish']=test_df['GarageFinish'].fillna('no')\n",
    "test_df['GarageQual']=test_df['GarageQual'].fillna('no')\n",
    "test_df['GarageCond']=test_df['GarageCond'].fillna('no')\n",
    "test_df['Fence']=test_df['Fence'].fillna('no')"
   ]
  },
  {
   "cell_type": "code",
   "execution_count": 21,
   "metadata": {},
   "outputs": [
    {
     "data": {
      "text/plain": [
       "<AxesSubplot: >"
      ]
     },
     "execution_count": 21,
     "metadata": {},
     "output_type": "execute_result"
    },
    {
     "data": {
      "image/png": "[encoded data removed]",
      "text/plain": [
       "<Figure size 2500x1000 with 2 Axes>"
      ]
     },
     "metadata": {},
     "output_type": "display_data"
    }
   ],
   "source": [
    "import missingno as msno\n",
    "%matplotlib inline\n",
    "msno.matrix(X)"
   ]
  },
  {
   "cell_type": "code",
   "execution_count": 22,
   "metadata": {},
   "outputs": [
    {
     "name": "stdout",
     "output_type": "stream",
     "text": [
      "There are 36 numerical features: ['MSSubClass', 'LotFrontage', 'LotArea', 'OverallQual', 'OverallCond', 'YearBuilt', 'YearRemodAdd', 'MasVnrArea', 'BsmtFinSF1', 'BsmtFinSF2', 'BsmtUnfSF', 'TotalBsmtSF', '1stFlrSF', '2ndFlrSF', 'LowQualFinSF', 'GrLivArea', 'BsmtFullBath', 'BsmtHalfBath', 'FullBath', 'HalfBath', 'BedroomAbvGr', 'KitchenAbvGr', 'TotRmsAbvGrd', 'Fireplaces', 'GarageYrBlt', 'GarageCars', 'GarageArea', 'WoodDeckSF', 'OpenPorchSF', 'EnclosedPorch', '3SsnPorch', 'ScreenPorch', 'PoolArea', 'MiscVal', 'MoSold', 'YrSold']\n",
      "\n",
      "There are 41 string features: ['MSZoning', 'Street', 'Alley', 'LotShape', 'LandContour', 'Utilities', 'LotConfig', 'LandSlope', 'Neighborhood', 'Condition1', 'Condition2', 'BldgType', 'HouseStyle', 'RoofStyle', 'RoofMatl', 'Exterior1st', 'Exterior2nd', 'MasVnrType', 'ExterQual', 'ExterCond', 'Foundation', 'BsmtQual', 'BsmtCond', 'BsmtExposure', 'BsmtFinType1', 'BsmtFinType2', 'Heating', 'HeatingQC', 'CentralAir', 'Electrical', 'KitchenQual', 'Functional', 'FireplaceQu', 'GarageType', 'GarageFinish', 'GarageQual', 'GarageCond', 'PavedDrive', 'Fence', 'SaleType', 'SaleCondition']\n",
      "\n"
     ]
    }
   ],
   "source": [
    "numerical_features = X.select_dtypes(include='number').columns.tolist()\n",
    "print(f\"There are {len(numerical_features)} numerical features: {numerical_features}\\n\")\n",
    "\n",
    "string_features = X.select_dtypes(exclude='number').columns.tolist()\n",
    "print(f\"There are {len(string_features)} string features: {string_features}\\n\")"
   ]
  },
  {
   "attachments": {},
   "cell_type": "markdown",
   "metadata": {},
   "source": [
    "#### Aplying PCA to num features"
   ]
  },
  {
   "cell_type": "code",
   "execution_count": 23,
   "metadata": {},
   "outputs": [],
   "source": [
    "from sklearn.decomposition import PCA"
   ]
  },
  {
   "cell_type": "code",
   "execution_count": 24,
   "metadata": {},
   "outputs": [],
   "source": [
    "pca = PCA(n_components=0.999)\n",
    "X_pca = pca.fit_transform(X[numerical_features]) "
   ]
  },
  {
   "cell_type": "code",
   "execution_count": 25,
   "metadata": {},
   "outputs": [
    {
     "data": {
      "text/plain": [
       "array([  39.10624431,  195.18501364,  717.81621495, -235.37799785,\n",
       "         -7.55535907,  -79.8853436 ,  -78.67629664,  -69.08824539,\n",
       "        186.17259928,  -71.363098  ])"
      ]
     },
     "execution_count": 25,
     "metadata": {},
     "output_type": "execute_result"
    }
   ],
   "source": [
    "X_pca[1]"
   ]
  },
  {
   "cell_type": "code",
   "execution_count": 26,
   "metadata": {},
   "outputs": [],
   "source": [
    "X_pca=pd.DataFrame(X_pca,columns=['a','b','c','d','e','f','g','h','i','j'])"
   ]
  },
  {
   "cell_type": "code",
   "execution_count": 27,
   "metadata": {},
   "outputs": [
    {
     "data": {
      "text/html": [
       "<div>\n",
       "<style scoped>\n",
       "    .dataframe tbody tr th:only-of-type {\n",
       "        vertical-align: middle;\n",
       "    }\n",
       "\n",
       "    .dataframe tbody tr th {\n",
       "        vertical-align: top;\n",
       "    }\n",
       "\n",
       "    .dataframe thead th {\n",
       "        text-align: right;\n",
       "    }\n",
       "</style>\n",
       "<table border=\"1\" class=\"dataframe\">\n",
       "  <thead>\n",
       "    <tr style=\"text-align: right;\">\n",
       "      <th></th>\n",
       "      <th>a</th>\n",
       "      <th>b</th>\n",
       "      <th>c</th>\n",
       "      <th>d</th>\n",
       "      <th>e</th>\n",
       "      <th>f</th>\n",
       "      <th>g</th>\n",
       "      <th>h</th>\n",
       "      <th>i</th>\n",
       "      <th>j</th>\n",
       "    </tr>\n",
       "  </thead>\n",
       "  <tbody>\n",
       "    <tr>\n",
       "      <th>0</th>\n",
       "      <td>1187.209888</td>\n",
       "      <td>-128.742162</td>\n",
       "      <td>-257.068186</td>\n",
       "      <td>-782.589475</td>\n",
       "      <td>-43.312734</td>\n",
       "      <td>-143.185755</td>\n",
       "      <td>73.374403</td>\n",
       "      <td>47.227103</td>\n",
       "      <td>-111.252725</td>\n",
       "      <td>27.044289</td>\n",
       "    </tr>\n",
       "    <tr>\n",
       "      <th>1</th>\n",
       "      <td>39.106244</td>\n",
       "      <td>195.185014</td>\n",
       "      <td>717.816215</td>\n",
       "      <td>-235.377998</td>\n",
       "      <td>-7.555359</td>\n",
       "      <td>-79.885344</td>\n",
       "      <td>-78.676297</td>\n",
       "      <td>-69.088245</td>\n",
       "      <td>186.172599</td>\n",
       "      <td>-71.363098</td>\n",
       "    </tr>\n",
       "    <tr>\n",
       "      <th>2</th>\n",
       "      <td>-1608.177199</td>\n",
       "      <td>-85.027661</td>\n",
       "      <td>-466.206621</td>\n",
       "      <td>-434.486802</td>\n",
       "      <td>-105.078000</td>\n",
       "      <td>-162.283032</td>\n",
       "      <td>95.653144</td>\n",
       "      <td>6.426838</td>\n",
       "      <td>-113.612671</td>\n",
       "      <td>22.836666</td>\n",
       "    </tr>\n",
       "    <tr>\n",
       "      <th>3</th>\n",
       "      <td>100.855812</td>\n",
       "      <td>-127.292575</td>\n",
       "      <td>-556.500150</td>\n",
       "      <td>-218.066293</td>\n",
       "      <td>-189.640653</td>\n",
       "      <td>35.645935</td>\n",
       "      <td>94.066474</td>\n",
       "      <td>-144.346392</td>\n",
       "      <td>-99.867173</td>\n",
       "      <td>-10.721709</td>\n",
       "    </tr>\n",
       "    <tr>\n",
       "      <th>4</th>\n",
       "      <td>-4663.337378</td>\n",
       "      <td>-386.628006</td>\n",
       "      <td>-466.220183</td>\n",
       "      <td>-560.250728</td>\n",
       "      <td>40.013215</td>\n",
       "      <td>-175.800704</td>\n",
       "      <td>287.849858</td>\n",
       "      <td>70.989246</td>\n",
       "      <td>24.430002</td>\n",
       "      <td>8.688235</td>\n",
       "    </tr>\n",
       "    <tr>\n",
       "      <th>...</th>\n",
       "      <td>...</td>\n",
       "      <td>...</td>\n",
       "      <td>...</td>\n",
       "      <td>...</td>\n",
       "      <td>...</td>\n",
       "      <td>...</td>\n",
       "      <td>...</td>\n",
       "      <td>...</td>\n",
       "      <td>...</td>\n",
       "      <td>...</td>\n",
       "    </tr>\n",
       "    <tr>\n",
       "      <th>1455</th>\n",
       "      <td>1728.344573</td>\n",
       "      <td>-396.968161</td>\n",
       "      <td>-559.840890</td>\n",
       "      <td>220.987915</td>\n",
       "      <td>-185.605243</td>\n",
       "      <td>-95.937296</td>\n",
       "      <td>-66.027734</td>\n",
       "      <td>-70.374548</td>\n",
       "      <td>-68.348283</td>\n",
       "      <td>5.581670</td>\n",
       "    </tr>\n",
       "    <tr>\n",
       "      <th>1456</th>\n",
       "      <td>-3617.134387</td>\n",
       "      <td>-489.407054</td>\n",
       "      <td>698.628512</td>\n",
       "      <td>66.680033</td>\n",
       "      <td>255.513355</td>\n",
       "      <td>475.153793</td>\n",
       "      <td>-138.124551</td>\n",
       "      <td>33.590524</td>\n",
       "      <td>209.839997</td>\n",
       "      <td>-46.233955</td>\n",
       "    </tr>\n",
       "    <tr>\n",
       "      <th>1457</th>\n",
       "      <td>540.171215</td>\n",
       "      <td>-942.847315</td>\n",
       "      <td>-709.530519</td>\n",
       "      <td>-216.903843</td>\n",
       "      <td>209.066009</td>\n",
       "      <td>-41.179714</td>\n",
       "      <td>-370.082260</td>\n",
       "      <td>-2.689490</td>\n",
       "      <td>-88.225122</td>\n",
       "      <td>4.266651</td>\n",
       "    </tr>\n",
       "    <tr>\n",
       "      <th>1458</th>\n",
       "      <td>-17.810300</td>\n",
       "      <td>635.898749</td>\n",
       "      <td>130.140809</td>\n",
       "      <td>51.464368</td>\n",
       "      <td>-237.764897</td>\n",
       "      <td>234.590132</td>\n",
       "      <td>-148.868618</td>\n",
       "      <td>28.683945</td>\n",
       "      <td>410.043256</td>\n",
       "      <td>448.922249</td>\n",
       "    </tr>\n",
       "    <tr>\n",
       "      <th>1459</th>\n",
       "      <td>-286.861806</td>\n",
       "      <td>325.484763</td>\n",
       "      <td>629.171570</td>\n",
       "      <td>-246.085128</td>\n",
       "      <td>-1.978135</td>\n",
       "      <td>10.753595</td>\n",
       "      <td>-209.057082</td>\n",
       "      <td>9.998237</td>\n",
       "      <td>349.886089</td>\n",
       "      <td>52.927495</td>\n",
       "    </tr>\n",
       "  </tbody>\n",
       "</table>\n",
       "<p>1460 rows × 10 columns</p>\n",
       "</div>"
      ],
      "text/plain": [
       "                a           b           c           d           e           f  \\\n",
       "0     1187.209888 -128.742162 -257.068186 -782.589475  -43.312734 -143.185755   \n",
       "1       39.106244  195.185014  717.816215 -235.377998   -7.555359  -79.885344   \n",
       "2    -1608.177199  -85.027661 -466.206621 -434.486802 -105.078000 -162.283032   \n",
       "3      100.855812 -127.292575 -556.500150 -218.066293 -189.640653   35.645935   \n",
       "4    -4663.337378 -386.628006 -466.220183 -560.250728   40.013215 -175.800704   \n",
       "...           ...         ...         ...         ...         ...         ...   \n",
       "1455  1728.344573 -396.968161 -559.840890  220.987915 -185.605243  -95.937296   \n",
       "1456 -3617.134387 -489.407054  698.628512   66.680033  255.513355  475.153793   \n",
       "1457   540.171215 -942.847315 -709.530519 -216.903843  209.066009  -41.179714   \n",
       "1458   -17.810300  635.898749  130.140809   51.464368 -237.764897  234.590132   \n",
       "1459  -286.861806  325.484763  629.171570 -246.085128   -1.978135   10.753595   \n",
       "\n",
       "               g           h           i           j  \n",
       "0      73.374403   47.227103 -111.252725   27.044289  \n",
       "1     -78.676297  -69.088245  186.172599  -71.363098  \n",
       "2      95.653144    6.426838 -113.612671   22.836666  \n",
       "3      94.066474 -144.346392  -99.867173  -10.721709  \n",
       "4     287.849858   70.989246   24.430002    8.688235  \n",
       "...          ...         ...         ...         ...  \n",
       "1455  -66.027734  -70.374548  -68.348283    5.581670  \n",
       "1456 -138.124551   33.590524  209.839997  -46.233955  \n",
       "1457 -370.082260   -2.689490  -88.225122    4.266651  \n",
       "1458 -148.868618   28.683945  410.043256  448.922249  \n",
       "1459 -209.057082    9.998237  349.886089   52.927495  \n",
       "\n",
       "[1460 rows x 10 columns]"
      ]
     },
     "execution_count": 27,
     "metadata": {},
     "output_type": "execute_result"
    }
   ],
   "source": [
    "X_pca"
   ]
  },
  {
   "cell_type": "code",
   "execution_count": 28,
   "metadata": {},
   "outputs": [],
   "source": [
    "X_str=X[string_features]"
   ]
  },
  {
   "cell_type": "code",
   "execution_count": 29,
   "metadata": {},
   "outputs": [],
   "source": [
    "X_pca=X_pca.join(X_str)"
   ]
  },
  {
   "cell_type": "code",
   "execution_count": 30,
   "metadata": {},
   "outputs": [
    {
     "data": {
      "text/html": [
       "<div>\n",
       "<style scoped>\n",
       "    .dataframe tbody tr th:only-of-type {\n",
       "        vertical-align: middle;\n",
       "    }\n",
       "\n",
       "    .dataframe tbody tr th {\n",
       "        vertical-align: top;\n",
       "    }\n",
       "\n",
       "    .dataframe thead th {\n",
       "        text-align: right;\n",
       "    }\n",
       "</style>\n",
       "<table border=\"1\" class=\"dataframe\">\n",
       "  <thead>\n",
       "    <tr style=\"text-align: right;\">\n",
       "      <th></th>\n",
       "      <th>a</th>\n",
       "      <th>b</th>\n",
       "      <th>c</th>\n",
       "      <th>d</th>\n",
       "      <th>e</th>\n",
       "      <th>f</th>\n",
       "      <th>g</th>\n",
       "      <th>h</th>\n",
       "      <th>i</th>\n",
       "      <th>j</th>\n",
       "      <th>...</th>\n",
       "      <th>Functional</th>\n",
       "      <th>FireplaceQu</th>\n",
       "      <th>GarageType</th>\n",
       "      <th>GarageFinish</th>\n",
       "      <th>GarageQual</th>\n",
       "      <th>GarageCond</th>\n",
       "      <th>PavedDrive</th>\n",
       "      <th>Fence</th>\n",
       "      <th>SaleType</th>\n",
       "      <th>SaleCondition</th>\n",
       "    </tr>\n",
       "  </thead>\n",
       "  <tbody>\n",
       "    <tr>\n",
       "      <th>0</th>\n",
       "      <td>1187.209888</td>\n",
       "      <td>-128.742162</td>\n",
       "      <td>-257.068186</td>\n",
       "      <td>-782.589475</td>\n",
       "      <td>-43.312734</td>\n",
       "      <td>-143.185755</td>\n",
       "      <td>73.374403</td>\n",
       "      <td>47.227103</td>\n",
       "      <td>-111.252725</td>\n",
       "      <td>27.044289</td>\n",
       "      <td>...</td>\n",
       "      <td>Typ</td>\n",
       "      <td>no</td>\n",
       "      <td>Attchd</td>\n",
       "      <td>RFn</td>\n",
       "      <td>TA</td>\n",
       "      <td>TA</td>\n",
       "      <td>Y</td>\n",
       "      <td>no</td>\n",
       "      <td>WD</td>\n",
       "      <td>Normal</td>\n",
       "    </tr>\n",
       "    <tr>\n",
       "      <th>1</th>\n",
       "      <td>39.106244</td>\n",
       "      <td>195.185014</td>\n",
       "      <td>717.816215</td>\n",
       "      <td>-235.377998</td>\n",
       "      <td>-7.555359</td>\n",
       "      <td>-79.885344</td>\n",
       "      <td>-78.676297</td>\n",
       "      <td>-69.088245</td>\n",
       "      <td>186.172599</td>\n",
       "      <td>-71.363098</td>\n",
       "      <td>...</td>\n",
       "      <td>Typ</td>\n",
       "      <td>TA</td>\n",
       "      <td>Attchd</td>\n",
       "      <td>RFn</td>\n",
       "      <td>TA</td>\n",
       "      <td>TA</td>\n",
       "      <td>Y</td>\n",
       "      <td>no</td>\n",
       "      <td>WD</td>\n",
       "      <td>Normal</td>\n",
       "    </tr>\n",
       "    <tr>\n",
       "      <th>2</th>\n",
       "      <td>-1608.177199</td>\n",
       "      <td>-85.027661</td>\n",
       "      <td>-466.206621</td>\n",
       "      <td>-434.486802</td>\n",
       "      <td>-105.078000</td>\n",
       "      <td>-162.283032</td>\n",
       "      <td>95.653144</td>\n",
       "      <td>6.426838</td>\n",
       "      <td>-113.612671</td>\n",
       "      <td>22.836666</td>\n",
       "      <td>...</td>\n",
       "      <td>Typ</td>\n",
       "      <td>TA</td>\n",
       "      <td>Attchd</td>\n",
       "      <td>RFn</td>\n",
       "      <td>TA</td>\n",
       "      <td>TA</td>\n",
       "      <td>Y</td>\n",
       "      <td>no</td>\n",
       "      <td>WD</td>\n",
       "      <td>Normal</td>\n",
       "    </tr>\n",
       "    <tr>\n",
       "      <th>3</th>\n",
       "      <td>100.855812</td>\n",
       "      <td>-127.292575</td>\n",
       "      <td>-556.500150</td>\n",
       "      <td>-218.066293</td>\n",
       "      <td>-189.640653</td>\n",
       "      <td>35.645935</td>\n",
       "      <td>94.066474</td>\n",
       "      <td>-144.346392</td>\n",
       "      <td>-99.867173</td>\n",
       "      <td>-10.721709</td>\n",
       "      <td>...</td>\n",
       "      <td>Typ</td>\n",
       "      <td>Gd</td>\n",
       "      <td>Detchd</td>\n",
       "      <td>Unf</td>\n",
       "      <td>TA</td>\n",
       "      <td>TA</td>\n",
       "      <td>Y</td>\n",
       "      <td>no</td>\n",
       "      <td>WD</td>\n",
       "      <td>Abnorml</td>\n",
       "    </tr>\n",
       "    <tr>\n",
       "      <th>4</th>\n",
       "      <td>-4663.337378</td>\n",
       "      <td>-386.628006</td>\n",
       "      <td>-466.220183</td>\n",
       "      <td>-560.250728</td>\n",
       "      <td>40.013215</td>\n",
       "      <td>-175.800704</td>\n",
       "      <td>287.849858</td>\n",
       "      <td>70.989246</td>\n",
       "      <td>24.430002</td>\n",
       "      <td>8.688235</td>\n",
       "      <td>...</td>\n",
       "      <td>Typ</td>\n",
       "      <td>TA</td>\n",
       "      <td>Attchd</td>\n",
       "      <td>RFn</td>\n",
       "      <td>TA</td>\n",
       "      <td>TA</td>\n",
       "      <td>Y</td>\n",
       "      <td>no</td>\n",
       "      <td>WD</td>\n",
       "      <td>Normal</td>\n",
       "    </tr>\n",
       "    <tr>\n",
       "      <th>...</th>\n",
       "      <td>...</td>\n",
       "      <td>...</td>\n",
       "      <td>...</td>\n",
       "      <td>...</td>\n",
       "      <td>...</td>\n",
       "      <td>...</td>\n",
       "      <td>...</td>\n",
       "      <td>...</td>\n",
       "      <td>...</td>\n",
       "      <td>...</td>\n",
       "      <td>...</td>\n",
       "      <td>...</td>\n",
       "      <td>...</td>\n",
       "      <td>...</td>\n",
       "      <td>...</td>\n",
       "      <td>...</td>\n",
       "      <td>...</td>\n",
       "      <td>...</td>\n",
       "      <td>...</td>\n",
       "      <td>...</td>\n",
       "      <td>...</td>\n",
       "    </tr>\n",
       "    <tr>\n",
       "      <th>1455</th>\n",
       "      <td>1728.344573</td>\n",
       "      <td>-396.968161</td>\n",
       "      <td>-559.840890</td>\n",
       "      <td>220.987915</td>\n",
       "      <td>-185.605243</td>\n",
       "      <td>-95.937296</td>\n",
       "      <td>-66.027734</td>\n",
       "      <td>-70.374548</td>\n",
       "      <td>-68.348283</td>\n",
       "      <td>5.581670</td>\n",
       "      <td>...</td>\n",
       "      <td>Typ</td>\n",
       "      <td>TA</td>\n",
       "      <td>Attchd</td>\n",
       "      <td>RFn</td>\n",
       "      <td>TA</td>\n",
       "      <td>TA</td>\n",
       "      <td>Y</td>\n",
       "      <td>no</td>\n",
       "      <td>WD</td>\n",
       "      <td>Normal</td>\n",
       "    </tr>\n",
       "    <tr>\n",
       "      <th>1456</th>\n",
       "      <td>-3617.134387</td>\n",
       "      <td>-489.407054</td>\n",
       "      <td>698.628512</td>\n",
       "      <td>66.680033</td>\n",
       "      <td>255.513355</td>\n",
       "      <td>475.153793</td>\n",
       "      <td>-138.124551</td>\n",
       "      <td>33.590524</td>\n",
       "      <td>209.839997</td>\n",
       "      <td>-46.233955</td>\n",
       "      <td>...</td>\n",
       "      <td>Min1</td>\n",
       "      <td>TA</td>\n",
       "      <td>Attchd</td>\n",
       "      <td>Unf</td>\n",
       "      <td>TA</td>\n",
       "      <td>TA</td>\n",
       "      <td>Y</td>\n",
       "      <td>MnPrv</td>\n",
       "      <td>WD</td>\n",
       "      <td>Normal</td>\n",
       "    </tr>\n",
       "    <tr>\n",
       "      <th>1457</th>\n",
       "      <td>540.171215</td>\n",
       "      <td>-942.847315</td>\n",
       "      <td>-709.530519</td>\n",
       "      <td>-216.903843</td>\n",
       "      <td>209.066009</td>\n",
       "      <td>-41.179714</td>\n",
       "      <td>-370.082260</td>\n",
       "      <td>-2.689490</td>\n",
       "      <td>-88.225122</td>\n",
       "      <td>4.266651</td>\n",
       "      <td>...</td>\n",
       "      <td>Typ</td>\n",
       "      <td>Gd</td>\n",
       "      <td>Attchd</td>\n",
       "      <td>RFn</td>\n",
       "      <td>TA</td>\n",
       "      <td>TA</td>\n",
       "      <td>Y</td>\n",
       "      <td>GdPrv</td>\n",
       "      <td>WD</td>\n",
       "      <td>Normal</td>\n",
       "    </tr>\n",
       "    <tr>\n",
       "      <th>1458</th>\n",
       "      <td>-17.810300</td>\n",
       "      <td>635.898749</td>\n",
       "      <td>130.140809</td>\n",
       "      <td>51.464368</td>\n",
       "      <td>-237.764897</td>\n",
       "      <td>234.590132</td>\n",
       "      <td>-148.868618</td>\n",
       "      <td>28.683945</td>\n",
       "      <td>410.043256</td>\n",
       "      <td>448.922249</td>\n",
       "      <td>...</td>\n",
       "      <td>Typ</td>\n",
       "      <td>no</td>\n",
       "      <td>Attchd</td>\n",
       "      <td>Unf</td>\n",
       "      <td>TA</td>\n",
       "      <td>TA</td>\n",
       "      <td>Y</td>\n",
       "      <td>no</td>\n",
       "      <td>WD</td>\n",
       "      <td>Normal</td>\n",
       "    </tr>\n",
       "    <tr>\n",
       "      <th>1459</th>\n",
       "      <td>-286.861806</td>\n",
       "      <td>325.484763</td>\n",
       "      <td>629.171570</td>\n",
       "      <td>-246.085128</td>\n",
       "      <td>-1.978135</td>\n",
       "      <td>10.753595</td>\n",
       "      <td>-209.057082</td>\n",
       "      <td>9.998237</td>\n",
       "      <td>349.886089</td>\n",
       "      <td>52.927495</td>\n",
       "      <td>...</td>\n",
       "      <td>Typ</td>\n",
       "      <td>no</td>\n",
       "      <td>Attchd</td>\n",
       "      <td>Fin</td>\n",
       "      <td>TA</td>\n",
       "      <td>TA</td>\n",
       "      <td>Y</td>\n",
       "      <td>no</td>\n",
       "      <td>WD</td>\n",
       "      <td>Normal</td>\n",
       "    </tr>\n",
       "  </tbody>\n",
       "</table>\n",
       "<p>1460 rows × 51 columns</p>\n",
       "</div>"
      ],
      "text/plain": [
       "                a           b           c           d           e           f  \\\n",
       "0     1187.209888 -128.742162 -257.068186 -782.589475  -43.312734 -143.185755   \n",
       "1       39.106244  195.185014  717.816215 -235.377998   -7.555359  -79.885344   \n",
       "2    -1608.177199  -85.027661 -466.206621 -434.486802 -105.078000 -162.283032   \n",
       "3      100.855812 -127.292575 -556.500150 -218.066293 -189.640653   35.645935   \n",
       "4    -4663.337378 -386.628006 -466.220183 -560.250728   40.013215 -175.800704   \n",
       "...           ...         ...         ...         ...         ...         ...   \n",
       "1455  1728.344573 -396.968161 -559.840890  220.987915 -185.605243  -95.937296   \n",
       "1456 -3617.134387 -489.407054  698.628512   66.680033  255.513355  475.153793   \n",
       "1457   540.171215 -942.847315 -709.530519 -216.903843  209.066009  -41.179714   \n",
       "1458   -17.810300  635.898749  130.140809   51.464368 -237.764897  234.590132   \n",
       "1459  -286.861806  325.484763  629.171570 -246.085128   -1.978135   10.753595   \n",
       "\n",
       "               g           h           i           j  ... Functional  \\\n",
       "0      73.374403   47.227103 -111.252725   27.044289  ...        Typ   \n",
       "1     -78.676297  -69.088245  186.172599  -71.363098  ...        Typ   \n",
       "2      95.653144    6.426838 -113.612671   22.836666  ...        Typ   \n",
       "3      94.066474 -144.346392  -99.867173  -10.721709  ...        Typ   \n",
       "4     287.849858   70.989246   24.430002    8.688235  ...        Typ   \n",
       "...          ...         ...         ...         ...  ...        ...   \n",
       "1455  -66.027734  -70.374548  -68.348283    5.581670  ...        Typ   \n",
       "1456 -138.124551   33.590524  209.839997  -46.233955  ...       Min1   \n",
       "1457 -370.082260   -2.689490  -88.225122    4.266651  ...        Typ   \n",
       "1458 -148.868618   28.683945  410.043256  448.922249  ...        Typ   \n",
       "1459 -209.057082    9.998237  349.886089   52.927495  ...        Typ   \n",
       "\n",
       "     FireplaceQu GarageType GarageFinish GarageQual GarageCond PavedDrive  \\\n",
       "0             no     Attchd          RFn         TA         TA          Y   \n",
       "1             TA     Attchd          RFn         TA         TA          Y   \n",
       "2             TA     Attchd          RFn         TA         TA          Y   \n",
       "3             Gd     Detchd          Unf         TA         TA          Y   \n",
       "4             TA     Attchd          RFn         TA         TA          Y   \n",
       "...          ...        ...          ...        ...        ...        ...   \n",
       "1455          TA     Attchd          RFn         TA         TA          Y   \n",
       "1456          TA     Attchd          Unf         TA         TA          Y   \n",
       "1457          Gd     Attchd          RFn         TA         TA          Y   \n",
       "1458          no     Attchd          Unf         TA         TA          Y   \n",
       "1459          no     Attchd          Fin         TA         TA          Y   \n",
       "\n",
       "      Fence SaleType SaleCondition  \n",
       "0        no       WD        Normal  \n",
       "1        no       WD        Normal  \n",
       "2        no       WD        Normal  \n",
       "3        no       WD       Abnorml  \n",
       "4        no       WD        Normal  \n",
       "...     ...      ...           ...  \n",
       "1455     no       WD        Normal  \n",
       "1456  MnPrv       WD        Normal  \n",
       "1457  GdPrv       WD        Normal  \n",
       "1458     no       WD        Normal  \n",
       "1459     no       WD        Normal  \n",
       "\n",
       "[1460 rows x 51 columns]"
      ]
     },
     "execution_count": 30,
     "metadata": {},
     "output_type": "execute_result"
    }
   ],
   "source": [
    "X_pca"
   ]
  },
  {
   "attachments": {},
   "cell_type": "markdown",
   "metadata": {},
   "source": [
    "#### Train / Test Split"
   ]
  },
  {
   "cell_type": "code",
   "execution_count": 31,
   "metadata": {},
   "outputs": [
    {
     "name": "stdout",
     "output_type": "stream",
     "text": [
      "(1168, 77) (292, 77) (1168,) (292,)\n"
     ]
    }
   ],
   "source": [
    "X_train, X_test, y_train, y_test = train_test_split(X, y, test_size=0.2, random_state=2022)\n",
    "\n",
    "print(X_train.shape, X_test.shape, y_train.shape, y_test.shape)"
   ]
  },
  {
   "cell_type": "code",
   "execution_count": 32,
   "metadata": {},
   "outputs": [
    {
     "name": "stdout",
     "output_type": "stream",
     "text": [
      "(1168, 51) (292, 51) (1168,) (292,)\n"
     ]
    }
   ],
   "source": [
    "X_train_p, X_test_p, y_train, y_test = train_test_split(X_pca, y, test_size=0.2, random_state=2022)\n",
    "\n",
    "print(X_train_p.shape, X_test_p.shape, y_train.shape, y_test.shape)"
   ]
  },
  {
   "cell_type": "code",
   "execution_count": 33,
   "metadata": {},
   "outputs": [
    {
     "name": "stdout",
     "output_type": "stream",
     "text": [
      "There are 36 numerical features: ['MSSubClass', 'LotFrontage', 'LotArea', 'OverallQual', 'OverallCond', 'YearBuilt', 'YearRemodAdd', 'MasVnrArea', 'BsmtFinSF1', 'BsmtFinSF2', 'BsmtUnfSF', 'TotalBsmtSF', '1stFlrSF', '2ndFlrSF', 'LowQualFinSF', 'GrLivArea', 'BsmtFullBath', 'BsmtHalfBath', 'FullBath', 'HalfBath', 'BedroomAbvGr', 'KitchenAbvGr', 'TotRmsAbvGrd', 'Fireplaces', 'GarageYrBlt', 'GarageCars', 'GarageArea', 'WoodDeckSF', 'OpenPorchSF', 'EnclosedPorch', '3SsnPorch', 'ScreenPorch', 'PoolArea', 'MiscVal', 'MoSold', 'YrSold']\n",
      "\n",
      "There are 10 numerical features: ['MSSubClass', 'LotFrontage', 'LotArea', 'OverallQual', 'OverallCond', 'YearBuilt', 'YearRemodAdd', 'MasVnrArea', 'BsmtFinSF1', 'BsmtFinSF2', 'BsmtUnfSF', 'TotalBsmtSF', '1stFlrSF', '2ndFlrSF', 'LowQualFinSF', 'GrLivArea', 'BsmtFullBath', 'BsmtHalfBath', 'FullBath', 'HalfBath', 'BedroomAbvGr', 'KitchenAbvGr', 'TotRmsAbvGrd', 'Fireplaces', 'GarageYrBlt', 'GarageCars', 'GarageArea', 'WoodDeckSF', 'OpenPorchSF', 'EnclosedPorch', '3SsnPorch', 'ScreenPorch', 'PoolArea', 'MiscVal', 'MoSold', 'YrSold']\n",
      "\n",
      "There are 41 string features: ['MSZoning', 'Street', 'Alley', 'LotShape', 'LandContour', 'Utilities', 'LotConfig', 'LandSlope', 'Neighborhood', 'Condition1', 'Condition2', 'BldgType', 'HouseStyle', 'RoofStyle', 'RoofMatl', 'Exterior1st', 'Exterior2nd', 'MasVnrType', 'ExterQual', 'ExterCond', 'Foundation', 'BsmtQual', 'BsmtCond', 'BsmtExposure', 'BsmtFinType1', 'BsmtFinType2', 'Heating', 'HeatingQC', 'CentralAir', 'Electrical', 'KitchenQual', 'Functional', 'FireplaceQu', 'GarageType', 'GarageFinish', 'GarageQual', 'GarageCond', 'PavedDrive', 'Fence', 'SaleType', 'SaleCondition']\n",
      "\n"
     ]
    }
   ],
   "source": [
    "numerical_features = X_train.select_dtypes(include='number').columns.tolist()\n",
    "print(f\"There are {len(numerical_features)} numerical features: {numerical_features}\\n\")\n",
    "\n",
    "numerical_features_p = X_train_p.select_dtypes(include='number').columns.tolist()\n",
    "print(f\"There are {len(numerical_features_p)} numerical features: {numerical_features}\\n\")\n",
    "\n",
    "string_features = X_train.select_dtypes(exclude='number').columns.tolist()\n",
    "print(f\"There are {len(string_features)} string features: {string_features}\\n\")"
   ]
  },
  {
   "attachments": {},
   "cell_type": "markdown",
   "metadata": {},
   "source": [
    "#### Applying transformations"
   ]
  },
  {
   "cell_type": "code",
   "execution_count": 34,
   "metadata": {},
   "outputs": [],
   "source": [
    "# Pipeline for numeric features\n",
    "numeric_pipeline = Pipeline(steps=[\n",
    "    ('impute', SimpleImputer(strategy='mean')),\n",
    "    ('scale', StandardScaler())\n",
    "  ]\n",
    ")\n",
    "\n",
    "# Pipeline for string features\n",
    "string_pipeline = Pipeline(steps=[\n",
    "    ('impute', SimpleImputer(strategy='most_frequent')),\n",
    "    ('encode', OneHotEncoder(handle_unknown='ignore', sparse=False,drop='first')),\n",
    "    ('scale', StandardScaler())\n",
    "  ]\n",
    ")\n",
    "\n",
    "# Now let's merge both pipeline into one single pre-processing object\n",
    "# We can use ColumnTransformer for this\n",
    "full_processor = ColumnTransformer(transformers=[\n",
    "    ('number', numeric_pipeline, numerical_features),\n",
    "    ('string', string_pipeline, string_features)\n",
    "  ]\n",
    ")\n",
    "\n",
    "full_processor_p = ColumnTransformer(transformers=[\n",
    "    ('number', numeric_pipeline, numerical_features_p),\n",
    "    ('string', string_pipeline, string_features)\n",
    "  ]\n",
    ")"
   ]
  },
  {
   "cell_type": "code",
   "execution_count": 35,
   "metadata": {},
   "outputs": [
    {
     "name": "stdout",
     "output_type": "stream",
     "text": [
      "(1168, 249) (292, 249)\n"
     ]
    },
    {
     "name": "stderr",
     "output_type": "stream",
     "text": [
      "/home/manuelquiros/Documents/VENVS/KaggleTitanic/lib/python3.10/site-packages/sklearn/preprocessing/_encoders.py:828: FutureWarning: `sparse` was renamed to `sparse_output` in version 1.2 and will be removed in 1.4. `sparse_output` is ignored unless you leave `sparse` to its default value.\n",
      "  warnings.warn(\n",
      "/home/manuelquiros/Documents/VENVS/KaggleTitanic/lib/python3.10/site-packages/sklearn/preprocessing/_encoders.py:202: UserWarning: Found unknown categories in columns [10, 14, 16, 27, 31] during transform. These unknown categories will be encoded as all zeros\n",
      "  warnings.warn(\n"
     ]
    }
   ],
   "source": [
    "X_train = full_processor.fit_transform(X_train)\n",
    "X_test  = full_processor.transform(X_test)\n",
    "\n",
    "print(X_train.shape, X_test.shape)"
   ]
  },
  {
   "cell_type": "code",
   "execution_count": 41,
   "metadata": {},
   "outputs": [
    {
     "name": "stderr",
     "output_type": "stream",
     "text": [
      "/home/manuelquiros/Documents/VENVS/KaggleTitanic/lib/python3.10/site-packages/sklearn/preprocessing/_encoders.py:202: UserWarning: Found unknown categories in columns [10, 27, 31] during transform. These unknown categories will be encoded as all zeros\n",
      "  warnings.warn(\n"
     ]
    },
    {
     "data": {
      "text/plain": [
       "(1459, 249)"
      ]
     },
     "execution_count": 41,
     "metadata": {},
     "output_type": "execute_result"
    }
   ],
   "source": [
    "test_df = full_processor.transform(test_df)\n",
    "test_df.shape"
   ]
  },
  {
   "cell_type": "code",
   "execution_count": 43,
   "metadata": {},
   "outputs": [],
   "source": [
    "enc_cat_features = full_processor.named_transformers_['string']['encode'].get_feature_names_out()"
   ]
  },
  {
   "cell_type": "code",
   "execution_count": 44,
   "metadata": {},
   "outputs": [
    {
     "data": {
      "text/plain": [
       "array(['x0_FV', 'x0_RH', 'x0_RL', 'x0_RM', 'x1_Pave', 'x2_Fa', 'x2_Gd',\n",
       "       'x2_TA', 'x2_no', 'x3_IR2', 'x3_IR3', 'x3_Reg', 'x4_HLS', 'x4_Low',\n",
       "       'x4_Lvl', 'x5_NoSeWa', 'x6_CulDSac', 'x6_FR2', 'x6_FR3',\n",
       "       'x6_Inside', 'x7_Mod', 'x7_Sev', 'x8_Blueste', 'x8_BrDale',\n",
       "       'x8_BrkSide', 'x8_ClearCr', 'x8_CollgCr', 'x8_Crawfor',\n",
       "       'x8_Edwards', 'x8_Gilbert', 'x8_IDOTRR', 'x8_MeadowV',\n",
       "       'x8_Mitchel', 'x8_NAmes', 'x8_NPkVill', 'x8_NWAmes', 'x8_NoRidge',\n",
       "       'x8_NridgHt', 'x8_OldTown', 'x8_SWISU', 'x8_Sawyer', 'x8_SawyerW',\n",
       "       'x8_Somerst', 'x8_StoneBr', 'x8_Timber', 'x8_Veenker', 'x9_Feedr',\n",
       "       'x9_Norm', 'x9_PosA', 'x9_PosN', 'x9_RRAe', 'x9_RRAn', 'x9_RRNe',\n",
       "       'x9_RRNn', 'x10_Feedr', 'x10_Norm', 'x10_PosN', 'x10_RRAe',\n",
       "       'x10_RRAn', 'x10_RRNn', 'x11_2fmCon', 'x11_Duplex', 'x11_Twnhs',\n",
       "       'x11_TwnhsE', 'x12_1.5Unf', 'x12_1Story', 'x12_2.5Fin',\n",
       "       'x12_2.5Unf', 'x12_2Story', 'x12_SFoyer', 'x12_SLvl', 'x13_Gable',\n",
       "       'x13_Gambrel', 'x13_Hip', 'x13_Mansard', 'x13_Shed', 'x14_CompShg',\n",
       "       'x14_Membran', 'x14_Metal', 'x14_Tar&Grv', 'x14_WdShake',\n",
       "       'x14_WdShngl', 'x15_AsphShn', 'x15_BrkComm', 'x15_BrkFace',\n",
       "       'x15_CBlock', 'x15_CemntBd', 'x15_HdBoard', 'x15_ImStucc',\n",
       "       'x15_MetalSd', 'x15_Plywood', 'x15_Stone', 'x15_Stucco',\n",
       "       'x15_VinylSd', 'x15_Wd Sdng', 'x15_WdShing', 'x16_AsphShn',\n",
       "       'x16_Brk Cmn', 'x16_BrkFace', 'x16_CBlock', 'x16_CmentBd',\n",
       "       'x16_HdBoard', 'x16_ImStucc', 'x16_MetalSd', 'x16_Plywood',\n",
       "       'x16_Stone', 'x16_Stucco', 'x16_VinylSd', 'x16_Wd Sdng',\n",
       "       'x16_Wd Shng', 'x17_BrkFace', 'x17_None', 'x17_Stone', 'x18_Fa',\n",
       "       'x18_Gd', 'x18_TA', 'x19_Fa', 'x19_Gd', 'x19_Po', 'x19_TA',\n",
       "       'x20_CBlock', 'x20_PConc', 'x20_Slab', 'x20_Stone', 'x20_Wood',\n",
       "       'x21_Fa', 'x21_Gd', 'x21_TA', 'x21_no', 'x22_Gd', 'x22_Po',\n",
       "       'x22_TA', 'x22_no', 'x23_Gd', 'x23_Mn', 'x23_No', 'x23_no',\n",
       "       'x24_BLQ', 'x24_GLQ', 'x24_LwQ', 'x24_Rec', 'x24_Unf', 'x24_no',\n",
       "       'x25_BLQ', 'x25_GLQ', 'x25_LwQ', 'x25_Rec', 'x25_Unf', 'x25_no',\n",
       "       'x26_GasA', 'x26_GasW', 'x26_Grav', 'x26_OthW', 'x26_Wall',\n",
       "       'x27_Fa', 'x27_Gd', 'x27_TA', 'x28_Y', 'x29_FuseF', 'x29_FuseP',\n",
       "       'x29_Mix', 'x29_SBrkr', 'x30_Fa', 'x30_Gd', 'x30_TA', 'x31_Maj2',\n",
       "       'x31_Min1', 'x31_Min2', 'x31_Mod', 'x31_Typ', 'x32_Fa', 'x32_Gd',\n",
       "       'x32_Po', 'x32_TA', 'x32_no', 'x33_Attchd', 'x33_Basment',\n",
       "       'x33_BuiltIn', 'x33_CarPort', 'x33_Detchd', 'x33_no', 'x34_RFn',\n",
       "       'x34_Unf', 'x34_no', 'x35_Fa', 'x35_Gd', 'x35_Po', 'x35_TA',\n",
       "       'x35_no', 'x36_Fa', 'x36_Gd', 'x36_Po', 'x36_TA', 'x36_no',\n",
       "       'x37_P', 'x37_Y', 'x38_GdWo', 'x38_MnPrv', 'x38_MnWw', 'x38_no',\n",
       "       'x39_CWD', 'x39_Con', 'x39_ConLD', 'x39_ConLI', 'x39_ConLw',\n",
       "       'x39_New', 'x39_Oth', 'x39_WD', 'x40_AdjLand', 'x40_Alloca',\n",
       "       'x40_Family', 'x40_Normal', 'x40_Partial'], dtype=object)"
      ]
     },
     "execution_count": 44,
     "metadata": {},
     "output_type": "execute_result"
    }
   ],
   "source": [
    "enc_cat_features"
   ]
  },
  {
   "cell_type": "code",
   "execution_count": 42,
   "metadata": {},
   "outputs": [
    {
     "name": "stdout",
     "output_type": "stream",
     "text": [
      "(1168, 223) (292, 223)\n"
     ]
    },
    {
     "name": "stderr",
     "output_type": "stream",
     "text": [
      "/home/manuelquiros/Documents/VENVS/KaggleTitanic/lib/python3.10/site-packages/sklearn/preprocessing/_encoders.py:828: FutureWarning: `sparse` was renamed to `sparse_output` in version 1.2 and will be removed in 1.4. `sparse_output` is ignored unless you leave `sparse` to its default value.\n",
      "  warnings.warn(\n",
      "/home/manuelquiros/Documents/VENVS/KaggleTitanic/lib/python3.10/site-packages/sklearn/preprocessing/_encoders.py:202: UserWarning: Found unknown categories in columns [10, 14, 16, 27, 31] during transform. These unknown categories will be encoded as all zeros\n",
      "  warnings.warn(\n"
     ]
    }
   ],
   "source": [
    "X_train_p = full_processor_p.fit_transform(X_train_p)\n",
    "X_test_p = full_processor_p.transform(X_test_p)\n",
    "\n",
    "print(X_train_p.shape, X_test_p.shape)"
   ]
  },
  {
   "attachments": {},
   "cell_type": "markdown",
   "metadata": {},
   "source": [
    "### Models"
   ]
  },
  {
   "attachments": {},
   "cell_type": "markdown",
   "metadata": {},
   "source": [
    "#### Baseline"
   ]
  },
  {
   "cell_type": "code",
   "execution_count": 47,
   "metadata": {},
   "outputs": [],
   "source": [
    "LR = LinearRegression()\n",
    "LR_p = LinearRegression()"
   ]
  },
  {
   "cell_type": "code",
   "execution_count": 51,
   "metadata": {},
   "outputs": [
    {
     "data": {
      "text/html": [
       "<style>#sk-container-id-3 {color: black;background-color: white;}#sk-container-id-3 pre{padding: 0;}#sk-container-id-3 div.sk-toggleable {background-color: white;}#sk-container-id-3 label.sk-toggleable__label {cursor: pointer;display: block;width: 100%;margin-bottom: 0;padding: 0.3em;box-sizing: border-box;text-align: center;}#sk-container-id-3 label.sk-toggleable__label-arrow:before {content: \"▸\";float: left;margin-right: 0.25em;color: #696969;}#sk-container-id-3 label.sk-toggleable__label-arrow:hover:before {color: black;}#sk-container-id-3 div.sk-estimator:hover label.sk-toggleable__label-arrow:before {color: black;}#sk-container-id-3 div.sk-toggleable__content {max-height: 0;max-width: 0;overflow: hidden;text-align: left;background-color: #f0f8ff;}#sk-container-id-3 div.sk-toggleable__content pre {margin: 0.2em;color: black;border-radius: 0.25em;background-color: #f0f8ff;}#sk-container-id-3 input.sk-toggleable__control:checked~div.sk-toggleable__content {max-height: 200px;max-width: 100%;overflow: auto;}#sk-container-id-3 input.sk-toggleable__control:checked~label.sk-toggleable__label-arrow:before {content: \"▾\";}#sk-container-id-3 div.sk-estimator input.sk-toggleable__control:checked~label.sk-toggleable__label {background-color: #d4ebff;}#sk-container-id-3 div.sk-label input.sk-toggleable__control:checked~label.sk-toggleable__label {background-color: #d4ebff;}#sk-container-id-3 input.sk-hidden--visually {border: 0;clip: rect(1px 1px 1px 1px);clip: rect(1px, 1px, 1px, 1px);height: 1px;margin: -1px;overflow: hidden;padding: 0;position: absolute;width: 1px;}#sk-container-id-3 div.sk-estimator {font-family: monospace;background-color: #f0f8ff;border: 1px dotted black;border-radius: 0.25em;box-sizing: border-box;margin-bottom: 0.5em;}#sk-container-id-3 div.sk-estimator:hover {background-color: #d4ebff;}#sk-container-id-3 div.sk-parallel-item::after {content: \"\";width: 100%;border-bottom: 1px solid gray;flex-grow: 1;}#sk-container-id-3 div.sk-label:hover label.sk-toggleable__label {background-color: #d4ebff;}#sk-container-id-3 div.sk-serial::before {content: \"\";position: absolute;border-left: 1px solid gray;box-sizing: border-box;top: 0;bottom: 0;left: 50%;z-index: 0;}#sk-container-id-3 div.sk-serial {display: flex;flex-direction: column;align-items: center;background-color: white;padding-right: 0.2em;padding-left: 0.2em;position: relative;}#sk-container-id-3 div.sk-item {position: relative;z-index: 1;}#sk-container-id-3 div.sk-parallel {display: flex;align-items: stretch;justify-content: center;background-color: white;position: relative;}#sk-container-id-3 div.sk-item::before, #sk-container-id-3 div.sk-parallel-item::before {content: \"\";position: absolute;border-left: 1px solid gray;box-sizing: border-box;top: 0;bottom: 0;left: 50%;z-index: -1;}#sk-container-id-3 div.sk-parallel-item {display: flex;flex-direction: column;z-index: 1;position: relative;background-color: white;}#sk-container-id-3 div.sk-parallel-item:first-child::after {align-self: flex-end;width: 50%;}#sk-container-id-3 div.sk-parallel-item:last-child::after {align-self: flex-start;width: 50%;}#sk-container-id-3 div.sk-parallel-item:only-child::after {width: 0;}#sk-container-id-3 div.sk-dashed-wrapped {border: 1px dashed gray;margin: 0 0.4em 0.5em 0.4em;box-sizing: border-box;padding-bottom: 0.4em;background-color: white;}#sk-container-id-3 div.sk-label label {font-family: monospace;font-weight: bold;display: inline-block;line-height: 1.2em;}#sk-container-id-3 div.sk-label-container {text-align: center;}#sk-container-id-3 div.sk-container {/* jupyter's `normalize.less` sets `[hidden] { display: none; }` but bootstrap.min.css set `[hidden] { display: none !important; }` so we also need the `!important` here to be able to override the default hidden behavior on the sphinx rendered scikit-learn.org. See: https://github.com/scikit-learn/scikit-learn/issues/21755 */display: inline-block !important;position: relative;}#sk-container-id-3 div.sk-text-repr-fallback {display: none;}</style><div id=\"sk-container-id-3\" class=\"sk-top-container\"><div class=\"sk-text-repr-fallback\"><pre>LinearRegression()</pre><b>In a Jupyter environment, please rerun this cell to show the HTML representation or trust the notebook. <br />On GitHub, the HTML representation is unable to render, please try loading this page with nbviewer.org.</b></div><div class=\"sk-container\" hidden><div class=\"sk-item\"><div class=\"sk-estimator sk-toggleable\"><input class=\"sk-toggleable__control sk-hidden--visually\" id=\"sk-estimator-id-3\" type=\"checkbox\" checked><label for=\"sk-estimator-id-3\" class=\"sk-toggleable__label sk-toggleable__label-arrow\">LinearRegression</label><div class=\"sk-toggleable__content\"><pre>LinearRegression()</pre></div></div></div></div></div>"
      ],
      "text/plain": [
       "LinearRegression()"
      ]
     },
     "execution_count": 51,
     "metadata": {},
     "output_type": "execute_result"
    }
   ],
   "source": [
    "LR.fit(X_train,y_train)"
   ]
  },
  {
   "cell_type": "code",
   "execution_count": 52,
   "metadata": {},
   "outputs": [
    {
     "data": {
      "text/html": [
       "<style>#sk-container-id-4 {color: black;background-color: white;}#sk-container-id-4 pre{padding: 0;}#sk-container-id-4 div.sk-toggleable {background-color: white;}#sk-container-id-4 label.sk-toggleable__label {cursor: pointer;display: block;width: 100%;margin-bottom: 0;padding: 0.3em;box-sizing: border-box;text-align: center;}#sk-container-id-4 label.sk-toggleable__label-arrow:before {content: \"▸\";float: left;margin-right: 0.25em;color: #696969;}#sk-container-id-4 label.sk-toggleable__label-arrow:hover:before {color: black;}#sk-container-id-4 div.sk-estimator:hover label.sk-toggleable__label-arrow:before {color: black;}#sk-container-id-4 div.sk-toggleable__content {max-height: 0;max-width: 0;overflow: hidden;text-align: left;background-color: #f0f8ff;}#sk-container-id-4 div.sk-toggleable__content pre {margin: 0.2em;color: black;border-radius: 0.25em;background-color: #f0f8ff;}#sk-container-id-4 input.sk-toggleable__control:checked~div.sk-toggleable__content {max-height: 200px;max-width: 100%;overflow: auto;}#sk-container-id-4 input.sk-toggleable__control:checked~label.sk-toggleable__label-arrow:before {content: \"▾\";}#sk-container-id-4 div.sk-estimator input.sk-toggleable__control:checked~label.sk-toggleable__label {background-color: #d4ebff;}#sk-container-id-4 div.sk-label input.sk-toggleable__control:checked~label.sk-toggleable__label {background-color: #d4ebff;}#sk-container-id-4 input.sk-hidden--visually {border: 0;clip: rect(1px 1px 1px 1px);clip: rect(1px, 1px, 1px, 1px);height: 1px;margin: -1px;overflow: hidden;padding: 0;position: absolute;width: 1px;}#sk-container-id-4 div.sk-estimator {font-family: monospace;background-color: #f0f8ff;border: 1px dotted black;border-radius: 0.25em;box-sizing: border-box;margin-bottom: 0.5em;}#sk-container-id-4 div.sk-estimator:hover {background-color: #d4ebff;}#sk-container-id-4 div.sk-parallel-item::after {content: \"\";width: 100%;border-bottom: 1px solid gray;flex-grow: 1;}#sk-container-id-4 div.sk-label:hover label.sk-toggleable__label {background-color: #d4ebff;}#sk-container-id-4 div.sk-serial::before {content: \"\";position: absolute;border-left: 1px solid gray;box-sizing: border-box;top: 0;bottom: 0;left: 50%;z-index: 0;}#sk-container-id-4 div.sk-serial {display: flex;flex-direction: column;align-items: center;background-color: white;padding-right: 0.2em;padding-left: 0.2em;position: relative;}#sk-container-id-4 div.sk-item {position: relative;z-index: 1;}#sk-container-id-4 div.sk-parallel {display: flex;align-items: stretch;justify-content: center;background-color: white;position: relative;}#sk-container-id-4 div.sk-item::before, #sk-container-id-4 div.sk-parallel-item::before {content: \"\";position: absolute;border-left: 1px solid gray;box-sizing: border-box;top: 0;bottom: 0;left: 50%;z-index: -1;}#sk-container-id-4 div.sk-parallel-item {display: flex;flex-direction: column;z-index: 1;position: relative;background-color: white;}#sk-container-id-4 div.sk-parallel-item:first-child::after {align-self: flex-end;width: 50%;}#sk-container-id-4 div.sk-parallel-item:last-child::after {align-self: flex-start;width: 50%;}#sk-container-id-4 div.sk-parallel-item:only-child::after {width: 0;}#sk-container-id-4 div.sk-dashed-wrapped {border: 1px dashed gray;margin: 0 0.4em 0.5em 0.4em;box-sizing: border-box;padding-bottom: 0.4em;background-color: white;}#sk-container-id-4 div.sk-label label {font-family: monospace;font-weight: bold;display: inline-block;line-height: 1.2em;}#sk-container-id-4 div.sk-label-container {text-align: center;}#sk-container-id-4 div.sk-container {/* jupyter's `normalize.less` sets `[hidden] { display: none; }` but bootstrap.min.css set `[hidden] { display: none !important; }` so we also need the `!important` here to be able to override the default hidden behavior on the sphinx rendered scikit-learn.org. See: https://github.com/scikit-learn/scikit-learn/issues/21755 */display: inline-block !important;position: relative;}#sk-container-id-4 div.sk-text-repr-fallback {display: none;}</style><div id=\"sk-container-id-4\" class=\"sk-top-container\"><div class=\"sk-text-repr-fallback\"><pre>LinearRegression()</pre><b>In a Jupyter environment, please rerun this cell to show the HTML representation or trust the notebook. <br />On GitHub, the HTML representation is unable to render, please try loading this page with nbviewer.org.</b></div><div class=\"sk-container\" hidden><div class=\"sk-item\"><div class=\"sk-estimator sk-toggleable\"><input class=\"sk-toggleable__control sk-hidden--visually\" id=\"sk-estimator-id-4\" type=\"checkbox\" checked><label for=\"sk-estimator-id-4\" class=\"sk-toggleable__label sk-toggleable__label-arrow\">LinearRegression</label><div class=\"sk-toggleable__content\"><pre>LinearRegression()</pre></div></div></div></div></div>"
      ],
      "text/plain": [
       "LinearRegression()"
      ]
     },
     "execution_count": 52,
     "metadata": {},
     "output_type": "execute_result"
    }
   ],
   "source": [
    "LR_p.fit(X_train_p,y_train)"
   ]
  },
  {
   "cell_type": "code",
   "execution_count": 54,
   "metadata": {},
   "outputs": [],
   "source": [
    "LR_train_pred=LR.predict(X_train)"
   ]
  },
  {
   "cell_type": "code",
   "execution_count": 56,
   "metadata": {},
   "outputs": [],
   "source": [
    "LR_train_p_pred=LR_p.predict(X_train_p)"
   ]
  },
  {
   "cell_type": "code",
   "execution_count": 57,
   "metadata": {},
   "outputs": [
    {
     "name": "stdout",
     "output_type": "stream",
     "text": [
      "MSE con PCA= 21972.16566171702\n"
     ]
    }
   ],
   "source": [
    "print('MSE con PCA=' , mean_squared_error(y_train,LR_train_p_pred, squared=False))"
   ]
  },
  {
   "cell_type": "code",
   "execution_count": 58,
   "metadata": {},
   "outputs": [
    {
     "name": "stdout",
     "output_type": "stream",
     "text": [
      "MSE sin PCA= 19802.008698859514\n"
     ]
    }
   ],
   "source": [
    "print('MSE sin PCA=' , mean_squared_error(y_train,LR_train_pred, squared=False))"
   ]
  },
  {
   "cell_type": "code",
   "execution_count": 59,
   "metadata": {},
   "outputs": [],
   "source": [
    "LR_test_pred=LR.predict(X_test)"
   ]
  },
  {
   "cell_type": "code",
   "execution_count": 60,
   "metadata": {},
   "outputs": [
    {
     "name": "stdout",
     "output_type": "stream",
     "text": [
      "MSE sin PCA= 39810.305706582476\n"
     ]
    }
   ],
   "source": [
    "print('MSE sin PCA=' , mean_squared_error(y_test,LR_test_pred, squared=False))"
   ]
  },
  {
   "attachments": {},
   "cell_type": "markdown",
   "metadata": {},
   "source": [
    "#### Random Forest Regressor"
   ]
  },
  {
   "cell_type": "code",
   "execution_count": 61,
   "metadata": {},
   "outputs": [],
   "source": [
    "from sklearn.ensemble import RandomForestRegressor"
   ]
  },
  {
   "cell_type": "code",
   "execution_count": 62,
   "metadata": {},
   "outputs": [],
   "source": [
    "param_grid = {\n",
    "\n",
    "    'max_depth': [100],\n",
    "    'max_features': [0.7,0.8,0.9],\n",
    "    'min_samples_leaf': [3,  5],\n",
    "    'min_samples_split': [8,12],\n",
    "    'n_estimators': [100]\n",
    "}\n",
    "rf = RandomForestRegressor(criterion='squared_error')\n",
    "grid_search_rf = GridSearchCV(rf, param_grid = param_grid, cv = 5, n_jobs = -1, verbose = 2)"
   ]
  },
  {
   "cell_type": "code",
   "execution_count": 64,
   "metadata": {},
   "outputs": [
    {
     "name": "stdout",
     "output_type": "stream",
     "text": [
      "Fitting 5 folds for each of 12 candidates, totalling 60 fits\n",
      "[CV] END max_depth=100, max_features=0.7, min_samples_leaf=3, min_samples_split=8, n_estimators=100; total time=   1.0s\n",
      "[CV] END max_depth=100, max_features=0.7, min_samples_leaf=3, min_samples_split=8, n_estimators=100; total time=   1.0s\n",
      "[CV] END max_depth=100, max_features=0.7, min_samples_leaf=3, min_samples_split=8, n_estimators=100; total time=   1.2s\n",
      "[CV] END max_depth=100, max_features=0.7, min_samples_leaf=3, min_samples_split=12, n_estimators=100; total time=   1.0s\n",
      "[CV] END max_depth=100, max_features=0.7, min_samples_leaf=5, min_samples_split=8, n_estimators=100; total time=   1.0s\n",
      "[CV] END max_depth=100, max_features=0.7, min_samples_leaf=5, min_samples_split=8, n_estimators=100; total time=   1.1s\n",
      "[CV] END max_depth=100, max_features=0.7, min_samples_leaf=3, min_samples_split=12, n_estimators=100; total time=   1.1s\n",
      "[CV] END max_depth=100, max_features=0.7, min_samples_leaf=3, min_samples_split=12, n_estimators=100; total time=   1.1s\n",
      "[CV] END max_depth=100, max_features=0.7, min_samples_leaf=3, min_samples_split=8, n_estimators=100; total time=   1.3s\n",
      "[CV] END max_depth=100, max_features=0.7, min_samples_leaf=3, min_samples_split=8, n_estimators=100; total time=   1.3s\n",
      "[CV] END max_depth=100, max_features=0.7, min_samples_leaf=5, min_samples_split=8, n_estimators=100; total time=   1.2s\n",
      "[CV] END max_depth=100, max_features=0.7, min_samples_leaf=5, min_samples_split=8, n_estimators=100; total time=   1.2s\n",
      "[CV] END max_depth=100, max_features=0.7, min_samples_leaf=3, min_samples_split=12, n_estimators=100; total time=   1.2s\n",
      "[CV] END max_depth=100, max_features=0.7, min_samples_leaf=5, min_samples_split=8, n_estimators=100; total time=   1.0s\n",
      "[CV] END max_depth=100, max_features=0.7, min_samples_leaf=3, min_samples_split=12, n_estimators=100; total time=   1.3s\n",
      "[CV] END max_depth=100, max_features=0.7, min_samples_leaf=5, min_samples_split=12, n_estimators=100; total time=   1.1s\n",
      "[CV] END max_depth=100, max_features=0.7, min_samples_leaf=5, min_samples_split=12, n_estimators=100; total time=   0.9s\n",
      "[CV] END max_depth=100, max_features=0.7, min_samples_leaf=5, min_samples_split=12, n_estimators=100; total time=   0.9s\n",
      "[CV] END max_depth=100, max_features=0.7, min_samples_leaf=5, min_samples_split=12, n_estimators=100; total time=   0.9s\n",
      "[CV] END max_depth=100, max_features=0.7, min_samples_leaf=5, min_samples_split=12, n_estimators=100; total time=   1.3s\n",
      "[CV] END max_depth=100, max_features=0.8, min_samples_leaf=3, min_samples_split=8, n_estimators=100; total time=   1.2s\n",
      "[CV] END max_depth=100, max_features=0.8, min_samples_leaf=3, min_samples_split=8, n_estimators=100; total time=   1.4s\n",
      "[CV] END max_depth=100, max_features=0.8, min_samples_leaf=3, min_samples_split=8, n_estimators=100; total time=   1.3s\n",
      "[CV] END max_depth=100, max_features=0.8, min_samples_leaf=3, min_samples_split=12, n_estimators=100; total time=   1.1s\n",
      "[CV] END max_depth=100, max_features=0.8, min_samples_leaf=5, min_samples_split=8, n_estimators=100; total time=   1.0s\n",
      "[CV] END max_depth=100, max_features=0.8, min_samples_leaf=3, min_samples_split=8, n_estimators=100; total time=   1.4s\n",
      "[CV] END max_depth=100, max_features=0.8, min_samples_leaf=5, min_samples_split=8, n_estimators=100; total time=   1.0s\n",
      "[CV] END max_depth=100, max_features=0.8, min_samples_leaf=5, min_samples_split=8, n_estimators=100; total time=   1.1s\n",
      "[CV] END max_depth=100, max_features=0.8, min_samples_leaf=3, min_samples_split=8, n_estimators=100; total time=   1.5s\n",
      "[CV] END max_depth=100, max_features=0.8, min_samples_leaf=5, min_samples_split=8, n_estimators=100; total time=   1.0s\n",
      "[CV] END max_depth=100, max_features=0.8, min_samples_leaf=3, min_samples_split=12, n_estimators=100; total time=   1.4s\n",
      "[CV] END max_depth=100, max_features=0.8, min_samples_leaf=3, min_samples_split=12, n_estimators=100; total time=   1.4s\n",
      "[CV] END max_depth=100, max_features=0.8, min_samples_leaf=3, min_samples_split=12, n_estimators=100; total time=   1.6s\n",
      "[CV] END max_depth=100, max_features=0.8, min_samples_leaf=3, min_samples_split=12, n_estimators=100; total time=   1.7s\n",
      "[CV] END max_depth=100, max_features=0.8, min_samples_leaf=5, min_samples_split=8, n_estimators=100; total time=   1.4s\n",
      "[CV] END max_depth=100, max_features=0.8, min_samples_leaf=5, min_samples_split=12, n_estimators=100; total time=   1.1s\n",
      "[CV] END max_depth=100, max_features=0.8, min_samples_leaf=5, min_samples_split=12, n_estimators=100; total time=   1.1s\n",
      "[CV] END max_depth=100, max_features=0.8, min_samples_leaf=5, min_samples_split=12, n_estimators=100; total time=   1.4s\n",
      "[CV] END max_depth=100, max_features=0.8, min_samples_leaf=5, min_samples_split=12, n_estimators=100; total time=   1.4s\n",
      "[CV] END max_depth=100, max_features=0.8, min_samples_leaf=5, min_samples_split=12, n_estimators=100; total time=   1.4s\n",
      "[CV] END max_depth=100, max_features=0.9, min_samples_leaf=3, min_samples_split=8, n_estimators=100; total time=   1.2s\n",
      "[CV] END max_depth=100, max_features=0.9, min_samples_leaf=3, min_samples_split=8, n_estimators=100; total time=   1.3s\n",
      "[CV] END max_depth=100, max_features=0.9, min_samples_leaf=3, min_samples_split=12, n_estimators=100; total time=   1.2s\n",
      "[CV] END max_depth=100, max_features=0.9, min_samples_leaf=3, min_samples_split=12, n_estimators=100; total time=   1.2s\n",
      "[CV] END max_depth=100, max_features=0.9, min_samples_leaf=3, min_samples_split=8, n_estimators=100; total time=   1.4s\n",
      "[CV] END max_depth=100, max_features=0.9, min_samples_leaf=3, min_samples_split=8, n_estimators=100; total time=   1.4s\n",
      "[CV] END max_depth=100, max_features=0.9, min_samples_leaf=3, min_samples_split=12, n_estimators=100; total time=   1.4s\n",
      "[CV] END max_depth=100, max_features=0.9, min_samples_leaf=3, min_samples_split=12, n_estimators=100; total time=   1.5s\n",
      "[CV] END max_depth=100, max_features=0.9, min_samples_leaf=3, min_samples_split=8, n_estimators=100; total time=   1.8s\n",
      "[CV] END max_depth=100, max_features=0.9, min_samples_leaf=5, min_samples_split=8, n_estimators=100; total time=   1.4s\n",
      "[CV] END max_depth=100, max_features=0.9, min_samples_leaf=5, min_samples_split=8, n_estimators=100; total time=   1.2s\n",
      "[CV] END max_depth=100, max_features=0.9, min_samples_leaf=3, min_samples_split=12, n_estimators=100; total time=   1.6s\n",
      "[CV] END max_depth=100, max_features=0.9, min_samples_leaf=5, min_samples_split=8, n_estimators=100; total time=   1.1s\n",
      "[CV] END max_depth=100, max_features=0.9, min_samples_leaf=5, min_samples_split=8, n_estimators=100; total time=   1.3s\n",
      "[CV] END max_depth=100, max_features=0.9, min_samples_leaf=5, min_samples_split=8, n_estimators=100; total time=   1.2s\n",
      "[CV] END max_depth=100, max_features=0.9, min_samples_leaf=5, min_samples_split=12, n_estimators=100; total time=   1.0s\n",
      "[CV] END max_depth=100, max_features=0.9, min_samples_leaf=5, min_samples_split=12, n_estimators=100; total time=   1.0s\n",
      "[CV] END max_depth=100, max_features=0.9, min_samples_leaf=5, min_samples_split=12, n_estimators=100; total time=   0.9s\n",
      "[CV] END max_depth=100, max_features=0.9, min_samples_leaf=5, min_samples_split=12, n_estimators=100; total time=   1.0s\n",
      "[CV] END max_depth=100, max_features=0.9, min_samples_leaf=5, min_samples_split=12, n_estimators=100; total time=   0.9s\n"
     ]
    },
    {
     "data": {
      "text/html": [
       "<style>#sk-container-id-5 {color: black;background-color: white;}#sk-container-id-5 pre{padding: 0;}#sk-container-id-5 div.sk-toggleable {background-color: white;}#sk-container-id-5 label.sk-toggleable__label {cursor: pointer;display: block;width: 100%;margin-bottom: 0;padding: 0.3em;box-sizing: border-box;text-align: center;}#sk-container-id-5 label.sk-toggleable__label-arrow:before {content: \"▸\";float: left;margin-right: 0.25em;color: #696969;}#sk-container-id-5 label.sk-toggleable__label-arrow:hover:before {color: black;}#sk-container-id-5 div.sk-estimator:hover label.sk-toggleable__label-arrow:before {color: black;}#sk-container-id-5 div.sk-toggleable__content {max-height: 0;max-width: 0;overflow: hidden;text-align: left;background-color: #f0f8ff;}#sk-container-id-5 div.sk-toggleable__content pre {margin: 0.2em;color: black;border-radius: 0.25em;background-color: #f0f8ff;}#sk-container-id-5 input.sk-toggleable__control:checked~div.sk-toggleable__content {max-height: 200px;max-width: 100%;overflow: auto;}#sk-container-id-5 input.sk-toggleable__control:checked~label.sk-toggleable__label-arrow:before {content: \"▾\";}#sk-container-id-5 div.sk-estimator input.sk-toggleable__control:checked~label.sk-toggleable__label {background-color: #d4ebff;}#sk-container-id-5 div.sk-label input.sk-toggleable__control:checked~label.sk-toggleable__label {background-color: #d4ebff;}#sk-container-id-5 input.sk-hidden--visually {border: 0;clip: rect(1px 1px 1px 1px);clip: rect(1px, 1px, 1px, 1px);height: 1px;margin: -1px;overflow: hidden;padding: 0;position: absolute;width: 1px;}#sk-container-id-5 div.sk-estimator {font-family: monospace;background-color: #f0f8ff;border: 1px dotted black;border-radius: 0.25em;box-sizing: border-box;margin-bottom: 0.5em;}#sk-container-id-5 div.sk-estimator:hover {background-color: #d4ebff;}#sk-container-id-5 div.sk-parallel-item::after {content: \"\";width: 100%;border-bottom: 1px solid gray;flex-grow: 1;}#sk-container-id-5 div.sk-label:hover label.sk-toggleable__label {background-color: #d4ebff;}#sk-container-id-5 div.sk-serial::before {content: \"\";position: absolute;border-left: 1px solid gray;box-sizing: border-box;top: 0;bottom: 0;left: 50%;z-index: 0;}#sk-container-id-5 div.sk-serial {display: flex;flex-direction: column;align-items: center;background-color: white;padding-right: 0.2em;padding-left: 0.2em;position: relative;}#sk-container-id-5 div.sk-item {position: relative;z-index: 1;}#sk-container-id-5 div.sk-parallel {display: flex;align-items: stretch;justify-content: center;background-color: white;position: relative;}#sk-container-id-5 div.sk-item::before, #sk-container-id-5 div.sk-parallel-item::before {content: \"\";position: absolute;border-left: 1px solid gray;box-sizing: border-box;top: 0;bottom: 0;left: 50%;z-index: -1;}#sk-container-id-5 div.sk-parallel-item {display: flex;flex-direction: column;z-index: 1;position: relative;background-color: white;}#sk-container-id-5 div.sk-parallel-item:first-child::after {align-self: flex-end;width: 50%;}#sk-container-id-5 div.sk-parallel-item:last-child::after {align-self: flex-start;width: 50%;}#sk-container-id-5 div.sk-parallel-item:only-child::after {width: 0;}#sk-container-id-5 div.sk-dashed-wrapped {border: 1px dashed gray;margin: 0 0.4em 0.5em 0.4em;box-sizing: border-box;padding-bottom: 0.4em;background-color: white;}#sk-container-id-5 div.sk-label label {font-family: monospace;font-weight: bold;display: inline-block;line-height: 1.2em;}#sk-container-id-5 div.sk-label-container {text-align: center;}#sk-container-id-5 div.sk-container {/* jupyter's `normalize.less` sets `[hidden] { display: none; }` but bootstrap.min.css set `[hidden] { display: none !important; }` so we also need the `!important` here to be able to override the default hidden behavior on the sphinx rendered scikit-learn.org. See: https://github.com/scikit-learn/scikit-learn/issues/21755 */display: inline-block !important;position: relative;}#sk-container-id-5 div.sk-text-repr-fallback {display: none;}</style><div id=\"sk-container-id-5\" class=\"sk-top-container\"><div class=\"sk-text-repr-fallback\"><pre>GridSearchCV(cv=5, estimator=RandomForestRegressor(), n_jobs=-1,\n",
       "             param_grid={&#x27;max_depth&#x27;: [100], &#x27;max_features&#x27;: [0.7, 0.8, 0.9],\n",
       "                         &#x27;min_samples_leaf&#x27;: [3, 5],\n",
       "                         &#x27;min_samples_split&#x27;: [8, 12], &#x27;n_estimators&#x27;: [100]},\n",
       "             verbose=2)</pre><b>In a Jupyter environment, please rerun this cell to show the HTML representation or trust the notebook. <br />On GitHub, the HTML representation is unable to render, please try loading this page with nbviewer.org.</b></div><div class=\"sk-container\" hidden><div class=\"sk-item sk-dashed-wrapped\"><div class=\"sk-label-container\"><div class=\"sk-label sk-toggleable\"><input class=\"sk-toggleable__control sk-hidden--visually\" id=\"sk-estimator-id-5\" type=\"checkbox\" ><label for=\"sk-estimator-id-5\" class=\"sk-toggleable__label sk-toggleable__label-arrow\">GridSearchCV</label><div class=\"sk-toggleable__content\"><pre>GridSearchCV(cv=5, estimator=RandomForestRegressor(), n_jobs=-1,\n",
       "             param_grid={&#x27;max_depth&#x27;: [100], &#x27;max_features&#x27;: [0.7, 0.8, 0.9],\n",
       "                         &#x27;min_samples_leaf&#x27;: [3, 5],\n",
       "                         &#x27;min_samples_split&#x27;: [8, 12], &#x27;n_estimators&#x27;: [100]},\n",
       "             verbose=2)</pre></div></div></div><div class=\"sk-parallel\"><div class=\"sk-parallel-item\"><div class=\"sk-item\"><div class=\"sk-label-container\"><div class=\"sk-label sk-toggleable\"><input class=\"sk-toggleable__control sk-hidden--visually\" id=\"sk-estimator-id-6\" type=\"checkbox\" ><label for=\"sk-estimator-id-6\" class=\"sk-toggleable__label sk-toggleable__label-arrow\">estimator: RandomForestRegressor</label><div class=\"sk-toggleable__content\"><pre>RandomForestRegressor()</pre></div></div></div><div class=\"sk-serial\"><div class=\"sk-item\"><div class=\"sk-estimator sk-toggleable\"><input class=\"sk-toggleable__control sk-hidden--visually\" id=\"sk-estimator-id-7\" type=\"checkbox\" ><label for=\"sk-estimator-id-7\" class=\"sk-toggleable__label sk-toggleable__label-arrow\">RandomForestRegressor</label><div class=\"sk-toggleable__content\"><pre>RandomForestRegressor()</pre></div></div></div></div></div></div></div></div></div></div>"
      ],
      "text/plain": [
       "GridSearchCV(cv=5, estimator=RandomForestRegressor(), n_jobs=-1,\n",
       "             param_grid={'max_depth': [100], 'max_features': [0.7, 0.8, 0.9],\n",
       "                         'min_samples_leaf': [3, 5],\n",
       "                         'min_samples_split': [8, 12], 'n_estimators': [100]},\n",
       "             verbose=2)"
      ]
     },
     "execution_count": 64,
     "metadata": {},
     "output_type": "execute_result"
    }
   ],
   "source": [
    "grid_search_rf.fit(X_train,y_train)"
   ]
  },
  {
   "cell_type": "code",
   "execution_count": 65,
   "metadata": {},
   "outputs": [
    {
     "data": {
      "text/html": [
       "<style>#sk-container-id-6 {color: black;background-color: white;}#sk-container-id-6 pre{padding: 0;}#sk-container-id-6 div.sk-toggleable {background-color: white;}#sk-container-id-6 label.sk-toggleable__label {cursor: pointer;display: block;width: 100%;margin-bottom: 0;padding: 0.3em;box-sizing: border-box;text-align: center;}#sk-container-id-6 label.sk-toggleable__label-arrow:before {content: \"▸\";float: left;margin-right: 0.25em;color: #696969;}#sk-container-id-6 label.sk-toggleable__label-arrow:hover:before {color: black;}#sk-container-id-6 div.sk-estimator:hover label.sk-toggleable__label-arrow:before {color: black;}#sk-container-id-6 div.sk-toggleable__content {max-height: 0;max-width: 0;overflow: hidden;text-align: left;background-color: #f0f8ff;}#sk-container-id-6 div.sk-toggleable__content pre {margin: 0.2em;color: black;border-radius: 0.25em;background-color: #f0f8ff;}#sk-container-id-6 input.sk-toggleable__control:checked~div.sk-toggleable__content {max-height: 200px;max-width: 100%;overflow: auto;}#sk-container-id-6 input.sk-toggleable__control:checked~label.sk-toggleable__label-arrow:before {content: \"▾\";}#sk-container-id-6 div.sk-estimator input.sk-toggleable__control:checked~label.sk-toggleable__label {background-color: #d4ebff;}#sk-container-id-6 div.sk-label input.sk-toggleable__control:checked~label.sk-toggleable__label {background-color: #d4ebff;}#sk-container-id-6 input.sk-hidden--visually {border: 0;clip: rect(1px 1px 1px 1px);clip: rect(1px, 1px, 1px, 1px);height: 1px;margin: -1px;overflow: hidden;padding: 0;position: absolute;width: 1px;}#sk-container-id-6 div.sk-estimator {font-family: monospace;background-color: #f0f8ff;border: 1px dotted black;border-radius: 0.25em;box-sizing: border-box;margin-bottom: 0.5em;}#sk-container-id-6 div.sk-estimator:hover {background-color: #d4ebff;}#sk-container-id-6 div.sk-parallel-item::after {content: \"\";width: 100%;border-bottom: 1px solid gray;flex-grow: 1;}#sk-container-id-6 div.sk-label:hover label.sk-toggleable__label {background-color: #d4ebff;}#sk-container-id-6 div.sk-serial::before {content: \"\";position: absolute;border-left: 1px solid gray;box-sizing: border-box;top: 0;bottom: 0;left: 50%;z-index: 0;}#sk-container-id-6 div.sk-serial {display: flex;flex-direction: column;align-items: center;background-color: white;padding-right: 0.2em;padding-left: 0.2em;position: relative;}#sk-container-id-6 div.sk-item {position: relative;z-index: 1;}#sk-container-id-6 div.sk-parallel {display: flex;align-items: stretch;justify-content: center;background-color: white;position: relative;}#sk-container-id-6 div.sk-item::before, #sk-container-id-6 div.sk-parallel-item::before {content: \"\";position: absolute;border-left: 1px solid gray;box-sizing: border-box;top: 0;bottom: 0;left: 50%;z-index: -1;}#sk-container-id-6 div.sk-parallel-item {display: flex;flex-direction: column;z-index: 1;position: relative;background-color: white;}#sk-container-id-6 div.sk-parallel-item:first-child::after {align-self: flex-end;width: 50%;}#sk-container-id-6 div.sk-parallel-item:last-child::after {align-self: flex-start;width: 50%;}#sk-container-id-6 div.sk-parallel-item:only-child::after {width: 0;}#sk-container-id-6 div.sk-dashed-wrapped {border: 1px dashed gray;margin: 0 0.4em 0.5em 0.4em;box-sizing: border-box;padding-bottom: 0.4em;background-color: white;}#sk-container-id-6 div.sk-label label {font-family: monospace;font-weight: bold;display: inline-block;line-height: 1.2em;}#sk-container-id-6 div.sk-label-container {text-align: center;}#sk-container-id-6 div.sk-container {/* jupyter's `normalize.less` sets `[hidden] { display: none; }` but bootstrap.min.css set `[hidden] { display: none !important; }` so we also need the `!important` here to be able to override the default hidden behavior on the sphinx rendered scikit-learn.org. See: https://github.com/scikit-learn/scikit-learn/issues/21755 */display: inline-block !important;position: relative;}#sk-container-id-6 div.sk-text-repr-fallback {display: none;}</style><div id=\"sk-container-id-6\" class=\"sk-top-container\"><div class=\"sk-text-repr-fallback\"><pre>RandomForestRegressor(max_depth=100, max_features=0.8, min_samples_leaf=3,\n",
       "                      min_samples_split=8)</pre><b>In a Jupyter environment, please rerun this cell to show the HTML representation or trust the notebook. <br />On GitHub, the HTML representation is unable to render, please try loading this page with nbviewer.org.</b></div><div class=\"sk-container\" hidden><div class=\"sk-item\"><div class=\"sk-estimator sk-toggleable\"><input class=\"sk-toggleable__control sk-hidden--visually\" id=\"sk-estimator-id-8\" type=\"checkbox\" checked><label for=\"sk-estimator-id-8\" class=\"sk-toggleable__label sk-toggleable__label-arrow\">RandomForestRegressor</label><div class=\"sk-toggleable__content\"><pre>RandomForestRegressor(max_depth=100, max_features=0.8, min_samples_leaf=3,\n",
       "                      min_samples_split=8)</pre></div></div></div></div></div>"
      ],
      "text/plain": [
       "RandomForestRegressor(max_depth=100, max_features=0.8, min_samples_leaf=3,\n",
       "                      min_samples_split=8)"
      ]
     },
     "execution_count": 65,
     "metadata": {},
     "output_type": "execute_result"
    }
   ],
   "source": [
    "grid_search_rf.best_estimator_"
   ]
  },
  {
   "cell_type": "code",
   "execution_count": 66,
   "metadata": {},
   "outputs": [
    {
     "name": "stdout",
     "output_type": "stream",
     "text": [
      "MSE train RandomForest= 17519.142291024527\n",
      "MSE test RandomForest= 27499.704278279434\n"
     ]
    }
   ],
   "source": [
    "y_train_pred_gs_rf=grid_search_rf.predict(X_train)\n",
    "y_test_pred_gs_rf=grid_search_rf.predict(X_test)\n",
    "print('MSE train RandomForest=' , mean_squared_error(y_train,y_train_pred_gs_rf, squared=False))\n",
    "print('MSE test RandomForest=' , mean_squared_error(y_test,y_test_pred_gs_rf, squared=False))"
   ]
  },
  {
   "cell_type": "code",
   "execution_count": 67,
   "metadata": {},
   "outputs": [],
   "source": [
    "#RF = RandomForestRegressor(max_depth=100, max_features=0.7, min_samples_leaf=3,min_samples_split=8)\n",
    "RF = grid_search_rf.best_estimator_"
   ]
  },
  {
   "cell_type": "code",
   "execution_count": 68,
   "metadata": {},
   "outputs": [
    {
     "data": {
      "text/plain": [
       "array([1.75953053e-03, 5.06743922e-03, 1.18889310e-02, 5.17391673e-01,\n",
       "       3.65837129e-03, 1.49381284e-02, 7.40601618e-03, 2.90070131e-03,\n",
       "       2.73061817e-02, 0.00000000e+00, 4.78850968e-03, 3.74294163e-02,\n",
       "       2.78370219e-02, 1.49678791e-02, 0.00000000e+00, 1.14041969e-01,\n",
       "       5.75999504e-04, 0.00000000e+00, 1.33276909e-02, 7.33370073e-04,\n",
       "       2.48885030e-03, 0.00000000e+00, 6.82995465e-03, 3.37313311e-03,\n",
       "       5.42938745e-03, 8.14142036e-02, 1.79230616e-02, 5.40617393e-03,\n",
       "       4.11454091e-03, 0.00000000e+00, 0.00000000e+00, 0.00000000e+00,\n",
       "       0.00000000e+00, 0.00000000e+00, 3.73583520e-03, 1.52193938e-03,\n",
       "       1.71875179e-05, 0.00000000e+00, 6.04772190e-04, 5.44938198e-04,\n",
       "       0.00000000e+00, 1.02407813e-05, 2.29691413e-03, 5.17548367e-04,\n",
       "       1.06657922e-05, 1.62270663e-05, 0.00000000e+00, 7.28673780e-04,\n",
       "       2.30139642e-04, 6.14086157e-05, 7.26185191e-04, 0.00000000e+00,\n",
       "       8.65968573e-05, 2.22774476e-06, 0.00000000e+00, 3.42283841e-04,\n",
       "       1.49915559e-04, 5.38351554e-05, 0.00000000e+00, 0.00000000e+00,\n",
       "       1.00137994e-05, 2.40078473e-04, 8.65213384e-05, 6.89427844e-04,\n",
       "       5.25147681e-04, 3.37895055e-05, 2.73346957e-05, 3.72490328e-05,\n",
       "       9.71189514e-06, 6.21306130e-05, 0.00000000e+00, 3.17674120e-05,\n",
       "       1.20116018e-03, 9.36051789e-05, 2.16252271e-04, 2.31198189e-05,\n",
       "       6.56948290e-05, 7.59518504e-06, 2.90287043e-05, 9.41827627e-05,\n",
       "       1.94366695e-05, 0.00000000e+00, 4.96417806e-05, 1.21439790e-03,\n",
       "       0.00000000e+00, 0.00000000e+00, 6.26973388e-06, 3.00297737e-06,\n",
       "       0.00000000e+00, 0.00000000e+00, 0.00000000e+00, 0.00000000e+00,\n",
       "       0.00000000e+00, 0.00000000e+00, 0.00000000e+00, 0.00000000e+00,\n",
       "       0.00000000e+00, 9.81328060e-05, 4.86455450e-07, 1.20354352e-05,\n",
       "       0.00000000e+00, 1.06274316e-04, 0.00000000e+00, 0.00000000e+00,\n",
       "       1.09963319e-04, 0.00000000e+00, 5.42117400e-05, 3.16065830e-04,\n",
       "       0.00000000e+00, 4.03045618e-04, 0.00000000e+00, 0.00000000e+00,\n",
       "       5.00134413e-05, 0.00000000e+00, 0.00000000e+00, 0.00000000e+00,\n",
       "       0.00000000e+00, 0.00000000e+00, 0.00000000e+00, 0.00000000e+00,\n",
       "       2.07082817e-04, 0.00000000e+00, 0.00000000e+00, 8.39892690e-05,\n",
       "       0.00000000e+00, 2.38699903e-04, 7.89346290e-05, 0.00000000e+00,\n",
       "       0.00000000e+00, 7.40969596e-04, 6.47967927e-05, 5.03997206e-06,\n",
       "       0.00000000e+00, 0.00000000e+00, 1.56450914e-04, 0.00000000e+00,\n",
       "       1.01368306e-05, 4.54046093e-05, 0.00000000e+00, 8.53583744e-05,\n",
       "       9.62648737e-05, 0.00000000e+00, 1.73638655e-05, 6.79710940e-04,\n",
       "       1.48224274e-04, 1.11159762e-05, 3.48471778e-04, 4.33487984e-04,\n",
       "       3.18719013e-04, 1.01229643e-05, 2.01496418e-03, 1.63604488e-02,\n",
       "       9.03041878e-05, 8.08135251e-05, 0.00000000e+00, 1.31058203e-04,\n",
       "       1.55586364e-04, 2.65246897e-04, 6.24525348e-06, 0.00000000e+00,\n",
       "       0.00000000e+00, 1.14964309e-06, 1.14545936e-03, 4.79194618e-04,\n",
       "       2.65804378e-06, 1.16314170e-05, 0.00000000e+00, 1.06145596e-04,\n",
       "       2.27626850e-06, 1.11462016e-03, 9.43337176e-05, 8.18486382e-04,\n",
       "       1.50666765e-05, 3.59810505e-05, 6.67825898e-04, 3.62039722e-06,\n",
       "       1.15213796e-04, 1.57134596e-04, 1.31648027e-05, 1.45155335e-05,\n",
       "       2.43578883e-05, 3.13624065e-06, 1.97666745e-05, 4.01098589e-05,\n",
       "       4.51643271e-06, 1.08602164e-05, 0.00000000e+00, 0.00000000e+00,\n",
       "       0.00000000e+00, 0.00000000e+00, 1.22570504e-04, 1.23861410e-04,\n",
       "       3.31843302e-04, 2.28245719e-03, 9.08374386e-07, 0.00000000e+00,\n",
       "       0.00000000e+00, 6.32000361e-05, 3.82279941e-05, 2.20213560e-03,\n",
       "       1.28581372e-03, 0.00000000e+00, 1.62645446e-06, 1.82760739e-05,\n",
       "       0.00000000e+00, 1.63185320e-04, 5.43012245e-06, 3.32012091e-04,\n",
       "       1.19601860e-05, 2.02327156e-04, 4.61523721e-03, 2.18616317e-03,\n",
       "       0.00000000e+00, 2.20194214e-04, 0.00000000e+00, 2.82816521e-03,\n",
       "       1.00543019e-05, 8.59842974e-04, 5.44056664e-04, 1.32457121e-05,\n",
       "       2.52326438e-05, 0.00000000e+00, 0.00000000e+00, 7.19378863e-04,\n",
       "       1.00697274e-06, 1.86899712e-05, 0.00000000e+00, 0.00000000e+00,\n",
       "       3.70188325e-04, 2.10907967e-05, 1.14021202e-05, 1.76192850e-04,\n",
       "       3.49047074e-05, 2.04433788e-05, 0.00000000e+00, 1.19933395e-04,\n",
       "       0.00000000e+00, 0.00000000e+00, 7.42372692e-06, 0.00000000e+00,\n",
       "       0.00000000e+00, 3.24067695e-04, 0.00000000e+00, 4.96990420e-04,\n",
       "       0.00000000e+00, 0.00000000e+00, 1.08418433e-05, 5.20080515e-04,\n",
       "       2.90640629e-04])"
      ]
     },
     "execution_count": 68,
     "metadata": {},
     "output_type": "execute_result"
    }
   ],
   "source": [
    "RF.feature_importances_"
   ]
  },
  {
   "cell_type": "code",
   "execution_count": 62,
   "metadata": {},
   "outputs": [
    {
     "data": {
      "image/png": "[encoded data removed]",
      "text/plain": [
       "<Figure size 1300x800 with 1 Axes>"
      ]
     },
     "metadata": {},
     "output_type": "display_data"
    }
   ],
   "source": [
    "plt.figure(figsize=(13, 8))\n",
    "caract = X_train.shape[1]\n",
    "plt.barh(range(caract), RF.feature_importances_)\n",
    "plt.yticks(np.arange(caract)) #,X_train.columns)\n",
    "plt.xlabel('Features Importance')\n",
    "plt.ylabel('Features')\n",
    "plt.title('Features Importance', fontsize=20)\n",
    "plt.show()"
   ]
  },
  {
   "cell_type": "code",
   "execution_count": 69,
   "metadata": {},
   "outputs": [
    {
     "data": {
      "text/plain": [
       "array([0.00175953, 0.00506744, 0.01188893, 0.51739167, 0.00365837,\n",
       "       0.01493813, 0.00740602, 0.0029007 , 0.02730618, 0.00478851,\n",
       "       0.03742942, 0.02783702, 0.01496788, 0.11404197, 0.01332769,\n",
       "       0.00248885, 0.00682995, 0.00337313, 0.00542939, 0.0814142 ,\n",
       "       0.01792306, 0.00540617, 0.00411454, 0.00373584, 0.00152194,\n",
       "       0.00229691, 0.00120116, 0.0012144 , 0.00201496, 0.01636045,\n",
       "       0.00114546, 0.00111462, 0.00228246, 0.00220214, 0.00128581,\n",
       "       0.00461524, 0.00218616, 0.00282817])"
      ]
     },
     "execution_count": 69,
     "metadata": {},
     "output_type": "execute_result"
    }
   ],
   "source": [
    "RF.feature_importances_[RF.feature_importances_>0.001]"
   ]
  },
  {
   "cell_type": "code",
   "execution_count": 70,
   "metadata": {},
   "outputs": [],
   "source": [
    "feat_mask = RF.feature_importances_>0.001"
   ]
  },
  {
   "cell_type": "code",
   "execution_count": 71,
   "metadata": {},
   "outputs": [
    {
     "data": {
      "text/plain": [
       "array([ True,  True,  True,  True,  True,  True,  True,  True,  True,\n",
       "       False,  True,  True,  True,  True, False,  True, False, False,\n",
       "        True, False,  True, False,  True,  True,  True,  True,  True,\n",
       "        True,  True, False, False, False, False, False,  True,  True,\n",
       "       False, False, False, False, False, False,  True, False, False,\n",
       "       False, False, False, False, False, False, False, False, False,\n",
       "       False, False, False, False, False, False, False, False, False,\n",
       "       False, False, False, False, False, False, False, False, False,\n",
       "        True, False, False, False, False, False, False, False, False,\n",
       "       False, False,  True, False, False, False, False, False, False,\n",
       "       False, False, False, False, False, False, False, False, False,\n",
       "       False, False, False, False, False, False, False, False, False,\n",
       "       False, False, False, False, False, False, False, False, False,\n",
       "       False, False, False, False, False, False, False, False, False,\n",
       "       False, False, False, False, False, False, False, False, False,\n",
       "       False, False, False, False, False, False, False, False, False,\n",
       "       False, False, False, False, False, False,  True,  True, False,\n",
       "       False, False, False, False, False, False, False, False, False,\n",
       "        True, False, False, False, False, False, False,  True, False,\n",
       "       False, False, False, False, False, False, False, False, False,\n",
       "       False, False, False, False, False, False, False, False, False,\n",
       "       False, False, False, False,  True, False, False, False, False,\n",
       "       False,  True,  True, False, False, False, False, False, False,\n",
       "       False, False, False,  True,  True, False, False, False,  True,\n",
       "       False, False, False, False, False, False, False, False, False,\n",
       "       False, False, False, False, False, False, False, False, False,\n",
       "       False, False, False, False, False, False, False, False, False,\n",
       "       False, False, False, False, False, False])"
      ]
     },
     "execution_count": 71,
     "metadata": {},
     "output_type": "execute_result"
    }
   ],
   "source": [
    "feat_mask"
   ]
  },
  {
   "cell_type": "code",
   "execution_count": 77,
   "metadata": {},
   "outputs": [
    {
     "data": {
      "text/plain": [
       "array([[ 0.14769578,  0.40865777,  0.42881282, ..., -0.96632025,\n",
       "         0.82350526, -0.60768814],\n",
       "       [ 0.14769578,  0.40865777,  0.43526651, ..., -0.96632025,\n",
       "         0.82350526, -0.60768814],\n",
       "       [ 1.7674955 , -1.77619489, -1.46492336, ...,  1.03485361,\n",
       "         0.82350526, -0.60768814],\n",
       "       ...,\n",
       "       [-0.9321707 ,  0.72077958,  0.15186548, ..., -0.96632025,\n",
       "         0.82350526, -0.60768814],\n",
       "       [ 0.4176624 , -1.77619489,  0.49924218, ..., -0.96632025,\n",
       "        -1.21432132,  1.6455809 ],\n",
       "       [-0.9321707 , -1.77619489,  1.01806248, ..., -0.96632025,\n",
       "         0.82350526, -0.60768814]])"
      ]
     },
     "execution_count": 77,
     "metadata": {},
     "output_type": "execute_result"
    }
   ],
   "source": [
    "X_train[:,feat_mask]"
   ]
  },
  {
   "cell_type": "code",
   "execution_count": 72,
   "metadata": {},
   "outputs": [
    {
     "data": {
      "text/html": [
       "<style>#sk-container-id-7 {color: black;background-color: white;}#sk-container-id-7 pre{padding: 0;}#sk-container-id-7 div.sk-toggleable {background-color: white;}#sk-container-id-7 label.sk-toggleable__label {cursor: pointer;display: block;width: 100%;margin-bottom: 0;padding: 0.3em;box-sizing: border-box;text-align: center;}#sk-container-id-7 label.sk-toggleable__label-arrow:before {content: \"▸\";float: left;margin-right: 0.25em;color: #696969;}#sk-container-id-7 label.sk-toggleable__label-arrow:hover:before {color: black;}#sk-container-id-7 div.sk-estimator:hover label.sk-toggleable__label-arrow:before {color: black;}#sk-container-id-7 div.sk-toggleable__content {max-height: 0;max-width: 0;overflow: hidden;text-align: left;background-color: #f0f8ff;}#sk-container-id-7 div.sk-toggleable__content pre {margin: 0.2em;color: black;border-radius: 0.25em;background-color: #f0f8ff;}#sk-container-id-7 input.sk-toggleable__control:checked~div.sk-toggleable__content {max-height: 200px;max-width: 100%;overflow: auto;}#sk-container-id-7 input.sk-toggleable__control:checked~label.sk-toggleable__label-arrow:before {content: \"▾\";}#sk-container-id-7 div.sk-estimator input.sk-toggleable__control:checked~label.sk-toggleable__label {background-color: #d4ebff;}#sk-container-id-7 div.sk-label input.sk-toggleable__control:checked~label.sk-toggleable__label {background-color: #d4ebff;}#sk-container-id-7 input.sk-hidden--visually {border: 0;clip: rect(1px 1px 1px 1px);clip: rect(1px, 1px, 1px, 1px);height: 1px;margin: -1px;overflow: hidden;padding: 0;position: absolute;width: 1px;}#sk-container-id-7 div.sk-estimator {font-family: monospace;background-color: #f0f8ff;border: 1px dotted black;border-radius: 0.25em;box-sizing: border-box;margin-bottom: 0.5em;}#sk-container-id-7 div.sk-estimator:hover {background-color: #d4ebff;}#sk-container-id-7 div.sk-parallel-item::after {content: \"\";width: 100%;border-bottom: 1px solid gray;flex-grow: 1;}#sk-container-id-7 div.sk-label:hover label.sk-toggleable__label {background-color: #d4ebff;}#sk-container-id-7 div.sk-serial::before {content: \"\";position: absolute;border-left: 1px solid gray;box-sizing: border-box;top: 0;bottom: 0;left: 50%;z-index: 0;}#sk-container-id-7 div.sk-serial {display: flex;flex-direction: column;align-items: center;background-color: white;padding-right: 0.2em;padding-left: 0.2em;position: relative;}#sk-container-id-7 div.sk-item {position: relative;z-index: 1;}#sk-container-id-7 div.sk-parallel {display: flex;align-items: stretch;justify-content: center;background-color: white;position: relative;}#sk-container-id-7 div.sk-item::before, #sk-container-id-7 div.sk-parallel-item::before {content: \"\";position: absolute;border-left: 1px solid gray;box-sizing: border-box;top: 0;bottom: 0;left: 50%;z-index: -1;}#sk-container-id-7 div.sk-parallel-item {display: flex;flex-direction: column;z-index: 1;position: relative;background-color: white;}#sk-container-id-7 div.sk-parallel-item:first-child::after {align-self: flex-end;width: 50%;}#sk-container-id-7 div.sk-parallel-item:last-child::after {align-self: flex-start;width: 50%;}#sk-container-id-7 div.sk-parallel-item:only-child::after {width: 0;}#sk-container-id-7 div.sk-dashed-wrapped {border: 1px dashed gray;margin: 0 0.4em 0.5em 0.4em;box-sizing: border-box;padding-bottom: 0.4em;background-color: white;}#sk-container-id-7 div.sk-label label {font-family: monospace;font-weight: bold;display: inline-block;line-height: 1.2em;}#sk-container-id-7 div.sk-label-container {text-align: center;}#sk-container-id-7 div.sk-container {/* jupyter's `normalize.less` sets `[hidden] { display: none; }` but bootstrap.min.css set `[hidden] { display: none !important; }` so we also need the `!important` here to be able to override the default hidden behavior on the sphinx rendered scikit-learn.org. See: https://github.com/scikit-learn/scikit-learn/issues/21755 */display: inline-block !important;position: relative;}#sk-container-id-7 div.sk-text-repr-fallback {display: none;}</style><div id=\"sk-container-id-7\" class=\"sk-top-container\"><div class=\"sk-text-repr-fallback\"><pre>RandomForestRegressor(max_depth=100, max_features=0.8, min_samples_leaf=3,\n",
       "                      min_samples_split=8)</pre><b>In a Jupyter environment, please rerun this cell to show the HTML representation or trust the notebook. <br />On GitHub, the HTML representation is unable to render, please try loading this page with nbviewer.org.</b></div><div class=\"sk-container\" hidden><div class=\"sk-item\"><div class=\"sk-estimator sk-toggleable\"><input class=\"sk-toggleable__control sk-hidden--visually\" id=\"sk-estimator-id-9\" type=\"checkbox\" checked><label for=\"sk-estimator-id-9\" class=\"sk-toggleable__label sk-toggleable__label-arrow\">RandomForestRegressor</label><div class=\"sk-toggleable__content\"><pre>RandomForestRegressor(max_depth=100, max_features=0.8, min_samples_leaf=3,\n",
       "                      min_samples_split=8)</pre></div></div></div></div></div>"
      ],
      "text/plain": [
       "RandomForestRegressor(max_depth=100, max_features=0.8, min_samples_leaf=3,\n",
       "                      min_samples_split=8)"
      ]
     },
     "execution_count": 72,
     "metadata": {},
     "output_type": "execute_result"
    }
   ],
   "source": [
    "RF.fit(X_train[:,feat_mask],y_train)"
   ]
  },
  {
   "cell_type": "code",
   "execution_count": 73,
   "metadata": {},
   "outputs": [],
   "source": [
    "y_train_pred_rf=grid_search_rf.predict(X_train[:,feat_mask])"
   ]
  },
  {
   "cell_type": "code",
   "execution_count": 74,
   "metadata": {},
   "outputs": [],
   "source": [
    "y_test_pred_rf=grid_search_rf.predict(X_test[:,feat_mask])"
   ]
  },
  {
   "cell_type": "code",
   "execution_count": 75,
   "metadata": {},
   "outputs": [
    {
     "name": "stdout",
     "output_type": "stream",
     "text": [
      "MSE train RandomForest= 17786.227230347675\n"
     ]
    }
   ],
   "source": [
    "print('MSE train RandomForest=' , mean_squared_error(y_train,y_train_pred_rf, squared=False))"
   ]
  },
  {
   "cell_type": "code",
   "execution_count": 76,
   "metadata": {},
   "outputs": [
    {
     "name": "stdout",
     "output_type": "stream",
     "text": [
      "MSE test RandomForest= 27950.90729362751\n"
     ]
    }
   ],
   "source": [
    "print('MSE test RandomForest=' , mean_squared_error(y_test,y_test_pred_rf, squared=False))"
   ]
  },
  {
   "attachments": {},
   "cell_type": "markdown",
   "metadata": {},
   "source": [
    "#### XGboost"
   ]
  },
  {
   "cell_type": "code",
   "execution_count": 86,
   "metadata": {},
   "outputs": [],
   "source": [
    "from xgboost import XGBRegressor\n",
    "from sklearn.metrics import make_scorer"
   ]
  },
  {
   "cell_type": "code",
   "execution_count": 87,
   "metadata": {},
   "outputs": [],
   "source": [
    "param_dist = {\n",
    "    'n_estimators':[5,6,7,8],\n",
    "    'max_depth':[20,30,35], \n",
    "    'learning_rate':[0.3,0.4,0.5],\n",
    "    }\n",
    "#Create the lgbm moodel object\n",
    "bst = XGBRegressor(reg_lambda=2,reg_alpha=1)\n",
    "#Create the GridSearch object\n",
    "bst_grid = GridSearchCV(bst, param_dist,cv = 5, n_jobs = -1, verbose = 2)"
   ]
  },
  {
   "cell_type": "code",
   "execution_count": 88,
   "metadata": {},
   "outputs": [
    {
     "name": "stdout",
     "output_type": "stream",
     "text": [
      "Fitting 5 folds for each of 36 candidates, totalling 180 fits\n",
      "[CV] END ....learning_rate=0.3, max_depth=20, n_estimators=5; total time=   0.0s\n",
      "[CV] END ....learning_rate=0.3, max_depth=20, n_estimators=5; total time=   0.0s\n",
      "[CV] END ....learning_rate=0.3, max_depth=20, n_estimators=5; total time=   0.0s\n",
      "[CV] END ....learning_rate=0.3, max_depth=20, n_estimators=5; total time=   0.0s\n",
      "[CV] END ....learning_rate=0.3, max_depth=20, n_estimators=5; total time=   0.0s\n",
      "[CV] END ....learning_rate=0.3, max_depth=20, n_estimators=6; total time=   0.0s\n",
      "[CV] END ....learning_rate=0.3, max_depth=20, n_estimators=6; total time=   0.0s\n",
      "[CV] END ....learning_rate=0.3, max_depth=20, n_estimators=6; total time=   0.0s\n",
      "[CV] END ....learning_rate=0.3, max_depth=20, n_estimators=6; total time=   0.0s\n",
      "[CV] END ....learning_rate=0.3, max_depth=20, n_estimators=7; total time=   0.1s[CV] END ....learning_rate=0.3, max_depth=20, n_estimators=6; total time=   0.1s[CV] END ....learning_rate=0.3, max_depth=20, n_estimators=7; total time=   0.1s\n",
      "\n",
      "\n",
      "[CV] END ....learning_rate=0.3, max_depth=20, n_estimators=7; total time=   0.1s\n",
      "[CV] END ....learning_rate=0.3, max_depth=30, n_estimators=5; total time=   0.0s\n",
      "[CV] END ....learning_rate=0.3, max_depth=30, n_estimators=5; total time=   0.0s\n",
      "[CV] END ....learning_rate=0.3, max_depth=30, n_estimators=5; total time=   0.0s\n",
      "[CV] END ....learning_rate=0.3, max_depth=20, n_estimators=7; total time=   0.1s\n",
      "[CV] END ....learning_rate=0.3, max_depth=30, n_estimators=5; total time=   0.0s\n",
      "[CV] END ....learning_rate=0.3, max_depth=20, n_estimators=8; total time=   0.1s\n",
      "[CV] END ....learning_rate=0.3, max_depth=20, n_estimators=7; total time=   0.1s\n",
      "[CV] END ....learning_rate=0.3, max_depth=20, n_estimators=8; total time=   0.1s\n",
      "[CV] END ....learning_rate=0.3, max_depth=30, n_estimators=6; total time=   0.0s\n",
      "[CV] END ....learning_rate=0.3, max_depth=20, n_estimators=8; total time=   0.1s\n",
      "[CV] END ....learning_rate=0.3, max_depth=20, n_estimators=8; total time=   0.1s\n",
      "[CV] END ....learning_rate=0.3, max_depth=30, n_estimators=5; total time=   0.0s\n",
      "[CV] END ....learning_rate=0.3, max_depth=30, n_estimators=6; total time=   0.0s\n",
      "[CV] END ....learning_rate=0.3, max_depth=30, n_estimators=6; total time=   0.0s\n",
      "[CV] END ....learning_rate=0.3, max_depth=30, n_estimators=6; total time=   0.1s\n",
      "[CV] END ....learning_rate=0.3, max_depth=30, n_estimators=6; total time=   0.1s\n",
      "[CV] END ....learning_rate=0.3, max_depth=20, n_estimators=8; total time=   0.1s\n",
      "[CV] END ....learning_rate=0.3, max_depth=30, n_estimators=7; total time=   0.0s\n",
      "[CV] END ....learning_rate=0.3, max_depth=30, n_estimators=7; total time=   0.0s\n",
      "[CV] END ....learning_rate=0.3, max_depth=35, n_estimators=5; total time=   0.0s\n",
      "[CV] END ....learning_rate=0.3, max_depth=35, n_estimators=5; total time=   0.0s\n",
      "[CV] END ....learning_rate=0.3, max_depth=35, n_estimators=5; total time=   0.0s\n",
      "[CV] END ....learning_rate=0.3, max_depth=30, n_estimators=7; total time=   0.0s\n",
      "[CV] END ....learning_rate=0.3, max_depth=35, n_estimators=6; total time=   0.0s\n",
      "[CV] END ....learning_rate=0.3, max_depth=35, n_estimators=6; total time=   0.0s\n",
      "[CV] END ....learning_rate=0.3, max_depth=30, n_estimators=7; total time=   0.0s\n",
      "[CV] END ....learning_rate=0.3, max_depth=35, n_estimators=7; total time=   0.0s\n",
      "[CV] END ....learning_rate=0.3, max_depth=35, n_estimators=7; total time=   0.0s\n",
      "[CV] END ....learning_rate=0.3, max_depth=30, n_estimators=8; total time=   0.1s\n",
      "[CV] END ....learning_rate=0.4, max_depth=20, n_estimators=5; total time=   0.0s\n",
      "[CV] END ....learning_rate=0.3, max_depth=30, n_estimators=8; total time=   0.1s\n",
      "[CV] END ....learning_rate=0.4, max_depth=20, n_estimators=5; total time=   0.0s\n",
      "[CV] END ....learning_rate=0.3, max_depth=35, n_estimators=5; total time=   0.0s\n",
      "[CV] END ....learning_rate=0.3, max_depth=35, n_estimators=5; total time=   0.0s\n",
      "[CV] END ....learning_rate=0.3, max_depth=35, n_estimators=6; total time=   0.0s\n",
      "[CV] END ....learning_rate=0.3, max_depth=35, n_estimators=6; total time=   0.0s\n",
      "[CV] END ....learning_rate=0.3, max_depth=35, n_estimators=7; total time=   0.1s\n",
      "[CV] END ....learning_rate=0.3, max_depth=35, n_estimators=8; total time=   0.1s\n",
      "[CV] END ....learning_rate=0.3, max_depth=35, n_estimators=8; total time=   0.1s[CV] END ....learning_rate=0.3, max_depth=30, n_estimators=7; total time=   0.0s\n",
      "\n",
      "[CV] END ....learning_rate=0.3, max_depth=35, n_estimators=6; total time=   0.0s\n",
      "[CV] END ....learning_rate=0.4, max_depth=20, n_estimators=5; total time=   0.0s\n",
      "[CV] END ....learning_rate=0.4, max_depth=20, n_estimators=5; total time=   0.0s\n",
      "[CV] END ....learning_rate=0.3, max_depth=30, n_estimators=8; total time=   0.1s\n",
      "[CV] END ....learning_rate=0.3, max_depth=35, n_estimators=8; total time=   0.1s\n",
      "[CV] END ....learning_rate=0.3, max_depth=30, n_estimators=8; total time=   0.1s\n",
      "[CV] END ....learning_rate=0.3, max_depth=35, n_estimators=7; total time=   0.1s\n",
      "[CV] END ....learning_rate=0.4, max_depth=20, n_estimators=5; total time=   0.1s\n",
      "[CV] END ....learning_rate=0.3, max_depth=30, n_estimators=8; total time=   0.1s\n",
      "[CV] END ....learning_rate=0.4, max_depth=20, n_estimators=6; total time=   0.0s\n",
      "[CV] END ....learning_rate=0.3, max_depth=35, n_estimators=7; total time=   0.1s\n",
      "[CV] END ....learning_rate=0.3, max_depth=35, n_estimators=8; total time=   0.1s\n",
      "[CV] END ....learning_rate=0.4, max_depth=20, n_estimators=6; total time=   0.1s\n",
      "[CV] END ....learning_rate=0.3, max_depth=35, n_estimators=8; total time=   0.1s\n",
      "[CV] END ....learning_rate=0.4, max_depth=30, n_estimators=5; total time=   0.0s\n",
      "[CV] END ....learning_rate=0.4, max_depth=20, n_estimators=7; total time=   0.1s\n",
      "[CV] END ....learning_rate=0.4, max_depth=30, n_estimators=5; total time=   0.0s\n",
      "[CV] END ....learning_rate=0.4, max_depth=30, n_estimators=5; total time=   0.1s\n",
      "[CV] END ....learning_rate=0.4, max_depth=20, n_estimators=7; total time=   0.1s\n",
      "[CV] END ....learning_rate=0.4, max_depth=20, n_estimators=8; total time=   0.1s\n",
      "[CV] END ....learning_rate=0.4, max_depth=30, n_estimators=6; total time=   0.1s\n",
      "[CV] END ....learning_rate=0.4, max_depth=20, n_estimators=7; total time=   0.1s\n",
      "[CV] END ....learning_rate=0.4, max_depth=20, n_estimators=6; total time=   0.0s\n",
      "[CV] END ....learning_rate=0.4, max_depth=20, n_estimators=6; total time=   0.1s\n",
      "[CV] END ....learning_rate=0.4, max_depth=30, n_estimators=5; total time=   0.0s\n",
      "[CV] END ....learning_rate=0.4, max_depth=20, n_estimators=6; total time=   0.0s\n",
      "[CV] END ....learning_rate=0.4, max_depth=20, n_estimators=8; total time=   0.1s\n",
      "[CV] END ....learning_rate=0.4, max_depth=30, n_estimators=5; total time=   0.0s\n",
      "[CV] END ....learning_rate=0.4, max_depth=30, n_estimators=7; total time=   0.1s\n",
      "[CV] END ....learning_rate=0.4, max_depth=30, n_estimators=7; total time=   0.1s\n",
      "[CV] END ....learning_rate=0.4, max_depth=30, n_estimators=6; total time=   0.1s\n",
      "[CV] END ....learning_rate=0.4, max_depth=30, n_estimators=6; total time=   0.0s\n",
      "[CV] END ....learning_rate=0.4, max_depth=30, n_estimators=7; total time=   0.1s\n",
      "[CV] END ....learning_rate=0.4, max_depth=20, n_estimators=8; total time=   0.1s\n",
      "[CV] END ....learning_rate=0.4, max_depth=30, n_estimators=6; total time=   0.1s\n",
      "[CV] END ....learning_rate=0.4, max_depth=35, n_estimators=5; total time=   0.0s\n",
      "[CV] END ....learning_rate=0.4, max_depth=35, n_estimators=5; total time=   0.1s\n",
      "[CV] END ....learning_rate=0.4, max_depth=20, n_estimators=7; total time=   0.1s\n",
      "[CV] END ....learning_rate=0.4, max_depth=20, n_estimators=7; total time=   0.1s\n",
      "[CV] END ....learning_rate=0.4, max_depth=35, n_estimators=6; total time=   0.0s\n",
      "[CV] END ....learning_rate=0.4, max_depth=20, n_estimators=8; total time=   0.1s\n",
      "[CV] END ....learning_rate=0.4, max_depth=30, n_estimators=8; total time=   0.1s\n",
      "[CV] END ....learning_rate=0.4, max_depth=35, n_estimators=7; total time=   0.1s\n",
      "[CV] END ....learning_rate=0.4, max_depth=30, n_estimators=7; total time=   0.1s[CV] END ....learning_rate=0.4, max_depth=20, n_estimators=8; total time=   0.1s\n",
      "\n",
      "[CV] END ....learning_rate=0.4, max_depth=30, n_estimators=7; total time=   0.1s\n",
      "[CV] END ....learning_rate=0.4, max_depth=30, n_estimators=6; total time=   0.1s\n",
      "[CV] END ....learning_rate=0.4, max_depth=35, n_estimators=6; total time=   0.0s\n",
      "[CV] END ....learning_rate=0.4, max_depth=35, n_estimators=5; total time=   0.0s\n",
      "[CV] END ....learning_rate=0.5, max_depth=20, n_estimators=5; total time=   0.0s\n",
      "[CV] END ....learning_rate=0.5, max_depth=20, n_estimators=5; total time=   0.1s\n",
      "[CV] END ....learning_rate=0.4, max_depth=35, n_estimators=6; total time=   0.0s\n",
      "[CV] END ....learning_rate=0.4, max_depth=30, n_estimators=8; total time=   0.1s\n",
      "[CV] END ....learning_rate=0.4, max_depth=35, n_estimators=8; total time=   0.1s\n",
      "[CV] END ....learning_rate=0.5, max_depth=20, n_estimators=6; total time=   0.1s\n",
      "[CV] END ....learning_rate=0.4, max_depth=35, n_estimators=5; total time=   0.0s\n",
      "[CV] END ....learning_rate=0.4, max_depth=35, n_estimators=7; total time=   0.1s\n",
      "[CV] END ....learning_rate=0.4, max_depth=35, n_estimators=6; total time=   0.0s\n",
      "[CV] END ....learning_rate=0.4, max_depth=30, n_estimators=8; total time=   0.1s\n",
      "[CV] END ....learning_rate=0.5, max_depth=20, n_estimators=7; total time=   0.1s\n",
      "[CV] END ....learning_rate=0.5, max_depth=30, n_estimators=6; total time=   0.1s\n",
      "[CV] END ....learning_rate=0.5, max_depth=30, n_estimators=5; total time=   0.1s\n",
      "[CV] END ....learning_rate=0.5, max_depth=30, n_estimators=7; total time=   0.1s\n",
      "[CV] END ....learning_rate=0.5, max_depth=30, n_estimators=5; total time=   0.1s\n",
      "[CV] END ....learning_rate=0.4, max_depth=35, n_estimators=7; total time=   0.1s[CV] END ....learning_rate=0.4, max_depth=35, n_estimators=5; total time=   0.0s\n",
      "\n",
      "[CV] END ....learning_rate=0.5, max_depth=20, n_estimators=8; total time=   0.1s\n",
      "[CV] END ....learning_rate=0.5, max_depth=20, n_estimators=6; total time=   0.1s\n",
      "[CV] END ....learning_rate=0.5, max_depth=20, n_estimators=6; total time=   0.1s\n",
      "[CV] END ....learning_rate=0.5, max_depth=20, n_estimators=5; total time=   0.1s\n",
      "[CV] END ....learning_rate=0.4, max_depth=35, n_estimators=8; total time=   0.1s\n",
      "[CV] END ....learning_rate=0.4, max_depth=35, n_estimators=6; total time=   0.0s\n",
      "[CV] END ....learning_rate=0.4, max_depth=35, n_estimators=7; total time=   0.1s\n",
      "[CV] END ....learning_rate=0.5, max_depth=30, n_estimators=8; total time=   0.1s\n",
      "[CV] END ....learning_rate=0.5, max_depth=30, n_estimators=6; total time=   0.1s\n",
      "[CV] END ....learning_rate=0.5, max_depth=35, n_estimators=5; total time=   0.0s\n",
      "[CV] END ....learning_rate=0.5, max_depth=30, n_estimators=7; total time=   0.1s\n",
      "[CV] END ....learning_rate=0.5, max_depth=20, n_estimators=5; total time=   0.0s\n",
      "[CV] END ....learning_rate=0.5, max_depth=20, n_estimators=7; total time=   0.1s\n",
      "[CV] END ....learning_rate=0.5, max_depth=30, n_estimators=6; total time=   0.1s[CV] END ....learning_rate=0.4, max_depth=35, n_estimators=7; total time=   0.1s\n",
      "\n",
      "[CV] END ....learning_rate=0.5, max_depth=35, n_estimators=5; total time=   0.0s\n",
      "[CV] END ....learning_rate=0.5, max_depth=30, n_estimators=5; total time=   0.1s\n",
      "[CV] END ....learning_rate=0.5, max_depth=20, n_estimators=7; total time=   0.1s\n",
      "[CV] END ....learning_rate=0.5, max_depth=20, n_estimators=6; total time=   0.1s\n",
      "[CV] END ....learning_rate=0.4, max_depth=35, n_estimators=8; total time=   0.1s[CV] END ....learning_rate=0.4, max_depth=30, n_estimators=8; total time=   0.1s\n",
      "\n",
      "[CV] END ....learning_rate=0.5, max_depth=35, n_estimators=5; total time=   0.0s\n",
      "[CV] END ....learning_rate=0.5, max_depth=20, n_estimators=8; total time=   0.1s\n",
      "[CV] END ....learning_rate=0.5, max_depth=20, n_estimators=5; total time=   0.0s\n",
      "[CV] END ....learning_rate=0.4, max_depth=35, n_estimators=8; total time=   0.1s\n",
      "[CV] END ....learning_rate=0.5, max_depth=35, n_estimators=5; total time=   0.0s\n",
      "[CV] END ....learning_rate=0.5, max_depth=35, n_estimators=5; total time=   0.0s\n",
      "[CV] END ....learning_rate=0.5, max_depth=30, n_estimators=7; total time=   0.1s\n",
      "[CV] END ....learning_rate=0.5, max_depth=30, n_estimators=8; total time=   0.1s\n",
      "[CV] END ....learning_rate=0.5, max_depth=30, n_estimators=7; total time=   0.1s\n",
      "[CV] END ....learning_rate=0.5, max_depth=30, n_estimators=6; total time=   0.1s\n",
      "[CV] END ....learning_rate=0.5, max_depth=20, n_estimators=7; total time=   0.1s\n",
      "[CV] END ....learning_rate=0.5, max_depth=20, n_estimators=7; total time=   0.1s\n",
      "[CV] END ....learning_rate=0.5, max_depth=20, n_estimators=6; total time=   0.1s\n",
      "[CV] END ....learning_rate=0.5, max_depth=35, n_estimators=6; total time=   0.1s\n",
      "[CV] END ....learning_rate=0.5, max_depth=30, n_estimators=5; total time=   0.1s\n",
      "[CV] END ....learning_rate=0.4, max_depth=35, n_estimators=8; total time=   0.1s\n",
      "[CV] END ....learning_rate=0.5, max_depth=35, n_estimators=6; total time=   0.1s\n",
      "[CV] END ....learning_rate=0.5, max_depth=35, n_estimators=6; total time=   0.1s\n",
      "[CV] END ....learning_rate=0.5, max_depth=35, n_estimators=6; total time=   0.1s\n",
      "[CV] END ....learning_rate=0.4, max_depth=30, n_estimators=8; total time=   0.1s\n",
      "[CV] END ....learning_rate=0.5, max_depth=30, n_estimators=7; total time=   0.1s\n",
      "[CV] END ....learning_rate=0.5, max_depth=20, n_estimators=8; total time=   0.1s\n",
      "[CV] END ....learning_rate=0.5, max_depth=30, n_estimators=8; total time=   0.1s\n",
      "[CV] END ....learning_rate=0.5, max_depth=30, n_estimators=8; total time=   0.1s\n",
      "[CV] END ....learning_rate=0.5, max_depth=35, n_estimators=7; total time=   0.1s\n",
      "[CV] END ....learning_rate=0.5, max_depth=35, n_estimators=6; total time=   0.1s\n",
      "[CV] END ....learning_rate=0.5, max_depth=30, n_estimators=6; total time=   0.1s\n",
      "[CV] END ....learning_rate=0.5, max_depth=30, n_estimators=5; total time=   0.1s\n",
      "[CV] END ....learning_rate=0.5, max_depth=35, n_estimators=7; total time=   0.1s\n",
      "[CV] END ....learning_rate=0.5, max_depth=35, n_estimators=7; total time=   0.1s\n",
      "[CV] END ....learning_rate=0.5, max_depth=35, n_estimators=7; total time=   0.1s\n",
      "[CV] END ....learning_rate=0.5, max_depth=20, n_estimators=8; total time=   0.1s\n",
      "[CV] END ....learning_rate=0.5, max_depth=35, n_estimators=7; total time=   0.1s\n",
      "[CV] END ....learning_rate=0.5, max_depth=35, n_estimators=8; total time=   0.1s\n",
      "[CV] END ....learning_rate=0.5, max_depth=35, n_estimators=8; total time=   0.1s\n",
      "[CV] END ....learning_rate=0.5, max_depth=35, n_estimators=8; total time=   0.1s\n",
      "[CV] END ....learning_rate=0.5, max_depth=20, n_estimators=8; total time=   0.1s\n",
      "[CV] END ....learning_rate=0.5, max_depth=35, n_estimators=8; total time=   0.1s\n",
      "[CV] END ....learning_rate=0.5, max_depth=30, n_estimators=8; total time=   0.1s\n",
      "[CV] END ....learning_rate=0.5, max_depth=35, n_estimators=8; total time=   0.1s\n"
     ]
    },
    {
     "data": {
      "text/html": [
       "<style>#sk-container-id-10 {color: black;background-color: white;}#sk-container-id-10 pre{padding: 0;}#sk-container-id-10 div.sk-toggleable {background-color: white;}#sk-container-id-10 label.sk-toggleable__label {cursor: pointer;display: block;width: 100%;margin-bottom: 0;padding: 0.3em;box-sizing: border-box;text-align: center;}#sk-container-id-10 label.sk-toggleable__label-arrow:before {content: \"▸\";float: left;margin-right: 0.25em;color: #696969;}#sk-container-id-10 label.sk-toggleable__label-arrow:hover:before {color: black;}#sk-container-id-10 div.sk-estimator:hover label.sk-toggleable__label-arrow:before {color: black;}#sk-container-id-10 div.sk-toggleable__content {max-height: 0;max-width: 0;overflow: hidden;text-align: left;background-color: #f0f8ff;}#sk-container-id-10 div.sk-toggleable__content pre {margin: 0.2em;color: black;border-radius: 0.25em;background-color: #f0f8ff;}#sk-container-id-10 input.sk-toggleable__control:checked~div.sk-toggleable__content {max-height: 200px;max-width: 100%;overflow: auto;}#sk-container-id-10 input.sk-toggleable__control:checked~label.sk-toggleable__label-arrow:before {content: \"▾\";}#sk-container-id-10 div.sk-estimator input.sk-toggleable__control:checked~label.sk-toggleable__label {background-color: #d4ebff;}#sk-container-id-10 div.sk-label input.sk-toggleable__control:checked~label.sk-toggleable__label {background-color: #d4ebff;}#sk-container-id-10 input.sk-hidden--visually {border: 0;clip: rect(1px 1px 1px 1px);clip: rect(1px, 1px, 1px, 1px);height: 1px;margin: -1px;overflow: hidden;padding: 0;position: absolute;width: 1px;}#sk-container-id-10 div.sk-estimator {font-family: monospace;background-color: #f0f8ff;border: 1px dotted black;border-radius: 0.25em;box-sizing: border-box;margin-bottom: 0.5em;}#sk-container-id-10 div.sk-estimator:hover {background-color: #d4ebff;}#sk-container-id-10 div.sk-parallel-item::after {content: \"\";width: 100%;border-bottom: 1px solid gray;flex-grow: 1;}#sk-container-id-10 div.sk-label:hover label.sk-toggleable__label {background-color: #d4ebff;}#sk-container-id-10 div.sk-serial::before {content: \"\";position: absolute;border-left: 1px solid gray;box-sizing: border-box;top: 0;bottom: 0;left: 50%;z-index: 0;}#sk-container-id-10 div.sk-serial {display: flex;flex-direction: column;align-items: center;background-color: white;padding-right: 0.2em;padding-left: 0.2em;position: relative;}#sk-container-id-10 div.sk-item {position: relative;z-index: 1;}#sk-container-id-10 div.sk-parallel {display: flex;align-items: stretch;justify-content: center;background-color: white;position: relative;}#sk-container-id-10 div.sk-item::before, #sk-container-id-10 div.sk-parallel-item::before {content: \"\";position: absolute;border-left: 1px solid gray;box-sizing: border-box;top: 0;bottom: 0;left: 50%;z-index: -1;}#sk-container-id-10 div.sk-parallel-item {display: flex;flex-direction: column;z-index: 1;position: relative;background-color: white;}#sk-container-id-10 div.sk-parallel-item:first-child::after {align-self: flex-end;width: 50%;}#sk-container-id-10 div.sk-parallel-item:last-child::after {align-self: flex-start;width: 50%;}#sk-container-id-10 div.sk-parallel-item:only-child::after {width: 0;}#sk-container-id-10 div.sk-dashed-wrapped {border: 1px dashed gray;margin: 0 0.4em 0.5em 0.4em;box-sizing: border-box;padding-bottom: 0.4em;background-color: white;}#sk-container-id-10 div.sk-label label {font-family: monospace;font-weight: bold;display: inline-block;line-height: 1.2em;}#sk-container-id-10 div.sk-label-container {text-align: center;}#sk-container-id-10 div.sk-container {/* jupyter's `normalize.less` sets `[hidden] { display: none; }` but bootstrap.min.css set `[hidden] { display: none !important; }` so we also need the `!important` here to be able to override the default hidden behavior on the sphinx rendered scikit-learn.org. See: https://github.com/scikit-learn/scikit-learn/issues/21755 */display: inline-block !important;position: relative;}#sk-container-id-10 div.sk-text-repr-fallback {display: none;}</style><div id=\"sk-container-id-10\" class=\"sk-top-container\"><div class=\"sk-text-repr-fallback\"><pre>GridSearchCV(cv=5,\n",
       "             estimator=XGBRegressor(base_score=None, booster=None,\n",
       "                                    callbacks=None, colsample_bylevel=None,\n",
       "                                    colsample_bynode=None,\n",
       "                                    colsample_bytree=None,\n",
       "                                    early_stopping_rounds=None,\n",
       "                                    enable_categorical=False, eval_metric=None,\n",
       "                                    feature_types=None, gamma=None, gpu_id=None,\n",
       "                                    grow_policy=None, importance_type=None,\n",
       "                                    interaction_constraints=None,\n",
       "                                    learning_rate=None, m...\n",
       "                                    max_cat_threshold=None,\n",
       "                                    max_cat_to_onehot=None, max_delta_step=None,\n",
       "                                    max_depth=None, max_leaves=None,\n",
       "                                    min_child_weight=None, missing=nan,\n",
       "                                    monotone_constraints=None, n_estimators=100,\n",
       "                                    n_jobs=None, num_parallel_tree=None,\n",
       "                                    predictor=None, random_state=None, ...),\n",
       "             n_jobs=-1,\n",
       "             param_grid={&#x27;learning_rate&#x27;: [0.3, 0.4, 0.5],\n",
       "                         &#x27;max_depth&#x27;: [20, 30, 35],\n",
       "                         &#x27;n_estimators&#x27;: [5, 6, 7, 8]},\n",
       "             verbose=2)</pre><b>In a Jupyter environment, please rerun this cell to show the HTML representation or trust the notebook. <br />On GitHub, the HTML representation is unable to render, please try loading this page with nbviewer.org.</b></div><div class=\"sk-container\" hidden><div class=\"sk-item sk-dashed-wrapped\"><div class=\"sk-label-container\"><div class=\"sk-label sk-toggleable\"><input class=\"sk-toggleable__control sk-hidden--visually\" id=\"sk-estimator-id-18\" type=\"checkbox\" ><label for=\"sk-estimator-id-18\" class=\"sk-toggleable__label sk-toggleable__label-arrow\">GridSearchCV</label><div class=\"sk-toggleable__content\"><pre>GridSearchCV(cv=5,\n",
       "             estimator=XGBRegressor(base_score=None, booster=None,\n",
       "                                    callbacks=None, colsample_bylevel=None,\n",
       "                                    colsample_bynode=None,\n",
       "                                    colsample_bytree=None,\n",
       "                                    early_stopping_rounds=None,\n",
       "                                    enable_categorical=False, eval_metric=None,\n",
       "                                    feature_types=None, gamma=None, gpu_id=None,\n",
       "                                    grow_policy=None, importance_type=None,\n",
       "                                    interaction_constraints=None,\n",
       "                                    learning_rate=None, m...\n",
       "                                    max_cat_threshold=None,\n",
       "                                    max_cat_to_onehot=None, max_delta_step=None,\n",
       "                                    max_depth=None, max_leaves=None,\n",
       "                                    min_child_weight=None, missing=nan,\n",
       "                                    monotone_constraints=None, n_estimators=100,\n",
       "                                    n_jobs=None, num_parallel_tree=None,\n",
       "                                    predictor=None, random_state=None, ...),\n",
       "             n_jobs=-1,\n",
       "             param_grid={&#x27;learning_rate&#x27;: [0.3, 0.4, 0.5],\n",
       "                         &#x27;max_depth&#x27;: [20, 30, 35],\n",
       "                         &#x27;n_estimators&#x27;: [5, 6, 7, 8]},\n",
       "             verbose=2)</pre></div></div></div><div class=\"sk-parallel\"><div class=\"sk-parallel-item\"><div class=\"sk-item\"><div class=\"sk-label-container\"><div class=\"sk-label sk-toggleable\"><input class=\"sk-toggleable__control sk-hidden--visually\" id=\"sk-estimator-id-19\" type=\"checkbox\" ><label for=\"sk-estimator-id-19\" class=\"sk-toggleable__label sk-toggleable__label-arrow\">estimator: XGBRegressor</label><div class=\"sk-toggleable__content\"><pre>XGBRegressor(base_score=None, booster=None, callbacks=None,\n",
       "             colsample_bylevel=None, colsample_bynode=None,\n",
       "             colsample_bytree=None, early_stopping_rounds=None,\n",
       "             enable_categorical=False, eval_metric=None, feature_types=None,\n",
       "             gamma=None, gpu_id=None, grow_policy=None, importance_type=None,\n",
       "             interaction_constraints=None, learning_rate=None, max_bin=None,\n",
       "             max_cat_threshold=None, max_cat_to_onehot=None,\n",
       "             max_delta_step=None, max_depth=None, max_leaves=None,\n",
       "             min_child_weight=None, missing=nan, monotone_constraints=None,\n",
       "             n_estimators=100, n_jobs=None, num_parallel_tree=None,\n",
       "             predictor=None, random_state=None, ...)</pre></div></div></div><div class=\"sk-serial\"><div class=\"sk-item\"><div class=\"sk-estimator sk-toggleable\"><input class=\"sk-toggleable__control sk-hidden--visually\" id=\"sk-estimator-id-20\" type=\"checkbox\" ><label for=\"sk-estimator-id-20\" class=\"sk-toggleable__label sk-toggleable__label-arrow\">XGBRegressor</label><div class=\"sk-toggleable__content\"><pre>XGBRegressor(base_score=None, booster=None, callbacks=None,\n",
       "             colsample_bylevel=None, colsample_bynode=None,\n",
       "             colsample_bytree=None, early_stopping_rounds=None,\n",
       "             enable_categorical=False, eval_metric=None, feature_types=None,\n",
       "             gamma=None, gpu_id=None, grow_policy=None, importance_type=None,\n",
       "             interaction_constraints=None, learning_rate=None, max_bin=None,\n",
       "             max_cat_threshold=None, max_cat_to_onehot=None,\n",
       "             max_delta_step=None, max_depth=None, max_leaves=None,\n",
       "             min_child_weight=None, missing=nan, monotone_constraints=None,\n",
       "             n_estimators=100, n_jobs=None, num_parallel_tree=None,\n",
       "             predictor=None, random_state=None, ...)</pre></div></div></div></div></div></div></div></div></div></div>"
      ],
      "text/plain": [
       "GridSearchCV(cv=5,\n",
       "             estimator=XGBRegressor(base_score=None, booster=None,\n",
       "                                    callbacks=None, colsample_bylevel=None,\n",
       "                                    colsample_bynode=None,\n",
       "                                    colsample_bytree=None,\n",
       "                                    early_stopping_rounds=None,\n",
       "                                    enable_categorical=False, eval_metric=None,\n",
       "                                    feature_types=None, gamma=None, gpu_id=None,\n",
       "                                    grow_policy=None, importance_type=None,\n",
       "                                    interaction_constraints=None,\n",
       "                                    learning_rate=None, m...\n",
       "                                    max_cat_threshold=None,\n",
       "                                    max_cat_to_onehot=None, max_delta_step=None,\n",
       "                                    max_depth=None, max_leaves=None,\n",
       "                                    min_child_weight=None, missing=nan,\n",
       "                                    monotone_constraints=None, n_estimators=100,\n",
       "                                    n_jobs=None, num_parallel_tree=None,\n",
       "                                    predictor=None, random_state=None, ...),\n",
       "             n_jobs=-1,\n",
       "             param_grid={'learning_rate': [0.3, 0.4, 0.5],\n",
       "                         'max_depth': [20, 30, 35],\n",
       "                         'n_estimators': [5, 6, 7, 8]},\n",
       "             verbose=2)"
      ]
     },
     "execution_count": 88,
     "metadata": {},
     "output_type": "execute_result"
    }
   ],
   "source": [
    "bst_grid.fit(X_train[:,feat_mask],y_train)"
   ]
  },
  {
   "cell_type": "code",
   "execution_count": 256,
   "metadata": {},
   "outputs": [
    {
     "data": {
      "text/html": [
       "<style>#sk-container-id-29 {color: black;background-color: white;}#sk-container-id-29 pre{padding: 0;}#sk-container-id-29 div.sk-toggleable {background-color: white;}#sk-container-id-29 label.sk-toggleable__label {cursor: pointer;display: block;width: 100%;margin-bottom: 0;padding: 0.3em;box-sizing: border-box;text-align: center;}#sk-container-id-29 label.sk-toggleable__label-arrow:before {content: \"▸\";float: left;margin-right: 0.25em;color: #696969;}#sk-container-id-29 label.sk-toggleable__label-arrow:hover:before {color: black;}#sk-container-id-29 div.sk-estimator:hover label.sk-toggleable__label-arrow:before {color: black;}#sk-container-id-29 div.sk-toggleable__content {max-height: 0;max-width: 0;overflow: hidden;text-align: left;background-color: #f0f8ff;}#sk-container-id-29 div.sk-toggleable__content pre {margin: 0.2em;color: black;border-radius: 0.25em;background-color: #f0f8ff;}#sk-container-id-29 input.sk-toggleable__control:checked~div.sk-toggleable__content {max-height: 200px;max-width: 100%;overflow: auto;}#sk-container-id-29 input.sk-toggleable__control:checked~label.sk-toggleable__label-arrow:before {content: \"▾\";}#sk-container-id-29 div.sk-estimator input.sk-toggleable__control:checked~label.sk-toggleable__label {background-color: #d4ebff;}#sk-container-id-29 div.sk-label input.sk-toggleable__control:checked~label.sk-toggleable__label {background-color: #d4ebff;}#sk-container-id-29 input.sk-hidden--visually {border: 0;clip: rect(1px 1px 1px 1px);clip: rect(1px, 1px, 1px, 1px);height: 1px;margin: -1px;overflow: hidden;padding: 0;position: absolute;width: 1px;}#sk-container-id-29 div.sk-estimator {font-family: monospace;background-color: #f0f8ff;border: 1px dotted black;border-radius: 0.25em;box-sizing: border-box;margin-bottom: 0.5em;}#sk-container-id-29 div.sk-estimator:hover {background-color: #d4ebff;}#sk-container-id-29 div.sk-parallel-item::after {content: \"\";width: 100%;border-bottom: 1px solid gray;flex-grow: 1;}#sk-container-id-29 div.sk-label:hover label.sk-toggleable__label {background-color: #d4ebff;}#sk-container-id-29 div.sk-serial::before {content: \"\";position: absolute;border-left: 1px solid gray;box-sizing: border-box;top: 0;bottom: 0;left: 50%;z-index: 0;}#sk-container-id-29 div.sk-serial {display: flex;flex-direction: column;align-items: center;background-color: white;padding-right: 0.2em;padding-left: 0.2em;position: relative;}#sk-container-id-29 div.sk-item {position: relative;z-index: 1;}#sk-container-id-29 div.sk-parallel {display: flex;align-items: stretch;justify-content: center;background-color: white;position: relative;}#sk-container-id-29 div.sk-item::before, #sk-container-id-29 div.sk-parallel-item::before {content: \"\";position: absolute;border-left: 1px solid gray;box-sizing: border-box;top: 0;bottom: 0;left: 50%;z-index: -1;}#sk-container-id-29 div.sk-parallel-item {display: flex;flex-direction: column;z-index: 1;position: relative;background-color: white;}#sk-container-id-29 div.sk-parallel-item:first-child::after {align-self: flex-end;width: 50%;}#sk-container-id-29 div.sk-parallel-item:last-child::after {align-self: flex-start;width: 50%;}#sk-container-id-29 div.sk-parallel-item:only-child::after {width: 0;}#sk-container-id-29 div.sk-dashed-wrapped {border: 1px dashed gray;margin: 0 0.4em 0.5em 0.4em;box-sizing: border-box;padding-bottom: 0.4em;background-color: white;}#sk-container-id-29 div.sk-label label {font-family: monospace;font-weight: bold;display: inline-block;line-height: 1.2em;}#sk-container-id-29 div.sk-label-container {text-align: center;}#sk-container-id-29 div.sk-container {/* jupyter's `normalize.less` sets `[hidden] { display: none; }` but bootstrap.min.css set `[hidden] { display: none !important; }` so we also need the `!important` here to be able to override the default hidden behavior on the sphinx rendered scikit-learn.org. See: https://github.com/scikit-learn/scikit-learn/issues/21755 */display: inline-block !important;position: relative;}#sk-container-id-29 div.sk-text-repr-fallback {display: none;}</style><div id=\"sk-container-id-29\" class=\"sk-top-container\"><div class=\"sk-text-repr-fallback\"><pre>XGBRegressor(base_score=None, booster=None, callbacks=None,\n",
       "             colsample_bylevel=None, colsample_bynode=None,\n",
       "             colsample_bytree=None, early_stopping_rounds=None,\n",
       "             enable_categorical=False, eval_metric=None, feature_types=None,\n",
       "             gamma=None, gpu_id=None, grow_policy=None, importance_type=None,\n",
       "             interaction_constraints=None, learning_rate=0.5, max_bin=None,\n",
       "             max_cat_threshold=None, max_cat_to_onehot=None,\n",
       "             max_delta_step=None, max_depth=35, max_leaves=None,\n",
       "             min_child_weight=None, missing=nan, monotone_constraints=None,\n",
       "             n_estimators=8, n_jobs=None, num_parallel_tree=None,\n",
       "             predictor=None, random_state=None, ...)</pre><b>In a Jupyter environment, please rerun this cell to show the HTML representation or trust the notebook. <br />On GitHub, the HTML representation is unable to render, please try loading this page with nbviewer.org.</b></div><div class=\"sk-container\" hidden><div class=\"sk-item\"><div class=\"sk-estimator sk-toggleable\"><input class=\"sk-toggleable__control sk-hidden--visually\" id=\"sk-estimator-id-55\" type=\"checkbox\" checked><label for=\"sk-estimator-id-55\" class=\"sk-toggleable__label sk-toggleable__label-arrow\">XGBRegressor</label><div class=\"sk-toggleable__content\"><pre>XGBRegressor(base_score=None, booster=None, callbacks=None,\n",
       "             colsample_bylevel=None, colsample_bynode=None,\n",
       "             colsample_bytree=None, early_stopping_rounds=None,\n",
       "             enable_categorical=False, eval_metric=None, feature_types=None,\n",
       "             gamma=None, gpu_id=None, grow_policy=None, importance_type=None,\n",
       "             interaction_constraints=None, learning_rate=0.5, max_bin=None,\n",
       "             max_cat_threshold=None, max_cat_to_onehot=None,\n",
       "             max_delta_step=None, max_depth=35, max_leaves=None,\n",
       "             min_child_weight=None, missing=nan, monotone_constraints=None,\n",
       "             n_estimators=8, n_jobs=None, num_parallel_tree=None,\n",
       "             predictor=None, random_state=None, ...)</pre></div></div></div></div></div>"
      ],
      "text/plain": [
       "XGBRegressor(base_score=None, booster=None, callbacks=None,\n",
       "             colsample_bylevel=None, colsample_bynode=None,\n",
       "             colsample_bytree=None, early_stopping_rounds=None,\n",
       "             enable_categorical=False, eval_metric=None, feature_types=None,\n",
       "             gamma=None, gpu_id=None, grow_policy=None, importance_type=None,\n",
       "             interaction_constraints=None, learning_rate=0.5, max_bin=None,\n",
       "             max_cat_threshold=None, max_cat_to_onehot=None,\n",
       "             max_delta_step=None, max_depth=35, max_leaves=None,\n",
       "             min_child_weight=None, missing=nan, monotone_constraints=None,\n",
       "             n_estimators=8, n_jobs=None, num_parallel_tree=None,\n",
       "             predictor=None, random_state=None, ...)"
      ]
     },
     "execution_count": 256,
     "metadata": {},
     "output_type": "execute_result"
    }
   ],
   "source": [
    "bst_grid.best_estimator_"
   ]
  },
  {
   "cell_type": "code",
   "execution_count": 288,
   "metadata": {},
   "outputs": [
    {
     "data": {
      "text/html": [
       "<style>#sk-container-id-32 {color: black;background-color: white;}#sk-container-id-32 pre{padding: 0;}#sk-container-id-32 div.sk-toggleable {background-color: white;}#sk-container-id-32 label.sk-toggleable__label {cursor: pointer;display: block;width: 100%;margin-bottom: 0;padding: 0.3em;box-sizing: border-box;text-align: center;}#sk-container-id-32 label.sk-toggleable__label-arrow:before {content: \"▸\";float: left;margin-right: 0.25em;color: #696969;}#sk-container-id-32 label.sk-toggleable__label-arrow:hover:before {color: black;}#sk-container-id-32 div.sk-estimator:hover label.sk-toggleable__label-arrow:before {color: black;}#sk-container-id-32 div.sk-toggleable__content {max-height: 0;max-width: 0;overflow: hidden;text-align: left;background-color: #f0f8ff;}#sk-container-id-32 div.sk-toggleable__content pre {margin: 0.2em;color: black;border-radius: 0.25em;background-color: #f0f8ff;}#sk-container-id-32 input.sk-toggleable__control:checked~div.sk-toggleable__content {max-height: 200px;max-width: 100%;overflow: auto;}#sk-container-id-32 input.sk-toggleable__control:checked~label.sk-toggleable__label-arrow:before {content: \"▾\";}#sk-container-id-32 div.sk-estimator input.sk-toggleable__control:checked~label.sk-toggleable__label {background-color: #d4ebff;}#sk-container-id-32 div.sk-label input.sk-toggleable__control:checked~label.sk-toggleable__label {background-color: #d4ebff;}#sk-container-id-32 input.sk-hidden--visually {border: 0;clip: rect(1px 1px 1px 1px);clip: rect(1px, 1px, 1px, 1px);height: 1px;margin: -1px;overflow: hidden;padding: 0;position: absolute;width: 1px;}#sk-container-id-32 div.sk-estimator {font-family: monospace;background-color: #f0f8ff;border: 1px dotted black;border-radius: 0.25em;box-sizing: border-box;margin-bottom: 0.5em;}#sk-container-id-32 div.sk-estimator:hover {background-color: #d4ebff;}#sk-container-id-32 div.sk-parallel-item::after {content: \"\";width: 100%;border-bottom: 1px solid gray;flex-grow: 1;}#sk-container-id-32 div.sk-label:hover label.sk-toggleable__label {background-color: #d4ebff;}#sk-container-id-32 div.sk-serial::before {content: \"\";position: absolute;border-left: 1px solid gray;box-sizing: border-box;top: 0;bottom: 0;left: 50%;z-index: 0;}#sk-container-id-32 div.sk-serial {display: flex;flex-direction: column;align-items: center;background-color: white;padding-right: 0.2em;padding-left: 0.2em;position: relative;}#sk-container-id-32 div.sk-item {position: relative;z-index: 1;}#sk-container-id-32 div.sk-parallel {display: flex;align-items: stretch;justify-content: center;background-color: white;position: relative;}#sk-container-id-32 div.sk-item::before, #sk-container-id-32 div.sk-parallel-item::before {content: \"\";position: absolute;border-left: 1px solid gray;box-sizing: border-box;top: 0;bottom: 0;left: 50%;z-index: -1;}#sk-container-id-32 div.sk-parallel-item {display: flex;flex-direction: column;z-index: 1;position: relative;background-color: white;}#sk-container-id-32 div.sk-parallel-item:first-child::after {align-self: flex-end;width: 50%;}#sk-container-id-32 div.sk-parallel-item:last-child::after {align-self: flex-start;width: 50%;}#sk-container-id-32 div.sk-parallel-item:only-child::after {width: 0;}#sk-container-id-32 div.sk-dashed-wrapped {border: 1px dashed gray;margin: 0 0.4em 0.5em 0.4em;box-sizing: border-box;padding-bottom: 0.4em;background-color: white;}#sk-container-id-32 div.sk-label label {font-family: monospace;font-weight: bold;display: inline-block;line-height: 1.2em;}#sk-container-id-32 div.sk-label-container {text-align: center;}#sk-container-id-32 div.sk-container {/* jupyter's `normalize.less` sets `[hidden] { display: none; }` but bootstrap.min.css set `[hidden] { display: none !important; }` so we also need the `!important` here to be able to override the default hidden behavior on the sphinx rendered scikit-learn.org. See: https://github.com/scikit-learn/scikit-learn/issues/21755 */display: inline-block !important;position: relative;}#sk-container-id-32 div.sk-text-repr-fallback {display: none;}</style><div id=\"sk-container-id-32\" class=\"sk-top-container\"><div class=\"sk-text-repr-fallback\"><pre>XGBRegressor(base_score=None, booster=None, callbacks=None,\n",
       "             colsample_bylevel=None, colsample_bynode=None,\n",
       "             colsample_bytree=None, early_stopping_rounds=None,\n",
       "             enable_categorical=False, eval_metric=None, feature_types=None,\n",
       "             gamma=None, gpu_id=None, grow_policy=None, importance_type=None,\n",
       "             interaction_constraints=None, learning_rate=0.5, max_bin=None,\n",
       "             max_cat_threshold=None, max_cat_to_onehot=None,\n",
       "             max_delta_step=None, max_depth=20, max_leaves=None,\n",
       "             min_child_weight=None, missing=nan, monotone_constraints=None,\n",
       "             n_estimators=8, n_jobs=None, num_parallel_tree=None,\n",
       "             predictor=None, random_state=None, ...)</pre><b>In a Jupyter environment, please rerun this cell to show the HTML representation or trust the notebook. <br />On GitHub, the HTML representation is unable to render, please try loading this page with nbviewer.org.</b></div><div class=\"sk-container\" hidden><div class=\"sk-item\"><div class=\"sk-estimator sk-toggleable\"><input class=\"sk-toggleable__control sk-hidden--visually\" id=\"sk-estimator-id-60\" type=\"checkbox\" checked><label for=\"sk-estimator-id-60\" class=\"sk-toggleable__label sk-toggleable__label-arrow\">XGBRegressor</label><div class=\"sk-toggleable__content\"><pre>XGBRegressor(base_score=None, booster=None, callbacks=None,\n",
       "             colsample_bylevel=None, colsample_bynode=None,\n",
       "             colsample_bytree=None, early_stopping_rounds=None,\n",
       "             enable_categorical=False, eval_metric=None, feature_types=None,\n",
       "             gamma=None, gpu_id=None, grow_policy=None, importance_type=None,\n",
       "             interaction_constraints=None, learning_rate=0.5, max_bin=None,\n",
       "             max_cat_threshold=None, max_cat_to_onehot=None,\n",
       "             max_delta_step=None, max_depth=20, max_leaves=None,\n",
       "             min_child_weight=None, missing=nan, monotone_constraints=None,\n",
       "             n_estimators=8, n_jobs=None, num_parallel_tree=None,\n",
       "             predictor=None, random_state=None, ...)</pre></div></div></div></div></div>"
      ],
      "text/plain": [
       "XGBRegressor(base_score=None, booster=None, callbacks=None,\n",
       "             colsample_bylevel=None, colsample_bynode=None,\n",
       "             colsample_bytree=None, early_stopping_rounds=None,\n",
       "             enable_categorical=False, eval_metric=None, feature_types=None,\n",
       "             gamma=None, gpu_id=None, grow_policy=None, importance_type=None,\n",
       "             interaction_constraints=None, learning_rate=0.5, max_bin=None,\n",
       "             max_cat_threshold=None, max_cat_to_onehot=None,\n",
       "             max_delta_step=None, max_depth=20, max_leaves=None,\n",
       "             min_child_weight=None, missing=nan, monotone_constraints=None,\n",
       "             n_estimators=8, n_jobs=None, num_parallel_tree=None,\n",
       "             predictor=None, random_state=None, ...)"
      ]
     },
     "execution_count": 288,
     "metadata": {},
     "output_type": "execute_result"
    }
   ],
   "source": [
    "bst_grid.best_estimator_"
   ]
  },
  {
   "cell_type": "code",
   "execution_count": 89,
   "metadata": {},
   "outputs": [],
   "source": [
    "bst_train_pred=bst_grid.predict(X_train[:,feat_mask])\n",
    "bst_test_pred=bst_grid.predict(X_test[:,feat_mask])"
   ]
  },
  {
   "cell_type": "code",
   "execution_count": 90,
   "metadata": {},
   "outputs": [
    {
     "name": "stdout",
     "output_type": "stream",
     "text": [
      "MSE train XGBoost= 6333.4755598527145\n",
      "MSE test XGBoost= 29131.49604538569\n"
     ]
    }
   ],
   "source": [
    "print('MSE train XGBoost=' , mean_squared_error(y_train,bst_train_pred, squared=False))\n",
    "print('MSE test XGBoost=' , mean_squared_error(y_test,bst_test_pred, squared=False))"
   ]
  },
  {
   "cell_type": "code",
   "execution_count": 241,
   "metadata": {},
   "outputs": [
    {
     "name": "stdout",
     "output_type": "stream",
     "text": [
      "MSE2 train XGBoost= 8011.072273200967\n",
      "MSE2 test XGBoost= 31303.222218650364\n"
     ]
    }
   ],
   "source": [
    "bst_train_pred2=bst_grid2.predict(X_train)\n",
    "bst_test_pred2=bst_grid2.predict(X_test)\n",
    "print('MSE2 train XGBoost=' , mean_squared_error(y_train,bst_train_pred2, squared=False))\n",
    "print('MSE2 test XGBoost=' , mean_squared_error(y_test,bst_test_pred2, squared=False))"
   ]
  },
  {
   "cell_type": "code",
   "execution_count": 91,
   "metadata": {},
   "outputs": [
    {
     "name": "stdout",
     "output_type": "stream",
     "text": [
      "MSE train XGBoost con 45 features de acuerdo a la improtancia en randomforest= 6333.4755598527145\n",
      "MSE test XGBoost con 45 features de acuerdo a la improtancia en randomforest= 29131.49604538569\n"
     ]
    }
   ],
   "source": [
    "print('MSE train XGBoost con 45 features de acuerdo a la improtancia en randomforest=' , mean_squared_error(y_train,bst_train_pred, squared=False))\n",
    "print('MSE test XGBoost con 45 features de acuerdo a la improtancia en randomforest=' , mean_squared_error(y_test,bst_test_pred, squared=False))"
   ]
  },
  {
   "attachments": {},
   "cell_type": "markdown",
   "metadata": {},
   "source": [
    "#### MLP"
   ]
  },
  {
   "cell_type": "code",
   "execution_count": 77,
   "metadata": {},
   "outputs": [
    {
     "name": "stderr",
     "output_type": "stream",
     "text": [
      "2023-03-29 10:54:32.130651: I tensorflow/tsl/cuda/cudart_stub.cc:28] Could not find cuda drivers on your machine, GPU will not be used.\n",
      "2023-03-29 10:54:32.158779: I tensorflow/tsl/cuda/cudart_stub.cc:28] Could not find cuda drivers on your machine, GPU will not be used.\n",
      "2023-03-29 10:54:32.159502: I tensorflow/core/platform/cpu_feature_guard.cc:182] This TensorFlow binary is optimized to use available CPU instructions in performance-critical operations.\n",
      "To enable the following instructions: AVX2 FMA, in other operations, rebuild TensorFlow with the appropriate compiler flags.\n",
      "2023-03-29 10:54:32.797402: W tensorflow/compiler/tf2tensorrt/utils/py_utils.cc:38] TF-TRT Warning: Could not find TensorRT\n"
     ]
    }
   ],
   "source": [
    "from tensorflow import keras\n",
    "from tensorflow.keras import layers"
   ]
  },
  {
   "cell_type": "code",
   "execution_count": 78,
   "metadata": {},
   "outputs": [
    {
     "data": {
      "text/plain": [
       "(1168, 249)"
      ]
     },
     "execution_count": 78,
     "metadata": {},
     "output_type": "execute_result"
    }
   ],
   "source": [
    "X_train.shape"
   ]
  },
  {
   "cell_type": "code",
   "execution_count": 81,
   "metadata": {},
   "outputs": [],
   "source": [
    "input_shape=X_train[:,feat_mask].shape[1]"
   ]
  },
  {
   "cell_type": "code",
   "execution_count": 84,
   "metadata": {},
   "outputs": [
    {
     "name": "stdout",
     "output_type": "stream",
     "text": [
      "Model: \"sequential_2\"\n",
      "_________________________________________________________________\n",
      " Layer (type)                Output Shape              Param #   \n",
      "=================================================================\n",
      " dense_8 (Dense)             (None, 500)               19500     \n",
      "                                                                 \n",
      " dropout_6 (Dropout)         (None, 500)               0         \n",
      "                                                                 \n",
      " dense_9 (Dense)             (None, 300)               150300    \n",
      "                                                                 \n",
      " dropout_7 (Dropout)         (None, 300)               0         \n",
      "                                                                 \n",
      " dense_10 (Dense)            (None, 100)               30100     \n",
      "                                                                 \n",
      " dropout_8 (Dropout)         (None, 100)               0         \n",
      "                                                                 \n",
      " dense_11 (Dense)            (None, 1)                 101       \n",
      "                                                                 \n",
      "=================================================================\n",
      "Total params: 200,001\n",
      "Trainable params: 200,001\n",
      "Non-trainable params: 0\n",
      "_________________________________________________________________\n"
     ]
    }
   ],
   "source": [
    "model = keras.Sequential()\n",
    "model.add(layers.Input(shape=input_shape))\n",
    "#model.add(layers.Dense(8, input_dim=6, activation='relu'))\n",
    "model.add(layers.Dense(500, activation='relu'))\n",
    "model.add(layers.Dropout(0.1))\n",
    "model.add(layers.Dense(300, activation='relu'))\n",
    "model.add(layers.Dropout(0.1))\n",
    "model.add(layers.Dense(100, activation='relu'))\n",
    "model.add(layers.Dropout(0.1))\n",
    "model.add(layers.Dense(1))\n",
    "model.summary()"
   ]
  },
  {
   "cell_type": "code",
   "execution_count": 85,
   "metadata": {},
   "outputs": [],
   "source": [
    "opt = keras.optimizers.Adam(learning_rate=0.001)"
   ]
  },
  {
   "cell_type": "code",
   "execution_count": 86,
   "metadata": {},
   "outputs": [],
   "source": [
    "model.compile(\n",
    "  loss='mse', \n",
    "  optimizer=opt,\n",
    "  metrics=[keras.metrics.RootMeanSquaredError()],\n",
    ")"
   ]
  },
  {
   "cell_type": "code",
   "execution_count": 88,
   "metadata": {},
   "outputs": [],
   "source": [
    "cp2 = keras.callbacks.ModelCheckpoint('/home/manuelquiros/Documents/Kaggle/House_Prices/MLP2', save_best_only=True)\n",
    "log_dir2 = \"MLP2/logs/fit/\"\n",
    "tb2 = keras.callbacks.TensorBoard(log_dir=log_dir2, histogram_freq=1)\n",
    "es2 = keras.callbacks.EarlyStopping(monitor='root_mean_squared_error', patience=30)\n",
    "lr = keras.callbacks.ReduceLROnPlateau(monitor='root_mean_squared_error', factor=0.2,patience=15, min_lr=0.00000001)"
   ]
  },
  {
   "cell_type": "code",
   "execution_count": 89,
   "metadata": {},
   "outputs": [
    {
     "name": "stdout",
     "output_type": "stream",
     "text": [
      "Epoch 1/200\n",
      "113/117 [===========================>..] - ETA: 0s - loss: 36438056960.0000 - root_mean_squared_error: 190887.5469"
     ]
    },
    {
     "name": "stderr",
     "output_type": "stream",
     "text": [
      "2023-03-29 10:58:03.687533: I tensorflow/core/common_runtime/executor.cc:1197] [/device:CPU:0] (DEBUG INFO) Executor start aborting (this does not indicate an error and you can ignore this message): INVALID_ARGUMENT: You must feed a value for placeholder tensor 'inputs' with dtype float and shape [?,500]\n",
      "\t [[{{node inputs}}]]\n",
      "2023-03-29 10:58:03.701388: I tensorflow/core/common_runtime/executor.cc:1197] [/device:CPU:0] (DEBUG INFO) Executor start aborting (this does not indicate an error and you can ignore this message): INVALID_ARGUMENT: You must feed a value for placeholder tensor 'inputs' with dtype float and shape [?,300]\n",
      "\t [[{{node inputs}}]]\n",
      "2023-03-29 10:58:03.713807: I tensorflow/core/common_runtime/executor.cc:1197] [/device:CPU:0] (DEBUG INFO) Executor start aborting (this does not indicate an error and you can ignore this message): INVALID_ARGUMENT: You must feed a value for placeholder tensor 'inputs' with dtype float and shape [?,100]\n",
      "\t [[{{node inputs}}]]\n",
      "2023-03-29 10:58:03.859808: I tensorflow/core/common_runtime/executor.cc:1197] [/device:CPU:0] (DEBUG INFO) Executor start aborting (this does not indicate an error and you can ignore this message): INVALID_ARGUMENT: You must feed a value for placeholder tensor 'inputs' with dtype float and shape [?,500]\n",
      "\t [[{{node inputs}}]]\n",
      "2023-03-29 10:58:03.881477: I tensorflow/core/common_runtime/executor.cc:1197] [/device:CPU:0] (DEBUG INFO) Executor start aborting (this does not indicate an error and you can ignore this message): INVALID_ARGUMENT: You must feed a value for placeholder tensor 'inputs' with dtype float and shape [?,300]\n",
      "\t [[{{node inputs}}]]\n",
      "2023-03-29 10:58:03.904062: I tensorflow/core/common_runtime/executor.cc:1197] [/device:CPU:0] (DEBUG INFO) Executor start aborting (this does not indicate an error and you can ignore this message): INVALID_ARGUMENT: You must feed a value for placeholder tensor 'inputs' with dtype float and shape [?,100]\n",
      "\t [[{{node inputs}}]]\n",
      "WARNING:absl:Found untraced functions such as _update_step_xla while saving (showing 1 of 1). These functions will not be directly callable after loading.\n"
     ]
    },
    {
     "name": "stdout",
     "output_type": "stream",
     "text": [
      "INFO:tensorflow:Assets written to: /home/manuelquiros/Documents/Kaggle/House_Prices/MLP2/assets\n"
     ]
    },
    {
     "name": "stderr",
     "output_type": "stream",
     "text": [
      "INFO:tensorflow:Assets written to: /home/manuelquiros/Documents/Kaggle/House_Prices/MLP2/assets\n"
     ]
    },
    {
     "name": "stdout",
     "output_type": "stream",
     "text": [
      "117/117 [==============================] - 2s 10ms/step - loss: 35905306624.0000 - root_mean_squared_error: 189486.9531 - val_loss: 21827321856.0000 - val_root_mean_squared_error: 147740.7188 - lr: 0.0010\n",
      "Epoch 2/200\n",
      " 96/117 [=======================>......] - ETA: 0s - loss: 7984091136.0000 - root_mean_squared_error: 89353.7422"
     ]
    },
    {
     "name": "stderr",
     "output_type": "stream",
     "text": [
      "2023-03-29 10:58:04.511881: I tensorflow/core/common_runtime/executor.cc:1197] [/device:CPU:0] (DEBUG INFO) Executor start aborting (this does not indicate an error and you can ignore this message): INVALID_ARGUMENT: You must feed a value for placeholder tensor 'inputs' with dtype float and shape [?,500]\n",
      "\t [[{{node inputs}}]]\n",
      "2023-03-29 10:58:04.519915: I tensorflow/core/common_runtime/executor.cc:1197] [/device:CPU:0] (DEBUG INFO) Executor start aborting (this does not indicate an error and you can ignore this message): INVALID_ARGUMENT: You must feed a value for placeholder tensor 'inputs' with dtype float and shape [?,300]\n",
      "\t [[{{node inputs}}]]\n",
      "2023-03-29 10:58:04.528385: I tensorflow/core/common_runtime/executor.cc:1197] [/device:CPU:0] (DEBUG INFO) Executor start aborting (this does not indicate an error and you can ignore this message): INVALID_ARGUMENT: You must feed a value for placeholder tensor 'inputs' with dtype float and shape [?,100]\n",
      "\t [[{{node inputs}}]]\n",
      "2023-03-29 10:58:04.626416: I tensorflow/core/common_runtime/executor.cc:1197] [/device:CPU:0] (DEBUG INFO) Executor start aborting (this does not indicate an error and you can ignore this message): INVALID_ARGUMENT: You must feed a value for placeholder tensor 'inputs' with dtype float and shape [?,500]\n",
      "\t [[{{node inputs}}]]\n",
      "2023-03-29 10:58:04.645383: I tensorflow/core/common_runtime/executor.cc:1197] [/device:CPU:0] (DEBUG INFO) Executor start aborting (this does not indicate an error and you can ignore this message): INVALID_ARGUMENT: You must feed a value for placeholder tensor 'inputs' with dtype float and shape [?,300]\n",
      "\t [[{{node inputs}}]]\n",
      "2023-03-29 10:58:04.665049: I tensorflow/core/common_runtime/executor.cc:1197] [/device:CPU:0] (DEBUG INFO) Executor start aborting (this does not indicate an error and you can ignore this message): INVALID_ARGUMENT: You must feed a value for placeholder tensor 'inputs' with dtype float and shape [?,100]\n",
      "\t [[{{node inputs}}]]\n",
      "WARNING:absl:Found untraced functions such as _update_step_xla while saving (showing 1 of 1). These functions will not be directly callable after loading.\n"
     ]
    },
    {
     "name": "stdout",
     "output_type": "stream",
     "text": [
      "INFO:tensorflow:Assets written to: /home/manuelquiros/Documents/Kaggle/House_Prices/MLP2/assets\n"
     ]
    },
    {
     "name": "stderr",
     "output_type": "stream",
     "text": [
      "INFO:tensorflow:Assets written to: /home/manuelquiros/Documents/Kaggle/House_Prices/MLP2/assets\n"
     ]
    },
    {
     "name": "stdout",
     "output_type": "stream",
     "text": [
      "117/117 [==============================] - 1s 6ms/step - loss: 7170947584.0000 - root_mean_squared_error: 84681.4453 - val_loss: 3561089792.0000 - val_root_mean_squared_error: 59674.8672 - lr: 0.0010\n",
      "Epoch 3/200\n",
      " 98/117 [========================>.....] - ETA: 0s - loss: 3198484480.0000 - root_mean_squared_error: 56555.1445"
     ]
    },
    {
     "name": "stderr",
     "output_type": "stream",
     "text": [
      "2023-03-29 10:58:05.238815: I tensorflow/core/common_runtime/executor.cc:1197] [/device:CPU:0] (DEBUG INFO) Executor start aborting (this does not indicate an error and you can ignore this message): INVALID_ARGUMENT: You must feed a value for placeholder tensor 'inputs' with dtype float and shape [?,500]\n",
      "\t [[{{node inputs}}]]\n",
      "2023-03-29 10:58:05.248597: I tensorflow/core/common_runtime/executor.cc:1197] [/device:CPU:0] (DEBUG INFO) Executor start aborting (this does not indicate an error and you can ignore this message): INVALID_ARGUMENT: You must feed a value for placeholder tensor 'inputs' with dtype float and shape [?,300]\n",
      "\t [[{{node inputs}}]]\n",
      "2023-03-29 10:58:05.256796: I tensorflow/core/common_runtime/executor.cc:1197] [/device:CPU:0] (DEBUG INFO) Executor start aborting (this does not indicate an error and you can ignore this message): INVALID_ARGUMENT: You must feed a value for placeholder tensor 'inputs' with dtype float and shape [?,100]\n",
      "\t [[{{node inputs}}]]\n",
      "2023-03-29 10:58:05.353607: I tensorflow/core/common_runtime/executor.cc:1197] [/device:CPU:0] (DEBUG INFO) Executor start aborting (this does not indicate an error and you can ignore this message): INVALID_ARGUMENT: You must feed a value for placeholder tensor 'inputs' with dtype float and shape [?,500]\n",
      "\t [[{{node inputs}}]]\n",
      "2023-03-29 10:58:05.372147: I tensorflow/core/common_runtime/executor.cc:1197] [/device:CPU:0] (DEBUG INFO) Executor start aborting (this does not indicate an error and you can ignore this message): INVALID_ARGUMENT: You must feed a value for placeholder tensor 'inputs' with dtype float and shape [?,300]\n",
      "\t [[{{node inputs}}]]\n",
      "2023-03-29 10:58:05.391867: I tensorflow/core/common_runtime/executor.cc:1197] [/device:CPU:0] (DEBUG INFO) Executor start aborting (this does not indicate an error and you can ignore this message): INVALID_ARGUMENT: You must feed a value for placeholder tensor 'inputs' with dtype float and shape [?,100]\n",
      "\t [[{{node inputs}}]]\n",
      "WARNING:absl:Found untraced functions such as _update_step_xla while saving (showing 1 of 1). These functions will not be directly callable after loading.\n"
     ]
    },
    {
     "name": "stdout",
     "output_type": "stream",
     "text": [
      "INFO:tensorflow:Assets written to: /home/manuelquiros/Documents/Kaggle/House_Prices/MLP2/assets\n"
     ]
    },
    {
     "name": "stderr",
     "output_type": "stream",
     "text": [
      "INFO:tensorflow:Assets written to: /home/manuelquiros/Documents/Kaggle/House_Prices/MLP2/assets\n"
     ]
    },
    {
     "name": "stdout",
     "output_type": "stream",
     "text": [
      "117/117 [==============================] - 1s 6ms/step - loss: 3063558400.0000 - root_mean_squared_error: 55349.4219 - val_loss: 2042973056.0000 - val_root_mean_squared_error: 45199.2578 - lr: 0.0010\n",
      "Epoch 4/200\n",
      " 94/117 [=======================>......] - ETA: 0s - loss: 2087405824.0000 - root_mean_squared_error: 45688.1367"
     ]
    },
    {
     "name": "stderr",
     "output_type": "stream",
     "text": [
      "2023-03-29 10:58:05.958884: I tensorflow/core/common_runtime/executor.cc:1197] [/device:CPU:0] (DEBUG INFO) Executor start aborting (this does not indicate an error and you can ignore this message): INVALID_ARGUMENT: You must feed a value for placeholder tensor 'inputs' with dtype float and shape [?,500]\n",
      "\t [[{{node inputs}}]]\n",
      "2023-03-29 10:58:05.967728: I tensorflow/core/common_runtime/executor.cc:1197] [/device:CPU:0] (DEBUG INFO) Executor start aborting (this does not indicate an error and you can ignore this message): INVALID_ARGUMENT: You must feed a value for placeholder tensor 'inputs' with dtype float and shape [?,300]\n",
      "\t [[{{node inputs}}]]\n",
      "2023-03-29 10:58:05.975570: I tensorflow/core/common_runtime/executor.cc:1197] [/device:CPU:0] (DEBUG INFO) Executor start aborting (this does not indicate an error and you can ignore this message): INVALID_ARGUMENT: You must feed a value for placeholder tensor 'inputs' with dtype float and shape [?,100]\n",
      "\t [[{{node inputs}}]]\n",
      "2023-03-29 10:58:06.075307: I tensorflow/core/common_runtime/executor.cc:1197] [/device:CPU:0] (DEBUG INFO) Executor start aborting (this does not indicate an error and you can ignore this message): INVALID_ARGUMENT: You must feed a value for placeholder tensor 'inputs' with dtype float and shape [?,500]\n",
      "\t [[{{node inputs}}]]\n",
      "2023-03-29 10:58:06.094117: I tensorflow/core/common_runtime/executor.cc:1197] [/device:CPU:0] (DEBUG INFO) Executor start aborting (this does not indicate an error and you can ignore this message): INVALID_ARGUMENT: You must feed a value for placeholder tensor 'inputs' with dtype float and shape [?,300]\n",
      "\t [[{{node inputs}}]]\n",
      "2023-03-29 10:58:06.112788: I tensorflow/core/common_runtime/executor.cc:1197] [/device:CPU:0] (DEBUG INFO) Executor start aborting (this does not indicate an error and you can ignore this message): INVALID_ARGUMENT: You must feed a value for placeholder tensor 'inputs' with dtype float and shape [?,100]\n",
      "\t [[{{node inputs}}]]\n",
      "WARNING:absl:Found untraced functions such as _update_step_xla while saving (showing 1 of 1). These functions will not be directly callable after loading.\n"
     ]
    },
    {
     "name": "stdout",
     "output_type": "stream",
     "text": [
      "INFO:tensorflow:Assets written to: /home/manuelquiros/Documents/Kaggle/House_Prices/MLP2/assets\n"
     ]
    },
    {
     "name": "stderr",
     "output_type": "stream",
     "text": [
      "INFO:tensorflow:Assets written to: /home/manuelquiros/Documents/Kaggle/House_Prices/MLP2/assets\n"
     ]
    },
    {
     "name": "stdout",
     "output_type": "stream",
     "text": [
      "117/117 [==============================] - 1s 8ms/step - loss: 2106355584.0000 - root_mean_squared_error: 45895.0508 - val_loss: 1812684928.0000 - val_root_mean_squared_error: 42575.6367 - lr: 0.0010\n",
      "Epoch 5/200\n",
      " 96/117 [=======================>......] - ETA: 0s - loss: 1832426880.0000 - root_mean_squared_error: 42806.8555"
     ]
    },
    {
     "name": "stderr",
     "output_type": "stream",
     "text": [
      "2023-03-29 10:58:06.869244: I tensorflow/core/common_runtime/executor.cc:1197] [/device:CPU:0] (DEBUG INFO) Executor start aborting (this does not indicate an error and you can ignore this message): INVALID_ARGUMENT: You must feed a value for placeholder tensor 'inputs' with dtype float and shape [?,500]\n",
      "\t [[{{node inputs}}]]\n",
      "2023-03-29 10:58:06.877888: I tensorflow/core/common_runtime/executor.cc:1197] [/device:CPU:0] (DEBUG INFO) Executor start aborting (this does not indicate an error and you can ignore this message): INVALID_ARGUMENT: You must feed a value for placeholder tensor 'inputs' with dtype float and shape [?,300]\n",
      "\t [[{{node inputs}}]]\n",
      "2023-03-29 10:58:06.885835: I tensorflow/core/common_runtime/executor.cc:1197] [/device:CPU:0] (DEBUG INFO) Executor start aborting (this does not indicate an error and you can ignore this message): INVALID_ARGUMENT: You must feed a value for placeholder tensor 'inputs' with dtype float and shape [?,100]\n",
      "\t [[{{node inputs}}]]\n",
      "2023-03-29 10:58:06.982944: I tensorflow/core/common_runtime/executor.cc:1197] [/device:CPU:0] (DEBUG INFO) Executor start aborting (this does not indicate an error and you can ignore this message): INVALID_ARGUMENT: You must feed a value for placeholder tensor 'inputs' with dtype float and shape [?,500]\n",
      "\t [[{{node inputs}}]]\n",
      "2023-03-29 10:58:07.003930: I tensorflow/core/common_runtime/executor.cc:1197] [/device:CPU:0] (DEBUG INFO) Executor start aborting (this does not indicate an error and you can ignore this message): INVALID_ARGUMENT: You must feed a value for placeholder tensor 'inputs' with dtype float and shape [?,300]\n",
      "\t [[{{node inputs}}]]\n",
      "2023-03-29 10:58:07.022145: I tensorflow/core/common_runtime/executor.cc:1197] [/device:CPU:0] (DEBUG INFO) Executor start aborting (this does not indicate an error and you can ignore this message): INVALID_ARGUMENT: You must feed a value for placeholder tensor 'inputs' with dtype float and shape [?,100]\n",
      "\t [[{{node inputs}}]]\n",
      "WARNING:absl:Found untraced functions such as _update_step_xla while saving (showing 1 of 1). These functions will not be directly callable after loading.\n"
     ]
    },
    {
     "name": "stdout",
     "output_type": "stream",
     "text": [
      "INFO:tensorflow:Assets written to: /home/manuelquiros/Documents/Kaggle/House_Prices/MLP2/assets\n"
     ]
    },
    {
     "name": "stderr",
     "output_type": "stream",
     "text": [
      "INFO:tensorflow:Assets written to: /home/manuelquiros/Documents/Kaggle/House_Prices/MLP2/assets\n"
     ]
    },
    {
     "name": "stdout",
     "output_type": "stream",
     "text": [
      "117/117 [==============================] - 1s 6ms/step - loss: 1779301760.0000 - root_mean_squared_error: 42181.7695 - val_loss: 1394916480.0000 - val_root_mean_squared_error: 37348.5820 - lr: 0.0010\n",
      "Epoch 6/200\n",
      " 98/117 [========================>.....] - ETA: 0s - loss: 1470589952.0000 - root_mean_squared_error: 38348.2734"
     ]
    },
    {
     "name": "stderr",
     "output_type": "stream",
     "text": [
      "2023-03-29 10:58:07.578511: I tensorflow/core/common_runtime/executor.cc:1197] [/device:CPU:0] (DEBUG INFO) Executor start aborting (this does not indicate an error and you can ignore this message): INVALID_ARGUMENT: You must feed a value for placeholder tensor 'inputs' with dtype float and shape [?,500]\n",
      "\t [[{{node inputs}}]]\n",
      "2023-03-29 10:58:07.588459: I tensorflow/core/common_runtime/executor.cc:1197] [/device:CPU:0] (DEBUG INFO) Executor start aborting (this does not indicate an error and you can ignore this message): INVALID_ARGUMENT: You must feed a value for placeholder tensor 'inputs' with dtype float and shape [?,300]\n",
      "\t [[{{node inputs}}]]\n",
      "2023-03-29 10:58:07.598001: I tensorflow/core/common_runtime/executor.cc:1197] [/device:CPU:0] (DEBUG INFO) Executor start aborting (this does not indicate an error and you can ignore this message): INVALID_ARGUMENT: You must feed a value for placeholder tensor 'inputs' with dtype float and shape [?,100]\n",
      "\t [[{{node inputs}}]]\n",
      "2023-03-29 10:58:07.695514: I tensorflow/core/common_runtime/executor.cc:1197] [/device:CPU:0] (DEBUG INFO) Executor start aborting (this does not indicate an error and you can ignore this message): INVALID_ARGUMENT: You must feed a value for placeholder tensor 'inputs' with dtype float and shape [?,500]\n",
      "\t [[{{node inputs}}]]\n",
      "2023-03-29 10:58:07.714734: I tensorflow/core/common_runtime/executor.cc:1197] [/device:CPU:0] (DEBUG INFO) Executor start aborting (this does not indicate an error and you can ignore this message): INVALID_ARGUMENT: You must feed a value for placeholder tensor 'inputs' with dtype float and shape [?,300]\n",
      "\t [[{{node inputs}}]]\n",
      "2023-03-29 10:58:07.734354: I tensorflow/core/common_runtime/executor.cc:1197] [/device:CPU:0] (DEBUG INFO) Executor start aborting (this does not indicate an error and you can ignore this message): INVALID_ARGUMENT: You must feed a value for placeholder tensor 'inputs' with dtype float and shape [?,100]\n",
      "\t [[{{node inputs}}]]\n",
      "WARNING:absl:Found untraced functions such as _update_step_xla while saving (showing 1 of 1). These functions will not be directly callable after loading.\n"
     ]
    },
    {
     "name": "stdout",
     "output_type": "stream",
     "text": [
      "INFO:tensorflow:Assets written to: /home/manuelquiros/Documents/Kaggle/House_Prices/MLP2/assets\n"
     ]
    },
    {
     "name": "stderr",
     "output_type": "stream",
     "text": [
      "INFO:tensorflow:Assets written to: /home/manuelquiros/Documents/Kaggle/House_Prices/MLP2/assets\n"
     ]
    },
    {
     "name": "stdout",
     "output_type": "stream",
     "text": [
      "117/117 [==============================] - 1s 6ms/step - loss: 1514174464.0000 - root_mean_squared_error: 38912.3945 - val_loss: 1236027776.0000 - val_root_mean_squared_error: 35157.1875 - lr: 0.0010\n",
      "Epoch 7/200\n",
      " 97/117 [=======================>......] - ETA: 0s - loss: 1278436736.0000 - root_mean_squared_error: 35755.2344"
     ]
    },
    {
     "name": "stderr",
     "output_type": "stream",
     "text": [
      "2023-03-29 10:58:08.301216: I tensorflow/core/common_runtime/executor.cc:1197] [/device:CPU:0] (DEBUG INFO) Executor start aborting (this does not indicate an error and you can ignore this message): INVALID_ARGUMENT: You must feed a value for placeholder tensor 'inputs' with dtype float and shape [?,500]\n",
      "\t [[{{node inputs}}]]\n",
      "2023-03-29 10:58:08.310153: I tensorflow/core/common_runtime/executor.cc:1197] [/device:CPU:0] (DEBUG INFO) Executor start aborting (this does not indicate an error and you can ignore this message): INVALID_ARGUMENT: You must feed a value for placeholder tensor 'inputs' with dtype float and shape [?,300]\n",
      "\t [[{{node inputs}}]]\n",
      "2023-03-29 10:58:08.319357: I tensorflow/core/common_runtime/executor.cc:1197] [/device:CPU:0] (DEBUG INFO) Executor start aborting (this does not indicate an error and you can ignore this message): INVALID_ARGUMENT: You must feed a value for placeholder tensor 'inputs' with dtype float and shape [?,100]\n",
      "\t [[{{node inputs}}]]\n",
      "2023-03-29 10:58:08.417947: I tensorflow/core/common_runtime/executor.cc:1197] [/device:CPU:0] (DEBUG INFO) Executor start aborting (this does not indicate an error and you can ignore this message): INVALID_ARGUMENT: You must feed a value for placeholder tensor 'inputs' with dtype float and shape [?,500]\n",
      "\t [[{{node inputs}}]]\n",
      "2023-03-29 10:58:08.436393: I tensorflow/core/common_runtime/executor.cc:1197] [/device:CPU:0] (DEBUG INFO) Executor start aborting (this does not indicate an error and you can ignore this message): INVALID_ARGUMENT: You must feed a value for placeholder tensor 'inputs' with dtype float and shape [?,300]\n",
      "\t [[{{node inputs}}]]\n",
      "2023-03-29 10:58:08.456242: I tensorflow/core/common_runtime/executor.cc:1197] [/device:CPU:0] (DEBUG INFO) Executor start aborting (this does not indicate an error and you can ignore this message): INVALID_ARGUMENT: You must feed a value for placeholder tensor 'inputs' with dtype float and shape [?,100]\n",
      "\t [[{{node inputs}}]]\n",
      "WARNING:absl:Found untraced functions such as _update_step_xla while saving (showing 1 of 1). These functions will not be directly callable after loading.\n"
     ]
    },
    {
     "name": "stdout",
     "output_type": "stream",
     "text": [
      "INFO:tensorflow:Assets written to: /home/manuelquiros/Documents/Kaggle/House_Prices/MLP2/assets\n"
     ]
    },
    {
     "name": "stderr",
     "output_type": "stream",
     "text": [
      "INFO:tensorflow:Assets written to: /home/manuelquiros/Documents/Kaggle/House_Prices/MLP2/assets\n"
     ]
    },
    {
     "name": "stdout",
     "output_type": "stream",
     "text": [
      "117/117 [==============================] - 1s 6ms/step - loss: 1311954816.0000 - root_mean_squared_error: 36220.9180 - val_loss: 1081808640.0000 - val_root_mean_squared_error: 32890.8594 - lr: 0.0010\n",
      "Epoch 8/200\n",
      " 94/117 [=======================>......] - ETA: 0s - loss: 1305674752.0000 - root_mean_squared_error: 36134.1211"
     ]
    },
    {
     "name": "stderr",
     "output_type": "stream",
     "text": [
      "2023-03-29 10:58:09.022685: I tensorflow/core/common_runtime/executor.cc:1197] [/device:CPU:0] (DEBUG INFO) Executor start aborting (this does not indicate an error and you can ignore this message): INVALID_ARGUMENT: You must feed a value for placeholder tensor 'inputs' with dtype float and shape [?,500]\n",
      "\t [[{{node inputs}}]]\n",
      "2023-03-29 10:58:09.032052: I tensorflow/core/common_runtime/executor.cc:1197] [/device:CPU:0] (DEBUG INFO) Executor start aborting (this does not indicate an error and you can ignore this message): INVALID_ARGUMENT: You must feed a value for placeholder tensor 'inputs' with dtype float and shape [?,300]\n",
      "\t [[{{node inputs}}]]\n",
      "2023-03-29 10:58:09.041365: I tensorflow/core/common_runtime/executor.cc:1197] [/device:CPU:0] (DEBUG INFO) Executor start aborting (this does not indicate an error and you can ignore this message): INVALID_ARGUMENT: You must feed a value for placeholder tensor 'inputs' with dtype float and shape [?,100]\n",
      "\t [[{{node inputs}}]]\n",
      "2023-03-29 10:58:09.140772: I tensorflow/core/common_runtime/executor.cc:1197] [/device:CPU:0] (DEBUG INFO) Executor start aborting (this does not indicate an error and you can ignore this message): INVALID_ARGUMENT: You must feed a value for placeholder tensor 'inputs' with dtype float and shape [?,500]\n",
      "\t [[{{node inputs}}]]\n",
      "2023-03-29 10:58:09.160742: I tensorflow/core/common_runtime/executor.cc:1197] [/device:CPU:0] (DEBUG INFO) Executor start aborting (this does not indicate an error and you can ignore this message): INVALID_ARGUMENT: You must feed a value for placeholder tensor 'inputs' with dtype float and shape [?,300]\n",
      "\t [[{{node inputs}}]]\n",
      "2023-03-29 10:58:09.181465: I tensorflow/core/common_runtime/executor.cc:1197] [/device:CPU:0] (DEBUG INFO) Executor start aborting (this does not indicate an error and you can ignore this message): INVALID_ARGUMENT: You must feed a value for placeholder tensor 'inputs' with dtype float and shape [?,100]\n",
      "\t [[{{node inputs}}]]\n",
      "WARNING:absl:Found untraced functions such as _update_step_xla while saving (showing 1 of 1). These functions will not be directly callable after loading.\n"
     ]
    },
    {
     "name": "stdout",
     "output_type": "stream",
     "text": [
      "INFO:tensorflow:Assets written to: /home/manuelquiros/Documents/Kaggle/House_Prices/MLP2/assets\n"
     ]
    },
    {
     "name": "stderr",
     "output_type": "stream",
     "text": [
      "INFO:tensorflow:Assets written to: /home/manuelquiros/Documents/Kaggle/House_Prices/MLP2/assets\n"
     ]
    },
    {
     "name": "stdout",
     "output_type": "stream",
     "text": [
      "117/117 [==============================] - 1s 6ms/step - loss: 1324460416.0000 - root_mean_squared_error: 36393.1367 - val_loss: 1022383488.0000 - val_root_mean_squared_error: 31974.7324 - lr: 0.0010\n",
      "Epoch 9/200\n",
      " 89/117 [=====================>........] - ETA: 0s - loss: 1366867200.0000 - root_mean_squared_error: 36971.1680"
     ]
    },
    {
     "name": "stderr",
     "output_type": "stream",
     "text": [
      "2023-03-29 10:58:09.768294: I tensorflow/core/common_runtime/executor.cc:1197] [/device:CPU:0] (DEBUG INFO) Executor start aborting (this does not indicate an error and you can ignore this message): INVALID_ARGUMENT: You must feed a value for placeholder tensor 'inputs' with dtype float and shape [?,500]\n",
      "\t [[{{node inputs}}]]\n",
      "2023-03-29 10:58:09.776888: I tensorflow/core/common_runtime/executor.cc:1197] [/device:CPU:0] (DEBUG INFO) Executor start aborting (this does not indicate an error and you can ignore this message): INVALID_ARGUMENT: You must feed a value for placeholder tensor 'inputs' with dtype float and shape [?,300]\n",
      "\t [[{{node inputs}}]]\n",
      "2023-03-29 10:58:09.786013: I tensorflow/core/common_runtime/executor.cc:1197] [/device:CPU:0] (DEBUG INFO) Executor start aborting (this does not indicate an error and you can ignore this message): INVALID_ARGUMENT: You must feed a value for placeholder tensor 'inputs' with dtype float and shape [?,100]\n",
      "\t [[{{node inputs}}]]\n",
      "2023-03-29 10:58:09.881736: I tensorflow/core/common_runtime/executor.cc:1197] [/device:CPU:0] (DEBUG INFO) Executor start aborting (this does not indicate an error and you can ignore this message): INVALID_ARGUMENT: You must feed a value for placeholder tensor 'inputs' with dtype float and shape [?,500]\n",
      "\t [[{{node inputs}}]]\n",
      "2023-03-29 10:58:09.900958: I tensorflow/core/common_runtime/executor.cc:1197] [/device:CPU:0] (DEBUG INFO) Executor start aborting (this does not indicate an error and you can ignore this message): INVALID_ARGUMENT: You must feed a value for placeholder tensor 'inputs' with dtype float and shape [?,300]\n",
      "\t [[{{node inputs}}]]\n",
      "2023-03-29 10:58:09.923156: I tensorflow/core/common_runtime/executor.cc:1197] [/device:CPU:0] (DEBUG INFO) Executor start aborting (this does not indicate an error and you can ignore this message): INVALID_ARGUMENT: You must feed a value for placeholder tensor 'inputs' with dtype float and shape [?,100]\n",
      "\t [[{{node inputs}}]]\n",
      "WARNING:absl:Found untraced functions such as _update_step_xla while saving (showing 1 of 1). These functions will not be directly callable after loading.\n"
     ]
    },
    {
     "name": "stdout",
     "output_type": "stream",
     "text": [
      "INFO:tensorflow:Assets written to: /home/manuelquiros/Documents/Kaggle/House_Prices/MLP2/assets\n"
     ]
    },
    {
     "name": "stderr",
     "output_type": "stream",
     "text": [
      "INFO:tensorflow:Assets written to: /home/manuelquiros/Documents/Kaggle/House_Prices/MLP2/assets\n"
     ]
    },
    {
     "name": "stdout",
     "output_type": "stream",
     "text": [
      "117/117 [==============================] - 1s 7ms/step - loss: 1260754048.0000 - root_mean_squared_error: 35507.0977 - val_loss: 978524864.0000 - val_root_mean_squared_error: 31281.3828 - lr: 0.0010\n",
      "Epoch 10/200\n",
      "101/117 [========================>.....] - ETA: 0s - loss: 1129010944.0000 - root_mean_squared_error: 33600.7578"
     ]
    },
    {
     "name": "stderr",
     "output_type": "stream",
     "text": [
      "2023-03-29 10:58:10.521032: I tensorflow/core/common_runtime/executor.cc:1197] [/device:CPU:0] (DEBUG INFO) Executor start aborting (this does not indicate an error and you can ignore this message): INVALID_ARGUMENT: You must feed a value for placeholder tensor 'inputs' with dtype float and shape [?,500]\n",
      "\t [[{{node inputs}}]]\n",
      "2023-03-29 10:58:10.529130: I tensorflow/core/common_runtime/executor.cc:1197] [/device:CPU:0] (DEBUG INFO) Executor start aborting (this does not indicate an error and you can ignore this message): INVALID_ARGUMENT: You must feed a value for placeholder tensor 'inputs' with dtype float and shape [?,300]\n",
      "\t [[{{node inputs}}]]\n",
      "2023-03-29 10:58:10.537235: I tensorflow/core/common_runtime/executor.cc:1197] [/device:CPU:0] (DEBUG INFO) Executor start aborting (this does not indicate an error and you can ignore this message): INVALID_ARGUMENT: You must feed a value for placeholder tensor 'inputs' with dtype float and shape [?,100]\n",
      "\t [[{{node inputs}}]]\n",
      "2023-03-29 10:58:10.639537: I tensorflow/core/common_runtime/executor.cc:1197] [/device:CPU:0] (DEBUG INFO) Executor start aborting (this does not indicate an error and you can ignore this message): INVALID_ARGUMENT: You must feed a value for placeholder tensor 'inputs' with dtype float and shape [?,500]\n",
      "\t [[{{node inputs}}]]\n",
      "2023-03-29 10:58:10.658140: I tensorflow/core/common_runtime/executor.cc:1197] [/device:CPU:0] (DEBUG INFO) Executor start aborting (this does not indicate an error and you can ignore this message): INVALID_ARGUMENT: You must feed a value for placeholder tensor 'inputs' with dtype float and shape [?,300]\n",
      "\t [[{{node inputs}}]]\n",
      "2023-03-29 10:58:10.676727: I tensorflow/core/common_runtime/executor.cc:1197] [/device:CPU:0] (DEBUG INFO) Executor start aborting (this does not indicate an error and you can ignore this message): INVALID_ARGUMENT: You must feed a value for placeholder tensor 'inputs' with dtype float and shape [?,100]\n",
      "\t [[{{node inputs}}]]\n",
      "WARNING:absl:Found untraced functions such as _update_step_xla while saving (showing 1 of 1). These functions will not be directly callable after loading.\n"
     ]
    },
    {
     "name": "stdout",
     "output_type": "stream",
     "text": [
      "INFO:tensorflow:Assets written to: /home/manuelquiros/Documents/Kaggle/House_Prices/MLP2/assets\n"
     ]
    },
    {
     "name": "stderr",
     "output_type": "stream",
     "text": [
      "INFO:tensorflow:Assets written to: /home/manuelquiros/Documents/Kaggle/House_Prices/MLP2/assets\n"
     ]
    },
    {
     "name": "stdout",
     "output_type": "stream",
     "text": [
      "117/117 [==============================] - 1s 6ms/step - loss: 1099180928.0000 - root_mean_squared_error: 33153.8984 - val_loss: 894390464.0000 - val_root_mean_squared_error: 29906.3613 - lr: 0.0010\n",
      "Epoch 11/200\n",
      "117/117 [==============================] - 0s 2ms/step - loss: 1005701888.0000 - root_mean_squared_error: 31712.8027 - val_loss: 972469440.0000 - val_root_mean_squared_error: 31184.4414 - lr: 0.0010\n",
      "Epoch 12/200\n",
      " 96/117 [=======================>......] - ETA: 0s - loss: 967950656.0000 - root_mean_squared_error: 31111.9062"
     ]
    },
    {
     "name": "stderr",
     "output_type": "stream",
     "text": [
      "2023-03-29 10:58:11.847150: I tensorflow/core/common_runtime/executor.cc:1197] [/device:CPU:0] (DEBUG INFO) Executor start aborting (this does not indicate an error and you can ignore this message): INVALID_ARGUMENT: You must feed a value for placeholder tensor 'inputs' with dtype float and shape [?,500]\n",
      "\t [[{{node inputs}}]]\n",
      "2023-03-29 10:58:11.856924: I tensorflow/core/common_runtime/executor.cc:1197] [/device:CPU:0] (DEBUG INFO) Executor start aborting (this does not indicate an error and you can ignore this message): INVALID_ARGUMENT: You must feed a value for placeholder tensor 'inputs' with dtype float and shape [?,300]\n",
      "\t [[{{node inputs}}]]\n",
      "2023-03-29 10:58:11.866451: I tensorflow/core/common_runtime/executor.cc:1197] [/device:CPU:0] (DEBUG INFO) Executor start aborting (this does not indicate an error and you can ignore this message): INVALID_ARGUMENT: You must feed a value for placeholder tensor 'inputs' with dtype float and shape [?,100]\n",
      "\t [[{{node inputs}}]]\n",
      "2023-03-29 10:58:11.978956: I tensorflow/core/common_runtime/executor.cc:1197] [/device:CPU:0] (DEBUG INFO) Executor start aborting (this does not indicate an error and you can ignore this message): INVALID_ARGUMENT: You must feed a value for placeholder tensor 'inputs' with dtype float and shape [?,500]\n",
      "\t [[{{node inputs}}]]\n",
      "2023-03-29 10:58:12.003418: I tensorflow/core/common_runtime/executor.cc:1197] [/device:CPU:0] (DEBUG INFO) Executor start aborting (this does not indicate an error and you can ignore this message): INVALID_ARGUMENT: You must feed a value for placeholder tensor 'inputs' with dtype float and shape [?,300]\n",
      "\t [[{{node inputs}}]]\n",
      "2023-03-29 10:58:12.028398: I tensorflow/core/common_runtime/executor.cc:1197] [/device:CPU:0] (DEBUG INFO) Executor start aborting (this does not indicate an error and you can ignore this message): INVALID_ARGUMENT: You must feed a value for placeholder tensor 'inputs' with dtype float and shape [?,100]\n",
      "\t [[{{node inputs}}]]\n",
      "WARNING:absl:Found untraced functions such as _update_step_xla while saving (showing 1 of 1). These functions will not be directly callable after loading.\n"
     ]
    },
    {
     "name": "stdout",
     "output_type": "stream",
     "text": [
      "INFO:tensorflow:Assets written to: /home/manuelquiros/Documents/Kaggle/House_Prices/MLP2/assets\n"
     ]
    },
    {
     "name": "stderr",
     "output_type": "stream",
     "text": [
      "INFO:tensorflow:Assets written to: /home/manuelquiros/Documents/Kaggle/House_Prices/MLP2/assets\n"
     ]
    },
    {
     "name": "stdout",
     "output_type": "stream",
     "text": [
      "117/117 [==============================] - 1s 9ms/step - loss: 1040381888.0000 - root_mean_squared_error: 32254.9512 - val_loss: 871961984.0000 - val_root_mean_squared_error: 29529.0020 - lr: 0.0010\n",
      "Epoch 13/200\n",
      " 89/117 [=====================>........] - ETA: 0s - loss: 1097422720.0000 - root_mean_squared_error: 33127.3711"
     ]
    },
    {
     "name": "stderr",
     "output_type": "stream",
     "text": [
      "2023-03-29 10:58:12.647319: I tensorflow/core/common_runtime/executor.cc:1197] [/device:CPU:0] (DEBUG INFO) Executor start aborting (this does not indicate an error and you can ignore this message): INVALID_ARGUMENT: You must feed a value for placeholder tensor 'inputs' with dtype float and shape [?,500]\n",
      "\t [[{{node inputs}}]]\n",
      "2023-03-29 10:58:12.656718: I tensorflow/core/common_runtime/executor.cc:1197] [/device:CPU:0] (DEBUG INFO) Executor start aborting (this does not indicate an error and you can ignore this message): INVALID_ARGUMENT: You must feed a value for placeholder tensor 'inputs' with dtype float and shape [?,300]\n",
      "\t [[{{node inputs}}]]\n",
      "2023-03-29 10:58:12.667208: I tensorflow/core/common_runtime/executor.cc:1197] [/device:CPU:0] (DEBUG INFO) Executor start aborting (this does not indicate an error and you can ignore this message): INVALID_ARGUMENT: You must feed a value for placeholder tensor 'inputs' with dtype float and shape [?,100]\n",
      "\t [[{{node inputs}}]]\n",
      "2023-03-29 10:58:12.770921: I tensorflow/core/common_runtime/executor.cc:1197] [/device:CPU:0] (DEBUG INFO) Executor start aborting (this does not indicate an error and you can ignore this message): INVALID_ARGUMENT: You must feed a value for placeholder tensor 'inputs' with dtype float and shape [?,500]\n",
      "\t [[{{node inputs}}]]\n",
      "2023-03-29 10:58:12.790925: I tensorflow/core/common_runtime/executor.cc:1197] [/device:CPU:0] (DEBUG INFO) Executor start aborting (this does not indicate an error and you can ignore this message): INVALID_ARGUMENT: You must feed a value for placeholder tensor 'inputs' with dtype float and shape [?,300]\n",
      "\t [[{{node inputs}}]]\n",
      "2023-03-29 10:58:12.810544: I tensorflow/core/common_runtime/executor.cc:1197] [/device:CPU:0] (DEBUG INFO) Executor start aborting (this does not indicate an error and you can ignore this message): INVALID_ARGUMENT: You must feed a value for placeholder tensor 'inputs' with dtype float and shape [?,100]\n",
      "\t [[{{node inputs}}]]\n",
      "WARNING:absl:Found untraced functions such as _update_step_xla while saving (showing 1 of 1). These functions will not be directly callable after loading.\n"
     ]
    },
    {
     "name": "stdout",
     "output_type": "stream",
     "text": [
      "INFO:tensorflow:Assets written to: /home/manuelquiros/Documents/Kaggle/House_Prices/MLP2/assets\n"
     ]
    },
    {
     "name": "stderr",
     "output_type": "stream",
     "text": [
      "INFO:tensorflow:Assets written to: /home/manuelquiros/Documents/Kaggle/House_Prices/MLP2/assets\n"
     ]
    },
    {
     "name": "stdout",
     "output_type": "stream",
     "text": [
      "117/117 [==============================] - 1s 7ms/step - loss: 1012355840.0000 - root_mean_squared_error: 31817.5391 - val_loss: 834794368.0000 - val_root_mean_squared_error: 28892.8086 - lr: 0.0010\n",
      "Epoch 14/200\n",
      "117/117 [==============================] - 0s 2ms/step - loss: 990851968.0000 - root_mean_squared_error: 31477.8008 - val_loss: 1096425600.0000 - val_root_mean_squared_error: 33112.3164 - lr: 0.0010\n",
      "Epoch 15/200\n",
      "117/117 [==============================] - 0s 2ms/step - loss: 1044844352.0000 - root_mean_squared_error: 32324.0527 - val_loss: 835628608.0000 - val_root_mean_squared_error: 28907.2422 - lr: 0.0010\n",
      "Epoch 16/200\n",
      " 96/117 [=======================>......] - ETA: 0s - loss: 863670592.0000 - root_mean_squared_error: 29388.2734"
     ]
    },
    {
     "name": "stderr",
     "output_type": "stream",
     "text": [
      "2023-03-29 10:58:13.961307: I tensorflow/core/common_runtime/executor.cc:1197] [/device:CPU:0] (DEBUG INFO) Executor start aborting (this does not indicate an error and you can ignore this message): INVALID_ARGUMENT: You must feed a value for placeholder tensor 'inputs' with dtype float and shape [?,500]\n",
      "\t [[{{node inputs}}]]\n",
      "2023-03-29 10:58:13.969775: I tensorflow/core/common_runtime/executor.cc:1197] [/device:CPU:0] (DEBUG INFO) Executor start aborting (this does not indicate an error and you can ignore this message): INVALID_ARGUMENT: You must feed a value for placeholder tensor 'inputs' with dtype float and shape [?,300]\n",
      "\t [[{{node inputs}}]]\n",
      "2023-03-29 10:58:13.977616: I tensorflow/core/common_runtime/executor.cc:1197] [/device:CPU:0] (DEBUG INFO) Executor start aborting (this does not indicate an error and you can ignore this message): INVALID_ARGUMENT: You must feed a value for placeholder tensor 'inputs' with dtype float and shape [?,100]\n",
      "\t [[{{node inputs}}]]\n",
      "2023-03-29 10:58:14.075539: I tensorflow/core/common_runtime/executor.cc:1197] [/device:CPU:0] (DEBUG INFO) Executor start aborting (this does not indicate an error and you can ignore this message): INVALID_ARGUMENT: You must feed a value for placeholder tensor 'inputs' with dtype float and shape [?,500]\n",
      "\t [[{{node inputs}}]]\n",
      "2023-03-29 10:58:14.093881: I tensorflow/core/common_runtime/executor.cc:1197] [/device:CPU:0] (DEBUG INFO) Executor start aborting (this does not indicate an error and you can ignore this message): INVALID_ARGUMENT: You must feed a value for placeholder tensor 'inputs' with dtype float and shape [?,300]\n",
      "\t [[{{node inputs}}]]\n",
      "2023-03-29 10:58:14.111927: I tensorflow/core/common_runtime/executor.cc:1197] [/device:CPU:0] (DEBUG INFO) Executor start aborting (this does not indicate an error and you can ignore this message): INVALID_ARGUMENT: You must feed a value for placeholder tensor 'inputs' with dtype float and shape [?,100]\n",
      "\t [[{{node inputs}}]]\n",
      "WARNING:absl:Found untraced functions such as _update_step_xla while saving (showing 1 of 1). These functions will not be directly callable after loading.\n"
     ]
    },
    {
     "name": "stdout",
     "output_type": "stream",
     "text": [
      "INFO:tensorflow:Assets written to: /home/manuelquiros/Documents/Kaggle/House_Prices/MLP2/assets\n"
     ]
    },
    {
     "name": "stderr",
     "output_type": "stream",
     "text": [
      "INFO:tensorflow:Assets written to: /home/manuelquiros/Documents/Kaggle/House_Prices/MLP2/assets\n"
     ]
    },
    {
     "name": "stdout",
     "output_type": "stream",
     "text": [
      "117/117 [==============================] - 1s 7ms/step - loss: 946151360.0000 - root_mean_squared_error: 30759.5742 - val_loss: 794708992.0000 - val_root_mean_squared_error: 28190.5840 - lr: 0.0010\n",
      "Epoch 17/200\n",
      "117/117 [==============================] - 0s 2ms/step - loss: 920768000.0000 - root_mean_squared_error: 30344.1602 - val_loss: 882859776.0000 - val_root_mean_squared_error: 29712.9570 - lr: 0.0010\n",
      "Epoch 18/200\n",
      "117/117 [==============================] - 0s 2ms/step - loss: 979599296.0000 - root_mean_squared_error: 31298.5508 - val_loss: 914170496.0000 - val_root_mean_squared_error: 30235.2520 - lr: 0.0010\n",
      "Epoch 19/200\n",
      "117/117 [==============================] - 0s 2ms/step - loss: 863147968.0000 - root_mean_squared_error: 29379.3809 - val_loss: 796815104.0000 - val_root_mean_squared_error: 28227.9141 - lr: 0.0010\n",
      "Epoch 20/200\n",
      "102/117 [=========================>....] - ETA: 0s - loss: 946850944.0000 - root_mean_squared_error: 30770.9434"
     ]
    },
    {
     "name": "stderr",
     "output_type": "stream",
     "text": [
      "2023-03-29 10:58:15.458796: I tensorflow/core/common_runtime/executor.cc:1197] [/device:CPU:0] (DEBUG INFO) Executor start aborting (this does not indicate an error and you can ignore this message): INVALID_ARGUMENT: You must feed a value for placeholder tensor 'inputs' with dtype float and shape [?,500]\n",
      "\t [[{{node inputs}}]]\n",
      "2023-03-29 10:58:15.468282: I tensorflow/core/common_runtime/executor.cc:1197] [/device:CPU:0] (DEBUG INFO) Executor start aborting (this does not indicate an error and you can ignore this message): INVALID_ARGUMENT: You must feed a value for placeholder tensor 'inputs' with dtype float and shape [?,300]\n",
      "\t [[{{node inputs}}]]\n",
      "2023-03-29 10:58:15.476342: I tensorflow/core/common_runtime/executor.cc:1197] [/device:CPU:0] (DEBUG INFO) Executor start aborting (this does not indicate an error and you can ignore this message): INVALID_ARGUMENT: You must feed a value for placeholder tensor 'inputs' with dtype float and shape [?,100]\n",
      "\t [[{{node inputs}}]]\n",
      "2023-03-29 10:58:15.576286: I tensorflow/core/common_runtime/executor.cc:1197] [/device:CPU:0] (DEBUG INFO) Executor start aborting (this does not indicate an error and you can ignore this message): INVALID_ARGUMENT: You must feed a value for placeholder tensor 'inputs' with dtype float and shape [?,500]\n",
      "\t [[{{node inputs}}]]\n",
      "2023-03-29 10:58:15.598729: I tensorflow/core/common_runtime/executor.cc:1197] [/device:CPU:0] (DEBUG INFO) Executor start aborting (this does not indicate an error and you can ignore this message): INVALID_ARGUMENT: You must feed a value for placeholder tensor 'inputs' with dtype float and shape [?,300]\n",
      "\t [[{{node inputs}}]]\n",
      "2023-03-29 10:58:15.618108: I tensorflow/core/common_runtime/executor.cc:1197] [/device:CPU:0] (DEBUG INFO) Executor start aborting (this does not indicate an error and you can ignore this message): INVALID_ARGUMENT: You must feed a value for placeholder tensor 'inputs' with dtype float and shape [?,100]\n",
      "\t [[{{node inputs}}]]\n",
      "WARNING:absl:Found untraced functions such as _update_step_xla while saving (showing 1 of 1). These functions will not be directly callable after loading.\n"
     ]
    },
    {
     "name": "stdout",
     "output_type": "stream",
     "text": [
      "INFO:tensorflow:Assets written to: /home/manuelquiros/Documents/Kaggle/House_Prices/MLP2/assets\n"
     ]
    },
    {
     "name": "stderr",
     "output_type": "stream",
     "text": [
      "INFO:tensorflow:Assets written to: /home/manuelquiros/Documents/Kaggle/House_Prices/MLP2/assets\n"
     ]
    },
    {
     "name": "stdout",
     "output_type": "stream",
     "text": [
      "117/117 [==============================] - 1s 7ms/step - loss: 923081280.0000 - root_mean_squared_error: 30382.2520 - val_loss: 771205824.0000 - val_root_mean_squared_error: 27770.5938 - lr: 0.0010\n",
      "Epoch 21/200\n",
      "102/117 [=========================>....] - ETA: 0s - loss: 862090048.0000 - root_mean_squared_error: 29361.3691"
     ]
    },
    {
     "name": "stderr",
     "output_type": "stream",
     "text": [
      "2023-03-29 10:58:16.265889: I tensorflow/core/common_runtime/executor.cc:1197] [/device:CPU:0] (DEBUG INFO) Executor start aborting (this does not indicate an error and you can ignore this message): INVALID_ARGUMENT: You must feed a value for placeholder tensor 'inputs' with dtype float and shape [?,500]\n",
      "\t [[{{node inputs}}]]\n",
      "2023-03-29 10:58:16.275549: I tensorflow/core/common_runtime/executor.cc:1197] [/device:CPU:0] (DEBUG INFO) Executor start aborting (this does not indicate an error and you can ignore this message): INVALID_ARGUMENT: You must feed a value for placeholder tensor 'inputs' with dtype float and shape [?,300]\n",
      "\t [[{{node inputs}}]]\n",
      "2023-03-29 10:58:16.286548: I tensorflow/core/common_runtime/executor.cc:1197] [/device:CPU:0] (DEBUG INFO) Executor start aborting (this does not indicate an error and you can ignore this message): INVALID_ARGUMENT: You must feed a value for placeholder tensor 'inputs' with dtype float and shape [?,100]\n",
      "\t [[{{node inputs}}]]\n",
      "2023-03-29 10:58:16.394112: I tensorflow/core/common_runtime/executor.cc:1197] [/device:CPU:0] (DEBUG INFO) Executor start aborting (this does not indicate an error and you can ignore this message): INVALID_ARGUMENT: You must feed a value for placeholder tensor 'inputs' with dtype float and shape [?,500]\n",
      "\t [[{{node inputs}}]]\n",
      "2023-03-29 10:58:16.417129: I tensorflow/core/common_runtime/executor.cc:1197] [/device:CPU:0] (DEBUG INFO) Executor start aborting (this does not indicate an error and you can ignore this message): INVALID_ARGUMENT: You must feed a value for placeholder tensor 'inputs' with dtype float and shape [?,300]\n",
      "\t [[{{node inputs}}]]\n",
      "2023-03-29 10:58:16.442926: I tensorflow/core/common_runtime/executor.cc:1197] [/device:CPU:0] (DEBUG INFO) Executor start aborting (this does not indicate an error and you can ignore this message): INVALID_ARGUMENT: You must feed a value for placeholder tensor 'inputs' with dtype float and shape [?,100]\n",
      "\t [[{{node inputs}}]]\n",
      "WARNING:absl:Found untraced functions such as _update_step_xla while saving (showing 1 of 1). These functions will not be directly callable after loading.\n"
     ]
    },
    {
     "name": "stdout",
     "output_type": "stream",
     "text": [
      "INFO:tensorflow:Assets written to: /home/manuelquiros/Documents/Kaggle/House_Prices/MLP2/assets\n"
     ]
    },
    {
     "name": "stderr",
     "output_type": "stream",
     "text": [
      "INFO:tensorflow:Assets written to: /home/manuelquiros/Documents/Kaggle/House_Prices/MLP2/assets\n"
     ]
    },
    {
     "name": "stdout",
     "output_type": "stream",
     "text": [
      "117/117 [==============================] - 1s 7ms/step - loss: 811923200.0000 - root_mean_squared_error: 28494.2656 - val_loss: 745020992.0000 - val_root_mean_squared_error: 27295.0723 - lr: 0.0010\n",
      "Epoch 22/200\n",
      "117/117 [==============================] - 0s 2ms/step - loss: 880365440.0000 - root_mean_squared_error: 29670.9531 - val_loss: 764959168.0000 - val_root_mean_squared_error: 27657.8945 - lr: 0.0010\n",
      "Epoch 23/200\n",
      " 91/117 [======================>.......] - ETA: 0s - loss: 932117632.0000 - root_mean_squared_error: 30530.6016"
     ]
    },
    {
     "name": "stderr",
     "output_type": "stream",
     "text": [
      "2023-03-29 10:58:17.311183: I tensorflow/core/common_runtime/executor.cc:1197] [/device:CPU:0] (DEBUG INFO) Executor start aborting (this does not indicate an error and you can ignore this message): INVALID_ARGUMENT: You must feed a value for placeholder tensor 'inputs' with dtype float and shape [?,500]\n",
      "\t [[{{node inputs}}]]\n",
      "2023-03-29 10:58:17.320594: I tensorflow/core/common_runtime/executor.cc:1197] [/device:CPU:0] (DEBUG INFO) Executor start aborting (this does not indicate an error and you can ignore this message): INVALID_ARGUMENT: You must feed a value for placeholder tensor 'inputs' with dtype float and shape [?,300]\n",
      "\t [[{{node inputs}}]]\n",
      "2023-03-29 10:58:17.329958: I tensorflow/core/common_runtime/executor.cc:1197] [/device:CPU:0] (DEBUG INFO) Executor start aborting (this does not indicate an error and you can ignore this message): INVALID_ARGUMENT: You must feed a value for placeholder tensor 'inputs' with dtype float and shape [?,100]\n",
      "\t [[{{node inputs}}]]\n",
      "2023-03-29 10:58:17.449687: I tensorflow/core/common_runtime/executor.cc:1197] [/device:CPU:0] (DEBUG INFO) Executor start aborting (this does not indicate an error and you can ignore this message): INVALID_ARGUMENT: You must feed a value for placeholder tensor 'inputs' with dtype float and shape [?,500]\n",
      "\t [[{{node inputs}}]]\n",
      "2023-03-29 10:58:17.471827: I tensorflow/core/common_runtime/executor.cc:1197] [/device:CPU:0] (DEBUG INFO) Executor start aborting (this does not indicate an error and you can ignore this message): INVALID_ARGUMENT: You must feed a value for placeholder tensor 'inputs' with dtype float and shape [?,300]\n",
      "\t [[{{node inputs}}]]\n",
      "2023-03-29 10:58:17.493052: I tensorflow/core/common_runtime/executor.cc:1197] [/device:CPU:0] (DEBUG INFO) Executor start aborting (this does not indicate an error and you can ignore this message): INVALID_ARGUMENT: You must feed a value for placeholder tensor 'inputs' with dtype float and shape [?,100]\n",
      "\t [[{{node inputs}}]]\n",
      "WARNING:absl:Found untraced functions such as _update_step_xla while saving (showing 1 of 1). These functions will not be directly callable after loading.\n"
     ]
    },
    {
     "name": "stdout",
     "output_type": "stream",
     "text": [
      "INFO:tensorflow:Assets written to: /home/manuelquiros/Documents/Kaggle/House_Prices/MLP2/assets\n"
     ]
    },
    {
     "name": "stderr",
     "output_type": "stream",
     "text": [
      "INFO:tensorflow:Assets written to: /home/manuelquiros/Documents/Kaggle/House_Prices/MLP2/assets\n"
     ]
    },
    {
     "name": "stdout",
     "output_type": "stream",
     "text": [
      "117/117 [==============================] - 1s 8ms/step - loss: 885265600.0000 - root_mean_squared_error: 29753.4141 - val_loss: 735818688.0000 - val_root_mean_squared_error: 27125.9785 - lr: 0.0010\n",
      "Epoch 24/200\n",
      "108/117 [==========================>...] - ETA: 0s - loss: 791770880.0000 - root_mean_squared_error: 28138.4238"
     ]
    },
    {
     "name": "stderr",
     "output_type": "stream",
     "text": [
      "2023-03-29 10:58:18.301496: I tensorflow/core/common_runtime/executor.cc:1197] [/device:CPU:0] (DEBUG INFO) Executor start aborting (this does not indicate an error and you can ignore this message): INVALID_ARGUMENT: You must feed a value for placeholder tensor 'inputs' with dtype float and shape [?,500]\n",
      "\t [[{{node inputs}}]]\n",
      "2023-03-29 10:58:18.309847: I tensorflow/core/common_runtime/executor.cc:1197] [/device:CPU:0] (DEBUG INFO) Executor start aborting (this does not indicate an error and you can ignore this message): INVALID_ARGUMENT: You must feed a value for placeholder tensor 'inputs' with dtype float and shape [?,300]\n",
      "\t [[{{node inputs}}]]\n",
      "2023-03-29 10:58:18.317737: I tensorflow/core/common_runtime/executor.cc:1197] [/device:CPU:0] (DEBUG INFO) Executor start aborting (this does not indicate an error and you can ignore this message): INVALID_ARGUMENT: You must feed a value for placeholder tensor 'inputs' with dtype float and shape [?,100]\n",
      "\t [[{{node inputs}}]]\n",
      "2023-03-29 10:58:18.414644: I tensorflow/core/common_runtime/executor.cc:1197] [/device:CPU:0] (DEBUG INFO) Executor start aborting (this does not indicate an error and you can ignore this message): INVALID_ARGUMENT: You must feed a value for placeholder tensor 'inputs' with dtype float and shape [?,500]\n",
      "\t [[{{node inputs}}]]\n",
      "2023-03-29 10:58:18.434486: I tensorflow/core/common_runtime/executor.cc:1197] [/device:CPU:0] (DEBUG INFO) Executor start aborting (this does not indicate an error and you can ignore this message): INVALID_ARGUMENT: You must feed a value for placeholder tensor 'inputs' with dtype float and shape [?,300]\n",
      "\t [[{{node inputs}}]]\n",
      "2023-03-29 10:58:18.454341: I tensorflow/core/common_runtime/executor.cc:1197] [/device:CPU:0] (DEBUG INFO) Executor start aborting (this does not indicate an error and you can ignore this message): INVALID_ARGUMENT: You must feed a value for placeholder tensor 'inputs' with dtype float and shape [?,100]\n",
      "\t [[{{node inputs}}]]\n",
      "WARNING:absl:Found untraced functions such as _update_step_xla while saving (showing 1 of 1). These functions will not be directly callable after loading.\n"
     ]
    },
    {
     "name": "stdout",
     "output_type": "stream",
     "text": [
      "INFO:tensorflow:Assets written to: /home/manuelquiros/Documents/Kaggle/House_Prices/MLP2/assets\n"
     ]
    },
    {
     "name": "stderr",
     "output_type": "stream",
     "text": [
      "INFO:tensorflow:Assets written to: /home/manuelquiros/Documents/Kaggle/House_Prices/MLP2/assets\n"
     ]
    },
    {
     "name": "stdout",
     "output_type": "stream",
     "text": [
      "117/117 [==============================] - 1s 7ms/step - loss: 866689664.0000 - root_mean_squared_error: 29439.5938 - val_loss: 724672832.0000 - val_root_mean_squared_error: 26919.7480 - lr: 0.0010\n",
      "Epoch 25/200\n",
      "117/117 [==============================] - 0s 2ms/step - loss: 887800128.0000 - root_mean_squared_error: 29795.9746 - val_loss: 772823680.0000 - val_root_mean_squared_error: 27799.7070 - lr: 0.0010\n",
      "Epoch 26/200\n",
      "117/117 [==============================] - 0s 2ms/step - loss: 801427200.0000 - root_mean_squared_error: 28309.4902 - val_loss: 782065984.0000 - val_root_mean_squared_error: 27965.4434 - lr: 0.0010\n",
      "Epoch 27/200\n",
      "117/117 [==============================] - 0s 2ms/step - loss: 813246272.0000 - root_mean_squared_error: 28517.4727 - val_loss: 826473088.0000 - val_root_mean_squared_error: 28748.4453 - lr: 0.0010\n",
      "Epoch 28/200\n",
      "117/117 [==============================] - 0s 2ms/step - loss: 730424000.0000 - root_mean_squared_error: 27026.3574 - val_loss: 743833728.0000 - val_root_mean_squared_error: 27273.3145 - lr: 0.0010\n",
      "Epoch 29/200\n",
      "117/117 [==============================] - 0s 2ms/step - loss: 789841152.0000 - root_mean_squared_error: 28104.1133 - val_loss: 817442176.0000 - val_root_mean_squared_error: 28590.9453 - lr: 0.0010\n",
      "Epoch 30/200\n",
      "117/117 [==============================] - 0s 2ms/step - loss: 783654464.0000 - root_mean_squared_error: 27993.8281 - val_loss: 753861376.0000 - val_root_mean_squared_error: 27456.5352 - lr: 0.0010\n",
      "Epoch 31/200\n",
      "117/117 [==============================] - 0s 2ms/step - loss: 790255424.0000 - root_mean_squared_error: 28111.4824 - val_loss: 860729984.0000 - val_root_mean_squared_error: 29338.1992 - lr: 0.0010\n",
      "Epoch 32/200\n",
      "117/117 [==============================] - 0s 2ms/step - loss: 774772544.0000 - root_mean_squared_error: 27834.7363 - val_loss: 745589632.0000 - val_root_mean_squared_error: 27305.4863 - lr: 0.0010\n",
      "Epoch 33/200\n",
      "117/117 [==============================] - 0s 2ms/step - loss: 804982208.0000 - root_mean_squared_error: 28372.2090 - val_loss: 743615360.0000 - val_root_mean_squared_error: 27269.3125 - lr: 0.0010\n",
      "Epoch 34/200\n",
      "117/117 [==============================] - 0s 2ms/step - loss: 766183616.0000 - root_mean_squared_error: 27680.0215 - val_loss: 801898240.0000 - val_root_mean_squared_error: 28317.8086 - lr: 0.0010\n",
      "Epoch 35/200\n",
      "117/117 [==============================] - 0s 2ms/step - loss: 748684096.0000 - root_mean_squared_error: 27362.0918 - val_loss: 861464192.0000 - val_root_mean_squared_error: 29350.7109 - lr: 0.0010\n",
      "Epoch 36/200\n",
      "117/117 [==============================] - 0s 2ms/step - loss: 720986752.0000 - root_mean_squared_error: 26851.1973 - val_loss: 849402624.0000 - val_root_mean_squared_error: 29144.5137 - lr: 0.0010\n",
      "Epoch 37/200\n",
      " 92/117 [======================>.......] - ETA: 0s - loss: 731570880.0000 - root_mean_squared_error: 27047.5664"
     ]
    },
    {
     "name": "stderr",
     "output_type": "stream",
     "text": [
      "2023-03-29 10:58:22.176301: I tensorflow/core/common_runtime/executor.cc:1197] [/device:CPU:0] (DEBUG INFO) Executor start aborting (this does not indicate an error and you can ignore this message): INVALID_ARGUMENT: You must feed a value for placeholder tensor 'inputs' with dtype float and shape [?,500]\n",
      "\t [[{{node inputs}}]]\n",
      "2023-03-29 10:58:22.184934: I tensorflow/core/common_runtime/executor.cc:1197] [/device:CPU:0] (DEBUG INFO) Executor start aborting (this does not indicate an error and you can ignore this message): INVALID_ARGUMENT: You must feed a value for placeholder tensor 'inputs' with dtype float and shape [?,300]\n",
      "\t [[{{node inputs}}]]\n",
      "2023-03-29 10:58:22.196095: I tensorflow/core/common_runtime/executor.cc:1197] [/device:CPU:0] (DEBUG INFO) Executor start aborting (this does not indicate an error and you can ignore this message): INVALID_ARGUMENT: You must feed a value for placeholder tensor 'inputs' with dtype float and shape [?,100]\n",
      "\t [[{{node inputs}}]]\n",
      "2023-03-29 10:58:22.293884: I tensorflow/core/common_runtime/executor.cc:1197] [/device:CPU:0] (DEBUG INFO) Executor start aborting (this does not indicate an error and you can ignore this message): INVALID_ARGUMENT: You must feed a value for placeholder tensor 'inputs' with dtype float and shape [?,500]\n",
      "\t [[{{node inputs}}]]\n",
      "2023-03-29 10:58:22.313420: I tensorflow/core/common_runtime/executor.cc:1197] [/device:CPU:0] (DEBUG INFO) Executor start aborting (this does not indicate an error and you can ignore this message): INVALID_ARGUMENT: You must feed a value for placeholder tensor 'inputs' with dtype float and shape [?,300]\n",
      "\t [[{{node inputs}}]]\n",
      "2023-03-29 10:58:22.333234: I tensorflow/core/common_runtime/executor.cc:1197] [/device:CPU:0] (DEBUG INFO) Executor start aborting (this does not indicate an error and you can ignore this message): INVALID_ARGUMENT: You must feed a value for placeholder tensor 'inputs' with dtype float and shape [?,100]\n",
      "\t [[{{node inputs}}]]\n",
      "WARNING:absl:Found untraced functions such as _update_step_xla while saving (showing 1 of 1). These functions will not be directly callable after loading.\n"
     ]
    },
    {
     "name": "stdout",
     "output_type": "stream",
     "text": [
      "INFO:tensorflow:Assets written to: /home/manuelquiros/Documents/Kaggle/House_Prices/MLP2/assets\n"
     ]
    },
    {
     "name": "stderr",
     "output_type": "stream",
     "text": [
      "INFO:tensorflow:Assets written to: /home/manuelquiros/Documents/Kaggle/House_Prices/MLP2/assets\n"
     ]
    },
    {
     "name": "stdout",
     "output_type": "stream",
     "text": [
      "117/117 [==============================] - 1s 6ms/step - loss: 712818496.0000 - root_mean_squared_error: 26698.6602 - val_loss: 714511872.0000 - val_root_mean_squared_error: 26730.3555 - lr: 0.0010\n",
      "Epoch 38/200\n",
      "117/117 [==============================] - 0s 2ms/step - loss: 738141504.0000 - root_mean_squared_error: 27168.7598 - val_loss: 761128832.0000 - val_root_mean_squared_error: 27588.5625 - lr: 0.0010\n",
      "Epoch 39/200\n",
      "117/117 [==============================] - 0s 2ms/step - loss: 691322240.0000 - root_mean_squared_error: 26293.0078 - val_loss: 720320512.0000 - val_root_mean_squared_error: 26838.7871 - lr: 0.0010\n",
      "Epoch 40/200\n",
      "117/117 [==============================] - 0s 2ms/step - loss: 701424320.0000 - root_mean_squared_error: 26484.4160 - val_loss: 731081664.0000 - val_root_mean_squared_error: 27038.5215 - lr: 0.0010\n",
      "Epoch 41/200\n",
      "117/117 [==============================] - 0s 2ms/step - loss: 652916096.0000 - root_mean_squared_error: 25552.2227 - val_loss: 728975488.0000 - val_root_mean_squared_error: 26999.5469 - lr: 0.0010\n",
      "Epoch 42/200\n",
      "117/117 [==============================] - 0s 2ms/step - loss: 702481600.0000 - root_mean_squared_error: 26504.3691 - val_loss: 753992576.0000 - val_root_mean_squared_error: 27458.9258 - lr: 0.0010\n",
      "Epoch 43/200\n",
      "117/117 [==============================] - 0s 2ms/step - loss: 737202560.0000 - root_mean_squared_error: 27151.4746 - val_loss: 734005760.0000 - val_root_mean_squared_error: 27092.5410 - lr: 0.0010\n",
      "Epoch 44/200\n",
      "117/117 [==============================] - 0s 2ms/step - loss: 728795392.0000 - root_mean_squared_error: 26996.2109 - val_loss: 778149632.0000 - val_root_mean_squared_error: 27895.3340 - lr: 0.0010\n",
      "Epoch 45/200\n",
      "117/117 [==============================] - 0s 2ms/step - loss: 698498944.0000 - root_mean_squared_error: 26429.1309 - val_loss: 728737408.0000 - val_root_mean_squared_error: 26995.1367 - lr: 0.0010\n",
      "Epoch 46/200\n",
      "117/117 [==============================] - 0s 2ms/step - loss: 691142976.0000 - root_mean_squared_error: 26289.5977 - val_loss: 886764736.0000 - val_root_mean_squared_error: 29778.5957 - lr: 0.0010\n",
      "Epoch 47/200\n",
      " 93/117 [======================>.......] - ETA: 0s - loss: 732541248.0000 - root_mean_squared_error: 27065.5000"
     ]
    },
    {
     "name": "stderr",
     "output_type": "stream",
     "text": [
      "2023-03-29 10:58:25.317989: I tensorflow/core/common_runtime/executor.cc:1197] [/device:CPU:0] (DEBUG INFO) Executor start aborting (this does not indicate an error and you can ignore this message): INVALID_ARGUMENT: You must feed a value for placeholder tensor 'inputs' with dtype float and shape [?,500]\n",
      "\t [[{{node inputs}}]]\n",
      "2023-03-29 10:58:25.326178: I tensorflow/core/common_runtime/executor.cc:1197] [/device:CPU:0] (DEBUG INFO) Executor start aborting (this does not indicate an error and you can ignore this message): INVALID_ARGUMENT: You must feed a value for placeholder tensor 'inputs' with dtype float and shape [?,300]\n",
      "\t [[{{node inputs}}]]\n",
      "2023-03-29 10:58:25.334322: I tensorflow/core/common_runtime/executor.cc:1197] [/device:CPU:0] (DEBUG INFO) Executor start aborting (this does not indicate an error and you can ignore this message): INVALID_ARGUMENT: You must feed a value for placeholder tensor 'inputs' with dtype float and shape [?,100]\n",
      "\t [[{{node inputs}}]]\n",
      "2023-03-29 10:58:25.465548: I tensorflow/core/common_runtime/executor.cc:1197] [/device:CPU:0] (DEBUG INFO) Executor start aborting (this does not indicate an error and you can ignore this message): INVALID_ARGUMENT: You must feed a value for placeholder tensor 'inputs' with dtype float and shape [?,500]\n",
      "\t [[{{node inputs}}]]\n",
      "2023-03-29 10:58:25.488463: I tensorflow/core/common_runtime/executor.cc:1197] [/device:CPU:0] (DEBUG INFO) Executor start aborting (this does not indicate an error and you can ignore this message): INVALID_ARGUMENT: You must feed a value for placeholder tensor 'inputs' with dtype float and shape [?,300]\n",
      "\t [[{{node inputs}}]]\n",
      "2023-03-29 10:58:25.509853: I tensorflow/core/common_runtime/executor.cc:1197] [/device:CPU:0] (DEBUG INFO) Executor start aborting (this does not indicate an error and you can ignore this message): INVALID_ARGUMENT: You must feed a value for placeholder tensor 'inputs' with dtype float and shape [?,100]\n",
      "\t [[{{node inputs}}]]\n",
      "WARNING:absl:Found untraced functions such as _update_step_xla while saving (showing 1 of 1). These functions will not be directly callable after loading.\n"
     ]
    },
    {
     "name": "stdout",
     "output_type": "stream",
     "text": [
      "INFO:tensorflow:Assets written to: /home/manuelquiros/Documents/Kaggle/House_Prices/MLP2/assets\n"
     ]
    },
    {
     "name": "stderr",
     "output_type": "stream",
     "text": [
      "INFO:tensorflow:Assets written to: /home/manuelquiros/Documents/Kaggle/House_Prices/MLP2/assets\n"
     ]
    },
    {
     "name": "stdout",
     "output_type": "stream",
     "text": [
      "117/117 [==============================] - 1s 7ms/step - loss: 678947136.0000 - root_mean_squared_error: 26056.6133 - val_loss: 702810112.0000 - val_root_mean_squared_error: 26510.5664 - lr: 0.0010\n",
      "Epoch 48/200\n",
      "117/117 [==============================] - 0s 2ms/step - loss: 657814272.0000 - root_mean_squared_error: 25647.8906 - val_loss: 771848768.0000 - val_root_mean_squared_error: 27782.1660 - lr: 0.0010\n",
      "Epoch 49/200\n",
      "117/117 [==============================] - 0s 2ms/step - loss: 707958912.0000 - root_mean_squared_error: 26607.4980 - val_loss: 813614528.0000 - val_root_mean_squared_error: 28523.9297 - lr: 0.0010\n",
      "Epoch 50/200\n",
      "117/117 [==============================] - 0s 2ms/step - loss: 651481536.0000 - root_mean_squared_error: 25524.1367 - val_loss: 834816384.0000 - val_root_mean_squared_error: 28893.1895 - lr: 0.0010\n",
      "Epoch 51/200\n",
      "117/117 [==============================] - 0s 2ms/step - loss: 738697024.0000 - root_mean_squared_error: 27178.9805 - val_loss: 735400384.0000 - val_root_mean_squared_error: 27118.2676 - lr: 0.0010\n",
      "Epoch 52/200\n",
      "117/117 [==============================] - 0s 3ms/step - loss: 696296000.0000 - root_mean_squared_error: 26387.4219 - val_loss: 761637824.0000 - val_root_mean_squared_error: 27597.7871 - lr: 0.0010\n",
      "Epoch 53/200\n",
      "117/117 [==============================] - 0s 2ms/step - loss: 626203328.0000 - root_mean_squared_error: 25024.0547 - val_loss: 736454784.0000 - val_root_mean_squared_error: 27137.7012 - lr: 0.0010\n",
      "Epoch 54/200\n",
      "117/117 [==============================] - 0s 3ms/step - loss: 652378560.0000 - root_mean_squared_error: 25541.7031 - val_loss: 769433920.0000 - val_root_mean_squared_error: 27738.6719 - lr: 0.0010\n",
      "Epoch 55/200\n",
      "117/117 [==============================] - 0s 2ms/step - loss: 661918976.0000 - root_mean_squared_error: 25727.7852 - val_loss: 950818304.0000 - val_root_mean_squared_error: 30835.3418 - lr: 0.0010\n",
      "Epoch 56/200\n",
      " 94/117 [=======================>......] - ETA: 0s - loss: 705013824.0000 - root_mean_squared_error: 26552.0957"
     ]
    },
    {
     "name": "stderr",
     "output_type": "stream",
     "text": [
      "2023-03-29 10:58:28.306502: I tensorflow/core/common_runtime/executor.cc:1197] [/device:CPU:0] (DEBUG INFO) Executor start aborting (this does not indicate an error and you can ignore this message): INVALID_ARGUMENT: You must feed a value for placeholder tensor 'inputs' with dtype float and shape [?,500]\n",
      "\t [[{{node inputs}}]]\n",
      "2023-03-29 10:58:28.314567: I tensorflow/core/common_runtime/executor.cc:1197] [/device:CPU:0] (DEBUG INFO) Executor start aborting (this does not indicate an error and you can ignore this message): INVALID_ARGUMENT: You must feed a value for placeholder tensor 'inputs' with dtype float and shape [?,300]\n",
      "\t [[{{node inputs}}]]\n",
      "2023-03-29 10:58:28.322353: I tensorflow/core/common_runtime/executor.cc:1197] [/device:CPU:0] (DEBUG INFO) Executor start aborting (this does not indicate an error and you can ignore this message): INVALID_ARGUMENT: You must feed a value for placeholder tensor 'inputs' with dtype float and shape [?,100]\n",
      "\t [[{{node inputs}}]]\n",
      "2023-03-29 10:58:28.420717: I tensorflow/core/common_runtime/executor.cc:1197] [/device:CPU:0] (DEBUG INFO) Executor start aborting (this does not indicate an error and you can ignore this message): INVALID_ARGUMENT: You must feed a value for placeholder tensor 'inputs' with dtype float and shape [?,500]\n",
      "\t [[{{node inputs}}]]\n",
      "2023-03-29 10:58:28.440406: I tensorflow/core/common_runtime/executor.cc:1197] [/device:CPU:0] (DEBUG INFO) Executor start aborting (this does not indicate an error and you can ignore this message): INVALID_ARGUMENT: You must feed a value for placeholder tensor 'inputs' with dtype float and shape [?,300]\n",
      "\t [[{{node inputs}}]]\n",
      "2023-03-29 10:58:28.459273: I tensorflow/core/common_runtime/executor.cc:1197] [/device:CPU:0] (DEBUG INFO) Executor start aborting (this does not indicate an error and you can ignore this message): INVALID_ARGUMENT: You must feed a value for placeholder tensor 'inputs' with dtype float and shape [?,100]\n",
      "\t [[{{node inputs}}]]\n",
      "WARNING:absl:Found untraced functions such as _update_step_xla while saving (showing 1 of 1). These functions will not be directly callable after loading.\n"
     ]
    },
    {
     "name": "stdout",
     "output_type": "stream",
     "text": [
      "INFO:tensorflow:Assets written to: /home/manuelquiros/Documents/Kaggle/House_Prices/MLP2/assets\n"
     ]
    },
    {
     "name": "stderr",
     "output_type": "stream",
     "text": [
      "INFO:tensorflow:Assets written to: /home/manuelquiros/Documents/Kaggle/House_Prices/MLP2/assets\n"
     ]
    },
    {
     "name": "stdout",
     "output_type": "stream",
     "text": [
      "117/117 [==============================] - 1s 6ms/step - loss: 689002560.0000 - root_mean_squared_error: 26248.8574 - val_loss: 698994880.0000 - val_root_mean_squared_error: 26438.5117 - lr: 0.0010\n",
      "Epoch 57/200\n",
      "117/117 [==============================] - 0s 2ms/step - loss: 678259456.0000 - root_mean_squared_error: 26043.4141 - val_loss: 723475520.0000 - val_root_mean_squared_error: 26897.5000 - lr: 0.0010\n",
      "Epoch 58/200\n",
      "117/117 [==============================] - 0s 2ms/step - loss: 660061696.0000 - root_mean_squared_error: 25691.6660 - val_loss: 827128512.0000 - val_root_mean_squared_error: 28759.8418 - lr: 0.0010\n",
      "Epoch 59/200\n",
      "117/117 [==============================] - 0s 2ms/step - loss: 652148480.0000 - root_mean_squared_error: 25537.1973 - val_loss: 750358720.0000 - val_root_mean_squared_error: 27392.6758 - lr: 0.0010\n",
      "Epoch 60/200\n",
      "117/117 [==============================] - 0s 2ms/step - loss: 633752832.0000 - root_mean_squared_error: 25174.4473 - val_loss: 721399424.0000 - val_root_mean_squared_error: 26858.8789 - lr: 0.0010\n",
      "Epoch 61/200\n",
      "117/117 [==============================] - 0s 2ms/step - loss: 627095872.0000 - root_mean_squared_error: 25041.8828 - val_loss: 870084352.0000 - val_root_mean_squared_error: 29497.1914 - lr: 0.0010\n",
      "Epoch 62/200\n",
      "117/117 [==============================] - 0s 2ms/step - loss: 653388992.0000 - root_mean_squared_error: 25561.4746 - val_loss: 953182656.0000 - val_root_mean_squared_error: 30873.6562 - lr: 0.0010\n",
      "Epoch 63/200\n",
      "117/117 [==============================] - 0s 2ms/step - loss: 581045248.0000 - root_mean_squared_error: 24104.8809 - val_loss: 752053120.0000 - val_root_mean_squared_error: 27423.5879 - lr: 0.0010\n",
      "Epoch 64/200\n",
      "117/117 [==============================] - 0s 2ms/step - loss: 601884224.0000 - root_mean_squared_error: 24533.3281 - val_loss: 777025344.0000 - val_root_mean_squared_error: 27875.1738 - lr: 0.0010\n",
      "Epoch 65/200\n",
      "117/117 [==============================] - 0s 2ms/step - loss: 622894272.0000 - root_mean_squared_error: 24957.8496 - val_loss: 780313344.0000 - val_root_mean_squared_error: 27934.0898 - lr: 0.0010\n",
      "Epoch 66/200\n",
      "117/117 [==============================] - 0s 2ms/step - loss: 592692864.0000 - root_mean_squared_error: 24345.2852 - val_loss: 708749056.0000 - val_root_mean_squared_error: 26622.3418 - lr: 0.0010\n",
      "Epoch 67/200\n",
      "117/117 [==============================] - 0s 2ms/step - loss: 618122432.0000 - root_mean_squared_error: 24862.0684 - val_loss: 807620224.0000 - val_root_mean_squared_error: 28418.6602 - lr: 0.0010\n",
      "Epoch 68/200\n",
      "117/117 [==============================] - 0s 2ms/step - loss: 676952384.0000 - root_mean_squared_error: 26018.3086 - val_loss: 962897344.0000 - val_root_mean_squared_error: 31030.5879 - lr: 0.0010\n",
      "Epoch 69/200\n",
      "117/117 [==============================] - 0s 2ms/step - loss: 592272320.0000 - root_mean_squared_error: 24336.6465 - val_loss: 751410048.0000 - val_root_mean_squared_error: 27411.8594 - lr: 0.0010\n",
      "Epoch 70/200\n",
      " 94/117 [=======================>......] - ETA: 0s - loss: 631919232.0000 - root_mean_squared_error: 25138.0039"
     ]
    },
    {
     "name": "stderr",
     "output_type": "stream",
     "text": [
      "2023-03-29 10:58:32.436531: I tensorflow/core/common_runtime/executor.cc:1197] [/device:CPU:0] (DEBUG INFO) Executor start aborting (this does not indicate an error and you can ignore this message): INVALID_ARGUMENT: You must feed a value for placeholder tensor 'inputs' with dtype float and shape [?,500]\n",
      "\t [[{{node inputs}}]]\n",
      "2023-03-29 10:58:32.445362: I tensorflow/core/common_runtime/executor.cc:1197] [/device:CPU:0] (DEBUG INFO) Executor start aborting (this does not indicate an error and you can ignore this message): INVALID_ARGUMENT: You must feed a value for placeholder tensor 'inputs' with dtype float and shape [?,300]\n",
      "\t [[{{node inputs}}]]\n",
      "2023-03-29 10:58:32.454913: I tensorflow/core/common_runtime/executor.cc:1197] [/device:CPU:0] (DEBUG INFO) Executor start aborting (this does not indicate an error and you can ignore this message): INVALID_ARGUMENT: You must feed a value for placeholder tensor 'inputs' with dtype float and shape [?,100]\n",
      "\t [[{{node inputs}}]]\n",
      "2023-03-29 10:58:32.553085: I tensorflow/core/common_runtime/executor.cc:1197] [/device:CPU:0] (DEBUG INFO) Executor start aborting (this does not indicate an error and you can ignore this message): INVALID_ARGUMENT: You must feed a value for placeholder tensor 'inputs' with dtype float and shape [?,500]\n",
      "\t [[{{node inputs}}]]\n",
      "2023-03-29 10:58:32.572685: I tensorflow/core/common_runtime/executor.cc:1197] [/device:CPU:0] (DEBUG INFO) Executor start aborting (this does not indicate an error and you can ignore this message): INVALID_ARGUMENT: You must feed a value for placeholder tensor 'inputs' with dtype float and shape [?,300]\n",
      "\t [[{{node inputs}}]]\n",
      "2023-03-29 10:58:32.591553: I tensorflow/core/common_runtime/executor.cc:1197] [/device:CPU:0] (DEBUG INFO) Executor start aborting (this does not indicate an error and you can ignore this message): INVALID_ARGUMENT: You must feed a value for placeholder tensor 'inputs' with dtype float and shape [?,100]\n",
      "\t [[{{node inputs}}]]\n",
      "WARNING:absl:Found untraced functions such as _update_step_xla while saving (showing 1 of 1). These functions will not be directly callable after loading.\n"
     ]
    },
    {
     "name": "stdout",
     "output_type": "stream",
     "text": [
      "INFO:tensorflow:Assets written to: /home/manuelquiros/Documents/Kaggle/House_Prices/MLP2/assets\n"
     ]
    },
    {
     "name": "stderr",
     "output_type": "stream",
     "text": [
      "INFO:tensorflow:Assets written to: /home/manuelquiros/Documents/Kaggle/House_Prices/MLP2/assets\n"
     ]
    },
    {
     "name": "stdout",
     "output_type": "stream",
     "text": [
      "117/117 [==============================] - 1s 6ms/step - loss: 597311616.0000 - root_mean_squared_error: 24439.9590 - val_loss: 682538880.0000 - val_root_mean_squared_error: 26125.4453 - lr: 0.0010\n",
      "Epoch 71/200\n",
      "117/117 [==============================] - 0s 2ms/step - loss: 566184768.0000 - root_mean_squared_error: 23794.6367 - val_loss: 751058816.0000 - val_root_mean_squared_error: 27405.4531 - lr: 0.0010\n",
      "Epoch 72/200\n",
      "117/117 [==============================] - 0s 2ms/step - loss: 578550464.0000 - root_mean_squared_error: 24053.0762 - val_loss: 709440384.0000 - val_root_mean_squared_error: 26635.3223 - lr: 0.0010\n",
      "Epoch 73/200\n",
      "117/117 [==============================] - 0s 2ms/step - loss: 606123648.0000 - root_mean_squared_error: 24619.5781 - val_loss: 727060992.0000 - val_root_mean_squared_error: 26964.0684 - lr: 0.0010\n",
      "Epoch 74/200\n",
      "117/117 [==============================] - 0s 2ms/step - loss: 554105856.0000 - root_mean_squared_error: 23539.4531 - val_loss: 726867968.0000 - val_root_mean_squared_error: 26960.4883 - lr: 0.0010\n",
      "Epoch 75/200\n",
      "117/117 [==============================] - 0s 2ms/step - loss: 583272832.0000 - root_mean_squared_error: 24151.0430 - val_loss: 747381440.0000 - val_root_mean_squared_error: 27338.2773 - lr: 0.0010\n",
      "Epoch 76/200\n",
      "117/117 [==============================] - 0s 2ms/step - loss: 598388224.0000 - root_mean_squared_error: 24461.9746 - val_loss: 804631232.0000 - val_root_mean_squared_error: 28366.0234 - lr: 0.0010\n",
      "Epoch 77/200\n",
      "117/117 [==============================] - 0s 2ms/step - loss: 558400512.0000 - root_mean_squared_error: 23630.5000 - val_loss: 752098368.0000 - val_root_mean_squared_error: 27424.4121 - lr: 0.0010\n",
      "Epoch 78/200\n",
      "117/117 [==============================] - 0s 2ms/step - loss: 596502784.0000 - root_mean_squared_error: 24423.4062 - val_loss: 754039936.0000 - val_root_mean_squared_error: 27459.7871 - lr: 0.0010\n",
      "Epoch 79/200\n",
      "117/117 [==============================] - 0s 2ms/step - loss: 619468864.0000 - root_mean_squared_error: 24889.1309 - val_loss: 713677632.0000 - val_root_mean_squared_error: 26714.7461 - lr: 0.0010\n",
      "Epoch 80/200\n",
      "117/117 [==============================] - 0s 2ms/step - loss: 578178048.0000 - root_mean_squared_error: 24045.3340 - val_loss: 726579648.0000 - val_root_mean_squared_error: 26955.1406 - lr: 0.0010\n",
      "Epoch 81/200\n",
      " 89/117 [=====================>........] - ETA: 0s - loss: 616079936.0000 - root_mean_squared_error: 24820.9570"
     ]
    },
    {
     "name": "stderr",
     "output_type": "stream",
     "text": [
      "2023-03-29 10:58:35.768607: I tensorflow/core/common_runtime/executor.cc:1197] [/device:CPU:0] (DEBUG INFO) Executor start aborting (this does not indicate an error and you can ignore this message): INVALID_ARGUMENT: You must feed a value for placeholder tensor 'inputs' with dtype float and shape [?,500]\n",
      "\t [[{{node inputs}}]]\n",
      "2023-03-29 10:58:35.776801: I tensorflow/core/common_runtime/executor.cc:1197] [/device:CPU:0] (DEBUG INFO) Executor start aborting (this does not indicate an error and you can ignore this message): INVALID_ARGUMENT: You must feed a value for placeholder tensor 'inputs' with dtype float and shape [?,300]\n",
      "\t [[{{node inputs}}]]\n",
      "2023-03-29 10:58:35.785108: I tensorflow/core/common_runtime/executor.cc:1197] [/device:CPU:0] (DEBUG INFO) Executor start aborting (this does not indicate an error and you can ignore this message): INVALID_ARGUMENT: You must feed a value for placeholder tensor 'inputs' with dtype float and shape [?,100]\n",
      "\t [[{{node inputs}}]]\n",
      "2023-03-29 10:58:35.886284: I tensorflow/core/common_runtime/executor.cc:1197] [/device:CPU:0] (DEBUG INFO) Executor start aborting (this does not indicate an error and you can ignore this message): INVALID_ARGUMENT: You must feed a value for placeholder tensor 'inputs' with dtype float and shape [?,500]\n",
      "\t [[{{node inputs}}]]\n",
      "2023-03-29 10:58:35.905471: I tensorflow/core/common_runtime/executor.cc:1197] [/device:CPU:0] (DEBUG INFO) Executor start aborting (this does not indicate an error and you can ignore this message): INVALID_ARGUMENT: You must feed a value for placeholder tensor 'inputs' with dtype float and shape [?,300]\n",
      "\t [[{{node inputs}}]]\n",
      "2023-03-29 10:58:35.924144: I tensorflow/core/common_runtime/executor.cc:1197] [/device:CPU:0] (DEBUG INFO) Executor start aborting (this does not indicate an error and you can ignore this message): INVALID_ARGUMENT: You must feed a value for placeholder tensor 'inputs' with dtype float and shape [?,100]\n",
      "\t [[{{node inputs}}]]\n",
      "WARNING:absl:Found untraced functions such as _update_step_xla while saving (showing 1 of 1). These functions will not be directly callable after loading.\n"
     ]
    },
    {
     "name": "stdout",
     "output_type": "stream",
     "text": [
      "INFO:tensorflow:Assets written to: /home/manuelquiros/Documents/Kaggle/House_Prices/MLP2/assets\n"
     ]
    },
    {
     "name": "stderr",
     "output_type": "stream",
     "text": [
      "INFO:tensorflow:Assets written to: /home/manuelquiros/Documents/Kaggle/House_Prices/MLP2/assets\n"
     ]
    },
    {
     "name": "stdout",
     "output_type": "stream",
     "text": [
      "117/117 [==============================] - 1s 6ms/step - loss: 572266176.0000 - root_mean_squared_error: 23922.0859 - val_loss: 668461760.0000 - val_root_mean_squared_error: 25854.6270 - lr: 0.0010\n",
      "Epoch 82/200\n",
      "111/117 [===========================>..] - ETA: 0s - loss: 564137472.0000 - root_mean_squared_error: 23751.5781"
     ]
    },
    {
     "name": "stderr",
     "output_type": "stream",
     "text": [
      "2023-03-29 10:58:36.746218: I tensorflow/core/common_runtime/executor.cc:1197] [/device:CPU:0] (DEBUG INFO) Executor start aborting (this does not indicate an error and you can ignore this message): INVALID_ARGUMENT: You must feed a value for placeholder tensor 'inputs' with dtype float and shape [?,500]\n",
      "\t [[{{node inputs}}]]\n",
      "2023-03-29 10:58:36.755394: I tensorflow/core/common_runtime/executor.cc:1197] [/device:CPU:0] (DEBUG INFO) Executor start aborting (this does not indicate an error and you can ignore this message): INVALID_ARGUMENT: You must feed a value for placeholder tensor 'inputs' with dtype float and shape [?,300]\n",
      "\t [[{{node inputs}}]]\n",
      "2023-03-29 10:58:36.764127: I tensorflow/core/common_runtime/executor.cc:1197] [/device:CPU:0] (DEBUG INFO) Executor start aborting (this does not indicate an error and you can ignore this message): INVALID_ARGUMENT: You must feed a value for placeholder tensor 'inputs' with dtype float and shape [?,100]\n",
      "\t [[{{node inputs}}]]\n",
      "2023-03-29 10:58:36.867655: I tensorflow/core/common_runtime/executor.cc:1197] [/device:CPU:0] (DEBUG INFO) Executor start aborting (this does not indicate an error and you can ignore this message): INVALID_ARGUMENT: You must feed a value for placeholder tensor 'inputs' with dtype float and shape [?,500]\n",
      "\t [[{{node inputs}}]]\n",
      "2023-03-29 10:58:36.888096: I tensorflow/core/common_runtime/executor.cc:1197] [/device:CPU:0] (DEBUG INFO) Executor start aborting (this does not indicate an error and you can ignore this message): INVALID_ARGUMENT: You must feed a value for placeholder tensor 'inputs' with dtype float and shape [?,300]\n",
      "\t [[{{node inputs}}]]\n",
      "2023-03-29 10:58:36.906772: I tensorflow/core/common_runtime/executor.cc:1197] [/device:CPU:0] (DEBUG INFO) Executor start aborting (this does not indicate an error and you can ignore this message): INVALID_ARGUMENT: You must feed a value for placeholder tensor 'inputs' with dtype float and shape [?,100]\n",
      "\t [[{{node inputs}}]]\n",
      "WARNING:absl:Found untraced functions such as _update_step_xla while saving (showing 1 of 1). These functions will not be directly callable after loading.\n"
     ]
    },
    {
     "name": "stdout",
     "output_type": "stream",
     "text": [
      "INFO:tensorflow:Assets written to: /home/manuelquiros/Documents/Kaggle/House_Prices/MLP2/assets\n"
     ]
    },
    {
     "name": "stderr",
     "output_type": "stream",
     "text": [
      "INFO:tensorflow:Assets written to: /home/manuelquiros/Documents/Kaggle/House_Prices/MLP2/assets\n"
     ]
    },
    {
     "name": "stdout",
     "output_type": "stream",
     "text": [
      "117/117 [==============================] - 1s 8ms/step - loss: 556470272.0000 - root_mean_squared_error: 23589.6230 - val_loss: 661264704.0000 - val_root_mean_squared_error: 25715.0684 - lr: 0.0010\n",
      "Epoch 83/200\n",
      "117/117 [==============================] - 0s 2ms/step - loss: 584895552.0000 - root_mean_squared_error: 24184.6133 - val_loss: 706456576.0000 - val_root_mean_squared_error: 26579.2500 - lr: 0.0010\n",
      "Epoch 84/200\n",
      "117/117 [==============================] - 0s 2ms/step - loss: 500090720.0000 - root_mean_squared_error: 22362.7090 - val_loss: 753020288.0000 - val_root_mean_squared_error: 27441.2148 - lr: 0.0010\n",
      "Epoch 85/200\n",
      "117/117 [==============================] - 0s 2ms/step - loss: 569892736.0000 - root_mean_squared_error: 23872.4258 - val_loss: 668128128.0000 - val_root_mean_squared_error: 25848.1738 - lr: 0.0010\n",
      "Epoch 86/200\n",
      "117/117 [==============================] - 0s 2ms/step - loss: 575878400.0000 - root_mean_squared_error: 23997.4668 - val_loss: 718161088.0000 - val_root_mean_squared_error: 26798.5273 - lr: 0.0010\n",
      "Epoch 87/200\n",
      "117/117 [==============================] - 0s 2ms/step - loss: 485342880.0000 - root_mean_squared_error: 22030.4980 - val_loss: 784270656.0000 - val_root_mean_squared_error: 28004.8320 - lr: 0.0010\n",
      "Epoch 88/200\n",
      "117/117 [==============================] - 0s 2ms/step - loss: 533835616.0000 - root_mean_squared_error: 23104.8828 - val_loss: 703395520.0000 - val_root_mean_squared_error: 26521.6055 - lr: 0.0010\n",
      "Epoch 89/200\n",
      "117/117 [==============================] - 0s 2ms/step - loss: 545167680.0000 - root_mean_squared_error: 23348.8262 - val_loss: 700125632.0000 - val_root_mean_squared_error: 26459.8867 - lr: 0.0010\n",
      "Epoch 90/200\n",
      "117/117 [==============================] - 0s 2ms/step - loss: 537052160.0000 - root_mean_squared_error: 23174.3867 - val_loss: 692977728.0000 - val_root_mean_squared_error: 26324.4707 - lr: 0.0010\n",
      "Epoch 91/200\n",
      "117/117 [==============================] - 0s 2ms/step - loss: 550110784.0000 - root_mean_squared_error: 23454.4414 - val_loss: 690558848.0000 - val_root_mean_squared_error: 26278.4863 - lr: 0.0010\n",
      "Epoch 92/200\n",
      "117/117 [==============================] - 0s 2ms/step - loss: 547906880.0000 - root_mean_squared_error: 23407.4102 - val_loss: 718913792.0000 - val_root_mean_squared_error: 26812.5684 - lr: 0.0010\n",
      "Epoch 93/200\n",
      "117/117 [==============================] - 0s 2ms/step - loss: 527900032.0000 - root_mean_squared_error: 22976.0762 - val_loss: 826843200.0000 - val_root_mean_squared_error: 28754.8809 - lr: 0.0010\n",
      "Epoch 94/200\n",
      "117/117 [==============================] - 0s 2ms/step - loss: 490720576.0000 - root_mean_squared_error: 22152.2129 - val_loss: 679914176.0000 - val_root_mean_squared_error: 26075.1641 - lr: 0.0010\n",
      "Epoch 95/200\n",
      "117/117 [==============================] - 0s 2ms/step - loss: 528772096.0000 - root_mean_squared_error: 22995.0449 - val_loss: 682419968.0000 - val_root_mean_squared_error: 26123.1699 - lr: 0.0010\n",
      "Epoch 96/200\n",
      "117/117 [==============================] - 0s 2ms/step - loss: 451655456.0000 - root_mean_squared_error: 21252.1875 - val_loss: 721902912.0000 - val_root_mean_squared_error: 26868.2520 - lr: 0.0010\n",
      "Epoch 97/200\n",
      "117/117 [==============================] - 0s 3ms/step - loss: 533812288.0000 - root_mean_squared_error: 23104.3789 - val_loss: 699541504.0000 - val_root_mean_squared_error: 26448.8477 - lr: 0.0010\n",
      "Epoch 98/200\n",
      "117/117 [==============================] - 0s 2ms/step - loss: 504776224.0000 - root_mean_squared_error: 22467.2246 - val_loss: 680627328.0000 - val_root_mean_squared_error: 26088.8359 - lr: 0.0010\n",
      "Epoch 99/200\n",
      "117/117 [==============================] - 0s 2ms/step - loss: 532547712.0000 - root_mean_squared_error: 23076.9961 - val_loss: 738002176.0000 - val_root_mean_squared_error: 27166.1953 - lr: 0.0010\n",
      "Epoch 100/200\n",
      "117/117 [==============================] - 0s 3ms/step - loss: 527634592.0000 - root_mean_squared_error: 22970.2988 - val_loss: 766799936.0000 - val_root_mean_squared_error: 27691.1523 - lr: 0.0010\n",
      "Epoch 101/200\n",
      "117/117 [==============================] - 0s 3ms/step - loss: 539403520.0000 - root_mean_squared_error: 23225.0625 - val_loss: 716557952.0000 - val_root_mean_squared_error: 26768.5996 - lr: 0.0010\n",
      "Epoch 102/200\n",
      "117/117 [==============================] - 0s 3ms/step - loss: 503367008.0000 - root_mean_squared_error: 22435.8418 - val_loss: 683621376.0000 - val_root_mean_squared_error: 26146.1543 - lr: 0.0010\n",
      "Epoch 103/200\n",
      "117/117 [==============================] - 0s 3ms/step - loss: 463758944.0000 - root_mean_squared_error: 21535.0625 - val_loss: 710406592.0000 - val_root_mean_squared_error: 26653.4531 - lr: 0.0010\n",
      "Epoch 104/200\n",
      "117/117 [==============================] - 0s 3ms/step - loss: 474621568.0000 - root_mean_squared_error: 21785.8105 - val_loss: 735686464.0000 - val_root_mean_squared_error: 27123.5410 - lr: 0.0010\n",
      "Epoch 105/200\n",
      "117/117 [==============================] - 0s 3ms/step - loss: 469655648.0000 - root_mean_squared_error: 21671.5410 - val_loss: 682858240.0000 - val_root_mean_squared_error: 26131.5566 - lr: 0.0010\n",
      "Epoch 106/200\n",
      "117/117 [==============================] - 0s 3ms/step - loss: 493000096.0000 - root_mean_squared_error: 22203.6055 - val_loss: 661821888.0000 - val_root_mean_squared_error: 25725.8984 - lr: 0.0010\n",
      "Epoch 107/200\n",
      "117/117 [==============================] - 0s 3ms/step - loss: 486402496.0000 - root_mean_squared_error: 22054.5352 - val_loss: 716592896.0000 - val_root_mean_squared_error: 26769.2520 - lr: 0.0010\n",
      "Epoch 108/200\n",
      "117/117 [==============================] - 0s 3ms/step - loss: 479061600.0000 - root_mean_squared_error: 21887.4766 - val_loss: 715631488.0000 - val_root_mean_squared_error: 26751.2891 - lr: 0.0010\n",
      "Epoch 109/200\n",
      "117/117 [==============================] - 0s 2ms/step - loss: 455136544.0000 - root_mean_squared_error: 21333.9297 - val_loss: 697107648.0000 - val_root_mean_squared_error: 26402.7969 - lr: 0.0010\n",
      "Epoch 110/200\n",
      "117/117 [==============================] - 0s 3ms/step - loss: 452748576.0000 - root_mean_squared_error: 21277.8887 - val_loss: 685405056.0000 - val_root_mean_squared_error: 26180.2422 - lr: 0.0010\n",
      "Epoch 111/200\n",
      "117/117 [==============================] - 0s 3ms/step - loss: 457933440.0000 - root_mean_squared_error: 21399.3789 - val_loss: 858392640.0000 - val_root_mean_squared_error: 29298.3379 - lr: 0.0010\n",
      "Epoch 112/200\n",
      "117/117 [==============================] - 0s 3ms/step - loss: 445883648.0000 - root_mean_squared_error: 21115.9570 - val_loss: 720237632.0000 - val_root_mean_squared_error: 26837.2441 - lr: 2.0000e-04\n",
      "Epoch 113/200\n",
      "117/117 [==============================] - 0s 3ms/step - loss: 470739968.0000 - root_mean_squared_error: 21696.5430 - val_loss: 716579584.0000 - val_root_mean_squared_error: 26769.0039 - lr: 2.0000e-04\n",
      "Epoch 114/200\n",
      "117/117 [==============================] - 0s 3ms/step - loss: 413762464.0000 - root_mean_squared_error: 20341.1523 - val_loss: 729711424.0000 - val_root_mean_squared_error: 27013.1719 - lr: 2.0000e-04\n",
      "Epoch 115/200\n",
      "117/117 [==============================] - 0s 2ms/step - loss: 417851584.0000 - root_mean_squared_error: 20441.4180 - val_loss: 696707200.0000 - val_root_mean_squared_error: 26395.2109 - lr: 2.0000e-04\n",
      "Epoch 116/200\n",
      "117/117 [==============================] - 0s 2ms/step - loss: 431297792.0000 - root_mean_squared_error: 20767.7109 - val_loss: 696415168.0000 - val_root_mean_squared_error: 26389.6797 - lr: 2.0000e-04\n",
      "Epoch 117/200\n",
      "117/117 [==============================] - 0s 2ms/step - loss: 430172768.0000 - root_mean_squared_error: 20740.6074 - val_loss: 698177664.0000 - val_root_mean_squared_error: 26423.0508 - lr: 2.0000e-04\n",
      "Epoch 118/200\n",
      "117/117 [==============================] - 0s 2ms/step - loss: 446777824.0000 - root_mean_squared_error: 21137.1191 - val_loss: 715456064.0000 - val_root_mean_squared_error: 26748.0098 - lr: 2.0000e-04\n",
      "Epoch 119/200\n",
      "117/117 [==============================] - 0s 2ms/step - loss: 449211552.0000 - root_mean_squared_error: 21194.6113 - val_loss: 730172544.0000 - val_root_mean_squared_error: 27021.7051 - lr: 2.0000e-04\n",
      "Epoch 120/200\n",
      "117/117 [==============================] - 0s 2ms/step - loss: 432741024.0000 - root_mean_squared_error: 20802.4277 - val_loss: 692982976.0000 - val_root_mean_squared_error: 26324.5703 - lr: 2.0000e-04\n",
      "Epoch 121/200\n",
      "117/117 [==============================] - 0s 2ms/step - loss: 419157536.0000 - root_mean_squared_error: 20473.3379 - val_loss: 701056384.0000 - val_root_mean_squared_error: 26477.4688 - lr: 2.0000e-04\n",
      "Epoch 122/200\n",
      "117/117 [==============================] - 0s 3ms/step - loss: 399327360.0000 - root_mean_squared_error: 19983.1777 - val_loss: 720606208.0000 - val_root_mean_squared_error: 26844.1094 - lr: 2.0000e-04\n",
      "Epoch 123/200\n",
      "117/117 [==============================] - 0s 2ms/step - loss: 476692576.0000 - root_mean_squared_error: 21833.2910 - val_loss: 707799424.0000 - val_root_mean_squared_error: 26604.5000 - lr: 2.0000e-04\n",
      "Epoch 124/200\n",
      "117/117 [==============================] - 0s 2ms/step - loss: 419905248.0000 - root_mean_squared_error: 20491.5898 - val_loss: 710447040.0000 - val_root_mean_squared_error: 26654.2129 - lr: 2.0000e-04\n",
      "Epoch 125/200\n",
      "117/117 [==============================] - 0s 2ms/step - loss: 491038016.0000 - root_mean_squared_error: 22159.3770 - val_loss: 730760384.0000 - val_root_mean_squared_error: 27032.5801 - lr: 2.0000e-04\n",
      "Epoch 126/200\n",
      "117/117 [==============================] - 0s 2ms/step - loss: 415025568.0000 - root_mean_squared_error: 20372.1758 - val_loss: 717620352.0000 - val_root_mean_squared_error: 26788.4375 - lr: 2.0000e-04\n",
      "Epoch 127/200\n",
      "117/117 [==============================] - 0s 2ms/step - loss: 443959200.0000 - root_mean_squared_error: 21070.3398 - val_loss: 720627136.0000 - val_root_mean_squared_error: 26844.5000 - lr: 2.0000e-04\n",
      "Epoch 128/200\n",
      "117/117 [==============================] - 0s 2ms/step - loss: 429545856.0000 - root_mean_squared_error: 20725.4883 - val_loss: 707319488.0000 - val_root_mean_squared_error: 26595.4785 - lr: 2.0000e-04\n",
      "Epoch 129/200\n",
      "117/117 [==============================] - 0s 2ms/step - loss: 421198368.0000 - root_mean_squared_error: 20523.1172 - val_loss: 696849600.0000 - val_root_mean_squared_error: 26397.9082 - lr: 2.0000e-04\n",
      "Epoch 130/200\n",
      "117/117 [==============================] - 0s 2ms/step - loss: 420175904.0000 - root_mean_squared_error: 20498.1934 - val_loss: 714617088.0000 - val_root_mean_squared_error: 26732.3223 - lr: 2.0000e-04\n",
      "Epoch 131/200\n",
      "117/117 [==============================] - 0s 2ms/step - loss: 420722816.0000 - root_mean_squared_error: 20511.5293 - val_loss: 715281792.0000 - val_root_mean_squared_error: 26744.7520 - lr: 2.0000e-04\n",
      "Epoch 132/200\n",
      "117/117 [==============================] - 0s 2ms/step - loss: 433889504.0000 - root_mean_squared_error: 20830.0137 - val_loss: 739032384.0000 - val_root_mean_squared_error: 27185.1504 - lr: 2.0000e-04\n",
      "Epoch 133/200\n",
      "117/117 [==============================] - 0s 2ms/step - loss: 439138624.0000 - root_mean_squared_error: 20955.6348 - val_loss: 739957888.0000 - val_root_mean_squared_error: 27202.1660 - lr: 2.0000e-04\n",
      "Epoch 134/200\n",
      "117/117 [==============================] - 0s 2ms/step - loss: 488256352.0000 - root_mean_squared_error: 22096.5234 - val_loss: 710286464.0000 - val_root_mean_squared_error: 26651.1992 - lr: 2.0000e-04\n",
      "Epoch 135/200\n",
      "117/117 [==============================] - 0s 2ms/step - loss: 415491488.0000 - root_mean_squared_error: 20383.6074 - val_loss: 706761984.0000 - val_root_mean_squared_error: 26584.9961 - lr: 2.0000e-04\n",
      "Epoch 136/200\n",
      "117/117 [==============================] - 0s 2ms/step - loss: 382440032.0000 - root_mean_squared_error: 19556.0742 - val_loss: 698419392.0000 - val_root_mean_squared_error: 26427.6250 - lr: 2.0000e-04\n",
      "Epoch 137/200\n",
      "117/117 [==============================] - 0s 2ms/step - loss: 379290304.0000 - root_mean_squared_error: 19475.3770 - val_loss: 733298112.0000 - val_root_mean_squared_error: 27079.4785 - lr: 2.0000e-04\n",
      "Epoch 138/200\n",
      "117/117 [==============================] - 0s 2ms/step - loss: 423734496.0000 - root_mean_squared_error: 20584.8125 - val_loss: 697425472.0000 - val_root_mean_squared_error: 26408.8145 - lr: 2.0000e-04\n",
      "Epoch 139/200\n",
      "117/117 [==============================] - 0s 2ms/step - loss: 416152128.0000 - root_mean_squared_error: 20399.8066 - val_loss: 718923904.0000 - val_root_mean_squared_error: 26812.7559 - lr: 2.0000e-04\n",
      "Epoch 140/200\n",
      "117/117 [==============================] - 0s 2ms/step - loss: 391611744.0000 - root_mean_squared_error: 19789.1816 - val_loss: 699747904.0000 - val_root_mean_squared_error: 26452.7480 - lr: 2.0000e-04\n",
      "Epoch 141/200\n",
      "117/117 [==============================] - 0s 2ms/step - loss: 428440736.0000 - root_mean_squared_error: 20698.8105 - val_loss: 694600832.0000 - val_root_mean_squared_error: 26355.2812 - lr: 2.0000e-04\n",
      "Epoch 142/200\n",
      "117/117 [==============================] - 0s 2ms/step - loss: 423804320.0000 - root_mean_squared_error: 20586.5078 - val_loss: 696256448.0000 - val_root_mean_squared_error: 26386.6719 - lr: 2.0000e-04\n",
      "Epoch 143/200\n",
      "117/117 [==============================] - 0s 2ms/step - loss: 424222208.0000 - root_mean_squared_error: 20596.6543 - val_loss: 692872640.0000 - val_root_mean_squared_error: 26322.4746 - lr: 2.0000e-04\n",
      "Epoch 144/200\n",
      "117/117 [==============================] - 0s 2ms/step - loss: 405830624.0000 - root_mean_squared_error: 20145.2383 - val_loss: 684809792.0000 - val_root_mean_squared_error: 26168.8711 - lr: 2.0000e-04\n",
      "Epoch 145/200\n",
      "117/117 [==============================] - 0s 2ms/step - loss: 405480576.0000 - root_mean_squared_error: 20136.5488 - val_loss: 715615040.0000 - val_root_mean_squared_error: 26750.9824 - lr: 2.0000e-04\n",
      "Epoch 146/200\n",
      "117/117 [==============================] - 0s 2ms/step - loss: 442023488.0000 - root_mean_squared_error: 21024.3555 - val_loss: 758634048.0000 - val_root_mean_squared_error: 27543.3125 - lr: 2.0000e-04\n",
      "Epoch 147/200\n",
      "117/117 [==============================] - 0s 2ms/step - loss: 390530016.0000 - root_mean_squared_error: 19761.8320 - val_loss: 710050112.0000 - val_root_mean_squared_error: 26646.7656 - lr: 2.0000e-04\n",
      "Epoch 148/200\n",
      "117/117 [==============================] - 0s 2ms/step - loss: 424660032.0000 - root_mean_squared_error: 20607.2812 - val_loss: 688939520.0000 - val_root_mean_squared_error: 26247.6582 - lr: 2.0000e-04\n",
      "Epoch 149/200\n",
      "117/117 [==============================] - 0s 2ms/step - loss: 423155840.0000 - root_mean_squared_error: 20570.7520 - val_loss: 726573696.0000 - val_root_mean_squared_error: 26955.0312 - lr: 2.0000e-04\n",
      "Epoch 150/200\n",
      "117/117 [==============================] - 0s 2ms/step - loss: 401248000.0000 - root_mean_squared_error: 20031.1758 - val_loss: 717830720.0000 - val_root_mean_squared_error: 26792.3633 - lr: 2.0000e-04\n",
      "Epoch 151/200\n",
      "117/117 [==============================] - 0s 2ms/step - loss: 384830880.0000 - root_mean_squared_error: 19617.1074 - val_loss: 732008064.0000 - val_root_mean_squared_error: 27055.6484 - lr: 2.0000e-04\n",
      "Epoch 152/200\n",
      "117/117 [==============================] - 0s 2ms/step - loss: 418099424.0000 - root_mean_squared_error: 20447.4805 - val_loss: 716509632.0000 - val_root_mean_squared_error: 26767.6973 - lr: 2.0000e-04\n",
      "Epoch 153/200\n",
      "117/117 [==============================] - 0s 2ms/step - loss: 397885856.0000 - root_mean_squared_error: 19947.0762 - val_loss: 716773824.0000 - val_root_mean_squared_error: 26772.6328 - lr: 4.0000e-05\n",
      "Epoch 154/200\n",
      "117/117 [==============================] - 0s 2ms/step - loss: 398259296.0000 - root_mean_squared_error: 19956.4355 - val_loss: 710162240.0000 - val_root_mean_squared_error: 26648.8691 - lr: 4.0000e-05\n",
      "Epoch 155/200\n",
      "117/117 [==============================] - 0s 2ms/step - loss: 395057344.0000 - root_mean_squared_error: 19876.0488 - val_loss: 714025216.0000 - val_root_mean_squared_error: 26721.2500 - lr: 4.0000e-05\n",
      "Epoch 156/200\n",
      "117/117 [==============================] - 0s 2ms/step - loss: 367944896.0000 - root_mean_squared_error: 19181.8906 - val_loss: 712595584.0000 - val_root_mean_squared_error: 26694.4863 - lr: 4.0000e-05\n",
      "Epoch 157/200\n",
      "117/117 [==============================] - 0s 3ms/step - loss: 399378656.0000 - root_mean_squared_error: 19984.4609 - val_loss: 710461056.0000 - val_root_mean_squared_error: 26654.4746 - lr: 4.0000e-05\n",
      "Epoch 158/200\n",
      "117/117 [==============================] - 0s 3ms/step - loss: 390418048.0000 - root_mean_squared_error: 19759.0000 - val_loss: 715730496.0000 - val_root_mean_squared_error: 26753.1406 - lr: 4.0000e-05\n",
      "Epoch 159/200\n",
      "117/117 [==============================] - 0s 2ms/step - loss: 460754400.0000 - root_mean_squared_error: 21465.1895 - val_loss: 710292288.0000 - val_root_mean_squared_error: 26651.3086 - lr: 4.0000e-05\n",
      "Epoch 160/200\n",
      "117/117 [==============================] - 0s 2ms/step - loss: 395626048.0000 - root_mean_squared_error: 19890.3516 - val_loss: 715714176.0000 - val_root_mean_squared_error: 26752.8340 - lr: 4.0000e-05\n",
      "Epoch 161/200\n",
      "117/117 [==============================] - 0s 2ms/step - loss: 408998752.0000 - root_mean_squared_error: 20223.7168 - val_loss: 709188672.0000 - val_root_mean_squared_error: 26630.5957 - lr: 4.0000e-05\n",
      "Epoch 162/200\n",
      "117/117 [==============================] - 0s 2ms/step - loss: 391131808.0000 - root_mean_squared_error: 19777.0527 - val_loss: 714555520.0000 - val_root_mean_squared_error: 26731.1719 - lr: 4.0000e-05\n",
      "Epoch 163/200\n",
      "117/117 [==============================] - 0s 2ms/step - loss: 404987360.0000 - root_mean_squared_error: 20124.2969 - val_loss: 711374400.0000 - val_root_mean_squared_error: 26671.6035 - lr: 4.0000e-05\n",
      "Epoch 164/200\n",
      "117/117 [==============================] - 0s 2ms/step - loss: 386633920.0000 - root_mean_squared_error: 19663.0098 - val_loss: 705519104.0000 - val_root_mean_squared_error: 26561.6094 - lr: 4.0000e-05\n",
      "Epoch 165/200\n",
      "117/117 [==============================] - 0s 2ms/step - loss: 421951040.0000 - root_mean_squared_error: 20541.4473 - val_loss: 703505088.0000 - val_root_mean_squared_error: 26523.6699 - lr: 4.0000e-05\n",
      "Epoch 166/200\n",
      "117/117 [==============================] - 0s 2ms/step - loss: 410425536.0000 - root_mean_squared_error: 20258.9609 - val_loss: 704374464.0000 - val_root_mean_squared_error: 26540.0547 - lr: 4.0000e-05\n",
      "Epoch 167/200\n",
      "117/117 [==============================] - 0s 2ms/step - loss: 418806144.0000 - root_mean_squared_error: 20464.7539 - val_loss: 706831616.0000 - val_root_mean_squared_error: 26586.3047 - lr: 4.0000e-05\n",
      "Epoch 168/200\n",
      "117/117 [==============================] - 0s 2ms/step - loss: 433391424.0000 - root_mean_squared_error: 20818.0547 - val_loss: 698253312.0000 - val_root_mean_squared_error: 26424.4824 - lr: 4.0000e-05\n",
      "Epoch 169/200\n",
      "117/117 [==============================] - 0s 2ms/step - loss: 413872512.0000 - root_mean_squared_error: 20343.8574 - val_loss: 704211904.0000 - val_root_mean_squared_error: 26536.9922 - lr: 4.0000e-05\n",
      "Epoch 170/200\n",
      "117/117 [==============================] - 0s 2ms/step - loss: 415728224.0000 - root_mean_squared_error: 20389.4141 - val_loss: 712358976.0000 - val_root_mean_squared_error: 26690.0547 - lr: 4.0000e-05\n",
      "Epoch 171/200\n",
      "117/117 [==============================] - 0s 2ms/step - loss: 383668000.0000 - root_mean_squared_error: 19587.4453 - val_loss: 706487424.0000 - val_root_mean_squared_error: 26579.8320 - lr: 4.0000e-05\n",
      "Epoch 172/200\n",
      "117/117 [==============================] - 0s 2ms/step - loss: 389685664.0000 - root_mean_squared_error: 19740.4570 - val_loss: 706863552.0000 - val_root_mean_squared_error: 26586.9062 - lr: 8.0000e-06\n",
      "Epoch 173/200\n",
      "117/117 [==============================] - 0s 2ms/step - loss: 418591264.0000 - root_mean_squared_error: 20459.5039 - val_loss: 706634368.0000 - val_root_mean_squared_error: 26582.5957 - lr: 8.0000e-06\n",
      "Epoch 174/200\n",
      "117/117 [==============================] - 0s 2ms/step - loss: 378783168.0000 - root_mean_squared_error: 19462.3535 - val_loss: 707713152.0000 - val_root_mean_squared_error: 26602.8789 - lr: 8.0000e-06\n",
      "Epoch 175/200\n",
      "117/117 [==============================] - 0s 2ms/step - loss: 397888928.0000 - root_mean_squared_error: 19947.1543 - val_loss: 706696384.0000 - val_root_mean_squared_error: 26583.7617 - lr: 8.0000e-06\n",
      "Epoch 176/200\n",
      "117/117 [==============================] - 0s 2ms/step - loss: 416186304.0000 - root_mean_squared_error: 20400.6445 - val_loss: 707456832.0000 - val_root_mean_squared_error: 26598.0605 - lr: 8.0000e-06\n",
      "Epoch 177/200\n",
      "117/117 [==============================] - 0s 2ms/step - loss: 408778112.0000 - root_mean_squared_error: 20218.2617 - val_loss: 706965376.0000 - val_root_mean_squared_error: 26588.8203 - lr: 8.0000e-06\n",
      "Epoch 178/200\n",
      "117/117 [==============================] - 0s 2ms/step - loss: 387966848.0000 - root_mean_squared_error: 19696.8750 - val_loss: 708061824.0000 - val_root_mean_squared_error: 26609.4316 - lr: 8.0000e-06\n",
      "Epoch 179/200\n",
      "117/117 [==============================] - 0s 2ms/step - loss: 398883872.0000 - root_mean_squared_error: 19972.0781 - val_loss: 706898560.0000 - val_root_mean_squared_error: 26587.5645 - lr: 8.0000e-06\n",
      "Epoch 180/200\n",
      "117/117 [==============================] - 0s 2ms/step - loss: 423954464.0000 - root_mean_squared_error: 20590.1543 - val_loss: 707831296.0000 - val_root_mean_squared_error: 26605.0996 - lr: 8.0000e-06\n",
      "Epoch 181/200\n",
      "117/117 [==============================] - 0s 2ms/step - loss: 377927040.0000 - root_mean_squared_error: 19440.3457 - val_loss: 707768192.0000 - val_root_mean_squared_error: 26603.9141 - lr: 8.0000e-06\n",
      "Epoch 182/200\n",
      "117/117 [==============================] - 0s 2ms/step - loss: 427840576.0000 - root_mean_squared_error: 20684.3066 - val_loss: 707817216.0000 - val_root_mean_squared_error: 26604.8340 - lr: 8.0000e-06\n",
      "Epoch 183/200\n",
      "117/117 [==============================] - 0s 2ms/step - loss: 403008800.0000 - root_mean_squared_error: 20075.0781 - val_loss: 707205824.0000 - val_root_mean_squared_error: 26593.3418 - lr: 8.0000e-06\n",
      "Epoch 184/200\n",
      "117/117 [==============================] - 0s 2ms/step - loss: 398889600.0000 - root_mean_squared_error: 19972.2207 - val_loss: 705979200.0000 - val_root_mean_squared_error: 26570.2695 - lr: 8.0000e-06\n",
      "Epoch 185/200\n",
      "117/117 [==============================] - 0s 2ms/step - loss: 416247264.0000 - root_mean_squared_error: 20402.1387 - val_loss: 705558656.0000 - val_root_mean_squared_error: 26562.3535 - lr: 8.0000e-06\n",
      "Epoch 186/200\n",
      "117/117 [==============================] - 0s 2ms/step - loss: 392973632.0000 - root_mean_squared_error: 19823.5625 - val_loss: 706460352.0000 - val_root_mean_squared_error: 26579.3223 - lr: 8.0000e-06\n",
      "Epoch 187/200\n",
      "117/117 [==============================] - 0s 2ms/step - loss: 362325120.0000 - root_mean_squared_error: 19034.8398 - val_loss: 706792640.0000 - val_root_mean_squared_error: 26585.5723 - lr: 1.6000e-06\n",
      "Epoch 188/200\n",
      "117/117 [==============================] - 0s 2ms/step - loss: 376293920.0000 - root_mean_squared_error: 19398.2969 - val_loss: 707078016.0000 - val_root_mean_squared_error: 26590.9395 - lr: 1.6000e-06\n",
      "Epoch 189/200\n",
      "117/117 [==============================] - 0s 3ms/step - loss: 408912544.0000 - root_mean_squared_error: 20221.5859 - val_loss: 706641920.0000 - val_root_mean_squared_error: 26582.7363 - lr: 1.6000e-06\n",
      "Epoch 190/200\n",
      "117/117 [==============================] - 0s 3ms/step - loss: 387284256.0000 - root_mean_squared_error: 19679.5391 - val_loss: 706648832.0000 - val_root_mean_squared_error: 26582.8672 - lr: 1.6000e-06\n",
      "Epoch 191/200\n",
      "117/117 [==============================] - 0s 3ms/step - loss: 392929568.0000 - root_mean_squared_error: 19822.4512 - val_loss: 706301248.0000 - val_root_mean_squared_error: 26576.3281 - lr: 1.6000e-06\n",
      "Epoch 192/200\n",
      "117/117 [==============================] - 0s 3ms/step - loss: 398214560.0000 - root_mean_squared_error: 19955.3145 - val_loss: 706328128.0000 - val_root_mean_squared_error: 26576.8340 - lr: 1.6000e-06\n",
      "Epoch 193/200\n",
      "117/117 [==============================] - 0s 2ms/step - loss: 426410048.0000 - root_mean_squared_error: 20649.6992 - val_loss: 706275264.0000 - val_root_mean_squared_error: 26575.8398 - lr: 1.6000e-06\n",
      "Epoch 194/200\n",
      "117/117 [==============================] - 0s 2ms/step - loss: 401310528.0000 - root_mean_squared_error: 20032.7363 - val_loss: 706516224.0000 - val_root_mean_squared_error: 26580.3730 - lr: 1.6000e-06\n",
      "Epoch 195/200\n",
      "117/117 [==============================] - 0s 2ms/step - loss: 399480896.0000 - root_mean_squared_error: 19987.0176 - val_loss: 706611840.0000 - val_root_mean_squared_error: 26582.1719 - lr: 1.6000e-06\n",
      "Epoch 196/200\n",
      "117/117 [==============================] - 0s 2ms/step - loss: 439342400.0000 - root_mean_squared_error: 20960.4961 - val_loss: 706897920.0000 - val_root_mean_squared_error: 26587.5527 - lr: 1.6000e-06\n",
      "Epoch 197/200\n",
      "117/117 [==============================] - 0s 2ms/step - loss: 438206560.0000 - root_mean_squared_error: 20933.3848 - val_loss: 707295808.0000 - val_root_mean_squared_error: 26595.0332 - lr: 1.6000e-06\n",
      "Epoch 198/200\n",
      "117/117 [==============================] - 0s 2ms/step - loss: 407573248.0000 - root_mean_squared_error: 20188.4434 - val_loss: 707472256.0000 - val_root_mean_squared_error: 26598.3516 - lr: 1.6000e-06\n",
      "Epoch 199/200\n",
      "117/117 [==============================] - 0s 3ms/step - loss: 400685696.0000 - root_mean_squared_error: 20017.1348 - val_loss: 707592640.0000 - val_root_mean_squared_error: 26600.6133 - lr: 1.6000e-06\n",
      "Epoch 200/200\n",
      "117/117 [==============================] - 0s 2ms/step - loss: 411865376.0000 - root_mean_squared_error: 20294.4668 - val_loss: 707417408.0000 - val_root_mean_squared_error: 26597.3203 - lr: 1.6000e-06\n"
     ]
    }
   ],
   "source": [
    "history = model.fit(\n",
    "  X_train[:,feat_mask], \n",
    "  y_train, \n",
    "  epochs=200, \n",
    "  batch_size=8, \n",
    "  validation_split=0.2,\n",
    "  callbacks=[cp2,lr,tb2]\n",
    ")"
   ]
  },
  {
   "cell_type": "code",
   "execution_count": 90,
   "metadata": {},
   "outputs": [],
   "source": [
    "model = keras.models.load_model('MLP2/')"
   ]
  },
  {
   "cell_type": "code",
   "execution_count": 91,
   "metadata": {},
   "outputs": [
    {
     "name": "stdout",
     "output_type": "stream",
     "text": [
      "Model: \"sequential_2\"\n",
      "_________________________________________________________________\n",
      " Layer (type)                Output Shape              Param #   \n",
      "=================================================================\n",
      " dense_8 (Dense)             (None, 500)               19500     \n",
      "                                                                 \n",
      " dropout_6 (Dropout)         (None, 500)               0         \n",
      "                                                                 \n",
      " dense_9 (Dense)             (None, 300)               150300    \n",
      "                                                                 \n",
      " dropout_7 (Dropout)         (None, 300)               0         \n",
      "                                                                 \n",
      " dense_10 (Dense)            (None, 100)               30100     \n",
      "                                                                 \n",
      " dropout_8 (Dropout)         (None, 100)               0         \n",
      "                                                                 \n",
      " dense_11 (Dense)            (None, 1)                 101       \n",
      "                                                                 \n",
      "=================================================================\n",
      "Total params: 200,001\n",
      "Trainable params: 200,001\n",
      "Non-trainable params: 0\n",
      "_________________________________________________________________\n"
     ]
    }
   ],
   "source": [
    "model.summary()"
   ]
  },
  {
   "cell_type": "code",
   "execution_count": 167,
   "metadata": {},
   "outputs": [
    {
     "name": "stdout",
     "output_type": "stream",
     "text": [
      "37/37 [==============================] - 0s 645us/step\n",
      "10/10 [==============================] - 0s 804us/step\n",
      "MSE train MLP= 12958.084004555636\n",
      "MSE test MLP= 28872.46751670689\n"
     ]
    }
   ],
   "source": [
    "mlp_train_pred=model.predict(X_train[:,feat_mask])\n",
    "mlp_test_pred=model.predict(X_test[:,feat_mask])\n",
    "print('MSE train MLP=' , mean_squared_error(y_train,mlp_train_pred, squared=False))\n",
    "print('MSE test MLP=' , mean_squared_error(y_test,mlp_test_pred, squared=False))"
   ]
  },
  {
   "cell_type": "code",
   "execution_count": 92,
   "metadata": {},
   "outputs": [
    {
     "name": "stdout",
     "output_type": "stream",
     "text": [
      "37/37 [==============================] - 0s 825us/step\n",
      "10/10 [==============================] - 0s 896us/step\n",
      "MSE train MLP2= 21758.481154262252\n",
      "MSE test MLP2= 27878.915944073007\n"
     ]
    }
   ],
   "source": [
    "mlp_train_pred=model.predict(X_train[:,feat_mask])\n",
    "mlp_test_pred=model.predict(X_test[:,feat_mask])\n",
    "print('MSE train MLP2=' , mean_squared_error(y_train,mlp_train_pred, squared=False))\n",
    "print('MSE test MLP2=' , mean_squared_error(y_test,mlp_test_pred, squared=False))"
   ]
  },
  {
   "cell_type": "code",
   "execution_count": 168,
   "metadata": {},
   "outputs": [
    {
     "data": {
      "text/plain": [
       "(1168, 249)"
      ]
     },
     "execution_count": 168,
     "metadata": {},
     "output_type": "execute_result"
    }
   ],
   "source": [
    "X_train.shape"
   ]
  },
  {
   "cell_type": "code",
   "execution_count": 174,
   "metadata": {},
   "outputs": [
    {
     "data": {
      "text/plain": [
       "(1459, 249)"
      ]
     },
     "execution_count": 174,
     "metadata": {},
     "output_type": "execute_result"
    }
   ],
   "source": [
    "test_df.shape"
   ]
  },
  {
   "cell_type": "code",
   "execution_count": 93,
   "metadata": {},
   "outputs": [
    {
     "name": "stdout",
     "output_type": "stream",
     "text": [
      "46/46 [==============================] - 0s 731us/step\n"
     ]
    }
   ],
   "source": [
    "mlp_test_submission_pred=model.predict(test_df[:,feat_mask])"
   ]
  },
  {
   "cell_type": "code",
   "execution_count": 94,
   "metadata": {},
   "outputs": [
    {
     "data": {
      "text/plain": [
       "array([[131306.89],\n",
       "       [158518.45],\n",
       "       [186921.84],\n",
       "       ...,\n",
       "       [212199.8 ],\n",
       "       [110690.92],\n",
       "       [240291.73]], dtype=float32)"
      ]
     },
     "execution_count": 94,
     "metadata": {},
     "output_type": "execute_result"
    }
   ],
   "source": [
    "mlp_test_submission_pred"
   ]
  },
  {
   "cell_type": "code",
   "execution_count": 95,
   "metadata": {},
   "outputs": [],
   "source": [
    "submission=pd.DataFrame(columns=['Id','SalePrice'])"
   ]
  },
  {
   "cell_type": "code",
   "execution_count": 96,
   "metadata": {},
   "outputs": [],
   "source": [
    "submission['Id']=np.arange(1461,(1461+1459))"
   ]
  },
  {
   "cell_type": "code",
   "execution_count": 97,
   "metadata": {},
   "outputs": [],
   "source": [
    "submission['SalePrice']=mlp_test_submission_pred"
   ]
  },
  {
   "cell_type": "code",
   "execution_count": 98,
   "metadata": {},
   "outputs": [],
   "source": [
    "submission.to_csv('submission.csv',index=False)"
   ]
  },
  {
   "cell_type": "code",
   "execution_count": null,
   "metadata": {},
   "outputs": [],
   "source": []
  }
 ],
 "metadata": {
  "kernelspec": {
   "display_name": "KaggleTitanic",
   "language": "python",
   "name": "python3"
  },
  "language_info": {
   "codemirror_mode": {
    "name": "ipython",
    "version": 3
   },
   "file_extension": ".py",
   "mimetype": "text/x-python",
   "name": "python",
   "nbconvert_exporter": "python",
   "pygments_lexer": "ipython3",
   "version": "3.10.6"
  },
  "orig_nbformat": 4,
  "vscode": {
   "interpreter": {
    "hash": "83474ebaa8787261e8f0a20780c8c281efc65626e2789404694a95483fbffde8"
   }
  }
 },
 "nbformat": 4,
 "nbformat_minor": 2
}
